{
  "nbformat": 4,
  "nbformat_minor": 0,
  "metadata": {
    "colab": {
      "name": "BBC_Summarization_with_BERT.ipynb",
      "version": "0.3.2",
      "provenance": [],
      "collapsed_sections": [
        "ITomj4yqEyN0",
        "x9JOSAosE58s",
        "RpcNXP61B3ni"
      ],
      "include_colab_link": true
    },
    "kernelspec": {
      "name": "python3",
      "display_name": "Python 3"
    },
    "accelerator": "GPU"
  },
  "cells": [
    {
      "cell_type": "markdown",
      "metadata": {
        "id": "view-in-github",
        "colab_type": "text"
      },
      "source": [
        "<a href=\"https://colab.research.google.com/github/ZeroLeon/NLP_Project_with_FastAI/blob/master/BBC_Summarization_with_BERT.ipynb\" target=\"_parent\"><img src=\"https://colab.research.google.com/assets/colab-badge.svg\" alt=\"Open In Colab\"/></a>"
      ]
    },
    {
      "cell_type": "markdown",
      "metadata": {
        "id": "7qMx4b7vodzL",
        "colab_type": "text"
      },
      "source": [
        "# BBC News Summarization with BERT"
      ]
    },
    {
      "cell_type": "markdown",
      "metadata": {
        "id": "d2tjx2xMHf_B",
        "colab_type": "text"
      },
      "source": [
        "## Use tools from this [repo](https://github.com/dmmiller612/bert-extractive-summarizer)"
      ]
    },
    {
      "cell_type": "markdown",
      "metadata": {
        "id": "kwbCylWlHlY1",
        "colab_type": "text"
      },
      "source": [
        "**Bert Extractive Summarizer by Derek Miller**"
      ]
    },
    {
      "cell_type": "code",
      "metadata": {
        "id": "9ygq9RLZok3c",
        "colab_type": "code",
        "outputId": "36ee79e2-29b4-4449-ad81-89c2cd7d569f",
        "colab": {
          "base_uri": "https://localhost:8080/",
          "height": 34
        }
      },
      "source": [
        "import os \n",
        "from pathlib import Path\n",
        "from google.colab import drive\n",
        "drive.mount('/content/gdrive',force_remount = True)\n",
        "base_dir = '/content/gdrive/My Drive/fastai'\n",
        "path = Path(base_dir +'/data/')\n",
        "path.mkdir(parents=True,exist_ok=True) \n",
        "os.chdir(path)"
      ],
      "execution_count": 15,
      "outputs": [
        {
          "output_type": "stream",
          "text": [
            "Mounted at /content/gdrive\n"
          ],
          "name": "stdout"
        }
      ]
    },
    {
      "cell_type": "code",
      "metadata": {
        "id": "GV2XEDRyDHCq",
        "colab_type": "code",
        "colab": {}
      },
      "source": [
        "import glob"
      ],
      "execution_count": 0,
      "outputs": []
    },
    {
      "cell_type": "code",
      "metadata": {
        "id": "8ZON_I-Jqku-",
        "colab_type": "code",
        "outputId": "38a7b451-e88b-4d77-86b3-30b06d2ad63e",
        "colab": {
          "base_uri": "https://localhost:8080/",
          "height": 34
        }
      },
      "source": [
        "%cd BBC_Summarization"
      ],
      "execution_count": 17,
      "outputs": [
        {
          "output_type": "stream",
          "text": [
            "/content/gdrive/My Drive/fastai/data/BBC_Summarization\n"
          ],
          "name": "stdout"
        }
      ]
    },
    {
      "cell_type": "code",
      "metadata": {
        "id": "O-kEMW3QlOJs",
        "colab_type": "code",
        "colab": {}
      },
      "source": [
        "!pip install spacy==2.1.3\n",
        "!pip install bert-extractive-summarizer"
      ],
      "execution_count": 0,
      "outputs": []
    },
    {
      "cell_type": "code",
      "metadata": {
        "id": "w0rUeI-Xq3G6",
        "colab_type": "code",
        "outputId": "dc9d9d9b-524a-4840-f470-ecc87954df2a",
        "colab": {
          "base_uri": "https://localhost:8080/",
          "height": 34
        }
      },
      "source": [
        "from summarizer import SingleModel"
      ],
      "execution_count": 5,
      "outputs": [
        {
          "output_type": "stream",
          "text": [
            "100%|██████████| 40155833/40155833 [00:01<00:00, 24303796.42B/s]\n"
          ],
          "name": "stderr"
        }
      ]
    },
    {
      "cell_type": "code",
      "metadata": {
        "id": "4L4NgrG5lJZ_",
        "colab_type": "code",
        "colab": {
          "base_uri": "https://localhost:8080/",
          "height": 52
        },
        "outputId": "833a62fa-573b-43de-eb98-b41c40a24d8e"
      },
      "source": [
        "model = SingleModel('bert-base-uncased')"
      ],
      "execution_count": 6,
      "outputs": [
        {
          "output_type": "stream",
          "text": [
            "100%|██████████| 407873900/407873900 [00:12<00:00, 32713654.76B/s]\n",
            "100%|██████████| 231508/231508 [00:00<00:00, 1138079.28B/s]\n"
          ],
          "name": "stderr"
        }
      ]
    },
    {
      "cell_type": "markdown",
      "metadata": {
        "id": "ITomj4yqEyN0",
        "colab_type": "text"
      },
      "source": [
        "## Test on some text data"
      ]
    },
    {
      "cell_type": "code",
      "metadata": {
        "id": "8eG6cBMjoXp1",
        "colab_type": "code",
        "colab": {}
      },
      "source": [
        "#%%capture\n",
        "#!pip install plotly==4.0.0\n",
        "#import plotly.express as px\n",
        "from fastai.text import *\n",
        "from fastai.callbacks import *"
      ],
      "execution_count": 0,
      "outputs": []
    },
    {
      "cell_type": "code",
      "metadata": {
        "id": "Gxk3nv1po_v2",
        "colab_type": "code",
        "outputId": "36f60db5-65ce-4271-c189-4bf3af9448ec",
        "colab": {
          "base_uri": "https://localhost:8080/",
          "height": 34
        }
      },
      "source": [
        "import spacy\n",
        "import importlib\n",
        "importlib.reload(spacy)"
      ],
      "execution_count": 0,
      "outputs": [
        {
          "output_type": "execute_result",
          "data": {
            "text/plain": [
              "<module 'spacy' from '/usr/local/lib/python3.6/dist-packages/spacy/__init__.py'>"
            ]
          },
          "metadata": {
            "tags": []
          },
          "execution_count": 4
        }
      ]
    },
    {
      "cell_type": "code",
      "metadata": {
        "id": "edwIVAQGpdH3",
        "colab_type": "code",
        "outputId": "93d5467c-3526-4802-dc0d-be3233153319",
        "colab": {
          "base_uri": "https://localhost:8080/",
          "height": 104
        }
      },
      "source": [
        "\n",
        "\n",
        "body = '''\n",
        "The Chrysler Building, the famous art deco New York skyscraper, will be sold for a small fraction of its previous sales price.\n",
        "The deal, first reported by The Real Deal, was for $150 million, according to a source familiar with the deal.\n",
        "Mubadala, an Abu Dhabi investment fund, purchased 90% of the building for $800 million in 2008.\n",
        "Real estate firm Tishman Speyer had owned the other 10%.\n",
        "The buyer is RFR Holding, a New York real estate company.\n",
        "Officials with Tishman and RFR did not immediately respond to a request for comments.\n",
        "It's unclear when the deal will close.\n",
        "The building sold fairly quickly after being publicly placed on the market only two months ago.\n",
        "The sale was handled by CBRE Group.\n",
        "The incentive to sell the building at such a huge loss was due to the soaring rent the owners pay to Cooper Union, a New York college, for the land under the building.\n",
        "The rent is rising from $7.75 million last year to $32.5 million this year to $41 million in 2028.\n",
        "Meantime, rents in the building itself are not rising nearly that fast.\n",
        "While the building is an iconic landmark in the New York skyline, it is competing against newer office towers with large floor-to-ceiling windows and all the modern amenities.\n",
        "Still the building is among the best known in the city, even to people who have never been to New York.\n",
        "It is famous for its triangle-shaped, vaulted windows worked into the stylized crown, along with its distinctive eagle gargoyles near the top.\n",
        "It has been featured prominently in many films, including Men in Black 3, Spider-Man, Armageddon, Two Weeks Notice and Independence Day.\n",
        "The previous sale took place just before the 2008 financial meltdown led to a plunge in real estate prices.\n",
        "Still there have been a number of high profile skyscrapers purchased for top dollar in recent years, including the Waldorf Astoria hotel, which Chinese firm Anbang Insurance purchased in 2016 for nearly $2 billion, and the Willis Tower in Chicago, which was formerly known as Sears Tower, once the world's tallest.\n",
        "Blackstone Group (BX) bought it for $1.3 billion 2015.\n",
        "The Chrysler Building was the headquarters of the American automaker until 1953, but it was named for and owned by Chrysler chief Walter Chrysler, not the company itself.\n",
        "Walter Chrysler had set out to build the tallest building in the world, a competition at that time with another Manhattan skyscraper under construction at 40 Wall Street at the south end of Manhattan. He kept secret the plans for the spire that would grace the top of the building, building it inside the structure and out of view of the public until 40 Wall Street was complete.\n",
        "Once the competitor could rise no higher, the spire of the Chrysler building was raised into view, giving it the title.\n",
        "'''\n",
        "\n",
        "model = SingleModel('bert-base-uncased')\n",
        "result = model(body, min_length=80)\n",
        "full = ''.join(result)\n",
        "print(full)"
      ],
      "execution_count": 0,
      "outputs": [
        {
          "output_type": "stream",
          "text": [
            "100%|██████████| 407873900/407873900 [00:32<00:00, 12379312.13B/s]\n",
            "100%|██████████| 231508/231508 [00:00<00:00, 407507.65B/s]\n",
            "17it [00:02,  5.66it/s]"
          ],
          "name": "stderr"
        },
        {
          "output_type": "stream",
          "text": [
            "The Chrysler Building, the famous art deco New York skyscraper, will be sold for a small fraction of its previous sales price. Officials with Tishman and RFR did not immediately respond to a request for comments. The incentive to sell the building at such a huge loss was due to the soaring rent the owners pay to Cooper Union, a New York college, for the land under the building. It is famous for its triangle-shaped, vaulted windows worked into the stylized crown, along with its distinctive eagle gargoyles near the top.\n"
          ],
          "name": "stdout"
        },
        {
          "output_type": "stream",
          "text": [
            "\n"
          ],
          "name": "stderr"
        }
      ]
    },
    {
      "cell_type": "code",
      "metadata": {
        "id": "bCjPkwiJrvLb",
        "colab_type": "code",
        "outputId": "38e1c986-2312-421c-e6f5-bc9dc6bcad9c",
        "colab": {
          "base_uri": "https://localhost:8080/",
          "height": 54
        }
      },
      "source": [
        "full"
      ],
      "execution_count": 0,
      "outputs": [
        {
          "output_type": "execute_result",
          "data": {
            "text/plain": [
              "\"The Chrysler Building, the famous art deco New York skyscraper, will be sold for a small fraction of its previous sales price. The building sold fairly quickly after being publicly placed on the market only two months ago. The incentive to sell the building at such a huge loss was due to the soaring rent the owners pay to Cooper Union, a New York college, for the land under the building. Still there have been a number of high profile skyscrapers purchased for top dollar in recent years, including the Waldorf Astoria hotel, which Chinese firm Anbang Insurance purchased in 2016 for nearly $2 billion, and the Willis Tower in Chicago, which was formerly known as Sears Tower, once the world's tallest.\""
            ]
          },
          "metadata": {
            "tags": []
          },
          "execution_count": 13
        }
      ]
    },
    {
      "cell_type": "code",
      "metadata": {
        "id": "dp5iT4-Upx1b",
        "colab_type": "code",
        "colab": {}
      },
      "source": [
        "from pprint import pprint"
      ],
      "execution_count": 0,
      "outputs": []
    },
    {
      "cell_type": "code",
      "metadata": {
        "id": "1ofEWcfyrgzi",
        "colab_type": "code",
        "outputId": "17987560-2347-41b6-b8e9-43b332b86be5",
        "colab": {
          "base_uri": "https://localhost:8080/",
          "height": 134
        }
      },
      "source": [
        "pprint(full)"
      ],
      "execution_count": 0,
      "outputs": [
        {
          "output_type": "stream",
          "text": [
            "('The Chrysler Building, the famous art deco New York skyscraper, will be sold '\n",
            " 'for a small fraction of its previous sales price. Officials with Tishman and '\n",
            " 'RFR did not immediately respond to a request for comments. The incentive to '\n",
            " 'sell the building at such a huge loss was due to the soaring rent the owners '\n",
            " 'pay to Cooper Union, a New York college, for the land under the building. It '\n",
            " 'is famous for its triangle-shaped, vaulted windows worked into the stylized '\n",
            " 'crown, along with its distinctive eagle gargoyles near the top.')\n"
          ],
          "name": "stdout"
        }
      ]
    },
    {
      "cell_type": "code",
      "metadata": {
        "id": "ibpxnaBeriHn",
        "colab_type": "code",
        "colab": {}
      },
      "source": [
        ""
      ],
      "execution_count": 0,
      "outputs": []
    },
    {
      "cell_type": "markdown",
      "metadata": {
        "id": "GTDOjv5osklA",
        "colab_type": "text"
      },
      "source": [
        "## Implement on BBC News"
      ]
    },
    {
      "cell_type": "markdown",
      "metadata": {
        "id": "x9JOSAosE58s",
        "colab_type": "text"
      },
      "source": [
        "### Prepare Data"
      ]
    },
    {
      "cell_type": "code",
      "metadata": {
        "id": "KR_Dav9qspZ7",
        "colab_type": "code",
        "outputId": "3aff078b-14eb-42e4-9383-a84ecc109d99",
        "colab": {
          "resources": {
            "http://localhost:8080/nbextensions/google.colab/files.js": {
              "data": "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",
              "ok": true,
              "headers": [
                [
                  "content-type",
                  "application/javascript"
                ]
              ],
              "status": 200,
              "status_text": ""
            }
          },
          "base_uri": "https://localhost:8080/",
          "height": 374
        }
      },
      "source": [
        "from google.colab import files\n",
        "\n",
        "uploaded = files.upload()\n",
        "\n",
        "for fn in uploaded.keys():\n",
        "  print('User uploaded file \"{name}\" with length {length} bytes'.format(\n",
        "      name=fn, length=len(uploaded[fn])))\n",
        "\n",
        "!mkdir -p ~/.kaggle/ && mv kaggle.json ~/.kaggle/ && chmod 600 ~/.kaggle/kaggle.json\n",
        "!kaggle --help"
      ],
      "execution_count": 0,
      "outputs": [
        {
          "output_type": "display_data",
          "data": {
            "text/html": [
              "\n",
              "     <input type=\"file\" id=\"files-3f870f60-af8f-4de3-86be-e63408f0698a\" name=\"files[]\" multiple disabled />\n",
              "     <output id=\"result-3f870f60-af8f-4de3-86be-e63408f0698a\">\n",
              "      Upload widget is only available when the cell has been executed in the\n",
              "      current browser session. Please rerun this cell to enable.\n",
              "      </output>\n",
              "      <script src=\"/nbextensions/google.colab/files.js\"></script> "
            ],
            "text/plain": [
              "<IPython.core.display.HTML object>"
            ]
          },
          "metadata": {
            "tags": []
          }
        },
        {
          "output_type": "stream",
          "text": [
            "Saving kaggle.json to kaggle.json\n",
            "User uploaded file \"kaggle.json\" with length 67 bytes\n",
            "usage: kaggle [-h] [-v] {competitions,c,datasets,d,kernels,k,config} ...\n",
            "\n",
            "optional arguments:\n",
            "  -h, --help            show this help message and exit\n",
            "  -v, --version         show program's version number and exit\n",
            "\n",
            "commands:\n",
            "  {competitions,c,datasets,d,kernels,k,config}\n",
            "                        Use one of:\n",
            "                        competitions {list, files, download, submit, submissions, leaderboard}\n",
            "                        datasets {list, files, download, create, version, init, metadata, status}\n",
            "                        config {view, set, unset}\n",
            "    competitions        Commands related to Kaggle competitions\n",
            "    datasets            Commands related to Kaggle datasets\n",
            "    kernels             Commands related to Kaggle kernels\n",
            "    config              Configuration settings\n"
          ],
          "name": "stdout"
        }
      ]
    },
    {
      "cell_type": "code",
      "metadata": {
        "id": "APFxAj2coR01",
        "colab_type": "code",
        "outputId": "b4440dab-9bac-4459-a270-47a7874ee0d1",
        "colab": {
          "base_uri": "https://localhost:8080/",
          "height": 70
        }
      },
      "source": [
        "!kaggle datasets download -d pariza/bbc-news-summary"
      ],
      "execution_count": 0,
      "outputs": [
        {
          "output_type": "stream",
          "text": [
            "Downloading bbc-news-summary.zip to /content/gdrive/My Drive/fastai/data/BBC_Summarization\n",
            "\r  0% 0.00/3.75M [00:00<?, ?B/s]\n",
            "\r100% 3.75M/3.75M [00:00<00:00, 62.6MB/s]\n"
          ],
          "name": "stdout"
        }
      ]
    },
    {
      "cell_type": "code",
      "metadata": {
        "id": "e6DSldtWpK6a",
        "colab_type": "code",
        "outputId": "aa0d8024-a603-4ffa-e8da-52abe2bcfe09",
        "colab": {
          "base_uri": "https://localhost:8080/",
          "height": 52
        }
      },
      "source": [
        "!unzip bbc-news-summary.zip"
      ],
      "execution_count": 0,
      "outputs": [
        {
          "output_type": "stream",
          "text": [
            "Archive:  bbc-news-summary.zip\n",
            "  inflating: BBC News Summary.rar    \n"
          ],
          "name": "stdout"
        }
      ]
    },
    {
      "cell_type": "code",
      "metadata": {
        "id": "z_VEL5M37Jsi",
        "colab_type": "code",
        "colab": {}
      },
      "source": [
        "!unrar x BBC\\ News\\ Summary.rar"
      ],
      "execution_count": 0,
      "outputs": []
    },
    {
      "cell_type": "code",
      "metadata": {
        "hidden": true,
        "id": "tKQgJX5Q442U",
        "colab_type": "code",
        "colab": {}
      },
      "source": [
        "from glob import glob\n",
        "import os"
      ],
      "execution_count": 0,
      "outputs": []
    },
    {
      "cell_type": "code",
      "metadata": {
        "id": "s9pJpaA4x63J",
        "colab_type": "code",
        "colab": {
          "base_uri": "https://localhost:8080/",
          "height": 34
        },
        "outputId": "38523523-1400-4b9a-a870-2c59c1891fe7"
      },
      "source": [
        "%cd BBC\\ News\\ Summary"
      ],
      "execution_count": 26,
      "outputs": [
        {
          "output_type": "stream",
          "text": [
            "/content/gdrive/My Drive/fastai/data/BBC_Summarization/BBC News Summary\n"
          ],
          "name": "stdout"
        }
      ]
    },
    {
      "cell_type": "code",
      "metadata": {
        "id": "viGnNFlu9xvC",
        "colab_type": "code",
        "outputId": "edac9b8e-ae4b-4d69-c2d7-c81267ccf2d6",
        "colab": {
          "base_uri": "https://localhost:8080/",
          "height": 54
        }
      },
      "source": [
        "# #ex\n",
        "# pth = '/content/gdrive/My Drive/fastai/data/BBC_Summarization/'\n",
        "# print(glob(pth+\"*.txt\"))"
      ],
      "execution_count": 0,
      "outputs": [
        {
          "output_type": "stream",
          "text": [
            "['/content/gdrive/My Drive/fastai/data/BBC_Summarization/327.txt', '/content/gdrive/My Drive/fastai/data/BBC_Summarization/098.txt', '/content/gdrive/My Drive/fastai/data/BBC_Summarization/244.txt', '/content/gdrive/My Drive/fastai/data/BBC_Summarization/510.txt', '/content/gdrive/My Drive/fastai/data/BBC_Summarization/172.txt', '/content/gdrive/My Drive/fastai/data/BBC_Summarization/456.txt', '/content/gdrive/My Drive/fastai/data/BBC_Summarization/353.txt', '/content/gdrive/My Drive/fastai/data/BBC_Summarization/205.txt', '/content/gdrive/My Drive/fastai/data/BBC_Summarization/260.txt', '/content/gdrive/My Drive/fastai/data/BBC_Summarization/239.txt', '/content/gdrive/My Drive/fastai/data/BBC_Summarization/321.txt', '/content/gdrive/My Drive/fastai/data/BBC_Summarization/467.txt', '/content/gdrive/My Drive/fastai/data/BBC_Summarization/055.txt', '/content/gdrive/My Drive/fastai/data/BBC_Summarization/462.txt', '/content/gdrive/My Drive/fastai/data/BBC_Summarization/116.txt', '/content/gdrive/My Drive/fastai/data/BBC_Summarization/294.txt', '/content/gdrive/My Drive/fastai/data/BBC_Summarization/224.txt', '/content/gdrive/My Drive/fastai/data/BBC_Summarization/228.txt', '/content/gdrive/My Drive/fastai/data/BBC_Summarization/108.txt', '/content/gdrive/My Drive/fastai/data/BBC_Summarization/499.txt', '/content/gdrive/My Drive/fastai/data/BBC_Summarization/210.txt', '/content/gdrive/My Drive/fastai/data/BBC_Summarization/454.txt', '/content/gdrive/My Drive/fastai/data/BBC_Summarization/276.txt', '/content/gdrive/My Drive/fastai/data/BBC_Summarization/023.txt', '/content/gdrive/My Drive/fastai/data/BBC_Summarization/201.txt', '/content/gdrive/My Drive/fastai/data/BBC_Summarization/266.txt', '/content/gdrive/My Drive/fastai/data/BBC_Summarization/225.txt', '/content/gdrive/My Drive/fastai/data/BBC_Summarization/019.txt', '/content/gdrive/My Drive/fastai/data/BBC_Summarization/370.txt', '/content/gdrive/My Drive/fastai/data/BBC_Summarization/223.txt', '/content/gdrive/My Drive/fastai/data/BBC_Summarization/213.txt', '/content/gdrive/My Drive/fastai/data/BBC_Summarization/347.txt', '/content/gdrive/My Drive/fastai/data/BBC_Summarization/140.txt', '/content/gdrive/My Drive/fastai/data/BBC_Summarization/507.txt', '/content/gdrive/My Drive/fastai/data/BBC_Summarization/101.txt', '/content/gdrive/My Drive/fastai/data/BBC_Summarization/300.txt', '/content/gdrive/My Drive/fastai/data/BBC_Summarization/067.txt', '/content/gdrive/My Drive/fastai/data/BBC_Summarization/498.txt', '/content/gdrive/My Drive/fastai/data/BBC_Summarization/445.txt', '/content/gdrive/My Drive/fastai/data/BBC_Summarization/502.txt', '/content/gdrive/My Drive/fastai/data/BBC_Summarization/093.txt', '/content/gdrive/My Drive/fastai/data/BBC_Summarization/402.txt', '/content/gdrive/My Drive/fastai/data/BBC_Summarization/129.txt', '/content/gdrive/My Drive/fastai/data/BBC_Summarization/380.txt', '/content/gdrive/My Drive/fastai/data/BBC_Summarization/069.txt', '/content/gdrive/My Drive/fastai/data/BBC_Summarization/142.txt', '/content/gdrive/My Drive/fastai/data/BBC_Summarization/041.txt', '/content/gdrive/My Drive/fastai/data/BBC_Summarization/145.txt', '/content/gdrive/My Drive/fastai/data/BBC_Summarization/400.txt', '/content/gdrive/My Drive/fastai/data/BBC_Summarization/050.txt', '/content/gdrive/My Drive/fastai/data/BBC_Summarization/261.txt', '/content/gdrive/My Drive/fastai/data/BBC_Summarization/386.txt', '/content/gdrive/My Drive/fastai/data/BBC_Summarization/509.txt', '/content/gdrive/My Drive/fastai/data/BBC_Summarization/102.txt', '/content/gdrive/My Drive/fastai/data/BBC_Summarization/196.txt', '/content/gdrive/My Drive/fastai/data/BBC_Summarization/229.txt', '/content/gdrive/My Drive/fastai/data/BBC_Summarization/157.txt', '/content/gdrive/My Drive/fastai/data/BBC_Summarization/407.txt', '/content/gdrive/My Drive/fastai/data/BBC_Summarization/398.txt', '/content/gdrive/My Drive/fastai/data/BBC_Summarization/273.txt', '/content/gdrive/My Drive/fastai/data/BBC_Summarization/103.txt', '/content/gdrive/My Drive/fastai/data/BBC_Summarization/170.txt', '/content/gdrive/My Drive/fastai/data/BBC_Summarization/237.txt', '/content/gdrive/My Drive/fastai/data/BBC_Summarization/415.txt', '/content/gdrive/My Drive/fastai/data/BBC_Summarization/181.txt', '/content/gdrive/My Drive/fastai/data/BBC_Summarization/289.txt', '/content/gdrive/My Drive/fastai/data/BBC_Summarization/475.txt', '/content/gdrive/My Drive/fastai/data/BBC_Summarization/171.txt', '/content/gdrive/My Drive/fastai/data/BBC_Summarization/163.txt', '/content/gdrive/My Drive/fastai/data/BBC_Summarization/249.txt', '/content/gdrive/My Drive/fastai/data/BBC_Summarization/241.txt', '/content/gdrive/My Drive/fastai/data/BBC_Summarization/182.txt', '/content/gdrive/My Drive/fastai/data/BBC_Summarization/148.txt', '/content/gdrive/My Drive/fastai/data/BBC_Summarization/465.txt', '/content/gdrive/My Drive/fastai/data/BBC_Summarization/390.txt', '/content/gdrive/My Drive/fastai/data/BBC_Summarization/352.txt', '/content/gdrive/My Drive/fastai/data/BBC_Summarization/238.txt', '/content/gdrive/My Drive/fastai/data/BBC_Summarization/301.txt', '/content/gdrive/My Drive/fastai/data/BBC_Summarization/418.txt', '/content/gdrive/My Drive/fastai/data/BBC_Summarization/092.txt', '/content/gdrive/My Drive/fastai/data/BBC_Summarization/280.txt', '/content/gdrive/My Drive/fastai/data/BBC_Summarization/254.txt', '/content/gdrive/My Drive/fastai/data/BBC_Summarization/037.txt', '/content/gdrive/My Drive/fastai/data/BBC_Summarization/194.txt', '/content/gdrive/My Drive/fastai/data/BBC_Summarization/081.txt', '/content/gdrive/My Drive/fastai/data/BBC_Summarization/120.txt', '/content/gdrive/My Drive/fastai/data/BBC_Summarization/431.txt', '/content/gdrive/My Drive/fastai/data/BBC_Summarization/441.txt', '/content/gdrive/My Drive/fastai/data/BBC_Summarization/178.txt', '/content/gdrive/My Drive/fastai/data/BBC_Summarization/410.txt', '/content/gdrive/My Drive/fastai/data/BBC_Summarization/339.txt', '/content/gdrive/My Drive/fastai/data/BBC_Summarization/227.txt', '/content/gdrive/My Drive/fastai/data/BBC_Summarization/350.txt', '/content/gdrive/My Drive/fastai/data/BBC_Summarization/179.txt', '/content/gdrive/My Drive/fastai/data/BBC_Summarization/212.txt', '/content/gdrive/My Drive/fastai/data/BBC_Summarization/079.txt', '/content/gdrive/My Drive/fastai/data/BBC_Summarization/453.txt', '/content/gdrive/My Drive/fastai/data/BBC_Summarization/429.txt', '/content/gdrive/My Drive/fastai/data/BBC_Summarization/133.txt', '/content/gdrive/My Drive/fastai/data/BBC_Summarization/279.txt', '/content/gdrive/My Drive/fastai/data/BBC_Summarization/106.txt', '/content/gdrive/My Drive/fastai/data/BBC_Summarization/021.txt', '/content/gdrive/My Drive/fastai/data/BBC_Summarization/159.txt', '/content/gdrive/My Drive/fastai/data/BBC_Summarization/336.txt', '/content/gdrive/My Drive/fastai/data/BBC_Summarization/033.txt', '/content/gdrive/My Drive/fastai/data/BBC_Summarization/307.txt', '/content/gdrive/My Drive/fastai/data/BBC_Summarization/030.txt', '/content/gdrive/My Drive/fastai/data/BBC_Summarization/457.txt', '/content/gdrive/My Drive/fastai/data/BBC_Summarization/320.txt', '/content/gdrive/My Drive/fastai/data/BBC_Summarization/332.txt', '/content/gdrive/My Drive/fastai/data/BBC_Summarization/119.txt', '/content/gdrive/My Drive/fastai/data/BBC_Summarization/334.txt', '/content/gdrive/My Drive/fastai/data/BBC_Summarization/344.txt', '/content/gdrive/My Drive/fastai/data/BBC_Summarization/482.txt', '/content/gdrive/My Drive/fastai/data/BBC_Summarization/259.txt', '/content/gdrive/My Drive/fastai/data/BBC_Summarization/233.txt', '/content/gdrive/My Drive/fastai/data/BBC_Summarization/007.txt', '/content/gdrive/My Drive/fastai/data/BBC_Summarization/209.txt', '/content/gdrive/My Drive/fastai/data/BBC_Summarization/486.txt', '/content/gdrive/My Drive/fastai/data/BBC_Summarization/177.txt', '/content/gdrive/My Drive/fastai/data/BBC_Summarization/438.txt', '/content/gdrive/My Drive/fastai/data/BBC_Summarization/010.txt', '/content/gdrive/My Drive/fastai/data/BBC_Summarization/027.txt', '/content/gdrive/My Drive/fastai/data/BBC_Summarization/328.txt', '/content/gdrive/My Drive/fastai/data/BBC_Summarization/191.txt', '/content/gdrive/My Drive/fastai/data/BBC_Summarization/309.txt', '/content/gdrive/My Drive/fastai/data/BBC_Summarization/504.txt', '/content/gdrive/My Drive/fastai/data/BBC_Summarization/338.txt', '/content/gdrive/My Drive/fastai/data/BBC_Summarization/269.txt', '/content/gdrive/My Drive/fastai/data/BBC_Summarization/311.txt', '/content/gdrive/My Drive/fastai/data/BBC_Summarization/382.txt', '/content/gdrive/My Drive/fastai/data/BBC_Summarization/252.txt', '/content/gdrive/My Drive/fastai/data/BBC_Summarization/357.txt', '/content/gdrive/My Drive/fastai/data/BBC_Summarization/495.txt', '/content/gdrive/My Drive/fastai/data/BBC_Summarization/124.txt', '/content/gdrive/My Drive/fastai/data/BBC_Summarization/246.txt', '/content/gdrive/My Drive/fastai/data/BBC_Summarization/153.txt', '/content/gdrive/My Drive/fastai/data/BBC_Summarization/161.txt', '/content/gdrive/My Drive/fastai/data/BBC_Summarization/367.txt', '/content/gdrive/My Drive/fastai/data/BBC_Summarization/290.txt', '/content/gdrive/My Drive/fastai/data/BBC_Summarization/060.txt', '/content/gdrive/My Drive/fastai/data/BBC_Summarization/369.txt', '/content/gdrive/My Drive/fastai/data/BBC_Summarization/211.txt', '/content/gdrive/My Drive/fastai/data/BBC_Summarization/433.txt', '/content/gdrive/My Drive/fastai/data/BBC_Summarization/009.txt', '/content/gdrive/My Drive/fastai/data/BBC_Summarization/018.txt', '/content/gdrive/My Drive/fastai/data/BBC_Summarization/397.txt', '/content/gdrive/My Drive/fastai/data/BBC_Summarization/200.txt', '/content/gdrive/My Drive/fastai/data/BBC_Summarization/401.txt', '/content/gdrive/My Drive/fastai/data/BBC_Summarization/322.txt', '/content/gdrive/My Drive/fastai/data/BBC_Summarization/427.txt', '/content/gdrive/My Drive/fastai/data/BBC_Summarization/135.txt', '/content/gdrive/My Drive/fastai/data/BBC_Summarization/468.txt', '/content/gdrive/My Drive/fastai/data/BBC_Summarization/066.txt', '/content/gdrive/My Drive/fastai/data/BBC_Summarization/448.txt', '/content/gdrive/My Drive/fastai/data/BBC_Summarization/335.txt', '/content/gdrive/My Drive/fastai/data/BBC_Summarization/152.txt', '/content/gdrive/My Drive/fastai/data/BBC_Summarization/123.txt', '/content/gdrive/My Drive/fastai/data/BBC_Summarization/137.txt', '/content/gdrive/My Drive/fastai/data/BBC_Summarization/167.txt', '/content/gdrive/My Drive/fastai/data/BBC_Summarization/044.txt', '/content/gdrive/My Drive/fastai/data/BBC_Summarization/351.txt', '/content/gdrive/My Drive/fastai/data/BBC_Summarization/399.txt', '/content/gdrive/My Drive/fastai/data/BBC_Summarization/174.txt', '/content/gdrive/My Drive/fastai/data/BBC_Summarization/388.txt', '/content/gdrive/My Drive/fastai/data/BBC_Summarization/284.txt', '/content/gdrive/My Drive/fastai/data/BBC_Summarization/478.txt', '/content/gdrive/My Drive/fastai/data/BBC_Summarization/287.txt', '/content/gdrive/My Drive/fastai/data/BBC_Summarization/291.txt', '/content/gdrive/My Drive/fastai/data/BBC_Summarization/264.txt', '/content/gdrive/My Drive/fastai/data/BBC_Summarization/158.txt', '/content/gdrive/My Drive/fastai/data/BBC_Summarization/281.txt', '/content/gdrive/My Drive/fastai/data/BBC_Summarization/451.txt', '/content/gdrive/My Drive/fastai/data/BBC_Summarization/511.txt', '/content/gdrive/My Drive/fastai/data/BBC_Summarization/304.txt', '/content/gdrive/My Drive/fastai/data/BBC_Summarization/020.txt', '/content/gdrive/My Drive/fastai/data/BBC_Summarization/442.txt', '/content/gdrive/My Drive/fastai/data/BBC_Summarization/424.txt', '/content/gdrive/My Drive/fastai/data/BBC_Summarization/220.txt', '/content/gdrive/My Drive/fastai/data/BBC_Summarization/071.txt', '/content/gdrive/My Drive/fastai/data/BBC_Summarization/295.txt', '/content/gdrive/My Drive/fastai/data/BBC_Summarization/114.txt', '/content/gdrive/My Drive/fastai/data/BBC_Summarization/117.txt', '/content/gdrive/My Drive/fastai/data/BBC_Summarization/423.txt', '/content/gdrive/My Drive/fastai/data/BBC_Summarization/365.txt', '/content/gdrive/My Drive/fastai/data/BBC_Summarization/446.txt', '/content/gdrive/My Drive/fastai/data/BBC_Summarization/248.txt', '/content/gdrive/My Drive/fastai/data/BBC_Summarization/494.txt', '/content/gdrive/My Drive/fastai/data/BBC_Summarization/188.txt', '/content/gdrive/My Drive/fastai/data/BBC_Summarization/166.txt', '/content/gdrive/My Drive/fastai/data/BBC_Summarization/272.txt', '/content/gdrive/My Drive/fastai/data/BBC_Summarization/221.txt', '/content/gdrive/My Drive/fastai/data/BBC_Summarization/376.txt', '/content/gdrive/My Drive/fastai/data/BBC_Summarization/337.txt', '/content/gdrive/My Drive/fastai/data/BBC_Summarization/128.txt', '/content/gdrive/My Drive/fastai/data/BBC_Summarization/384.txt', '/content/gdrive/My Drive/fastai/data/BBC_Summarization/485.txt', '/content/gdrive/My Drive/fastai/data/BBC_Summarization/118.txt', '/content/gdrive/My Drive/fastai/data/BBC_Summarization/316.txt', '/content/gdrive/My Drive/fastai/data/BBC_Summarization/091.txt', '/content/gdrive/My Drive/fastai/data/BBC_Summarization/358.txt', '/content/gdrive/My Drive/fastai/data/BBC_Summarization/040.txt', '/content/gdrive/My Drive/fastai/data/BBC_Summarization/025.txt', '/content/gdrive/My Drive/fastai/data/BBC_Summarization/432.txt', '/content/gdrive/My Drive/fastai/data/BBC_Summarization/149.txt', '/content/gdrive/My Drive/fastai/data/BBC_Summarization/436.txt', '/content/gdrive/My Drive/fastai/data/BBC_Summarization/464.txt', '/content/gdrive/My Drive/fastai/data/BBC_Summarization/036.txt', '/content/gdrive/My Drive/fastai/data/BBC_Summarization/242.txt', '/content/gdrive/My Drive/fastai/data/BBC_Summarization/306.txt', '/content/gdrive/My Drive/fastai/data/BBC_Summarization/491.txt', '/content/gdrive/My Drive/fastai/data/BBC_Summarization/006.txt', '/content/gdrive/My Drive/fastai/data/BBC_Summarization/395.txt', '/content/gdrive/My Drive/fastai/data/BBC_Summarization/165.txt', '/content/gdrive/My Drive/fastai/data/BBC_Summarization/377.txt', '/content/gdrive/My Drive/fastai/data/BBC_Summarization/112.txt', '/content/gdrive/My Drive/fastai/data/BBC_Summarization/029.txt', '/content/gdrive/My Drive/fastai/data/BBC_Summarization/497.txt', '/content/gdrive/My Drive/fastai/data/BBC_Summarization/015.txt', '/content/gdrive/My Drive/fastai/data/BBC_Summarization/074.txt', '/content/gdrive/My Drive/fastai/data/BBC_Summarization/047.txt', '/content/gdrive/My Drive/fastai/data/BBC_Summarization/147.txt', '/content/gdrive/My Drive/fastai/data/BBC_Summarization/059.txt', '/content/gdrive/My Drive/fastai/data/BBC_Summarization/319.txt', '/content/gdrive/My Drive/fastai/data/BBC_Summarization/496.txt', '/content/gdrive/My Drive/fastai/data/BBC_Summarization/139.txt', '/content/gdrive/My Drive/fastai/data/BBC_Summarization/455.txt', '/content/gdrive/My Drive/fastai/data/BBC_Summarization/132.txt', '/content/gdrive/My Drive/fastai/data/BBC_Summarization/487.txt', '/content/gdrive/My Drive/fastai/data/BBC_Summarization/374.txt', '/content/gdrive/My Drive/fastai/data/BBC_Summarization/144.txt', '/content/gdrive/My Drive/fastai/data/BBC_Summarization/393.txt', '/content/gdrive/My Drive/fastai/data/BBC_Summarization/226.txt', '/content/gdrive/My Drive/fastai/data/BBC_Summarization/199.txt', '/content/gdrive/My Drive/fastai/data/BBC_Summarization/363.txt', '/content/gdrive/My Drive/fastai/data/BBC_Summarization/422.txt', '/content/gdrive/My Drive/fastai/data/BBC_Summarization/506.txt', '/content/gdrive/My Drive/fastai/data/BBC_Summarization/349.txt', '/content/gdrive/My Drive/fastai/data/BBC_Summarization/379.txt', '/content/gdrive/My Drive/fastai/data/BBC_Summarization/501.txt', '/content/gdrive/My Drive/fastai/data/BBC_Summarization/461.txt', '/content/gdrive/My Drive/fastai/data/BBC_Summarization/480.txt', '/content/gdrive/My Drive/fastai/data/BBC_Summarization/115.txt', '/content/gdrive/My Drive/fastai/data/BBC_Summarization/218.txt', '/content/gdrive/My Drive/fastai/data/BBC_Summarization/329.txt', '/content/gdrive/My Drive/fastai/data/BBC_Summarization/267.txt', '/content/gdrive/My Drive/fastai/data/BBC_Summarization/080.txt', '/content/gdrive/My Drive/fastai/data/BBC_Summarization/202.txt', '/content/gdrive/My Drive/fastai/data/BBC_Summarization/038.txt', '/content/gdrive/My Drive/fastai/data/BBC_Summarization/215.txt', '/content/gdrive/My Drive/fastai/data/BBC_Summarization/243.txt', '/content/gdrive/My Drive/fastai/data/BBC_Summarization/107.txt', '/content/gdrive/My Drive/fastai/data/BBC_Summarization/463.txt', '/content/gdrive/My Drive/fastai/data/BBC_Summarization/298.txt', '/content/gdrive/My Drive/fastai/data/BBC_Summarization/314.txt', '/content/gdrive/My Drive/fastai/data/BBC_Summarization/330.txt', '/content/gdrive/My Drive/fastai/data/BBC_Summarization/420.txt', '/content/gdrive/My Drive/fastai/data/BBC_Summarization/049.txt', '/content/gdrive/My Drive/fastai/data/BBC_Summarization/503.txt', '/content/gdrive/My Drive/fastai/data/BBC_Summarization/406.txt', '/content/gdrive/My Drive/fastai/data/BBC_Summarization/043.txt', '/content/gdrive/My Drive/fastai/data/BBC_Summarization/481.txt', '/content/gdrive/My Drive/fastai/data/BBC_Summarization/156.txt', '/content/gdrive/My Drive/fastai/data/BBC_Summarization/471.txt', '/content/gdrive/My Drive/fastai/data/BBC_Summarization/134.txt', '/content/gdrive/My Drive/fastai/data/BBC_Summarization/490.txt', '/content/gdrive/My Drive/fastai/data/BBC_Summarization/162.txt', '/content/gdrive/My Drive/fastai/data/BBC_Summarization/016.txt', '/content/gdrive/My Drive/fastai/data/BBC_Summarization/484.txt', '/content/gdrive/My Drive/fastai/data/BBC_Summarization/222.txt', '/content/gdrive/My Drive/fastai/data/BBC_Summarization/443.txt', '/content/gdrive/My Drive/fastai/data/BBC_Summarization/505.txt', '/content/gdrive/My Drive/fastai/data/BBC_Summarization/001.txt', '/content/gdrive/My Drive/fastai/data/BBC_Summarization/255.txt', '/content/gdrive/My Drive/fastai/data/BBC_Summarization/235.txt', '/content/gdrive/My Drive/fastai/data/BBC_Summarization/466.txt', '/content/gdrive/My Drive/fastai/data/BBC_Summarization/331.txt', '/content/gdrive/My Drive/fastai/data/BBC_Summarization/286.txt', '/content/gdrive/My Drive/fastai/data/BBC_Summarization/138.txt', '/content/gdrive/My Drive/fastai/data/BBC_Summarization/111.txt', '/content/gdrive/My Drive/fastai/data/BBC_Summarization/373.txt', '/content/gdrive/My Drive/fastai/data/BBC_Summarization/034.txt', '/content/gdrive/My Drive/fastai/data/BBC_Summarization/127.txt', '/content/gdrive/My Drive/fastai/data/BBC_Summarization/288.txt', '/content/gdrive/My Drive/fastai/data/BBC_Summarization/371.txt', '/content/gdrive/My Drive/fastai/data/BBC_Summarization/143.txt', '/content/gdrive/My Drive/fastai/data/BBC_Summarization/042.txt', '/content/gdrive/My Drive/fastai/data/BBC_Summarization/458.txt', '/content/gdrive/My Drive/fastai/data/BBC_Summarization/155.txt', '/content/gdrive/My Drive/fastai/data/BBC_Summarization/217.txt', '/content/gdrive/My Drive/fastai/data/BBC_Summarization/189.txt', '/content/gdrive/My Drive/fastai/data/BBC_Summarization/072.txt', '/content/gdrive/My Drive/fastai/data/BBC_Summarization/247.txt', '/content/gdrive/My Drive/fastai/data/BBC_Summarization/207.txt', '/content/gdrive/My Drive/fastai/data/BBC_Summarization/184.txt', '/content/gdrive/My Drive/fastai/data/BBC_Summarization/061.txt', '/content/gdrive/My Drive/fastai/data/BBC_Summarization/136.txt', '/content/gdrive/My Drive/fastai/data/BBC_Summarization/268.txt', '/content/gdrive/My Drive/fastai/data/BBC_Summarization/302.txt', '/content/gdrive/My Drive/fastai/data/BBC_Summarization/278.txt', '/content/gdrive/My Drive/fastai/data/BBC_Summarization/094.txt', '/content/gdrive/My Drive/fastai/data/BBC_Summarization/150.txt', '/content/gdrive/My Drive/fastai/data/BBC_Summarization/459.txt', '/content/gdrive/My Drive/fastai/data/BBC_Summarization/359.txt', '/content/gdrive/My Drive/fastai/data/BBC_Summarization/449.txt', '/content/gdrive/My Drive/fastai/data/BBC_Summarization/051.txt', '/content/gdrive/My Drive/fastai/data/BBC_Summarization/236.txt', '/content/gdrive/My Drive/fastai/data/BBC_Summarization/113.txt', '/content/gdrive/My Drive/fastai/data/BBC_Summarization/366.txt', '/content/gdrive/My Drive/fastai/data/BBC_Summarization/440.txt', '/content/gdrive/My Drive/fastai/data/BBC_Summarization/151.txt', '/content/gdrive/My Drive/fastai/data/BBC_Summarization/313.txt', '/content/gdrive/My Drive/fastai/data/BBC_Summarization/064.txt', '/content/gdrive/My Drive/fastai/data/BBC_Summarization/500.txt', '/content/gdrive/My Drive/fastai/data/BBC_Summarization/195.txt', '/content/gdrive/My Drive/fastai/data/BBC_Summarization/180.txt', '/content/gdrive/My Drive/fastai/data/BBC_Summarization/240.txt', '/content/gdrive/My Drive/fastai/data/BBC_Summarization/056.txt', '/content/gdrive/My Drive/fastai/data/BBC_Summarization/053.txt', '/content/gdrive/My Drive/fastai/data/BBC_Summarization/008.txt', '/content/gdrive/My Drive/fastai/data/BBC_Summarization/270.txt', '/content/gdrive/My Drive/fastai/data/BBC_Summarization/292.txt', '/content/gdrive/My Drive/fastai/data/BBC_Summarization/062.txt', '/content/gdrive/My Drive/fastai/data/BBC_Summarization/368.txt', '/content/gdrive/My Drive/fastai/data/BBC_Summarization/474.txt', '/content/gdrive/My Drive/fastai/data/BBC_Summarization/046.txt', '/content/gdrive/My Drive/fastai/data/BBC_Summarization/477.txt', '/content/gdrive/My Drive/fastai/data/BBC_Summarization/253.txt', '/content/gdrive/My Drive/fastai/data/BBC_Summarization/075.txt', '/content/gdrive/My Drive/fastai/data/BBC_Summarization/005.txt', '/content/gdrive/My Drive/fastai/data/BBC_Summarization/472.txt', '/content/gdrive/My Drive/fastai/data/BBC_Summarization/265.txt', '/content/gdrive/My Drive/fastai/data/BBC_Summarization/275.txt', '/content/gdrive/My Drive/fastai/data/BBC_Summarization/296.txt', '/content/gdrive/My Drive/fastai/data/BBC_Summarization/437.txt', '/content/gdrive/My Drive/fastai/data/BBC_Summarization/447.txt', '/content/gdrive/My Drive/fastai/data/BBC_Summarization/089.txt', '/content/gdrive/My Drive/fastai/data/BBC_Summarization/470.txt', '/content/gdrive/My Drive/fastai/data/BBC_Summarization/428.txt', '/content/gdrive/My Drive/fastai/data/BBC_Summarization/362.txt', '/content/gdrive/My Drive/fastai/data/BBC_Summarization/057.txt', '/content/gdrive/My Drive/fastai/data/BBC_Summarization/340.txt', '/content/gdrive/My Drive/fastai/data/BBC_Summarization/048.txt', '/content/gdrive/My Drive/fastai/data/BBC_Summarization/354.txt', '/content/gdrive/My Drive/fastai/data/BBC_Summarization/305.txt', '/content/gdrive/My Drive/fastai/data/BBC_Summarization/430.txt', '/content/gdrive/My Drive/fastai/data/BBC_Summarization/045.txt', '/content/gdrive/My Drive/fastai/data/BBC_Summarization/076.txt', '/content/gdrive/My Drive/fastai/data/BBC_Summarization/073.txt', '/content/gdrive/My Drive/fastai/data/BBC_Summarization/183.txt', '/content/gdrive/My Drive/fastai/data/BBC_Summarization/408.txt', '/content/gdrive/My Drive/fastai/data/BBC_Summarization/277.txt', '/content/gdrive/My Drive/fastai/data/BBC_Summarization/333.txt', '/content/gdrive/My Drive/fastai/data/BBC_Summarization/479.txt', '/content/gdrive/My Drive/fastai/data/BBC_Summarization/173.txt', '/content/gdrive/My Drive/fastai/data/BBC_Summarization/258.txt', '/content/gdrive/My Drive/fastai/data/BBC_Summarization/460.txt', '/content/gdrive/My Drive/fastai/data/BBC_Summarization/083.txt', '/content/gdrive/My Drive/fastai/data/BBC_Summarization/175.txt', '/content/gdrive/My Drive/fastai/data/BBC_Summarization/412.txt', '/content/gdrive/My Drive/fastai/data/BBC_Summarization/324.txt', '/content/gdrive/My Drive/fastai/data/BBC_Summarization/168.txt', '/content/gdrive/My Drive/fastai/data/BBC_Summarization/413.txt', '/content/gdrive/My Drive/fastai/data/BBC_Summarization/190.txt', '/content/gdrive/My Drive/fastai/data/BBC_Summarization/435.txt', '/content/gdrive/My Drive/fastai/data/BBC_Summarization/003.txt', '/content/gdrive/My Drive/fastai/data/BBC_Summarization/070.txt', '/content/gdrive/My Drive/fastai/data/BBC_Summarization/375.txt', '/content/gdrive/My Drive/fastai/data/BBC_Summarization/343.txt', '/content/gdrive/My Drive/fastai/data/BBC_Summarization/250.txt', '/content/gdrive/My Drive/fastai/data/BBC_Summarization/085.txt', '/content/gdrive/My Drive/fastai/data/BBC_Summarization/285.txt', '/content/gdrive/My Drive/fastai/data/BBC_Summarization/121.txt', '/content/gdrive/My Drive/fastai/data/BBC_Summarization/345.txt', '/content/gdrive/My Drive/fastai/data/BBC_Summarization/197.txt', '/content/gdrive/My Drive/fastai/data/BBC_Summarization/014.txt', '/content/gdrive/My Drive/fastai/data/BBC_Summarization/342.txt', '/content/gdrive/My Drive/fastai/data/BBC_Summarization/452.txt', '/content/gdrive/My Drive/fastai/data/BBC_Summarization/414.txt', '/content/gdrive/My Drive/fastai/data/BBC_Summarization/403.txt', '/content/gdrive/My Drive/fastai/data/BBC_Summarization/489.txt', '/content/gdrive/My Drive/fastai/data/BBC_Summarization/346.txt', '/content/gdrive/My Drive/fastai/data/BBC_Summarization/002.txt', '/content/gdrive/My Drive/fastai/data/BBC_Summarization/434.txt', '/content/gdrive/My Drive/fastai/data/BBC_Summarization/318.txt', '/content/gdrive/My Drive/fastai/data/BBC_Summarization/392.txt', '/content/gdrive/My Drive/fastai/data/BBC_Summarization/164.txt', '/content/gdrive/My Drive/fastai/data/BBC_Summarization/409.txt', '/content/gdrive/My Drive/fastai/data/BBC_Summarization/493.txt', '/content/gdrive/My Drive/fastai/data/BBC_Summarization/087.txt', '/content/gdrive/My Drive/fastai/data/BBC_Summarization/364.txt', '/content/gdrive/My Drive/fastai/data/BBC_Summarization/058.txt', '/content/gdrive/My Drive/fastai/data/BBC_Summarization/022.txt', '/content/gdrive/My Drive/fastai/data/BBC_Summarization/054.txt', '/content/gdrive/My Drive/fastai/data/BBC_Summarization/385.txt', '/content/gdrive/My Drive/fastai/data/BBC_Summarization/065.txt', '/content/gdrive/My Drive/fastai/data/BBC_Summarization/473.txt', '/content/gdrive/My Drive/fastai/data/BBC_Summarization/308.txt', '/content/gdrive/My Drive/fastai/data/BBC_Summarization/206.txt', '/content/gdrive/My Drive/fastai/data/BBC_Summarization/356.txt', '/content/gdrive/My Drive/fastai/data/BBC_Summarization/483.txt', '/content/gdrive/My Drive/fastai/data/BBC_Summarization/283.txt', '/content/gdrive/My Drive/fastai/data/BBC_Summarization/077.txt', '/content/gdrive/My Drive/fastai/data/BBC_Summarization/271.txt', '/content/gdrive/My Drive/fastai/data/BBC_Summarization/082.txt', '/content/gdrive/My Drive/fastai/data/BBC_Summarization/444.txt', '/content/gdrive/My Drive/fastai/data/BBC_Summarization/216.txt', '/content/gdrive/My Drive/fastai/data/BBC_Summarization/125.txt', '/content/gdrive/My Drive/fastai/data/BBC_Summarization/039.txt', '/content/gdrive/My Drive/fastai/data/BBC_Summarization/348.txt', '/content/gdrive/My Drive/fastai/data/BBC_Summarization/068.txt', '/content/gdrive/My Drive/fastai/data/BBC_Summarization/032.txt', '/content/gdrive/My Drive/fastai/data/BBC_Summarization/011.txt', '/content/gdrive/My Drive/fastai/data/BBC_Summarization/028.txt', '/content/gdrive/My Drive/fastai/data/BBC_Summarization/026.txt', '/content/gdrive/My Drive/fastai/data/BBC_Summarization/219.txt', '/content/gdrive/My Drive/fastai/data/BBC_Summarization/508.txt', '/content/gdrive/My Drive/fastai/data/BBC_Summarization/419.txt', '/content/gdrive/My Drive/fastai/data/BBC_Summarization/341.txt', '/content/gdrive/My Drive/fastai/data/BBC_Summarization/122.txt', '/content/gdrive/My Drive/fastai/data/BBC_Summarization/105.txt', '/content/gdrive/My Drive/fastai/data/BBC_Summarization/417.txt', '/content/gdrive/My Drive/fastai/data/BBC_Summarization/232.txt', '/content/gdrive/My Drive/fastai/data/BBC_Summarization/203.txt', '/content/gdrive/My Drive/fastai/data/BBC_Summarization/381.txt', '/content/gdrive/My Drive/fastai/data/BBC_Summarization/404.txt', '/content/gdrive/My Drive/fastai/data/BBC_Summarization/193.txt', '/content/gdrive/My Drive/fastai/data/BBC_Summarization/160.txt', '/content/gdrive/My Drive/fastai/data/BBC_Summarization/439.txt', '/content/gdrive/My Drive/fastai/data/BBC_Summarization/326.txt', '/content/gdrive/My Drive/fastai/data/BBC_Summarization/154.txt', '/content/gdrive/My Drive/fastai/data/BBC_Summarization/389.txt', '/content/gdrive/My Drive/fastai/data/BBC_Summarization/214.txt', '/content/gdrive/My Drive/fastai/data/BBC_Summarization/131.txt', '/content/gdrive/My Drive/fastai/data/BBC_Summarization/004.txt', '/content/gdrive/My Drive/fastai/data/BBC_Summarization/396.txt', '/content/gdrive/My Drive/fastai/data/BBC_Summarization/361.txt', '/content/gdrive/My Drive/fastai/data/BBC_Summarization/052.txt', '/content/gdrive/My Drive/fastai/data/BBC_Summarization/097.txt', '/content/gdrive/My Drive/fastai/data/BBC_Summarization/426.txt', '/content/gdrive/My Drive/fastai/data/BBC_Summarization/262.txt', '/content/gdrive/My Drive/fastai/data/BBC_Summarization/383.txt', '/content/gdrive/My Drive/fastai/data/BBC_Summarization/234.txt', '/content/gdrive/My Drive/fastai/data/BBC_Summarization/476.txt', '/content/gdrive/My Drive/fastai/data/BBC_Summarization/251.txt', '/content/gdrive/My Drive/fastai/data/BBC_Summarization/088.txt', '/content/gdrive/My Drive/fastai/data/BBC_Summarization/084.txt', '/content/gdrive/My Drive/fastai/data/BBC_Summarization/192.txt', '/content/gdrive/My Drive/fastai/data/BBC_Summarization/187.txt', '/content/gdrive/My Drive/fastai/data/BBC_Summarization/104.txt', '/content/gdrive/My Drive/fastai/data/BBC_Summarization/198.txt', '/content/gdrive/My Drive/fastai/data/BBC_Summarization/086.txt', '/content/gdrive/My Drive/fastai/data/BBC_Summarization/416.txt', '/content/gdrive/My Drive/fastai/data/BBC_Summarization/469.txt', '/content/gdrive/My Drive/fastai/data/BBC_Summarization/109.txt', '/content/gdrive/My Drive/fastai/data/BBC_Summarization/299.txt', '/content/gdrive/My Drive/fastai/data/BBC_Summarization/492.txt', '/content/gdrive/My Drive/fastai/data/BBC_Summarization/256.txt', '/content/gdrive/My Drive/fastai/data/BBC_Summarization/411.txt', '/content/gdrive/My Drive/fastai/data/BBC_Summarization/013.txt', '/content/gdrive/My Drive/fastai/data/BBC_Summarization/303.txt', '/content/gdrive/My Drive/fastai/data/BBC_Summarization/230.txt', '/content/gdrive/My Drive/fastai/data/BBC_Summarization/141.txt', '/content/gdrive/My Drive/fastai/data/BBC_Summarization/297.txt', '/content/gdrive/My Drive/fastai/data/BBC_Summarization/169.txt', '/content/gdrive/My Drive/fastai/data/BBC_Summarization/325.txt', '/content/gdrive/My Drive/fastai/data/BBC_Summarization/315.txt', '/content/gdrive/My Drive/fastai/data/BBC_Summarization/405.txt', '/content/gdrive/My Drive/fastai/data/BBC_Summarization/012.txt', '/content/gdrive/My Drive/fastai/data/BBC_Summarization/017.txt', '/content/gdrive/My Drive/fastai/data/BBC_Summarization/099.txt', '/content/gdrive/My Drive/fastai/data/BBC_Summarization/488.txt', '/content/gdrive/My Drive/fastai/data/BBC_Summarization/208.txt', '/content/gdrive/My Drive/fastai/data/BBC_Summarization/425.txt', '/content/gdrive/My Drive/fastai/data/BBC_Summarization/310.txt', '/content/gdrive/My Drive/fastai/data/BBC_Summarization/312.txt', '/content/gdrive/My Drive/fastai/data/BBC_Summarization/100.txt', '/content/gdrive/My Drive/fastai/data/BBC_Summarization/063.txt', '/content/gdrive/My Drive/fastai/data/BBC_Summarization/387.txt', '/content/gdrive/My Drive/fastai/data/BBC_Summarization/317.txt', '/content/gdrive/My Drive/fastai/data/BBC_Summarization/096.txt', '/content/gdrive/My Drive/fastai/data/BBC_Summarization/391.txt', '/content/gdrive/My Drive/fastai/data/BBC_Summarization/274.txt', '/content/gdrive/My Drive/fastai/data/BBC_Summarization/245.txt', '/content/gdrive/My Drive/fastai/data/BBC_Summarization/126.txt', '/content/gdrive/My Drive/fastai/data/BBC_Summarization/360.txt', '/content/gdrive/My Drive/fastai/data/BBC_Summarization/231.txt', '/content/gdrive/My Drive/fastai/data/BBC_Summarization/031.txt', '/content/gdrive/My Drive/fastai/data/BBC_Summarization/130.txt', '/content/gdrive/My Drive/fastai/data/BBC_Summarization/450.txt', '/content/gdrive/My Drive/fastai/data/BBC_Summarization/035.txt', '/content/gdrive/My Drive/fastai/data/BBC_Summarization/090.txt', '/content/gdrive/My Drive/fastai/data/BBC_Summarization/185.txt', '/content/gdrive/My Drive/fastai/data/BBC_Summarization/204.txt', '/content/gdrive/My Drive/fastai/data/BBC_Summarization/372.txt', '/content/gdrive/My Drive/fastai/data/BBC_Summarization/394.txt', '/content/gdrive/My Drive/fastai/data/BBC_Summarization/282.txt', '/content/gdrive/My Drive/fastai/data/BBC_Summarization/355.txt', '/content/gdrive/My Drive/fastai/data/BBC_Summarization/146.txt', '/content/gdrive/My Drive/fastai/data/BBC_Summarization/176.txt', '/content/gdrive/My Drive/fastai/data/BBC_Summarization/293.txt', '/content/gdrive/My Drive/fastai/data/BBC_Summarization/110.txt', '/content/gdrive/My Drive/fastai/data/BBC_Summarization/323.txt', '/content/gdrive/My Drive/fastai/data/BBC_Summarization/024.txt', '/content/gdrive/My Drive/fastai/data/BBC_Summarization/078.txt', '/content/gdrive/My Drive/fastai/data/BBC_Summarization/095.txt', '/content/gdrive/My Drive/fastai/data/BBC_Summarization/186.txt', '/content/gdrive/My Drive/fastai/data/BBC_Summarization/378.txt', '/content/gdrive/My Drive/fastai/data/BBC_Summarization/421.txt', '/content/gdrive/My Drive/fastai/data/BBC_Summarization/257.txt', '/content/gdrive/My Drive/fastai/data/BBC_Summarization/263.txt']\n"
          ],
          "name": "stdout"
        }
      ]
    },
    {
      "cell_type": "markdown",
      "metadata": {
        "id": "RpcNXP61B3ni",
        "colab_type": "text"
      },
      "source": [
        "### Politics Category"
      ]
    },
    {
      "cell_type": "code",
      "metadata": {
        "id": "rroEwwGLyTuv",
        "colab_type": "code",
        "colab": {}
      },
      "source": [
        "path_pol ='/content/gdrive/My Drive/fastai/data/BBC_Summarization/BBC News Summary/News Articles/politics/'\n",
        "path_pol_sum ='/content/gdrive/My Drive/fastai/data/BBC_Summarization/BBC News Summary/Summaries/politics/'"
      ],
      "execution_count": 0,
      "outputs": []
    },
    {
      "cell_type": "code",
      "metadata": {
        "hidden": true,
        "id": "iituEQ54442g",
        "colab_type": "code",
        "colab": {}
      },
      "source": [
        "pol_files = []\n",
        "pol_sumfiles = []\n",
        "\n",
        "pol_files.extend(glob(path_pol+'*.txt'))\n",
        "pol_sumfiles.extend(glob(path_pol_sum+'*.txt'))"
      ],
      "execution_count": 0,
      "outputs": []
    },
    {
      "cell_type": "code",
      "metadata": {
        "id": "lQx-XUd8vTyR",
        "colab_type": "code",
        "colab": {
          "base_uri": "https://localhost:8080/",
          "height": 90
        },
        "outputId": "c4380660-ecab-45e0-dd55-bca0229598fd"
      },
      "source": [
        "pol_files[:3]"
      ],
      "execution_count": 68,
      "outputs": [
        {
          "output_type": "execute_result",
          "data": {
            "text/plain": [
              "['/content/gdrive/My Drive/fastai/data/BBC_Summarization/BBC News Summary/News Articles/politics/001.txt',\n",
              " '/content/gdrive/My Drive/fastai/data/BBC_Summarization/BBC News Summary/News Articles/politics/002.txt',\n",
              " '/content/gdrive/My Drive/fastai/data/BBC_Summarization/BBC News Summary/News Articles/politics/003.txt']"
            ]
          },
          "metadata": {
            "tags": []
          },
          "execution_count": 68
        }
      ]
    },
    {
      "cell_type": "code",
      "metadata": {
        "id": "_ryH8cNXvmrB",
        "colab_type": "code",
        "outputId": "37d2e2d2-31df-47aa-e463-d0825f6581c0",
        "colab": {
          "base_uri": "https://localhost:8080/",
          "height": 34
        }
      },
      "source": [
        "len(pol_files)"
      ],
      "execution_count": 69,
      "outputs": [
        {
          "output_type": "execute_result",
          "data": {
            "text/plain": [
              "417"
            ]
          },
          "metadata": {
            "tags": []
          },
          "execution_count": 69
        }
      ]
    },
    {
      "cell_type": "code",
      "metadata": {
        "id": "oHrCAKwswmg8",
        "colab_type": "code",
        "colab": {}
      },
      "source": [
        "#function to get summarization of text file in category 'politics'\n",
        "\n",
        "def pol_summarize(num,ratio=0.2):\n",
        "  with open(pol_files[num],'r') as f, open(pol_sumfiles[num],'r') as fs:\n",
        "    content = f.read()\n",
        "    content_sum = fs.read()\n",
        "    result = model(content,ratio, min_length=50)\n",
        "    print('------------------------------')\n",
        "    print('-----ARTICLE------------------------------------------------')\n",
        "    pprint(content)\n",
        "    print('-----BERT_SUM------------------------------------------------')\n",
        "    pprint(result)\n",
        "    print('-----LABEL_SUM-----------------------------------------------')\n",
        "    pprint(content_sum)\n"
      ],
      "execution_count": 0,
      "outputs": []
    },
    {
      "cell_type": "code",
      "metadata": {
        "id": "AoAcE-OI5jEv",
        "colab_type": "code",
        "colab": {
          "base_uri": "https://localhost:8080/",
          "height": 844
        },
        "outputId": "976768b3-b994-4253-bfb3-6fe60fb908c2"
      },
      "source": [
        "pol_summarize(15)"
      ],
      "execution_count": 78,
      "outputs": [
        {
          "output_type": "stream",
          "text": [
            "11it [00:01,  6.48it/s]"
          ],
          "name": "stderr"
        },
        {
          "output_type": "stream",
          "text": [
            "------------------------------\n",
            "-----ARTICLE------------------------------------------------\n",
            "(\"Crisis 'ahead in social sciences'\\n\"\n",
            " '\\n'\n",
            " 'A national body designed to tackle skills shortages in key subjects should '\n",
            " 'be set up, a committee of MPs has said.\\n'\n",
            " '\\n'\n",
            " 'There was an \"absolute crisis\" in the recruitment of statisticians and other '\n",
            " 'social science experts, the Commons science and technology committee added. '\n",
            " '\"Major problems\" are expected over the next 10 years as the social science '\n",
            " 'workforce continues to age, it said. The committee was reporting on the '\n",
            " 'work, strategy and spending plans of the Economic Social Research Council.\\n'\n",
            " '\\n'\n",
            " 'The council aims to promote and support strategic research for social '\n",
            " 'science postgraduates and provide social scientists to meet the needs of the '\n",
            " 'country. It also liaises with the government and industry over their social '\n",
            " 'science needs. In its report on the council\\'s work the committee said: \"We '\n",
            " 'are deeply concerned by the skills shortages afflicting, in particular, the '\n",
            " 'qualitative branches of social sciences. This mirrored previous concerns the '\n",
            " 'committee had expressed on shortages in the fields of maths and chemistry, '\n",
            " 'it said. \"It is hard to see how significant progress towards rectifying '\n",
            " 'these shortages can be made through the deployment of Economic and Social '\n",
            " 'Research Council\\'s limited resources. \"If the government is serious about '\n",
            " 'addressing skills shortages in key subjects it needs to find a more '\n",
            " 'effective mechanism to achieve this.\" A national \"strategic capabilities '\n",
            " 'fund\" to address shortages in key areas should be set up in response, the '\n",
            " 'committee added.\\n')\n",
            "-----BERT_SUM------------------------------------------------\n",
            "(\"Crisis 'ahead in social sciences'\\n\"\n",
            " '\\n'\n",
            " 'A national body designed to tackle skills shortages in key subjects should '\n",
            " 'be set up, a committee of MPs has said. The committee was reporting on the '\n",
            " 'work, strategy and spending plans of the Economic Social Research Council. A '\n",
            " 'national \"strategic capabilities fund\" to address shortages in key areas '\n",
            " 'should be set up in response, the committee added.')\n",
            "-----LABEL_SUM-----------------------------------------------\n",
            "('In its report on the council\\'s work the committee said: \"We are deeply '\n",
            " 'concerned by the skills shortages afflicting, in particular, the qualitative '\n",
            " 'branches of social sciences.A national body designed to tackle skills '\n",
            " 'shortages in key subjects should be set up, a committee of MPs has '\n",
            " 'said.There was an \"absolute crisis\" in the recruitment of statisticians and '\n",
            " 'other social science experts, the Commons science and technology committee '\n",
            " 'added.The council aims to promote and support strategic research for social '\n",
            " 'science postgraduates and provide social scientists to meet the needs of the '\n",
            " 'country.The committee was reporting on the work, strategy and spending plans '\n",
            " 'of the Economic Social Research Council.')\n"
          ],
          "name": "stdout"
        },
        {
          "output_type": "stream",
          "text": [
            "\n"
          ],
          "name": "stderr"
        }
      ]
    },
    {
      "cell_type": "markdown",
      "metadata": {
        "id": "a6HUmEl-BzIo",
        "colab_type": "text"
      },
      "source": [
        "### Tech Category"
      ]
    },
    {
      "cell_type": "code",
      "metadata": {
        "colab_type": "code",
        "id": "xXdXdSaoBoUP",
        "colab": {}
      },
      "source": [
        "path_tech ='/content/gdrive/My Drive/fastai/data/BBC_Summarization/BBC News Summary/News Articles/tech/'\n",
        "path_tech_sum ='/content/gdrive/My Drive/fastai/data/BBC_Summarization/BBC News Summary/Summaries/tech/'"
      ],
      "execution_count": 0,
      "outputs": []
    },
    {
      "cell_type": "code",
      "metadata": {
        "hidden": true,
        "colab_type": "code",
        "id": "Ub6cFHq8BoUU",
        "colab": {}
      },
      "source": [
        "tech_files = []\n",
        "tech_sumfiles = []\n",
        "\n",
        "tech_files.extend(glob(path_tech+'*.txt'))\n",
        "tech_sumfiles.extend(glob(path_tech_sum+'*.txt'))"
      ],
      "execution_count": 0,
      "outputs": []
    },
    {
      "cell_type": "code",
      "metadata": {
        "colab_type": "code",
        "outputId": "dda24297-a56d-481b-cf5d-acfed57ac6f9",
        "id": "lzEnDDhYBoUY",
        "colab": {
          "base_uri": "https://localhost:8080/",
          "height": 52
        }
      },
      "source": [
        "tech_files[:2]"
      ],
      "execution_count": 23,
      "outputs": [
        {
          "output_type": "execute_result",
          "data": {
            "text/plain": [
              "['/content/gdrive/My Drive/fastai/data/BBC_Summarization/BBC News Summary/News Articles/tech/274.txt',\n",
              " '/content/gdrive/My Drive/fastai/data/BBC_Summarization/BBC News Summary/News Articles/tech/099.txt']"
            ]
          },
          "metadata": {
            "tags": []
          },
          "execution_count": 23
        }
      ]
    },
    {
      "cell_type": "code",
      "metadata": {
        "colab_type": "code",
        "id": "-_8nqKtJBoUf",
        "colab": {}
      },
      "source": [
        "#function to get summarization of text file in category 'politics'\n",
        "\n",
        "def tech_summarize(num,ratio=0.2):\n",
        "  with open(tech_files[num],'r') as f, open(tech_sumfiles[num],'r') as fs:\n",
        "    content = f.read()\n",
        "    content_sum = fs.read()\n",
        "    result = model(content,ratio,min_length=50)\n",
        "    print('------------------------------')\n",
        "    print('-----ARTICLE------------------------------------------------')\n",
        "    pprint(content)\n",
        "    print('-----BERT_SUM------------------------------------------------')\n",
        "    pprint(result)\n",
        "    print('-----LABEL_SUM-----------------------------------------------')\n",
        "    pprint(content_sum)\n",
        "  return result,content_sum\n"
      ],
      "execution_count": 0,
      "outputs": []
    },
    {
      "cell_type": "code",
      "metadata": {
        "id": "SbEBg7-x5egz",
        "colab_type": "code",
        "colab": {
          "base_uri": "https://localhost:8080/",
          "height": 1000
        },
        "outputId": "1b086490-2060-4f1c-97df-a877a9195fcf"
      },
      "source": [
        "result,content = tech_summarize(18)"
      ],
      "execution_count": 93,
      "outputs": [
        {
          "output_type": "stream",
          "text": [
            "20it [00:03,  6.39it/s]"
          ],
          "name": "stderr"
        },
        {
          "output_type": "stream",
          "text": [
            "------------------------------\n",
            "-----ARTICLE------------------------------------------------\n",
            "('Intel unveils laser breakthrough\\n'\n",
            " '\\n'\n",
            " 'Intel has unveiled research that could mean data is soon being moved around '\n",
            " 'chips at the speed of light.\\n'\n",
            " '\\n'\n",
            " 'Scientists at Intel have overcome a fundamental problem that before now has '\n",
            " 'prevented silicon being used to generate and amplify laser light. The '\n",
            " 'breakthrough should make it easier to interconnect data networks with the '\n",
            " 'chips that process the information. The Intel researchers said products '\n",
            " 'exploiting the breakthrough should appear by the end of the decade.\\n'\n",
            " '\\n'\n",
            " '\"We\\'ve overcome a fundamental limit,\" said Dr Mario Paniccia, director of '\n",
            " \"Intel's photonics technology lab. Writing in the journal Nature, Dr Paniccia \"\n",
            " '- and colleagues Haisheng Rong, Richard Jones, Ansheng Liu, Oded Cohen, Dani '\n",
            " 'Hak and Alexander Fang - show how they have made a continuous laser from the '\n",
            " 'same material used to make computer processors. Currently, says Dr Paniccia, '\n",
            " 'telecommunications equipment that amplifies the laser light that travels '\n",
            " 'down fibre optic cables is very expensive because of the exotic materials, '\n",
            " 'such as gallium arsenide, used to make it.\\n'\n",
            " '\\n'\n",
            " 'Telecommunications firms and chip makers would prefer to use silicon for '\n",
            " 'these light-moving elements because it is cheap and many of the problems of '\n",
            " 'using it in high-volume manufacturing have been solved. \"We\\'re trying to '\n",
            " 'take our silicon competency in manufacturing and apply it to new areas,\" '\n",
            " 'said Dr Paniccia. While work has been done to make some of the components '\n",
            " 'that can move light around, before now silicon has not successfully been '\n",
            " 'used to generate or amplify the laser light pulses used to send data over '\n",
            " 'long distances. This is despite the fact that silicon is a much better '\n",
            " 'amplifier of light pulses than the form of the material used in fibre optic '\n",
            " 'cables. This improved amplification is due to the crystalline structure of '\n",
            " 'the silicon used to make computer chips. Dr Paniccia said that the structure '\n",
            " 'of silicon meant that when laser light passed through it, some colliding '\n",
            " 'photons rip electrons off the atoms within the material. \"It creates a cloud '\n",
            " 'of electrons sitting in the silicon and that absorbs all the light,\" he '\n",
            " 'said. But the Intel researchers have found a way to suck away these errant '\n",
            " 'electrons and turn silicon into a material that can both generate and '\n",
            " 'amplify laser light. Even better, the laser light produced in this way can, '\n",
            " 'with the help of easy-to-make filters, be tuned across a very wide range of '\n",
            " 'frequencies. Semi-conductor lasers made before now have only produced light '\n",
            " 'in a narrow frequency ranges. The result could be the close integration of '\n",
            " 'the fibre optic cables that carry data as light with the computer chips that '\n",
            " 'process it. Dr Paniccia said the work was the one of several steps needed if '\n",
            " 'silicon was to be used to make components that could carry and process light '\n",
            " 'in the form of data pulses. \"It\\'s a technical validation that it can work,\" '\n",
            " 'he said.\\n')\n",
            "-----BERT_SUM------------------------------------------------\n",
            "('Intel unveils laser breakthrough\\n'\n",
            " '\\n'\n",
            " 'Intel has unveiled research that could mean data is soon being moved around '\n",
            " 'chips at the speed of light. Scientists at Intel have overcome a fundamental '\n",
            " 'problem that before now has prevented silicon being used to generate and '\n",
            " 'amplify laser light. The breakthrough should make it easier to interconnect '\n",
            " \"data networks with the chips that process the information. We're trying to \"\n",
            " 'take our silicon competency in manufacturing and apply it to new areas,\" '\n",
            " 'said Dr Paniccia. Dr Paniccia said the work was the one of several steps '\n",
            " 'needed if silicon was to be used to make components that could carry and '\n",
            " 'process light in the form of data pulses. \"')\n",
            "-----LABEL_SUM-----------------------------------------------\n",
            "('While work has been done to make some of the components that can move light '\n",
            " 'around, before now silicon has not successfully been used to generate or '\n",
            " 'amplify the laser light pulses used to send data over long distances.Dr '\n",
            " 'Paniccia said the work was the one of several steps needed if silicon was to '\n",
            " 'be used to make components that could carry and process light in the form of '\n",
            " 'data pulses.Dr Paniccia said that the structure of silicon meant that when '\n",
            " 'laser light passed through it, some colliding photons rip electrons off the '\n",
            " 'atoms within the material.Scientists at Intel have overcome a fundamental '\n",
            " 'problem that before now has prevented silicon being used to generate and '\n",
            " 'amplify laser light.But the Intel researchers have found a way to suck away '\n",
            " 'these errant electrons and turn silicon into a material that can both '\n",
            " 'generate and amplify laser light.\"It creates a cloud of electrons sitting in '\n",
            " 'the silicon and that absorbs all the light,\" he said.Currently, says Dr '\n",
            " 'Paniccia, telecommunications equipment that amplifies the laser light that '\n",
            " 'travels down fibre optic cables is very expensive because of the exotic '\n",
            " 'materials, such as gallium arsenide, used to make it.This is despite the '\n",
            " 'fact that silicon is a much better amplifier of light pulses than the form '\n",
            " 'of the material used in fibre optic cables.')\n"
          ],
          "name": "stdout"
        },
        {
          "output_type": "stream",
          "text": [
            "\n"
          ],
          "name": "stderr"
        }
      ]
    },
    {
      "cell_type": "markdown",
      "metadata": {
        "id": "wLoOGbcVEZQv",
        "colab_type": "text"
      },
      "source": [
        "[Comparison Result](https://copyleaks.com/compare-embed/compare-two-files/a06add53-eb08-4c81-8849-e6455a1b1915/12429058/1/1?key=x1xLAFMILXBO7f6rTyx9)"
      ]
    },
    {
      "cell_type": "markdown",
      "metadata": {
        "id": "u_nyg4XOD4nY",
        "colab_type": "text"
      },
      "source": [
        "![Results](https://i.ibb.co/sWqWR1w/Snip20190911-9.png)"
      ]
    },
    {
      "cell_type": "code",
      "metadata": {
        "id": "VQj4BIzO5eWt",
        "colab_type": "code",
        "colab": {
          "base_uri": "https://localhost:8080/",
          "height": 54
        },
        "outputId": "6dd545e3-b5e9-4965-8fb8-2bc97bed1abc"
      },
      "source": [
        "result"
      ],
      "execution_count": 88,
      "outputs": [
        {
          "output_type": "execute_result",
          "data": {
            "text/plain": [
              "'Intel unveils laser breakthrough\\n\\nIntel has unveiled research that could mean data is soon being moved around chips at the speed of light. Scientists at Intel have overcome a fundamental problem that before now has prevented silicon being used to generate and amplify laser light. We\\'re trying to take our silicon competency in manufacturing and apply it to new areas,\" said Dr Paniccia. This is despite the fact that silicon is a much better amplifier of light pulses than the form of the material used in fibre optic cables. Dr Paniccia said the work was the one of several steps needed if silicon was to be used to make components that could carry and process light in the form of data pulses. \"'"
            ]
          },
          "metadata": {
            "tags": []
          },
          "execution_count": 88
        }
      ]
    },
    {
      "cell_type": "code",
      "metadata": {
        "id": "oLz2y7Pt5eSy",
        "colab_type": "code",
        "colab": {}
      },
      "source": [
        "content"
      ],
      "execution_count": 0,
      "outputs": []
    },
    {
      "cell_type": "code",
      "metadata": {
        "id": "9lVwMPkcFP_p",
        "colab_type": "code",
        "colab": {
          "base_uri": "https://localhost:8080/",
          "height": 1000
        },
        "outputId": "656d253e-ad08-4c0b-bbd6-739c32216908"
      },
      "source": [
        "result2,content2 = tech_summarize(28)"
      ],
      "execution_count": 90,
      "outputs": [
        {
          "output_type": "stream",
          "text": [
            "14it [00:02,  4.48it/s]"
          ],
          "name": "stderr"
        },
        {
          "output_type": "stream",
          "text": [
            "------------------------------\n",
            "-----ARTICLE------------------------------------------------\n",
            "('Open source leaders slam patents\\n'\n",
            " '\\n'\n",
            " 'The war of words between Microsoft and the open source movement heated up '\n",
            " 'this week as Linux founder Linus Torvalds led an attack on software '\n",
            " 'patents.\\n'\n",
            " '\\n'\n",
            " 'In a panel discussion at a Linux summit in California Mr Torvalds said '\n",
            " 'software patents were a problem for the open source movement. Mitchell '\n",
            " 'Kapor, chairman of the Mozilla foundation, warned that Microsoft could use '\n",
            " 'patent lawsuits in the future. Linux is a freely-available alternative to '\n",
            " \"Microsoft's Windows. It relies on a community of programmers for its \"\n",
            " 'development and is based on open source principles, which allow others to '\n",
            " 'use and modify it without having to pay licence fees. The attack on software '\n",
            " 'patents comes at a time when IBM has made 500 of its patents freely '\n",
            " 'available. Other companies are expected to follow suit.\\n'\n",
            " '\\n'\n",
            " 'There are between 150,000 and 300,000 registered software patents in the US '\n",
            " 'and open source developers argue that many should never have been granted. '\n",
            " 'This is a view corroborated by the UK Patent Office. \"Some of the patents '\n",
            " 'have dubious validity and are being wielded by some big companies to force '\n",
            " \"smaller companies to buy licenses in the knowledge that they can't afford to \"\n",
            " 'take them to court,\" said Dr Jeremy Philpott of the UK Patent Office. Some '\n",
            " 'panel members are worried that Microsoft would issue a series of patent '\n",
            " 'lawsuits in the future. \"If totally pushed to the wall - because their '\n",
            " 'business model no longer holds up in an era in which open source is an '\n",
            " \"economically superior way to produce software...of course they're going to \"\n",
            " 'unleash the WMDs,\" Mr Kapor is reported as saying. Microsoft did not want to '\n",
            " 'comment directly, referring the issue instead to trade body Intellect, of '\n",
            " 'which it is a member. \"As far as Intellect is concerned, open source and '\n",
            " 'patents have co-existed for many years without problems,\" said spokeswoman '\n",
            " 'Jill Sutherland. \"The industry respects the open source movement and in fact '\n",
            " 'many of the members we represent use the open source system to develop '\n",
            " 'software,\" \"We think the important point to make is that companies should be '\n",
            " 'able to choose between patents, copyrights and open source as to the '\n",
            " 'treatment of their intellectual discoveries, and not be forced into using '\n",
            " 'one or the other,\" she added.\\n')\n",
            "-----BERT_SUM------------------------------------------------\n",
            "('Open source leaders slam patents\\n'\n",
            " '\\n'\n",
            " 'The war of words between Microsoft and the open source movement heated up '\n",
            " 'this week as Linux founder Linus Torvalds led an attack on software patents. '\n",
            " 'Mitchell Kapor, chairman of the Mozilla foundation, warned that Microsoft '\n",
            " 'could use patent lawsuits in the future. The industry respects the open '\n",
            " 'source movement and in fact many of the members we represent use the open '\n",
            " 'source system to develop software,\" \"We think the important point to make is '\n",
            " 'that companies should be able to choose between patents, copyrights and open '\n",
            " 'source as to the treatment of their intellectual discoveries, and not be '\n",
            " 'forced into using one or the other,\" she added.')\n",
            "-----LABEL_SUM-----------------------------------------------\n",
            "('In a panel discussion at a Linux summit in California Mr Torvalds said '\n",
            " 'software patents were a problem for the open source movement.There are '\n",
            " 'between 150,000 and 300,000 registered software patents in the US and open '\n",
            " 'source developers argue that many should never have been granted.\"The '\n",
            " 'industry respects the open source movement and in fact many of the members '\n",
            " 'we represent use the open source system to develop software,\" \"We think the '\n",
            " 'important point to make is that companies should be able to choose between '\n",
            " 'patents, copyrights and open source as to the treatment of their '\n",
            " 'intellectual discoveries, and not be forced into using one or the other,\" '\n",
            " 'she added.\"As far as Intellect is concerned, open source and patents have '\n",
            " 'co-existed for many years without problems,\" said spokeswoman Jill '\n",
            " 'Sutherland.The war of words between Microsoft and the open source movement '\n",
            " 'heated up this week as Linux founder Linus Torvalds led an attack on '\n",
            " 'software patents.Some panel members are worried that Microsoft would issue a '\n",
            " 'series of patent lawsuits in the future.')\n"
          ],
          "name": "stdout"
        },
        {
          "output_type": "stream",
          "text": [
            "\n"
          ],
          "name": "stderr"
        }
      ]
    },
    {
      "cell_type": "markdown",
      "metadata": {
        "id": "Kb58lZRXGiEW",
        "colab_type": "text"
      },
      "source": [
        "[Comparison Results](https://copyleaks.com/compare-embed/compare-two-files/bde32bad-9f90-4695-b033-d15ba624a55a/12429237/1/1?key=OOHUH5Aq2kHL3DrEjhS3)"
      ]
    },
    {
      "cell_type": "markdown",
      "metadata": {
        "id": "84zaOyKjGWT0",
        "colab_type": "text"
      },
      "source": [
        "![Results](https://i.ibb.co/vjYPLtm/Snip20190911-10.png\")"
      ]
    },
    {
      "cell_type": "code",
      "metadata": {
        "id": "TD1N10FpFP3J",
        "colab_type": "code",
        "colab": {
          "base_uri": "https://localhost:8080/",
          "height": 107
        },
        "outputId": "5cd13e82-d959-495a-a999-80fe78f8e0a2"
      },
      "source": [
        "print(result2)\n",
        "print(content2)"
      ],
      "execution_count": 91,
      "outputs": [
        {
          "output_type": "stream",
          "text": [
            "Open source leaders slam patents\n",
            "\n",
            "The war of words between Microsoft and the open source movement heated up this week as Linux founder Linus Torvalds led an attack on software patents. Mitchell Kapor, chairman of the Mozilla foundation, warned that Microsoft could use patent lawsuits in the future. The industry respects the open source movement and in fact many of the members we represent use the open source system to develop software,\" \"We think the important point to make is that companies should be able to choose between patents, copyrights and open source as to the treatment of their intellectual discoveries, and not be forced into using one or the other,\" she added.\n",
            "In a panel discussion at a Linux summit in California Mr Torvalds said software patents were a problem for the open source movement.There are between 150,000 and 300,000 registered software patents in the US and open source developers argue that many should never have been granted.\"The industry respects the open source movement and in fact many of the members we represent use the open source system to develop software,\" \"We think the important point to make is that companies should be able to choose between patents, copyrights and open source as to the treatment of their intellectual discoveries, and not be forced into using one or the other,\" she added.\"As far as Intellect is concerned, open source and patents have co-existed for many years without problems,\" said spokeswoman Jill Sutherland.The war of words between Microsoft and the open source movement heated up this week as Linux founder Linus Torvalds led an attack on software patents.Some panel members are worried that Microsoft would issue a series of patent lawsuits in the future.\n"
          ],
          "name": "stdout"
        }
      ]
    },
    {
      "cell_type": "code",
      "metadata": {
        "id": "NmG6sUH2MTjc",
        "colab_type": "code",
        "colab": {
          "base_uri": "https://localhost:8080/",
          "height": 1000
        },
        "outputId": "03495015-da73-47f8-ab8d-0ec43250ffd1"
      },
      "source": [
        "result3,content3 = tech_summarize(28,ratio=0.5)"
      ],
      "execution_count": 99,
      "outputs": [
        {
          "output_type": "stream",
          "text": [
            "14it [00:02,  4.28it/s]"
          ],
          "name": "stderr"
        },
        {
          "output_type": "stream",
          "text": [
            "------------------------------\n",
            "-----ARTICLE------------------------------------------------\n",
            "('Open source leaders slam patents\\n'\n",
            " '\\n'\n",
            " 'The war of words between Microsoft and the open source movement heated up '\n",
            " 'this week as Linux founder Linus Torvalds led an attack on software '\n",
            " 'patents.\\n'\n",
            " '\\n'\n",
            " 'In a panel discussion at a Linux summit in California Mr Torvalds said '\n",
            " 'software patents were a problem for the open source movement. Mitchell '\n",
            " 'Kapor, chairman of the Mozilla foundation, warned that Microsoft could use '\n",
            " 'patent lawsuits in the future. Linux is a freely-available alternative to '\n",
            " \"Microsoft's Windows. It relies on a community of programmers for its \"\n",
            " 'development and is based on open source principles, which allow others to '\n",
            " 'use and modify it without having to pay licence fees. The attack on software '\n",
            " 'patents comes at a time when IBM has made 500 of its patents freely '\n",
            " 'available. Other companies are expected to follow suit.\\n'\n",
            " '\\n'\n",
            " 'There are between 150,000 and 300,000 registered software patents in the US '\n",
            " 'and open source developers argue that many should never have been granted. '\n",
            " 'This is a view corroborated by the UK Patent Office. \"Some of the patents '\n",
            " 'have dubious validity and are being wielded by some big companies to force '\n",
            " \"smaller companies to buy licenses in the knowledge that they can't afford to \"\n",
            " 'take them to court,\" said Dr Jeremy Philpott of the UK Patent Office. Some '\n",
            " 'panel members are worried that Microsoft would issue a series of patent '\n",
            " 'lawsuits in the future. \"If totally pushed to the wall - because their '\n",
            " 'business model no longer holds up in an era in which open source is an '\n",
            " \"economically superior way to produce software...of course they're going to \"\n",
            " 'unleash the WMDs,\" Mr Kapor is reported as saying. Microsoft did not want to '\n",
            " 'comment directly, referring the issue instead to trade body Intellect, of '\n",
            " 'which it is a member. \"As far as Intellect is concerned, open source and '\n",
            " 'patents have co-existed for many years without problems,\" said spokeswoman '\n",
            " 'Jill Sutherland. \"The industry respects the open source movement and in fact '\n",
            " 'many of the members we represent use the open source system to develop '\n",
            " 'software,\" \"We think the important point to make is that companies should be '\n",
            " 'able to choose between patents, copyrights and open source as to the '\n",
            " 'treatment of their intellectual discoveries, and not be forced into using '\n",
            " 'one or the other,\" she added.\\n')\n",
            "-----BERT_SUM------------------------------------------------\n",
            "('Open source leaders slam patents\\n'\n",
            " '\\n'\n",
            " 'The war of words between Microsoft and the open source movement heated up '\n",
            " 'this week as Linux founder Linus Torvalds led an attack on software patents. '\n",
            " 'In a panel discussion at a Linux summit in California Mr Torvalds said '\n",
            " 'software patents were a problem for the open source movement. Linux is a '\n",
            " \"freely-available alternative to Microsoft's Windows. The attack on software \"\n",
            " 'patents comes at a time when IBM has made 500 of its patents freely '\n",
            " 'available. This is a view corroborated by the UK Patent Office. \" Some panel '\n",
            " 'members are worried that Microsoft would issue a series of patent lawsuits '\n",
            " 'in the future. \" The industry respects the open source movement and in fact '\n",
            " 'many of the members we represent use the open source system to develop '\n",
            " 'software,\" \"We think the important point to make is that companies should be '\n",
            " 'able to choose between patents, copyrights and open source as to the '\n",
            " 'treatment of their intellectual discoveries, and not be forced into using '\n",
            " 'one or the other,\" she added.')\n",
            "-----LABEL_SUM-----------------------------------------------\n",
            "('In a panel discussion at a Linux summit in California Mr Torvalds said '\n",
            " 'software patents were a problem for the open source movement.There are '\n",
            " 'between 150,000 and 300,000 registered software patents in the US and open '\n",
            " 'source developers argue that many should never have been granted.\"The '\n",
            " 'industry respects the open source movement and in fact many of the members '\n",
            " 'we represent use the open source system to develop software,\" \"We think the '\n",
            " 'important point to make is that companies should be able to choose between '\n",
            " 'patents, copyrights and open source as to the treatment of their '\n",
            " 'intellectual discoveries, and not be forced into using one or the other,\" '\n",
            " 'she added.\"As far as Intellect is concerned, open source and patents have '\n",
            " 'co-existed for many years without problems,\" said spokeswoman Jill '\n",
            " 'Sutherland.The war of words between Microsoft and the open source movement '\n",
            " 'heated up this week as Linux founder Linus Torvalds led an attack on '\n",
            " 'software patents.Some panel members are worried that Microsoft would issue a '\n",
            " 'series of patent lawsuits in the future.')\n"
          ],
          "name": "stdout"
        },
        {
          "output_type": "stream",
          "text": [
            "\n"
          ],
          "name": "stderr"
        }
      ]
    },
    {
      "cell_type": "code",
      "metadata": {
        "id": "YFhwidbyMTgH",
        "colab_type": "code",
        "colab": {
          "base_uri": "https://localhost:8080/",
          "height": 125
        },
        "outputId": "24df0ee7-4006-4c49-83a9-144df6d0375f"
      },
      "source": [
        "print(len(result3),len(content3))\n",
        "print(result3)\n",
        "print(content3)"
      ],
      "execution_count": 100,
      "outputs": [
        {
          "output_type": "stream",
          "text": [
            "1021 1054\n",
            "Open source leaders slam patents\n",
            "\n",
            "The war of words between Microsoft and the open source movement heated up this week as Linux founder Linus Torvalds led an attack on software patents. In a panel discussion at a Linux summit in California Mr Torvalds said software patents were a problem for the open source movement. Linux is a freely-available alternative to Microsoft's Windows. The attack on software patents comes at a time when IBM has made 500 of its patents freely available. This is a view corroborated by the UK Patent Office. \" Some panel members are worried that Microsoft would issue a series of patent lawsuits in the future. \" The industry respects the open source movement and in fact many of the members we represent use the open source system to develop software,\" \"We think the important point to make is that companies should be able to choose between patents, copyrights and open source as to the treatment of their intellectual discoveries, and not be forced into using one or the other,\" she added.\n",
            "In a panel discussion at a Linux summit in California Mr Torvalds said software patents were a problem for the open source movement.There are between 150,000 and 300,000 registered software patents in the US and open source developers argue that many should never have been granted.\"The industry respects the open source movement and in fact many of the members we represent use the open source system to develop software,\" \"We think the important point to make is that companies should be able to choose between patents, copyrights and open source as to the treatment of their intellectual discoveries, and not be forced into using one or the other,\" she added.\"As far as Intellect is concerned, open source and patents have co-existed for many years without problems,\" said spokeswoman Jill Sutherland.The war of words between Microsoft and the open source movement heated up this week as Linux founder Linus Torvalds led an attack on software patents.Some panel members are worried that Microsoft would issue a series of patent lawsuits in the future.\n"
          ],
          "name": "stdout"
        }
      ]
    },
    {
      "cell_type": "code",
      "metadata": {
        "id": "zcgIcI-TIinu",
        "colab_type": "code",
        "colab": {}
      },
      "source": [
        "from pprint import pprint"
      ],
      "execution_count": 0,
      "outputs": []
    },
    {
      "cell_type": "code",
      "metadata": {
        "id": "db0qhAahIeTL",
        "colab_type": "code",
        "colab": {
          "base_uri": "https://localhost:8080/",
          "height": 1000
        },
        "outputId": "43a70b85-76dc-4a8d-84a0-2b6219a73bab"
      },
      "source": [
        "result,content = tech_summarize(30)"
      ],
      "execution_count": 28,
      "outputs": [
        {
          "output_type": "stream",
          "text": [
            "11it [00:01,  5.54it/s]"
          ],
          "name": "stderr"
        },
        {
          "output_type": "stream",
          "text": [
            "------------------------------\n",
            "-----ARTICLE------------------------------------------------\n",
            "('Apple sues to stop product leaks\\n'\n",
            " '\\n'\n",
            " 'Computer firm Apple has issued a lawsuit to prevent online leaks of '\n",
            " 'information about future products.\\n'\n",
            " '\\n'\n",
            " 'The lawsuit, against an unidentified individual, comes just weeks before the '\n",
            " 'MacWorld conference in San Francisco, used to showcase new products. The '\n",
            " 'complaint said an \"unidentified individual... has recently misappropriated '\n",
            " 'and disseminated confidential information\". The lawsuit was filed with the '\n",
            " 'Santa Clara California Superior Court. Apple is famously secretive about its '\n",
            " 'future product launches while Apple users are equally famous for speculating '\n",
            " 'about new technology from the company. Fans have speculated in recent weeks '\n",
            " 'about the possibility of a new type of iPod being announced at the MacWorld '\n",
            " 'conference.\\n'\n",
            " '\\n'\n",
            " 'Apple said in the seven-page complaint, filed on 13 December, that it did '\n",
            " 'not know the \"true names or capacities, whether individual, associate, '\n",
            " 'corporate or otherwise,\" of the defendants. The company said it would amend '\n",
            " 'the complaint once they had discovered the names of those who had allegedly '\n",
            " 'leaked information. It is not the first time Apple has sued people who have '\n",
            " 'posted information about future products on the internet. In December 2002, '\n",
            " 'Apple sued a former contractor who allegedly posted online drawings, images '\n",
            " \"and engineering details of the company's PowerMac G4 computer. In a \"\n",
            " 'statement, Apple said of the current lawsuit: \"Apple has filed a civil '\n",
            " 'complaint against unnamed individuals who we believe stole our trade secrets '\n",
            " 'and posted detailed information about an unannounced Apple product on the '\n",
            " 'internet.\"\\n')\n",
            "-----BERT_SUM------------------------------------------------\n",
            "('Apple sues to stop product leaks\\n'\n",
            " '\\n'\n",
            " 'Computer firm Apple has issued a lawsuit to prevent online leaks of '\n",
            " 'information about future products. Apple is famously secretive about its '\n",
            " 'future product launches while Apple users are equally famous for speculating '\n",
            " 'about new technology from the company. The company said it would amend the '\n",
            " 'complaint once they had discovered the names of those who had allegedly '\n",
            " 'leaked information.')\n",
            "-----LABEL_SUM-----------------------------------------------\n",
            "('More people are becoming aware of online security issues but they have '\n",
            " 'little confidence that companies are doing enough to counter the threats, '\n",
            " 'said security firm RSA, which carried out the poll.The method it has '\n",
            " 'developed makes use of the chip embedded in bank cards and a special card '\n",
            " 'reader which can generate unique codes that are active for a specified '\n",
            " 'amount of time.Activcard is just one of the many companies, like RSA '\n",
            " 'Security, which has been trying to come up with just that.Almost 70% of '\n",
            " 'those asked in a poll said that net firms are not doing enough to protect '\n",
            " 'people.\"By the time they go back [to use the information], the code has '\n",
            " 'expired, so they can\\'t prove who they are,\" according to Mr Ash.Trust in '\n",
            " 'online security is falling as a result.It means that in a typical security '\n",
            " 'attack, explains Mr Ash, even if password information is captured by a '\n",
            " 'scammer using keystroke software or just through spoof websites, they need '\n",
            " 'the passcode.In a separate survey by RSA, 80% said they were fed up with '\n",
            " 'passwords and would like a better way to login to work computer systems.One '\n",
            " 'of the biggest challenges to improving security online is how to '\n",
            " \"authenticate an individual's identity.The survey of more than 1,000 people \"\n",
            " 'reported that 43% were not willing to hand over personal information '\n",
            " 'online.Several security companies have developed methods which complement or '\n",
            " 'replace passwords, which are easily compromised and easy to forget.For many, '\n",
            " 'the ideal is a single online identity that can be validated once with a '\n",
            " 'series of passwords and questions, or some biometric measurement like a '\n",
            " 'fingerprint or iris scan with a token like a smartcard.\"The PDA or phone '\n",
            " 'method is a possible alternative as people are always carrying phones '\n",
            " 'around,\" he said.It combines that with usual usernames and passwords, as '\n",
            " 'well as other security questions.Ensuring extra security measures are in '\n",
            " 'place protects them too, as well as the individual, and it is up to both '\n",
            " 'parties to make sure they do what is necessary to prevent fraud, he said.The '\n",
            " \"code is validated by the bank's systems, matching the information they \"\n",
            " 'expect with the customer\\'s unique key.He added: \"The challenge for banks is '\n",
            " 'to provide the customer with something that improves security but balances '\n",
            " 'that with usability.\"It is a 2048-bit long number that is virtually '\n",
            " 'impossible to crack,\" said Mr Ash.\"You take the card, put it in the reader, '\n",
            " 'enter your pin number, and a code is given.')\n"
          ],
          "name": "stdout"
        },
        {
          "output_type": "stream",
          "text": [
            "\n"
          ],
          "name": "stderr"
        }
      ]
    },
    {
      "cell_type": "code",
      "metadata": {
        "id": "AOAJc6MaJWbx",
        "colab_type": "code",
        "colab": {
          "base_uri": "https://localhost:8080/",
          "height": 107
        },
        "outputId": "bfd073ce-bf91-40cc-d0df-4ba7caa82cf7"
      },
      "source": [
        "print(result)\n",
        "print(content)"
      ],
      "execution_count": 29,
      "outputs": [
        {
          "output_type": "stream",
          "text": [
            "Apple sues to stop product leaks\n",
            "\n",
            "Computer firm Apple has issued a lawsuit to prevent online leaks of information about future products. Apple is famously secretive about its future product launches while Apple users are equally famous for speculating about new technology from the company. The company said it would amend the complaint once they had discovered the names of those who had allegedly leaked information.\n",
            "More people are becoming aware of online security issues but they have little confidence that companies are doing enough to counter the threats, said security firm RSA, which carried out the poll.The method it has developed makes use of the chip embedded in bank cards and a special card reader which can generate unique codes that are active for a specified amount of time.Activcard is just one of the many companies, like RSA Security, which has been trying to come up with just that.Almost 70% of those asked in a poll said that net firms are not doing enough to protect people.\"By the time they go back [to use the information], the code has expired, so they can't prove who they are,\" according to Mr Ash.Trust in online security is falling as a result.It means that in a typical security attack, explains Mr Ash, even if password information is captured by a scammer using keystroke software or just through spoof websites, they need the passcode.In a separate survey by RSA, 80% said they were fed up with passwords and would like a better way to login to work computer systems.One of the biggest challenges to improving security online is how to authenticate an individual's identity.The survey of more than 1,000 people reported that 43% were not willing to hand over personal information online.Several security companies have developed methods which complement or replace passwords, which are easily compromised and easy to forget.For many, the ideal is a single online identity that can be validated once with a series of passwords and questions, or some biometric measurement like a fingerprint or iris scan with a token like a smartcard.\"The PDA or phone method is a possible alternative as people are always carrying phones around,\" he said.It combines that with usual usernames and passwords, as well as other security questions.Ensuring extra security measures are in place protects them too, as well as the individual, and it is up to both parties to make sure they do what is necessary to prevent fraud, he said.The code is validated by the bank's systems, matching the information they expect with the customer's unique key.He added: \"The challenge for banks is to provide the customer with something that improves security but balances that with usability.\"It is a 2048-bit long number that is virtually impossible to crack,\" said Mr Ash.\"You take the card, put it in the reader, enter your pin number, and a code is given.\n"
          ],
          "name": "stdout"
        }
      ]
    },
    {
      "cell_type": "code",
      "metadata": {
        "id": "7-9LAZDQKHV7",
        "colab_type": "code",
        "colab": {}
      },
      "source": [
        ""
      ],
      "execution_count": 0,
      "outputs": []
    },
    {
      "cell_type": "code",
      "metadata": {
        "colab_type": "code",
        "id": "SjR_LQDNKH7_",
        "colab": {}
      },
      "source": [
        "path_tech ='/content/gdrive/My Drive/fastai/data/BBC_Summarization/BBC News Summary/News Articles/business/'\n",
        "path_tech_sum ='/content/gdrive/My Drive/fastai/data/BBC_Summarization/BBC News Summary/Summaries/business/'"
      ],
      "execution_count": 0,
      "outputs": []
    },
    {
      "cell_type": "code",
      "metadata": {
        "hidden": true,
        "colab_type": "code",
        "id": "djdvbuYpKH8J",
        "colab": {}
      },
      "source": [
        "tech_files = []\n",
        "tech_sumfiles = []\n",
        "\n",
        "tech_files.extend(glob(path_tech+'*.txt'))\n",
        "tech_sumfiles.extend(glob(path_tech_sum+'*.txt'))\n",
        "tech_files.sort()\n",
        "tech_sumfiles.sort()"
      ],
      "execution_count": 0,
      "outputs": []
    },
    {
      "cell_type": "code",
      "metadata": {
        "id": "eM1WoCa2MWEX",
        "colab_type": "code",
        "colab": {
          "base_uri": "https://localhost:8080/",
          "height": 72
        },
        "outputId": "e9afcdcd-9315-4883-be7e-fa58c8598e0e"
      },
      "source": [
        "tech_files[:2]"
      ],
      "execution_count": 59,
      "outputs": [
        {
          "output_type": "execute_result",
          "data": {
            "text/plain": [
              "['/content/gdrive/My Drive/fastai/data/BBC_Summarization/BBC News Summary/News Articles/business/001.txt',\n",
              " '/content/gdrive/My Drive/fastai/data/BBC_Summarization/BBC News Summary/News Articles/business/002.txt']"
            ]
          },
          "metadata": {
            "tags": []
          },
          "execution_count": 59
        }
      ]
    },
    {
      "cell_type": "code",
      "metadata": {
        "colab_type": "code",
        "id": "mjy_r694KH8Q",
        "colab": {}
      },
      "source": [
        "#function to get summarization of text file in category 'politics'\n",
        "\n",
        "def tech_summarize(num,ratio=0.5):\n",
        "  with open(tech_files[num],'r') as f, open(tech_sumfiles[num],'r') as fs:\n",
        "    content = f.read()\n",
        "    content_sum = fs.read()\n",
        "    result = model(content,ratio,min_length=50)\n",
        "    print('------------------------------')\n",
        "    print('-----ARTICLE------------------------------------------------')\n",
        "    pprint(content)\n",
        "    print('-----BERT_SUM------------------------------------------------')\n",
        "    pprint(result)\n",
        "    print('-----LABEL_SUM-----------------------------------------------')\n",
        "    pprint(content_sum)\n",
        "  return result,content_sum\n"
      ],
      "execution_count": 0,
      "outputs": []
    },
    {
      "cell_type": "code",
      "metadata": {
        "id": "MTXlz27OKHMN",
        "colab_type": "code",
        "colab": {
          "base_uri": "https://localhost:8080/",
          "height": 791
        },
        "outputId": "2106ee03-9966-4016-8422-fc142a0bbd15"
      },
      "source": [
        "a,b =   tech_summarize(5)"
      ],
      "execution_count": 61,
      "outputs": [
        {
          "output_type": "stream",
          "text": [
            "9it [00:01,  6.15it/s]\n"
          ],
          "name": "stderr"
        },
        {
          "output_type": "stream",
          "text": [
            "------------------------------\n",
            "-----ARTICLE------------------------------------------------\n",
            "('Japan narrowly escapes recession\\n'\n",
            " '\\n'\n",
            " \"Japan's economy teetered on the brink of a technical recession in the three \"\n",
            " 'months to September, figures show.\\n'\n",
            " '\\n'\n",
            " 'Revised figures indicated growth of just 0.1% - and a similar-sized '\n",
            " 'contraction in the previous quarter. On an annual basis, the data suggests '\n",
            " 'annual growth of just 0.2%, suggesting a much more hesitant recovery than '\n",
            " 'had previously been thought. A common technical definition of a recession is '\n",
            " 'two successive quarters of negative growth.\\n'\n",
            " '\\n'\n",
            " 'The government was keen to play down the worrying implications of the data. '\n",
            " '\"I maintain the view that Japan\\'s economy remains in a minor adjustment '\n",
            " 'phase in an upward climb, and we will monitor developments carefully,\" said '\n",
            " 'economy minister Heizo Takenaka. But in the face of the strengthening yen '\n",
            " 'making exports less competitive and indications of weakening economic '\n",
            " 'conditions ahead, observers were less sanguine. \"It\\'s painting a picture of '\n",
            " 'a recovery... much patchier than previously thought,\" said Paul Sheard, '\n",
            " 'economist at Lehman Brothers in Tokyo. Improvements in the job market '\n",
            " 'apparently have yet to feed through to domestic demand, with private '\n",
            " 'consumption up just 0.2% in the third quarter.\\n')\n",
            "-----BERT_SUM------------------------------------------------\n",
            "('Japan narrowly escapes recession\\n'\n",
            " '\\n'\n",
            " \"Japan's economy teetered on the brink of a technical recession in the three \"\n",
            " 'months to September, figures show. On an annual basis, the data suggests '\n",
            " 'annual growth of just 0.2%, suggesting a much more hesitant recovery than '\n",
            " 'had previously been thought. A common technical definition of a recession is '\n",
            " \"two successive quarters of negative growth. I maintain the view that Japan's \"\n",
            " 'economy remains in a minor adjustment phase in an upward climb, and we will '\n",
            " 'monitor developments carefully,\" said economy minister Heizo Takenaka. But '\n",
            " 'in the face of the strengthening yen making exports less competitive and '\n",
            " 'indications of weakening economic conditions ahead, observers were less '\n",
            " 'sanguine. \"')\n",
            "-----LABEL_SUM-----------------------------------------------\n",
            "('On an annual basis, the data suggests annual growth of just 0.2%, suggesting '\n",
            " 'a much more hesitant recovery than had previously been thought.A common '\n",
            " 'technical definition of a recession is two successive quarters of negative '\n",
            " 'growth.Revised figures indicated growth of just 0.1% - and a similar-sized '\n",
            " \"contraction in the previous quarter.Japan's economy teetered on the brink of \"\n",
            " 'a technical recession in the three months to September, figures show.')\n"
          ],
          "name": "stdout"
        }
      ]
    },
    {
      "cell_type": "code",
      "metadata": {
        "id": "p9Mi4EgbKG_m",
        "colab_type": "code",
        "colab": {
          "base_uri": "https://localhost:8080/",
          "height": 1000
        },
        "outputId": "c9504256-f1ac-4224-95c9-29df5c685063"
      },
      "source": [
        "a,b =   tech_summarize(100)"
      ],
      "execution_count": 62,
      "outputs": [
        {
          "output_type": "stream",
          "text": [
            "16it [00:02,  6.02it/s]\n"
          ],
          "name": "stderr"
        },
        {
          "output_type": "stream",
          "text": [
            "------------------------------\n",
            "-----ARTICLE------------------------------------------------\n",
            "('Australia rates at four year high\\n'\n",
            " '\\n'\n",
            " 'Australia is raising its benchmark interest rate to its highest level in '\n",
            " \"four years despite signs of a slowdown in the country's economy.\\n\"\n",
            " '\\n'\n",
            " 'The Reserve Bank of Australia lifted interest rates 0.25% to 5.5%, their '\n",
            " 'first upwards move in more than a year. However, shortly after the Bank made '\n",
            " 'its decision, new figures showed a fall in economic growth in the last '\n",
            " 'quarter. The Bank said it had acted to curb inflation but the move was '\n",
            " 'criticised by some analysts.\\n'\n",
            " '\\n'\n",
            " 'The rate hike was the first since December 2003 and had been well-flagged in '\n",
            " 'advance. However, opposition parties and some analysts said the move was '\n",
            " 'ill-timed given data showing the Australian economy grew just 0.1% between '\n",
            " 'October and December and 1.5% on an annual basis.\\n'\n",
            " '\\n'\n",
            " 'The figures, representing a decline from the 0.2% growth in GDP seen between '\n",
            " 'July and September, were below market expectations. Consumer spending '\n",
            " 'remains strong, however, and the Bank is concerned about growing '\n",
            " 'inflationary pressures. \"Over recent months it has become increasingly clear '\n",
            " 'that remaining spare capacity in the labour and goods markets is becoming '\n",
            " 'rather limited,\" said Ian Macfarlane, Governor of the Reserve Bank.\\n'\n",
            " '\\n'\n",
            " \"At 2.6%, inflation remains within the Bank's 2-3% target range. However, \"\n",
            " 'exports declined in the second half of 2004, fuelling a rise in the '\n",
            " \"country's current account deficit - the difference in the value of imports \"\n",
            " 'compared to exports - to a record Australian dollar 29.4bn. The Australian '\n",
            " 'government said the economy remained strong with unemployment at a near 30 '\n",
            " 'year low. \"The economy has been strong and it is properly moderating but it '\n",
            " 'doesn\\'t look to me like it\\'s slowing in any unreasonable way,\" said '\n",
            " 'Treasurer Peter Costello. Stock markets had factored in the likelihood of a '\n",
            " 'rate rise but analysts still expressed concern about the strength of the '\n",
            " 'economy. \"That 1.5% annual growth rate is the lowest we have seen since the '\n",
            " 'post-election slump we saw back in 2000-1,\" said Michael Blythe, chief '\n",
            " 'economist at the Commonwealth Bank of Australia. \"This suggests the economy '\n",
            " 'really did slow very sharply in the second half of 2004.\"\\n')\n",
            "-----BERT_SUM------------------------------------------------\n",
            "('Australia rates at four year high\\n'\n",
            " '\\n'\n",
            " 'Australia is raising its benchmark interest rate to its highest level in '\n",
            " \"four years despite signs of a slowdown in the country's economy. However, \"\n",
            " 'shortly after the Bank made its decision, new figures showed a fall in '\n",
            " 'economic growth in the last quarter. The Bank said it had acted to curb '\n",
            " 'inflation but the move was criticised by some analysts. The rate hike was '\n",
            " 'the first since December 2003 and had been well-flagged in advance. However, '\n",
            " 'opposition parties and some analysts said the move was ill-timed given data '\n",
            " 'showing the Australian economy grew just 0.1% between October and December '\n",
            " 'and 1.5% on an annual basis. Consumer spending remains strong, however, and '\n",
            " 'the Bank is concerned about growing inflationary pressures. \" Over recent '\n",
            " 'months it has become increasingly clear that remaining spare capacity in the '\n",
            " 'labour and goods markets is becoming rather limited,\" said Ian Macfarlane, '\n",
            " \"Governor of the Reserve Bank. At 2.6%, inflation remains within the Bank's \"\n",
            " '2-3% target range. However, exports declined in the second half of 2004, '\n",
            " \"fuelling a rise in the country's current account deficit - the difference in \"\n",
            " 'the value of imports compared to exports - to a record Australian dollar '\n",
            " '29.4bn.')\n",
            "-----LABEL_SUM-----------------------------------------------\n",
            "('The Reserve Bank of Australia lifted interest rates 0.25% to 5.5%, their '\n",
            " 'first upwards move in more than a year.However, opposition parties and some '\n",
            " 'analysts said the move was ill-timed given data showing the Australian '\n",
            " 'economy grew just 0.1% between October and December and 1.5% on an annual '\n",
            " 'basis.\"That 1.5% annual growth rate is the lowest we have seen since the '\n",
            " 'post-election slump we saw back in 2000-1,\" said Michael Blythe, chief '\n",
            " 'economist at the Commonwealth Bank of Australia.The Bank said it had acted '\n",
            " 'to curb inflation but the move was criticised by some analysts.The '\n",
            " 'Australian government said the economy remained strong with unemployment at '\n",
            " 'a near 30 year low.Australia is raising its benchmark interest rate to its '\n",
            " \"highest level in four years despite signs of a slowdown in the country's \"\n",
            " 'economy.Stock markets had factored in the likelihood of a rate rise but '\n",
            " 'analysts still expressed concern about the strength of the economy.')\n"
          ],
          "name": "stdout"
        }
      ]
    },
    {
      "cell_type": "code",
      "metadata": {
        "id": "wDHo6EpcKGot",
        "colab_type": "code",
        "colab": {}
      },
      "source": [
        ""
      ],
      "execution_count": 0,
      "outputs": []
    },
    {
      "cell_type": "markdown",
      "metadata": {
        "id": "cTX3BD8byE3X",
        "colab_type": "text"
      },
      "source": [
        "## Explore what happened behind the scene"
      ]
    },
    {
      "cell_type": "code",
      "metadata": {
        "id": "5n8WCNaePtoc",
        "colab_type": "code",
        "colab": {}
      },
      "source": [
        "!pip install pytorch-transformers"
      ],
      "execution_count": 0,
      "outputs": []
    },
    {
      "cell_type": "code",
      "metadata": {
        "id": "HJVoy_TkP5gG",
        "colab_type": "code",
        "colab": {}
      },
      "source": [
        "from pytorch_transformers import BertModel,BertTokenizer"
      ],
      "execution_count": 0,
      "outputs": []
    },
    {
      "cell_type": "code",
      "metadata": {
        "id": "XCE6DAq1P5dd",
        "colab_type": "code",
        "colab": {
          "base_uri": "https://localhost:8080/",
          "height": 34
        },
        "outputId": "f44d4dfa-2c37-4be3-f863-b09053ad73e2"
      },
      "source": [
        "bert_model = BertModel.from_pretrained('bert-base-uncased')\n",
        "tokenizer = BertTokenizer.from_pretrained('bert-base-uncased')"
      ],
      "execution_count": 107,
      "outputs": [
        {
          "output_type": "stream",
          "text": [
            "100%|██████████| 231508/231508 [00:00<00:00, 413971.71B/s]\n"
          ],
          "name": "stderr"
        }
      ]
    },
    {
      "cell_type": "code",
      "metadata": {
        "id": "OhEDuuHLP5Zb",
        "colab_type": "code",
        "colab": {
          "base_uri": "https://localhost:8080/",
          "height": 1000
        },
        "outputId": "d0ce9412-7606-47c3-bef6-f032c5e5535e"
      },
      "source": [
        "bert_model.eval()"
      ],
      "execution_count": 104,
      "outputs": [
        {
          "output_type": "execute_result",
          "data": {
            "text/plain": [
              "BertModel(\n",
              "  (embeddings): BertEmbeddings(\n",
              "    (word_embeddings): Embedding(30522, 768, padding_idx=0)\n",
              "    (position_embeddings): Embedding(512, 768)\n",
              "    (token_type_embeddings): Embedding(2, 768)\n",
              "    (LayerNorm): LayerNorm(torch.Size([768]), eps=1e-12, elementwise_affine=True)\n",
              "    (dropout): Dropout(p=0.1)\n",
              "  )\n",
              "  (encoder): BertEncoder(\n",
              "    (layer): ModuleList(\n",
              "      (0): BertLayer(\n",
              "        (attention): BertAttention(\n",
              "          (self): BertSelfAttention(\n",
              "            (query): Linear(in_features=768, out_features=768, bias=True)\n",
              "            (key): Linear(in_features=768, out_features=768, bias=True)\n",
              "            (value): Linear(in_features=768, out_features=768, bias=True)\n",
              "            (dropout): Dropout(p=0.1)\n",
              "          )\n",
              "          (output): BertSelfOutput(\n",
              "            (dense): Linear(in_features=768, out_features=768, bias=True)\n",
              "            (LayerNorm): LayerNorm(torch.Size([768]), eps=1e-12, elementwise_affine=True)\n",
              "            (dropout): Dropout(p=0.1)\n",
              "          )\n",
              "        )\n",
              "        (intermediate): BertIntermediate(\n",
              "          (dense): Linear(in_features=768, out_features=3072, bias=True)\n",
              "        )\n",
              "        (output): BertOutput(\n",
              "          (dense): Linear(in_features=3072, out_features=768, bias=True)\n",
              "          (LayerNorm): LayerNorm(torch.Size([768]), eps=1e-12, elementwise_affine=True)\n",
              "          (dropout): Dropout(p=0.1)\n",
              "        )\n",
              "      )\n",
              "      (1): BertLayer(\n",
              "        (attention): BertAttention(\n",
              "          (self): BertSelfAttention(\n",
              "            (query): Linear(in_features=768, out_features=768, bias=True)\n",
              "            (key): Linear(in_features=768, out_features=768, bias=True)\n",
              "            (value): Linear(in_features=768, out_features=768, bias=True)\n",
              "            (dropout): Dropout(p=0.1)\n",
              "          )\n",
              "          (output): BertSelfOutput(\n",
              "            (dense): Linear(in_features=768, out_features=768, bias=True)\n",
              "            (LayerNorm): LayerNorm(torch.Size([768]), eps=1e-12, elementwise_affine=True)\n",
              "            (dropout): Dropout(p=0.1)\n",
              "          )\n",
              "        )\n",
              "        (intermediate): BertIntermediate(\n",
              "          (dense): Linear(in_features=768, out_features=3072, bias=True)\n",
              "        )\n",
              "        (output): BertOutput(\n",
              "          (dense): Linear(in_features=3072, out_features=768, bias=True)\n",
              "          (LayerNorm): LayerNorm(torch.Size([768]), eps=1e-12, elementwise_affine=True)\n",
              "          (dropout): Dropout(p=0.1)\n",
              "        )\n",
              "      )\n",
              "      (2): BertLayer(\n",
              "        (attention): BertAttention(\n",
              "          (self): BertSelfAttention(\n",
              "            (query): Linear(in_features=768, out_features=768, bias=True)\n",
              "            (key): Linear(in_features=768, out_features=768, bias=True)\n",
              "            (value): Linear(in_features=768, out_features=768, bias=True)\n",
              "            (dropout): Dropout(p=0.1)\n",
              "          )\n",
              "          (output): BertSelfOutput(\n",
              "            (dense): Linear(in_features=768, out_features=768, bias=True)\n",
              "            (LayerNorm): LayerNorm(torch.Size([768]), eps=1e-12, elementwise_affine=True)\n",
              "            (dropout): Dropout(p=0.1)\n",
              "          )\n",
              "        )\n",
              "        (intermediate): BertIntermediate(\n",
              "          (dense): Linear(in_features=768, out_features=3072, bias=True)\n",
              "        )\n",
              "        (output): BertOutput(\n",
              "          (dense): Linear(in_features=3072, out_features=768, bias=True)\n",
              "          (LayerNorm): LayerNorm(torch.Size([768]), eps=1e-12, elementwise_affine=True)\n",
              "          (dropout): Dropout(p=0.1)\n",
              "        )\n",
              "      )\n",
              "      (3): BertLayer(\n",
              "        (attention): BertAttention(\n",
              "          (self): BertSelfAttention(\n",
              "            (query): Linear(in_features=768, out_features=768, bias=True)\n",
              "            (key): Linear(in_features=768, out_features=768, bias=True)\n",
              "            (value): Linear(in_features=768, out_features=768, bias=True)\n",
              "            (dropout): Dropout(p=0.1)\n",
              "          )\n",
              "          (output): BertSelfOutput(\n",
              "            (dense): Linear(in_features=768, out_features=768, bias=True)\n",
              "            (LayerNorm): LayerNorm(torch.Size([768]), eps=1e-12, elementwise_affine=True)\n",
              "            (dropout): Dropout(p=0.1)\n",
              "          )\n",
              "        )\n",
              "        (intermediate): BertIntermediate(\n",
              "          (dense): Linear(in_features=768, out_features=3072, bias=True)\n",
              "        )\n",
              "        (output): BertOutput(\n",
              "          (dense): Linear(in_features=3072, out_features=768, bias=True)\n",
              "          (LayerNorm): LayerNorm(torch.Size([768]), eps=1e-12, elementwise_affine=True)\n",
              "          (dropout): Dropout(p=0.1)\n",
              "        )\n",
              "      )\n",
              "      (4): BertLayer(\n",
              "        (attention): BertAttention(\n",
              "          (self): BertSelfAttention(\n",
              "            (query): Linear(in_features=768, out_features=768, bias=True)\n",
              "            (key): Linear(in_features=768, out_features=768, bias=True)\n",
              "            (value): Linear(in_features=768, out_features=768, bias=True)\n",
              "            (dropout): Dropout(p=0.1)\n",
              "          )\n",
              "          (output): BertSelfOutput(\n",
              "            (dense): Linear(in_features=768, out_features=768, bias=True)\n",
              "            (LayerNorm): LayerNorm(torch.Size([768]), eps=1e-12, elementwise_affine=True)\n",
              "            (dropout): Dropout(p=0.1)\n",
              "          )\n",
              "        )\n",
              "        (intermediate): BertIntermediate(\n",
              "          (dense): Linear(in_features=768, out_features=3072, bias=True)\n",
              "        )\n",
              "        (output): BertOutput(\n",
              "          (dense): Linear(in_features=3072, out_features=768, bias=True)\n",
              "          (LayerNorm): LayerNorm(torch.Size([768]), eps=1e-12, elementwise_affine=True)\n",
              "          (dropout): Dropout(p=0.1)\n",
              "        )\n",
              "      )\n",
              "      (5): BertLayer(\n",
              "        (attention): BertAttention(\n",
              "          (self): BertSelfAttention(\n",
              "            (query): Linear(in_features=768, out_features=768, bias=True)\n",
              "            (key): Linear(in_features=768, out_features=768, bias=True)\n",
              "            (value): Linear(in_features=768, out_features=768, bias=True)\n",
              "            (dropout): Dropout(p=0.1)\n",
              "          )\n",
              "          (output): BertSelfOutput(\n",
              "            (dense): Linear(in_features=768, out_features=768, bias=True)\n",
              "            (LayerNorm): LayerNorm(torch.Size([768]), eps=1e-12, elementwise_affine=True)\n",
              "            (dropout): Dropout(p=0.1)\n",
              "          )\n",
              "        )\n",
              "        (intermediate): BertIntermediate(\n",
              "          (dense): Linear(in_features=768, out_features=3072, bias=True)\n",
              "        )\n",
              "        (output): BertOutput(\n",
              "          (dense): Linear(in_features=3072, out_features=768, bias=True)\n",
              "          (LayerNorm): LayerNorm(torch.Size([768]), eps=1e-12, elementwise_affine=True)\n",
              "          (dropout): Dropout(p=0.1)\n",
              "        )\n",
              "      )\n",
              "      (6): BertLayer(\n",
              "        (attention): BertAttention(\n",
              "          (self): BertSelfAttention(\n",
              "            (query): Linear(in_features=768, out_features=768, bias=True)\n",
              "            (key): Linear(in_features=768, out_features=768, bias=True)\n",
              "            (value): Linear(in_features=768, out_features=768, bias=True)\n",
              "            (dropout): Dropout(p=0.1)\n",
              "          )\n",
              "          (output): BertSelfOutput(\n",
              "            (dense): Linear(in_features=768, out_features=768, bias=True)\n",
              "            (LayerNorm): LayerNorm(torch.Size([768]), eps=1e-12, elementwise_affine=True)\n",
              "            (dropout): Dropout(p=0.1)\n",
              "          )\n",
              "        )\n",
              "        (intermediate): BertIntermediate(\n",
              "          (dense): Linear(in_features=768, out_features=3072, bias=True)\n",
              "        )\n",
              "        (output): BertOutput(\n",
              "          (dense): Linear(in_features=3072, out_features=768, bias=True)\n",
              "          (LayerNorm): LayerNorm(torch.Size([768]), eps=1e-12, elementwise_affine=True)\n",
              "          (dropout): Dropout(p=0.1)\n",
              "        )\n",
              "      )\n",
              "      (7): BertLayer(\n",
              "        (attention): BertAttention(\n",
              "          (self): BertSelfAttention(\n",
              "            (query): Linear(in_features=768, out_features=768, bias=True)\n",
              "            (key): Linear(in_features=768, out_features=768, bias=True)\n",
              "            (value): Linear(in_features=768, out_features=768, bias=True)\n",
              "            (dropout): Dropout(p=0.1)\n",
              "          )\n",
              "          (output): BertSelfOutput(\n",
              "            (dense): Linear(in_features=768, out_features=768, bias=True)\n",
              "            (LayerNorm): LayerNorm(torch.Size([768]), eps=1e-12, elementwise_affine=True)\n",
              "            (dropout): Dropout(p=0.1)\n",
              "          )\n",
              "        )\n",
              "        (intermediate): BertIntermediate(\n",
              "          (dense): Linear(in_features=768, out_features=3072, bias=True)\n",
              "        )\n",
              "        (output): BertOutput(\n",
              "          (dense): Linear(in_features=3072, out_features=768, bias=True)\n",
              "          (LayerNorm): LayerNorm(torch.Size([768]), eps=1e-12, elementwise_affine=True)\n",
              "          (dropout): Dropout(p=0.1)\n",
              "        )\n",
              "      )\n",
              "      (8): BertLayer(\n",
              "        (attention): BertAttention(\n",
              "          (self): BertSelfAttention(\n",
              "            (query): Linear(in_features=768, out_features=768, bias=True)\n",
              "            (key): Linear(in_features=768, out_features=768, bias=True)\n",
              "            (value): Linear(in_features=768, out_features=768, bias=True)\n",
              "            (dropout): Dropout(p=0.1)\n",
              "          )\n",
              "          (output): BertSelfOutput(\n",
              "            (dense): Linear(in_features=768, out_features=768, bias=True)\n",
              "            (LayerNorm): LayerNorm(torch.Size([768]), eps=1e-12, elementwise_affine=True)\n",
              "            (dropout): Dropout(p=0.1)\n",
              "          )\n",
              "        )\n",
              "        (intermediate): BertIntermediate(\n",
              "          (dense): Linear(in_features=768, out_features=3072, bias=True)\n",
              "        )\n",
              "        (output): BertOutput(\n",
              "          (dense): Linear(in_features=3072, out_features=768, bias=True)\n",
              "          (LayerNorm): LayerNorm(torch.Size([768]), eps=1e-12, elementwise_affine=True)\n",
              "          (dropout): Dropout(p=0.1)\n",
              "        )\n",
              "      )\n",
              "      (9): BertLayer(\n",
              "        (attention): BertAttention(\n",
              "          (self): BertSelfAttention(\n",
              "            (query): Linear(in_features=768, out_features=768, bias=True)\n",
              "            (key): Linear(in_features=768, out_features=768, bias=True)\n",
              "            (value): Linear(in_features=768, out_features=768, bias=True)\n",
              "            (dropout): Dropout(p=0.1)\n",
              "          )\n",
              "          (output): BertSelfOutput(\n",
              "            (dense): Linear(in_features=768, out_features=768, bias=True)\n",
              "            (LayerNorm): LayerNorm(torch.Size([768]), eps=1e-12, elementwise_affine=True)\n",
              "            (dropout): Dropout(p=0.1)\n",
              "          )\n",
              "        )\n",
              "        (intermediate): BertIntermediate(\n",
              "          (dense): Linear(in_features=768, out_features=3072, bias=True)\n",
              "        )\n",
              "        (output): BertOutput(\n",
              "          (dense): Linear(in_features=3072, out_features=768, bias=True)\n",
              "          (LayerNorm): LayerNorm(torch.Size([768]), eps=1e-12, elementwise_affine=True)\n",
              "          (dropout): Dropout(p=0.1)\n",
              "        )\n",
              "      )\n",
              "      (10): BertLayer(\n",
              "        (attention): BertAttention(\n",
              "          (self): BertSelfAttention(\n",
              "            (query): Linear(in_features=768, out_features=768, bias=True)\n",
              "            (key): Linear(in_features=768, out_features=768, bias=True)\n",
              "            (value): Linear(in_features=768, out_features=768, bias=True)\n",
              "            (dropout): Dropout(p=0.1)\n",
              "          )\n",
              "          (output): BertSelfOutput(\n",
              "            (dense): Linear(in_features=768, out_features=768, bias=True)\n",
              "            (LayerNorm): LayerNorm(torch.Size([768]), eps=1e-12, elementwise_affine=True)\n",
              "            (dropout): Dropout(p=0.1)\n",
              "          )\n",
              "        )\n",
              "        (intermediate): BertIntermediate(\n",
              "          (dense): Linear(in_features=768, out_features=3072, bias=True)\n",
              "        )\n",
              "        (output): BertOutput(\n",
              "          (dense): Linear(in_features=3072, out_features=768, bias=True)\n",
              "          (LayerNorm): LayerNorm(torch.Size([768]), eps=1e-12, elementwise_affine=True)\n",
              "          (dropout): Dropout(p=0.1)\n",
              "        )\n",
              "      )\n",
              "      (11): BertLayer(\n",
              "        (attention): BertAttention(\n",
              "          (self): BertSelfAttention(\n",
              "            (query): Linear(in_features=768, out_features=768, bias=True)\n",
              "            (key): Linear(in_features=768, out_features=768, bias=True)\n",
              "            (value): Linear(in_features=768, out_features=768, bias=True)\n",
              "            (dropout): Dropout(p=0.1)\n",
              "          )\n",
              "          (output): BertSelfOutput(\n",
              "            (dense): Linear(in_features=768, out_features=768, bias=True)\n",
              "            (LayerNorm): LayerNorm(torch.Size([768]), eps=1e-12, elementwise_affine=True)\n",
              "            (dropout): Dropout(p=0.1)\n",
              "          )\n",
              "        )\n",
              "        (intermediate): BertIntermediate(\n",
              "          (dense): Linear(in_features=768, out_features=3072, bias=True)\n",
              "        )\n",
              "        (output): BertOutput(\n",
              "          (dense): Linear(in_features=3072, out_features=768, bias=True)\n",
              "          (LayerNorm): LayerNorm(torch.Size([768]), eps=1e-12, elementwise_affine=True)\n",
              "          (dropout): Dropout(p=0.1)\n",
              "        )\n",
              "      )\n",
              "    )\n",
              "  )\n",
              "  (pooler): BertPooler(\n",
              "    (dense): Linear(in_features=768, out_features=768, bias=True)\n",
              "    (activation): Tanh()\n",
              "  )\n",
              ")"
            ]
          },
          "metadata": {
            "tags": []
          },
          "execution_count": 104
        }
      ]
    },
    {
      "cell_type": "code",
      "metadata": {
        "id": "aVmoRtKHV_ON",
        "colab_type": "code",
        "colab": {
          "base_uri": "https://localhost:8080/",
          "height": 545
        },
        "outputId": "cea7a2d4-48f8-477c-f005-f466f89b919e"
      },
      "source": [
        "example_txt = 'The war of words between Microsoft and the open source movement heated up this week as Linux founder Linus Torvalds led an attack on software patents.'\n",
        "tokens = tokenizer.tokenize(example_txt)\n",
        "tokenizer.tokenize(example_txt)"
      ],
      "execution_count": 111,
      "outputs": [
        {
          "output_type": "execute_result",
          "data": {
            "text/plain": [
              "['the',\n",
              " 'war',\n",
              " 'of',\n",
              " 'words',\n",
              " 'between',\n",
              " 'microsoft',\n",
              " 'and',\n",
              " 'the',\n",
              " 'open',\n",
              " 'source',\n",
              " 'movement',\n",
              " 'heated',\n",
              " 'up',\n",
              " 'this',\n",
              " 'week',\n",
              " 'as',\n",
              " 'linux',\n",
              " 'founder',\n",
              " 'lin',\n",
              " '##us',\n",
              " 'tor',\n",
              " '##val',\n",
              " '##ds',\n",
              " 'led',\n",
              " 'an',\n",
              " 'attack',\n",
              " 'on',\n",
              " 'software',\n",
              " 'patents',\n",
              " '.']"
            ]
          },
          "metadata": {
            "tags": []
          },
          "execution_count": 111
        }
      ]
    },
    {
      "cell_type": "code",
      "metadata": {
        "id": "OY3bdLsKV_CJ",
        "colab_type": "code",
        "colab": {
          "base_uri": "https://localhost:8080/",
          "height": 545
        },
        "outputId": "6cff05aa-89b4-4fda-85f6-f3e2f69d13b0"
      },
      "source": [
        "#This whole process is exactly the same with tokenizer.encode(example_txt)\n",
        "indexed_tokens = tokenizer.convert_tokens_to_ids(tokens)\n",
        "tokenizer.convert_tokens_to_ids(tokens)"
      ],
      "execution_count": 113,
      "outputs": [
        {
          "output_type": "execute_result",
          "data": {
            "text/plain": [
              "[1996,\n",
              " 2162,\n",
              " 1997,\n",
              " 2616,\n",
              " 2090,\n",
              " 7513,\n",
              " 1998,\n",
              " 1996,\n",
              " 2330,\n",
              " 3120,\n",
              " 2929,\n",
              " 9685,\n",
              " 2039,\n",
              " 2023,\n",
              " 2733,\n",
              " 2004,\n",
              " 11603,\n",
              " 3910,\n",
              " 11409,\n",
              " 2271,\n",
              " 17153,\n",
              " 10175,\n",
              " 5104,\n",
              " 2419,\n",
              " 2019,\n",
              " 2886,\n",
              " 2006,\n",
              " 4007,\n",
              " 13979,\n",
              " 1012]"
            ]
          },
          "metadata": {
            "tags": []
          },
          "execution_count": 113
        }
      ]
    },
    {
      "cell_type": "code",
      "metadata": {
        "id": "e5i28hYnWeO4",
        "colab_type": "code",
        "colab": {
          "base_uri": "https://localhost:8080/",
          "height": 70
        },
        "outputId": "06ca3645-29cf-4aba-bc9e-911efa86133a"
      },
      "source": [
        "tokens_tensor = torch.tensor([indexed_tokens])\n",
        "torch.tensor([indexed_tokens])"
      ],
      "execution_count": 116,
      "outputs": [
        {
          "output_type": "execute_result",
          "data": {
            "text/plain": [
              "tensor([[ 1996,  2162,  1997,  2616,  2090,  7513,  1998,  1996,  2330,  3120,\n",
              "          2929,  9685,  2039,  2023,  2733,  2004, 11603,  3910, 11409,  2271,\n",
              "         17153, 10175,  5104,  2419,  2019,  2886,  2006,  4007, 13979,  1012]])"
            ]
          },
          "metadata": {
            "tags": []
          },
          "execution_count": 116
        }
      ]
    },
    {
      "cell_type": "code",
      "metadata": {
        "id": "TYkPiZJJXIND",
        "colab_type": "code",
        "colab": {}
      },
      "source": [
        "#input tensor to the model\n",
        "#Models from pytorch-transformer can return full list of hidden-states & attentions weights at each layer\n",
        "bert_model(tokens_tensor)"
      ],
      "execution_count": 0,
      "outputs": []
    },
    {
      "cell_type": "code",
      "metadata": {
        "id": "WryubTOhTGD-",
        "colab_type": "code",
        "colab": {}
      },
      "source": [
        "#Extract embeddings from bert_model\n",
        "def extract_embeddings(self, text: str, hidden: int=-2, squeeze: bool=False, reduce_option: str ='mean') -> ndarray:\n",
        "        tokens_tensor = self.tokenize_input(text)\n",
        "        hidden_states, pooled = self.model(tokens_tensor)\n",
        "\n",
        "        if hidden < -1 and hidden > -12:\n",
        "            if reduce_option == 'max':\n",
        "                pooled = hidden_states[hidden].max(dim=1)\n",
        "            elif reduce_option == 'median':\n",
        "                pooled = hidden_states[hidden].median(dim=1)\n",
        "            else:\n",
        "                pooled = hidden_states[hidden].mean(dim=1)\n",
        "\n",
        "        if squeeze:\n",
        "            return pooled.detach().numpy().squeeze()\n",
        "\n",
        "        return pooled\n"
      ],
      "execution_count": 0,
      "outputs": []
    },
    {
      "cell_type": "markdown",
      "metadata": {
        "id": "EOUUAe49bhuD",
        "colab_type": "text"
      },
      "source": [
        "![Outputs](https://i.ibb.co/t8GmJKy/Snip20190911-11.png)"
      ]
    },
    {
      "cell_type": "markdown",
      "metadata": {
        "id": "iGw2U6rOJrnD",
        "colab_type": "text"
      },
      "source": [
        "**Decomposition:**\n",
        "* PCA\n",
        "\n",
        "\n",
        "**Centroid-based Clustering:**\n",
        "* Kmeans\n",
        "* GaussianMixture\n",
        "\n",
        "k depends on num of features and ratio of compression\n",
        "\n",
        "**Can also try:**\n",
        "* HDBSCAN (don't need to set k)\n",
        "* others"
      ]
    },
    {
      "cell_type": "markdown",
      "metadata": {
        "id": "mL_NDLyfn2qS",
        "colab_type": "text"
      },
      "source": [
        "**Neural coreference techniques**:\n",
        "Check the official [README](https://github.com/huggingface/neuralcoref)\n",
        "\n",
        "It's using SpaCy's tagger, parser and NER annotations to identify a set of potential coreference mentions."
      ]
    },
    {
      "cell_type": "code",
      "metadata": {
        "id": "6b5yX8wSkxv_",
        "colab_type": "code",
        "colab": {}
      },
      "source": [
        ""
      ],
      "execution_count": 0,
      "outputs": []
    },
    {
      "cell_type": "markdown",
      "metadata": {
        "id": "GemqLAu6K6F2",
        "colab_type": "text"
      },
      "source": [
        "# Next Step:"
      ]
    },
    {
      "cell_type": "markdown",
      "metadata": {
        "id": "0Xqs1TizQc-D",
        "colab_type": "text"
      },
      "source": [
        "* Use RoBERTa as Source of Embeddings\n",
        "* Try Different Clustering Algorithms\n",
        "* Apply this Method on Chinese"
      ]
    }
  ]
}