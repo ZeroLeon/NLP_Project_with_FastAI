{
  "nbformat": 4,
  "nbformat_minor": 0,
  "metadata": {
    "colab": {
      "name": "Classical_Chinese_LM.ipynb",
      "version": "0.3.2",
      "provenance": [],
      "collapsed_sections": [],
      "include_colab_link": true
    },
    "kernelspec": {
      "name": "python3",
      "display_name": "Python 3"
    },
    "accelerator": "GPU"
  },
  "cells": [
    {
      "cell_type": "markdown",
      "metadata": {
        "id": "view-in-github",
        "colab_type": "text"
      },
      "source": [
        "<a href=\"https://colab.research.google.com/github/ZeroLeon/NLP_Project_with_FastAI/blob/master/Classical_Chinese_LM.ipynb\" target=\"_parent\"><img src=\"https://colab.research.google.com/assets/colab-badge.svg\" alt=\"Open In Colab\"/></a>"
      ]
    },
    {
      "cell_type": "markdown",
      "metadata": {
        "id": "4NGRwZy0kow5",
        "colab_type": "text"
      },
      "source": [
        "# Train a Language Model of Classical Chinese from Scratch"
      ]
    },
    {
      "cell_type": "markdown",
      "metadata": {
        "id": "A5PoOuM9k2ul",
        "colab_type": "text"
      },
      "source": [
        "## Load Data"
      ]
    },
    {
      "cell_type": "markdown",
      "metadata": {
        "id": "g8BtK9fSB5z6",
        "colab_type": "text"
      },
      "source": [
        "![替代文字](https://avatars3.githubusercontent.com/u/30764933?s=200&v=4)\n",
        "\n",
        "Chinese Poetry Dataset   [link](https://github.com/chinese-poetry/chinese-poetry)\n",
        "\n",
        "中华古诗词数据库, 唐宋两朝近一万四千古诗人, 接近5.5万首唐诗加26万宋诗. 两宋时期1564位词人，21050首词"
      ]
    },
    {
      "cell_type": "code",
      "metadata": {
        "id": "jGI9qCJ-55fJ",
        "colab_type": "code",
        "outputId": "8257e803-4847-482e-fe7f-ddde0dd3b13c",
        "colab": {
          "base_uri": "https://localhost:8080/",
          "height": 124
        }
      },
      "source": [
        "import os \n",
        "from pathlib import Path\n",
        "from google.colab import drive\n",
        "drive.mount('/content/gdrive',force_remount = True)\n",
        "base_dir = '/content/gdrive/My Drive/fastai'\n",
        "path = Path(base_dir +'/data/classical_chinese')\n",
        "path.mkdir(parents=True,exist_ok=True)\n",
        "os.chdir(path)"
      ],
      "execution_count": 0,
      "outputs": [
        {
          "output_type": "stream",
          "text": [
            "Go to this URL in a browser: https://accounts.google.com/o/oauth2/auth?client_id=947318989803-6bn6qk8qdgf4n4g3pfee6491hc0brc4i.apps.googleusercontent.com&redirect_uri=urn%3Aietf%3Awg%3Aoauth%3A2.0%3Aoob&scope=email%20https%3A%2F%2Fwww.googleapis.com%2Fauth%2Fdocs.test%20https%3A%2F%2Fwww.googleapis.com%2Fauth%2Fdrive%20https%3A%2F%2Fwww.googleapis.com%2Fauth%2Fdrive.photos.readonly%20https%3A%2F%2Fwww.googleapis.com%2Fauth%2Fpeopleapi.readonly&response_type=code\n",
            "\n",
            "Enter your authorization code:\n",
            "··········\n",
            "Mounted at /content/gdrive\n"
          ],
          "name": "stdout"
        }
      ]
    },
    {
      "cell_type": "code",
      "metadata": {
        "id": "eKp20cAAj7Pf",
        "colab_type": "code",
        "colab": {}
      },
      "source": [
        "#%%capture\n",
        "#!pip install plotly==4.0.0\n",
        "#import plotly.express as px\n",
        "from fastai.text import *\n",
        "from fastai.callbacks import *"
      ],
      "execution_count": 0,
      "outputs": []
    },
    {
      "cell_type": "code",
      "metadata": {
        "id": "wU38tG156B7i",
        "colab_type": "code",
        "outputId": "bb16189d-4a41-4fee-d41b-5e0ce71b5ecb",
        "colab": {
          "base_uri": "https://localhost:8080/",
          "height": 34
        }
      },
      "source": [
        "pwd"
      ],
      "execution_count": 0,
      "outputs": [
        {
          "output_type": "execute_result",
          "data": {
            "text/plain": [
              "'/content/gdrive/My Drive/fastai/data/classical_chinese'"
            ]
          },
          "metadata": {
            "tags": []
          },
          "execution_count": 3
        }
      ]
    },
    {
      "cell_type": "code",
      "metadata": {
        "id": "fpcpWENZseXX",
        "colab_type": "code",
        "colab": {}
      },
      "source": [
        "int_list = list(range(0,22000,1000))"
      ],
      "execution_count": 0,
      "outputs": []
    },
    {
      "cell_type": "code",
      "metadata": {
        "id": "IZ0Fuy50u17K",
        "colab_type": "code",
        "outputId": "94bbe745-6399-4353-c0f3-5f786b8f37d5",
        "colab": {
          "base_uri": "https://localhost:8080/",
          "height": 193
        }
      },
      "source": [
        "!pip install wget\n",
        "import wget"
      ],
      "execution_count": 0,
      "outputs": [
        {
          "output_type": "stream",
          "text": [
            "Collecting wget\n",
            "  Downloading https://files.pythonhosted.org/packages/47/6a/62e288da7bcda82b935ff0c6cfe542970f04e29c756b0e147251b2fb251f/wget-3.2.zip\n",
            "Building wheels for collected packages: wget\n",
            "  Building wheel for wget (setup.py) ... \u001b[?25l\u001b[?25hdone\n",
            "  Created wheel for wget: filename=wget-3.2-cp36-none-any.whl size=9681 sha256=0272493a8eed402d633b3ca0ff21187664c2b01e7b2ea521d07f868f4aa84002\n",
            "  Stored in directory: /root/.cache/pip/wheels/40/15/30/7d8f7cea2902b4db79e3fea550d7d7b85ecb27ef992b618f3f\n",
            "Successfully built wget\n",
            "Installing collected packages: wget\n",
            "Successfully installed wget-3.2\n"
          ],
          "name": "stdout"
        }
      ]
    },
    {
      "cell_type": "code",
      "metadata": {
        "id": "zpIlg060trGB",
        "colab_type": "code",
        "colab": {}
      },
      "source": [
        "\n",
        "for int in int_list:\n",
        "  wget.download(f'https://raw.githubusercontent.com/chinese-poetry/chinese-poetry/master/ci/ci.song.{int}.json')"
      ],
      "execution_count": 0,
      "outputs": []
    },
    {
      "cell_type": "code",
      "metadata": {
        "colab_type": "code",
        "id": "KpPXksVrvbhe",
        "colab": {}
      },
      "source": [
        "df_list = [pd.read_json(f'ci.song.{int}.json') for int in int_list]"
      ],
      "execution_count": 0,
      "outputs": []
    },
    {
      "cell_type": "code",
      "metadata": {
        "id": "SziWcsqroLTc",
        "colab_type": "code",
        "colab": {}
      },
      "source": [
        "df_a = pd.concat(df_list,ignore_index=True,sort=True)"
      ],
      "execution_count": 0,
      "outputs": []
    },
    {
      "cell_type": "code",
      "metadata": {
        "id": "myoCMFA3pqm6",
        "colab_type": "code",
        "outputId": "378abdb7-01ee-4f47-e6c5-b70a0e246616",
        "colab": {
          "base_uri": "https://localhost:8080/",
          "height": 34
        }
      },
      "source": [
        "df_a.shape"
      ],
      "execution_count": 0,
      "outputs": [
        {
          "output_type": "execute_result",
          "data": {
            "text/plain": [
              "(21050, 5)"
            ]
          },
          "metadata": {
            "tags": []
          },
          "execution_count": 60
        }
      ]
    },
    {
      "cell_type": "code",
      "metadata": {
        "id": "VpjYJuWErX22",
        "colab_type": "code",
        "outputId": "43989c41-6fea-47bf-aa32-5cedecb21855",
        "colab": {
          "base_uri": "https://localhost:8080/",
          "height": 138
        }
      },
      "source": [
        "df_a.head(3)"
      ],
      "execution_count": 0,
      "outputs": [
        {
          "output_type": "execute_result",
          "data": {
            "text/html": [
              "<div>\n",
              "<style scoped>\n",
              "    .dataframe tbody tr th:only-of-type {\n",
              "        vertical-align: middle;\n",
              "    }\n",
              "\n",
              "    .dataframe tbody tr th {\n",
              "        vertical-align: top;\n",
              "    }\n",
              "\n",
              "    .dataframe thead th {\n",
              "        text-align: right;\n",
              "    }\n",
              "</style>\n",
              "<table border=\"1\" class=\"dataframe\">\n",
              "  <thead>\n",
              "    <tr style=\"text-align: right;\">\n",
              "      <th></th>\n",
              "      <th>author</th>\n",
              "      <th>paragraphs</th>\n",
              "      <th>prologue</th>\n",
              "      <th>rhythmic</th>\n",
              "      <th>tags</th>\n",
              "    </tr>\n",
              "  </thead>\n",
              "  <tbody>\n",
              "    <tr>\n",
              "      <th>0</th>\n",
              "      <td>和岘</td>\n",
              "      <td>[气和玉烛，睿化著鸿明。, 缇管一阳生。, 郊盛礼燔柴毕，旋轸凤凰城。, 森罗仪卫振华缨。,...</td>\n",
              "      <td>NaN</td>\n",
              "      <td>导引</td>\n",
              "      <td>NaN</td>\n",
              "    </tr>\n",
              "    <tr>\n",
              "      <th>1</th>\n",
              "      <td>和岘</td>\n",
              "      <td>[严夜警，铜莲漏迟迟。, 清禁肃，森陛戟，羽卫俨皇闱。, 角声励，钲鼓攸宜。, 金管成雅奏，...</td>\n",
              "      <td>NaN</td>\n",
              "      <td>六州</td>\n",
              "      <td>NaN</td>\n",
              "    </tr>\n",
              "    <tr>\n",
              "      <th>2</th>\n",
              "      <td>和岘</td>\n",
              "      <td>[承宝运，驯致隆平。, 鸿庆被寰瀛。, 时清俗阜，治定功成。, 遐迩咏由庚。, 严郊祀，文物...</td>\n",
              "      <td>NaN</td>\n",
              "      <td>十二时・忆少年</td>\n",
              "      <td>NaN</td>\n",
              "    </tr>\n",
              "  </tbody>\n",
              "</table>\n",
              "</div>"
            ],
            "text/plain": [
              "  author                                         paragraphs  ... rhythmic tags\n",
              "0     和岘  [气和玉烛，睿化著鸿明。, 缇管一阳生。, 郊盛礼燔柴毕，旋轸凤凰城。, 森罗仪卫振华缨。,...  ...       导引  NaN\n",
              "1     和岘  [严夜警，铜莲漏迟迟。, 清禁肃，森陛戟，羽卫俨皇闱。, 角声励，钲鼓攸宜。, 金管成雅奏，...  ...       六州  NaN\n",
              "2     和岘  [承宝运，驯致隆平。, 鸿庆被寰瀛。, 时清俗阜，治定功成。, 遐迩咏由庚。, 严郊祀，文物...  ...  十二时・忆少年  NaN\n",
              "\n",
              "[3 rows x 5 columns]"
            ]
          },
          "metadata": {
            "tags": []
          },
          "execution_count": 61
        }
      ]
    },
    {
      "cell_type": "code",
      "metadata": {
        "id": "E0Lqno3RpOsW",
        "colab_type": "code",
        "colab": {}
      },
      "source": [
        "df_a['txt']=df_a.paragraphs.apply(''.join)"
      ],
      "execution_count": 0,
      "outputs": []
    },
    {
      "cell_type": "code",
      "metadata": {
        "id": "49qajhQtpOpp",
        "colab_type": "code",
        "outputId": "34ae99f1-0309-4ae4-afce-c264569d2e15",
        "colab": {
          "base_uri": "https://localhost:8080/",
          "height": 69
        }
      },
      "source": [
        "df_a.txt.sample(2)"
      ],
      "execution_count": 0,
      "outputs": [
        {
          "output_type": "execute_result",
          "data": {
            "text/plain": [
              "2304     黄道雨初乾。霁霭空蟠。东风杨柳碧毵毵。燕子不归花有恨，小院春寒。倦客亦何堪。尘满征衫。明朝野...\n",
              "20050    绿暗汀洲三月暮，落花风静帆收。垂杨低映木兰舟。半篙春水滑，一段夕阳愁。灞水桥东回首处，美人亲...\n",
              "Name: txt, dtype: object"
            ]
          },
          "metadata": {
            "tags": []
          },
          "execution_count": 67
        }
      ]
    },
    {
      "cell_type": "markdown",
      "metadata": {
        "id": "T9P_hscZk_SV",
        "colab_type": "text"
      },
      "source": [
        "Not entirely natural language, so need a pretrained model from scratch"
      ]
    },
    {
      "cell_type": "markdown",
      "metadata": {
        "id": "QS7NTIXelWss",
        "colab_type": "text"
      },
      "source": [
        "## Using sentencepiece as tokenizer"
      ]
    },
    {
      "cell_type": "markdown",
      "metadata": {
        "id": "kFugtTRWlg4J",
        "colab_type": "text"
      },
      "source": [
        "The advantage of SentencePiece:"
      ]
    },
    {
      "cell_type": "code",
      "metadata": {
        "id": "WCz5UWrVj3st",
        "colab_type": "code",
        "outputId": "87aac8f3-38f9-4a3c-dba9-3d7b20ff9b82",
        "colab": {
          "base_uri": "https://localhost:8080/",
          "height": 124
        }
      },
      "source": [
        "!pip install sentencepiece"
      ],
      "execution_count": 0,
      "outputs": [
        {
          "output_type": "stream",
          "text": [
            "Collecting sentencepiece\n",
            "\u001b[?25l  Downloading https://files.pythonhosted.org/packages/14/3d/efb655a670b98f62ec32d66954e1109f403db4d937c50d779a75b9763a29/sentencepiece-0.1.83-cp36-cp36m-manylinux1_x86_64.whl (1.0MB)\n",
            "\u001b[K     |████████████████████████████████| 1.0MB 42.0MB/s \n",
            "\u001b[?25hInstalling collected packages: sentencepiece\n",
            "Successfully installed sentencepiece-0.1.83\n"
          ],
          "name": "stdout"
        }
      ]
    },
    {
      "cell_type": "code",
      "metadata": {
        "id": "Np92mKLFj3qF",
        "colab_type": "code",
        "colab": {}
      },
      "source": [
        "data = (TextList.from_df(df_a,cols=['txt'],processor=SPProcessor(max_vocab_sz=10000,char_coverage=0.98))\n",
        "        .split_by_rand_pct(0.2,seed=42)\n",
        "        .label_for_lm()\n",
        "        .databunch(bs=16,num_workers=1))"
      ],
      "execution_count": 0,
      "outputs": []
    },
    {
      "cell_type": "code",
      "metadata": {
        "id": "OGAJI3rej3nQ",
        "colab_type": "code",
        "outputId": "20e97031-970c-4987-a08e-c885bf8b0ffd",
        "colab": {
          "base_uri": "https://localhost:8080/",
          "height": 34
        }
      },
      "source": [
        "len(data.vocab.itos),len(data.train_ds)"
      ],
      "execution_count": 0,
      "outputs": [
        {
          "output_type": "execute_result",
          "data": {
            "text/plain": [
              "(4240, 16840)"
            ]
          },
          "metadata": {
            "tags": []
          },
          "execution_count": 72
        }
      ]
    },
    {
      "cell_type": "code",
      "metadata": {
        "id": "3-MeAS4Oj3kh",
        "colab_type": "code",
        "colab": {}
      },
      "source": [
        "data.save('clasChinese_databunch')"
      ],
      "execution_count": 0,
      "outputs": []
    },
    {
      "cell_type": "code",
      "metadata": {
        "id": "l5X8gMA1j3h0",
        "colab_type": "code",
        "colab": {}
      },
      "source": [
        "data = load_data('.','clasChinese_databunch', bs=16)"
      ],
      "execution_count": 0,
      "outputs": []
    },
    {
      "cell_type": "code",
      "metadata": {
        "id": "tQ1ZIvCuj3fA",
        "colab_type": "code",
        "outputId": "23a13ab9-6039-4d16-c7bc-ba7e826a4a49",
        "colab": {
          "base_uri": "https://localhost:8080/",
          "height": 285
        }
      },
      "source": [
        "data.show_batch(5)"
      ],
      "execution_count": 0,
      "outputs": [
        {
          "output_type": "display_data",
          "data": {
            "text/html": [
              "<table border=\"1\" class=\"dataframe\">\n",
              "  <thead>\n",
              "    <tr style=\"text-align: right;\">\n",
              "      <th>idx</th>\n",
              "      <th>text</th>\n",
              "    </tr>\n",
              "  </thead>\n",
              "  <tbody>\n",
              "    <tr>\n",
              "      <td>0</td>\n",
              "      <td>海 澄 清 。 道 高 尧 舜 垂 衣 治 , 日月 并 文 明 。 嘉 &lt;unk&gt; 甘 露 登 歌 荐 , 云 物 &lt;unk&gt; 祥 经 。 &lt;unk&gt; 持 &lt;unk&gt; 德 , 未许 禅 云 亭 。 ▁xxbos ▁ 严 夜 &lt;unk&gt; , 铜 莲 漏 迟迟 。 清 禁 肃 , 森 &lt;unk&gt; 戟 , 羽 卫 &lt;unk&gt; 皇 闱 。 角声 &lt;unk&gt; , &lt;unk&gt;</td>\n",
              "    </tr>\n",
              "    <tr>\n",
              "      <td>1</td>\n",
              "      <td>峨 。 百年 强 半 , 来 日 苦 无多 。 坐 见 黄 州 再 &lt;unk&gt; , 儿童 尽 、 楚 语 吴 歌 。 山中 友 , 鸡 &lt;unk&gt; 社 酒 , 相 劝 老 东 坡 。 云 何 。 当 此去 , 人生 底事 , 来往 如 梭 。 待 闲 看 , 秋风 洛 水 清 波 。 好在 堂前 细 柳 , 应念 我</td>\n",
              "    </tr>\n",
              "    <tr>\n",
              "      <td>2</td>\n",
              "      <td>雨 收 。 长 波 千 万里 , 拍 天 流 。 云 帆 烟 棹 去 悠悠 。 西风 里 , 归 兴 满 沧 州 。 谩 道 醉 忘 忧 。 荡 高 怀 远 恨 , 更 悲秋 。 一 眉 山色 为谁 愁 。 黄昏 也 , 独自 倚 危楼 。 ▁xxbos ▁ 度 陇 信 音 谁与 寄 。 肠断 江南 千里 。 深</td>\n",
              "    </tr>\n",
              "    <tr>\n",
              "      <td>3</td>\n",
              "      <td>, 风 翻 旗 尾 , 潮 溅 乌 纱 。 今宵 正 对 初 弦 月 , 傍 水 驿 , 深 舣 蒹 葭 。 沈 恨 处 , 时时 自 &lt;unk&gt; 灯 花 。 ▁xxbos ▁ 条 风 布 暖 , 霏 雾 弄 晴 , 池塘 遍 满 春色 。 正是 夜 堂 无 月 , 沈沈 暗 寒食 。 梁 间 燕 , 前 社</td>\n",
              "    </tr>\n",
              "    <tr>\n",
              "      <td>4</td>\n",
              "      <td>绪 却 成 羞 。 天意 若 教 花 似 雪 , 客 情 宁 恨 鬓 如 秋 。 趁 他 何 &lt;unk&gt; 在 扬州 。 ▁xxbos ▁ 无限 春 情 不肯 休 。 江梅 未 动 使 人 愁 。 东 昏 觑 得 玉 奴 羞 。 对酒 情怀 疑是 梦 , 忆 花 天气 黯 如 秋 。 唤 春 云 梦 泽 南州 。 ▁xxbos</td>\n",
              "    </tr>\n",
              "  </tbody>\n",
              "</table>"
            ],
            "text/plain": [
              "<IPython.core.display.HTML object>"
            ]
          },
          "metadata": {
            "tags": []
          }
        }
      ]
    },
    {
      "cell_type": "code",
      "metadata": {
        "id": "3Pt1bX70j3ca",
        "colab_type": "code",
        "colab": {}
      },
      "source": [
        "learner = language_model_learner(data, AWD_LSTM, drop_mult=0.1, wd=0.1, pretrained=False).to_fp16()"
      ],
      "execution_count": 0,
      "outputs": []
    },
    {
      "cell_type": "code",
      "metadata": {
        "id": "bpULGp5F99MZ",
        "colab_type": "code",
        "outputId": "bb6f53fc-a46e-47a6-a8b9-a270b90a401c",
        "colab": {
          "base_uri": "https://localhost:8080/",
          "height": 34
        }
      },
      "source": [
        "learner.lr_find()"
      ],
      "execution_count": 0,
      "outputs": [
        {
          "output_type": "display_data",
          "data": {
            "text/html": [
              ""
            ],
            "text/plain": [
              "<IPython.core.display.HTML object>"
            ]
          },
          "metadata": {
            "tags": []
          }
        },
        {
          "output_type": "stream",
          "text": [
            "LR Finder is complete, type {learner_name}.recorder.plot() to see the graph.\n"
          ],
          "name": "stdout"
        }
      ]
    },
    {
      "cell_type": "code",
      "metadata": {
        "id": "4-ZrghhR_Sms",
        "colab_type": "code",
        "outputId": "5dd61a1c-c787-4911-caeb-e606fa098a72",
        "colab": {
          "base_uri": "https://localhost:8080/",
          "height": 283
        }
      },
      "source": [
        "learner.recorder.plot()"
      ],
      "execution_count": 0,
      "outputs": [
        {
          "output_type": "display_data",
          "data": {
            "image/png": "[encoded data removed]",
            "text/plain": [
              "<Figure size 432x288 with 1 Axes>"
            ]
          },
          "metadata": {
            "tags": []
          }
        }
      ]
    },
    {
      "cell_type": "code",
      "metadata": {
        "id": "pBubG9mcyY81",
        "colab_type": "code",
        "colab": {}
      },
      "source": [
        "lr = 3e-3"
      ],
      "execution_count": 0,
      "outputs": []
    },
    {
      "cell_type": "code",
      "metadata": {
        "id": "CLSkq4NXyY6L",
        "colab_type": "code",
        "outputId": "6dcf63df-ca26-44ab-aa82-3d60d19aacc4",
        "colab": {
          "base_uri": "https://localhost:8080/",
          "height": 78
        }
      },
      "source": [
        "learner.unfreeze()\n",
        "learner.fit_one_cycle(1, lr, moms=(0.8,0.7))"
      ],
      "execution_count": 0,
      "outputs": [
        {
          "output_type": "display_data",
          "data": {
            "text/html": [
              "<table border=\"1\" class=\"dataframe\">\n",
              "  <thead>\n",
              "    <tr style=\"text-align: left;\">\n",
              "      <th>epoch</th>\n",
              "      <th>train_loss</th>\n",
              "      <th>valid_loss</th>\n",
              "      <th>accuracy</th>\n",
              "      <th>time</th>\n",
              "    </tr>\n",
              "  </thead>\n",
              "  <tbody>\n",
              "    <tr>\n",
              "      <td>0</td>\n",
              "      <td>5.658759</td>\n",
              "      <td>5.630425</td>\n",
              "      <td>0.215179</td>\n",
              "      <td>01:00</td>\n",
              "    </tr>\n",
              "  </tbody>\n",
              "</table>"
            ],
            "text/plain": [
              "<IPython.core.display.HTML object>"
            ]
          },
          "metadata": {
            "tags": []
          }
        }
      ]
    },
    {
      "cell_type": "code",
      "metadata": {
        "id": "VXL5CRICyY3M",
        "colab_type": "code",
        "outputId": "3dfd479f-6781-4733-969e-279e076e906a",
        "colab": {
          "base_uri": "https://localhost:8080/",
          "height": 108
        }
      },
      "source": [
        "learner.fit_one_cycle(2, lr, moms=(0.8,0.7))"
      ],
      "execution_count": 0,
      "outputs": [
        {
          "output_type": "display_data",
          "data": {
            "text/html": [
              "<table border=\"1\" class=\"dataframe\">\n",
              "  <thead>\n",
              "    <tr style=\"text-align: left;\">\n",
              "      <th>epoch</th>\n",
              "      <th>train_loss</th>\n",
              "      <th>valid_loss</th>\n",
              "      <th>accuracy</th>\n",
              "      <th>time</th>\n",
              "    </tr>\n",
              "  </thead>\n",
              "  <tbody>\n",
              "    <tr>\n",
              "      <td>0</td>\n",
              "      <td>5.334357</td>\n",
              "      <td>5.299023</td>\n",
              "      <td>0.224823</td>\n",
              "      <td>01:00</td>\n",
              "    </tr>\n",
              "    <tr>\n",
              "      <td>1</td>\n",
              "      <td>5.060668</td>\n",
              "      <td>5.096434</td>\n",
              "      <td>0.234658</td>\n",
              "      <td>00:59</td>\n",
              "    </tr>\n",
              "  </tbody>\n",
              "</table>"
            ],
            "text/plain": [
              "<IPython.core.display.HTML object>"
            ]
          },
          "metadata": {
            "tags": []
          }
        }
      ]
    },
    {
      "cell_type": "markdown",
      "metadata": {
        "id": "1zQcK4DK1gkz",
        "colab_type": "text"
      },
      "source": [
        "relatively low acc:\n",
        "* More epochs\n",
        "* Small vocab\n",
        "* Ancinent words are much more abstract, which causes information loss.This makes it hard to predict next word in classical Chinese."
      ]
    },
    {
      "cell_type": "code",
      "metadata": {
        "id": "4548xe-RyY0v",
        "colab_type": "code",
        "colab": {}
      },
      "source": [
        ""
      ],
      "execution_count": 0,
      "outputs": []
    },
    {
      "cell_type": "markdown",
      "metadata": {
        "id": "XTAJfpZ8yZcd",
        "colab_type": "text"
      },
      "source": [
        "## Generating some text"
      ]
    },
    {
      "cell_type": "code",
      "metadata": {
        "id": "trmzSFGE4nHK",
        "colab_type": "code",
        "colab": {}
      },
      "source": [
        "text = \"雨 收 。 长 波 千 万里 , 拍 天 流\""
      ],
      "execution_count": 0,
      "outputs": []
    },
    {
      "cell_type": "code",
      "metadata": {
        "id": "O3PtxMtS9Lc_",
        "colab_type": "code",
        "outputId": "0f789a2d-e4e9-419b-ff4e-bffef0fdc4c5",
        "colab": {
          "base_uri": "https://localhost:8080/",
          "height": 34
        }
      },
      "source": [
        "#Lowering temperature will make the texts less randomized\n",
        "learner.predict(text, 3, temperature=0.9)"
      ],
      "execution_count": 0,
      "outputs": [
        {
          "output_type": "execute_result",
          "data": {
            "text/plain": [
              "'雨 收 。 长 波 千 万里 , 拍 天 流 枝 冷 暑'"
            ]
          },
          "metadata": {
            "tags": []
          },
          "execution_count": 54
        }
      ]
    },
    {
      "cell_type": "markdown",
      "metadata": {
        "id": "UzQyIm1y_G3Y",
        "colab_type": "text"
      },
      "source": [
        "Borrowed codes from [Sing4Me](https://mc.ai/sing4me%E2%80%8A-%E2%80%8Amusic-lyric-generation-with-fastai/)"
      ]
    },
    {
      "cell_type": "code",
      "metadata": {
        "id": "jl6U0rwm-A3s",
        "colab_type": "code",
        "colab": {}
      },
      "source": [
        "def generate_txt(word='', temp_init=1, decay=50, stops = ['.'], comma_limit=2, words=80):\n",
        "    seeds = ['雨', '风', '天', '流']\n",
        "    word = random.choice(seeds)\n",
        "    again = []\n",
        "    stops.append('xxbos')\n",
        "    last_4 = ['','','','']\n",
        "    total = []\n",
        "    stops.append('xxbos')\n",
        "    i = 0\n",
        "    commas = 0\n",
        "    temp = temp_init\n",
        "    while True:\n",
        "        if any(x in word for x in stops):\n",
        "            break\n",
        "        if commas > comma_limit:\n",
        "            break    \n",
        "        if all(x in (\" \".join([i for i in word.split()[-9:-5]])) for x in last_4) and (len(word.split()) > 10):\n",
        "            break\n",
        "        addition = learner.predict(word, 1, temperature=temp)\n",
        "        total.append(addition)\n",
        "        commas = addition.count(',')\n",
        "        last_4 = total[i].split()[-4:]\n",
        "        word = addition\n",
        "        i += 1\n",
        "        temp = max(abs((math.cos(i * math.pi / decay)))*temp_init,0.1)\n",
        "\n",
        "#below is the retokenization of the words\n",
        "    words = total[-2].split()\n",
        "    for i, word in enumerate(words):\n",
        "        if word == 'xxbos':\n",
        "            words[i] = '<br/>'\n",
        "        elif word == 'xxmaj':\n",
        "            words[i+1] = words[i+1][0].upper() + words[i+1][1:]\n",
        "            words[i] = ''\n",
        "        elif word == 'xxup':\n",
        "            words[i+1] = words[i+1].upper()\n",
        "            words[i] = ''     \n",
        "        elif word == '<unk>' or word == '(' or word == ')' or word == '\"'or word == '▁'or word == '▁xxrep':\n",
        "            words[i] = ''   \n",
        "        elif word == \"n't\":\n",
        "            words[i-1]+= words[i]\n",
        "            words[i] = ''\n",
        "        elif word == \",\":\n",
        "            words[i-1]+= words[i]\n",
        "            words[i] = ''\n",
        "        elif word == '.' or word == '?' or word == '!' or word == ';':\n",
        "            words[i-1]+= words[i]\n",
        "            words[i] = ''\n",
        "        elif word[0] == \"'\":\n",
        "            words[i-1]+= words[i]\n",
        "            words[i] = ''\n",
        "        elif word == ' ':\n",
        "            words[i] = ''\n",
        "        elif \"n't\" in word:\n",
        "            words[i-1]+= words[i]\n",
        "            words[i] = ''\n",
        "        elif word == \"na\":\n",
        "            words[i-1]+= words[i]\n",
        "            words[i] = ''\n",
        "        try:\n",
        "            words.remove('')\n",
        "        except:\n",
        "            continue\n",
        "            \n",
        "    return(' '.join(words))\n"
      ],
      "execution_count": 0,
      "outputs": []
    },
    {
      "cell_type": "code",
      "metadata": {
        "id": "SzgRlhsc-_Nk",
        "colab_type": "code",
        "outputId": "5e0f75e1-b536-4709-9ae4-8e494f81a62b",
        "colab": {
          "base_uri": "https://localhost:8080/",
          "height": 34
        }
      },
      "source": [
        "generate_txt()"
      ],
      "execution_count": 0,
      "outputs": [
        {
          "output_type": "execute_result",
          "data": {
            "text/plain": [
              "'风 入 春山 。 正 几 西 娥 临水 。 渐 霜 初 开 。 烟 日 初 浓 寒 晴 日 霁 。 ▁ ▁'"
            ]
          },
          "metadata": {
            "tags": []
          },
          "execution_count": 78
        }
      ]
    },
    {
      "cell_type": "code",
      "metadata": {
        "id": "StYb6uOSAqRA",
        "colab_type": "code",
        "colab": {}
      },
      "source": [
        ""
      ],
      "execution_count": 0,
      "outputs": []
    }
  ]
}