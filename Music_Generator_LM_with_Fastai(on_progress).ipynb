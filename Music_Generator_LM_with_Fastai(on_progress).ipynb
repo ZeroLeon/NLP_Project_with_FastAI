{
  "nbformat": 4,
  "nbformat_minor": 0,
  "metadata": {
    "colab": {
      "name": "Music_Generator_LM_with_Fastai(on progress).ipynb",
      "provenance": [],
      "include_colab_link": true
    },
    "kernelspec": {
      "name": "python3",
      "display_name": "Python 3"
    },
    "accelerator": "GPU"
  },
  "cells": [
    {
      "cell_type": "markdown",
      "metadata": {
        "id": "view-in-github",
        "colab_type": "text"
      },
      "source": [
        "<a href=\"https://colab.research.google.com/github/ZeroLeon/NLP_Project_with_FastAI/blob/master/Music_Generator_LM_with_Fastai(on_progress).ipynb\" target=\"_parent\"><img src=\"https://colab.research.google.com/assets/colab-badge.svg\" alt=\"Open In Colab\"/></a>"
      ]
    },
    {
      "cell_type": "markdown",
      "metadata": {
        "id": "gn1yowac0A3v",
        "colab_type": "text"
      },
      "source": [
        "# First Step: Reproduce the outcomes of other's models"
      ]
    },
    {
      "cell_type": "markdown",
      "metadata": {
        "id": "XUh86_l3NRF7",
        "colab_type": "text"
      },
      "source": [
        "Related Links:\n",
        "\n",
        "[Musenet](https://openai.com/blog/musenet/)\n",
        "\n",
        "[Musicautobot](https://musicautobot.com/#/song/aeee134e4034e5f98bb630c56d2f7f8c)\n",
        "\n",
        "[Musicautobot Source](https://github.com/bearpelican/musicautobot)\n",
        "\n",
        "[musical-neural-net](https://github.com/mcleavey/musical-neural-net)\n",
        "\n",
        "[piano-transformer](https://magenta.tensorflow.org/piano-transformer)\n",
        "\n",
        "\n",
        "Resources:\n",
        "\n",
        "[Classical Music MIDI(Kaggle Dataset)](https://www.kaggle.com/soumikrakshit/classical-music-midi)\n",
        "\n",
        "[Generating Music With Artificial Intelligence](https://towardsdatascience.com/generating-music-with-artificial-intelligence-9ce3c9eef806)\n",
        "\n"
      ]
    },
    {
      "cell_type": "markdown",
      "metadata": {
        "id": "_vrSUm7Jgok_",
        "colab_type": "text"
      },
      "source": [
        "Things about Processing MIDI files\n",
        "\n",
        "- **notewise**, Use string representing the pitch (the note name) and the octave.\n",
        "\n",
        "- **chordwise** Chords are set of notes that are played at the same time. \n",
        "\n",
        "- **Without considering time offsets of each element**. All the notes and chords will have the same duration.The way 'musical-neural-net' are using."
      ]
    },
    {
      "cell_type": "markdown",
      "metadata": {
        "id": "9vZ6-k86gbpT",
        "colab_type": "text"
      },
      "source": [
        "## piano-transformer"
      ]
    },
    {
      "cell_type": "code",
      "metadata": {
        "id": "5sBrfMaOga-a",
        "colab_type": "code",
        "colab": {}
      },
      "source": [
        ""
      ],
      "execution_count": 0,
      "outputs": []
    },
    {
      "cell_type": "code",
      "metadata": {
        "id": "3sldYfunzpIY",
        "colab_type": "code",
        "colab": {}
      },
      "source": [
        ""
      ],
      "execution_count": 0,
      "outputs": []
    },
    {
      "cell_type": "markdown",
      "metadata": {
        "id": "Khbx9YkVWkqR",
        "colab_type": "text"
      },
      "source": [
        "## musical-neural-net"
      ]
    },
    {
      "cell_type": "code",
      "metadata": {
        "id": "8U--Z8KnWlUx",
        "colab_type": "code",
        "outputId": "a279451d-22b0-4561-bf17-3736c06d32fa",
        "colab": {
          "base_uri": "https://localhost:8080/",
          "height": 125
        }
      },
      "source": [
        "import os \n",
        "from pathlib import Path\n",
        "from google.colab import drive\n",
        "drive.mount('/content/gdrive',force_remount = True)\n",
        "base_dir = '/content/gdrive/My Drive/fastai'\n",
        "path = Path(base_dir +'/data/')\n",
        "path.mkdir(parents=True,exist_ok=True) \n",
        "os.chdir(path)"
      ],
      "execution_count": 0,
      "outputs": [
        {
          "output_type": "stream",
          "text": [
            "Go to this URL in a browser: https://accounts.google.com/o/oauth2/auth?client_id=947318989803-6bn6qk8qdgf4n4g3pfee6491hc0brc4i.apps.googleusercontent.com&redirect_uri=urn%3Aietf%3Awg%3Aoauth%3A2.0%3Aoob&scope=email%20https%3A%2F%2Fwww.googleapis.com%2Fauth%2Fdocs.test%20https%3A%2F%2Fwww.googleapis.com%2Fauth%2Fdrive%20https%3A%2F%2Fwww.googleapis.com%2Fauth%2Fdrive.photos.readonly%20https%3A%2F%2Fwww.googleapis.com%2Fauth%2Fpeopleapi.readonly&response_type=code\n",
            "\n",
            "Enter your authorization code:\n",
            "··········\n",
            "Mounted at /content/gdrive\n"
          ],
          "name": "stdout"
        }
      ]
    },
    {
      "cell_type": "code",
      "metadata": {
        "id": "3u7udemUWl_7",
        "colab_type": "code",
        "colab": {}
      },
      "source": [
        "path = Path('/content/gdrive/My Drive/fastai/music_generator')\n",
        "os.chdir(path)"
      ],
      "execution_count": 0,
      "outputs": []
    },
    {
      "cell_type": "code",
      "metadata": {
        "id": "JtUP-4iBWl7X",
        "colab_type": "code",
        "outputId": "b0a7b923-1104-47be-9f46-2a29bb1e4293",
        "colab": {
          "base_uri": "https://localhost:8080/",
          "height": 118
        }
      },
      "source": [
        "!git clone https://github.com/mcleavey/musical-neural-net.git"
      ],
      "execution_count": 0,
      "outputs": [
        {
          "output_type": "stream",
          "text": [
            "Cloning into 'musical-neural-net'...\n",
            "remote: Enumerating objects: 30682, done.\u001b[K\n",
            "remote: Total 30682 (delta 0), reused 0 (delta 0), pack-reused 30682\n",
            "Receiving objects: 100% (30682/30682), 1.43 GiB | 14.93 MiB/s, done.\n",
            "Resolving deltas: 100% (25721/25721), done.\n",
            "Checking out files: 100% (247/247), done.\n"
          ],
          "name": "stdout"
        }
      ]
    },
    {
      "cell_type": "code",
      "metadata": {
        "id": "qfkLDafjXH0W",
        "colab_type": "code",
        "outputId": "f02314e4-1ee7-4b74-95e4-5253210b30a1",
        "colab": {
          "base_uri": "https://localhost:8080/",
          "height": 34
        }
      },
      "source": [
        "%cd musical-neural-net"
      ],
      "execution_count": 0,
      "outputs": [
        {
          "output_type": "stream",
          "text": [
            "/content/gdrive/My Drive/fastai/music_generator/musical-neural-net\n"
          ],
          "name": "stdout"
        }
      ]
    },
    {
      "cell_type": "code",
      "metadata": {
        "id": "GfmFVBM-e047",
        "colab_type": "code",
        "colab": {}
      },
      "source": [
        ""
      ],
      "execution_count": 0,
      "outputs": []
    },
    {
      "cell_type": "markdown",
      "metadata": {
        "id": "fUwrZGGMBkpN",
        "colab_type": "text"
      },
      "source": [
        "### Train a LM on midi files with fastai"
      ]
    },
    {
      "cell_type": "code",
      "metadata": {
        "id": "_yFoNWrOqOup",
        "colab_type": "code",
        "colab": {}
      },
      "source": [
        "tokenizer = Tokenizer()"
      ],
      "execution_count": 0,
      "outputs": []
    },
    {
      "cell_type": "code",
      "metadata": {
        "id": "-zxlr7nPB1_s",
        "colab_type": "code",
        "colab": {}
      },
      "source": [
        "def music_tokenizer(x): return x.split(\" \")"
      ],
      "execution_count": 0,
      "outputs": []
    },
    {
      "cell_type": "code",
      "metadata": {
        "id": "j6Sm0owVqPNo",
        "colab_type": "code",
        "colab": {}
      },
      "source": [
        "mu_tokenizer = Tokenizer(\n",
        "    tok_func= FastAiMusicTokenizer(music_tokenizer),\n",
        "    pre_rules=[], \n",
        "    post_rules=[]\n",
        ")"
      ],
      "execution_count": 0,
      "outputs": []
    },
    {
      "cell_type": "code",
      "metadata": {
        "id": "7Rvp3V3MuIfW",
        "colab_type": "code",
        "colab": {}
      },
      "source": [
        "class FastAiMusicTokenizer(BaseTokenizer):\n",
        "    def __init__(self, tokenizer: mu_tokenizer, **kwargs):\n",
        "        self._pretrained_tokenizer = tokenizer\n",
        "\n",
        "    def __call__(self, *args, **kwargs):\n",
        "        return self"
      ],
      "execution_count": 0,
      "outputs": []
    },
    {
      "cell_type": "code",
      "metadata": {
        "id": "r_EzOqhmtsEV",
        "colab_type": "code",
        "colab": {}
      },
      "source": [
        "databunch = TextLMDataBunch.from_folder('/content/gdrive/My Drive/fastai/music_generator/musical-neural-net/data', train='train', valid='test', \n",
        "                  tokenizer=mu_tokenizer,            \n",
        "                  include_bos=False,\n",
        "                  include_eos=False,\n",
        "             )"
      ],
      "execution_count": 0,
      "outputs": []
    },
    {
      "cell_type": "code",
      "metadata": {
        "id": "8uNjdYf_wTcl",
        "colab_type": "code",
        "outputId": "35a9a7ec-2e73-48f6-9e57-941fe902d834",
        "colab": {
          "base_uri": "https://localhost:8080/",
          "height": 995
        }
      },
      "source": [
        "databunch.show_batch(15)"
      ],
      "execution_count": 0,
      "outputs": [
        {
          "output_type": "display_data",
          "data": {
            "text/html": [
              "<table border=\"1\" class=\"dataframe\">\n",
              "  <thead>\n",
              "    <tr style=\"text-align: right;\">\n",
              "      <th>idx</th>\n",
              "      <th>text</th>\n",
              "    </tr>\n",
              "  </thead>\n",
              "  <tbody>\n",
              "    <tr>\n",
              "      <td>0</td>\n",
              "      <td>wait1 p11 wait5 endp11 endp58 wait1 p0 p12 p34 p46 wait5 endp0 endp12 wait1 p1 p13 wait5 endp1 endp13 endp46 wait1 p2 p14 p22 p34 wait5 endp2 endp14 wait1 p10 p17 wait3 endp10 endp17 wait2 endp22 endp34 wait1 p11 p46 p58 wait5 endp11 wait1 p0 p12 wait5 endp0 endp12 endp58 wait1 p1 p13 p34 p46 wait5 endp1 endp13 wait1 p2 p14 wait5 endp2 endp14 endp46 wait1 p3 p15 p22 p34</td>\n",
              "    </tr>\n",
              "    <tr>\n",
              "      <td>1</td>\n",
              "      <td>wait25 wait25 endp16 endp23 endp32 wait1 p40 wait25 wait25 wait1 endp40 wait3 p40 wait25 wait25 wait1 p40 wait25 wait25 wait25 wait25 wait25 wait12 endp40 wait1 p45 wait11 endp45 wait1 p43 wait11 endp43 wait2 p41 wait11 endp41 wait1 p38 wait11 endp38 wait3 p33 wait11 endp33 wait1 p35 wait11 endp35 wait3 p12 p31 wait23 endp12 wait2 p19 wait23 endp19 wait1 p24 p28 p36 p40 wait1 endp31 wait22 endp24 endp28 wait4 p19 wait20</td>\n",
              "    </tr>\n",
              "    <tr>\n",
              "      <td>2</td>\n",
              "      <td>p24 wait5 endp24 wait1 p26 wait5 endp26 wait1 p27 p36 p43 wait6 p20 p27 p36 p43 wait11 endp43 wait1 p20 p27 p36 p42 wait6 p20 p27 p36 p48 wait5 endp42 wait6 endp48 wait1 p20 p27 p36 p42 wait5 endp20 wait1 p19 p27 p36 p42 wait23 endp19 endp27 endp36 wait1 p42 endp42 p43 endp43 wait3 p40 endp40 wait1 p42 endp42 wait2 p45 wait8 endp45 wait1 p43 wait3 p19 p26 p35 p43</td>\n",
              "    </tr>\n",
              "    <tr>\n",
              "      <td>3</td>\n",
              "      <td>wait1 p33 p45 wait2 endp33 endp45 wait1 p34 p46 wait2 endp34 endp46 wait1 p35 p47 wait2 endp35 endp47 wait1 p30 p42 wait2 endp30 endp42 wait1 p33 p45 wait2 endp33 endp45 wait1 p31 p43 wait2 endp31 endp43 wait1 p30 p42 wait2 endp30 endp42 wait1 p28 p40 wait2 endp28 endp40 wait1 p26 p38 wait8 endp26 endp38 wait13 p30 p33 p38 wait3 p14 p26 wait2 endp14 endp26 wait6 endp38 wait1 p30 p33 p42</td>\n",
              "    </tr>\n",
              "    <tr>\n",
              "      <td>4</td>\n",
              "      <td>wait2 endp46 wait1 p44 wait2 endp44 wait1 p42 wait2 endp42 wait1 p44 wait2 endp44 wait1 p46 wait2 endp46 wait1 p47 wait2 endp47 wait1 p49 wait2 endp49 wait1 p51 wait2 endp51 wait1 p49 wait2 endp49 wait1 p47 wait2 endp47 wait1 p49 wait2 endp49 wait1 p51 wait2 endp51 wait1 p52 wait2 endp52 wait1 p54 wait2 endp54 wait1 p56 wait2 endp56 wait1 p57 wait2 endp57 wait1 p56 wait2 endp56 wait1 p54 wait2 endp54</td>\n",
              "    </tr>\n",
              "    <tr>\n",
              "      <td>5</td>\n",
              "      <td>p32 wait2 endp8 wait1 p10 p30 endp32 wait3 p29 endp30 wait3 endp29 wait3 p30 wait2 endp10 wait1 p6 endp30 p32 wait3 endp32 p34 wait3 endp34 wait3 p35 wait2 endp6 wait1 p1 p12 endp35 p37 wait3 p25 endp37 wait3 endp25 wait3 p24 wait2 endp12 wait1 p8 endp24 p25 wait3 endp25 p27 wait3 endp27 wait3 p29 wait2 endp1 endp8 wait1 p6 endp29 p30 wait11 endp30 wait13 p18 wait6 p30 wait5 endp18 endp30</td>\n",
              "    </tr>\n",
              "    <tr>\n",
              "      <td>6</td>\n",
              "      <td>p11 wait5 endp11 wait1 p12 wait5 endp12 wait1 p16 p19 p31 wait3 endp16 wait2 endp19 endp31 wait1 p28 wait5 endp28 wait1 p24 wait3 endp24 wait21 p23 wait5 endp23 wait1 p24 wait5 endp24 wait1 p27 p31 p43 wait3 endp27 wait2 endp31 endp43 wait1 p39 wait5 endp39 wait1 p36 wait3 endp36 wait21 p12 p24 p27 p31 p39 wait5 endp12 endp31 wait1 p17 p32 wait6 p17 p24 p27 p32 p39 wait12 p17 p24</td>\n",
              "    </tr>\n",
              "    <tr>\n",
              "      <td>7</td>\n",
              "      <td>wait1 p15 endp15 wait3 p19 p24 endp24 wait1 p15 endp15 p19 endp19 wait2 p0 p15 endp15 wait2 p19 wait1 endp0 p19 endp19 p24 endp24 wait2 endp12 wait1 p8 p15 endp15 wait3 p20 p24 endp24 wait1 p15 endp15 p20 endp20 wait2 p15 endp15 wait2 p20 wait1 p20 endp20 p24 endp24 wait3 p15 endp15 wait3 p20 p24 endp24 wait1 p15 endp15 p20 endp20 wait2 p0 p15 endp15 wait2 p20 wait1 p20 endp20</td>\n",
              "    </tr>\n",
              "    <tr>\n",
              "      <td>8</td>\n",
              "      <td>p32 p36 wait6 p27 p32 p36 wait2 endp41 endp53 wait1 p39 p51 wait2 endp27 endp32 endp39 endp51 wait1 p36 p48 wait2 endp36 endp48 wait1 p34 p46 wait3 p34 p46 wait2 endp34 endp46 wait1 p32 p44 wait3 p32 p44 wait2 endp32 endp44 wait1 p27 p39 wait2 endp27 endp39 wait1 p29 p41 wait17 endp29 endp41 wait1 p27 p39 wait5 endp27 endp39 wait1 p24 p36 wait5 endp24 endp36 wait1 p22 p34 wait5 endp22</td>\n",
              "    </tr>\n",
              "    <tr>\n",
              "      <td>9</td>\n",
              "      <td>p17 p32 p35 wait2 endp17 endp32 endp35 wait1 p18 p37 wait2 endp18 wait1 p20 p32 p35 wait2 endp20 endp32 endp35 wait1 p21 p37 wait3 p25 p30 p33 wait2 endp37 wait1 p25 p30 p33 p39 wait2 endp39 wait1 p25 p30 p33 p41 wait2 endp41 wait1 p25 p30 p33 p42 wait2 endp42 wait1 p25 p30 p33 p44 wait2 endp21 endp25 endp30 endp44 wait1 p13 p33 p45 wait3 p21 p28 p31 wait3 p21</td>\n",
              "    </tr>\n",
              "    <tr>\n",
              "      <td>10</td>\n",
              "      <td>wait3 endp32 wait2 endp8 endp20 wait1 p35 wait3 endp35 wait3 p4 p16 p28 wait8 endp4 endp16 endp28 wait10 p28 wait2 endp28 wait4 p28 wait2 endp28 wait4 p28 wait2 endp28 wait4 p28 wait2 endp28 wait4 p28 wait2 endp28 wait4 p27 p30 wait2 endp30 wait3 endp27 wait1 p23 p30 wait2 endp30 wait3 endp23 wait1 p28 p32 wait2 endp32 wait3 endp28 wait1 p26 p32 wait2 endp32 wait3 endp26 wait1 p25 p33 wait2 endp33</td>\n",
              "    </tr>\n",
              "    <tr>\n",
              "      <td>11</td>\n",
              "      <td>wait1 p56 endp56 wait1 p53 endp53 p54 wait3 p54 wait2 endp54 wait1 p56 wait2 endp35 endp39 endp56 wait1 p37 p40 p47 wait11 endp47 wait1 p46 wait5 endp37 endp40 endp46 wait1 p35 p39 p47 wait8 endp30 endp35 endp39 endp47 wait10 p20 p27 p32 p35 wait17 endp20 endp27 wait1 p16 p32 p35 p37 wait17 endp16 endp32 endp35 wait1 p18 p34 p37 p42 wait17 endp18 endp34 endp37 endp42 wait1 p11 p30 p35 p39</td>\n",
              "    </tr>\n",
              "    <tr>\n",
              "      <td>12</td>\n",
              "      <td>endp21 wait1 p13 p40 wait2 endp40 wait1 p21 p38 wait2 endp13 endp21 endp38 wait1 p16 p37 wait2 endp16 endp37 wait1 p21 p35 wait2 endp21 endp35 wait1 p16 p33 wait2 endp16 endp33 wait1 p21 p31 wait2 endp21 endp31 wait1 p14 p30 wait2 endp30 wait1 p21 wait2 endp14 endp21 wait1 p18 p33 wait2 endp18 endp33 wait1 p21 wait2 endp21 wait1 p18 p38 wait2 endp18 endp38 wait1 p21 wait2 endp21 wait1 p14 p42</td>\n",
              "    </tr>\n",
              "    <tr>\n",
              "      <td>13</td>\n",
              "      <td>wait1 p34 p39 wait2 endp39 wait1 p30 p34 wait2 endp27 endp30 wait1 p34 p39 wait2 endp34 endp39 wait1 p27 p37 p42 wait2 endp37 endp42 wait1 p34 p39 wait2 endp27 endp34 endp39 wait1 p32 p36 p48 wait2 endp48 wait1 p44 wait2 endp32 endp36 endp44 wait1 p39 wait2 endp39 wait1 p44 wait2 endp44 wait1 p20 p27 p48 wait2 endp20 endp27 endp48 wait1 p32 p44 wait2 endp32 endp44 wait1 p25 p36 p41 wait2</td>\n",
              "    </tr>\n",
              "    <tr>\n",
              "      <td>14</td>\n",
              "      <td>endp37 wait1 p26 p35 wait2 endp26 endp35 wait1 p18 p33 wait2 endp33 wait1 p38 wait2 endp38 wait1 p42 wait2 endp42 wait1 p40 wait2 endp18 endp40 wait1 p38 wait2 endp38 wait1 p37 wait2 endp37 wait1 p27 p35 wait2 endp35 wait1 p33 wait2 endp27 wait1 p28 p33 wait2 endp33 wait1 endp28 p32 wait2 endp32 wait1 p40 endp40 wait3 p38 endp38 wait3 p37 endp37 wait3 p35 endp35 wait3 p25 p33 endp33 wait3 p31</td>\n",
              "    </tr>\n",
              "  </tbody>\n",
              "</table>"
            ],
            "text/plain": [
              "<IPython.core.display.HTML object>"
            ]
          },
          "metadata": {
            "tags": []
          }
        }
      ]
    },
    {
      "cell_type": "code",
      "metadata": {
        "id": "zfqvIT_LHtWQ",
        "colab_type": "code",
        "outputId": "bf46685f-f97e-4041-bc41-6735c2409d9e",
        "colab": {
          "base_uri": "https://localhost:8080/",
          "height": 34
        }
      },
      "source": [
        "len(databunch.vocab.itos),len(databunch.train_ds)"
      ],
      "execution_count": 0,
      "outputs": [
        {
          "output_type": "execute_result",
          "data": {
            "text/plain": [
              "(160, 134)"
            ]
          },
          "metadata": {
            "tags": []
          },
          "execution_count": 50
        }
      ]
    },
    {
      "cell_type": "code",
      "metadata": {
        "id": "Q6UgO22Pw47d",
        "colab_type": "code",
        "colab": {}
      },
      "source": [
        "learn =  language_model_learner(databunch, AWD_LSTM, drop_mult=0.1, wd=0.1, pretrained=False).to_fp16()"
      ],
      "execution_count": 0,
      "outputs": []
    },
    {
      "cell_type": "code",
      "metadata": {
        "id": "bpULGp5F99MZ",
        "colab_type": "code",
        "outputId": "5a1fd5ca-80ea-424a-c703-c32836f2f0cb",
        "colab": {
          "base_uri": "https://localhost:8080/",
          "height": 34
        }
      },
      "source": [
        "learn.lr_find()"
      ],
      "execution_count": 0,
      "outputs": [
        {
          "output_type": "display_data",
          "data": {
            "text/html": [
              ""
            ],
            "text/plain": [
              "<IPython.core.display.HTML object>"
            ]
          },
          "metadata": {
            "tags": []
          }
        },
        {
          "output_type": "stream",
          "text": [
            "LR Finder is complete, type {learner_name}.recorder.plot() to see the graph.\n"
          ],
          "name": "stdout"
        }
      ]
    },
    {
      "cell_type": "code",
      "metadata": {
        "id": "4-ZrghhR_Sms",
        "colab_type": "code",
        "outputId": "5355329f-fbc9-4041-fb34-be4643d96f08",
        "colab": {
          "base_uri": "https://localhost:8080/",
          "height": 317
        }
      },
      "source": [
        "learn.recorder.plot(skip_end=1,suggestion=True)"
      ],
      "execution_count": 0,
      "outputs": [
        {
          "output_type": "stream",
          "text": [
            "Min numerical gradient: 1.74E-03\n",
            "Min loss divided by 10: 1.45E-02\n"
          ],
          "name": "stdout"
        },
        {
          "output_type": "display_data",
          "data": {
            "image/png": "[encoded data removed]",
            "text/plain": [
              "<Figure size 432x288 with 1 Axes>"
            ]
          },
          "metadata": {
            "tags": []
          }
        }
      ]
    },
    {
      "cell_type": "code",
      "metadata": {
        "id": "pBubG9mcyY81",
        "colab_type": "code",
        "colab": {}
      },
      "source": [
        "lr = 2e-3 #for AWD_LSTM"
      ],
      "execution_count": 0,
      "outputs": []
    },
    {
      "cell_type": "code",
      "metadata": {
        "id": "CLSkq4NXyY6L",
        "colab_type": "code",
        "outputId": "c8981315-8243-456f-9457-c22e6d3503ca",
        "colab": {
          "base_uri": "https://localhost:8080/",
          "height": 77
        }
      },
      "source": [
        "learn.unfreeze()\n",
        "learn.fit_one_cycle(1, lr, moms=(0.8,0.7))"
      ],
      "execution_count": 0,
      "outputs": [
        {
          "output_type": "display_data",
          "data": {
            "text/html": [
              "<table border=\"1\" class=\"dataframe\">\n",
              "  <thead>\n",
              "    <tr style=\"text-align: left;\">\n",
              "      <th>epoch</th>\n",
              "      <th>train_loss</th>\n",
              "      <th>valid_loss</th>\n",
              "      <th>accuracy</th>\n",
              "      <th>time</th>\n",
              "    </tr>\n",
              "  </thead>\n",
              "  <tbody>\n",
              "    <tr>\n",
              "      <td>0</td>\n",
              "      <td>1.119914</td>\n",
              "      <td>1.411093</td>\n",
              "      <td>0.616548</td>\n",
              "      <td>27:44</td>\n",
              "    </tr>\n",
              "  </tbody>\n",
              "</table>"
            ],
            "text/plain": [
              "<IPython.core.display.HTML object>"
            ]
          },
          "metadata": {
            "tags": []
          }
        }
      ]
    },
    {
      "cell_type": "code",
      "metadata": {
        "id": "GDDWev8vl0qg",
        "colab_type": "code",
        "outputId": "0d75208b-620f-455e-8563-048064295ecb",
        "colab": {
          "base_uri": "https://localhost:8080/",
          "height": 34
        }
      },
      "source": [
        "learn.save(path/'musical-neural-net/music_model0925',return_path=True)"
      ],
      "execution_count": 0,
      "outputs": [
        {
          "output_type": "execute_result",
          "data": {
            "text/plain": [
              "PosixPath('/content/gdrive/My Drive/fastai/music_generator/musical-neural-net/music_model0925.pth')"
            ]
          },
          "metadata": {
            "tags": []
          },
          "execution_count": 67
        }
      ]
    },
    {
      "cell_type": "code",
      "metadata": {
        "id": "3kujMCX1fL-I",
        "colab_type": "code",
        "outputId": "d01f1ae0-69c5-4b0c-9373-f5d800305c31",
        "colab": {
          "base_uri": "https://localhost:8080/",
          "height": 34
        }
      },
      "source": [
        "# learn.destroy()"
      ],
      "execution_count": 0,
      "outputs": [
        {
          "output_type": "stream",
          "text": [
            "this Learner object self-destroyed - it still exists, but no longer usable\n"
          ],
          "name": "stdout"
        }
      ]
    },
    {
      "cell_type": "code",
      "metadata": {
        "id": "0xMdrDqwmbge",
        "colab_type": "code",
        "colab": {}
      },
      "source": [
        "learn = language_model_learner(databunch, AWD_LSTM, drop_mult=0.1, wd=0.1).load('/content/gdrive/My Drive/fastai/music_generator/musical-neural-net/music_model0925')"
      ],
      "execution_count": 0,
      "outputs": []
    },
    {
      "cell_type": "code",
      "metadata": {
        "id": "VXL5CRICyY3M",
        "colab_type": "code",
        "colab": {}
      },
      "source": [
        "# Takes time to continue training\n",
        "# learn.fit_one_cycle(3, lr, moms=(0.8,0.7))"
      ],
      "execution_count": 0,
      "outputs": []
    },
    {
      "cell_type": "code",
      "metadata": {
        "id": "nGEY3cxBZ7Hr",
        "colab_type": "code",
        "colab": {}
      },
      "source": [
        "sample = 'p33 p39 wait3 endp39 wait3 p37 wait5 endp37 wait1 p36 wait5 endp33 endp36 wait1 p37 p52 wait5 endp37 endp52 wait1 p32 p51 wait5 endp51 wait1 p49 wait5 endp49 wait1 p48 wait5 endp48 wait1 p40 p49 wait1 endp32 wait1 endp40 wait3 endp49 wait1 p30 p39 p47 wait5 endp39 endp47 wait1 p37 p45 wait5 endp37 endp45 wait1 p36 p44 wait5'"
      ],
      "execution_count": 0,
      "outputs": []
    },
    {
      "cell_type": "code",
      "metadata": {
        "id": "Qz5wfBYLZ83q",
        "colab_type": "code",
        "colab": {}
      },
      "source": [
        "generated_music = learn.beam_search(sample,n_words=3,temperature)"
      ],
      "execution_count": 0,
      "outputs": []
    },
    {
      "cell_type": "code",
      "metadata": {
        "id": "hgrwW6zdojzb",
        "colab_type": "code",
        "outputId": "2e7e4717-f86f-4740-f644-6340e98a8323",
        "colab": {
          "base_uri": "https://localhost:8080/",
          "height": 34
        }
      },
      "source": [
        "len(sample),len(generated_music)"
      ],
      "execution_count": 0,
      "outputs": [
        {
          "output_type": "execute_result",
          "data": {
            "text/plain": [
              "(325, 667)"
            ]
          },
          "metadata": {
            "tags": []
          },
          "execution_count": 77
        }
      ]
    },
    {
      "cell_type": "code",
      "metadata": {
        "id": "kwQEuRzQojw_",
        "colab_type": "code",
        "outputId": "6334abcc-e838-4ee6-9f0d-2a1df3acb2e1",
        "colab": {
          "base_uri": "https://localhost:8080/",
          "height": 54
        }
      },
      "source": [
        "generated_music"
      ],
      "execution_count": 0,
      "outputs": [
        {
          "output_type": "execute_result",
          "data": {
            "text/plain": [
              "'p33 p39 wait3 endp39 wait3 p37 wait5 endp37 wait1 p36 wait5 endp33 endp36 wait1 p37 p52 wait5 endp37 endp52 wait1 p32 p51 wait5 endp51 wait1 p49 wait5 endp49 wait1 p48 wait5 endp48 wait1 p40 p49 wait1 endp32 wait1 endp40 wait3 endp49 wait1 p30 p39 p47 wait5 endp39 endp47 wait1 p37 p45 wait5 endp37 endp45 wait1 p36 p44 wait5 p39 wait3 endp39 wait3 p37 wait5 endp37 wait1 p36 wait5 endp33 endp36 wait1 p37 p52 wait5 endp37 endp52 wait1 p32 p51 wait5 endp51 wait1 p49 wait5 endp49 wait1 p48 wait5 endp48 wait1 p40 p49 wait1 endp32 wait1 endp40 wait3 endp49 wait1 p30 p39 p47 wait5 endp39 endp47 wait1 p37 p45 wait5 endp37 endp45 wait1 p36 p44 wait5 endp36 endp44 wait1'"
            ]
          },
          "metadata": {
            "tags": []
          },
          "execution_count": 78
        }
      ]
    },
    {
      "cell_type": "code",
      "metadata": {
        "id": "Vvj-Ner_DjjT",
        "colab_type": "code",
        "outputId": "52f7faaf-1859-4dea-bf67-b89d8a739065",
        "colab": {
          "base_uri": "https://localhost:8080/",
          "height": 34
        }
      },
      "source": [
        "%cd musical-neural-net"
      ],
      "execution_count": 0,
      "outputs": [
        {
          "output_type": "stream",
          "text": [
            "/content/gdrive/My Drive/fastai/music_generator/musical-neural-net\n"
          ],
          "name": "stdout"
        }
      ]
    },
    {
      "cell_type": "markdown",
      "metadata": {
        "id": "gMKlDzWKEPWA",
        "colab_type": "text"
      },
      "source": [
        "### Trying to convert string to midi file"
      ]
    },
    {
      "cell_type": "code",
      "metadata": {
        "id": "hiuCz-PdEv6O",
        "colab_type": "code",
        "colab": {}
      },
      "source": [
        "import os\n",
        "from pathlib import Path\n",
        "import numpy as np\n",
        "import pandas as pd\n",
        "from math import floor\n",
        "import music21\n",
        "import random\n",
        "import dill as pickle"
      ],
      "execution_count": 0,
      "outputs": []
    },
    {
      "cell_type": "code",
      "metadata": {
        "id": "2qWYyGAXe0yv",
        "colab_type": "code",
        "colab": {}
      },
      "source": [
        "def write_midi(s, filename, output_folder):\n",
        "    fp = s.write('midi', fp=output_folder/filename)\n",
        "    \n",
        "def string_inds_to_stream(string, sample_freq, note_offset, chordwise):\n",
        "    score_i = string.split(\" \")\n",
        "    if chordwise:\n",
        "        return arrToStreamChordwise(score_i, sample_freq, note_offset)\n",
        "    else:\n",
        "        return arrToStreamNotewise(score_i, sample_freq, note_offset)\n",
        "\n",
        "def arrToStreamChordwise(score, sample_freq, note_offset):\n",
        "\n",
        "    speed=1./sample_freq\n",
        "    piano_notes=[]\n",
        "    violin_notes=[]\n",
        "    time_offset=0\n",
        "    for i in range(len(score)):\n",
        "        if len(score[i])==0:\n",
        "            continue\n",
        "\n",
        "        for j in range(1,len(score[i])):\n",
        "            if score[i][j]==\"1\":\n",
        "                duration=2\n",
        "                new_note=music21.note.Note(j+note_offset)    \n",
        "                new_note.duration = music21.duration.Duration(duration*speed)\n",
        "                new_note.offset=(i+time_offset)*speed\n",
        "                if score[i][0]=='p':\n",
        "                    piano_notes.append(new_note)\n",
        "                elif score[i][0]=='v':\n",
        "                    violin_notes.append(new_note)\n",
        "    violin=music21.instrument.fromString(\"Violin\")\n",
        "    piano=music21.instrument.fromString(\"Piano\")\n",
        "    violin_notes.insert(0, violin)\n",
        "    piano_notes.insert(0, piano)\n",
        "    violin_stream=music21.stream.Stream(violin_notes)\n",
        "    piano_stream=music21.stream.Stream(piano_notes)\n",
        "    main_stream = music21.stream.Stream([violin_stream, piano_stream])\n",
        "    return main_stream\n",
        "                    \n",
        "def arrToStreamNotewise(score, sample_freq, note_offset):\n",
        "    speed=1./sample_freq\n",
        "    piano_notes=[]\n",
        "    violin_notes=[]\n",
        "    time_offset=0\n",
        "    \n",
        "    i=0\n",
        "    while i<len(score):\n",
        "        if score[i][:9]==\"p_octave_\":\n",
        "            add_wait=\"\"\n",
        "            if score[i][-3:]==\"eoc\":\n",
        "                add_wait=\"eoc\"\n",
        "                score[i]=score[i][:-3]\n",
        "            this_note=score[i][9:]\n",
        "            score[i]=\"p\"+this_note\n",
        "            score.insert(i+1, \"p\"+str(int(this_note)+12)+add_wait)\n",
        "            i+=1\n",
        "        i+=1\n",
        "        \n",
        "    for i in range(len(score)):\n",
        "        if score[i] in [\"\", \" \", \"<eos>\", \"<unk>\"]:\n",
        "            continue\n",
        "        elif score[i][:3]==\"end\":\n",
        "            if score[i][-3:]==\"eoc\":\n",
        "                time_offset+=1\n",
        "            continue\n",
        "        elif score[i][:4]==\"wait\":\n",
        "            time_offset+=int(score[i][4:])\n",
        "            continue\n",
        "        else:\n",
        "            # Look ahead to see if an end<noteid> was generated\n",
        "            # soon after.  \n",
        "            duration=1\n",
        "            has_end=False\n",
        "            note_string_len = len(score[i])\n",
        "            for j in range(1,200):\n",
        "                if i+j==len(score):\n",
        "                    break\n",
        "                if score[i+j][:4]==\"wait\":\n",
        "                    duration+=int(score[i+j][4:])\n",
        "                if score[i+j][:3+note_string_len]==\"end\"+score[i] or score[i+j][:note_string_len]==score[i]:\n",
        "                    has_end=True\n",
        "                    break\n",
        "                if score[i+j][-3:]==\"eoc\":\n",
        "                    duration+=1\n",
        "\n",
        "            if not has_end:\n",
        "                duration=12\n",
        "\n",
        "            add_wait = 0\n",
        "            if score[i][-3:]==\"eoc\":\n",
        "                score[i]=score[i][:-3]\n",
        "                add_wait = 1\n",
        "\n",
        "            try: \n",
        "                new_note=music21.note.Note(int(score[i][1:])+note_offset)    \n",
        "                new_note.duration = music21.duration.Duration(duration*speed)\n",
        "                new_note.offset=time_offset*speed\n",
        "                if score[i][0]==\"v\":\n",
        "                    violin_notes.append(new_note)\n",
        "                else:\n",
        "                    piano_notes.append(new_note)                \n",
        "            except:\n",
        "                print(\"Unknown note: \" + score[i])\n",
        "\n",
        "            \n",
        "\n",
        "            \n",
        "            time_offset+=add_wait\n",
        "                \n",
        "    violin=music21.instrument.fromString(\"Violin\")\n",
        "    piano=music21.instrument.fromString(\"Piano\")\n",
        "    violin_notes.insert(0, violin)\n",
        "    piano_notes.insert(0, piano)\n",
        "    violin_stream=music21.stream.Stream(violin_notes)\n",
        "    piano_stream=music21.stream.Stream(piano_notes)\n",
        "    main_stream = music21.stream.Stream([violin_stream, piano_stream])\n",
        "    return main_stream\n",
        "\n",
        "def write_mid_mp3_wav(stream, fname, sample_freq, note_offset, out, chordwise):\n",
        "    stream_out=string_inds_to_stream(stream, sample_freq, note_offset, chordwise)\n",
        "    write_midi(stream_out, fname, out)\n",
        "    base=out/fname[:-4]\n",
        "    os.system(f'./data/mid2mp3.sh {base}.mid')\n",
        "    os.system(f'mpg123 -w {base}.wav {base}.mp3')  "
      ],
      "execution_count": 0,
      "outputs": []
    },
    {
      "cell_type": "code",
      "metadata": {
        "id": "yF2orUD4e0wL",
        "colab_type": "code",
        "colab": {}
      },
      "source": [
        "write_mid_mp3_wav(generated_music, 'zero.mid', 12, 33, Path('.'), False)"
      ],
      "execution_count": 0,
      "outputs": []
    },
    {
      "cell_type": "code",
      "metadata": {
        "id": "Q7WinVLDEA-r",
        "colab_type": "code",
        "colab": {}
      },
      "source": [
        ""
      ],
      "execution_count": 0,
      "outputs": []
    },
    {
      "cell_type": "markdown",
      "metadata": {
        "id": "Y5o2ANMY014d",
        "colab_type": "text"
      },
      "source": [
        "### display audio"
      ]
    },
    {
      "cell_type": "code",
      "metadata": {
        "id": "Ow-bVTN4FAdx",
        "colab_type": "code",
        "colab": {}
      },
      "source": [
        "data_folder = Path('/content/gdrive/My Drive/fastai/music_generator/musical-neural-net')"
      ],
      "execution_count": 0,
      "outputs": []
    },
    {
      "cell_type": "code",
      "metadata": {
        "id": "_aBuTj4505X6",
        "colab_type": "code",
        "colab": {}
      },
      "source": [
        "from IPython.display import Audio\n",
        "audio_files = data_folder.ls()\n",
        "example = audio_files[0]\n",
        "Audio(str(example))"
      ],
      "execution_count": 0,
      "outputs": []
    },
    {
      "cell_type": "code",
      "metadata": {
        "id": "1KpdqXPL05O8",
        "colab_type": "code",
        "colab": {}
      },
      "source": [
        ""
      ],
      "execution_count": 0,
      "outputs": []
    },
    {
      "cell_type": "markdown",
      "metadata": {
        "id": "wppeooRG0Zji",
        "colab_type": "text"
      },
      "source": [
        "# Second Step: Explore things behind their model"
      ]
    },
    {
      "cell_type": "markdown",
      "metadata": {
        "id": "HSVS-zoDuqOg",
        "colab_type": "text"
      },
      "source": [
        "## BPTT\n",
        "[Jeremy's explaination of BPTT](https://youtu.be/H3g26EVADgY?t=787)"
      ]
    },
    {
      "cell_type": "code",
      "metadata": {
        "id": "Uu7E12xDu-XY",
        "colab_type": "code",
        "colab": {}
      },
      "source": [
        ""
      ],
      "execution_count": 0,
      "outputs": []
    },
    {
      "cell_type": "code",
      "metadata": {
        "id": "IViLGrjg0aBH",
        "colab_type": "code",
        "colab": {}
      },
      "source": [
        ""
      ],
      "execution_count": 0,
      "outputs": []
    },
    {
      "cell_type": "code",
      "metadata": {
        "id": "_eVsX-QA0aZ9",
        "colab_type": "code",
        "colab": {}
      },
      "source": [
        ""
      ],
      "execution_count": 0,
      "outputs": []
    },
    {
      "cell_type": "code",
      "metadata": {
        "id": "tiqOblhcgkwO",
        "colab_type": "code",
        "colab": {}
      },
      "source": [
        ""
      ],
      "execution_count": 0,
      "outputs": []
    },
    {
      "cell_type": "code",
      "metadata": {
        "id": "plFMG3HpgkLn",
        "colab_type": "code",
        "colab": {}
      },
      "source": [
        ""
      ],
      "execution_count": 0,
      "outputs": []
    },
    {
      "cell_type": "code",
      "metadata": {
        "id": "D8GuJZOQgkEC",
        "colab_type": "code",
        "colab": {}
      },
      "source": [
        ""
      ],
      "execution_count": 0,
      "outputs": []
    },
    {
      "cell_type": "markdown",
      "metadata": {
        "id": "dv85-mNN0MUa",
        "colab_type": "text"
      },
      "source": [
        "# Third Step: Make our own model with fastai"
      ]
    },
    {
      "cell_type": "code",
      "metadata": {
        "id": "cf2a_Uhx0RA6",
        "colab_type": "code",
        "colab": {}
      },
      "source": [
        ""
      ],
      "execution_count": 0,
      "outputs": []
    },
    {
      "cell_type": "code",
      "metadata": {
        "id": "AQlsdlh30XAP",
        "colab_type": "code",
        "colab": {}
      },
      "source": [
        ""
      ],
      "execution_count": 0,
      "outputs": []
    },
    {
      "cell_type": "code",
      "metadata": {
        "id": "oixd0b3r0W7q",
        "colab_type": "code",
        "colab": {}
      },
      "source": [
        ""
      ],
      "execution_count": 0,
      "outputs": []
    },
    {
      "cell_type": "markdown",
      "metadata": {
        "id": "yEHXAWnw0SBY",
        "colab_type": "text"
      },
      "source": [
        "# Final Step: Generate some awesome music with our model"
      ]
    },
    {
      "cell_type": "code",
      "metadata": {
        "id": "ploxE1ZUgl1z",
        "colab_type": "code",
        "colab": {}
      },
      "source": [
        ""
      ],
      "execution_count": 0,
      "outputs": []
    },
    {
      "cell_type": "code",
      "metadata": {
        "id": "pLWUqF9cglw6",
        "colab_type": "code",
        "colab": {}
      },
      "source": [
        ""
      ],
      "execution_count": 0,
      "outputs": []
    },
    {
      "cell_type": "code",
      "metadata": {
        "id": "ANG-Xnwu0WH3",
        "colab_type": "code",
        "colab": {}
      },
      "source": [
        ""
      ],
      "execution_count": 0,
      "outputs": []
    }
  ]
}