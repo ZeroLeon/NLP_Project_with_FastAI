{
  "nbformat": 4,
  "nbformat_minor": 0,
  "metadata": {
    "kernelspec": {
      "display_name": "Python 3",
      "language": "python",
      "name": "python3"
    },
    "language_info": {
      "codemirror_mode": {
        "name": "ipython",
        "version": 3
      },
      "file_extension": ".py",
      "mimetype": "text/x-python",
      "name": "python",
      "nbconvert_exporter": "python",
      "pygments_lexer": "ipython3",
      "version": "3.7.3"
    },
    "colab": {
      "name": "BBC_TopicModel",
      "version": "0.3.2",
      "provenance": [],
      "include_colab_link": true
    }
  },
  "cells": [
    {
      "cell_type": "markdown",
      "metadata": {
        "id": "view-in-github",
        "colab_type": "text"
      },
      "source": [
        "<a href=\"https://colab.research.google.com/github/ZeroLeon/NLP_Project_with_FastAI/blob/master/BBC_TopicModel.ipynb\" target=\"_parent\"><img src=\"https://colab.research.google.com/assets/colab-badge.svg\" alt=\"Open In Colab\"/></a>"
      ]
    },
    {
      "cell_type": "markdown",
      "metadata": {
        "id": "ZtziEe5J441C",
        "colab_type": "text"
      },
      "source": [
        "[Link](https://github.com/fastai/course-nlp/blob/master/2-svd-nmf-topic-modeling.ipynb) of corresponding fastai NLP course notebook"
      ]
    },
    {
      "cell_type": "markdown",
      "metadata": {
        "id": "ugbDErJXmM3J",
        "colab_type": "text"
      },
      "source": [
        "# Topic Modeling for BBC News\n",
        "\n",
        "\n"
      ]
    },
    {
      "cell_type": "markdown",
      "metadata": {
        "id": "0upKn9iy5J31",
        "colab_type": "text"
      },
      "source": [
        "\n",
        "Notes:\n",
        "\n",
        "1.   Relative word  frequency  in vocab.\n",
        "2.   The topic words are the most possible words to divide defferent topics apart.\n",
        "3.   It's very simlilar to the collabrative filtering.\n",
        "4. With SVD we can actually choose a suitable numbers of topics. "
      ]
    },
    {
      "cell_type": "code",
      "metadata": {
        "id": "lt8I3Zv8oFX5",
        "colab_type": "code",
        "colab": {
          "resources": {
            "http://localhost:8080/nbextensions/google.colab/files.js": {
              "data": "Ly8gQ29weXJpZ2h0IDIwMTcgR29vZ2xlIExMQwovLwovLyBMaWNlbnNlZCB1bmRlciB0aGUgQXBhY2hlIExpY2Vuc2UsIFZlcnNpb24gMi4wICh0aGUgIkxpY2Vuc2UiKTsKLy8geW91IG1heSBub3QgdXNlIHRoaXMgZmlsZSBleGNlcHQgaW4gY29tcGxpYW5jZSB3aXRoIHRoZSBMaWNlbnNlLgovLyBZb3UgbWF5IG9idGFpbiBhIGNvcHkgb2YgdGhlIExpY2Vuc2UgYXQKLy8KLy8gICAgICBodHRwOi8vd3d3LmFwYWNoZS5vcmcvbGljZW5zZXMvTElDRU5TRS0yLjAKLy8KLy8gVW5sZXNzIHJlcXVpcmVkIGJ5IGFwcGxpY2FibGUgbGF3IG9yIGFncmVlZCB0byBpbiB3cml0aW5nLCBzb2Z0d2FyZQovLyBkaXN0cmlidXRlZCB1bmRlciB0aGUgTGljZW5zZSBpcyBkaXN0cmlidXRlZCBvbiBhbiAiQVMgSVMiIEJBU0lTLAovLyBXSVRIT1VUIFdBUlJBTlRJRVMgT1IgQ09ORElUSU9OUyBPRiBBTlkgS0lORCwgZWl0aGVyIGV4cHJlc3Mgb3IgaW1wbGllZC4KLy8gU2VlIHRoZSBMaWNlbnNlIGZvciB0aGUgc3BlY2lmaWMgbGFuZ3VhZ2UgZ292ZXJuaW5nIHBlcm1pc3Npb25zIGFuZAovLyBsaW1pdGF0aW9ucyB1bmRlciB0aGUgTGljZW5zZS4KCi8qKgogKiBAZmlsZW92ZXJ2aWV3IEhlbHBlcnMgZm9yIGdvb2dsZS5jb2xhYiBQeXRob24gbW9kdWxlLgogKi8KKGZ1bmN0aW9uKHNjb3BlKSB7CmZ1bmN0aW9uIHNwYW4odGV4dCwgc3R5bGVBdHRyaWJ1dGVzID0ge30pIHsKICBjb25zdCBlbGVtZW50ID0gZG9jdW1lbnQuY3JlYXRlRWxlbWVudCgnc3BhbicpOwogIGVsZW1lbnQudGV4dENvbnRlbnQgPSB0ZXh0OwogIGZvciAoY29uc3Qga2V5IG9mIE9iamVjdC5rZXlzKHN0eWxlQXR0cmlidXRlcykpIHsKICAgIGVsZW1lbnQuc3R5bGVba2V5XSA9IHN0eWxlQXR0cmlidXRlc1trZXldOwogIH0KICByZXR1cm4gZWxlbWVudDsKfQoKLy8gTWF4IG51bWJlciBvZiBieXRlcyB3aGljaCB3aWxsIGJlIHVwbG9hZGVkIGF0IGEgdGltZS4KY29uc3QgTUFYX1BBWUxPQURfU0laRSA9IDEwMCAqIDEwMjQ7Ci8vIE1heCBhbW91bnQgb2YgdGltZSB0byBibG9jayB3YWl0aW5nIGZvciB0aGUgdXNlci4KY29uc3QgRklMRV9DSEFOR0VfVElNRU9VVF9NUyA9IDMwICogMTAwMDsKCmZ1bmN0aW9uIF91cGxvYWRGaWxlcyhpbnB1dElkLCBvdXRwdXRJZCkgewogIGNvbnN0IHN0ZXBzID0gdXBsb2FkRmlsZXNTdGVwKGlucHV0SWQsIG91dHB1dElkKTsKICBjb25zdCBvdXRwdXRFbGVtZW50ID0gZG9jdW1lbnQuZ2V0RWxlbWVudEJ5SWQob3V0cHV0SWQpOwogIC8vIENhY2hlIHN0ZXBzIG9uIHRoZSBvdXRwdXRFbGVtZW50IHRvIG1ha2UgaXQgYXZhaWxhYmxlIGZvciB0aGUgbmV4dCBjYWxsCiAgLy8gdG8gdXBsb2FkRmlsZXNDb250aW51ZSBmcm9tIFB5dGhvbi4KICBvdXRwdXRFbGVtZW50LnN0ZXBzID0gc3RlcHM7CgogIHJldHVybiBfdXBsb2FkRmlsZXNDb250aW51ZShvdXRwdXRJZCk7Cn0KCi8vIFRoaXMgaXMgcm91Z2hseSBhbiBhc3luYyBnZW5lcmF0b3IgKG5vdCBzdXBwb3J0ZWQgaW4gdGhlIGJyb3dzZXIgeWV0KSwKLy8gd2hlcmUgdGhlcmUgYXJlIG11bHRpcGxlIGFzeW5jaHJvbm91cyBzdGVwcyBhbmQgdGhlIFB5dGhvbiBzaWRlIGlzIGdvaW5nCi8vIHRvIHBvbGwgZm9yIGNvbXBsZXRpb24gb2YgZWFjaCBzdGVwLgovLyBUaGlzIHVzZXMgYSBQcm9taXNlIHRvIGJsb2NrIHRoZSBweXRob24gc2lkZSBvbiBjb21wbGV0aW9uIG9mIGVhY2ggc3RlcCwKLy8gdGhlbiBwYXNzZXMgdGhlIHJlc3VsdCBvZiB0aGUgcHJldmlvdXMgc3RlcCBhcyB0aGUgaW5wdXQgdG8gdGhlIG5leHQgc3RlcC4KZnVuY3Rpb24gX3VwbG9hZEZpbGVzQ29udGludWUob3V0cHV0SWQpIHsKICBjb25zdCBvdXRwdXRFbGVtZW50ID0gZG9jdW1lbnQuZ2V0RWxlbWVudEJ5SWQob3V0cHV0SWQpOwogIGNvbnN0IHN0ZXBzID0gb3V0cHV0RWxlbWVudC5zdGVwczsKCiAgY29uc3QgbmV4dCA9IHN0ZXBzLm5leHQob3V0cHV0RWxlbWVudC5sYXN0UHJvbWlzZVZhbHVlKTsKICByZXR1cm4gUHJvbWlzZS5yZXNvbHZlKG5leHQudmFsdWUucHJvbWlzZSkudGhlbigodmFsdWUpID0+IHsKICAgIC8vIENhY2hlIHRoZSBsYXN0IHByb21pc2UgdmFsdWUgdG8gbWFrZSBpdCBhdmFpbGFibGUgdG8gdGhlIG5leHQKICAgIC8vIHN0ZXAgb2YgdGhlIGdlbmVyYXRvci4KICAgIG91dHB1dEVsZW1lbnQubGFzdFByb21pc2VWYWx1ZSA9IHZhbHVlOwogICAgcmV0dXJuIG5leHQudmFsdWUucmVzcG9uc2U7CiAgfSk7Cn0KCi8qKgogKiBHZW5lcmF0b3IgZnVuY3Rpb24gd2hpY2ggaXMgY2FsbGVkIGJldHdlZW4gZWFjaCBhc3luYyBzdGVwIG9mIHRoZSB1cGxvYWQKICogcHJvY2Vzcy4KICogQHBhcmFtIHtzdHJpbmd9IGlucHV0SWQgRWxlbWVudCBJRCBvZiB0aGUgaW5wdXQgZmlsZSBwaWNrZXIgZWxlbWVudC4KICogQHBhcmFtIHtzdHJpbmd9IG91dHB1dElkIEVsZW1lbnQgSUQgb2YgdGhlIG91dHB1dCBkaXNwbGF5LgogKiBAcmV0dXJuIHshSXRlcmFibGU8IU9iamVjdD59IEl0ZXJhYmxlIG9mIG5leHQgc3RlcHMuCiAqLwpmdW5jdGlvbiogdXBsb2FkRmlsZXNTdGVwKGlucHV0SWQsIG91dHB1dElkKSB7CiAgY29uc3QgaW5wdXRFbGVtZW50ID0gZG9jdW1lbnQuZ2V0RWxlbWVudEJ5SWQoaW5wdXRJZCk7CiAgaW5wdXRFbGVtZW50LmRpc2FibGVkID0gZmFsc2U7CgogIGNvbnN0IG91dHB1dEVsZW1lbnQgPSBkb2N1bWVudC5nZXRFbGVtZW50QnlJZChvdXRwdXRJZCk7CiAgb3V0cHV0RWxlbWVudC5pbm5lckhUTUwgPSAnJzsKCiAgY29uc3QgcGlja2VkUHJvbWlzZSA9IG5ldyBQcm9taXNlKChyZXNvbHZlKSA9PiB7CiAgICBpbnB1dEVsZW1lbnQuYWRkRXZlbnRMaXN0ZW5lcignY2hhbmdlJywgKGUpID0+IHsKICAgICAgcmVzb2x2ZShlLnRhcmdldC5maWxlcyk7CiAgICB9KTsKICB9KTsKCiAgY29uc3QgY2FuY2VsID0gZG9jdW1lbnQuY3JlYXRlRWxlbWVudCgnYnV0dG9uJyk7CiAgaW5wdXRFbGVtZW50LnBhcmVudEVsZW1lbnQuYXBwZW5kQ2hpbGQoY2FuY2VsKTsKICBjYW5jZWwudGV4dENvbnRlbnQgPSAnQ2FuY2VsIHVwbG9hZCc7CiAgY29uc3QgY2FuY2VsUHJvbWlzZSA9IG5ldyBQcm9taXNlKChyZXNvbHZlKSA9PiB7CiAgICBjYW5jZWwub25jbGljayA9ICgpID0+IHsKICAgICAgcmVzb2x2ZShudWxsKTsKICAgIH07CiAgfSk7CgogIC8vIENhbmNlbCB1cGxvYWQgaWYgdXNlciBoYXNuJ3QgcGlja2VkIGFueXRoaW5nIGluIHRpbWVvdXQuCiAgY29uc3QgdGltZW91dFByb21pc2UgPSBuZXcgUHJvbWlzZSgocmVzb2x2ZSkgPT4gewogICAgc2V0VGltZW91dCgoKSA9PiB7CiAgICAgIHJlc29sdmUobnVsbCk7CiAgICB9LCBGSUxFX0NIQU5HRV9USU1FT1VUX01TKTsKICB9KTsKCiAgLy8gV2FpdCBmb3IgdGhlIHVzZXIgdG8gcGljayB0aGUgZmlsZXMuCiAgY29uc3QgZmlsZXMgPSB5aWVsZCB7CiAgICBwcm9taXNlOiBQcm9taXNlLnJhY2UoW3BpY2tlZFByb21pc2UsIHRpbWVvdXRQcm9taXNlLCBjYW5jZWxQcm9taXNlXSksCiAgICByZXNwb25zZTogewogICAgICBhY3Rpb246ICdzdGFydGluZycsCiAgICB9CiAgfTsKCiAgaWYgKCFmaWxlcykgewogICAgcmV0dXJuIHsKICAgICAgcmVzcG9uc2U6IHsKICAgICAgICBhY3Rpb246ICdjb21wbGV0ZScsCiAgICAgIH0KICAgIH07CiAgfQoKICBjYW5jZWwucmVtb3ZlKCk7CgogIC8vIERpc2FibGUgdGhlIGlucHV0IGVsZW1lbnQgc2luY2UgZnVydGhlciBwaWNrcyBhcmUgbm90IGFsbG93ZWQuCiAgaW5wdXRFbGVtZW50LmRpc2FibGVkID0gdHJ1ZTsKCiAgZm9yIChjb25zdCBmaWxlIG9mIGZpbGVzKSB7CiAgICBjb25zdCBsaSA9IGRvY3VtZW50LmNyZWF0ZUVsZW1lbnQoJ2xpJyk7CiAgICBsaS5hcHBlbmQoc3BhbihmaWxlLm5hbWUsIHtmb250V2VpZ2h0OiAnYm9sZCd9KSk7CiAgICBsaS5hcHBlbmQoc3BhbigKICAgICAgICBgKCR7ZmlsZS50eXBlIHx8ICduL2EnfSkgLSAke2ZpbGUuc2l6ZX0gYnl0ZXMsIGAgKwogICAgICAgIGBsYXN0IG1vZGlmaWVkOiAkewogICAgICAgICAgICBmaWxlLmxhc3RNb2RpZmllZERhdGUgPyBmaWxlLmxhc3RNb2RpZmllZERhdGUudG9Mb2NhbGVEYXRlU3RyaW5nKCkgOgogICAgICAgICAgICAgICAgICAgICAgICAgICAgICAgICAgICAnbi9hJ30gLSBgKSk7CiAgICBjb25zdCBwZXJjZW50ID0gc3BhbignMCUgZG9uZScpOwogICAgbGkuYXBwZW5kQ2hpbGQocGVyY2VudCk7CgogICAgb3V0cHV0RWxlbWVudC5hcHBlbmRDaGlsZChsaSk7CgogICAgY29uc3QgZmlsZURhdGFQcm9taXNlID0gbmV3IFByb21pc2UoKHJlc29sdmUpID0+IHsKICAgICAgY29uc3QgcmVhZGVyID0gbmV3IEZpbGVSZWFkZXIoKTsKICAgICAgcmVhZGVyLm9ubG9hZCA9IChlKSA9PiB7CiAgICAgICAgcmVzb2x2ZShlLnRhcmdldC5yZXN1bHQpOwogICAgICB9OwogICAgICByZWFkZXIucmVhZEFzQXJyYXlCdWZmZXIoZmlsZSk7CiAgICB9KTsKICAgIC8vIFdhaXQgZm9yIHRoZSBkYXRhIHRvIGJlIHJlYWR5LgogICAgbGV0IGZpbGVEYXRhID0geWllbGQgewogICAgICBwcm9taXNlOiBmaWxlRGF0YVByb21pc2UsCiAgICAgIHJlc3BvbnNlOiB7CiAgICAgICAgYWN0aW9uOiAnY29udGludWUnLAogICAgICB9CiAgICB9OwoKICAgIC8vIFVzZSBhIGNodW5rZWQgc2VuZGluZyB0byBhdm9pZCBtZXNzYWdlIHNpemUgbGltaXRzLiBTZWUgYi82MjExNTY2MC4KICAgIGxldCBwb3NpdGlvbiA9IDA7CiAgICB3aGlsZSAocG9zaXRpb24gPCBmaWxlRGF0YS5ieXRlTGVuZ3RoKSB7CiAgICAgIGNvbnN0IGxlbmd0aCA9IE1hdGgubWluKGZpbGVEYXRhLmJ5dGVMZW5ndGggLSBwb3NpdGlvbiwgTUFYX1BBWUxPQURfU0laRSk7CiAgICAgIGNvbnN0IGNodW5rID0gbmV3IFVpbnQ4QXJyYXkoZmlsZURhdGEsIHBvc2l0aW9uLCBsZW5ndGgpOwogICAgICBwb3NpdGlvbiArPSBsZW5ndGg7CgogICAgICBjb25zdCBiYXNlNjQgPSBidG9hKFN0cmluZy5mcm9tQ2hhckNvZGUuYXBwbHkobnVsbCwgY2h1bmspKTsKICAgICAgeWllbGQgewogICAgICAgIHJlc3BvbnNlOiB7CiAgICAgICAgICBhY3Rpb246ICdhcHBlbmQnLAogICAgICAgICAgZmlsZTogZmlsZS5uYW1lLAogICAgICAgICAgZGF0YTogYmFzZTY0LAogICAgICAgIH0sCiAgICAgIH07CiAgICAgIHBlcmNlbnQudGV4dENvbnRlbnQgPQogICAgICAgICAgYCR7TWF0aC5yb3VuZCgocG9zaXRpb24gLyBmaWxlRGF0YS5ieXRlTGVuZ3RoKSAqIDEwMCl9JSBkb25lYDsKICAgIH0KICB9CgogIC8vIEFsbCBkb25lLgogIHlpZWxkIHsKICAgIHJlc3BvbnNlOiB7CiAgICAgIGFjdGlvbjogJ2NvbXBsZXRlJywKICAgIH0KICB9Owp9CgpzY29wZS5nb29nbGUgPSBzY29wZS5nb29nbGUgfHwge307CnNjb3BlLmdvb2dsZS5jb2xhYiA9IHNjb3BlLmdvb2dsZS5jb2xhYiB8fCB7fTsKc2NvcGUuZ29vZ2xlLmNvbGFiLl9maWxlcyA9IHsKICBfdXBsb2FkRmlsZXMsCiAgX3VwbG9hZEZpbGVzQ29udGludWUsCn07Cn0pKHNlbGYpOwo=",
              "ok": true,
              "headers": [
                [
                  "content-type",
                  "application/javascript"
                ]
              ],
              "status": 200,
              "status_text": ""
            }
          },
          "base_uri": "https://localhost:8080/",
          "height": 374
        },
        "outputId": "26ab00bf-a499-433e-8d88-335299c5b6cc"
      },
      "source": [
        "from google.colab import files\n",
        "\n",
        "uploaded = files.upload()\n",
        "\n",
        "for fn in uploaded.keys():\n",
        "  print('User uploaded file \"{name}\" with length {length} bytes'.format(\n",
        "      name=fn, length=len(uploaded[fn])))\n",
        "\n",
        "!mkdir -p ~/.kaggle/ && mv kaggle.json ~/.kaggle/ && chmod 600 ~/.kaggle/kaggle.json\n",
        "!kaggle --help"
      ],
      "execution_count": 45,
      "outputs": [
        {
          "output_type": "display_data",
          "data": {
            "text/html": [
              "\n",
              "     <input type=\"file\" id=\"files-92e457b5-ad1e-44a3-9d80-11bad6f7e3a9\" name=\"files[]\" multiple disabled />\n",
              "     <output id=\"result-92e457b5-ad1e-44a3-9d80-11bad6f7e3a9\">\n",
              "      Upload widget is only available when the cell has been executed in the\n",
              "      current browser session. Please rerun this cell to enable.\n",
              "      </output>\n",
              "      <script src=\"/nbextensions/google.colab/files.js\"></script> "
            ],
            "text/plain": [
              "<IPython.core.display.HTML object>"
            ]
          },
          "metadata": {
            "tags": []
          }
        },
        {
          "output_type": "stream",
          "text": [
            "Saving kaggle.json to kaggle.json\n",
            "User uploaded file \"kaggle.json\" with length 67 bytes\n",
            "usage: kaggle [-h] [-v] {competitions,c,datasets,d,kernels,k,config} ...\n",
            "\n",
            "optional arguments:\n",
            "  -h, --help            show this help message and exit\n",
            "  -v, --version         show program's version number and exit\n",
            "\n",
            "commands:\n",
            "  {competitions,c,datasets,d,kernels,k,config}\n",
            "                        Use one of:\n",
            "                        competitions {list, files, download, submit, submissions, leaderboard}\n",
            "                        datasets {list, files, download, create, version, init, metadata, status}\n",
            "                        config {view, set, unset}\n",
            "    competitions        Commands related to Kaggle competitions\n",
            "    datasets            Commands related to Kaggle datasets\n",
            "    kernels             Commands related to Kaggle kernels\n",
            "    config              Configuration settings\n"
          ],
          "name": "stdout"
        }
      ]
    },
    {
      "cell_type": "code",
      "metadata": {
        "id": "APFxAj2coR01",
        "colab_type": "code",
        "colab": {
          "base_uri": "https://localhost:8080/",
          "height": 70
        },
        "outputId": "9f1350a7-a2d4-4b08-c9b4-78a751a6febb"
      },
      "source": [
        "!kaggle datasets download -d pariza/bbc-news-summary"
      ],
      "execution_count": 53,
      "outputs": [
        {
          "output_type": "stream",
          "text": [
            "Downloading bbc-news-summary.zip to /content\n",
            "\r  0% 0.00/3.75M [00:00<?, ?B/s]\n",
            "\r100% 3.75M/3.75M [00:00<00:00, 61.4MB/s]\n"
          ],
          "name": "stdout"
        }
      ]
    },
    {
      "cell_type": "code",
      "metadata": {
        "id": "e6DSldtWpK6a",
        "colab_type": "code",
        "colab": {
          "base_uri": "https://localhost:8080/",
          "height": 52
        },
        "outputId": "dd385529-1f4c-4180-f524-f3abb02829ff"
      },
      "source": [
        "!unzip bbc-news-summary.zip"
      ],
      "execution_count": 54,
      "outputs": [
        {
          "output_type": "stream",
          "text": [
            "Archive:  bbc-news-summary.zip\n",
            "  inflating: BBC News Summary.rar    \n"
          ],
          "name": "stdout"
        }
      ]
    },
    {
      "cell_type": "code",
      "metadata": {
        "id": "z_VEL5M37Jsi",
        "colab_type": "code",
        "colab": {}
      },
      "source": [
        "!unrar e BBC\\ News\\ Summary.rar"
      ],
      "execution_count": 0,
      "outputs": []
    },
    {
      "cell_type": "code",
      "metadata": {
        "hidden": true,
        "id": "tKQgJX5Q442U",
        "colab_type": "code",
        "colab": {}
      },
      "source": [
        "import numpy as np\n",
        "from sklearn.feature_extraction.text import CountVectorizer, TfidfVectorizer\n",
        "from sklearn import decomposition\n",
        "from glob import glob\n",
        "import os"
      ],
      "execution_count": 0,
      "outputs": []
    },
    {
      "cell_type": "code",
      "metadata": {
        "hidden": true,
        "id": "ymGhaByC442c",
        "colab_type": "code",
        "colab": {}
      },
      "source": [
        "np.set_printoptions(suppress=True)"
      ],
      "execution_count": 0,
      "outputs": []
    },
    {
      "cell_type": "code",
      "metadata": {
        "id": "viGnNFlu9xvC",
        "colab_type": "code",
        "colab": {
          "base_uri": "https://localhost:8080/",
          "height": 54
        },
        "outputId": "49ce4a5f-20e9-4fb7-c5cc-2461d00bf931"
      },
      "source": [
        "#ex\n",
        "pth = '/content/'\n",
        "print(glob(pth+\"*.txt\"))"
      ],
      "execution_count": 65,
      "outputs": [
        {
          "output_type": "stream",
          "text": [
            "['/content/181.txt', '/content/355.txt', '/content/261.txt', '/content/254.txt', '/content/246.txt', '/content/125.txt', '/content/188.txt', '/content/255.txt', '/content/051.txt', '/content/277.txt', '/content/105.txt', '/content/264.txt', '/content/337.txt', '/content/170.txt', '/content/039.txt', '/content/457.txt', '/content/443.txt', '/content/251.txt', '/content/216.txt', '/content/067.txt', '/content/281.txt', '/content/317.txt', '/content/045.txt', '/content/314.txt', '/content/352.txt', '/content/463.txt', '/content/200.txt', '/content/434.txt', '/content/420.txt', '/content/279.txt', '/content/446.txt', '/content/316.txt', '/content/030.txt', '/content/090.txt', '/content/354.txt', '/content/145.txt', '/content/226.txt', '/content/111.txt', '/content/031.txt', '/content/134.txt', '/content/075.txt', '/content/295.txt', '/content/287.txt', '/content/482.txt', '/content/479.txt', '/content/494.txt', '/content/300.txt', '/content/499.txt', '/content/046.txt', '/content/129.txt', '/content/452.txt', '/content/006.txt', '/content/423.txt', '/content/304.txt', '/content/234.txt', '/content/137.txt', '/content/038.txt', '/content/259.txt', '/content/019.txt', '/content/040.txt', '/content/348.txt', '/content/239.txt', '/content/491.txt', '/content/152.txt', '/content/088.txt', '/content/099.txt', '/content/433.txt', '/content/418.txt', '/content/141.txt', '/content/178.txt', '/content/445.txt', '/content/447.txt', '/content/235.txt', '/content/412.txt', '/content/192.txt', '/content/257.txt', '/content/205.txt', '/content/416.txt', '/content/449.txt', '/content/014.txt', '/content/086.txt', '/content/060.txt', '/content/180.txt', '/content/009.txt', '/content/290.txt', '/content/056.txt', '/content/227.txt', '/content/334.txt', '/content/095.txt', '/content/430.txt', '/content/436.txt', '/content/408.txt', '/content/472.txt', '/content/440.txt', '/content/431.txt', '/content/236.txt', '/content/411.txt', '/content/323.txt', '/content/450.txt', '/content/400.txt', '/content/331.txt', '/content/476.txt', '/content/035.txt', '/content/136.txt', '/content/248.txt', '/content/065.txt', '/content/492.txt', '/content/369.txt', '/content/451.txt', '/content/122.txt', '/content/011.txt', '/content/218.txt', '/content/470.txt', '/content/191.txt', '/content/222.txt', '/content/338.txt', '/content/502.txt', '/content/021.txt', '/content/036.txt', '/content/399.txt', '/content/016.txt', '/content/484.txt', '/content/272.txt', '/content/225.txt', '/content/229.txt', '/content/221.txt', '/content/050.txt', '/content/008.txt', '/content/459.txt', '/content/138.txt', '/content/310.txt', '/content/242.txt', '/content/271.txt', '/content/237.txt', '/content/378.txt', '/content/381.txt', '/content/017.txt', '/content/278.txt', '/content/022.txt', '/content/198.txt', '/content/063.txt', '/content/390.txt', '/content/206.txt', '/content/015.txt', '/content/151.txt', '/content/357.txt', '/content/059.txt', '/content/195.txt', '/content/308.txt', '/content/165.txt', '/content/079.txt', '/content/424.txt', '/content/213.txt', '/content/346.txt', '/content/387.txt', '/content/108.txt', '/content/296.txt', '/content/127.txt', '/content/094.txt', '/content/215.txt', '/content/320.txt', '/content/301.txt', '/content/174.txt', '/content/100.txt', '/content/284.txt', '/content/169.txt', '/content/469.txt', '/content/223.txt', '/content/120.txt', '/content/082.txt', '/content/505.txt', '/content/306.txt', '/content/396.txt', '/content/053.txt', '/content/312.txt', '/content/427.txt', '/content/041.txt', '/content/210.txt', '/content/319.txt', '/content/333.txt', '/content/475.txt', '/content/342.txt', '/content/347.txt', '/content/117.txt', '/content/394.txt', '/content/486.txt', '/content/150.txt', '/content/087.txt', '/content/410.txt', '/content/495.txt', '/content/407.txt', '/content/005.txt', '/content/012.txt', '/content/207.txt', '/content/405.txt', '/content/358.txt', '/content/070.txt', '/content/501.txt', '/content/092.txt', '/content/020.txt', '/content/478.txt', '/content/461.txt', '/content/149.txt', '/content/409.txt', '/content/327.txt', '/content/013.txt', '/content/118.txt', '/content/121.txt', '/content/061.txt', '/content/467.txt', '/content/365.txt', '/content/283.txt', '/content/106.txt', '/content/322.txt', '/content/372.txt', '/content/224.txt', '/content/504.txt', '/content/102.txt', '/content/397.txt', '/content/474.txt', '/content/309.txt', '/content/260.txt', '/content/157.txt', '/content/010.txt', '/content/007.txt', '/content/398.txt', '/content/339.txt', '/content/298.txt', '/content/263.txt', '/content/366.txt', '/content/244.txt', '/content/426.txt', '/content/240.txt', '/content/173.txt', '/content/460.txt', '/content/256.txt', '/content/143.txt', '/content/392.txt', '/content/217.txt', '/content/104.txt', '/content/085.txt', '/content/131.txt', '/content/107.txt', '/content/089.txt', '/content/340.txt', '/content/481.txt', '/content/231.txt', '/content/477.txt', '/content/344.txt', '/content/084.txt', '/content/380.txt', '/content/069.txt', '/content/496.txt', '/content/098.txt', '/content/453.txt', '/content/273.txt', '/content/466.txt', '/content/139.txt', '/content/197.txt', '/content/212.txt', '/content/033.txt', '/content/159.txt', '/content/464.txt', '/content/249.txt', '/content/268.txt', '/content/493.txt', '/content/133.txt', '/content/001.txt', '/content/183.txt', '/content/064.txt', '/content/258.txt', '/content/161.txt', '/content/488.txt', '/content/500.txt', '/content/238.txt', '/content/093.txt', '/content/166.txt', '/content/083.txt', '/content/490.txt', '/content/439.txt', '/content/276.txt', '/content/288.txt', '/content/442.txt', '/content/382.txt', '/content/148.txt', '/content/349.txt', '/content/487.txt', '/content/049.txt', '/content/232.txt', '/content/184.txt', '/content/353.txt', '/content/199.txt', '/content/368.txt', '/content/361.txt', '/content/345.txt', '/content/135.txt', '/content/245.txt', '/content/243.txt', '/content/374.txt', '/content/128.txt', '/content/194.txt', '/content/359.txt', '/content/299.txt', '/content/468.txt', '/content/503.txt', '/content/113.txt', '/content/097.txt', '/content/062.txt', '/content/485.txt', '/content/507.txt', '/content/158.txt', '/content/182.txt', '/content/511.txt', '/content/186.txt', '/content/350.txt', '/content/072.txt', '/content/203.txt', '/content/471.txt', '/content/303.txt', '/content/185.txt', '/content/123.txt', '/content/032.txt', '/content/307.txt', '/content/421.txt', '/content/156.txt', '/content/023.txt', '/content/160.txt', '/content/209.txt', '/content/171.txt', '/content/286.txt', '/content/176.txt', '/content/112.txt', '/content/068.txt', '/content/132.txt', '/content/362.txt', '/content/055.txt', '/content/389.txt', '/content/329.txt', '/content/204.txt', '/content/140.txt', '/content/042.txt', '/content/302.txt', '/content/282.txt', '/content/172.txt', '/content/356.txt', '/content/077.txt', '/content/395.txt', '/content/465.txt', '/content/054.txt', '/content/375.txt', '/content/404.txt', '/content/175.txt', '/content/154.txt', '/content/270.txt', '/content/081.txt', '/content/480.txt', '/content/328.txt', '/content/415.txt', '/content/293.txt', '/content/456.txt', '/content/029.txt', '/content/274.txt', '/content/043.txt', '/content/124.txt', '/content/341.txt', '/content/371.txt', '/content/326.txt', '/content/202.txt', '/content/080.txt', '/content/364.txt', '/content/144.txt', '/content/289.txt', '/content/385.txt', '/content/115.txt', '/content/155.txt', '/content/441.txt', '/content/401.txt', '/content/214.txt', '/content/377.txt', '/content/291.txt', '/content/028.txt', '/content/078.txt', '/content/220.txt', '/content/437.txt', '/content/454.txt', '/content/253.txt', '/content/048.txt', '/content/438.txt', '/content/383.txt', '/content/025.txt', '/content/004.txt', '/content/376.txt', '/content/109.txt', '/content/455.txt', '/content/037.txt', '/content/265.txt', '/content/130.txt', '/content/071.txt', '/content/313.txt', '/content/027.txt', '/content/147.txt', '/content/318.txt', '/content/162.txt', '/content/435.txt', '/content/262.txt', '/content/266.txt', '/content/325.txt', '/content/164.txt', '/content/384.txt', '/content/406.txt', '/content/448.txt', '/content/193.txt', '/content/324.txt', '/content/103.txt', '/content/332.txt', '/content/403.txt', '/content/393.txt', '/content/305.txt', '/content/003.txt', '/content/508.txt', '/content/179.txt', '/content/473.txt', '/content/066.txt', '/content/247.txt', '/content/168.txt', '/content/076.txt', '/content/275.txt', '/content/414.txt', '/content/208.txt', '/content/425.txt', '/content/241.txt', '/content/360.txt', '/content/201.txt', '/content/187.txt', '/content/370.txt', '/content/018.txt', '/content/388.txt', '/content/091.txt', '/content/233.txt', '/content/297.txt', '/content/417.txt', '/content/367.txt', '/content/026.txt', '/content/057.txt', '/content/489.txt', '/content/058.txt', '/content/142.txt', '/content/002.txt', '/content/074.txt', '/content/190.txt', '/content/163.txt', '/content/343.txt', '/content/146.txt', '/content/444.txt', '/content/177.txt', '/content/219.txt', '/content/373.txt', '/content/336.txt', '/content/267.txt', '/content/285.txt', '/content/189.txt', '/content/153.txt', '/content/506.txt', '/content/419.txt', '/content/428.txt', '/content/510.txt', '/content/047.txt', '/content/363.txt', '/content/391.txt', '/content/483.txt', '/content/335.txt', '/content/429.txt', '/content/211.txt', '/content/101.txt', '/content/330.txt', '/content/292.txt', '/content/386.txt', '/content/413.txt', '/content/230.txt', '/content/034.txt', '/content/462.txt', '/content/402.txt', '/content/294.txt', '/content/126.txt', '/content/432.txt', '/content/110.txt', '/content/422.txt', '/content/196.txt', '/content/116.txt', '/content/167.txt', '/content/311.txt', '/content/073.txt', '/content/498.txt', '/content/250.txt', '/content/228.txt', '/content/280.txt', '/content/114.txt', '/content/052.txt', '/content/096.txt', '/content/119.txt', '/content/024.txt', '/content/379.txt', '/content/351.txt', '/content/458.txt', '/content/321.txt', '/content/509.txt', '/content/044.txt', '/content/315.txt', '/content/269.txt', '/content/497.txt', '/content/252.txt']\n"
          ],
          "name": "stdout"
        }
      ]
    },
    {
      "cell_type": "code",
      "metadata": {
        "id": "MU3iQjIy-HdI",
        "colab_type": "code",
        "colab": {}
      },
      "source": [
        "glob??"
      ],
      "execution_count": 0,
      "outputs": []
    },
    {
      "cell_type": "code",
      "metadata": {
        "hidden": true,
        "id": "iituEQ54442g",
        "colab_type": "code",
        "colab": {}
      },
      "source": [
        "filenames_all = []\n",
        "filenames_all.extend(glob( '/content/'+ '/*.txt'))"
      ],
      "execution_count": 0,
      "outputs": []
    },
    {
      "cell_type": "code",
      "metadata": {
        "hidden": true,
        "id": "n9TUS2_N442i",
        "colab_type": "code",
        "outputId": "a6e62bdc-a4d4-4145-a7b5-56d27c698d9f",
        "colab": {
          "base_uri": "https://localhost:8080/",
          "height": 34
        }
      },
      "source": [
        "len(filenames_all)"
      ],
      "execution_count": 122,
      "outputs": [
        {
          "output_type": "execute_result",
          "data": {
            "text/plain": [
              "511"
            ]
          },
          "metadata": {
            "tags": []
          },
          "execution_count": 122
        }
      ]
    },
    {
      "cell_type": "code",
      "metadata": {
        "id": "AEcXMAIJq7jc",
        "colab_type": "code",
        "colab": {}
      },
      "source": [
        "filenames = filenames_all[:20]"
      ],
      "execution_count": 0,
      "outputs": []
    },
    {
      "cell_type": "code",
      "metadata": {
        "hidden": true,
        "id": "8OjITAQN442o",
        "colab_type": "code",
        "outputId": "4f7ac468-2e8b-4aa2-9fc7-908721d2f208",
        "colab": {
          "base_uri": "https://localhost:8080/",
          "height": 34
        }
      },
      "source": [
        "vectorizer = TfidfVectorizer(input='filename', stop_words='english')\n",
        "dtm = vectorizer.fit_transform(filenames).toarray()\n",
        "vocab = np.array(vectorizer.get_feature_names())\n",
        "dtm.shape, len(vocab)"
      ],
      "execution_count": 69,
      "outputs": [
        {
          "output_type": "execute_result",
          "data": {
            "text/plain": [
              "((20, 1276), 1276)"
            ]
          },
          "metadata": {
            "tags": []
          },
          "execution_count": 69
        }
      ]
    },
    {
      "cell_type": "code",
      "metadata": {
        "id": "OcRDFTWr_DKK",
        "colab_type": "code",
        "colab": {
          "base_uri": "https://localhost:8080/",
          "height": 140
        },
        "outputId": "8ddede47-2a17-4913-849a-74ec859fad9e"
      },
      "source": [
        "#ex\n",
        "vectorizer"
      ],
      "execution_count": 70,
      "outputs": [
        {
          "output_type": "execute_result",
          "data": {
            "text/plain": [
              "TfidfVectorizer(analyzer='word', binary=False, decode_error='strict',\n",
              "                dtype=<class 'numpy.float64'>, encoding='utf-8',\n",
              "                input='filename', lowercase=True, max_df=1.0, max_features=None,\n",
              "                min_df=1, ngram_range=(1, 1), norm='l2', preprocessor=None,\n",
              "                smooth_idf=True, stop_words='english', strip_accents=None,\n",
              "                sublinear_tf=False, token_pattern='(?u)\\\\b\\\\w\\\\w+\\\\b',\n",
              "                tokenizer=None, use_idf=True, vocabulary=None)"
            ]
          },
          "metadata": {
            "tags": []
          },
          "execution_count": 70
        }
      ]
    },
    {
      "cell_type": "code",
      "metadata": {
        "hidden": true,
        "id": "rd6Y3Tjk442s",
        "colab_type": "code",
        "outputId": "915bcb0b-9106-4931-b8f7-808ff7e28023",
        "colab": {
          "base_uri": "https://localhost:8080/",
          "height": 369
        }
      },
      "source": [
        "[f.split(\"/\")[2] for f in filenames]"
      ],
      "execution_count": 72,
      "outputs": [
        {
          "output_type": "execute_result",
          "data": {
            "text/plain": [
              "['181.txt',\n",
              " '355.txt',\n",
              " '261.txt',\n",
              " '254.txt',\n",
              " '246.txt',\n",
              " '125.txt',\n",
              " '188.txt',\n",
              " '255.txt',\n",
              " '051.txt',\n",
              " '277.txt',\n",
              " '105.txt',\n",
              " '264.txt',\n",
              " '337.txt',\n",
              " '170.txt',\n",
              " '039.txt',\n",
              " '457.txt',\n",
              " '443.txt',\n",
              " '251.txt',\n",
              " '216.txt',\n",
              " '067.txt']"
            ]
          },
          "metadata": {
            "tags": []
          },
          "execution_count": 72
        }
      ]
    },
    {
      "cell_type": "code",
      "metadata": {
        "id": "YfJIb4a4rmY0",
        "colab_type": "code",
        "colab": {
          "base_uri": "https://localhost:8080/",
          "height": 246
        },
        "outputId": "16061fbf-3967-4fd4-e63f-33fb716965d8"
      },
      "source": [
        "#ex \n",
        "dtm"
      ],
      "execution_count": 78,
      "outputs": [
        {
          "output_type": "execute_result",
          "data": {
            "text/plain": [
              "array([[0.        , 0.        , 0.        , ..., 0.        , 0.        ,\n",
              "        0.        ],\n",
              "       [0.        , 0.        , 0.        , ..., 0.        , 0.        ,\n",
              "        0.        ],\n",
              "       [0.        , 0.        , 0.        , ..., 0.        , 0.        ,\n",
              "        0.        ],\n",
              "       ...,\n",
              "       [0.        , 0.        , 0.        , ..., 0.        , 0.        ,\n",
              "        0.        ],\n",
              "       [0.        , 0.        , 0.04898601, ..., 0.04049176, 0.        ,\n",
              "        0.        ],\n",
              "       [0.        , 0.        , 0.        , ..., 0.        , 0.        ,\n",
              "        0.07168083]])"
            ]
          },
          "metadata": {
            "tags": []
          },
          "execution_count": 78
        }
      ]
    },
    {
      "cell_type": "markdown",
      "metadata": {
        "heading_collapsed": true,
        "id": "RlgqDf6d442y",
        "colab_type": "text"
      },
      "source": [
        "### NMF"
      ]
    },
    {
      "cell_type": "code",
      "metadata": {
        "hidden": true,
        "id": "0ooy7uDU442y",
        "colab_type": "code",
        "colab": {}
      },
      "source": [
        "clf = decomposition.NMF(n_components=10, random_state=1)\n",
        "\n",
        "W1 = clf.fit_transform(dtm)\n",
        "H1 = clf.components_"
      ],
      "execution_count": 0,
      "outputs": []
    },
    {
      "cell_type": "code",
      "metadata": {
        "id": "oRydW9SysDPX",
        "colab_type": "code",
        "colab": {
          "base_uri": "https://localhost:8080/",
          "height": 34
        },
        "outputId": "fe308672-cd7f-48bd-dd52-524e9ebcfa35"
      },
      "source": [
        "#embedding to 10 dimensional matrix \n",
        "W1.shape,H1.shape"
      ],
      "execution_count": 79,
      "outputs": [
        {
          "output_type": "execute_result",
          "data": {
            "text/plain": [
              "((20, 10), (10, 1276))"
            ]
          },
          "metadata": {
            "tags": []
          },
          "execution_count": 79
        }
      ]
    },
    {
      "cell_type": "code",
      "metadata": {
        "hidden": true,
        "id": "Zt-HWaL64420",
        "colab_type": "code",
        "colab": {}
      },
      "source": [
        "num_top_words=8\n",
        "\n",
        "def show_topics(a):\n",
        "    top_words = lambda t: [vocab[i] for i in np.argsort(t)[:-num_top_words-1:-1]]\n",
        "    topic_words = ([top_words(t) for t in a])\n",
        "    return [' '.join(t) for t in topic_words]"
      ],
      "execution_count": 0,
      "outputs": []
    },
    {
      "cell_type": "code",
      "metadata": {
        "hidden": true,
        "id": "gm8gCJT64424",
        "colab_type": "code",
        "colab": {}
      },
      "source": [
        "def get_all_topic_words(H):\n",
        "    top_indices = lambda t: {i for i in np.argsort(t)[:-num_top_words-1:-1]}\n",
        "    topic_indices = [top_indices(t) for t in H]\n",
        "    return sorted(set.union(*topic_indices))"
      ],
      "execution_count": 0,
      "outputs": []
    },
    {
      "cell_type": "code",
      "metadata": {
        "hidden": true,
        "id": "OFQGu9Uh442-",
        "colab_type": "code",
        "colab": {}
      },
      "source": [
        "ind = get_all_topic_words(H1)"
      ],
      "execution_count": 0,
      "outputs": []
    },
    {
      "cell_type": "code",
      "metadata": {
        "id": "eCYW8JuCu_yd",
        "colab_type": "code",
        "colab": {}
      },
      "source": [
        "#ex \n",
        "import pandas as pd\n",
        "\n",
        "def get_words_df(a):\n",
        "  top_ws = lambda t: [vocab[i] for i in np.argsort(t)[:-num_top_words-1:-1]]\n",
        "  top_w = ([top_ws(t) for t in a])\n",
        "  df = pd.DataFrame(top_w)\n",
        "  return df"
      ],
      "execution_count": 0,
      "outputs": []
    },
    {
      "cell_type": "code",
      "metadata": {
        "id": "bvxxVN1a0JDc",
        "colab_type": "code",
        "colab": {
          "base_uri": "https://localhost:8080/",
          "height": 343
        },
        "outputId": "b81bd341-4afc-45cb-e591-95f1f997b034"
      },
      "source": [
        "get_words_df(H1)\n"
      ],
      "execution_count": 111,
      "outputs": [
        {
          "output_type": "execute_result",
          "data": {
            "text/html": [
              "<div>\n",
              "<style scoped>\n",
              "    .dataframe tbody tr th:only-of-type {\n",
              "        vertical-align: middle;\n",
              "    }\n",
              "\n",
              "    .dataframe tbody tr th {\n",
              "        vertical-align: top;\n",
              "    }\n",
              "\n",
              "    .dataframe thead th {\n",
              "        text-align: right;\n",
              "    }\n",
              "</style>\n",
              "<table border=\"1\" class=\"dataframe\">\n",
              "  <thead>\n",
              "    <tr style=\"text-align: right;\">\n",
              "      <th></th>\n",
              "      <th>0</th>\n",
              "      <th>1</th>\n",
              "      <th>2</th>\n",
              "      <th>3</th>\n",
              "      <th>4</th>\n",
              "      <th>5</th>\n",
              "      <th>6</th>\n",
              "      <th>7</th>\n",
              "    </tr>\n",
              "  </thead>\n",
              "  <tbody>\n",
              "    <tr>\n",
              "      <th>0</th>\n",
              "      <td>broadband</td>\n",
              "      <td>bt</td>\n",
              "      <td>million</td>\n",
              "      <td>cable</td>\n",
              "      <td>line</td>\n",
              "      <td>operators</td>\n",
              "      <td>news</td>\n",
              "      <td>uk</td>\n",
              "    </tr>\n",
              "    <tr>\n",
              "      <th>1</th>\n",
              "      <td>yahoo</td>\n",
              "      <td>search</td>\n",
              "      <td>google</td>\n",
              "      <td>web</td>\n",
              "      <td>games</td>\n",
              "      <td>tv</td>\n",
              "      <td>speegle</td>\n",
              "      <td>gamers</td>\n",
              "    </tr>\n",
              "    <tr>\n",
              "      <th>2</th>\n",
              "      <td>mobile</td>\n",
              "      <td>nokia</td>\n",
              "      <td>flynn</td>\n",
              "      <td>said</td>\n",
              "      <td>mr</td>\n",
              "      <td>romen</td>\n",
              "      <td>phone</td>\n",
              "      <td>cut</td>\n",
              "    </tr>\n",
              "    <tr>\n",
              "      <th>3</th>\n",
              "      <td>february</td>\n",
              "      <td>star</td>\n",
              "      <td>kim</td>\n",
              "      <td>battlefront</td>\n",
              "      <td>game</td>\n",
              "      <td>wars</td>\n",
              "      <td>return</td>\n",
              "      <td>clijsters</td>\n",
              "    </tr>\n",
              "    <tr>\n",
              "      <th>4</th>\n",
              "      <td>asimo</td>\n",
              "      <td>robot</td>\n",
              "      <td>car</td>\n",
              "      <td>robots</td>\n",
              "      <td>motorsport</td>\n",
              "      <td>left</td>\n",
              "      <td>tansley</td>\n",
              "      <td>gear</td>\n",
              "    </tr>\n",
              "    <tr>\n",
              "      <th>5</th>\n",
              "      <td>fbi</td>\n",
              "      <td>virus</td>\n",
              "      <td>mails</td>\n",
              "      <td>attachment</td>\n",
              "      <td>nuclear</td>\n",
              "      <td>inspectors</td>\n",
              "      <td>computer</td>\n",
              "      <td>agency</td>\n",
              "    </tr>\n",
              "    <tr>\n",
              "      <th>6</th>\n",
              "      <td>site</td>\n",
              "      <td>bittorrent</td>\n",
              "      <td>apple</td>\n",
              "      <td>bloggers</td>\n",
              "      <td>legal</td>\n",
              "      <td>ruling</td>\n",
              "      <td>host</td>\n",
              "      <td>server</td>\n",
              "    </tr>\n",
              "    <tr>\n",
              "      <th>7</th>\n",
              "      <td>wong</td>\n",
              "      <td>software</td>\n",
              "      <td>colour</td>\n",
              "      <td>blind</td>\n",
              "      <td>mr</td>\n",
              "      <td>weather</td>\n",
              "      <td>study</td>\n",
              "      <td>explore</td>\n",
              "    </tr>\n",
              "    <tr>\n",
              "      <th>8</th>\n",
              "      <td>women</td>\n",
              "      <td>seed</td>\n",
              "      <td>tuesday</td>\n",
              "      <td>sydney</td>\n",
              "      <td>plays</td>\n",
              "      <td>round</td>\n",
              "      <td>quest</td>\n",
              "      <td>men</td>\n",
              "    </tr>\n",
              "    <tr>\n",
              "      <th>9</th>\n",
              "      <td>phone</td>\n",
              "      <td>relay</td>\n",
              "      <td>deaf</td>\n",
              "      <td>premium</td>\n",
              "      <td>language</td>\n",
              "      <td>sign</td>\n",
              "      <td>service</td>\n",
              "      <td>calls</td>\n",
              "    </tr>\n",
              "  </tbody>\n",
              "</table>\n",
              "</div>"
            ],
            "text/plain": [
              "           0           1        2  ...           5         6          7\n",
              "0  broadband          bt  million  ...   operators      news         uk\n",
              "1      yahoo      search   google  ...          tv   speegle     gamers\n",
              "2     mobile       nokia    flynn  ...       romen     phone        cut\n",
              "3   february        star      kim  ...        wars    return  clijsters\n",
              "4      asimo       robot      car  ...        left   tansley       gear\n",
              "5        fbi       virus    mails  ...  inspectors  computer     agency\n",
              "6       site  bittorrent    apple  ...      ruling      host     server\n",
              "7       wong    software   colour  ...     weather     study    explore\n",
              "8      women        seed  tuesday  ...       round     quest        men\n",
              "9      phone       relay     deaf  ...        sign   service      calls\n",
              "\n",
              "[10 rows x 8 columns]"
            ]
          },
          "metadata": {
            "tags": []
          },
          "execution_count": 111
        }
      ]
    },
    {
      "cell_type": "code",
      "metadata": {
        "hidden": true,
        "id": "kN2ax-RJ443G",
        "colab_type": "code",
        "outputId": "9f9dc5bb-d55e-4eb2-de27-85529aa51b1c",
        "colab": {
          "base_uri": "https://localhost:8080/",
          "height": 228
        }
      },
      "source": [
        "vocab[ind]"
      ],
      "execution_count": 77,
      "outputs": [
        {
          "output_type": "execute_result",
          "data": {
            "text/plain": [
              "array(['agency', 'apple', 'asimo', 'attachment', 'battlefront',\n",
              "       'bittorrent', 'blind', 'bloggers', 'broadband', 'bt', 'cable',\n",
              "       'calls', 'car', 'clijsters', 'colour', 'computer', 'cut', 'deaf',\n",
              "       'explore', 'fbi', 'february', 'flynn', 'game', 'gamers', 'games',\n",
              "       'gear', 'google', 'host', 'inspectors', 'kim', 'language', 'left',\n",
              "       'legal', 'line', 'mails', 'men', 'million', 'mobile', 'motorsport',\n",
              "       'mr', 'news', 'nokia', 'nuclear', 'operators', 'phone', 'plays',\n",
              "       'premium', 'quest', 'relay', 'return', 'robot', 'robots', 'romen',\n",
              "       'round', 'ruling', 'said', 'search', 'seed', 'server', 'service',\n",
              "       'sign', 'site', 'software', 'speegle', 'star', 'study', 'sydney',\n",
              "       'tansley', 'tuesday', 'tv', 'uk', 'virus', 'wars', 'weather',\n",
              "       'web', 'women', 'wong', 'yahoo'], dtype='<U18')"
            ]
          },
          "metadata": {
            "tags": []
          },
          "execution_count": 77
        }
      ]
    },
    {
      "cell_type": "code",
      "metadata": {
        "hidden": true,
        "scrolled": true,
        "id": "1MT6SNpl443O",
        "colab_type": "code",
        "outputId": "a6622289-392f-4d31-d4e1-cfee9b32b8b9",
        "colab": {
          "base_uri": "https://localhost:8080/",
          "height": 193
        }
      },
      "source": [
        "show_topics(H1)"
      ],
      "execution_count": 99,
      "outputs": [
        {
          "output_type": "execute_result",
          "data": {
            "text/plain": [
              "['broadband bt million cable line operators news uk',\n",
              " 'yahoo search google web games tv speegle gamers',\n",
              " 'mobile nokia flynn said mr romen phone cut',\n",
              " 'february star kim battlefront game wars return clijsters',\n",
              " 'asimo robot car robots motorsport left tansley gear',\n",
              " 'fbi virus mails attachment nuclear inspectors computer agency',\n",
              " 'site bittorrent apple bloggers legal ruling host server',\n",
              " 'wong software colour blind mr weather study explore',\n",
              " 'women seed tuesday sydney plays round quest men',\n",
              " 'phone relay deaf premium language sign service calls']"
            ]
          },
          "metadata": {
            "tags": []
          },
          "execution_count": 99
        }
      ]
    },
    {
      "cell_type": "code",
      "metadata": {
        "hidden": true,
        "id": "xdmfJ0_x443R",
        "colab_type": "code",
        "outputId": "832a5fdc-3ac7-47b6-81a2-200cf5983b50",
        "colab": {
          "base_uri": "https://localhost:8080/",
          "height": 34
        }
      },
      "source": [
        "W1.shape, H1[:, ind].shape"
      ],
      "execution_count": 100,
      "outputs": [
        {
          "output_type": "execute_result",
          "data": {
            "text/plain": [
              "((20, 10), (10, 78))"
            ]
          },
          "metadata": {
            "tags": []
          },
          "execution_count": 100
        }
      ]
    },
    {
      "cell_type": "markdown",
      "metadata": {
        "id": "XWHhdFhP443p",
        "colab_type": "text"
      },
      "source": [
        "### SVD"
      ]
    },
    {
      "cell_type": "code",
      "metadata": {
        "id": "cz-VtnGh443q",
        "colab_type": "code",
        "colab": {}
      },
      "source": [
        "U, s, V = decomposition.randomized_svd(dtm, 10)"
      ],
      "execution_count": 0,
      "outputs": []
    },
    {
      "cell_type": "code",
      "metadata": {
        "id": "z45-6hEM443s",
        "colab_type": "code",
        "colab": {}
      },
      "source": [
        "ind = get_all_topic_words(V)"
      ],
      "execution_count": 0,
      "outputs": []
    },
    {
      "cell_type": "code",
      "metadata": {
        "id": "4GEaxb0n443v",
        "colab_type": "code",
        "outputId": "368ac0f3-0cc4-462e-ae0b-602902516010",
        "colab": {
          "base_uri": "https://localhost:8080/",
          "height": 34
        }
      },
      "source": [
        "len(ind)"
      ],
      "execution_count": 105,
      "outputs": [
        {
          "output_type": "execute_result",
          "data": {
            "text/plain": [
              "64"
            ]
          },
          "metadata": {
            "tags": []
          },
          "execution_count": 105
        }
      ]
    },
    {
      "cell_type": "code",
      "metadata": {
        "id": "sdRIPiuE3spz",
        "colab_type": "code",
        "colab": {
          "base_uri": "https://localhost:8080/",
          "height": 343
        },
        "outputId": "8696858b-ff7c-4c06-a28e-082781cc4d0e"
      },
      "source": [
        "get_words_df(V)"
      ],
      "execution_count": 112,
      "outputs": [
        {
          "output_type": "execute_result",
          "data": {
            "text/html": [
              "<div>\n",
              "<style scoped>\n",
              "    .dataframe tbody tr th:only-of-type {\n",
              "        vertical-align: middle;\n",
              "    }\n",
              "\n",
              "    .dataframe tbody tr th {\n",
              "        vertical-align: top;\n",
              "    }\n",
              "\n",
              "    .dataframe thead th {\n",
              "        text-align: right;\n",
              "    }\n",
              "</style>\n",
              "<table border=\"1\" class=\"dataframe\">\n",
              "  <thead>\n",
              "    <tr style=\"text-align: right;\">\n",
              "      <th></th>\n",
              "      <th>0</th>\n",
              "      <th>1</th>\n",
              "      <th>2</th>\n",
              "      <th>3</th>\n",
              "      <th>4</th>\n",
              "      <th>5</th>\n",
              "      <th>6</th>\n",
              "      <th>7</th>\n",
              "    </tr>\n",
              "  </thead>\n",
              "  <tbody>\n",
              "    <tr>\n",
              "      <th>0</th>\n",
              "      <td>broadband</td>\n",
              "      <td>phone</td>\n",
              "      <td>people</td>\n",
              "      <td>bt</td>\n",
              "      <td>said</td>\n",
              "      <td>million</td>\n",
              "      <td>companies</td>\n",
              "      <td>yahoo</td>\n",
              "    </tr>\n",
              "    <tr>\n",
              "      <th>1</th>\n",
              "      <td>broadband</td>\n",
              "      <td>bt</td>\n",
              "      <td>million</td>\n",
              "      <td>line</td>\n",
              "      <td>cable</td>\n",
              "      <td>phone</td>\n",
              "      <td>telephone</td>\n",
              "      <td>companies</td>\n",
              "    </tr>\n",
              "    <tr>\n",
              "      <th>2</th>\n",
              "      <td>nokia</td>\n",
              "      <td>mobile</td>\n",
              "      <td>flynn</td>\n",
              "      <td>phone</td>\n",
              "      <td>said</td>\n",
              "      <td>mr</td>\n",
              "      <td>romen</td>\n",
              "      <td>using</td>\n",
              "    </tr>\n",
              "    <tr>\n",
              "      <th>3</th>\n",
              "      <td>february</td>\n",
              "      <td>star</td>\n",
              "      <td>kim</td>\n",
              "      <td>clijsters</td>\n",
              "      <td>tennis</td>\n",
              "      <td>return</td>\n",
              "      <td>game</td>\n",
              "      <td>battlefront</td>\n",
              "    </tr>\n",
              "    <tr>\n",
              "      <th>4</th>\n",
              "      <td>asimo</td>\n",
              "      <td>robot</td>\n",
              "      <td>car</td>\n",
              "      <td>broadband</td>\n",
              "      <td>left</td>\n",
              "      <td>tansley</td>\n",
              "      <td>motorsport</td>\n",
              "      <td>robots</td>\n",
              "    </tr>\n",
              "    <tr>\n",
              "      <th>5</th>\n",
              "      <td>fbi</td>\n",
              "      <td>games</td>\n",
              "      <td>virus</td>\n",
              "      <td>attachment</td>\n",
              "      <td>mails</td>\n",
              "      <td>gamers</td>\n",
              "      <td>yahoo</td>\n",
              "      <td>nuclear</td>\n",
              "    </tr>\n",
              "    <tr>\n",
              "      <th>6</th>\n",
              "      <td>site</td>\n",
              "      <td>bittorrent</td>\n",
              "      <td>fbi</td>\n",
              "      <td>apple</td>\n",
              "      <td>virus</td>\n",
              "      <td>attachment</td>\n",
              "      <td>mails</td>\n",
              "      <td>legal</td>\n",
              "    </tr>\n",
              "    <tr>\n",
              "      <th>7</th>\n",
              "      <td>software</td>\n",
              "      <td>wong</td>\n",
              "      <td>colour</td>\n",
              "      <td>blind</td>\n",
              "      <td>explore</td>\n",
              "      <td>sake</td>\n",
              "      <td>student</td>\n",
              "      <td>study</td>\n",
              "    </tr>\n",
              "    <tr>\n",
              "      <th>8</th>\n",
              "      <td>tuesday</td>\n",
              "      <td>women</td>\n",
              "      <td>sydney</td>\n",
              "      <td>round</td>\n",
              "      <td>plays</td>\n",
              "      <td>seed</td>\n",
              "      <td>hardenne</td>\n",
              "      <td>begins</td>\n",
              "    </tr>\n",
              "    <tr>\n",
              "      <th>9</th>\n",
              "      <td>inspectors</td>\n",
              "      <td>nuclear</td>\n",
              "      <td>fbi</td>\n",
              "      <td>information</td>\n",
              "      <td>iaea</td>\n",
              "      <td>relay</td>\n",
              "      <td>deaf</td>\n",
              "      <td>bittorrent</td>\n",
              "    </tr>\n",
              "  </tbody>\n",
              "</table>\n",
              "</div>"
            ],
            "text/plain": [
              "            0           1        2  ...           5           6            7\n",
              "0   broadband       phone   people  ...     million   companies        yahoo\n",
              "1   broadband          bt  million  ...       phone   telephone    companies\n",
              "2       nokia      mobile    flynn  ...          mr       romen        using\n",
              "3    february        star      kim  ...      return        game  battlefront\n",
              "4       asimo       robot      car  ...     tansley  motorsport       robots\n",
              "5         fbi       games    virus  ...      gamers       yahoo      nuclear\n",
              "6        site  bittorrent      fbi  ...  attachment       mails        legal\n",
              "7    software        wong   colour  ...        sake     student        study\n",
              "8     tuesday       women   sydney  ...        seed    hardenne       begins\n",
              "9  inspectors     nuclear      fbi  ...       relay        deaf   bittorrent\n",
              "\n",
              "[10 rows x 8 columns]"
            ]
          },
          "metadata": {
            "tags": []
          },
          "execution_count": 112
        }
      ]
    },
    {
      "cell_type": "code",
      "metadata": {
        "scrolled": true,
        "id": "CUdREcL84433",
        "colab_type": "code",
        "outputId": "1f6bbded-b505-484d-ab5f-18f5e7361135",
        "colab": {
          "base_uri": "https://localhost:8080/",
          "height": 193
        }
      },
      "source": [
        "show_topics(H1)"
      ],
      "execution_count": 107,
      "outputs": [
        {
          "output_type": "execute_result",
          "data": {
            "text/plain": [
              "['broadband bt million cable line operators news uk',\n",
              " 'yahoo search google web games tv speegle gamers',\n",
              " 'mobile nokia flynn said mr romen phone cut',\n",
              " 'february star kim battlefront game wars return clijsters',\n",
              " 'asimo robot car robots motorsport left tansley gear',\n",
              " 'fbi virus mails attachment nuclear inspectors computer agency',\n",
              " 'site bittorrent apple bloggers legal ruling host server',\n",
              " 'wong software colour blind mr weather study explore',\n",
              " 'women seed tuesday sydney plays round quest men',\n",
              " 'phone relay deaf premium language sign service calls']"
            ]
          },
          "metadata": {
            "tags": []
          },
          "execution_count": 107
        }
      ]
    },
    {
      "cell_type": "code",
      "metadata": {
        "id": "zN6-tekR62JB",
        "colab_type": "code",
        "colab": {}
      },
      "source": [
        ""
      ],
      "execution_count": 0,
      "outputs": []
    },
    {
      "cell_type": "code",
      "metadata": {
        "id": "E2pUa8fK618b",
        "colab_type": "code",
        "colab": {}
      },
      "source": [
        ""
      ],
      "execution_count": 0,
      "outputs": []
    },
    {
      "cell_type": "markdown",
      "metadata": {
        "id": "jJwqBUhy62jU",
        "colab_type": "text"
      },
      "source": [
        "# Apply Topic Modeling on the Whole Dataset "
      ]
    },
    {
      "cell_type": "code",
      "metadata": {
        "hidden": true,
        "colab_type": "code",
        "outputId": "32d05805-5a8c-4a24-9371-de460d1c9d7d",
        "id": "D5w4GCrp6-r4",
        "colab": {
          "base_uri": "https://localhost:8080/",
          "height": 34
        }
      },
      "source": [
        "vectorizer_all = TfidfVectorizer(input='filename', stop_words='english')\n",
        "dtm_all = vectorizer_all.fit_transform(filenames_all).toarray()\n",
        "vocab_all = np.array(vectorizer_all.get_feature_names())\n",
        "dtm_all.shape, len(vocab_all)"
      ],
      "execution_count": 125,
      "outputs": [
        {
          "output_type": "execute_result",
          "data": {
            "text/plain": [
              "((511, 8594), 8594)"
            ]
          },
          "metadata": {
            "tags": []
          },
          "execution_count": 125
        }
      ]
    },
    {
      "cell_type": "markdown",
      "metadata": {
        "heading_collapsed": true,
        "colab_type": "text",
        "id": "_8NYF2Ka6-sG"
      },
      "source": [
        "### NMF"
      ]
    },
    {
      "cell_type": "code",
      "metadata": {
        "hidden": true,
        "colab_type": "code",
        "id": "G27O3boB6-sH",
        "colab": {}
      },
      "source": [
        "clf_a = decomposition.NMF(n_components=20, random_state=1)\n",
        "\n",
        "W1_a = clf_a.fit_transform(dtm_all)\n",
        "H1_a = clf_a.components_"
      ],
      "execution_count": 0,
      "outputs": []
    },
    {
      "cell_type": "code",
      "metadata": {
        "colab_type": "code",
        "outputId": "80c66dd1-c755-423a-8119-8e133f4b0d9e",
        "id": "gfDBUkCw6-sJ",
        "colab": {
          "base_uri": "https://localhost:8080/",
          "height": 34
        }
      },
      "source": [
        "#embedding to 10 dimensional matrix \n",
        "W1_a.shape,H1_a.shape"
      ],
      "execution_count": 132,
      "outputs": [
        {
          "output_type": "execute_result",
          "data": {
            "text/plain": [
              "((511, 20), (20, 8594))"
            ]
          },
          "metadata": {
            "tags": []
          },
          "execution_count": 132
        }
      ]
    },
    {
      "cell_type": "code",
      "metadata": {
        "hidden": true,
        "colab_type": "code",
        "id": "gxwK3q8A6-sL",
        "colab": {}
      },
      "source": [
        "num_top_words=10\n",
        "\n",
        "def show_topics(a):\n",
        "    top_words = lambda t: [vocab[i] for i in np.argsort(t)[:-num_top_words-1:-1]]\n",
        "    topic_words = ([top_words(t) for t in a])\n",
        "    return [' '.join(t) for t in topic_words]"
      ],
      "execution_count": 0,
      "outputs": []
    },
    {
      "cell_type": "code",
      "metadata": {
        "hidden": true,
        "colab_type": "code",
        "id": "aGtiuVmk6-sM",
        "colab": {}
      },
      "source": [
        "def get_all_topic_words(H):\n",
        "    top_indices = lambda t: {i for i in np.argsort(t)[:-num_top_words-1:-1]}\n",
        "    topic_indices = [top_indices(t) for t in H]\n",
        "    return sorted(set.union(*topic_indices))"
      ],
      "execution_count": 0,
      "outputs": []
    },
    {
      "cell_type": "code",
      "metadata": {
        "hidden": true,
        "colab_type": "code",
        "id": "OzhK-HML6-sO",
        "colab": {}
      },
      "source": [
        "ind = get_all_topic_words(H1_a)"
      ],
      "execution_count": 0,
      "outputs": []
    },
    {
      "cell_type": "code",
      "metadata": {
        "colab_type": "code",
        "id": "4-YUp9B56-sQ",
        "colab": {}
      },
      "source": [
        "#ex \n",
        "import pandas as pd\n",
        "\n",
        "def get_all_df(a):\n",
        "  top_ws = lambda t: [vocab_all[i] for i in np.argsort(t)[:-num_top_words-1:-1]]\n",
        "  top_w = ([top_ws(t) for t in a])\n",
        "  df = pd.DataFrame(top_w)\n",
        "  return df"
      ],
      "execution_count": 0,
      "outputs": []
    },
    {
      "cell_type": "code",
      "metadata": {
        "colab_type": "code",
        "outputId": "aa59850c-3fac-4a69-9ac9-2ecd7c3b1608",
        "id": "xALB06S16-sT",
        "colab": {
          "base_uri": "https://localhost:8080/",
          "height": 659
        }
      },
      "source": [
        "get_all_df(H1_a)\n"
      ],
      "execution_count": 139,
      "outputs": [
        {
          "output_type": "execute_result",
          "data": {
            "text/html": [
              "<div>\n",
              "<style scoped>\n",
              "    .dataframe tbody tr th:only-of-type {\n",
              "        vertical-align: middle;\n",
              "    }\n",
              "\n",
              "    .dataframe tbody tr th {\n",
              "        vertical-align: top;\n",
              "    }\n",
              "\n",
              "    .dataframe thead th {\n",
              "        text-align: right;\n",
              "    }\n",
              "</style>\n",
              "<table border=\"1\" class=\"dataframe\">\n",
              "  <thead>\n",
              "    <tr style=\"text-align: right;\">\n",
              "      <th></th>\n",
              "      <th>0</th>\n",
              "      <th>1</th>\n",
              "      <th>2</th>\n",
              "      <th>3</th>\n",
              "      <th>4</th>\n",
              "      <th>5</th>\n",
              "      <th>6</th>\n",
              "      <th>7</th>\n",
              "      <th>8</th>\n",
              "      <th>9</th>\n",
              "    </tr>\n",
              "  </thead>\n",
              "  <tbody>\n",
              "    <tr>\n",
              "      <th>0</th>\n",
              "      <td>tv</td>\n",
              "      <td>programmes</td>\n",
              "      <td>digital</td>\n",
              "      <td>broadcasting</td>\n",
              "      <td>video</td>\n",
              "      <td>watch</td>\n",
              "      <td>europe</td>\n",
              "      <td>sky</td>\n",
              "      <td>content</td>\n",
              "      <td>iptv</td>\n",
              "    </tr>\n",
              "    <tr>\n",
              "      <th>1</th>\n",
              "      <td>open</td>\n",
              "      <td>australian</td>\n",
              "      <td>williams</td>\n",
              "      <td>win</td>\n",
              "      <td>round</td>\n",
              "      <td>champion</td>\n",
              "      <td>safin</td>\n",
              "      <td>grand</td>\n",
              "      <td>davenport</td>\n",
              "      <td>injury</td>\n",
              "    </tr>\n",
              "    <tr>\n",
              "      <th>2</th>\n",
              "      <td>microsoft</td>\n",
              "      <td>virus</td>\n",
              "      <td>software</td>\n",
              "      <td>security</td>\n",
              "      <td>windows</td>\n",
              "      <td>spyware</td>\n",
              "      <td>anti</td>\n",
              "      <td>program</td>\n",
              "      <td>programs</td>\n",
              "      <td>users</td>\n",
              "    </tr>\n",
              "    <tr>\n",
              "      <th>3</th>\n",
              "      <td>games</td>\n",
              "      <td>game</td>\n",
              "      <td>xbox</td>\n",
              "      <td>play</td>\n",
              "      <td>time</td>\n",
              "      <td>online</td>\n",
              "      <td>sales</td>\n",
              "      <td>video</td>\n",
              "      <td>doom</td>\n",
              "      <td>titles</td>\n",
              "    </tr>\n",
              "    <tr>\n",
              "      <th>4</th>\n",
              "      <td>mobile</td>\n",
              "      <td>phone</td>\n",
              "      <td>phones</td>\n",
              "      <td>3g</td>\n",
              "      <td>camera</td>\n",
              "      <td>mobiles</td>\n",
              "      <td>people</td>\n",
              "      <td>operators</td>\n",
              "      <td>vodafone</td>\n",
              "      <td>said</td>\n",
              "    </tr>\n",
              "    <tr>\n",
              "      <th>5</th>\n",
              "      <td>broadband</td>\n",
              "      <td>bt</td>\n",
              "      <td>million</td>\n",
              "      <td>people</td>\n",
              "      <td>uk</td>\n",
              "      <td>report</td>\n",
              "      <td>net</td>\n",
              "      <td>connections</td>\n",
              "      <td>signing</td>\n",
              "      <td>fast</td>\n",
              "    </tr>\n",
              "    <tr>\n",
              "      <th>6</th>\n",
              "      <td>search</td>\n",
              "      <td>google</td>\n",
              "      <td>desktop</td>\n",
              "      <td>engines</td>\n",
              "      <td>engine</td>\n",
              "      <td>yahoo</td>\n",
              "      <td>web</td>\n",
              "      <td>results</td>\n",
              "      <td>jeeves</td>\n",
              "      <td>people</td>\n",
              "    </tr>\n",
              "    <tr>\n",
              "      <th>7</th>\n",
              "      <td>dvd</td>\n",
              "      <td>blu</td>\n",
              "      <td>ray</td>\n",
              "      <td>definition</td>\n",
              "      <td>format</td>\n",
              "      <td>high</td>\n",
              "      <td>dvds</td>\n",
              "      <td>hd</td>\n",
              "      <td>toshiba</td>\n",
              "      <td>technology</td>\n",
              "    </tr>\n",
              "    <tr>\n",
              "      <th>8</th>\n",
              "      <td>spam</td>\n",
              "      <td>site</td>\n",
              "      <td>sites</td>\n",
              "      <td>mail</td>\n",
              "      <td>lycos</td>\n",
              "      <td>attacks</td>\n",
              "      <td>screensaver</td>\n",
              "      <td>net</td>\n",
              "      <td>traffic</td>\n",
              "      <td>mails</td>\n",
              "    </tr>\n",
              "    <tr>\n",
              "      <th>9</th>\n",
              "      <td>nintendo</td>\n",
              "      <td>ds</td>\n",
              "      <td>handheld</td>\n",
              "      <td>japan</td>\n",
              "      <td>sony</td>\n",
              "      <td>console</td>\n",
              "      <td>gaming</td>\n",
              "      <td>launch</td>\n",
              "      <td>psp</td>\n",
              "      <td>march</td>\n",
              "    </tr>\n",
              "    <tr>\n",
              "      <th>10</th>\n",
              "      <td>bittorrent</td>\n",
              "      <td>file</td>\n",
              "      <td>said</td>\n",
              "      <td>peer</td>\n",
              "      <td>files</td>\n",
              "      <td>p2p</td>\n",
              "      <td>piracy</td>\n",
              "      <td>firms</td>\n",
              "      <td>systems</td>\n",
              "      <td>legal</td>\n",
              "    </tr>\n",
              "    <tr>\n",
              "      <th>11</th>\n",
              "      <td>law</td>\n",
              "      <td>software</td>\n",
              "      <td>patents</td>\n",
              "      <td>european</td>\n",
              "      <td>directive</td>\n",
              "      <td>eu</td>\n",
              "      <td>parliament</td>\n",
              "      <td>draft</td>\n",
              "      <td>council</td>\n",
              "      <td>laws</td>\n",
              "    </tr>\n",
              "    <tr>\n",
              "      <th>12</th>\n",
              "      <td>digital</td>\n",
              "      <td>consumer</td>\n",
              "      <td>technologies</td>\n",
              "      <td>portable</td>\n",
              "      <td>electronics</td>\n",
              "      <td>technology</td>\n",
              "      <td>devices</td>\n",
              "      <td>gadgets</td>\n",
              "      <td>cea</td>\n",
              "      <td>ces</td>\n",
              "    </tr>\n",
              "    <tr>\n",
              "      <th>13</th>\n",
              "      <td>wi</td>\n",
              "      <td>fi</td>\n",
              "      <td>skype</td>\n",
              "      <td>service</td>\n",
              "      <td>net</td>\n",
              "      <td>hotspots</td>\n",
              "      <td>wireless</td>\n",
              "      <td>calls</td>\n",
              "      <td>voice</td>\n",
              "      <td>users</td>\n",
              "    </tr>\n",
              "    <tr>\n",
              "      <th>14</th>\n",
              "      <td>cup</td>\n",
              "      <td>davis</td>\n",
              "      <td>roddick</td>\n",
              "      <td>moya</td>\n",
              "      <td>spain</td>\n",
              "      <td>nadal</td>\n",
              "      <td>beat</td>\n",
              "      <td>seville</td>\n",
              "      <td>singles</td>\n",
              "      <td>henman</td>\n",
              "    </tr>\n",
              "    <tr>\n",
              "      <th>15</th>\n",
              "      <td>music</td>\n",
              "      <td>ipod</td>\n",
              "      <td>players</td>\n",
              "      <td>digital</td>\n",
              "      <td>player</td>\n",
              "      <td>portable</td>\n",
              "      <td>apple</td>\n",
              "      <td>market</td>\n",
              "      <td>version</td>\n",
              "      <td>motorola</td>\n",
              "    </tr>\n",
              "    <tr>\n",
              "      <th>16</th>\n",
              "      <td>apple</td>\n",
              "      <td>mac</td>\n",
              "      <td>mini</td>\n",
              "      <td>computer</td>\n",
              "      <td>mr</td>\n",
              "      <td>ipod</td>\n",
              "      <td>jobs</td>\n",
              "      <td>said</td>\n",
              "      <td>irish</td>\n",
              "      <td>pc</td>\n",
              "    </tr>\n",
              "    <tr>\n",
              "      <th>17</th>\n",
              "      <td>blog</td>\n",
              "      <td>simonetti</td>\n",
              "      <td>blogs</td>\n",
              "      <td>ms</td>\n",
              "      <td>delta</td>\n",
              "      <td>airline</td>\n",
              "      <td>suspended</td>\n",
              "      <td>news</td>\n",
              "      <td>web</td>\n",
              "      <td>journals</td>\n",
              "    </tr>\n",
              "    <tr>\n",
              "      <th>18</th>\n",
              "      <td>england</td>\n",
              "      <td>ireland</td>\n",
              "      <td>nations</td>\n",
              "      <td>wales</td>\n",
              "      <td>france</td>\n",
              "      <td>scotland</td>\n",
              "      <td>italy</td>\n",
              "      <td>hodgson</td>\n",
              "      <td>half</td>\n",
              "      <td>slam</td>\n",
              "    </tr>\n",
              "    <tr>\n",
              "      <th>19</th>\n",
              "      <td>seed</td>\n",
              "      <td>match</td>\n",
              "      <td>set</td>\n",
              "      <td>agassi</td>\n",
              "      <td>federer</td>\n",
              "      <td>melzer</td>\n",
              "      <td>second</td>\n",
              "      <td>ljubicic</td>\n",
              "      <td>henman</td>\n",
              "      <td>final</td>\n",
              "    </tr>\n",
              "  </tbody>\n",
              "</table>\n",
              "</div>"
            ],
            "text/plain": [
              "             0           1             2  ...            7          8           9\n",
              "0           tv  programmes       digital  ...          sky    content        iptv\n",
              "1         open  australian      williams  ...        grand  davenport      injury\n",
              "2    microsoft       virus      software  ...      program   programs       users\n",
              "3        games        game          xbox  ...        video       doom      titles\n",
              "4       mobile       phone        phones  ...    operators   vodafone        said\n",
              "5    broadband          bt       million  ...  connections    signing        fast\n",
              "6       search      google       desktop  ...      results     jeeves      people\n",
              "7          dvd         blu           ray  ...           hd    toshiba  technology\n",
              "8         spam        site         sites  ...          net    traffic       mails\n",
              "9     nintendo          ds      handheld  ...       launch        psp       march\n",
              "10  bittorrent        file          said  ...        firms    systems       legal\n",
              "11         law    software       patents  ...        draft    council        laws\n",
              "12     digital    consumer  technologies  ...      gadgets        cea         ces\n",
              "13          wi          fi         skype  ...        calls      voice       users\n",
              "14         cup       davis       roddick  ...      seville    singles      henman\n",
              "15       music        ipod       players  ...       market    version    motorola\n",
              "16       apple         mac          mini  ...         said      irish          pc\n",
              "17        blog   simonetti         blogs  ...         news        web    journals\n",
              "18     england     ireland       nations  ...      hodgson       half        slam\n",
              "19        seed       match           set  ...     ljubicic     henman       final\n",
              "\n",
              "[20 rows x 10 columns]"
            ]
          },
          "metadata": {
            "tags": []
          },
          "execution_count": 139
        }
      ]
    },
    {
      "cell_type": "code",
      "metadata": {
        "hidden": true,
        "colab_type": "code",
        "outputId": "d502779b-3562-4f64-ca0b-6b85acd92c18",
        "id": "rVKXlMha6-sg",
        "colab": {
          "base_uri": "https://localhost:8080/",
          "height": 34
        }
      },
      "source": [
        "W1_a.shape, H1_a[:, ind].shape"
      ],
      "execution_count": 142,
      "outputs": [
        {
          "output_type": "execute_result",
          "data": {
            "text/plain": [
              "((511, 20), (20, 183))"
            ]
          },
          "metadata": {
            "tags": []
          },
          "execution_count": 142
        }
      ]
    },
    {
      "cell_type": "markdown",
      "metadata": {
        "id": "IeS3FN4N85Tx",
        "colab_type": "text"
      },
      "source": [
        "**183 words represent 20 topics**"
      ]
    },
    {
      "cell_type": "code",
      "metadata": {
        "id": "fMi6UsuX9P2G",
        "colab_type": "code",
        "colab": {}
      },
      "source": [
        ""
      ],
      "execution_count": 0,
      "outputs": []
    },
    {
      "cell_type": "code",
      "metadata": {
        "id": "AT60oTir826_",
        "colab_type": "code",
        "colab": {}
      },
      "source": [
        ""
      ],
      "execution_count": 0,
      "outputs": []
    },
    {
      "cell_type": "markdown",
      "metadata": {
        "colab_type": "text",
        "id": "lWY04CxE9QSF"
      },
      "source": [
        "### SVD"
      ]
    },
    {
      "cell_type": "code",
      "metadata": {
        "colab_type": "code",
        "id": "LLnrvVdG9QSI",
        "colab": {}
      },
      "source": [
        "U_a, s_a, V_a = decomposition.randomized_svd(dtm_all, 20)"
      ],
      "execution_count": 0,
      "outputs": []
    },
    {
      "cell_type": "code",
      "metadata": {
        "colab_type": "code",
        "id": "5Gzg8ZMx9QSO",
        "colab": {}
      },
      "source": [
        "ind = get_all_topic_words(V_a)"
      ],
      "execution_count": 0,
      "outputs": []
    },
    {
      "cell_type": "code",
      "metadata": {
        "colab_type": "code",
        "outputId": "b31df747-36ab-4e46-d175-176a6d01683b",
        "id": "Vz2GNiU99QSR",
        "colab": {
          "base_uri": "https://localhost:8080/",
          "height": 34
        }
      },
      "source": [
        "len(ind)"
      ],
      "execution_count": 148,
      "outputs": [
        {
          "output_type": "execute_result",
          "data": {
            "text/plain": [
              "116"
            ]
          },
          "metadata": {
            "tags": []
          },
          "execution_count": 148
        }
      ]
    },
    {
      "cell_type": "code",
      "metadata": {
        "colab_type": "code",
        "outputId": "a3051b8b-d029-42e8-d7ac-b573bfd4bd36",
        "id": "Cfcr0VoL9QSW",
        "colab": {
          "base_uri": "https://localhost:8080/",
          "height": 639
        }
      },
      "source": [
        "get_all_df(V_a)"
      ],
      "execution_count": 150,
      "outputs": [
        {
          "output_type": "execute_result",
          "data": {
            "text/html": [
              "<div>\n",
              "<style scoped>\n",
              "    .dataframe tbody tr th:only-of-type {\n",
              "        vertical-align: middle;\n",
              "    }\n",
              "\n",
              "    .dataframe tbody tr th {\n",
              "        vertical-align: top;\n",
              "    }\n",
              "\n",
              "    .dataframe thead th {\n",
              "        text-align: right;\n",
              "    }\n",
              "</style>\n",
              "<table border=\"1\" class=\"dataframe\">\n",
              "  <thead>\n",
              "    <tr style=\"text-align: right;\">\n",
              "      <th></th>\n",
              "      <th>0</th>\n",
              "      <th>1</th>\n",
              "      <th>2</th>\n",
              "      <th>3</th>\n",
              "      <th>4</th>\n",
              "      <th>5</th>\n",
              "      <th>6</th>\n",
              "      <th>7</th>\n",
              "      <th>8</th>\n",
              "      <th>9</th>\n",
              "    </tr>\n",
              "  </thead>\n",
              "  <tbody>\n",
              "    <tr>\n",
              "      <th>0</th>\n",
              "      <td>said</td>\n",
              "      <td>mobile</td>\n",
              "      <td>people</td>\n",
              "      <td>music</td>\n",
              "      <td>digital</td>\n",
              "      <td>games</td>\n",
              "      <td>mr</td>\n",
              "      <td>phone</td>\n",
              "      <td>tv</td>\n",
              "      <td>game</td>\n",
              "    </tr>\n",
              "    <tr>\n",
              "      <th>1</th>\n",
              "      <td>open</td>\n",
              "      <td>australian</td>\n",
              "      <td>win</td>\n",
              "      <td>game</td>\n",
              "      <td>seed</td>\n",
              "      <td>roddick</td>\n",
              "      <td>match</td>\n",
              "      <td>final</td>\n",
              "      <td>set</td>\n",
              "      <td>second</td>\n",
              "    </tr>\n",
              "    <tr>\n",
              "      <th>2</th>\n",
              "      <td>software</td>\n",
              "      <td>search</td>\n",
              "      <td>microsoft</td>\n",
              "      <td>virus</td>\n",
              "      <td>security</td>\n",
              "      <td>windows</td>\n",
              "      <td>spyware</td>\n",
              "      <td>users</td>\n",
              "      <td>mail</td>\n",
              "      <td>spam</td>\n",
              "    </tr>\n",
              "    <tr>\n",
              "      <th>3</th>\n",
              "      <td>games</td>\n",
              "      <td>game</td>\n",
              "      <td>nintendo</td>\n",
              "      <td>ds</td>\n",
              "      <td>sony</td>\n",
              "      <td>microsoft</td>\n",
              "      <td>console</td>\n",
              "      <td>dvd</td>\n",
              "      <td>software</td>\n",
              "      <td>gaming</td>\n",
              "    </tr>\n",
              "    <tr>\n",
              "      <th>4</th>\n",
              "      <td>music</td>\n",
              "      <td>digital</td>\n",
              "      <td>players</td>\n",
              "      <td>broadband</td>\n",
              "      <td>portable</td>\n",
              "      <td>tv</td>\n",
              "      <td>ipod</td>\n",
              "      <td>apple</td>\n",
              "      <td>media</td>\n",
              "      <td>consumer</td>\n",
              "    </tr>\n",
              "    <tr>\n",
              "      <th>5</th>\n",
              "      <td>broadband</td>\n",
              "      <td>games</td>\n",
              "      <td>bt</td>\n",
              "      <td>game</td>\n",
              "      <td>million</td>\n",
              "      <td>ds</td>\n",
              "      <td>nintendo</td>\n",
              "      <td>search</td>\n",
              "      <td>tv</td>\n",
              "      <td>uk</td>\n",
              "    </tr>\n",
              "    <tr>\n",
              "      <th>6</th>\n",
              "      <td>search</td>\n",
              "      <td>google</td>\n",
              "      <td>desktop</td>\n",
              "      <td>engines</td>\n",
              "      <td>engine</td>\n",
              "      <td>yahoo</td>\n",
              "      <td>jeeves</td>\n",
              "      <td>web</td>\n",
              "      <td>results</td>\n",
              "      <td>ask</td>\n",
              "    </tr>\n",
              "    <tr>\n",
              "      <th>7</th>\n",
              "      <td>dvd</td>\n",
              "      <td>definition</td>\n",
              "      <td>blu</td>\n",
              "      <td>ray</td>\n",
              "      <td>high</td>\n",
              "      <td>technology</td>\n",
              "      <td>dvds</td>\n",
              "      <td>hd</td>\n",
              "      <td>tv</td>\n",
              "      <td>format</td>\n",
              "    </tr>\n",
              "    <tr>\n",
              "      <th>8</th>\n",
              "      <td>spam</td>\n",
              "      <td>site</td>\n",
              "      <td>sites</td>\n",
              "      <td>mr</td>\n",
              "      <td>lycos</td>\n",
              "      <td>attacks</td>\n",
              "      <td>said</td>\n",
              "      <td>screensaver</td>\n",
              "      <td>mail</td>\n",
              "      <td>traffic</td>\n",
              "    </tr>\n",
              "    <tr>\n",
              "      <th>9</th>\n",
              "      <td>nintendo</td>\n",
              "      <td>ds</td>\n",
              "      <td>spam</td>\n",
              "      <td>sony</td>\n",
              "      <td>japan</td>\n",
              "      <td>dvd</td>\n",
              "      <td>mail</td>\n",
              "      <td>handheld</td>\n",
              "      <td>virus</td>\n",
              "      <td>launch</td>\n",
              "    </tr>\n",
              "    <tr>\n",
              "      <th>10</th>\n",
              "      <td>virus</td>\n",
              "      <td>tv</td>\n",
              "      <td>game</td>\n",
              "      <td>mail</td>\n",
              "      <td>digital</td>\n",
              "      <td>spam</td>\n",
              "      <td>games</td>\n",
              "      <td>video</td>\n",
              "      <td>infected</td>\n",
              "      <td>consumer</td>\n",
              "    </tr>\n",
              "    <tr>\n",
              "      <th>11</th>\n",
              "      <td>tv</td>\n",
              "      <td>law</td>\n",
              "      <td>european</td>\n",
              "      <td>patents</td>\n",
              "      <td>software</td>\n",
              "      <td>directive</td>\n",
              "      <td>eu</td>\n",
              "      <td>site</td>\n",
              "      <td>parliament</td>\n",
              "      <td>digital</td>\n",
              "    </tr>\n",
              "    <tr>\n",
              "      <th>12</th>\n",
              "      <td>davis</td>\n",
              "      <td>cup</td>\n",
              "      <td>roddick</td>\n",
              "      <td>gadgets</td>\n",
              "      <td>gadget</td>\n",
              "      <td>moya</td>\n",
              "      <td>spain</td>\n",
              "      <td>nadal</td>\n",
              "      <td>consumer</td>\n",
              "      <td>seville</td>\n",
              "    </tr>\n",
              "    <tr>\n",
              "      <th>13</th>\n",
              "      <td>tv</td>\n",
              "      <td>davis</td>\n",
              "      <td>cup</td>\n",
              "      <td>roddick</td>\n",
              "      <td>moya</td>\n",
              "      <td>spain</td>\n",
              "      <td>nadal</td>\n",
              "      <td>seville</td>\n",
              "      <td>singles</td>\n",
              "      <td>beat</td>\n",
              "    </tr>\n",
              "    <tr>\n",
              "      <th>14</th>\n",
              "      <td>virus</td>\n",
              "      <td>apple</td>\n",
              "      <td>mail</td>\n",
              "      <td>mac</td>\n",
              "      <td>mails</td>\n",
              "      <td>tv</td>\n",
              "      <td>irish</td>\n",
              "      <td>search</td>\n",
              "      <td>broadband</td>\n",
              "      <td>report</td>\n",
              "    </tr>\n",
              "    <tr>\n",
              "      <th>15</th>\n",
              "      <td>law</td>\n",
              "      <td>music</td>\n",
              "      <td>spam</td>\n",
              "      <td>european</td>\n",
              "      <td>directive</td>\n",
              "      <td>eu</td>\n",
              "      <td>patents</td>\n",
              "      <td>search</td>\n",
              "      <td>parliament</td>\n",
              "      <td>players</td>\n",
              "    </tr>\n",
              "    <tr>\n",
              "      <th>16</th>\n",
              "      <td>p2p</td>\n",
              "      <td>peer</td>\n",
              "      <td>firms</td>\n",
              "      <td>music</td>\n",
              "      <td>simonetti</td>\n",
              "      <td>ms</td>\n",
              "      <td>file</td>\n",
              "      <td>blog</td>\n",
              "      <td>piracy</td>\n",
              "      <td>files</td>\n",
              "    </tr>\n",
              "    <tr>\n",
              "      <th>17</th>\n",
              "      <td>site</td>\n",
              "      <td>domain</td>\n",
              "      <td>seed</td>\n",
              "      <td>names</td>\n",
              "      <td>blogs</td>\n",
              "      <td>simonetti</td>\n",
              "      <td>blog</td>\n",
              "      <td>ms</td>\n",
              "      <td>set</td>\n",
              "      <td>domains</td>\n",
              "    </tr>\n",
              "    <tr>\n",
              "      <th>18</th>\n",
              "      <td>england</td>\n",
              "      <td>ireland</td>\n",
              "      <td>nations</td>\n",
              "      <td>wales</td>\n",
              "      <td>music</td>\n",
              "      <td>france</td>\n",
              "      <td>scotland</td>\n",
              "      <td>site</td>\n",
              "      <td>domain</td>\n",
              "      <td>names</td>\n",
              "    </tr>\n",
              "    <tr>\n",
              "      <th>19</th>\n",
              "      <td>wi</td>\n",
              "      <td>fi</td>\n",
              "      <td>skype</td>\n",
              "      <td>service</td>\n",
              "      <td>blogs</td>\n",
              "      <td>blog</td>\n",
              "      <td>virus</td>\n",
              "      <td>set</td>\n",
              "      <td>simonetti</td>\n",
              "      <td>seed</td>\n",
              "    </tr>\n",
              "  </tbody>\n",
              "</table>\n",
              "</div>"
            ],
            "text/plain": [
              "            0           1          2  ...            7           8         9\n",
              "0        said      mobile     people  ...        phone          tv      game\n",
              "1        open  australian        win  ...        final         set    second\n",
              "2    software      search  microsoft  ...        users        mail      spam\n",
              "3       games        game   nintendo  ...          dvd    software    gaming\n",
              "4       music     digital    players  ...        apple       media  consumer\n",
              "5   broadband       games         bt  ...       search          tv        uk\n",
              "6      search      google    desktop  ...          web     results       ask\n",
              "7         dvd  definition        blu  ...           hd          tv    format\n",
              "8        spam        site      sites  ...  screensaver        mail   traffic\n",
              "9    nintendo          ds       spam  ...     handheld       virus    launch\n",
              "10      virus          tv       game  ...        video    infected  consumer\n",
              "11         tv         law   european  ...         site  parliament   digital\n",
              "12      davis         cup    roddick  ...        nadal    consumer   seville\n",
              "13         tv       davis        cup  ...      seville     singles      beat\n",
              "14      virus       apple       mail  ...       search   broadband    report\n",
              "15        law       music       spam  ...       search  parliament   players\n",
              "16        p2p        peer      firms  ...         blog      piracy     files\n",
              "17       site      domain       seed  ...           ms         set   domains\n",
              "18    england     ireland    nations  ...         site      domain     names\n",
              "19         wi          fi      skype  ...          set   simonetti      seed\n",
              "\n",
              "[20 rows x 10 columns]"
            ]
          },
          "metadata": {
            "tags": []
          },
          "execution_count": 150
        }
      ]
    },
    {
      "cell_type": "code",
      "metadata": {
        "id": "q6dG_Iy39uVc",
        "colab_type": "code",
        "colab": {
          "base_uri": "https://localhost:8080/",
          "height": 34
        },
        "outputId": "1570f4e9-abd4-4b41-946d-f2c2f31e70fd"
      },
      "source": [
        "U_a.shape, V_a.shape"
      ],
      "execution_count": 151,
      "outputs": [
        {
          "output_type": "execute_result",
          "data": {
            "text/plain": [
              "((511, 20), (20, 8594))"
            ]
          },
          "metadata": {
            "tags": []
          },
          "execution_count": 151
        }
      ]
    }
  ]
}