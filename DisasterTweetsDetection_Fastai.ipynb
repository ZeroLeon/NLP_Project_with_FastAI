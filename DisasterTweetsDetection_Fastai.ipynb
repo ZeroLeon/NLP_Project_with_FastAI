{
  "nbformat": 4,
  "nbformat_minor": 0,
  "metadata": {
    "colab": {
      "name": "DisasterTweetsDetection_Fastai.ipynb",
      "provenance": [],
      "authorship_tag": "ABX9TyOesAhPvsLq4S6h9+rtjoAB",
      "include_colab_link": true
    },
    "kernelspec": {
      "name": "python3",
      "display_name": "Python 3"
    },
    "accelerator": "GPU",
    "widgets": {
      "application/vnd.jupyter.widget-state+json": {
        "35b716a20129456e98955c2175ccc653": {
          "model_module": "@jupyter-widgets/controls",
          "model_name": "HBoxModel",
          "state": {
            "_view_name": "HBoxView",
            "_dom_classes": [],
            "_model_name": "HBoxModel",
            "_view_module": "@jupyter-widgets/controls",
            "_model_module_version": "1.5.0",
            "_view_count": null,
            "_view_module_version": "1.5.0",
            "box_style": "",
            "layout": "IPY_MODEL_9d89fec868094f11bbf1e13a860b0e60",
            "_model_module": "@jupyter-widgets/controls",
            "children": [
              "IPY_MODEL_9f05259d9b4c4d0d8b5fed1e654061cd",
              "IPY_MODEL_ee5521e848844907816770de3edaa065"
            ]
          }
        },
        "9d89fec868094f11bbf1e13a860b0e60": {
          "model_module": "@jupyter-widgets/base",
          "model_name": "LayoutModel",
          "state": {
            "_view_name": "LayoutView",
            "grid_template_rows": null,
            "right": null,
            "justify_content": null,
            "_view_module": "@jupyter-widgets/base",
            "overflow": null,
            "_model_module_version": "1.2.0",
            "_view_count": null,
            "flex_flow": null,
            "width": null,
            "min_width": null,
            "border": null,
            "align_items": null,
            "bottom": null,
            "_model_module": "@jupyter-widgets/base",
            "top": null,
            "grid_column": null,
            "overflow_y": null,
            "overflow_x": null,
            "grid_auto_flow": null,
            "grid_area": null,
            "grid_template_columns": null,
            "flex": null,
            "_model_name": "LayoutModel",
            "justify_items": null,
            "grid_row": null,
            "max_height": null,
            "align_content": null,
            "visibility": null,
            "align_self": null,
            "height": null,
            "min_height": null,
            "padding": null,
            "grid_auto_rows": null,
            "grid_gap": null,
            "max_width": null,
            "order": null,
            "_view_module_version": "1.2.0",
            "grid_template_areas": null,
            "object_position": null,
            "object_fit": null,
            "grid_auto_columns": null,
            "margin": null,
            "display": null,
            "left": null
          }
        },
        "9f05259d9b4c4d0d8b5fed1e654061cd": {
          "model_module": "@jupyter-widgets/controls",
          "model_name": "IntProgressModel",
          "state": {
            "_view_name": "ProgressView",
            "style": "IPY_MODEL_b45da18ae3cf4f11b5501f342fd92aa5",
            "_dom_classes": [],
            "description": "Downloading",
            "_model_name": "IntProgressModel",
            "bar_style": "success",
            "max": 361,
            "_view_module": "@jupyter-widgets/controls",
            "_model_module_version": "1.5.0",
            "value": 361,
            "_view_count": null,
            "_view_module_version": "1.5.0",
            "orientation": "horizontal",
            "min": 0,
            "description_tooltip": null,
            "_model_module": "@jupyter-widgets/controls",
            "layout": "IPY_MODEL_ba051355b2f04122b1fdee61163608f2"
          }
        },
        "ee5521e848844907816770de3edaa065": {
          "model_module": "@jupyter-widgets/controls",
          "model_name": "HTMLModel",
          "state": {
            "_view_name": "HTMLView",
            "style": "IPY_MODEL_d7619fee89e84b7bbdbdbd24b5704a9f",
            "_dom_classes": [],
            "description": "",
            "_model_name": "HTMLModel",
            "placeholder": "​",
            "_view_module": "@jupyter-widgets/controls",
            "_model_module_version": "1.5.0",
            "value": "100% 361/361 [00:00&lt;00:00, 16.4kB/s]",
            "_view_count": null,
            "_view_module_version": "1.5.0",
            "description_tooltip": null,
            "_model_module": "@jupyter-widgets/controls",
            "layout": "IPY_MODEL_cdf9c95f65ac4ee5af456c5a91be3835"
          }
        },
        "b45da18ae3cf4f11b5501f342fd92aa5": {
          "model_module": "@jupyter-widgets/controls",
          "model_name": "ProgressStyleModel",
          "state": {
            "_view_name": "StyleView",
            "_model_name": "ProgressStyleModel",
            "description_width": "initial",
            "_view_module": "@jupyter-widgets/base",
            "_model_module_version": "1.5.0",
            "_view_count": null,
            "_view_module_version": "1.2.0",
            "bar_color": null,
            "_model_module": "@jupyter-widgets/controls"
          }
        },
        "ba051355b2f04122b1fdee61163608f2": {
          "model_module": "@jupyter-widgets/base",
          "model_name": "LayoutModel",
          "state": {
            "_view_name": "LayoutView",
            "grid_template_rows": null,
            "right": null,
            "justify_content": null,
            "_view_module": "@jupyter-widgets/base",
            "overflow": null,
            "_model_module_version": "1.2.0",
            "_view_count": null,
            "flex_flow": null,
            "width": null,
            "min_width": null,
            "border": null,
            "align_items": null,
            "bottom": null,
            "_model_module": "@jupyter-widgets/base",
            "top": null,
            "grid_column": null,
            "overflow_y": null,
            "overflow_x": null,
            "grid_auto_flow": null,
            "grid_area": null,
            "grid_template_columns": null,
            "flex": null,
            "_model_name": "LayoutModel",
            "justify_items": null,
            "grid_row": null,
            "max_height": null,
            "align_content": null,
            "visibility": null,
            "align_self": null,
            "height": null,
            "min_height": null,
            "padding": null,
            "grid_auto_rows": null,
            "grid_gap": null,
            "max_width": null,
            "order": null,
            "_view_module_version": "1.2.0",
            "grid_template_areas": null,
            "object_position": null,
            "object_fit": null,
            "grid_auto_columns": null,
            "margin": null,
            "display": null,
            "left": null
          }
        },
        "d7619fee89e84b7bbdbdbd24b5704a9f": {
          "model_module": "@jupyter-widgets/controls",
          "model_name": "DescriptionStyleModel",
          "state": {
            "_view_name": "StyleView",
            "_model_name": "DescriptionStyleModel",
            "description_width": "",
            "_view_module": "@jupyter-widgets/base",
            "_model_module_version": "1.5.0",
            "_view_count": null,
            "_view_module_version": "1.2.0",
            "_model_module": "@jupyter-widgets/controls"
          }
        },
        "cdf9c95f65ac4ee5af456c5a91be3835": {
          "model_module": "@jupyter-widgets/base",
          "model_name": "LayoutModel",
          "state": {
            "_view_name": "LayoutView",
            "grid_template_rows": null,
            "right": null,
            "justify_content": null,
            "_view_module": "@jupyter-widgets/base",
            "overflow": null,
            "_model_module_version": "1.2.0",
            "_view_count": null,
            "flex_flow": null,
            "width": null,
            "min_width": null,
            "border": null,
            "align_items": null,
            "bottom": null,
            "_model_module": "@jupyter-widgets/base",
            "top": null,
            "grid_column": null,
            "overflow_y": null,
            "overflow_x": null,
            "grid_auto_flow": null,
            "grid_area": null,
            "grid_template_columns": null,
            "flex": null,
            "_model_name": "LayoutModel",
            "justify_items": null,
            "grid_row": null,
            "max_height": null,
            "align_content": null,
            "visibility": null,
            "align_self": null,
            "height": null,
            "min_height": null,
            "padding": null,
            "grid_auto_rows": null,
            "grid_gap": null,
            "max_width": null,
            "order": null,
            "_view_module_version": "1.2.0",
            "grid_template_areas": null,
            "object_position": null,
            "object_fit": null,
            "grid_auto_columns": null,
            "margin": null,
            "display": null,
            "left": null
          }
        },
        "03ebf880f7104bd8b3886662ebde4f0e": {
          "model_module": "@jupyter-widgets/controls",
          "model_name": "HBoxModel",
          "state": {
            "_view_name": "HBoxView",
            "_dom_classes": [],
            "_model_name": "HBoxModel",
            "_view_module": "@jupyter-widgets/controls",
            "_model_module_version": "1.5.0",
            "_view_count": null,
            "_view_module_version": "1.5.0",
            "box_style": "",
            "layout": "IPY_MODEL_2bdcc665b71d48cda447960bd0ff276a",
            "_model_module": "@jupyter-widgets/controls",
            "children": [
              "IPY_MODEL_1a6ef420c5254005bc2664ac60439859",
              "IPY_MODEL_5337af22e5884103828e377c05b12272"
            ]
          }
        },
        "2bdcc665b71d48cda447960bd0ff276a": {
          "model_module": "@jupyter-widgets/base",
          "model_name": "LayoutModel",
          "state": {
            "_view_name": "LayoutView",
            "grid_template_rows": null,
            "right": null,
            "justify_content": null,
            "_view_module": "@jupyter-widgets/base",
            "overflow": null,
            "_model_module_version": "1.2.0",
            "_view_count": null,
            "flex_flow": null,
            "width": null,
            "min_width": null,
            "border": null,
            "align_items": null,
            "bottom": null,
            "_model_module": "@jupyter-widgets/base",
            "top": null,
            "grid_column": null,
            "overflow_y": null,
            "overflow_x": null,
            "grid_auto_flow": null,
            "grid_area": null,
            "grid_template_columns": null,
            "flex": null,
            "_model_name": "LayoutModel",
            "justify_items": null,
            "grid_row": null,
            "max_height": null,
            "align_content": null,
            "visibility": null,
            "align_self": null,
            "height": null,
            "min_height": null,
            "padding": null,
            "grid_auto_rows": null,
            "grid_gap": null,
            "max_width": null,
            "order": null,
            "_view_module_version": "1.2.0",
            "grid_template_areas": null,
            "object_position": null,
            "object_fit": null,
            "grid_auto_columns": null,
            "margin": null,
            "display": null,
            "left": null
          }
        },
        "1a6ef420c5254005bc2664ac60439859": {
          "model_module": "@jupyter-widgets/controls",
          "model_name": "IntProgressModel",
          "state": {
            "_view_name": "ProgressView",
            "style": "IPY_MODEL_17d2b64375dc419fa34e376519f67a7a",
            "_dom_classes": [],
            "description": "Downloading",
            "_model_name": "IntProgressModel",
            "bar_style": "success",
            "max": 440473133,
            "_view_module": "@jupyter-widgets/controls",
            "_model_module_version": "1.5.0",
            "value": 440473133,
            "_view_count": null,
            "_view_module_version": "1.5.0",
            "orientation": "horizontal",
            "min": 0,
            "description_tooltip": null,
            "_model_module": "@jupyter-widgets/controls",
            "layout": "IPY_MODEL_fd2e7771fb9e45a2a9ed00186649884f"
          }
        },
        "5337af22e5884103828e377c05b12272": {
          "model_module": "@jupyter-widgets/controls",
          "model_name": "HTMLModel",
          "state": {
            "_view_name": "HTMLView",
            "style": "IPY_MODEL_3cb06035210b4b40840ee62b10542310",
            "_dom_classes": [],
            "description": "",
            "_model_name": "HTMLModel",
            "placeholder": "​",
            "_view_module": "@jupyter-widgets/controls",
            "_model_module_version": "1.5.0",
            "value": "100% 440M/440M [00:06&lt;00:00, 73.3MB/s]",
            "_view_count": null,
            "_view_module_version": "1.5.0",
            "description_tooltip": null,
            "_model_module": "@jupyter-widgets/controls",
            "layout": "IPY_MODEL_c043b4df1f524be299832d785bd4ca0a"
          }
        },
        "17d2b64375dc419fa34e376519f67a7a": {
          "model_module": "@jupyter-widgets/controls",
          "model_name": "ProgressStyleModel",
          "state": {
            "_view_name": "StyleView",
            "_model_name": "ProgressStyleModel",
            "description_width": "initial",
            "_view_module": "@jupyter-widgets/base",
            "_model_module_version": "1.5.0",
            "_view_count": null,
            "_view_module_version": "1.2.0",
            "bar_color": null,
            "_model_module": "@jupyter-widgets/controls"
          }
        },
        "fd2e7771fb9e45a2a9ed00186649884f": {
          "model_module": "@jupyter-widgets/base",
          "model_name": "LayoutModel",
          "state": {
            "_view_name": "LayoutView",
            "grid_template_rows": null,
            "right": null,
            "justify_content": null,
            "_view_module": "@jupyter-widgets/base",
            "overflow": null,
            "_model_module_version": "1.2.0",
            "_view_count": null,
            "flex_flow": null,
            "width": null,
            "min_width": null,
            "border": null,
            "align_items": null,
            "bottom": null,
            "_model_module": "@jupyter-widgets/base",
            "top": null,
            "grid_column": null,
            "overflow_y": null,
            "overflow_x": null,
            "grid_auto_flow": null,
            "grid_area": null,
            "grid_template_columns": null,
            "flex": null,
            "_model_name": "LayoutModel",
            "justify_items": null,
            "grid_row": null,
            "max_height": null,
            "align_content": null,
            "visibility": null,
            "align_self": null,
            "height": null,
            "min_height": null,
            "padding": null,
            "grid_auto_rows": null,
            "grid_gap": null,
            "max_width": null,
            "order": null,
            "_view_module_version": "1.2.0",
            "grid_template_areas": null,
            "object_position": null,
            "object_fit": null,
            "grid_auto_columns": null,
            "margin": null,
            "display": null,
            "left": null
          }
        },
        "3cb06035210b4b40840ee62b10542310": {
          "model_module": "@jupyter-widgets/controls",
          "model_name": "DescriptionStyleModel",
          "state": {
            "_view_name": "StyleView",
            "_model_name": "DescriptionStyleModel",
            "description_width": "",
            "_view_module": "@jupyter-widgets/base",
            "_model_module_version": "1.5.0",
            "_view_count": null,
            "_view_module_version": "1.2.0",
            "_model_module": "@jupyter-widgets/controls"
          }
        },
        "c043b4df1f524be299832d785bd4ca0a": {
          "model_module": "@jupyter-widgets/base",
          "model_name": "LayoutModel",
          "state": {
            "_view_name": "LayoutView",
            "grid_template_rows": null,
            "right": null,
            "justify_content": null,
            "_view_module": "@jupyter-widgets/base",
            "overflow": null,
            "_model_module_version": "1.2.0",
            "_view_count": null,
            "flex_flow": null,
            "width": null,
            "min_width": null,
            "border": null,
            "align_items": null,
            "bottom": null,
            "_model_module": "@jupyter-widgets/base",
            "top": null,
            "grid_column": null,
            "overflow_y": null,
            "overflow_x": null,
            "grid_auto_flow": null,
            "grid_area": null,
            "grid_template_columns": null,
            "flex": null,
            "_model_name": "LayoutModel",
            "justify_items": null,
            "grid_row": null,
            "max_height": null,
            "align_content": null,
            "visibility": null,
            "align_self": null,
            "height": null,
            "min_height": null,
            "padding": null,
            "grid_auto_rows": null,
            "grid_gap": null,
            "max_width": null,
            "order": null,
            "_view_module_version": "1.2.0",
            "grid_template_areas": null,
            "object_position": null,
            "object_fit": null,
            "grid_auto_columns": null,
            "margin": null,
            "display": null,
            "left": null
          }
        },
        "5717db39284143fa82653070f28343bc": {
          "model_module": "@jupyter-widgets/controls",
          "model_name": "HBoxModel",
          "state": {
            "_view_name": "HBoxView",
            "_dom_classes": [],
            "_model_name": "HBoxModel",
            "_view_module": "@jupyter-widgets/controls",
            "_model_module_version": "1.5.0",
            "_view_count": null,
            "_view_module_version": "1.5.0",
            "box_style": "",
            "layout": "IPY_MODEL_29df8cf2018646e285a53ed793b078eb",
            "_model_module": "@jupyter-widgets/controls",
            "children": [
              "IPY_MODEL_8196aeebdc4241459073ca93a3cdaec0",
              "IPY_MODEL_da01fe93e35c4e04844f7d8210c1e2f5"
            ]
          }
        },
        "29df8cf2018646e285a53ed793b078eb": {
          "model_module": "@jupyter-widgets/base",
          "model_name": "LayoutModel",
          "state": {
            "_view_name": "LayoutView",
            "grid_template_rows": null,
            "right": null,
            "justify_content": null,
            "_view_module": "@jupyter-widgets/base",
            "overflow": null,
            "_model_module_version": "1.2.0",
            "_view_count": null,
            "flex_flow": null,
            "width": null,
            "min_width": null,
            "border": null,
            "align_items": null,
            "bottom": null,
            "_model_module": "@jupyter-widgets/base",
            "top": null,
            "grid_column": null,
            "overflow_y": null,
            "overflow_x": null,
            "grid_auto_flow": null,
            "grid_area": null,
            "grid_template_columns": null,
            "flex": null,
            "_model_name": "LayoutModel",
            "justify_items": null,
            "grid_row": null,
            "max_height": null,
            "align_content": null,
            "visibility": null,
            "align_self": null,
            "height": null,
            "min_height": null,
            "padding": null,
            "grid_auto_rows": null,
            "grid_gap": null,
            "max_width": null,
            "order": null,
            "_view_module_version": "1.2.0",
            "grid_template_areas": null,
            "object_position": null,
            "object_fit": null,
            "grid_auto_columns": null,
            "margin": null,
            "display": null,
            "left": null
          }
        },
        "8196aeebdc4241459073ca93a3cdaec0": {
          "model_module": "@jupyter-widgets/controls",
          "model_name": "IntProgressModel",
          "state": {
            "_view_name": "ProgressView",
            "style": "IPY_MODEL_add1941a365b492893ca6adf43006bb5",
            "_dom_classes": [],
            "description": "Downloading",
            "_model_name": "IntProgressModel",
            "bar_style": "success",
            "max": 231508,
            "_view_module": "@jupyter-widgets/controls",
            "_model_module_version": "1.5.0",
            "value": 231508,
            "_view_count": null,
            "_view_module_version": "1.5.0",
            "orientation": "horizontal",
            "min": 0,
            "description_tooltip": null,
            "_model_module": "@jupyter-widgets/controls",
            "layout": "IPY_MODEL_1fca879fca7e49ad830c831d99fad132"
          }
        },
        "da01fe93e35c4e04844f7d8210c1e2f5": {
          "model_module": "@jupyter-widgets/controls",
          "model_name": "HTMLModel",
          "state": {
            "_view_name": "HTMLView",
            "style": "IPY_MODEL_5f69f6575eb64744bada3ad4d70fb453",
            "_dom_classes": [],
            "description": "",
            "_model_name": "HTMLModel",
            "placeholder": "​",
            "_view_module": "@jupyter-widgets/controls",
            "_model_module_version": "1.5.0",
            "value": "100% 232k/232k [00:00&lt;00:00, 4.32MB/s]",
            "_view_count": null,
            "_view_module_version": "1.5.0",
            "description_tooltip": null,
            "_model_module": "@jupyter-widgets/controls",
            "layout": "IPY_MODEL_7f75f20233f44dc3becdbe3f948d8925"
          }
        },
        "add1941a365b492893ca6adf43006bb5": {
          "model_module": "@jupyter-widgets/controls",
          "model_name": "ProgressStyleModel",
          "state": {
            "_view_name": "StyleView",
            "_model_name": "ProgressStyleModel",
            "description_width": "initial",
            "_view_module": "@jupyter-widgets/base",
            "_model_module_version": "1.5.0",
            "_view_count": null,
            "_view_module_version": "1.2.0",
            "bar_color": null,
            "_model_module": "@jupyter-widgets/controls"
          }
        },
        "1fca879fca7e49ad830c831d99fad132": {
          "model_module": "@jupyter-widgets/base",
          "model_name": "LayoutModel",
          "state": {
            "_view_name": "LayoutView",
            "grid_template_rows": null,
            "right": null,
            "justify_content": null,
            "_view_module": "@jupyter-widgets/base",
            "overflow": null,
            "_model_module_version": "1.2.0",
            "_view_count": null,
            "flex_flow": null,
            "width": null,
            "min_width": null,
            "border": null,
            "align_items": null,
            "bottom": null,
            "_model_module": "@jupyter-widgets/base",
            "top": null,
            "grid_column": null,
            "overflow_y": null,
            "overflow_x": null,
            "grid_auto_flow": null,
            "grid_area": null,
            "grid_template_columns": null,
            "flex": null,
            "_model_name": "LayoutModel",
            "justify_items": null,
            "grid_row": null,
            "max_height": null,
            "align_content": null,
            "visibility": null,
            "align_self": null,
            "height": null,
            "min_height": null,
            "padding": null,
            "grid_auto_rows": null,
            "grid_gap": null,
            "max_width": null,
            "order": null,
            "_view_module_version": "1.2.0",
            "grid_template_areas": null,
            "object_position": null,
            "object_fit": null,
            "grid_auto_columns": null,
            "margin": null,
            "display": null,
            "left": null
          }
        },
        "5f69f6575eb64744bada3ad4d70fb453": {
          "model_module": "@jupyter-widgets/controls",
          "model_name": "DescriptionStyleModel",
          "state": {
            "_view_name": "StyleView",
            "_model_name": "DescriptionStyleModel",
            "description_width": "",
            "_view_module": "@jupyter-widgets/base",
            "_model_module_version": "1.5.0",
            "_view_count": null,
            "_view_module_version": "1.2.0",
            "_model_module": "@jupyter-widgets/controls"
          }
        },
        "7f75f20233f44dc3becdbe3f948d8925": {
          "model_module": "@jupyter-widgets/base",
          "model_name": "LayoutModel",
          "state": {
            "_view_name": "LayoutView",
            "grid_template_rows": null,
            "right": null,
            "justify_content": null,
            "_view_module": "@jupyter-widgets/base",
            "overflow": null,
            "_model_module_version": "1.2.0",
            "_view_count": null,
            "flex_flow": null,
            "width": null,
            "min_width": null,
            "border": null,
            "align_items": null,
            "bottom": null,
            "_model_module": "@jupyter-widgets/base",
            "top": null,
            "grid_column": null,
            "overflow_y": null,
            "overflow_x": null,
            "grid_auto_flow": null,
            "grid_area": null,
            "grid_template_columns": null,
            "flex": null,
            "_model_name": "LayoutModel",
            "justify_items": null,
            "grid_row": null,
            "max_height": null,
            "align_content": null,
            "visibility": null,
            "align_self": null,
            "height": null,
            "min_height": null,
            "padding": null,
            "grid_auto_rows": null,
            "grid_gap": null,
            "max_width": null,
            "order": null,
            "_view_module_version": "1.2.0",
            "grid_template_areas": null,
            "object_position": null,
            "object_fit": null,
            "grid_auto_columns": null,
            "margin": null,
            "display": null,
            "left": null
          }
        }
      }
    }
  },
  "cells": [
    {
      "cell_type": "markdown",
      "metadata": {
        "id": "view-in-github",
        "colab_type": "text"
      },
      "source": [
        "<a href=\"https://colab.research.google.com/github/ZeroLeon/NLP_Project_with_FastAI/blob/master/DisasterTweetsDetection_Fastai.ipynb\" target=\"_parent\"><img src=\"https://colab.research.google.com/assets/colab-badge.svg\" alt=\"Open In Colab\"/></a>"
      ]
    },
    {
      "cell_type": "markdown",
      "metadata": {
        "id": "wc70mHvcvUPh",
        "colab_type": "text"
      },
      "source": [
        "# Predict which Tweets are about real disasters with Fastai"
      ]
    },
    {
      "cell_type": "markdown",
      "metadata": {
        "id": "RVDl7ohRvZAu",
        "colab_type": "text"
      },
      "source": [
        "Kaggle Competition [link](https://www.kaggle.com/c/nlp-getting-started/overview)"
      ]
    },
    {
      "cell_type": "markdown",
      "metadata": {
        "id": "wcOaV_MnyKab",
        "colab_type": "text"
      },
      "source": [
        "## Preparation and download competition data"
      ]
    },
    {
      "cell_type": "code",
      "metadata": {
        "id": "aKWp2k20uGhG",
        "colab_type": "code",
        "colab": {}
      },
      "source": [
        "import os\n",
        "import pandas as pd\n",
        "import numpy as np\n",
        "from pathlib import Path\n",
        "from google.colab import drive\n",
        "drive.mount('/content/gdrive',force_remount = True)\n",
        "base_dir = '/content/gdrive/My Drive/fastai/'\n",
        "path = Path(base_dir +'/data/')\n",
        "#path.mkdir(parents=True,exist_ok=True) \n",
        "os.chdir(path) "
      ],
      "execution_count": 0,
      "outputs": []
    },
    {
      "cell_type": "code",
      "metadata": {
        "id": "aFZridcg08bE",
        "colab_type": "code",
        "colab": {}
      },
      "source": [
        "import plotly.express as px\n",
        "import plotly.graph_objects as go\n",
        "from fastai.text import *\n",
        "from fastai.callbacks import * "
      ],
      "execution_count": 0,
      "outputs": []
    },
    {
      "cell_type": "code",
      "metadata": {
        "id": "g0NhZwy7vSYf",
        "colab_type": "code",
        "colab": {
          "base_uri": "https://localhost:8080/",
          "height": 33
        },
        "outputId": "79632fe7-8895-44f6-c943-686b9a8cdcae"
      },
      "source": [
        "# !mkdir kaggle_disaster_tweets\n",
        "%cd kaggle_disaster_tweets"
      ],
      "execution_count": 3,
      "outputs": [
        {
          "output_type": "stream",
          "text": [
            "/content/gdrive/My Drive/fastai/data/kaggle_disaster_tweets\n"
          ],
          "name": "stdout"
        }
      ]
    },
    {
      "cell_type": "code",
      "metadata": {
        "id": "J2uyEAP5xGOB",
        "colab_type": "code",
        "colab": {
          "base_uri": "https://localhost:8080/",
          "height": 33
        },
        "outputId": "82f99fd0-3af1-48dd-8982-a81831c180a8"
      },
      "source": [
        "!mkdir .kaggle"
      ],
      "execution_count": 57,
      "outputs": [
        {
          "output_type": "stream",
          "text": [
            "mkdir: cannot create directory ‘.kaggle’: File exists\n"
          ],
          "name": "stdout"
        }
      ]
    },
    {
      "cell_type": "code",
      "metadata": {
        "id": "n66LNA-ix0Uw",
        "colab_type": "code",
        "colab": {}
      },
      "source": [
        "!cp kaggle.json ~/.kaggle/kaggle.json"
      ],
      "execution_count": 0,
      "outputs": []
    },
    {
      "cell_type": "code",
      "metadata": {
        "id": "mo7QBMi2xiHa",
        "colab_type": "code",
        "colab": {}
      },
      "source": [
        "!chmod 600 ~/.kaggle/kaggle.json"
      ],
      "execution_count": 0,
      "outputs": []
    },
    {
      "cell_type": "code",
      "metadata": {
        "id": "UzgPXbICwmCF",
        "colab_type": "code",
        "colab": {
          "base_uri": "https://localhost:8080/",
          "height": 184
        },
        "outputId": "aaf508bf-a2df-4c67-a1e8-1bc7e2b8f9cc"
      },
      "source": [
        "!kaggle competitions download -c nlp-getting-started"
      ],
      "execution_count": 11,
      "outputs": [
        {
          "output_type": "stream",
          "text": [
            "Warning: Looks like you're using an outdated API Version, please consider updating (server 1.5.6 / client 1.5.4)\n",
            "Downloading test.csv to /content/gdrive/My Drive/fastai/data/kaggle_disaster_tweets\n",
            "  0% 0.00/411k [00:00<?, ?B/s]\n",
            "100% 411k/411k [00:00<00:00, 26.6MB/s]\n",
            "Downloading sample_submission.csv to /content/gdrive/My Drive/fastai/data/kaggle_disaster_tweets\n",
            "  0% 0.00/22.2k [00:00<?, ?B/s]\n",
            "100% 22.2k/22.2k [00:00<00:00, 6.13MB/s]\n",
            "Downloading train.csv to /content/gdrive/My Drive/fastai/data/kaggle_disaster_tweets\n",
            "  0% 0.00/965k [00:00<?, ?B/s]\n",
            "100% 965k/965k [00:00<00:00, 31.2MB/s]\n"
          ],
          "name": "stdout"
        }
      ]
    },
    {
      "cell_type": "code",
      "metadata": {
        "id": "mvjswR-LyB_k",
        "colab_type": "code",
        "colab": {
          "base_uri": "https://localhost:8080/",
          "height": 33
        },
        "outputId": "1a6da516-c02e-4f3d-d89a-b5f5e483177d"
      },
      "source": [
        "%ls"
      ],
      "execution_count": 12,
      "outputs": [
        {
          "output_type": "stream",
          "text": [
            "kaggle.json  sample_submission.csv  test.csv  train.csv\n"
          ],
          "name": "stdout"
        }
      ]
    },
    {
      "cell_type": "code",
      "metadata": {
        "id": "QlTsrn50yI8s",
        "colab_type": "code",
        "colab": {}
      },
      "source": [
        ""
      ],
      "execution_count": 0,
      "outputs": []
    },
    {
      "cell_type": "markdown",
      "metadata": {
        "id": "mP3OEfLhyM5f",
        "colab_type": "text"
      },
      "source": [
        "## Initial Data Exploration"
      ]
    },
    {
      "cell_type": "code",
      "metadata": {
        "id": "HyozhsrTyaVI",
        "colab_type": "code",
        "colab": {}
      },
      "source": [
        "train = pd.read_csv('train.csv')\n",
        "test = pd.read_csv('test.csv')\n",
        "sub = pd.read_csv('sample_submission.csv')"
      ],
      "execution_count": 0,
      "outputs": []
    },
    {
      "cell_type": "code",
      "metadata": {
        "id": "KysJqUdJ13Ep",
        "colab_type": "code",
        "colab": {
          "base_uri": "https://localhost:8080/",
          "height": 33
        },
        "outputId": "ea805489-dd6f-4e15-dbe9-79ac5716f0fd"
      },
      "source": [
        "train.shape,test.shape,sub.shape"
      ],
      "execution_count": 5,
      "outputs": [
        {
          "output_type": "execute_result",
          "data": {
            "text/plain": [
              "((7613, 5), (3263, 4), (3263, 2))"
            ]
          },
          "metadata": {
            "tags": []
          },
          "execution_count": 5
        }
      ]
    },
    {
      "cell_type": "code",
      "metadata": {
        "id": "oDN5_6qc1J3p",
        "colab_type": "code",
        "colab": {
          "base_uri": "https://localhost:8080/",
          "height": 137
        },
        "outputId": "0a33b203-4e78-4c67-a746-00899ed95f73"
      },
      "source": [
        "train.head(3)"
      ],
      "execution_count": 6,
      "outputs": [
        {
          "output_type": "execute_result",
          "data": {
            "text/html": [
              "<div>\n",
              "<style scoped>\n",
              "    .dataframe tbody tr th:only-of-type {\n",
              "        vertical-align: middle;\n",
              "    }\n",
              "\n",
              "    .dataframe tbody tr th {\n",
              "        vertical-align: top;\n",
              "    }\n",
              "\n",
              "    .dataframe thead th {\n",
              "        text-align: right;\n",
              "    }\n",
              "</style>\n",
              "<table border=\"1\" class=\"dataframe\">\n",
              "  <thead>\n",
              "    <tr style=\"text-align: right;\">\n",
              "      <th></th>\n",
              "      <th>id</th>\n",
              "      <th>keyword</th>\n",
              "      <th>location</th>\n",
              "      <th>text</th>\n",
              "      <th>target</th>\n",
              "    </tr>\n",
              "  </thead>\n",
              "  <tbody>\n",
              "    <tr>\n",
              "      <th>0</th>\n",
              "      <td>1</td>\n",
              "      <td>NaN</td>\n",
              "      <td>NaN</td>\n",
              "      <td>Our Deeds are the Reason of this #earthquake M...</td>\n",
              "      <td>1</td>\n",
              "    </tr>\n",
              "    <tr>\n",
              "      <th>1</th>\n",
              "      <td>4</td>\n",
              "      <td>NaN</td>\n",
              "      <td>NaN</td>\n",
              "      <td>Forest fire near La Ronge Sask. Canada</td>\n",
              "      <td>1</td>\n",
              "    </tr>\n",
              "    <tr>\n",
              "      <th>2</th>\n",
              "      <td>5</td>\n",
              "      <td>NaN</td>\n",
              "      <td>NaN</td>\n",
              "      <td>All residents asked to 'shelter in place' are ...</td>\n",
              "      <td>1</td>\n",
              "    </tr>\n",
              "  </tbody>\n",
              "</table>\n",
              "</div>"
            ],
            "text/plain": [
              "   id keyword  ...                                               text target\n",
              "0   1     NaN  ...  Our Deeds are the Reason of this #earthquake M...      1\n",
              "1   4     NaN  ...             Forest fire near La Ronge Sask. Canada      1\n",
              "2   5     NaN  ...  All residents asked to 'shelter in place' are ...      1\n",
              "\n",
              "[3 rows x 5 columns]"
            ]
          },
          "metadata": {
            "tags": []
          },
          "execution_count": 6
        }
      ]
    },
    {
      "cell_type": "code",
      "metadata": {
        "id": "ehZTNCm-1Oim",
        "colab_type": "code",
        "colab": {
          "base_uri": "https://localhost:8080/",
          "height": 166
        },
        "outputId": "5fad93df-860f-498e-8aba-1476545f9dde"
      },
      "source": [
        "train.isna().describe()"
      ],
      "execution_count": 7,
      "outputs": [
        {
          "output_type": "execute_result",
          "data": {
            "text/html": [
              "<div>\n",
              "<style scoped>\n",
              "    .dataframe tbody tr th:only-of-type {\n",
              "        vertical-align: middle;\n",
              "    }\n",
              "\n",
              "    .dataframe tbody tr th {\n",
              "        vertical-align: top;\n",
              "    }\n",
              "\n",
              "    .dataframe thead th {\n",
              "        text-align: right;\n",
              "    }\n",
              "</style>\n",
              "<table border=\"1\" class=\"dataframe\">\n",
              "  <thead>\n",
              "    <tr style=\"text-align: right;\">\n",
              "      <th></th>\n",
              "      <th>id</th>\n",
              "      <th>keyword</th>\n",
              "      <th>location</th>\n",
              "      <th>text</th>\n",
              "      <th>target</th>\n",
              "    </tr>\n",
              "  </thead>\n",
              "  <tbody>\n",
              "    <tr>\n",
              "      <th>count</th>\n",
              "      <td>7613</td>\n",
              "      <td>7613</td>\n",
              "      <td>7613</td>\n",
              "      <td>7613</td>\n",
              "      <td>7613</td>\n",
              "    </tr>\n",
              "    <tr>\n",
              "      <th>unique</th>\n",
              "      <td>1</td>\n",
              "      <td>2</td>\n",
              "      <td>2</td>\n",
              "      <td>1</td>\n",
              "      <td>1</td>\n",
              "    </tr>\n",
              "    <tr>\n",
              "      <th>top</th>\n",
              "      <td>False</td>\n",
              "      <td>False</td>\n",
              "      <td>False</td>\n",
              "      <td>False</td>\n",
              "      <td>False</td>\n",
              "    </tr>\n",
              "    <tr>\n",
              "      <th>freq</th>\n",
              "      <td>7613</td>\n",
              "      <td>7552</td>\n",
              "      <td>5080</td>\n",
              "      <td>7613</td>\n",
              "      <td>7613</td>\n",
              "    </tr>\n",
              "  </tbody>\n",
              "</table>\n",
              "</div>"
            ],
            "text/plain": [
              "           id keyword location   text target\n",
              "count    7613    7613     7613   7613   7613\n",
              "unique      1       2        2      1      1\n",
              "top     False   False    False  False  False\n",
              "freq     7613    7552     5080   7613   7613"
            ]
          },
          "metadata": {
            "tags": []
          },
          "execution_count": 7
        }
      ]
    },
    {
      "cell_type": "code",
      "metadata": {
        "id": "Mt5kfBJY1zZ2",
        "colab_type": "code",
        "colab": {
          "base_uri": "https://localhost:8080/",
          "height": 201
        },
        "outputId": "5461596d-3d8c-40fc-eb57-c8d7ffaa3c82"
      },
      "source": [
        "train.location.dropna().sample(10)"
      ],
      "execution_count": 8,
      "outputs": [
        {
          "output_type": "execute_result",
          "data": {
            "text/plain": [
              "3336               Manchester UK\n",
              "4295                    Colorado\n",
              "1276                      Canada\n",
              "5909    Tractor land aka Bristol\n",
              "6964        but i love kaylen ??\n",
              "7505                      Mumbai\n",
              "2308           Glasgow, Scotland\n",
              "5874           MÌ©rida, YucatÌÁn\n",
              "5675                   Ohio, USA\n",
              "1352                 Los Angeles\n",
              "Name: location, dtype: object"
            ]
          },
          "metadata": {
            "tags": []
          },
          "execution_count": 8
        }
      ]
    },
    {
      "cell_type": "code",
      "metadata": {
        "id": "WZeybFIR2z8Q",
        "colab_type": "code",
        "colab": {
          "base_uri": "https://localhost:8080/",
          "height": 535
        },
        "outputId": "e8498ba1-8b08-4da8-ccd7-4de4a65988bc"
      },
      "source": [
        "train.text.apply(len).value_counts().head(30)"
      ],
      "execution_count": 9,
      "outputs": [
        {
          "output_type": "execute_result",
          "data": {
            "text/plain": [
              "136    401\n",
              "139    275\n",
              "138    256\n",
              "140    218\n",
              "137    210\n",
              "135    191\n",
              "134    128\n",
              "133    114\n",
              "132    113\n",
              "130     91\n",
              "91      88\n",
              "126     84\n",
              "100     79\n",
              "120     79\n",
              "131     78\n",
              "129     78\n",
              "101     78\n",
              "122     77\n",
              "114     77\n",
              "87      77\n",
              "128     76\n",
              "79      74\n",
              "117     73\n",
              "85      73\n",
              "92      72\n",
              "96      72\n",
              "88      71\n",
              "124     71\n",
              "95      70\n",
              "123     70\n",
              "Name: text, dtype: int64"
            ]
          },
          "metadata": {
            "tags": []
          },
          "execution_count": 9
        }
      ]
    },
    {
      "cell_type": "code",
      "metadata": {
        "id": "2Hc_E0z_3YhP",
        "colab_type": "code",
        "colab": {
          "base_uri": "https://localhost:8080/",
          "height": 67
        },
        "outputId": "57fd3ef6-181d-4d9e-d93b-e2cffa57027e"
      },
      "source": [
        "train.target.value_counts()"
      ],
      "execution_count": 26,
      "outputs": [
        {
          "output_type": "execute_result",
          "data": {
            "text/plain": [
              "0    4342\n",
              "1    3271\n",
              "Name: target, dtype: int64"
            ]
          },
          "metadata": {
            "tags": []
          },
          "execution_count": 26
        }
      ]
    },
    {
      "cell_type": "markdown",
      "metadata": {
        "id": "F0mVxBNy2j88",
        "colab_type": "text"
      },
      "source": [
        "Location has a lot of NaN values, training dataset is a little unbalanced"
      ]
    },
    {
      "cell_type": "code",
      "metadata": {
        "id": "i8afyrGN2L5B",
        "colab_type": "code",
        "colab": {}
      },
      "source": [
        ""
      ],
      "execution_count": 0,
      "outputs": []
    },
    {
      "cell_type": "markdown",
      "metadata": {
        "id": "RCUCUSYE5KJ6",
        "colab_type": "text"
      },
      "source": [
        "## Wordcloud to show the main content of these tweets"
      ]
    },
    {
      "cell_type": "code",
      "metadata": {
        "id": "ssIZ9Xoq8-KC",
        "colab_type": "code",
        "colab": {}
      },
      "source": [
        "from wordcloud import WordCloud,STOPWORDS\n",
        "import plotly.graph_objs as go\n",
        "import matplotlib.pyplot as plt\n",
        "from nltk.tokenize import TweetTokenizer\n",
        "import numpy as np\n",
        "import pandas as pd\n",
        "from matplotlib.colors import LinearSegmentedColormap"
      ],
      "execution_count": 0,
      "outputs": []
    },
    {
      "cell_type": "code",
      "metadata": {
        "id": "-26L1_PI9RLq",
        "colab_type": "code",
        "colab": {}
      },
      "source": [
        "tknzr = TweetTokenizer()"
      ],
      "execution_count": 0,
      "outputs": []
    },
    {
      "cell_type": "code",
      "metadata": {
        "id": "S1Fw04CJ_BJH",
        "colab_type": "code",
        "colab": {}
      },
      "source": [
        "train['cutted'] = train.text.apply(lambda x:  ' '.join(tknzr.tokenize(x)))"
      ],
      "execution_count": 0,
      "outputs": []
    },
    {
      "cell_type": "code",
      "metadata": {
        "id": "DTU0F1HO_N2Q",
        "colab_type": "code",
        "colab": {
          "base_uri": "https://localhost:8080/",
          "height": 33
        },
        "outputId": "9bd99c59-01a6-4cf5-aaf9-493071066418"
      },
      "source": [
        "train.cutted.iloc[5]"
      ],
      "execution_count": 12,
      "outputs": [
        {
          "output_type": "execute_result",
          "data": {
            "text/plain": [
              "'#RockyFire Update = > California Hwy . 20 closed in both directions due to Lake County fire - #CAfire #wildfires'"
            ]
          },
          "metadata": {
            "tags": []
          },
          "execution_count": 12
        }
      ]
    },
    {
      "cell_type": "code",
      "metadata": {
        "id": "0SHcM36FAVyC",
        "colab_type": "code",
        "colab": {}
      },
      "source": [
        "total_text = \" \".join(train.cutted.to_list())"
      ],
      "execution_count": 0,
      "outputs": []
    },
    {
      "cell_type": "code",
      "metadata": {
        "id": "z1LlVme6B8wl",
        "colab_type": "code",
        "colab": {}
      },
      "source": [
        "train_real = train[train.target == 1].copy()\n",
        "train_nreal =  train[train.target == 0].copy() #nreal == not real\n",
        "real_text = \" \".join(train_real.cutted.to_list())\n",
        "nreal_text = \" \".join(train_nreal.cutted.to_list())"
      ],
      "execution_count": 0,
      "outputs": []
    },
    {
      "cell_type": "code",
      "metadata": {
        "id": "Q_OfNr425Jlz",
        "colab_type": "code",
        "colab": {}
      },
      "source": [
        "stwlist=[line.strip() for line in open('eng_stopwords.txt','r',encoding='utf-8').readlines()]\n",
        "# stopwords for English, can add custom words list later\n",
        "\n",
        "def plotly_wordcloud(text):\n",
        "    colors = [\"#000000\", \"#111111\", \"#101010\", \"#121212\", \"#212121\", \"#222222\"]\n",
        "    cmap = LinearSegmentedColormap.from_list(\"mycmap\", colors)\n",
        "    wc = WordCloud(stopwords = set(STOPWORDS.union(set(stwlist))),\n",
        "                   max_words = 300,\n",
        "                   max_font_size = 120,\n",
        "                   colormap=cmap,\n",
        "                   random_state = 0,\n",
        "                   )\n",
        "    wc.generate(text)\n",
        "    \n",
        "    word_list=[]\n",
        "    freq_list=[]\n",
        "    fontsize_list=[]\n",
        "    position_list=[]\n",
        "    orientation_list=[]\n",
        "    color_list=[]\n",
        "\n",
        "    for (word, freq), fontsize, position, orientation, color in wc.layout_:\n",
        "        word_list.append(word)\n",
        "        freq_list.append(freq)\n",
        "        fontsize_list.append(fontsize)\n",
        "        position_list.append(position)\n",
        "        orientation_list.append(orientation)\n",
        "        color_list.append(color)\n",
        "        \n",
        "    # get the positions\n",
        "    x=[]\n",
        "    y=[]\n",
        "    for i in position_list:\n",
        "        x.append(i[0])\n",
        "        y.append(i[1])\n",
        "            \n",
        "    # get the relative occurence frequencies\n",
        "    new_freq_list = []\n",
        "    for i in freq_list:\n",
        "        new_freq_list.append((i*150+10))\n",
        "    # new_freq_list\n",
        "    \n",
        "    trace = go.Scatter(x=x, \n",
        "                       y=y, \n",
        "                       textfont = dict(size=new_freq_list,\n",
        "                                       color=color_list),\n",
        "                       hoverinfo='text',\n",
        "                       hovertext=['{0}{1}'.format(w, f) for w, f in zip(word_list, freq_list)],\n",
        "                       mode='text',  \n",
        "                       text=word_list\n",
        "                      )\n",
        "    \n",
        "    layout = go.Layout({'xaxis': {'showgrid': False, 'showticklabels': False, 'zeroline': False},\n",
        "                        'yaxis': {'showgrid': False, 'showticklabels': False, 'zeroline': False}})\n",
        "    \n",
        "    fig = go.Figure(data=[trace], layout=layout)\n",
        "    fig.update_layout(plot_bgcolor='#D3DFE2')\n",
        "    return fig"
      ],
      "execution_count": 0,
      "outputs": []
    },
    {
      "cell_type": "code",
      "metadata": {
        "id": "CTwguh4P5JiF",
        "colab_type": "code",
        "colab": {}
      },
      "source": [
        "fig = plotly_wordcloud(total_text)\n"
      ],
      "execution_count": 0,
      "outputs": []
    },
    {
      "cell_type": "code",
      "metadata": {
        "id": "DMaarPST5Je4",
        "colab_type": "code",
        "colab": {
          "base_uri": "https://localhost:8080/",
          "height": 542
        },
        "outputId": "7643b105-f235-42a2-e850-6e211ae1059c"
      },
      "source": [
        "fig.show()"
      ],
      "execution_count": 18,
      "outputs": [
        {
          "output_type": "display_data",
          "data": {
            "text/html": [
              "<html>\n",
              "<head><meta charset=\"utf-8\" /></head>\n",
              "<body>\n",
              "    <div>\n",
              "            <script src=\"https://cdnjs.cloudflare.com/ajax/libs/mathjax/2.7.5/MathJax.js?config=TeX-AMS-MML_SVG\"></script><script type=\"text/javascript\">if (window.MathJax) {MathJax.Hub.Config({SVG: {font: \"STIX-Web\"}});}</script>\n",
              "                <script type=\"text/javascript\">window.PlotlyConfig = {MathJaxConfig: 'local'};</script>\n",
              "        <script src=\"https://cdn.plot.ly/plotly-latest.min.js\"></script>    \n",
              "            <div id=\"8e769fcd-fa7c-432d-a8e2-1ed66d5a1627\" class=\"plotly-graph-div\" style=\"height:525px; width:100%;\"></div>\n",
              "            <script type=\"text/javascript\">\n",
              "                \n",
              "                    window.PLOTLYENV=window.PLOTLYENV || {};\n",
              "                    \n",
              "                if (document.getElementById(\"8e769fcd-fa7c-432d-a8e2-1ed66d5a1627\")) {\n",
              "                    Plotly.newPlot(\n",
              "                        '8e769fcd-fa7c-432d-a8e2-1ed66d5a1627',\n",
              "                        [{\"hoverinfo\": \"text\", \"hovertext\": [\"co1.0\", \"https co0.11054192504718253\", \"New0.06956052844432462\", \"\\u00db_ co0.058775950390940954\", \"one0.04906983014289566\", \"fire0.04745214343488811\", \"people0.038015637638177405\", \"day0.037746023186842816\", \"via0.036397950930169856\", \"time0.03397142086815853\", \"know0.032353734160150985\", \"back0.030736047452143436\", \"got0.030466433000808844\", \"death0.030466433000808844\", \"us0.03019681854947425\", \"see0.03019681854947425\", \"look0.02830951739013211\", \"man0.02803990293879752\", \"going0.02803990293879752\", \"say0.026961445133459154\", \"car0.025882987328120787\", \"RT0.025882987328120787\", \"want0.025613372876786195\", \"need0.025074143974117013\", \"today0.02426530062011324\", \"love0.023995686168778646\", \"way0.023995686168778646\", \"still0.023726071717444053\", \"\\u00db\\u00aa0.023186842814774872\", \"go0.02291722836344028\", \"think0.02291722836344028\", \"good0.02264761391210569\", \"world0.02264761391210569\", \"Emergency0.021838770558101916\", \"storm0.021838770558101916\", \"help0.02076031275276355\", \"life0.020490698301428956\", \"right0.019951469398759775\", \"weapon0.01941224049609059\", \"make0.019142626044756\", \"really0.019142626044756\", \"lol0.019142626044756\", \"two0.018333782690752223\", \"come0.018064168239417634\", \"police0.01752493933674845\", \"great0.016716095982744674\", \"year0.016446481531410085\", \"feel0.016446481531410085\", \"dead0.016176867080075492\", \"Please0.016176867080075492\", \"thing0.016176867080075492\", \"suicide bomber0.016176867080075492\", \"much0.0159072526287409\", \"never0.0159072526287409\", \"burning buildings0.0159072526287409\", \"everyone0.01563763817740631\", \"flood0.015368023726071718\", \"even0.015368023726071718\", \"getting0.015098409274737126\", \"shit0.015098409274737126\", \"Thank0.015098409274737126\", \"another0.015098409274737126\", \"run0.015098409274737126\", \"hit0.015098409274737126\", \"city0.014828794823402535\", \"Watch0.014828794823402535\", \"damage0.014559180372067942\", \"fear0.014559180372067942\", \"Photo0.014289565920733351\", \"game0.01401995146939876\", \"let0.01401995146939876\", \"building0.013750337018064168\", \"body bag0.013750337018064168\", \"end0.013480722566729577\", \"first0.013480722566729577\", \"every0.013480722566729577\", \"cause0.013480722566729577\", \"burning0.013480722566729577\", \"near0.013211108115394984\", \"smoke0.013211108115394984\", \"live0.013211108115394984\", \"head0.013211108115394984\", \"work0.012941493664060394\", \"siren0.012941493664060394\", \"road0.012671879212725803\", \"guy0.012671879212725803\", \"flooding0.01240226476139121\", \"last0.01240226476139121\", \"always0.01240226476139121\", \"set0.01240226476139121\", \"fucking0.01240226476139121\", \"im0.01240226476139121\", \"house0.01240226476139121\", \"bad0.01240226476139121\", \"girl0.01240226476139121\", \"made0.01240226476139121\", \"Check0.01213265031005662\", \"little0.01213265031005662\", \"may0.011863035858722027\", \"rain0.011863035858722027\", \"someone0.011863035858722027\", \"well0.011863035858722027\", \"call0.011593421407387436\", \"evacuate0.011593421407387436\", \"YouTube video0.011593421407387436\", \"free0.011323806956052845\", \"die0.011323806956052845\", \"destroy0.011323806956052845\", \"long0.011323806956052845\", \"keep0.011323806956052845\", \"collided0.011323806956052845\", \"liked YouTube0.011323806956052845\", \"video co0.011323806956052845\", \"next0.011054192504718252\", \"tonight0.011054192504718252\", \"big0.011054192504718252\", \"Northern California0.011054192504718252\", \"blood0.010784578053383662\", \"hour0.010784578053383662\", \"take0.010784578053383662\", \"ruin0.010784578053383662\", \"Cross Body0.010784578053383662\", \"Update0.010514963602049069\", \"gonna0.010514963602049069\", \"lot0.010514963602049069\", \"hope0.010514963602049069\", \"real0.010514963602049069\", \"terrorist0.010514963602049069\", \"kid0.010514963602049069\", \"survived0.010514963602049069\", \"fatalities0.010514963602049069\", \"oil spill0.010514963602049069\", \"around0.010245349150714478\", \"bloody0.010245349150714478\", \"high0.010245349150714478\", \"part0.010245349150714478\", \"friend0.010245349150714478\", \"fuck0.010245349150714478\", \"put0.010245349150714478\", \"deluge0.010245349150714478\", \"area0.009975734699379887\", \"\\u00db\\u00d20.009975734699379887\", \"use0.009975734699379887\", \"screaming0.009975734699379887\", \"job0.009975734699379887\", \"trauma0.009975734699379887\", \"thought0.009975734699379887\", \"attack0.009975734699379887\", \"survive0.009975734699379887\", \"start0.009975734699379887\", \"hail0.009975734699379887\", \"injuries0.009975734699379887\", \"thunder0.009975734699379887\", \"sunk0.009975734699379887\", \"scream0.009975734699379887\", \"earthquake0.009706120248045295\", \"better0.009706120248045295\", \"show0.009706120248045295\", \"wanna0.009706120248045295\", \"traumatised0.009706120248045295\", \"screamed0.009706120248045295\"], \"mode\": \"text\", \"text\": [\"co\", \"https co\", \"New\", \"\\u00db_ co\", \"one\", \"fire\", \"people\", \"day\", \"via\", \"time\", \"know\", \"back\", \"got\", \"death\", \"us\", \"see\", \"look\", \"man\", \"going\", \"say\", \"car\", \"RT\", \"want\", \"need\", \"today\", \"love\", \"way\", \"still\", \"\\u00db\\u00aa\", \"go\", \"think\", \"good\", \"world\", \"Emergency\", \"storm\", \"help\", \"life\", \"right\", \"weapon\", \"make\", \"really\", \"lol\", \"two\", \"come\", \"police\", \"great\", \"year\", \"feel\", \"dead\", \"Please\", \"thing\", \"suicide bomber\", \"much\", \"never\", \"burning buildings\", \"everyone\", \"flood\", \"even\", \"getting\", \"shit\", \"Thank\", \"another\", \"run\", \"hit\", \"city\", \"Watch\", \"damage\", \"fear\", \"Photo\", \"game\", \"let\", \"building\", \"body bag\", \"end\", \"first\", \"every\", \"cause\", \"burning\", \"near\", \"smoke\", \"live\", \"head\", \"work\", \"siren\", \"road\", \"guy\", \"flooding\", \"last\", \"always\", \"set\", \"fucking\", \"im\", \"house\", \"bad\", \"girl\", \"made\", \"Check\", \"little\", \"may\", \"rain\", \"someone\", \"well\", \"call\", \"evacuate\", \"YouTube video\", \"free\", \"die\", \"destroy\", \"long\", \"keep\", \"collided\", \"liked YouTube\", \"video co\", \"next\", \"tonight\", \"big\", \"Northern California\", \"blood\", \"hour\", \"take\", \"ruin\", \"Cross Body\", \"Update\", \"gonna\", \"lot\", \"hope\", \"real\", \"terrorist\", \"kid\", \"survived\", \"fatalities\", \"oil spill\", \"around\", \"bloody\", \"high\", \"part\", \"friend\", \"fuck\", \"put\", \"deluge\", \"area\", \"\\u00db\\u00d2\", \"use\", \"screaming\", \"job\", \"trauma\", \"thought\", \"attack\", \"survive\", \"start\", \"hail\", \"injuries\", \"thunder\", \"sunk\", \"scream\", \"earthquake\", \"better\", \"show\", \"wanna\", \"traumatised\", \"screamed\"], \"textfont\": {\"color\": [\"rgb(3, 3, 3)\", \"rgb(16, 16, 16)\", \"rgb(34, 34, 34)\", \"rgb(17, 17, 17)\", \"rgb(19, 19, 19)\", \"rgb(17, 17, 17)\", \"rgb(34, 34, 34)\", \"rgb(34, 34, 34)\", \"rgb(18, 18, 18)\", \"rgb(19, 19, 19)\", \"rgb(17, 17, 17)\", \"rgb(5, 5, 5)\", \"rgb(8, 8, 8)\", \"rgb(33, 33, 33)\", \"rgb(19, 19, 19)\", \"rgb(17, 17, 17)\", \"rgb(5, 5, 5)\", \"rgb(17, 17, 17)\", \"rgb(16, 16, 16)\", \"rgb(33, 33, 33)\", \"rgb(9, 9, 9)\", \"rgb(10, 10, 10)\", \"rgb(17, 17, 17)\", \"rgb(16, 16, 16)\", \"rgb(16, 16, 16)\", \"rgb(33, 33, 33)\", \"rgb(17, 17, 17)\", \"rgb(33, 33, 33)\", \"rgb(33, 33, 33)\", \"rgb(24, 24, 24)\", \"rgb(17, 17, 17)\", \"rgb(33, 33, 33)\", \"rgb(18, 18, 18)\", \"rgb(21, 21, 21)\", \"rgb(16, 16, 16)\", \"rgb(17, 17, 17)\", \"rgb(17, 17, 17)\", \"rgb(26, 26, 26)\", \"rgb(16, 16, 16)\", \"rgb(32, 32, 32)\", \"rgb(4, 4, 4)\", \"rgb(18, 18, 18)\", \"rgb(21, 21, 21)\", \"rgb(10, 10, 10)\", \"rgb(3, 3, 3)\", \"rgb(27, 27, 27)\", \"rgb(34, 34, 34)\", \"rgb(19, 19, 19)\", \"rgb(17, 17, 17)\", \"rgb(16, 16, 16)\", \"rgb(3, 3, 3)\", \"rgb(17, 17, 17)\", \"rgb(33, 33, 33)\", \"rgb(25, 25, 25)\", \"rgb(24, 24, 24)\", \"rgb(17, 17, 17)\", \"rgb(23, 23, 23)\", \"rgb(16, 16, 16)\", \"rgb(34, 34, 34)\", \"rgb(33, 33, 33)\", \"rgb(17, 17, 17)\", \"rgb(17, 17, 17)\", \"rgb(16, 16, 16)\", \"rgb(18, 18, 18)\", \"rgb(27, 27, 27)\", \"rgb(33, 33, 33)\", \"rgb(16, 16, 16)\", \"rgb(17, 17, 17)\", \"rgb(33, 33, 33)\", \"rgb(3, 3, 3)\", \"rgb(16, 16, 16)\", \"rgb(14, 14, 14)\", \"rgb(16, 16, 16)\", \"rgb(18, 18, 18)\", \"rgb(17, 17, 17)\", \"rgb(4, 4, 4)\", \"rgb(16, 16, 16)\", \"rgb(34, 34, 34)\", \"rgb(34, 34, 34)\", \"rgb(16, 16, 16)\", \"rgb(27, 27, 27)\", \"rgb(19, 19, 19)\", \"rgb(22, 22, 22)\", \"rgb(25, 25, 25)\", \"rgb(33, 33, 33)\", \"rgb(2, 2, 2)\", \"rgb(33, 33, 33)\", \"rgb(33, 33, 33)\", \"rgb(33, 33, 33)\", \"rgb(3, 3, 3)\", \"rgb(18, 18, 18)\", \"rgb(34, 34, 34)\", \"rgb(27, 27, 27)\", \"rgb(16, 16, 16)\", \"rgb(17, 17, 17)\", \"rgb(12, 12, 12)\", \"rgb(32, 32, 32)\", \"rgb(32, 32, 32)\", \"rgb(14, 14, 14)\", \"rgb(16, 16, 16)\", \"rgb(17, 17, 17)\", \"rgb(34, 34, 34)\", \"rgb(17, 17, 17)\", \"rgb(33, 33, 33)\", \"rgb(8, 8, 8)\", \"rgb(16, 16, 16)\", \"rgb(10, 10, 10)\", \"rgb(16, 16, 16)\", \"rgb(34, 34, 34)\", \"rgb(33, 33, 33)\", \"rgb(5, 5, 5)\", \"rgb(5, 5, 5)\", \"rgb(18, 18, 18)\", \"rgb(32, 32, 32)\", \"rgb(16, 16, 16)\", \"rgb(18, 18, 18)\", \"rgb(16, 16, 16)\", \"rgb(2, 2, 2)\", \"rgb(10, 10, 10)\", \"rgb(21, 21, 21)\", \"rgb(17, 17, 17)\", \"rgb(17, 17, 17)\", \"rgb(13, 13, 13)\", \"rgb(12, 12, 12)\", \"rgb(16, 16, 16)\", \"rgb(34, 34, 34)\", \"rgb(34, 34, 34)\", \"rgb(17, 17, 17)\", \"rgb(16, 16, 16)\", \"rgb(33, 33, 33)\", \"rgb(33, 33, 33)\", \"rgb(33, 33, 33)\", \"rgb(26, 26, 26)\", \"rgb(7, 7, 7)\", \"rgb(5, 5, 5)\", \"rgb(1, 1, 1)\", \"rgb(33, 33, 33)\", \"rgb(17, 17, 17)\", \"rgb(34, 34, 34)\", \"rgb(8, 8, 8)\", \"rgb(30, 30, 30)\", \"rgb(34, 34, 34)\", \"rgb(34, 34, 34)\", \"rgb(33, 33, 33)\", \"rgb(33, 33, 33)\", \"rgb(15, 15, 15)\", \"rgb(16, 16, 16)\", \"rgb(34, 34, 34)\", \"rgb(16, 16, 16)\", \"rgb(21, 21, 21)\", \"rgb(28, 28, 28)\", \"rgb(16, 16, 16)\", \"rgb(27, 27, 27)\", \"rgb(33, 33, 33)\", \"rgb(19, 19, 19)\", \"rgb(8, 8, 8)\", \"rgb(3, 3, 3)\", \"rgb(9, 9, 9)\", \"rgb(16, 16, 16)\", \"rgb(9, 9, 9)\", \"rgb(19, 19, 19)\"], \"size\": [160.0, 26.58128875707738, 20.434079266648695, 18.81639255864114, 17.360474521434348, 17.117821515233217, 15.702345645726611, 15.661903478026423, 15.459692639525478, 15.09571313022378, 14.853060124022647, 14.610407117821516, 14.569964950121326, 14.569964950121326, 14.529522782421138, 14.529522782421138, 14.246427608519816, 14.205985440819628, 14.205985440819628, 14.044216770018874, 13.882448099218118, 13.882448099218118, 13.84200593151793, 13.761121596117551, 13.639795093016986, 13.599352925316797, 13.599352925316797, 13.558910757616609, 13.478026422216232, 13.437584254516041, 13.437584254516041, 13.397142086815855, 13.397142086815855, 13.275815583715287, 13.275815583715287, 13.114046912914532, 13.073604745214343, 12.992720409813966, 12.91183607441359, 12.8713939067134, 12.8713939067134, 12.8713939067134, 12.750067403612833, 12.709625235912645, 12.628740900512266, 12.5074143974117, 12.466972229711512, 12.466972229711512, 12.426530062011324, 12.426530062011324, 12.426530062011324, 12.426530062011324, 12.386087894311135, 12.386087894311135, 12.386087894311135, 12.345645726610947, 12.305203558910758, 12.305203558910758, 12.26476139121057, 12.26476139121057, 12.26476139121057, 12.26476139121057, 12.26476139121057, 12.26476139121057, 12.224319223510381, 12.224319223510381, 12.183877055810191, 12.183877055810191, 12.143434888110002, 12.102992720409814, 12.102992720409814, 12.062550552709626, 12.062550552709626, 12.022108385009437, 12.022108385009437, 12.022108385009437, 12.022108385009437, 12.022108385009437, 11.981666217309247, 11.981666217309247, 11.981666217309247, 11.981666217309247, 11.941224049609058, 11.941224049609058, 11.90078188190887, 11.90078188190887, 11.860339714208681, 11.860339714208681, 11.860339714208681, 11.860339714208681, 11.860339714208681, 11.860339714208681, 11.860339714208681, 11.860339714208681, 11.860339714208681, 11.860339714208681, 11.819897546508493, 11.819897546508493, 11.779455378808304, 11.779455378808304, 11.779455378808304, 11.779455378808304, 11.739013211108116, 11.739013211108116, 11.739013211108116, 11.698571043407927, 11.698571043407927, 11.698571043407927, 11.698571043407927, 11.698571043407927, 11.698571043407927, 11.698571043407927, 11.698571043407927, 11.658128875707739, 11.658128875707739, 11.658128875707739, 11.658128875707739, 11.617686708007549, 11.617686708007549, 11.617686708007549, 11.617686708007549, 11.617686708007549, 11.57724454030736, 11.57724454030736, 11.57724454030736, 11.57724454030736, 11.57724454030736, 11.57724454030736, 11.57724454030736, 11.57724454030736, 11.57724454030736, 11.57724454030736, 11.536802372607172, 11.536802372607172, 11.536802372607172, 11.536802372607172, 11.536802372607172, 11.536802372607172, 11.536802372607172, 11.536802372607172, 11.496360204906983, 11.496360204906983, 11.496360204906983, 11.496360204906983, 11.496360204906983, 11.496360204906983, 11.496360204906983, 11.496360204906983, 11.496360204906983, 11.496360204906983, 11.496360204906983, 11.496360204906983, 11.496360204906983, 11.496360204906983, 11.496360204906983, 11.455918037206795, 11.455918037206795, 11.455918037206795, 11.455918037206795, 11.455918037206795, 11.455918037206795]}, \"type\": \"scatter\", \"x\": [55, 121, 44, 21, 3, 91, 1, 9, 90, 117, 50, 170, 1, 171, 1, 78, 172, 27, 174, 94, 129, 85, 118, 31, 28, 24, 69, 127, 51, 76, 116, 1, 82, 74, 164, 17, 31, 1, 104, 37, 41, 143, 44, 122, 84, 82, 39, 146, 48, 94, 121, 124, 186, 91, 83, 45, 164, 173, 141, 107, 1, 6, 181, 147, 52, 79, 113, 70, 156, 84, 126, 1, 45, 193, 15, 155, 193, 125, 50, 190, 9, 191, 128, 69, 170, 36, 89, 193, 46, 3, 59, 176, 170, 154, 67, 1, 127, 90, 109, 137, 74, 76, 193, 171, 44, 171, 116, 150, 74, 145, 91, 193, 99, 150, 68, 84, 193, 180, 83, 87, 175, 1, 170, 143, 148, 158, 185, 132, 6, 127, 28, 152, 155, 111, 27, 111, 71, 167, 143, 111, 157, 124, 162, 160, 88, 166, 42, 87, 193, 49, 106, 142, 171, 32, 14, 116, 10, 101, 129, 193, 193], \"y\": [65, 62, 278, 3, 114, 282, 269, 204, 218, 251, 203, 13, 51, 306, 73, 16, 105, 134, 190, 1, 373, 93, 2, 82, 338, 2, 117, 276, 374, 159, 192, 3, 340, 212, 30, 81, 302, 225, 384, 194, 135, 125, 232, 86, 129, 204, 309, 13, 128, 37, 159, 296, 277, 324, 276, 358, 368, 92, 314, 34, 340, 194, 83, 327, 191, 2, 6, 165, 162, 177, 74, 305, 253, 149, 17, 220, 378, 120, 251, 209, 246, 176, 165, 95, 380, 277, 329, 302, 94, 367, 51, 265, 327, 52, 129, 377, 89, 222, 277, 214, 392, 99, 269, 192, 313, 293, 138, 123, 375, 192, 207, 10, 160, 76, 48, 4, 60, 95, 249, 275, 175, 264, 135, 351, 164, 75, 89, 10, 264, 60, 89, 309, 122, 299, 187, 28, 2, 76, 102, 59, 97, 277, 98, 1, 306, 298, 171, 252, 315, 213, 9, 392, 235, 185, 33, 250, 197, 59, 211, 342, 119]}],\n",
              "                        {\"plot_bgcolor\": \"#D3DFE2\", \"template\": {\"data\": {\"bar\": [{\"error_x\": {\"color\": \"#2a3f5f\"}, \"error_y\": {\"color\": \"#2a3f5f\"}, \"marker\": {\"line\": {\"color\": \"#E5ECF6\", \"width\": 0.5}}, \"type\": \"bar\"}], \"barpolar\": [{\"marker\": {\"line\": {\"color\": \"#E5ECF6\", \"width\": 0.5}}, \"type\": \"barpolar\"}], \"carpet\": [{\"aaxis\": {\"endlinecolor\": \"#2a3f5f\", \"gridcolor\": \"white\", \"linecolor\": \"white\", \"minorgridcolor\": \"white\", \"startlinecolor\": \"#2a3f5f\"}, \"baxis\": {\"endlinecolor\": \"#2a3f5f\", \"gridcolor\": \"white\", \"linecolor\": \"white\", \"minorgridcolor\": \"white\", \"startlinecolor\": \"#2a3f5f\"}, \"type\": \"carpet\"}], \"choropleth\": [{\"colorbar\": {\"outlinewidth\": 0, \"ticks\": \"\"}, \"type\": \"choropleth\"}], \"contour\": [{\"colorbar\": {\"outlinewidth\": 0, \"ticks\": \"\"}, \"colorscale\": [[0.0, \"#0d0887\"], [0.1111111111111111, \"#46039f\"], [0.2222222222222222, \"#7201a8\"], [0.3333333333333333, \"#9c179e\"], [0.4444444444444444, \"#bd3786\"], [0.5555555555555556, \"#d8576b\"], [0.6666666666666666, \"#ed7953\"], [0.7777777777777778, \"#fb9f3a\"], [0.8888888888888888, \"#fdca26\"], [1.0, \"#f0f921\"]], \"type\": \"contour\"}], \"contourcarpet\": [{\"colorbar\": {\"outlinewidth\": 0, \"ticks\": \"\"}, \"type\": \"contourcarpet\"}], \"heatmap\": [{\"colorbar\": {\"outlinewidth\": 0, \"ticks\": \"\"}, \"colorscale\": [[0.0, \"#0d0887\"], [0.1111111111111111, \"#46039f\"], [0.2222222222222222, \"#7201a8\"], [0.3333333333333333, \"#9c179e\"], [0.4444444444444444, \"#bd3786\"], [0.5555555555555556, \"#d8576b\"], [0.6666666666666666, \"#ed7953\"], [0.7777777777777778, \"#fb9f3a\"], [0.8888888888888888, \"#fdca26\"], [1.0, \"#f0f921\"]], \"type\": \"heatmap\"}], \"heatmapgl\": [{\"colorbar\": {\"outlinewidth\": 0, \"ticks\": \"\"}, \"colorscale\": [[0.0, \"#0d0887\"], [0.1111111111111111, \"#46039f\"], [0.2222222222222222, \"#7201a8\"], [0.3333333333333333, \"#9c179e\"], [0.4444444444444444, \"#bd3786\"], [0.5555555555555556, \"#d8576b\"], [0.6666666666666666, \"#ed7953\"], [0.7777777777777778, \"#fb9f3a\"], [0.8888888888888888, \"#fdca26\"], [1.0, \"#f0f921\"]], \"type\": \"heatmapgl\"}], \"histogram\": [{\"marker\": {\"colorbar\": {\"outlinewidth\": 0, \"ticks\": \"\"}}, \"type\": \"histogram\"}], \"histogram2d\": [{\"colorbar\": {\"outlinewidth\": 0, \"ticks\": \"\"}, \"colorscale\": [[0.0, \"#0d0887\"], [0.1111111111111111, \"#46039f\"], [0.2222222222222222, \"#7201a8\"], [0.3333333333333333, \"#9c179e\"], [0.4444444444444444, \"#bd3786\"], [0.5555555555555556, \"#d8576b\"], [0.6666666666666666, \"#ed7953\"], [0.7777777777777778, \"#fb9f3a\"], [0.8888888888888888, \"#fdca26\"], [1.0, \"#f0f921\"]], \"type\": \"histogram2d\"}], \"histogram2dcontour\": [{\"colorbar\": {\"outlinewidth\": 0, \"ticks\": \"\"}, \"colorscale\": [[0.0, \"#0d0887\"], [0.1111111111111111, \"#46039f\"], [0.2222222222222222, \"#7201a8\"], [0.3333333333333333, \"#9c179e\"], [0.4444444444444444, \"#bd3786\"], [0.5555555555555556, \"#d8576b\"], [0.6666666666666666, \"#ed7953\"], [0.7777777777777778, \"#fb9f3a\"], [0.8888888888888888, \"#fdca26\"], [1.0, \"#f0f921\"]], \"type\": \"histogram2dcontour\"}], \"mesh3d\": [{\"colorbar\": {\"outlinewidth\": 0, \"ticks\": \"\"}, \"type\": \"mesh3d\"}], \"parcoords\": [{\"line\": {\"colorbar\": {\"outlinewidth\": 0, \"ticks\": \"\"}}, \"type\": \"parcoords\"}], \"pie\": [{\"automargin\": true, \"type\": \"pie\"}], \"scatter\": [{\"marker\": {\"colorbar\": {\"outlinewidth\": 0, \"ticks\": \"\"}}, \"type\": \"scatter\"}], \"scatter3d\": [{\"line\": {\"colorbar\": {\"outlinewidth\": 0, \"ticks\": \"\"}}, \"marker\": {\"colorbar\": {\"outlinewidth\": 0, \"ticks\": \"\"}}, \"type\": \"scatter3d\"}], \"scattercarpet\": [{\"marker\": {\"colorbar\": {\"outlinewidth\": 0, \"ticks\": \"\"}}, \"type\": \"scattercarpet\"}], \"scattergeo\": [{\"marker\": {\"colorbar\": {\"outlinewidth\": 0, \"ticks\": \"\"}}, \"type\": \"scattergeo\"}], \"scattergl\": [{\"marker\": {\"colorbar\": {\"outlinewidth\": 0, \"ticks\": \"\"}}, \"type\": \"scattergl\"}], \"scattermapbox\": [{\"marker\": {\"colorbar\": {\"outlinewidth\": 0, \"ticks\": \"\"}}, \"type\": \"scattermapbox\"}], \"scatterpolar\": [{\"marker\": {\"colorbar\": {\"outlinewidth\": 0, \"ticks\": \"\"}}, \"type\": \"scatterpolar\"}], \"scatterpolargl\": [{\"marker\": {\"colorbar\": {\"outlinewidth\": 0, \"ticks\": \"\"}}, \"type\": \"scatterpolargl\"}], \"scatterternary\": [{\"marker\": {\"colorbar\": {\"outlinewidth\": 0, \"ticks\": \"\"}}, \"type\": \"scatterternary\"}], \"surface\": [{\"colorbar\": {\"outlinewidth\": 0, \"ticks\": \"\"}, \"colorscale\": [[0.0, \"#0d0887\"], [0.1111111111111111, \"#46039f\"], [0.2222222222222222, \"#7201a8\"], [0.3333333333333333, \"#9c179e\"], [0.4444444444444444, \"#bd3786\"], [0.5555555555555556, \"#d8576b\"], [0.6666666666666666, \"#ed7953\"], [0.7777777777777778, \"#fb9f3a\"], [0.8888888888888888, \"#fdca26\"], [1.0, \"#f0f921\"]], \"type\": \"surface\"}], \"table\": [{\"cells\": {\"fill\": {\"color\": \"#EBF0F8\"}, \"line\": {\"color\": \"white\"}}, \"header\": {\"fill\": {\"color\": \"#C8D4E3\"}, \"line\": {\"color\": \"white\"}}, \"type\": \"table\"}]}, \"layout\": {\"annotationdefaults\": {\"arrowcolor\": \"#2a3f5f\", \"arrowhead\": 0, \"arrowwidth\": 1}, \"coloraxis\": {\"colorbar\": {\"outlinewidth\": 0, \"ticks\": \"\"}}, \"colorscale\": {\"diverging\": [[0, \"#8e0152\"], [0.1, \"#c51b7d\"], [0.2, \"#de77ae\"], [0.3, \"#f1b6da\"], [0.4, \"#fde0ef\"], [0.5, \"#f7f7f7\"], [0.6, \"#e6f5d0\"], [0.7, \"#b8e186\"], [0.8, \"#7fbc41\"], [0.9, \"#4d9221\"], [1, \"#276419\"]], \"sequential\": [[0.0, \"#0d0887\"], [0.1111111111111111, \"#46039f\"], [0.2222222222222222, \"#7201a8\"], [0.3333333333333333, \"#9c179e\"], [0.4444444444444444, \"#bd3786\"], [0.5555555555555556, \"#d8576b\"], [0.6666666666666666, \"#ed7953\"], [0.7777777777777778, \"#fb9f3a\"], [0.8888888888888888, \"#fdca26\"], [1.0, \"#f0f921\"]], \"sequentialminus\": [[0.0, \"#0d0887\"], [0.1111111111111111, \"#46039f\"], [0.2222222222222222, \"#7201a8\"], [0.3333333333333333, \"#9c179e\"], [0.4444444444444444, \"#bd3786\"], [0.5555555555555556, \"#d8576b\"], [0.6666666666666666, \"#ed7953\"], [0.7777777777777778, \"#fb9f3a\"], [0.8888888888888888, \"#fdca26\"], [1.0, \"#f0f921\"]]}, \"colorway\": [\"#636efa\", \"#EF553B\", \"#00cc96\", \"#ab63fa\", \"#FFA15A\", \"#19d3f3\", \"#FF6692\", \"#B6E880\", \"#FF97FF\", \"#FECB52\"], \"font\": {\"color\": \"#2a3f5f\"}, \"geo\": {\"bgcolor\": \"white\", \"lakecolor\": \"white\", \"landcolor\": \"#E5ECF6\", \"showlakes\": true, \"showland\": true, \"subunitcolor\": \"white\"}, \"hoverlabel\": {\"align\": \"left\"}, \"hovermode\": \"closest\", \"mapbox\": {\"style\": \"light\"}, \"paper_bgcolor\": \"white\", \"plot_bgcolor\": \"#E5ECF6\", \"polar\": {\"angularaxis\": {\"gridcolor\": \"white\", \"linecolor\": \"white\", \"ticks\": \"\"}, \"bgcolor\": \"#E5ECF6\", \"radialaxis\": {\"gridcolor\": \"white\", \"linecolor\": \"white\", \"ticks\": \"\"}}, \"scene\": {\"xaxis\": {\"backgroundcolor\": \"#E5ECF6\", \"gridcolor\": \"white\", \"gridwidth\": 2, \"linecolor\": \"white\", \"showbackground\": true, \"ticks\": \"\", \"zerolinecolor\": \"white\"}, \"yaxis\": {\"backgroundcolor\": \"#E5ECF6\", \"gridcolor\": \"white\", \"gridwidth\": 2, \"linecolor\": \"white\", \"showbackground\": true, \"ticks\": \"\", \"zerolinecolor\": \"white\"}, \"zaxis\": {\"backgroundcolor\": \"#E5ECF6\", \"gridcolor\": \"white\", \"gridwidth\": 2, \"linecolor\": \"white\", \"showbackground\": true, \"ticks\": \"\", \"zerolinecolor\": \"white\"}}, \"shapedefaults\": {\"line\": {\"color\": \"#2a3f5f\"}}, \"ternary\": {\"aaxis\": {\"gridcolor\": \"white\", \"linecolor\": \"white\", \"ticks\": \"\"}, \"baxis\": {\"gridcolor\": \"white\", \"linecolor\": \"white\", \"ticks\": \"\"}, \"bgcolor\": \"#E5ECF6\", \"caxis\": {\"gridcolor\": \"white\", \"linecolor\": \"white\", \"ticks\": \"\"}}, \"title\": {\"x\": 0.05}, \"xaxis\": {\"automargin\": true, \"gridcolor\": \"white\", \"linecolor\": \"white\", \"ticks\": \"\", \"title\": {\"standoff\": 15}, \"zerolinecolor\": \"white\", \"zerolinewidth\": 2}, \"yaxis\": {\"automargin\": true, \"gridcolor\": \"white\", \"linecolor\": \"white\", \"ticks\": \"\", \"title\": {\"standoff\": 15}, \"zerolinecolor\": \"white\", \"zerolinewidth\": 2}}}, \"xaxis\": {\"showgrid\": false, \"showticklabels\": false, \"zeroline\": false}, \"yaxis\": {\"showgrid\": false, \"showticklabels\": false, \"zeroline\": false}},\n",
              "                        {\"responsive\": true}\n",
              "                    ).then(function(){\n",
              "                            \n",
              "var gd = document.getElementById('8e769fcd-fa7c-432d-a8e2-1ed66d5a1627');\n",
              "var x = new MutationObserver(function (mutations, observer) {{\n",
              "        var display = window.getComputedStyle(gd).display;\n",
              "        if (!display || display === 'none') {{\n",
              "            console.log([gd, 'removed!']);\n",
              "            Plotly.purge(gd);\n",
              "            observer.disconnect();\n",
              "        }}\n",
              "}});\n",
              "\n",
              "// Listen for the removal of the full notebook cells\n",
              "var notebookContainer = gd.closest('#notebook-container');\n",
              "if (notebookContainer) {{\n",
              "    x.observe(notebookContainer, {childList: true});\n",
              "}}\n",
              "\n",
              "// Listen for the clearing of the current output cell\n",
              "var outputEl = gd.closest('.output');\n",
              "if (outputEl) {{\n",
              "    x.observe(outputEl, {childList: true});\n",
              "}}\n",
              "\n",
              "                        })\n",
              "                };\n",
              "                \n",
              "            </script>\n",
              "        </div>\n",
              "</body>\n",
              "</html>"
            ]
          },
          "metadata": {
            "tags": []
          }
        }
      ]
    },
    {
      "cell_type": "code",
      "metadata": {
        "id": "myqqX8CZ5Jb_",
        "colab_type": "code",
        "colab": {
          "base_uri": "https://localhost:8080/",
          "height": 542
        },
        "outputId": "483f673d-0bcf-486b-e10d-babd4025b80d"
      },
      "source": [
        "fig_real = plotly_wordcloud(real_text)\n",
        "fig_real.show()"
      ],
      "execution_count": 40,
      "outputs": [
        {
          "output_type": "display_data",
          "data": {
            "text/html": [
              "<html>\n",
              "<head><meta charset=\"utf-8\" /></head>\n",
              "<body>\n",
              "    <div>\n",
              "            <script src=\"https://cdnjs.cloudflare.com/ajax/libs/mathjax/2.7.5/MathJax.js?config=TeX-AMS-MML_SVG\"></script><script type=\"text/javascript\">if (window.MathJax) {MathJax.Hub.Config({SVG: {font: \"STIX-Web\"}});}</script>\n",
              "                <script type=\"text/javascript\">window.PlotlyConfig = {MathJaxConfig: 'local'};</script>\n",
              "        <script src=\"https://cdn.plot.ly/plotly-latest.min.js\"></script>    \n",
              "            <div id=\"fa1c3953-b880-476a-92b7-818af3f2f92a\" class=\"plotly-graph-div\" style=\"height:525px; width:100%;\"></div>\n",
              "            <script type=\"text/javascript\">\n",
              "                \n",
              "                    window.PLOTLYENV=window.PLOTLYENV || {};\n",
              "                    \n",
              "                if (document.getElementById(\"fa1c3953-b880-476a-92b7-818af3f2f92a\")) {\n",
              "                    Plotly.newPlot(\n",
              "                        'fa1c3953-b880-476a-92b7-818af3f2f92a',\n",
              "                        [{\"hoverinfo\": \"text\", \"hovertext\": [\"co1.0\", \"New0.06607310215557638\", \"https co0.06279287722586692\", \"fire0.06091846298031865\", \"\\u00db_ co0.05107778819119025\", \"via0.03420805998125586\", \"storm0.031865042174320526\", \"flood0.02999062792877226\", \"death0.029522024367385193\", \"one0.029522024367385193\", \"car0.028116213683223992\", \"suicide bomber0.028116213683223992\", \"people0.02530459231490159\", \"time0.02436738519212746\", \"US0.02296157450796626\", \"police0.02296157450796626\", \"world0.021087160262417994\", \"day0.021087160262417994\", \"look0.021087160262417994\", \"building0.020618556701030927\", \"RT0.020618556701030927\", \"area0.02014995313964386\", \"\\u00db_0.02014995313964386\", \"today0.02014995313964386\", \"\\u00db\\u00aa0.02014995313964386\", \"near0.019681349578256794\", \"Northern California0.019212746016869727\", \"emergency0.018275538894095594\", \"City0.018275538894095594\", \"two0.01780693533270853\", \"man0.01780693533270853\", \"oil spill0.01780693533270853\", \"back0.016869728209934397\", \"say0.016869728209934397\", \"year0.016869728209934397\", \"burning buildings0.016869728209934397\", \"earthquake0.01640112464854733\", \"suicide bombing0.01640112464854733\", \"California wildfire0.01640112464854733\", \"Hiroshima0.015932521087160263\", \"flooding0.015463917525773196\", \"hit0.015463917525773196\", \"attack0.015463917525773196\", \"damage0.014526710402999063\", \"video0.014526710402999063\", \"terrorist0.014058106841611996\", \"bomber detonated0.014058106841611996\", \"got0.01358950328022493\", \"dead0.01358950328022493\", \"know0.01358950328022493\", \"another0.01358950328022493\", \"weapon0.01358950328022493\", \"Confirmed MH3700.01358950328022493\", \"Homes Razed0.01358950328022493\", \"Update0.013120899718837863\", \"rain0.013120899718837863\", \"see0.013120899718837863\", \"first0.013120899718837863\", \"Road0.013120899718837863\", \"way0.013120899718837863\", \"burning0.013120899718837863\", \"going0.013120899718837863\", \"evacuate0.013120899718837863\", \"year old0.013120899718837863\", \"Severe Thunderstorm0.013120899718837863\", \"mass murder0.013120899718837863\", \"Latest Homes0.013120899718837863\", \"Razed Northern0.013120899718837863\", \"16yr old0.013120899718837863\", \"PKK suicide0.013120899718837863\", \"detonated bomb0.013120899718837863\", \"Please0.012652296157450796\", \"wildfire0.012652296157450796\", \"old PKK0.012652296157450796\", \"wild fire0.012652296157450796\", \"Photo0.01218369259606373\", \"crash0.01218369259606373\", \"go0.01218369259606373\", \"help0.01218369259606373\", \"Watch0.01218369259606373\", \"fatalities0.01218369259606373\", \"debris found0.01218369259606373\", \"MH370 Malaysia0.01218369259606373\", \"Obama Declares0.01218369259606373\", \"Families sue0.01218369259606373\", \"sue Legionnaires0.01218369259606373\", \"families affected0.01218369259606373\", \"affected fatal0.01218369259606373\", \"fatal outbreak0.01218369259606373\", \"outbreak Legionnaire0.01218369259606373\", \"drought0.011715089034676664\", \"collided0.011715089034676664\", \"Atomic Bomb0.011715089034676664\", \"Declares Disaster0.011715089034676664\", \"Disaster Typhoon0.011715089034676664\", \"Typhoon Devastated0.011715089034676664\", \"Devastated Saipan0.011715089034676664\", \"Legionnaires families0.011715089034676664\", \"Wreckage Conclusively0.011715089034676664\", \"Conclusively Confirmed0.011715089034676664\", \"Malaysia PM0.011715089034676664\", \"evacuation0.011246485473289597\", \"due0.011246485473289597\", \"\\u00db\\u00d20.011246485473289597\", \"killed0.011246485473289597\", \"life0.011246485473289597\", \"run0.011246485473289597\", \"rioting0.011246485473289597\", \"Thunderstorm Warning0.011246485473289597\", \"Watch Airport0.011246485473289597\", \"Airport Swallowed0.011246485473289597\", \"Swallowed Sandstorm0.011246485473289597\", \"Sandstorm Minute0.011246485473289597\", \"Minute co0.011246485473289597\", \"California0.01077788191190253\", \"right0.01077788191190253\", \"need0.01077788191190253\", \"India0.01077788191190253\", \"war0.01077788191190253\", \"heat wave0.01077788191190253\", \"atomic bombing0.01077788191190253\", \"Boy Charged0.01077788191190253\", \"South0.010309278350515464\", \"North0.010309278350515464\", \"traffic0.010309278350515464\", \"even0.010309278350515464\", \"hail0.010309278350515464\", \"hundreds migrants0.010309278350515464\"], \"mode\": \"text\", \"text\": [\"co\", \"New\", \"https co\", \"fire\", \"\\u00db_ co\", \"via\", \"storm\", \"flood\", \"death\", \"one\", \"car\", \"suicide bomber\", \"people\", \"time\", \"US\", \"police\", \"world\", \"day\", \"look\", \"building\", \"RT\", \"area\", \"\\u00db_\", \"today\", \"\\u00db\\u00aa\", \"near\", \"Northern California\", \"emergency\", \"City\", \"two\", \"man\", \"oil spill\", \"back\", \"say\", \"year\", \"burning buildings\", \"earthquake\", \"suicide bombing\", \"California wildfire\", \"Hiroshima\", \"flooding\", \"hit\", \"attack\", \"damage\", \"video\", \"terrorist\", \"bomber detonated\", \"got\", \"dead\", \"know\", \"another\", \"weapon\", \"Confirmed MH370\", \"Homes Razed\", \"Update\", \"rain\", \"see\", \"first\", \"Road\", \"way\", \"burning\", \"going\", \"evacuate\", \"year old\", \"Severe Thunderstorm\", \"mass murder\", \"Latest Homes\", \"Razed Northern\", \"16yr old\", \"PKK suicide\", \"detonated bomb\", \"Please\", \"wildfire\", \"old PKK\", \"wild fire\", \"Photo\", \"crash\", \"go\", \"help\", \"Watch\", \"fatalities\", \"debris found\", \"MH370 Malaysia\", \"Obama Declares\", \"Families sue\", \"sue Legionnaires\", \"families affected\", \"affected fatal\", \"fatal outbreak\", \"outbreak Legionnaire\", \"drought\", \"collided\", \"Atomic Bomb\", \"Declares Disaster\", \"Disaster Typhoon\", \"Typhoon Devastated\", \"Devastated Saipan\", \"Legionnaires families\", \"Wreckage Conclusively\", \"Conclusively Confirmed\", \"Malaysia PM\", \"evacuation\", \"due\", \"\\u00db\\u00d2\", \"killed\", \"life\", \"run\", \"rioting\", \"Thunderstorm Warning\", \"Watch Airport\", \"Airport Swallowed\", \"Swallowed Sandstorm\", \"Sandstorm Minute\", \"Minute co\", \"California\", \"right\", \"need\", \"India\", \"war\", \"heat wave\", \"atomic bombing\", \"Boy Charged\", \"South\", \"North\", \"traffic\", \"even\", \"hail\", \"hundreds migrants\"], \"textfont\": {\"color\": [\"rgb(3, 3, 3)\", \"rgb(16, 16, 16)\", \"rgb(34, 34, 34)\", \"rgb(17, 17, 17)\", \"rgb(19, 19, 19)\", \"rgb(34, 34, 34)\", \"rgb(16, 16, 16)\", \"rgb(16, 16, 16)\", \"rgb(16, 16, 16)\", \"rgb(34, 34, 34)\", \"rgb(17, 17, 17)\", \"rgb(34, 34, 34)\", \"rgb(26, 26, 26)\", \"rgb(0, 0, 0)\", \"rgb(17, 17, 17)\", \"rgb(16, 16, 16)\", \"rgb(33, 33, 33)\", \"rgb(16, 16, 16)\", \"rgb(33, 33, 33)\", \"rgb(9, 9, 9)\", \"rgb(10, 10, 10)\", \"rgb(17, 17, 17)\", \"rgb(18, 18, 18)\", \"rgb(33, 33, 33)\", \"rgb(17, 17, 17)\", \"rgb(3, 3, 3)\", \"rgb(17, 17, 17)\", \"rgb(11, 11, 11)\", \"rgb(33, 33, 33)\", \"rgb(24, 24, 24)\", \"rgb(17, 17, 17)\", \"rgb(33, 33, 33)\", \"rgb(18, 18, 18)\", \"rgb(7, 7, 7)\", \"rgb(18, 18, 18)\", \"rgb(17, 17, 17)\", \"rgb(26, 26, 26)\", \"rgb(16, 16, 16)\", \"rgb(32, 32, 32)\", \"rgb(4, 4, 4)\", \"rgb(18, 18, 18)\", \"rgb(21, 21, 21)\", \"rgb(10, 10, 10)\", \"rgb(3, 3, 3)\", \"rgb(27, 27, 27)\", \"rgb(33, 33, 33)\", \"rgb(17, 17, 17)\", \"rgb(6, 6, 6)\", \"rgb(16, 16, 16)\", \"rgb(17, 17, 17)\", \"rgb(34, 34, 34)\", \"rgb(34, 34, 34)\", \"rgb(14, 14, 14)\", \"rgb(32, 32, 32)\", \"rgb(16, 16, 16)\", \"rgb(23, 23, 23)\", \"rgb(16, 16, 16)\", \"rgb(34, 34, 34)\", \"rgb(33, 33, 33)\", \"rgb(25, 25, 25)\", \"rgb(16, 16, 16)\", \"rgb(11, 11, 11)\", \"rgb(16, 16, 16)\", \"rgb(18, 18, 18)\", \"rgb(11, 11, 11)\", \"rgb(16, 16, 16)\", \"rgb(16, 16, 16)\", \"rgb(17, 17, 17)\", \"rgb(3, 3, 3)\", \"rgb(16, 16, 16)\", \"rgb(14, 14, 14)\", \"rgb(16, 16, 16)\", \"rgb(18, 18, 18)\", \"rgb(17, 17, 17)\", \"rgb(4, 4, 4)\", \"rgb(16, 16, 16)\", \"rgb(33, 33, 33)\", \"rgb(16, 16, 16)\", \"rgb(0, 0, 0)\", \"rgb(34, 34, 34)\", \"rgb(8, 8, 8)\", \"rgb(17, 17, 17)\", \"rgb(34, 34, 34)\", \"rgb(34, 34, 34)\", \"rgb(17, 17, 17)\", \"rgb(33, 33, 33)\", \"rgb(10, 10, 10)\", \"rgb(3, 3, 3)\", \"rgb(18, 18, 18)\", \"rgb(34, 34, 34)\", \"rgb(34, 34, 34)\", \"rgb(27, 27, 27)\", \"rgb(16, 16, 16)\", \"rgb(16, 16, 16)\", \"rgb(13, 13, 13)\", \"rgb(27, 27, 27)\", \"rgb(3, 3, 3)\", \"rgb(34, 34, 34)\", \"rgb(34, 34, 34)\", \"rgb(17, 17, 17)\", \"rgb(16, 16, 16)\", \"rgb(16, 16, 16)\", \"rgb(16, 16, 16)\", \"rgb(17, 17, 17)\", \"rgb(16, 16, 16)\", \"rgb(17, 17, 17)\", \"rgb(28, 28, 28)\", \"rgb(20, 20, 20)\", \"rgb(33, 33, 33)\", \"rgb(5, 5, 5)\", \"rgb(18, 18, 18)\", \"rgb(32, 32, 32)\", \"rgb(16, 16, 16)\", \"rgb(18, 18, 18)\", \"rgb(16, 16, 16)\", \"rgb(26, 26, 26)\", \"rgb(29, 29, 29)\", \"rgb(16, 16, 16)\", \"rgb(34, 34, 34)\", \"rgb(9, 9, 9)\", \"rgb(17, 17, 17)\", \"rgb(34, 34, 34)\", \"rgb(21, 21, 21)\", \"rgb(17, 17, 17)\", \"rgb(33, 33, 33)\", \"rgb(17, 17, 17)\", \"rgb(16, 16, 16)\", \"rgb(33, 33, 33)\"], \"size\": [160.0, 19.910965323336455, 19.41893158388004, 19.1377694470478, 17.661668228678536, 15.131208997188379, 14.779756326148078, 14.498594189315838, 14.42830365510778, 14.42830365510778, 14.217432052483598, 14.217432052483598, 13.795688847235239, 13.655107778819119, 13.44423617619494, 13.44423617619494, 13.1630740393627, 13.1630740393627, 13.1630740393627, 13.092783505154639, 13.092783505154639, 13.02249297094658, 13.02249297094658, 13.02249297094658, 13.02249297094658, 12.952202436738519, 12.881911902530458, 12.74133083411434, 12.74133083411434, 12.671040299906279, 12.671040299906279, 12.671040299906279, 12.530459231490159, 12.530459231490159, 12.530459231490159, 12.530459231490159, 12.4601686972821, 12.4601686972821, 12.4601686972821, 12.389878163074039, 12.31958762886598, 12.31958762886598, 12.31958762886598, 12.17900656044986, 12.17900656044986, 12.1087160262418, 12.1087160262418, 12.038425492033738, 12.038425492033738, 12.038425492033738, 12.038425492033738, 12.038425492033738, 12.038425492033738, 12.038425492033738, 11.96813495782568, 11.96813495782568, 11.96813495782568, 11.96813495782568, 11.96813495782568, 11.96813495782568, 11.96813495782568, 11.96813495782568, 11.96813495782568, 11.96813495782568, 11.96813495782568, 11.96813495782568, 11.96813495782568, 11.96813495782568, 11.96813495782568, 11.96813495782568, 11.96813495782568, 11.89784442361762, 11.89784442361762, 11.89784442361762, 11.89784442361762, 11.82755388940956, 11.82755388940956, 11.82755388940956, 11.82755388940956, 11.82755388940956, 11.82755388940956, 11.82755388940956, 11.82755388940956, 11.82755388940956, 11.82755388940956, 11.82755388940956, 11.82755388940956, 11.82755388940956, 11.82755388940956, 11.82755388940956, 11.7572633552015, 11.7572633552015, 11.7572633552015, 11.7572633552015, 11.7572633552015, 11.7572633552015, 11.7572633552015, 11.7572633552015, 11.7572633552015, 11.7572633552015, 11.7572633552015, 11.68697282099344, 11.68697282099344, 11.68697282099344, 11.68697282099344, 11.68697282099344, 11.68697282099344, 11.68697282099344, 11.68697282099344, 11.68697282099344, 11.68697282099344, 11.68697282099344, 11.68697282099344, 11.68697282099344, 11.61668228678538, 11.61668228678538, 11.61668228678538, 11.61668228678538, 11.61668228678538, 11.61668228678538, 11.61668228678538, 11.61668228678538, 11.54639175257732, 11.54639175257732, 11.54639175257732, 11.54639175257732, 11.54639175257732, 11.54639175257732]}, \"type\": \"scatter\", \"x\": [55, 55, 1, 116, 58, 150, 20, 167, 132, 60, 160, 175, 41, 133, 87, 95, 35, 92, 149, 2, 153, 88, 102, 77, 37, 7, 42, 179, 6, 153, 142, 114, 124, 83, 129, 121, 37, 114, 1, 75, 167, 33, 122, 24, 60, 188, 44, 70, 83, 164, 158, 123, 191, 16, 25, 159, 166, 130, 141, 105, 18, 59, 166, 97, 51, 191, 146, 35, 170, 1, 51, 32, 129, 9, 129, 148, 30, 6, 72, 1, 135, 130, 66, 193, 25, 45, 193, 47, 193, 132, 166, 108, 112, 69, 67, 109, 157, 81, 128, 18, 16, 17, 115, 141, 171, 176, 132, 52, 30, 92, 193, 77, 51, 96, 97, 193, 148, 178, 11, 57, 139, 171, 100, 123, 72, 75, 3, 56], \"y\": [65, 213, 155, 263, 268, 267, 44, 63, 27, 14, 1, 190, 309, 128, 46, 318, 242, 2, 336, 75, 171, 94, 201, 290, 155, 13, 8, 5, 362, 139, 5, 9, 52, 162, 370, 103, 175, 322, 270, 92, 159, 30, 6, 367, 316, 7, 211, 328, 28, 110, 70, 196, 55, 76, 285, 187, 367, 188, 186, 300, 3, 369, 213, 107, 8, 126, 389, 308, 354, 223, 261, 369, 153, 281, 1, 193, 142, 390, 159, 163, 326, 259, 355, 343, 6, 217, 251, 166, 170, 45, 48, 57, 312, 105, 290, 265, 101, 90, 213, 393, 42, 367, 70, 125, 234, 172, 287, 137, 1, 291, 213, 21, 269, 166, 269, 313, 16, 156, 57, 129, 367, 192, 172, 385, 393, 8, 7, 203]}],\n",
              "                        {\"plot_bgcolor\": \"#D3DFE2\", \"template\": {\"data\": {\"bar\": [{\"error_x\": {\"color\": \"#2a3f5f\"}, \"error_y\": {\"color\": \"#2a3f5f\"}, \"marker\": {\"line\": {\"color\": \"#E5ECF6\", \"width\": 0.5}}, \"type\": \"bar\"}], \"barpolar\": [{\"marker\": {\"line\": {\"color\": \"#E5ECF6\", \"width\": 0.5}}, \"type\": \"barpolar\"}], \"carpet\": [{\"aaxis\": {\"endlinecolor\": \"#2a3f5f\", \"gridcolor\": \"white\", \"linecolor\": \"white\", \"minorgridcolor\": \"white\", \"startlinecolor\": \"#2a3f5f\"}, \"baxis\": {\"endlinecolor\": \"#2a3f5f\", \"gridcolor\": \"white\", \"linecolor\": \"white\", \"minorgridcolor\": \"white\", \"startlinecolor\": \"#2a3f5f\"}, \"type\": \"carpet\"}], \"choropleth\": [{\"colorbar\": {\"outlinewidth\": 0, \"ticks\": \"\"}, \"type\": \"choropleth\"}], \"contour\": [{\"colorbar\": {\"outlinewidth\": 0, \"ticks\": \"\"}, \"colorscale\": [[0.0, \"#0d0887\"], [0.1111111111111111, \"#46039f\"], [0.2222222222222222, \"#7201a8\"], [0.3333333333333333, \"#9c179e\"], [0.4444444444444444, \"#bd3786\"], [0.5555555555555556, \"#d8576b\"], [0.6666666666666666, \"#ed7953\"], [0.7777777777777778, \"#fb9f3a\"], [0.8888888888888888, \"#fdca26\"], [1.0, \"#f0f921\"]], \"type\": \"contour\"}], \"contourcarpet\": [{\"colorbar\": {\"outlinewidth\": 0, \"ticks\": \"\"}, \"type\": \"contourcarpet\"}], \"heatmap\": [{\"colorbar\": {\"outlinewidth\": 0, \"ticks\": \"\"}, \"colorscale\": [[0.0, \"#0d0887\"], [0.1111111111111111, \"#46039f\"], [0.2222222222222222, \"#7201a8\"], [0.3333333333333333, \"#9c179e\"], [0.4444444444444444, \"#bd3786\"], [0.5555555555555556, \"#d8576b\"], [0.6666666666666666, \"#ed7953\"], [0.7777777777777778, \"#fb9f3a\"], [0.8888888888888888, \"#fdca26\"], [1.0, \"#f0f921\"]], \"type\": \"heatmap\"}], \"heatmapgl\": [{\"colorbar\": {\"outlinewidth\": 0, \"ticks\": \"\"}, \"colorscale\": [[0.0, \"#0d0887\"], [0.1111111111111111, \"#46039f\"], [0.2222222222222222, \"#7201a8\"], [0.3333333333333333, \"#9c179e\"], [0.4444444444444444, \"#bd3786\"], [0.5555555555555556, \"#d8576b\"], [0.6666666666666666, \"#ed7953\"], [0.7777777777777778, \"#fb9f3a\"], [0.8888888888888888, \"#fdca26\"], [1.0, \"#f0f921\"]], \"type\": \"heatmapgl\"}], \"histogram\": [{\"marker\": {\"colorbar\": {\"outlinewidth\": 0, \"ticks\": \"\"}}, \"type\": \"histogram\"}], \"histogram2d\": [{\"colorbar\": {\"outlinewidth\": 0, \"ticks\": \"\"}, \"colorscale\": [[0.0, \"#0d0887\"], [0.1111111111111111, \"#46039f\"], [0.2222222222222222, \"#7201a8\"], [0.3333333333333333, \"#9c179e\"], [0.4444444444444444, \"#bd3786\"], [0.5555555555555556, \"#d8576b\"], [0.6666666666666666, \"#ed7953\"], [0.7777777777777778, \"#fb9f3a\"], [0.8888888888888888, \"#fdca26\"], [1.0, \"#f0f921\"]], \"type\": \"histogram2d\"}], \"histogram2dcontour\": [{\"colorbar\": {\"outlinewidth\": 0, \"ticks\": \"\"}, \"colorscale\": [[0.0, \"#0d0887\"], [0.1111111111111111, \"#46039f\"], [0.2222222222222222, \"#7201a8\"], [0.3333333333333333, \"#9c179e\"], [0.4444444444444444, \"#bd3786\"], [0.5555555555555556, \"#d8576b\"], [0.6666666666666666, \"#ed7953\"], [0.7777777777777778, \"#fb9f3a\"], [0.8888888888888888, \"#fdca26\"], [1.0, \"#f0f921\"]], \"type\": \"histogram2dcontour\"}], \"mesh3d\": [{\"colorbar\": {\"outlinewidth\": 0, \"ticks\": \"\"}, \"type\": \"mesh3d\"}], \"parcoords\": [{\"line\": {\"colorbar\": {\"outlinewidth\": 0, \"ticks\": \"\"}}, \"type\": \"parcoords\"}], \"pie\": [{\"automargin\": true, \"type\": \"pie\"}], \"scatter\": [{\"marker\": {\"colorbar\": {\"outlinewidth\": 0, \"ticks\": \"\"}}, \"type\": \"scatter\"}], \"scatter3d\": [{\"line\": {\"colorbar\": {\"outlinewidth\": 0, \"ticks\": \"\"}}, \"marker\": {\"colorbar\": {\"outlinewidth\": 0, \"ticks\": \"\"}}, \"type\": \"scatter3d\"}], \"scattercarpet\": [{\"marker\": {\"colorbar\": {\"outlinewidth\": 0, \"ticks\": \"\"}}, \"type\": \"scattercarpet\"}], \"scattergeo\": [{\"marker\": {\"colorbar\": {\"outlinewidth\": 0, \"ticks\": \"\"}}, \"type\": \"scattergeo\"}], \"scattergl\": [{\"marker\": {\"colorbar\": {\"outlinewidth\": 0, \"ticks\": \"\"}}, \"type\": \"scattergl\"}], \"scattermapbox\": [{\"marker\": {\"colorbar\": {\"outlinewidth\": 0, \"ticks\": \"\"}}, \"type\": \"scattermapbox\"}], \"scatterpolar\": [{\"marker\": {\"colorbar\": {\"outlinewidth\": 0, \"ticks\": \"\"}}, \"type\": \"scatterpolar\"}], \"scatterpolargl\": [{\"marker\": {\"colorbar\": {\"outlinewidth\": 0, \"ticks\": \"\"}}, \"type\": \"scatterpolargl\"}], \"scatterternary\": [{\"marker\": {\"colorbar\": {\"outlinewidth\": 0, \"ticks\": \"\"}}, \"type\": \"scatterternary\"}], \"surface\": [{\"colorbar\": {\"outlinewidth\": 0, \"ticks\": \"\"}, \"colorscale\": [[0.0, \"#0d0887\"], [0.1111111111111111, \"#46039f\"], [0.2222222222222222, \"#7201a8\"], [0.3333333333333333, \"#9c179e\"], [0.4444444444444444, \"#bd3786\"], [0.5555555555555556, \"#d8576b\"], [0.6666666666666666, \"#ed7953\"], [0.7777777777777778, \"#fb9f3a\"], [0.8888888888888888, \"#fdca26\"], [1.0, \"#f0f921\"]], \"type\": \"surface\"}], \"table\": [{\"cells\": {\"fill\": {\"color\": \"#EBF0F8\"}, \"line\": {\"color\": \"white\"}}, \"header\": {\"fill\": {\"color\": \"#C8D4E3\"}, \"line\": {\"color\": \"white\"}}, \"type\": \"table\"}]}, \"layout\": {\"annotationdefaults\": {\"arrowcolor\": \"#2a3f5f\", \"arrowhead\": 0, \"arrowwidth\": 1}, \"coloraxis\": {\"colorbar\": {\"outlinewidth\": 0, \"ticks\": \"\"}}, \"colorscale\": {\"diverging\": [[0, \"#8e0152\"], [0.1, \"#c51b7d\"], [0.2, \"#de77ae\"], [0.3, \"#f1b6da\"], [0.4, \"#fde0ef\"], [0.5, \"#f7f7f7\"], [0.6, \"#e6f5d0\"], [0.7, \"#b8e186\"], [0.8, \"#7fbc41\"], [0.9, \"#4d9221\"], [1, \"#276419\"]], \"sequential\": [[0.0, \"#0d0887\"], [0.1111111111111111, \"#46039f\"], [0.2222222222222222, \"#7201a8\"], [0.3333333333333333, \"#9c179e\"], [0.4444444444444444, \"#bd3786\"], [0.5555555555555556, \"#d8576b\"], [0.6666666666666666, \"#ed7953\"], [0.7777777777777778, \"#fb9f3a\"], [0.8888888888888888, \"#fdca26\"], [1.0, \"#f0f921\"]], \"sequentialminus\": [[0.0, \"#0d0887\"], [0.1111111111111111, \"#46039f\"], [0.2222222222222222, \"#7201a8\"], [0.3333333333333333, \"#9c179e\"], [0.4444444444444444, \"#bd3786\"], [0.5555555555555556, \"#d8576b\"], [0.6666666666666666, \"#ed7953\"], [0.7777777777777778, \"#fb9f3a\"], [0.8888888888888888, \"#fdca26\"], [1.0, \"#f0f921\"]]}, \"colorway\": [\"#636efa\", \"#EF553B\", \"#00cc96\", \"#ab63fa\", \"#FFA15A\", \"#19d3f3\", \"#FF6692\", \"#B6E880\", \"#FF97FF\", \"#FECB52\"], \"font\": {\"color\": \"#2a3f5f\"}, \"geo\": {\"bgcolor\": \"white\", \"lakecolor\": \"white\", \"landcolor\": \"#E5ECF6\", \"showlakes\": true, \"showland\": true, \"subunitcolor\": \"white\"}, \"hoverlabel\": {\"align\": \"left\"}, \"hovermode\": \"closest\", \"mapbox\": {\"style\": \"light\"}, \"paper_bgcolor\": \"white\", \"plot_bgcolor\": \"#E5ECF6\", \"polar\": {\"angularaxis\": {\"gridcolor\": \"white\", \"linecolor\": \"white\", \"ticks\": \"\"}, \"bgcolor\": \"#E5ECF6\", \"radialaxis\": {\"gridcolor\": \"white\", \"linecolor\": \"white\", \"ticks\": \"\"}}, \"scene\": {\"xaxis\": {\"backgroundcolor\": \"#E5ECF6\", \"gridcolor\": \"white\", \"gridwidth\": 2, \"linecolor\": \"white\", \"showbackground\": true, \"ticks\": \"\", \"zerolinecolor\": \"white\"}, \"yaxis\": {\"backgroundcolor\": \"#E5ECF6\", \"gridcolor\": \"white\", \"gridwidth\": 2, \"linecolor\": \"white\", \"showbackground\": true, \"ticks\": \"\", \"zerolinecolor\": \"white\"}, \"zaxis\": {\"backgroundcolor\": \"#E5ECF6\", \"gridcolor\": \"white\", \"gridwidth\": 2, \"linecolor\": \"white\", \"showbackground\": true, \"ticks\": \"\", \"zerolinecolor\": \"white\"}}, \"shapedefaults\": {\"line\": {\"color\": \"#2a3f5f\"}}, \"ternary\": {\"aaxis\": {\"gridcolor\": \"white\", \"linecolor\": \"white\", \"ticks\": \"\"}, \"baxis\": {\"gridcolor\": \"white\", \"linecolor\": \"white\", \"ticks\": \"\"}, \"bgcolor\": \"#E5ECF6\", \"caxis\": {\"gridcolor\": \"white\", \"linecolor\": \"white\", \"ticks\": \"\"}}, \"title\": {\"x\": 0.05}, \"xaxis\": {\"automargin\": true, \"gridcolor\": \"white\", \"linecolor\": \"white\", \"ticks\": \"\", \"title\": {\"standoff\": 15}, \"zerolinecolor\": \"white\", \"zerolinewidth\": 2}, \"yaxis\": {\"automargin\": true, \"gridcolor\": \"white\", \"linecolor\": \"white\", \"ticks\": \"\", \"title\": {\"standoff\": 15}, \"zerolinecolor\": \"white\", \"zerolinewidth\": 2}}}, \"xaxis\": {\"showgrid\": false, \"showticklabels\": false, \"zeroline\": false}, \"yaxis\": {\"showgrid\": false, \"showticklabels\": false, \"zeroline\": false}},\n",
              "                        {\"responsive\": true}\n",
              "                    ).then(function(){\n",
              "                            \n",
              "var gd = document.getElementById('fa1c3953-b880-476a-92b7-818af3f2f92a');\n",
              "var x = new MutationObserver(function (mutations, observer) {{\n",
              "        var display = window.getComputedStyle(gd).display;\n",
              "        if (!display || display === 'none') {{\n",
              "            console.log([gd, 'removed!']);\n",
              "            Plotly.purge(gd);\n",
              "            observer.disconnect();\n",
              "        }}\n",
              "}});\n",
              "\n",
              "// Listen for the removal of the full notebook cells\n",
              "var notebookContainer = gd.closest('#notebook-container');\n",
              "if (notebookContainer) {{\n",
              "    x.observe(notebookContainer, {childList: true});\n",
              "}}\n",
              "\n",
              "// Listen for the clearing of the current output cell\n",
              "var outputEl = gd.closest('.output');\n",
              "if (outputEl) {{\n",
              "    x.observe(outputEl, {childList: true});\n",
              "}}\n",
              "\n",
              "                        })\n",
              "                };\n",
              "                \n",
              "            </script>\n",
              "        </div>\n",
              "</body>\n",
              "</html>"
            ]
          },
          "metadata": {
            "tags": []
          }
        }
      ]
    },
    {
      "cell_type": "code",
      "metadata": {
        "id": "8RhHwy0W5JZV",
        "colab_type": "code",
        "colab": {
          "base_uri": "https://localhost:8080/",
          "height": 542
        },
        "outputId": "76a2548f-1f12-4cb3-80ee-fd1490c6c810"
      },
      "source": [
        "fig_nreal = plotly_wordcloud(real_text)\n",
        "fig_nreal.show()"
      ],
      "execution_count": 41,
      "outputs": [
        {
          "output_type": "display_data",
          "data": {
            "text/html": [
              "<html>\n",
              "<head><meta charset=\"utf-8\" /></head>\n",
              "<body>\n",
              "    <div>\n",
              "            <script src=\"https://cdnjs.cloudflare.com/ajax/libs/mathjax/2.7.5/MathJax.js?config=TeX-AMS-MML_SVG\"></script><script type=\"text/javascript\">if (window.MathJax) {MathJax.Hub.Config({SVG: {font: \"STIX-Web\"}});}</script>\n",
              "                <script type=\"text/javascript\">window.PlotlyConfig = {MathJaxConfig: 'local'};</script>\n",
              "        <script src=\"https://cdn.plot.ly/plotly-latest.min.js\"></script>    \n",
              "            <div id=\"4b5a1482-f6cb-42c6-bc0b-067760147052\" class=\"plotly-graph-div\" style=\"height:525px; width:100%;\"></div>\n",
              "            <script type=\"text/javascript\">\n",
              "                \n",
              "                    window.PLOTLYENV=window.PLOTLYENV || {};\n",
              "                    \n",
              "                if (document.getElementById(\"4b5a1482-f6cb-42c6-bc0b-067760147052\")) {\n",
              "                    Plotly.newPlot(\n",
              "                        '4b5a1482-f6cb-42c6-bc0b-067760147052',\n",
              "                        [{\"hoverinfo\": \"text\", \"hovertext\": [\"co1.0\", \"New0.06607310215557638\", \"https co0.06279287722586692\", \"fire0.06091846298031865\", \"\\u00db_ co0.05107778819119025\", \"via0.03420805998125586\", \"storm0.031865042174320526\", \"flood0.02999062792877226\", \"death0.029522024367385193\", \"one0.029522024367385193\", \"car0.028116213683223992\", \"suicide bomber0.028116213683223992\", \"people0.02530459231490159\", \"time0.02436738519212746\", \"US0.02296157450796626\", \"police0.02296157450796626\", \"world0.021087160262417994\", \"day0.021087160262417994\", \"look0.021087160262417994\", \"building0.020618556701030927\", \"RT0.020618556701030927\", \"area0.02014995313964386\", \"\\u00db_0.02014995313964386\", \"today0.02014995313964386\", \"\\u00db\\u00aa0.02014995313964386\", \"near0.019681349578256794\", \"Northern California0.019212746016869727\", \"emergency0.018275538894095594\", \"City0.018275538894095594\", \"two0.01780693533270853\", \"man0.01780693533270853\", \"oil spill0.01780693533270853\", \"back0.016869728209934397\", \"say0.016869728209934397\", \"year0.016869728209934397\", \"burning buildings0.016869728209934397\", \"earthquake0.01640112464854733\", \"suicide bombing0.01640112464854733\", \"California wildfire0.01640112464854733\", \"Hiroshima0.015932521087160263\", \"flooding0.015463917525773196\", \"hit0.015463917525773196\", \"attack0.015463917525773196\", \"damage0.014526710402999063\", \"video0.014526710402999063\", \"terrorist0.014058106841611996\", \"bomber detonated0.014058106841611996\", \"got0.01358950328022493\", \"dead0.01358950328022493\", \"know0.01358950328022493\", \"another0.01358950328022493\", \"weapon0.01358950328022493\", \"Confirmed MH3700.01358950328022493\", \"Homes Razed0.01358950328022493\", \"Update0.013120899718837863\", \"rain0.013120899718837863\", \"see0.013120899718837863\", \"first0.013120899718837863\", \"Road0.013120899718837863\", \"way0.013120899718837863\", \"burning0.013120899718837863\", \"going0.013120899718837863\", \"evacuate0.013120899718837863\", \"year old0.013120899718837863\", \"Severe Thunderstorm0.013120899718837863\", \"mass murder0.013120899718837863\", \"Latest Homes0.013120899718837863\", \"Razed Northern0.013120899718837863\", \"16yr old0.013120899718837863\", \"PKK suicide0.013120899718837863\", \"detonated bomb0.013120899718837863\", \"Please0.012652296157450796\", \"wildfire0.012652296157450796\", \"old PKK0.012652296157450796\", \"wild fire0.012652296157450796\", \"Photo0.01218369259606373\", \"crash0.01218369259606373\", \"go0.01218369259606373\", \"help0.01218369259606373\", \"Watch0.01218369259606373\", \"fatalities0.01218369259606373\", \"debris found0.01218369259606373\", \"MH370 Malaysia0.01218369259606373\", \"Obama Declares0.01218369259606373\", \"Families sue0.01218369259606373\", \"sue Legionnaires0.01218369259606373\", \"families affected0.01218369259606373\", \"affected fatal0.01218369259606373\", \"fatal outbreak0.01218369259606373\", \"outbreak Legionnaire0.01218369259606373\", \"drought0.011715089034676664\", \"collided0.011715089034676664\", \"Atomic Bomb0.011715089034676664\", \"Declares Disaster0.011715089034676664\", \"Disaster Typhoon0.011715089034676664\", \"Typhoon Devastated0.011715089034676664\", \"Devastated Saipan0.011715089034676664\", \"Legionnaires families0.011715089034676664\", \"Wreckage Conclusively0.011715089034676664\", \"Conclusively Confirmed0.011715089034676664\", \"Malaysia PM0.011715089034676664\", \"evacuation0.011246485473289597\", \"due0.011246485473289597\", \"\\u00db\\u00d20.011246485473289597\", \"killed0.011246485473289597\", \"life0.011246485473289597\", \"run0.011246485473289597\", \"rioting0.011246485473289597\", \"Thunderstorm Warning0.011246485473289597\", \"Watch Airport0.011246485473289597\", \"Airport Swallowed0.011246485473289597\", \"Swallowed Sandstorm0.011246485473289597\", \"Sandstorm Minute0.011246485473289597\", \"Minute co0.011246485473289597\", \"California0.01077788191190253\", \"right0.01077788191190253\", \"need0.01077788191190253\", \"India0.01077788191190253\", \"war0.01077788191190253\", \"heat wave0.01077788191190253\", \"atomic bombing0.01077788191190253\", \"Boy Charged0.01077788191190253\", \"South0.010309278350515464\", \"North0.010309278350515464\", \"traffic0.010309278350515464\", \"even0.010309278350515464\", \"hail0.010309278350515464\", \"hundreds migrants0.010309278350515464\"], \"mode\": \"text\", \"text\": [\"co\", \"New\", \"https co\", \"fire\", \"\\u00db_ co\", \"via\", \"storm\", \"flood\", \"death\", \"one\", \"car\", \"suicide bomber\", \"people\", \"time\", \"US\", \"police\", \"world\", \"day\", \"look\", \"building\", \"RT\", \"area\", \"\\u00db_\", \"today\", \"\\u00db\\u00aa\", \"near\", \"Northern California\", \"emergency\", \"City\", \"two\", \"man\", \"oil spill\", \"back\", \"say\", \"year\", \"burning buildings\", \"earthquake\", \"suicide bombing\", \"California wildfire\", \"Hiroshima\", \"flooding\", \"hit\", \"attack\", \"damage\", \"video\", \"terrorist\", \"bomber detonated\", \"got\", \"dead\", \"know\", \"another\", \"weapon\", \"Confirmed MH370\", \"Homes Razed\", \"Update\", \"rain\", \"see\", \"first\", \"Road\", \"way\", \"burning\", \"going\", \"evacuate\", \"year old\", \"Severe Thunderstorm\", \"mass murder\", \"Latest Homes\", \"Razed Northern\", \"16yr old\", \"PKK suicide\", \"detonated bomb\", \"Please\", \"wildfire\", \"old PKK\", \"wild fire\", \"Photo\", \"crash\", \"go\", \"help\", \"Watch\", \"fatalities\", \"debris found\", \"MH370 Malaysia\", \"Obama Declares\", \"Families sue\", \"sue Legionnaires\", \"families affected\", \"affected fatal\", \"fatal outbreak\", \"outbreak Legionnaire\", \"drought\", \"collided\", \"Atomic Bomb\", \"Declares Disaster\", \"Disaster Typhoon\", \"Typhoon Devastated\", \"Devastated Saipan\", \"Legionnaires families\", \"Wreckage Conclusively\", \"Conclusively Confirmed\", \"Malaysia PM\", \"evacuation\", \"due\", \"\\u00db\\u00d2\", \"killed\", \"life\", \"run\", \"rioting\", \"Thunderstorm Warning\", \"Watch Airport\", \"Airport Swallowed\", \"Swallowed Sandstorm\", \"Sandstorm Minute\", \"Minute co\", \"California\", \"right\", \"need\", \"India\", \"war\", \"heat wave\", \"atomic bombing\", \"Boy Charged\", \"South\", \"North\", \"traffic\", \"even\", \"hail\", \"hundreds migrants\"], \"textfont\": {\"color\": [\"rgb(3, 3, 3)\", \"rgb(16, 16, 16)\", \"rgb(34, 34, 34)\", \"rgb(17, 17, 17)\", \"rgb(19, 19, 19)\", \"rgb(34, 34, 34)\", \"rgb(16, 16, 16)\", \"rgb(16, 16, 16)\", \"rgb(16, 16, 16)\", \"rgb(34, 34, 34)\", \"rgb(17, 17, 17)\", \"rgb(34, 34, 34)\", \"rgb(26, 26, 26)\", \"rgb(0, 0, 0)\", \"rgb(17, 17, 17)\", \"rgb(16, 16, 16)\", \"rgb(33, 33, 33)\", \"rgb(16, 16, 16)\", \"rgb(33, 33, 33)\", \"rgb(9, 9, 9)\", \"rgb(10, 10, 10)\", \"rgb(17, 17, 17)\", \"rgb(18, 18, 18)\", \"rgb(33, 33, 33)\", \"rgb(17, 17, 17)\", \"rgb(3, 3, 3)\", \"rgb(17, 17, 17)\", \"rgb(11, 11, 11)\", \"rgb(33, 33, 33)\", \"rgb(24, 24, 24)\", \"rgb(17, 17, 17)\", \"rgb(33, 33, 33)\", \"rgb(18, 18, 18)\", \"rgb(7, 7, 7)\", \"rgb(18, 18, 18)\", \"rgb(17, 17, 17)\", \"rgb(26, 26, 26)\", \"rgb(16, 16, 16)\", \"rgb(32, 32, 32)\", \"rgb(4, 4, 4)\", \"rgb(18, 18, 18)\", \"rgb(21, 21, 21)\", \"rgb(10, 10, 10)\", \"rgb(3, 3, 3)\", \"rgb(27, 27, 27)\", \"rgb(33, 33, 33)\", \"rgb(17, 17, 17)\", \"rgb(6, 6, 6)\", \"rgb(16, 16, 16)\", \"rgb(17, 17, 17)\", \"rgb(34, 34, 34)\", \"rgb(34, 34, 34)\", \"rgb(14, 14, 14)\", \"rgb(32, 32, 32)\", \"rgb(16, 16, 16)\", \"rgb(23, 23, 23)\", \"rgb(16, 16, 16)\", \"rgb(34, 34, 34)\", \"rgb(33, 33, 33)\", \"rgb(25, 25, 25)\", \"rgb(16, 16, 16)\", \"rgb(11, 11, 11)\", \"rgb(16, 16, 16)\", \"rgb(18, 18, 18)\", \"rgb(11, 11, 11)\", \"rgb(16, 16, 16)\", \"rgb(16, 16, 16)\", \"rgb(17, 17, 17)\", \"rgb(3, 3, 3)\", \"rgb(16, 16, 16)\", \"rgb(14, 14, 14)\", \"rgb(16, 16, 16)\", \"rgb(18, 18, 18)\", \"rgb(17, 17, 17)\", \"rgb(4, 4, 4)\", \"rgb(16, 16, 16)\", \"rgb(33, 33, 33)\", \"rgb(16, 16, 16)\", \"rgb(0, 0, 0)\", \"rgb(34, 34, 34)\", \"rgb(8, 8, 8)\", \"rgb(17, 17, 17)\", \"rgb(34, 34, 34)\", \"rgb(34, 34, 34)\", \"rgb(17, 17, 17)\", \"rgb(33, 33, 33)\", \"rgb(10, 10, 10)\", \"rgb(3, 3, 3)\", \"rgb(18, 18, 18)\", \"rgb(34, 34, 34)\", \"rgb(34, 34, 34)\", \"rgb(27, 27, 27)\", \"rgb(16, 16, 16)\", \"rgb(16, 16, 16)\", \"rgb(13, 13, 13)\", \"rgb(27, 27, 27)\", \"rgb(3, 3, 3)\", \"rgb(34, 34, 34)\", \"rgb(34, 34, 34)\", \"rgb(17, 17, 17)\", \"rgb(16, 16, 16)\", \"rgb(16, 16, 16)\", \"rgb(16, 16, 16)\", \"rgb(17, 17, 17)\", \"rgb(16, 16, 16)\", \"rgb(17, 17, 17)\", \"rgb(28, 28, 28)\", \"rgb(20, 20, 20)\", \"rgb(33, 33, 33)\", \"rgb(5, 5, 5)\", \"rgb(18, 18, 18)\", \"rgb(32, 32, 32)\", \"rgb(16, 16, 16)\", \"rgb(18, 18, 18)\", \"rgb(16, 16, 16)\", \"rgb(26, 26, 26)\", \"rgb(29, 29, 29)\", \"rgb(16, 16, 16)\", \"rgb(34, 34, 34)\", \"rgb(9, 9, 9)\", \"rgb(17, 17, 17)\", \"rgb(34, 34, 34)\", \"rgb(21, 21, 21)\", \"rgb(17, 17, 17)\", \"rgb(33, 33, 33)\", \"rgb(17, 17, 17)\", \"rgb(16, 16, 16)\", \"rgb(33, 33, 33)\"], \"size\": [160.0, 19.910965323336455, 19.41893158388004, 19.1377694470478, 17.661668228678536, 15.131208997188379, 14.779756326148078, 14.498594189315838, 14.42830365510778, 14.42830365510778, 14.217432052483598, 14.217432052483598, 13.795688847235239, 13.655107778819119, 13.44423617619494, 13.44423617619494, 13.1630740393627, 13.1630740393627, 13.1630740393627, 13.092783505154639, 13.092783505154639, 13.02249297094658, 13.02249297094658, 13.02249297094658, 13.02249297094658, 12.952202436738519, 12.881911902530458, 12.74133083411434, 12.74133083411434, 12.671040299906279, 12.671040299906279, 12.671040299906279, 12.530459231490159, 12.530459231490159, 12.530459231490159, 12.530459231490159, 12.4601686972821, 12.4601686972821, 12.4601686972821, 12.389878163074039, 12.31958762886598, 12.31958762886598, 12.31958762886598, 12.17900656044986, 12.17900656044986, 12.1087160262418, 12.1087160262418, 12.038425492033738, 12.038425492033738, 12.038425492033738, 12.038425492033738, 12.038425492033738, 12.038425492033738, 12.038425492033738, 11.96813495782568, 11.96813495782568, 11.96813495782568, 11.96813495782568, 11.96813495782568, 11.96813495782568, 11.96813495782568, 11.96813495782568, 11.96813495782568, 11.96813495782568, 11.96813495782568, 11.96813495782568, 11.96813495782568, 11.96813495782568, 11.96813495782568, 11.96813495782568, 11.96813495782568, 11.89784442361762, 11.89784442361762, 11.89784442361762, 11.89784442361762, 11.82755388940956, 11.82755388940956, 11.82755388940956, 11.82755388940956, 11.82755388940956, 11.82755388940956, 11.82755388940956, 11.82755388940956, 11.82755388940956, 11.82755388940956, 11.82755388940956, 11.82755388940956, 11.82755388940956, 11.82755388940956, 11.82755388940956, 11.7572633552015, 11.7572633552015, 11.7572633552015, 11.7572633552015, 11.7572633552015, 11.7572633552015, 11.7572633552015, 11.7572633552015, 11.7572633552015, 11.7572633552015, 11.7572633552015, 11.68697282099344, 11.68697282099344, 11.68697282099344, 11.68697282099344, 11.68697282099344, 11.68697282099344, 11.68697282099344, 11.68697282099344, 11.68697282099344, 11.68697282099344, 11.68697282099344, 11.68697282099344, 11.68697282099344, 11.61668228678538, 11.61668228678538, 11.61668228678538, 11.61668228678538, 11.61668228678538, 11.61668228678538, 11.61668228678538, 11.61668228678538, 11.54639175257732, 11.54639175257732, 11.54639175257732, 11.54639175257732, 11.54639175257732, 11.54639175257732]}, \"type\": \"scatter\", \"x\": [55, 55, 1, 116, 58, 150, 20, 167, 132, 60, 160, 175, 41, 133, 87, 95, 35, 92, 149, 2, 153, 88, 102, 77, 37, 7, 42, 179, 6, 153, 142, 114, 124, 83, 129, 121, 37, 114, 1, 75, 167, 33, 122, 24, 60, 188, 44, 70, 83, 164, 158, 123, 191, 16, 25, 159, 166, 130, 141, 105, 18, 59, 166, 97, 51, 191, 146, 35, 170, 1, 51, 32, 129, 9, 129, 148, 30, 6, 72, 1, 135, 130, 66, 193, 25, 45, 193, 47, 193, 132, 166, 108, 112, 69, 67, 109, 157, 81, 128, 18, 16, 17, 115, 141, 171, 176, 132, 52, 30, 92, 193, 77, 51, 96, 97, 193, 148, 178, 11, 57, 139, 171, 100, 123, 72, 75, 3, 56], \"y\": [65, 213, 155, 263, 268, 267, 44, 63, 27, 14, 1, 190, 309, 128, 46, 318, 242, 2, 336, 75, 171, 94, 201, 290, 155, 13, 8, 5, 362, 139, 5, 9, 52, 162, 370, 103, 175, 322, 270, 92, 159, 30, 6, 367, 316, 7, 211, 328, 28, 110, 70, 196, 55, 76, 285, 187, 367, 188, 186, 300, 3, 369, 213, 107, 8, 126, 389, 308, 354, 223, 261, 369, 153, 281, 1, 193, 142, 390, 159, 163, 326, 259, 355, 343, 6, 217, 251, 166, 170, 45, 48, 57, 312, 105, 290, 265, 101, 90, 213, 393, 42, 367, 70, 125, 234, 172, 287, 137, 1, 291, 213, 21, 269, 166, 269, 313, 16, 156, 57, 129, 367, 192, 172, 385, 393, 8, 7, 203]}],\n",
              "                        {\"plot_bgcolor\": \"#D3DFE2\", \"template\": {\"data\": {\"bar\": [{\"error_x\": {\"color\": \"#2a3f5f\"}, \"error_y\": {\"color\": \"#2a3f5f\"}, \"marker\": {\"line\": {\"color\": \"#E5ECF6\", \"width\": 0.5}}, \"type\": \"bar\"}], \"barpolar\": [{\"marker\": {\"line\": {\"color\": \"#E5ECF6\", \"width\": 0.5}}, \"type\": \"barpolar\"}], \"carpet\": [{\"aaxis\": {\"endlinecolor\": \"#2a3f5f\", \"gridcolor\": \"white\", \"linecolor\": \"white\", \"minorgridcolor\": \"white\", \"startlinecolor\": \"#2a3f5f\"}, \"baxis\": {\"endlinecolor\": \"#2a3f5f\", \"gridcolor\": \"white\", \"linecolor\": \"white\", \"minorgridcolor\": \"white\", \"startlinecolor\": \"#2a3f5f\"}, \"type\": \"carpet\"}], \"choropleth\": [{\"colorbar\": {\"outlinewidth\": 0, \"ticks\": \"\"}, \"type\": \"choropleth\"}], \"contour\": [{\"colorbar\": {\"outlinewidth\": 0, \"ticks\": \"\"}, \"colorscale\": [[0.0, \"#0d0887\"], [0.1111111111111111, \"#46039f\"], [0.2222222222222222, \"#7201a8\"], [0.3333333333333333, \"#9c179e\"], [0.4444444444444444, \"#bd3786\"], [0.5555555555555556, \"#d8576b\"], [0.6666666666666666, \"#ed7953\"], [0.7777777777777778, \"#fb9f3a\"], [0.8888888888888888, \"#fdca26\"], [1.0, \"#f0f921\"]], \"type\": \"contour\"}], \"contourcarpet\": [{\"colorbar\": {\"outlinewidth\": 0, \"ticks\": \"\"}, \"type\": \"contourcarpet\"}], \"heatmap\": [{\"colorbar\": {\"outlinewidth\": 0, \"ticks\": \"\"}, \"colorscale\": [[0.0, \"#0d0887\"], [0.1111111111111111, \"#46039f\"], [0.2222222222222222, \"#7201a8\"], [0.3333333333333333, \"#9c179e\"], [0.4444444444444444, \"#bd3786\"], [0.5555555555555556, \"#d8576b\"], [0.6666666666666666, \"#ed7953\"], [0.7777777777777778, \"#fb9f3a\"], [0.8888888888888888, \"#fdca26\"], [1.0, \"#f0f921\"]], \"type\": \"heatmap\"}], \"heatmapgl\": [{\"colorbar\": {\"outlinewidth\": 0, \"ticks\": \"\"}, \"colorscale\": [[0.0, \"#0d0887\"], [0.1111111111111111, \"#46039f\"], [0.2222222222222222, \"#7201a8\"], [0.3333333333333333, \"#9c179e\"], [0.4444444444444444, \"#bd3786\"], [0.5555555555555556, \"#d8576b\"], [0.6666666666666666, \"#ed7953\"], [0.7777777777777778, \"#fb9f3a\"], [0.8888888888888888, \"#fdca26\"], [1.0, \"#f0f921\"]], \"type\": \"heatmapgl\"}], \"histogram\": [{\"marker\": {\"colorbar\": {\"outlinewidth\": 0, \"ticks\": \"\"}}, \"type\": \"histogram\"}], \"histogram2d\": [{\"colorbar\": {\"outlinewidth\": 0, \"ticks\": \"\"}, \"colorscale\": [[0.0, \"#0d0887\"], [0.1111111111111111, \"#46039f\"], [0.2222222222222222, \"#7201a8\"], [0.3333333333333333, \"#9c179e\"], [0.4444444444444444, \"#bd3786\"], [0.5555555555555556, \"#d8576b\"], [0.6666666666666666, \"#ed7953\"], [0.7777777777777778, \"#fb9f3a\"], [0.8888888888888888, \"#fdca26\"], [1.0, \"#f0f921\"]], \"type\": \"histogram2d\"}], \"histogram2dcontour\": [{\"colorbar\": {\"outlinewidth\": 0, \"ticks\": \"\"}, \"colorscale\": [[0.0, \"#0d0887\"], [0.1111111111111111, \"#46039f\"], [0.2222222222222222, \"#7201a8\"], [0.3333333333333333, \"#9c179e\"], [0.4444444444444444, \"#bd3786\"], [0.5555555555555556, \"#d8576b\"], [0.6666666666666666, \"#ed7953\"], [0.7777777777777778, \"#fb9f3a\"], [0.8888888888888888, \"#fdca26\"], [1.0, \"#f0f921\"]], \"type\": \"histogram2dcontour\"}], \"mesh3d\": [{\"colorbar\": {\"outlinewidth\": 0, \"ticks\": \"\"}, \"type\": \"mesh3d\"}], \"parcoords\": [{\"line\": {\"colorbar\": {\"outlinewidth\": 0, \"ticks\": \"\"}}, \"type\": \"parcoords\"}], \"pie\": [{\"automargin\": true, \"type\": \"pie\"}], \"scatter\": [{\"marker\": {\"colorbar\": {\"outlinewidth\": 0, \"ticks\": \"\"}}, \"type\": \"scatter\"}], \"scatter3d\": [{\"line\": {\"colorbar\": {\"outlinewidth\": 0, \"ticks\": \"\"}}, \"marker\": {\"colorbar\": {\"outlinewidth\": 0, \"ticks\": \"\"}}, \"type\": \"scatter3d\"}], \"scattercarpet\": [{\"marker\": {\"colorbar\": {\"outlinewidth\": 0, \"ticks\": \"\"}}, \"type\": \"scattercarpet\"}], \"scattergeo\": [{\"marker\": {\"colorbar\": {\"outlinewidth\": 0, \"ticks\": \"\"}}, \"type\": \"scattergeo\"}], \"scattergl\": [{\"marker\": {\"colorbar\": {\"outlinewidth\": 0, \"ticks\": \"\"}}, \"type\": \"scattergl\"}], \"scattermapbox\": [{\"marker\": {\"colorbar\": {\"outlinewidth\": 0, \"ticks\": \"\"}}, \"type\": \"scattermapbox\"}], \"scatterpolar\": [{\"marker\": {\"colorbar\": {\"outlinewidth\": 0, \"ticks\": \"\"}}, \"type\": \"scatterpolar\"}], \"scatterpolargl\": [{\"marker\": {\"colorbar\": {\"outlinewidth\": 0, \"ticks\": \"\"}}, \"type\": \"scatterpolargl\"}], \"scatterternary\": [{\"marker\": {\"colorbar\": {\"outlinewidth\": 0, \"ticks\": \"\"}}, \"type\": \"scatterternary\"}], \"surface\": [{\"colorbar\": {\"outlinewidth\": 0, \"ticks\": \"\"}, \"colorscale\": [[0.0, \"#0d0887\"], [0.1111111111111111, \"#46039f\"], [0.2222222222222222, \"#7201a8\"], [0.3333333333333333, \"#9c179e\"], [0.4444444444444444, \"#bd3786\"], [0.5555555555555556, \"#d8576b\"], [0.6666666666666666, \"#ed7953\"], [0.7777777777777778, \"#fb9f3a\"], [0.8888888888888888, \"#fdca26\"], [1.0, \"#f0f921\"]], \"type\": \"surface\"}], \"table\": [{\"cells\": {\"fill\": {\"color\": \"#EBF0F8\"}, \"line\": {\"color\": \"white\"}}, \"header\": {\"fill\": {\"color\": \"#C8D4E3\"}, \"line\": {\"color\": \"white\"}}, \"type\": \"table\"}]}, \"layout\": {\"annotationdefaults\": {\"arrowcolor\": \"#2a3f5f\", \"arrowhead\": 0, \"arrowwidth\": 1}, \"coloraxis\": {\"colorbar\": {\"outlinewidth\": 0, \"ticks\": \"\"}}, \"colorscale\": {\"diverging\": [[0, \"#8e0152\"], [0.1, \"#c51b7d\"], [0.2, \"#de77ae\"], [0.3, \"#f1b6da\"], [0.4, \"#fde0ef\"], [0.5, \"#f7f7f7\"], [0.6, \"#e6f5d0\"], [0.7, \"#b8e186\"], [0.8, \"#7fbc41\"], [0.9, \"#4d9221\"], [1, \"#276419\"]], \"sequential\": [[0.0, \"#0d0887\"], [0.1111111111111111, \"#46039f\"], [0.2222222222222222, \"#7201a8\"], [0.3333333333333333, \"#9c179e\"], [0.4444444444444444, \"#bd3786\"], [0.5555555555555556, \"#d8576b\"], [0.6666666666666666, \"#ed7953\"], [0.7777777777777778, \"#fb9f3a\"], [0.8888888888888888, \"#fdca26\"], [1.0, \"#f0f921\"]], \"sequentialminus\": [[0.0, \"#0d0887\"], [0.1111111111111111, \"#46039f\"], [0.2222222222222222, \"#7201a8\"], [0.3333333333333333, \"#9c179e\"], [0.4444444444444444, \"#bd3786\"], [0.5555555555555556, \"#d8576b\"], [0.6666666666666666, \"#ed7953\"], [0.7777777777777778, \"#fb9f3a\"], [0.8888888888888888, \"#fdca26\"], [1.0, \"#f0f921\"]]}, \"colorway\": [\"#636efa\", \"#EF553B\", \"#00cc96\", \"#ab63fa\", \"#FFA15A\", \"#19d3f3\", \"#FF6692\", \"#B6E880\", \"#FF97FF\", \"#FECB52\"], \"font\": {\"color\": \"#2a3f5f\"}, \"geo\": {\"bgcolor\": \"white\", \"lakecolor\": \"white\", \"landcolor\": \"#E5ECF6\", \"showlakes\": true, \"showland\": true, \"subunitcolor\": \"white\"}, \"hoverlabel\": {\"align\": \"left\"}, \"hovermode\": \"closest\", \"mapbox\": {\"style\": \"light\"}, \"paper_bgcolor\": \"white\", \"plot_bgcolor\": \"#E5ECF6\", \"polar\": {\"angularaxis\": {\"gridcolor\": \"white\", \"linecolor\": \"white\", \"ticks\": \"\"}, \"bgcolor\": \"#E5ECF6\", \"radialaxis\": {\"gridcolor\": \"white\", \"linecolor\": \"white\", \"ticks\": \"\"}}, \"scene\": {\"xaxis\": {\"backgroundcolor\": \"#E5ECF6\", \"gridcolor\": \"white\", \"gridwidth\": 2, \"linecolor\": \"white\", \"showbackground\": true, \"ticks\": \"\", \"zerolinecolor\": \"white\"}, \"yaxis\": {\"backgroundcolor\": \"#E5ECF6\", \"gridcolor\": \"white\", \"gridwidth\": 2, \"linecolor\": \"white\", \"showbackground\": true, \"ticks\": \"\", \"zerolinecolor\": \"white\"}, \"zaxis\": {\"backgroundcolor\": \"#E5ECF6\", \"gridcolor\": \"white\", \"gridwidth\": 2, \"linecolor\": \"white\", \"showbackground\": true, \"ticks\": \"\", \"zerolinecolor\": \"white\"}}, \"shapedefaults\": {\"line\": {\"color\": \"#2a3f5f\"}}, \"ternary\": {\"aaxis\": {\"gridcolor\": \"white\", \"linecolor\": \"white\", \"ticks\": \"\"}, \"baxis\": {\"gridcolor\": \"white\", \"linecolor\": \"white\", \"ticks\": \"\"}, \"bgcolor\": \"#E5ECF6\", \"caxis\": {\"gridcolor\": \"white\", \"linecolor\": \"white\", \"ticks\": \"\"}}, \"title\": {\"x\": 0.05}, \"xaxis\": {\"automargin\": true, \"gridcolor\": \"white\", \"linecolor\": \"white\", \"ticks\": \"\", \"title\": {\"standoff\": 15}, \"zerolinecolor\": \"white\", \"zerolinewidth\": 2}, \"yaxis\": {\"automargin\": true, \"gridcolor\": \"white\", \"linecolor\": \"white\", \"ticks\": \"\", \"title\": {\"standoff\": 15}, \"zerolinecolor\": \"white\", \"zerolinewidth\": 2}}}, \"xaxis\": {\"showgrid\": false, \"showticklabels\": false, \"zeroline\": false}, \"yaxis\": {\"showgrid\": false, \"showticklabels\": false, \"zeroline\": false}},\n",
              "                        {\"responsive\": true}\n",
              "                    ).then(function(){\n",
              "                            \n",
              "var gd = document.getElementById('4b5a1482-f6cb-42c6-bc0b-067760147052');\n",
              "var x = new MutationObserver(function (mutations, observer) {{\n",
              "        var display = window.getComputedStyle(gd).display;\n",
              "        if (!display || display === 'none') {{\n",
              "            console.log([gd, 'removed!']);\n",
              "            Plotly.purge(gd);\n",
              "            observer.disconnect();\n",
              "        }}\n",
              "}});\n",
              "\n",
              "// Listen for the removal of the full notebook cells\n",
              "var notebookContainer = gd.closest('#notebook-container');\n",
              "if (notebookContainer) {{\n",
              "    x.observe(notebookContainer, {childList: true});\n",
              "}}\n",
              "\n",
              "// Listen for the clearing of the current output cell\n",
              "var outputEl = gd.closest('.output');\n",
              "if (outputEl) {{\n",
              "    x.observe(outputEl, {childList: true});\n",
              "}}\n",
              "\n",
              "                        })\n",
              "                };\n",
              "                \n",
              "            </script>\n",
              "        </div>\n",
              "</body>\n",
              "</html>"
            ]
          },
          "metadata": {
            "tags": []
          }
        }
      ]
    },
    {
      "cell_type": "markdown",
      "metadata": {
        "id": "YMv99434Jrs1",
        "colab_type": "text"
      },
      "source": [
        "\"CO\" is from twitter's short url \"t.co\", we can do additional data cleaning to remove those meaningless words"
      ]
    },
    {
      "cell_type": "code",
      "metadata": {
        "id": "vjchNQbC5JWb",
        "colab_type": "code",
        "colab": {}
      },
      "source": [
        ""
      ],
      "execution_count": 0,
      "outputs": []
    },
    {
      "cell_type": "markdown",
      "metadata": {
        "id": "z7a0fFVzESQ5",
        "colab_type": "text"
      },
      "source": [
        "## Basic Tweets Classification by Using Bert with Fastai "
      ]
    },
    {
      "cell_type": "code",
      "metadata": {
        "id": "cdxGqKHtER8-",
        "colab_type": "code",
        "colab": {}
      },
      "source": [
        "%%capture\n",
        "!pip install transformers"
      ],
      "execution_count": 0,
      "outputs": []
    },
    {
      "cell_type": "code",
      "metadata": {
        "id": "UZQCQATaER5q",
        "colab_type": "code",
        "colab": {
          "base_uri": "https://localhost:8080/",
          "height": 62
        },
        "outputId": "17d34116-3d14-462d-9aa0-4065466709aa"
      },
      "source": [
        "from transformers import BertTokenizer,BertForSequenceClassification"
      ],
      "execution_count": 20,
      "outputs": [
        {
          "output_type": "display_data",
          "data": {
            "text/html": [
              "<p style=\"color: red;\">\n",
              "The default version of TensorFlow in Colab will soon switch to TensorFlow 2.x.<br>\n",
              "We recommend you <a href=\"https://www.tensorflow.org/guide/migrate\" target=\"_blank\">upgrade</a> now \n",
              "or ensure your notebook will continue to use TensorFlow 1.x via the <code>%tensorflow_version 1.x</code> magic:\n",
              "<a href=\"https://colab.research.google.com/notebooks/tensorflow_version.ipynb\" target=\"_blank\">more info</a>.</p>\n"
            ],
            "text/plain": [
              "<IPython.core.display.HTML object>"
            ]
          },
          "metadata": {
            "tags": []
          }
        }
      ]
    },
    {
      "cell_type": "code",
      "metadata": {
        "id": "2l6mu3T2ER2Y",
        "colab_type": "code",
        "colab": {}
      },
      "source": [
        "class easy_classification(BertForSequenceClassification):\n",
        "  def forward(self, *args, **kwargs):\n",
        "    return super().forward(*args, **kwargs)[0]"
      ],
      "execution_count": 0,
      "outputs": []
    },
    {
      "cell_type": "code",
      "metadata": {
        "id": "gHyJfQipExEr",
        "colab_type": "code",
        "colab": {
          "base_uri": "https://localhost:8080/",
          "height": 114,
          "referenced_widgets": [
            "35b716a20129456e98955c2175ccc653",
            "9d89fec868094f11bbf1e13a860b0e60",
            "9f05259d9b4c4d0d8b5fed1e654061cd",
            "ee5521e848844907816770de3edaa065",
            "b45da18ae3cf4f11b5501f342fd92aa5",
            "ba051355b2f04122b1fdee61163608f2",
            "d7619fee89e84b7bbdbdbd24b5704a9f",
            "cdf9c95f65ac4ee5af456c5a91be3835",
            "03ebf880f7104bd8b3886662ebde4f0e",
            "2bdcc665b71d48cda447960bd0ff276a",
            "1a6ef420c5254005bc2664ac60439859",
            "5337af22e5884103828e377c05b12272",
            "17d2b64375dc419fa34e376519f67a7a",
            "fd2e7771fb9e45a2a9ed00186649884f",
            "3cb06035210b4b40840ee62b10542310",
            "c043b4df1f524be299832d785bd4ca0a"
          ]
        },
        "outputId": "5c9d0015-6bcd-49b8-b61f-8e5832a30226"
      },
      "source": [
        "bert_model = easy_classification.from_pretrained('bert-base-uncased',num_labels=2)"
      ],
      "execution_count": 22,
      "outputs": [
        {
          "output_type": "display_data",
          "data": {
            "application/vnd.jupyter.widget-view+json": {
              "model_id": "35b716a20129456e98955c2175ccc653",
              "version_minor": 0,
              "version_major": 2
            },
            "text/plain": [
              "HBox(children=(IntProgress(value=0, description='Downloading', max=361, style=ProgressStyle(description_width=…"
            ]
          },
          "metadata": {
            "tags": []
          }
        },
        {
          "output_type": "stream",
          "text": [
            "\n"
          ],
          "name": "stdout"
        },
        {
          "output_type": "display_data",
          "data": {
            "application/vnd.jupyter.widget-view+json": {
              "model_id": "03ebf880f7104bd8b3886662ebde4f0e",
              "version_minor": 0,
              "version_major": 2
            },
            "text/plain": [
              "HBox(children=(IntProgress(value=0, description='Downloading', max=440473133, style=ProgressStyle(description_…"
            ]
          },
          "metadata": {
            "tags": []
          }
        },
        {
          "output_type": "stream",
          "text": [
            "\n"
          ],
          "name": "stdout"
        }
      ]
    },
    {
      "cell_type": "code",
      "metadata": {
        "id": "btcmrbOFGEd_",
        "colab_type": "code",
        "colab": {
          "base_uri": "https://localhost:8080/",
          "height": 65,
          "referenced_widgets": [
            "5717db39284143fa82653070f28343bc",
            "29df8cf2018646e285a53ed793b078eb",
            "8196aeebdc4241459073ca93a3cdaec0",
            "da01fe93e35c4e04844f7d8210c1e2f5",
            "add1941a365b492893ca6adf43006bb5",
            "1fca879fca7e49ad830c831d99fad132",
            "5f69f6575eb64744bada3ad4d70fb453",
            "7f75f20233f44dc3becdbe3f948d8925"
          ]
        },
        "outputId": "d6cc0084-e22c-45c9-fa00-ce44a146d79b"
      },
      "source": [
        "bert_tok = BertTokenizer.from_pretrained(\n",
        "   'bert-base-uncased'\n",
        ")"
      ],
      "execution_count": 23,
      "outputs": [
        {
          "output_type": "display_data",
          "data": {
            "application/vnd.jupyter.widget-view+json": {
              "model_id": "5717db39284143fa82653070f28343bc",
              "version_minor": 0,
              "version_major": 2
            },
            "text/plain": [
              "HBox(children=(IntProgress(value=0, description='Downloading', max=231508, style=ProgressStyle(description_wid…"
            ]
          },
          "metadata": {
            "tags": []
          }
        },
        {
          "output_type": "stream",
          "text": [
            "\n"
          ],
          "name": "stdout"
        }
      ]
    },
    {
      "cell_type": "code",
      "metadata": {
        "id": "8QrOx79OExBf",
        "colab_type": "code",
        "colab": {
          "base_uri": "https://localhost:8080/",
          "height": 217
        },
        "outputId": "c39e8bde-686a-45a0-e19d-79bd5cb8b7e3"
      },
      "source": [
        "bert_tok.tokenize(train.text.iloc[3])"
      ],
      "execution_count": 24,
      "outputs": [
        {
          "output_type": "execute_result",
          "data": {
            "text/plain": [
              "['13',\n",
              " ',',\n",
              " '000',\n",
              " 'people',\n",
              " 'receive',\n",
              " '#',\n",
              " 'wild',\n",
              " '##fires',\n",
              " 'evacuation',\n",
              " 'orders',\n",
              " 'in',\n",
              " 'california']"
            ]
          },
          "metadata": {
            "tags": []
          },
          "execution_count": 24
        }
      ]
    },
    {
      "cell_type": "code",
      "metadata": {
        "id": "QeGTAF3AGPO4",
        "colab_type": "code",
        "colab": {}
      },
      "source": [
        "class FastAiBertTokenizer(BaseTokenizer):\n",
        "    \"\"\"Wrapper around BertTokenizer to be compatible with fast.ai\"\"\"\n",
        "    def __init__(self, tokenizer: BertTokenizer, max_seq_len: int=128, **kwargs):\n",
        "        self._pretrained_tokenizer = tokenizer\n",
        "        self.max_seq_len = max_seq_len\n",
        "\n",
        "    def __call__(self, *args, **kwargs):\n",
        "        return self\n",
        "\n",
        "    def tokenizer(self, t:str) -> List[str]:\n",
        "        \"\"\"Limits the maximum sequence length\"\"\"\n",
        "        return [\"[CLS]\"] + self._pretrained_tokenizer.tokenize(t)[:self.max_seq_len - 2] + [\"[SEP]\"]"
      ],
      "execution_count": 0,
      "outputs": []
    },
    {
      "cell_type": "code",
      "metadata": {
        "id": "2f2JKbJEGPMK",
        "colab_type": "code",
        "colab": {}
      },
      "source": [
        "#\n",
        "fastai_tokenizer = Tokenizer(\n",
        "    tok_func=FastAiBertTokenizer(bert_tok, max_seq_len=128), \n",
        "    pre_rules=[], \n",
        "    post_rules=[]\n",
        ")"
      ],
      "execution_count": 0,
      "outputs": []
    },
    {
      "cell_type": "code",
      "metadata": {
        "id": "YwqqemB7GPJY",
        "colab_type": "code",
        "colab": {
          "base_uri": "https://localhost:8080/",
          "height": 184
        },
        "outputId": "8b9a0eef-57d1-4830-bffd-0ad7073f873b"
      },
      "source": [
        "list(bert_tok.vocab.items())[3100:3110]"
      ],
      "execution_count": 27,
      "outputs": [
        {
          "output_type": "execute_result",
          "data": {
            "text/plain": [
              "[('okay', 3100),\n",
              " ('medal', 3101),\n",
              " ('kill', 3102),\n",
              " ('sun', 3103),\n",
              " ('cover', 3104),\n",
              " ('job', 3105),\n",
              " ('1985', 3106),\n",
              " ('introduced', 3107),\n",
              " ('chest', 3108),\n",
              " ('hell', 3109)]"
            ]
          },
          "metadata": {
            "tags": []
          },
          "execution_count": 27
        }
      ]
    },
    {
      "cell_type": "code",
      "metadata": {
        "id": "PLUhFJX1HpP7",
        "colab_type": "code",
        "colab": {}
      },
      "source": [
        "fastai_bert_vocab = Vocab(list(bert_tok.vocab.keys()))"
      ],
      "execution_count": 0,
      "outputs": []
    },
    {
      "cell_type": "code",
      "metadata": {
        "id": "PCpxI9gtHsSS",
        "colab_type": "code",
        "colab": {}
      },
      "source": [
        "np.random.seed(0)\n",
        "msk = np.random.rand(len(train)) < 0.7\n",
        "train_data = train[msk]\n",
        "valid_data = train[~msk]\n",
        "\n",
        "# Using k-fold validation may improve the model generalizability"
      ],
      "execution_count": 0,
      "outputs": []
    },
    {
      "cell_type": "code",
      "metadata": {
        "id": "F0kFTTg5HsHm",
        "colab_type": "code",
        "colab": {
          "base_uri": "https://localhost:8080/",
          "height": 67
        },
        "outputId": "2ff829b7-1684-4429-b22f-629f90976fcf"
      },
      "source": [
        "train_data.target.value_counts() #check the distribution of targets"
      ],
      "execution_count": 30,
      "outputs": [
        {
          "output_type": "execute_result",
          "data": {
            "text/plain": [
              "0    3074\n",
              "1    2288\n",
              "Name: target, dtype: int64"
            ]
          },
          "metadata": {
            "tags": []
          },
          "execution_count": 30
        }
      ]
    },
    {
      "cell_type": "code",
      "metadata": {
        "id": "Eb23nAR7H7Cd",
        "colab_type": "code",
        "colab": {
          "base_uri": "https://localhost:8080/",
          "height": 67
        },
        "outputId": "7687d498-56eb-44f2-bf97-90820e558e0d"
      },
      "source": [
        "valid_data.target.value_counts()"
      ],
      "execution_count": 31,
      "outputs": [
        {
          "output_type": "execute_result",
          "data": {
            "text/plain": [
              "0    1268\n",
              "1     983\n",
              "Name: target, dtype: int64"
            ]
          },
          "metadata": {
            "tags": []
          },
          "execution_count": 31
        }
      ]
    },
    {
      "cell_type": "code",
      "metadata": {
        "id": "LS0PUlMxIt4I",
        "colab_type": "code",
        "colab": {
          "base_uri": "https://localhost:8080/",
          "height": 17
        },
        "outputId": "f6f2b07d-3bd1-4e72-e3d7-d5259ab3f92e"
      },
      "source": [
        "text_cols = ['text']\n",
        "label_cols = ['target']\n",
        "\n",
        "databunch = TextClasDataBunch.from_df(\".\", train_data, valid_data, test,\n",
        "                  tokenizer=fastai_tokenizer,\n",
        "                  vocab=fastai_bert_vocab,\n",
        "                  include_bos=False,\n",
        "                  include_eos=False,\n",
        "                  text_cols= text_cols,\n",
        "                  label_cols= label_cols,\n",
        "                  bs=32,\n",
        "                  collate_fn=partial(pad_collate, pad_first=False, pad_idx=0),\n",
        "             )"
      ],
      "execution_count": 32,
      "outputs": [
        {
          "output_type": "display_data",
          "data": {
            "text/html": [
              ""
            ],
            "text/plain": [
              "<IPython.core.display.HTML object>"
            ]
          },
          "metadata": {
            "tags": []
          }
        },
        {
          "output_type": "display_data",
          "data": {
            "text/html": [
              ""
            ],
            "text/plain": [
              "<IPython.core.display.HTML object>"
            ]
          },
          "metadata": {
            "tags": []
          }
        },
        {
          "output_type": "display_data",
          "data": {
            "text/html": [
              ""
            ],
            "text/plain": [
              "<IPython.core.display.HTML object>"
            ]
          },
          "metadata": {
            "tags": []
          }
        }
      ]
    },
    {
      "cell_type": "code",
      "metadata": {
        "id": "-cBL7ilkIt2a",
        "colab_type": "code",
        "colab": {
          "base_uri": "https://localhost:8080/",
          "height": 496
        },
        "outputId": "c8f4f8da-6c17-40d1-e9cc-29f24f880589"
      },
      "source": [
        "databunch.show_batch(10)"
      ],
      "execution_count": 33,
      "outputs": [
        {
          "output_type": "display_data",
          "data": {
            "text/html": [
              "<table border=\"1\" class=\"dataframe\">\n",
              "  <thead>\n",
              "    <tr style=\"text-align: right;\">\n",
              "      <th>text</th>\n",
              "      <th>target</th>\n",
              "    </tr>\n",
              "  </thead>\n",
              "  <tbody>\n",
              "    <tr>\n",
              "      <td>[CLS] _ ? ? ? ? ? re ##t ##wee ##t ? ? ? ? ? ? ? ? ? ? ? ? follow all who rt ? ? ? ? ? ? ? ? ? ? ? ? follow ##back ? ? ? ? ? ? ? ? ? ? ? ? gain with ? ? ? ? ? ? ? ? ? ? ? ? follow ? @</td>\n",
              "      <td>0</td>\n",
              "    </tr>\n",
              "    <tr>\n",
              "      <td>[CLS] . : . : . : . : . : . : . : . : . : . : . : . : . : . : . : . : . : . : . : . : . : rt dr ##ay ##esh ##a ##4 : # india ##ko ##mun ##tor ##ja ##wa ##b ##do indian army ki ##u _ http : / / t .</td>\n",
              "      <td>0</td>\n",
              "    </tr>\n",
              "    <tr>\n",
              "      <td>[CLS] 320 [ ir ] ice ##mo ##on [ after ##sho ##ck ] | http : / / t . co / y ##nx ##n ##v ##v ##k ##cd ##a | @ dj ##ice ##mo ##on | # dub ##ste ##p # trap ##music # d ##nb # ed ##m # dance # ice ##su _ http : / / t . co / we ##q ##pes ##en ##ku [SEP]</td>\n",
              "      <td>0</td>\n",
              "    </tr>\n",
              "    <tr>\n",
              "      <td>[CLS] phones offers &amp; gt ; &amp; gt ; http : / / t . co / by ##t ##b ##z ##8 ##s ##5 ##ux # 03 ##4 8 - pin lightning connector 2 . 1a car charge ##r for apple 5 5 ##s 5 ##c 6 6 + ip ##u _ http : / / t . co / o ##3 ##w ##vs ##cl ##ic ##x [SEP]</td>\n",
              "      <td>0</td>\n",
              "    </tr>\n",
              "    <tr>\n",
              "      <td>[CLS] # earthquake # sis ##mo m 1 . 9 - 15 ##km e of anchorage alaska : time ##20 ##15 - 08 - 06 00 : 11 : 16 utc ##20 ##15 - 08 - 05 16 : 11 : 16 - 08 : 00 . . . http : / / t . co / z ##0 ##ver ##1 ##h ##v ##m ##9 [SEP]</td>\n",
              "      <td>1</td>\n",
              "    </tr>\n",
              "    <tr>\n",
              "      <td>[CLS] # nevada ' s u ##÷ ##ex ##ception ##al ##u ##ª # drought steady at ~ 11 % ; ~ 95 % of # n ##v in drought : http : / / t . co / ny ##o ##1 ##x ##ue ##bf ##a @ drought ##go ##v http : / / t . co / w ##0 ##a1 ##m ##jo ##rh ##y [SEP]</td>\n",
              "      <td>1</td>\n",
              "    </tr>\n",
              "    <tr>\n",
              "      <td>[CLS] @ ca ##go ##v if 90 ##bl ##ks &amp; amp ; 8 ##w ##ht ##s col ##lu ##ded 2 take w ##ht f @ usa ##go ##v au ##th hostage &amp; amp ; 2 make her look b ##lk w / bio ##ter ##ror ##ism &amp; amp ; use her l ##gl / org id ##is id still hers ? @ vp [SEP]</td>\n",
              "      <td>1</td>\n",
              "    </tr>\n",
              "    <tr>\n",
              "      <td>[CLS] ( official vi ##d ) &amp; gt ; # double ##cup ##s &amp; gt ; &amp; gt ; https : / / t . co / l ##fk ##mt ##za ##ek ##k &amp; gt ; &amp; gt ; @ tr ##ub ##gm ##e pro ##d @ this ##iz ##b ##wright &amp; gt ; &amp; gt ; # arm ##aged ##don . [SEP]</td>\n",
              "      <td>0</td>\n",
              "    </tr>\n",
              "    <tr>\n",
              "      <td>[CLS] this is my jam : rise ##r by die ##rks bentley @ 106 ##1 ##the ##t ##wi ##ster ? # i ##heart ##rad ##io # now ##play ##ing http : / / t . co / z ##q ##os ##c ##q ##d ##64 ##h http : / / t . co / y ##l ##v ##v ##f ##13 ##9 ##bb [SEP]</td>\n",
              "      <td>0</td>\n",
              "    </tr>\n",
              "    <tr>\n",
              "      <td>[CLS] the best thing at dq is the cotton candy blizzard ? ? ? ? ? ? ? ? ? ? ? ? ? ? ? ? ? ? ? ? ? ? ? ? ? ? ? ? ? ? ? ? ? ? ? ? ? ? ? ? ? ? ? ? ? ? ? ? ? ? [SEP]</td>\n",
              "      <td>0</td>\n",
              "    </tr>\n",
              "  </tbody>\n",
              "</table>"
            ],
            "text/plain": [
              "<IPython.core.display.HTML object>"
            ]
          },
          "metadata": {
            "tags": []
          }
        }
      ]
    },
    {
      "cell_type": "code",
      "metadata": {
        "id": "riyFQ9mjItyQ",
        "colab_type": "code",
        "colab": {}
      },
      "source": [
        "loss_func = nn.CrossEntropyLoss()"
      ],
      "execution_count": 0,
      "outputs": []
    },
    {
      "cell_type": "code",
      "metadata": {
        "id": "6rlwfj2yKNgd",
        "colab_type": "code",
        "colab": {}
      },
      "source": [
        "learn = Learner( \n",
        "    databunch, \n",
        "    bert_model,\n",
        "    loss_func=loss_func,\n",
        "    metrics=[accuracy]\n",
        ")"
      ],
      "execution_count": 0,
      "outputs": []
    },
    {
      "cell_type": "code",
      "metadata": {
        "id": "RPr7Y8BLKNd_",
        "colab_type": "code",
        "colab": {
          "base_uri": "https://localhost:8080/",
          "height": 110
        },
        "outputId": "51e406c1-f8fa-48f7-f5cf-24cc27f355f1"
      },
      "source": [
        "learn.lr_find()"
      ],
      "execution_count": 36,
      "outputs": [
        {
          "output_type": "display_data",
          "data": {
            "text/html": [
              "\n",
              "    <div>\n",
              "        <style>\n",
              "            /* Turns off some styling */\n",
              "            progress {\n",
              "                /* gets rid of default border in Firefox and Opera. */\n",
              "                border: none;\n",
              "                /* Needs to be in here for Safari polyfill so background images work as expected. */\n",
              "                background-size: auto;\n",
              "            }\n",
              "            .progress-bar-interrupted, .progress-bar-interrupted::-webkit-progress-bar {\n",
              "                background: #F44336;\n",
              "            }\n",
              "        </style>\n",
              "      <progress value='0' class='' max='1', style='width:300px; height:20px; vertical-align: middle;'></progress>\n",
              "      0.00% [0/1 00:00<00:00]\n",
              "    </div>\n",
              "    \n",
              "<table border=\"1\" class=\"dataframe\">\n",
              "  <thead>\n",
              "    <tr style=\"text-align: left;\">\n",
              "      <th>epoch</th>\n",
              "      <th>train_loss</th>\n",
              "      <th>valid_loss</th>\n",
              "      <th>accuracy</th>\n",
              "      <th>time</th>\n",
              "    </tr>\n",
              "  </thead>\n",
              "  <tbody>\n",
              "  </tbody>\n",
              "</table><p>\n",
              "\n",
              "    <div>\n",
              "        <style>\n",
              "            /* Turns off some styling */\n",
              "            progress {\n",
              "                /* gets rid of default border in Firefox and Opera. */\n",
              "                border: none;\n",
              "                /* Needs to be in here for Safari polyfill so background images work as expected. */\n",
              "                background-size: auto;\n",
              "            }\n",
              "            .progress-bar-interrupted, .progress-bar-interrupted::-webkit-progress-bar {\n",
              "                background: #F44336;\n",
              "            }\n",
              "        </style>\n",
              "      <progress value='79' class='' max='167', style='width:300px; height:20px; vertical-align: middle;'></progress>\n",
              "      47.31% [79/167 00:12<00:13 2.0618]\n",
              "    </div>\n",
              "    "
            ],
            "text/plain": [
              "<IPython.core.display.HTML object>"
            ]
          },
          "metadata": {
            "tags": []
          }
        },
        {
          "output_type": "stream",
          "text": [
            "LR Finder is complete, type {learner_name}.recorder.plot() to see the graph.\n"
          ],
          "name": "stdout"
        }
      ]
    },
    {
      "cell_type": "code",
      "metadata": {
        "id": "OUAVevQIKWV9",
        "colab_type": "code",
        "colab": {
          "base_uri": "https://localhost:8080/",
          "height": 313
        },
        "outputId": "198786ba-9857-4087-c5d6-162947d03fc7"
      },
      "source": [
        "learn.recorder.plot(skip_end=8,suggestion=True)"
      ],
      "execution_count": 41,
      "outputs": [
        {
          "output_type": "stream",
          "text": [
            "Min numerical gradient: 3.98E-04\n",
            "Min loss divided by 10: 5.75E-05\n"
          ],
          "name": "stdout"
        },
        {
          "output_type": "display_data",
          "data": {
            "image/png": "[encoded data removed]",
            "text/plain": [
              "<Figure size 432x288 with 1 Axes>"
            ]
          },
          "metadata": {
            "tags": []
          }
        }
      ]
    },
    {
      "cell_type": "code",
      "metadata": {
        "id": "zq113ZSAKWR3",
        "colab_type": "code",
        "colab": {
          "base_uri": "https://localhost:8080/",
          "height": 137
        },
        "outputId": "1156e959-05aa-45e7-b5d0-10baf31e577a"
      },
      "source": [
        "learn.fit_one_cycle(3, max_lr=1e-5)"
      ],
      "execution_count": 42,
      "outputs": [
        {
          "output_type": "display_data",
          "data": {
            "text/html": [
              "<table border=\"1\" class=\"dataframe\">\n",
              "  <thead>\n",
              "    <tr style=\"text-align: left;\">\n",
              "      <th>epoch</th>\n",
              "      <th>train_loss</th>\n",
              "      <th>valid_loss</th>\n",
              "      <th>accuracy</th>\n",
              "      <th>time</th>\n",
              "    </tr>\n",
              "  </thead>\n",
              "  <tbody>\n",
              "    <tr>\n",
              "      <td>0</td>\n",
              "      <td>0.505300</td>\n",
              "      <td>0.439330</td>\n",
              "      <td>0.809418</td>\n",
              "      <td>00:28</td>\n",
              "    </tr>\n",
              "    <tr>\n",
              "      <td>1</td>\n",
              "      <td>0.400683</td>\n",
              "      <td>0.412246</td>\n",
              "      <td>0.819636</td>\n",
              "      <td>00:27</td>\n",
              "    </tr>\n",
              "    <tr>\n",
              "      <td>2</td>\n",
              "      <td>0.334201</td>\n",
              "      <td>0.413484</td>\n",
              "      <td>0.819636</td>\n",
              "      <td>00:30</td>\n",
              "    </tr>\n",
              "  </tbody>\n",
              "</table>"
            ],
            "text/plain": [
              "<IPython.core.display.HTML object>"
            ]
          },
          "metadata": {
            "tags": []
          }
        }
      ]
    },
    {
      "cell_type": "markdown",
      "metadata": {
        "id": "W2m5-43l4lc1",
        "colab_type": "text"
      },
      "source": [
        "## Submit result to get a public score"
      ]
    },
    {
      "cell_type": "code",
      "metadata": {
        "id": "fehQz30UNIRk",
        "colab_type": "code",
        "colab": {
          "base_uri": "https://localhost:8080/",
          "height": 196
        },
        "outputId": "54b4955f-2ea7-4491-e233-c88fdb60ca06"
      },
      "source": [
        "sub.head(5)"
      ],
      "execution_count": 46,
      "outputs": [
        {
          "output_type": "execute_result",
          "data": {
            "text/html": [
              "<div>\n",
              "<style scoped>\n",
              "    .dataframe tbody tr th:only-of-type {\n",
              "        vertical-align: middle;\n",
              "    }\n",
              "\n",
              "    .dataframe tbody tr th {\n",
              "        vertical-align: top;\n",
              "    }\n",
              "\n",
              "    .dataframe thead th {\n",
              "        text-align: right;\n",
              "    }\n",
              "</style>\n",
              "<table border=\"1\" class=\"dataframe\">\n",
              "  <thead>\n",
              "    <tr style=\"text-align: right;\">\n",
              "      <th></th>\n",
              "      <th>id</th>\n",
              "      <th>target</th>\n",
              "    </tr>\n",
              "  </thead>\n",
              "  <tbody>\n",
              "    <tr>\n",
              "      <th>0</th>\n",
              "      <td>0</td>\n",
              "      <td>0</td>\n",
              "    </tr>\n",
              "    <tr>\n",
              "      <th>1</th>\n",
              "      <td>2</td>\n",
              "      <td>0</td>\n",
              "    </tr>\n",
              "    <tr>\n",
              "      <th>2</th>\n",
              "      <td>3</td>\n",
              "      <td>0</td>\n",
              "    </tr>\n",
              "    <tr>\n",
              "      <th>3</th>\n",
              "      <td>9</td>\n",
              "      <td>0</td>\n",
              "    </tr>\n",
              "    <tr>\n",
              "      <th>4</th>\n",
              "      <td>11</td>\n",
              "      <td>0</td>\n",
              "    </tr>\n",
              "  </tbody>\n",
              "</table>\n",
              "</div>"
            ],
            "text/plain": [
              "   id  target\n",
              "0   0       0\n",
              "1   2       0\n",
              "2   3       0\n",
              "3   9       0\n",
              "4  11       0"
            ]
          },
          "metadata": {
            "tags": []
          },
          "execution_count": 46
        }
      ]
    },
    {
      "cell_type": "code",
      "metadata": {
        "id": "Dw7BHQS1NlV9",
        "colab_type": "code",
        "colab": {}
      },
      "source": [
        "def get_preds_as_nparray(ds_type) -> np.ndarray:\n",
        "\n",
        "    preds = learn.get_preds(ds_type)[0].detach().cpu().numpy()\n",
        "    sampler = [i for i in databunch.dl(ds_type).sampler]\n",
        "    reverse_sampler = np.argsort(sampler)\n",
        "    ordered_preds = preds[reverse_sampler, :]\n",
        "    pred_values = np.argmax(ordered_preds, axis=1)\n",
        "    return ordered_preds, pred_values"
      ],
      "execution_count": 0,
      "outputs": []
    },
    {
      "cell_type": "code",
      "metadata": {
        "id": "S9U2mB3UNlST",
        "colab_type": "code",
        "colab": {
          "base_uri": "https://localhost:8080/",
          "height": 17
        },
        "outputId": "9200a131-b9f9-43bd-c697-52fbcdfc4202"
      },
      "source": [
        "result =get_preds_as_nparray(DatasetType.Test) # get ordered prediction from our fine-tuned model "
      ],
      "execution_count": 48,
      "outputs": [
        {
          "output_type": "display_data",
          "data": {
            "text/html": [
              ""
            ],
            "text/plain": [
              "<IPython.core.display.HTML object>"
            ]
          },
          "metadata": {
            "tags": []
          }
        }
      ]
    },
    {
      "cell_type": "code",
      "metadata": {
        "id": "09lCW5x5NlPP",
        "colab_type": "code",
        "colab": {
          "base_uri": "https://localhost:8080/",
          "height": 33
        },
        "outputId": "a514b63b-a79b-4def-f453-2395754137ef"
      },
      "source": [
        "result[1]"
      ],
      "execution_count": 50,
      "outputs": [
        {
          "output_type": "execute_result",
          "data": {
            "text/plain": [
              "array([1, 1, 1, 1, ..., 1, 1, 1, 1])"
            ]
          },
          "metadata": {
            "tags": []
          },
          "execution_count": 50
        }
      ]
    },
    {
      "cell_type": "code",
      "metadata": {
        "id": "x0DkgYPdNzmP",
        "colab_type": "code",
        "colab": {}
      },
      "source": [
        "test['target'] = result[1].tolist()"
      ],
      "execution_count": 0,
      "outputs": []
    },
    {
      "cell_type": "code",
      "metadata": {
        "id": "hTqP2476Nzff",
        "colab_type": "code",
        "colab": {
          "base_uri": "https://localhost:8080/",
          "height": 67
        },
        "outputId": "d22fcee0-c2ee-42a6-ab71-3858848f4bd1"
      },
      "source": [
        "test.target.value_counts()"
      ],
      "execution_count": 53,
      "outputs": [
        {
          "output_type": "execute_result",
          "data": {
            "text/plain": [
              "0    1895\n",
              "1    1368\n",
              "Name: target, dtype: int64"
            ]
          },
          "metadata": {
            "tags": []
          },
          "execution_count": 53
        }
      ]
    },
    {
      "cell_type": "code",
      "metadata": {
        "id": "3Gw96SrWOErM",
        "colab_type": "code",
        "colab": {}
      },
      "source": [
        "submission_1st = test[['id','target']].copy()"
      ],
      "execution_count": 0,
      "outputs": []
    },
    {
      "cell_type": "code",
      "metadata": {
        "id": "IivLcUTfOEnf",
        "colab_type": "code",
        "colab": {}
      },
      "source": [
        "submission_1st.to_csv('submission.csv',index=None)"
      ],
      "execution_count": 0,
      "outputs": []
    },
    {
      "cell_type": "code",
      "metadata": {
        "id": "frcJUKCHOe74",
        "colab_type": "code",
        "colab": {
          "base_uri": "https://localhost:8080/",
          "height": 67
        },
        "outputId": "2a1ce314-aa63-42aa-943f-822f68d0af10"
      },
      "source": [
        "!kaggle competitions submit -c nlp-getting-started -f submission.csv -m \"1st submission\""
      ],
      "execution_count": 64,
      "outputs": [
        {
          "output_type": "stream",
          "text": [
            "Warning: Looks like you're using an outdated API Version, please consider updating (server 1.5.6 / client 1.5.4)\n",
            "100% 22.2k/22.2k [00:00<00:00, 44.2kB/s]\n",
            "Successfully submitted to Real or Not? NLP with Disaster Tweets"
          ],
          "name": "stdout"
        }
      ]
    },
    {
      "cell_type": "code",
      "metadata": {
        "id": "tMMcLSkAOe5C",
        "colab_type": "code",
        "colab": {}
      },
      "source": [
        ""
      ],
      "execution_count": 0,
      "outputs": []
    },
    {
      "cell_type": "markdown",
      "metadata": {
        "id": "aU_L18QI4n52",
        "colab_type": "text"
      },
      "source": [
        "Actually the whole dataset of this competition with label is available online, that's one of the reasons I picked up this competition as start session in new year of our fastai study group. \n",
        "\n",
        "Because we can now concentrate on the NLP skills and model learning process behind the competition instead of care too mush about the score ranking  :D\n",
        "\n"
      ]
    },
    {
      "cell_type": "code",
      "metadata": {
        "id": "xwxgOTMX4m7e",
        "colab_type": "code",
        "colab": {}
      },
      "source": [
        ""
      ],
      "execution_count": 0,
      "outputs": []
    },
    {
      "cell_type": "markdown",
      "metadata": {
        "id": "GrIT9j5XO9fE",
        "colab_type": "text"
      },
      "source": [
        "# Try it yourself!\n",
        "\n",
        "\n",
        "*   Using more fastai features to improve your model performance, such as html cleaning in fastai.text\n",
        "*   Using your customed bert family model and train it first on a vast twitter text data to get a higher outcome\n",
        "\n"
      ]
    },
    {
      "cell_type": "code",
      "metadata": {
        "id": "znNWLwlNO_We",
        "colab_type": "code",
        "colab": {}
      },
      "source": [
        ""
      ],
      "execution_count": 0,
      "outputs": []
    }
  ]
}