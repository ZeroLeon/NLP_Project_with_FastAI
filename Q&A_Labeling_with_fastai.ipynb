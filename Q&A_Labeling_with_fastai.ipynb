{
  "nbformat": 4,
  "nbformat_minor": 0,
  "metadata": {
    "colab": {
      "name": "Q&A Labeling_with_fastai.ipynb",
      "provenance": [],
      "include_colab_link": true
    },
    "kernelspec": {
      "name": "python3",
      "display_name": "Python 3"
    },
    "accelerator": "GPU"
  },
  "cells": [
    {
      "cell_type": "markdown",
      "metadata": {
        "id": "view-in-github",
        "colab_type": "text"
      },
      "source": [
        "<a href=\"https://colab.research.google.com/github/ZeroLeon/NLP_Project_with_FastAI/blob/master/Q%26A_Labeling_with_fastai.ipynb\" target=\"_parent\"><img src=\"https://colab.research.google.com/assets/colab-badge.svg\" alt=\"Open In Colab\"/></a>"
      ]
    },
    {
      "cell_type": "code",
      "metadata": {
        "id": "UzrdlKMn_L3M",
        "colab_type": "code",
        "outputId": "ae1283b4-8c25-4bda-eb45-ed0b85f40fe6",
        "colab": {
          "base_uri": "https://localhost:8080/",
          "height": 128
        }
      },
      "source": [
        "import os\n",
        "import pandas as pd\n",
        "import numpy as np\n",
        "from pathlib import Path\n",
        "from google.colab import drive\n",
        "drive.mount('/content/gdrive',force_remount = True)\n",
        "base_dir = '/content/gdrive/My Drive/work_space'\n",
        "path = Path(base_dir +'/data/')\n",
        "#path.mkdir(parents=True,exist_ok=True) \n",
        "os.chdir(path) "
      ],
      "execution_count": 0,
      "outputs": [
        {
          "output_type": "stream",
          "text": [
            "Go to this URL in a browser: https://accounts.google.com/o/oauth2/auth?client_id=947318989803-6bn6qk8qdgf4n4g3pfee6491hc0brc4i.apps.googleusercontent.com&redirect_uri=urn%3aietf%3awg%3aoauth%3a2.0%3aoob&response_type=code&scope=email%20https%3a%2f%2fwww.googleapis.com%2fauth%2fdocs.test%20https%3a%2f%2fwww.googleapis.com%2fauth%2fdrive%20https%3a%2f%2fwww.googleapis.com%2fauth%2fdrive.photos.readonly%20https%3a%2f%2fwww.googleapis.com%2fauth%2fpeopleapi.readonly\n",
            "\n",
            "Enter your authorization code:\n",
            "··········\n",
            "Mounted at /content/gdrive\n"
          ],
          "name": "stdout"
        }
      ]
    },
    {
      "cell_type": "code",
      "metadata": {
        "id": "U9NZAieQA9zE",
        "colab_type": "code",
        "colab": {}
      },
      "source": [
        "import plotly.express as px\n",
        "import plotly.graph_objects as go\n",
        "from fastai.text import *\n",
        "from fastai.callbacks import * "
      ],
      "execution_count": 0,
      "outputs": []
    },
    {
      "cell_type": "code",
      "metadata": {
        "id": "FpRXSFTTBRwo",
        "colab_type": "code",
        "colab": {}
      },
      "source": [
        "pth = Path('/content/gdrive/My Drive/fastai/data/kaggle_google_QA_label')\n",
        "os.chdir(pth)"
      ],
      "execution_count": 0,
      "outputs": []
    },
    {
      "cell_type": "markdown",
      "metadata": {
        "id": "KNMtx0yhCQAk",
        "colab_type": "text"
      },
      "source": [
        "# Load Competition Files"
      ]
    },
    {
      "cell_type": "code",
      "metadata": {
        "id": "llFjyo4sByIQ",
        "colab_type": "code",
        "outputId": "b5ff9806-1a68-412b-d1d8-965e10f4a0ba",
        "colab": {
          "base_uri": "https://localhost:8080/",
          "height": 126
        }
      },
      "source": [
        "import glob\n",
        "fname_list = glob.glob('*')\n",
        "fname_list\n"
      ],
      "execution_count": 0,
      "outputs": [
        {
          "output_type": "execute_result",
          "data": {
            "text/plain": [
              "['sample_submission.csv',\n",
              " 'test.csv',\n",
              " 'train.csv',\n",
              " 'databunch_1.pkl',\n",
              " 'models',\n",
              " 'submission.csv']"
            ]
          },
          "metadata": {
            "tags": []
          },
          "execution_count": 4
        }
      ]
    },
    {
      "cell_type": "code",
      "metadata": {
        "id": "FNl-ktoeCHYA",
        "colab_type": "code",
        "colab": {}
      },
      "source": [
        "train = pd.read_csv(fname_list[2])\n",
        "test = pd.read_csv(fname_list[1])\n",
        "submisssion = pd.read_csv(fname_list[0])\n"
      ],
      "execution_count": 0,
      "outputs": []
    },
    {
      "cell_type": "code",
      "metadata": {
        "id": "zlrtZ7BVDMhT",
        "colab_type": "code",
        "colab": {}
      },
      "source": [
        "def df_info(df):\n",
        "  print(df.shape,df.columns)"
      ],
      "execution_count": 0,
      "outputs": []
    },
    {
      "cell_type": "code",
      "metadata": {
        "id": "7uF0IA8HDOHw",
        "colab_type": "code",
        "outputId": "f856f537-1a1a-47f3-9295-4883fddad6c1",
        "colab": {
          "base_uri": "https://localhost:8080/",
          "height": 363
        }
      },
      "source": [
        "df_info(train)"
      ],
      "execution_count": 0,
      "outputs": [
        {
          "output_type": "stream",
          "text": [
            "(6079, 41) Index(['qa_id', 'question_title', 'question_body', 'question_user_name',\n",
            "       'question_user_page', 'answer', 'answer_user_name', 'answer_user_page',\n",
            "       'url', 'category', 'host', 'question_asker_intent_understanding',\n",
            "       'question_body_critical', 'question_conversational',\n",
            "       'question_expect_short_answer', 'question_fact_seeking',\n",
            "       'question_has_commonly_accepted_answer',\n",
            "       'question_interestingness_others', 'question_interestingness_self',\n",
            "       'question_multi_intent', 'question_not_really_a_question',\n",
            "       'question_opinion_seeking', 'question_type_choice',\n",
            "       'question_type_compare', 'question_type_consequence',\n",
            "       'question_type_definition', 'question_type_entity',\n",
            "       'question_type_instructions', 'question_type_procedure',\n",
            "       'question_type_reason_explanation', 'question_type_spelling',\n",
            "       'question_well_written', 'answer_helpful',\n",
            "       'answer_level_of_information', 'answer_plausible', 'answer_relevance',\n",
            "       'answer_satisfaction', 'answer_type_instructions',\n",
            "       'answer_type_procedure', 'answer_type_reason_explanation',\n",
            "       'answer_well_written'],\n",
            "      dtype='object')\n"
          ],
          "name": "stdout"
        }
      ]
    },
    {
      "cell_type": "code",
      "metadata": {
        "id": "zPdFoHfjDbwN",
        "colab_type": "code",
        "outputId": "6ea93c95-738a-4d80-e309-fdcc66bc7c17",
        "colab": {
          "base_uri": "https://localhost:8080/",
          "height": 86
        }
      },
      "source": [
        "df_info(test)"
      ],
      "execution_count": 0,
      "outputs": [
        {
          "output_type": "stream",
          "text": [
            "(476, 11) Index(['qa_id', 'question_title', 'question_body', 'question_user_name',\n",
            "       'question_user_page', 'answer', 'answer_user_name', 'answer_user_page',\n",
            "       'url', 'category', 'host'],\n",
            "      dtype='object')\n"
          ],
          "name": "stdout"
        }
      ]
    },
    {
      "cell_type": "code",
      "metadata": {
        "id": "ir0CJMzMDgbm",
        "colab_type": "code",
        "outputId": "62ef7fac-a463-4526-a95b-9d7fda05096f",
        "colab": {
          "base_uri": "https://localhost:8080/",
          "height": 311
        }
      },
      "source": [
        "df_info(submisssion)"
      ],
      "execution_count": 0,
      "outputs": [
        {
          "output_type": "stream",
          "text": [
            "(476, 31) Index(['qa_id', 'question_asker_intent_understanding',\n",
            "       'question_body_critical', 'question_conversational',\n",
            "       'question_expect_short_answer', 'question_fact_seeking',\n",
            "       'question_has_commonly_accepted_answer',\n",
            "       'question_interestingness_others', 'question_interestingness_self',\n",
            "       'question_multi_intent', 'question_not_really_a_question',\n",
            "       'question_opinion_seeking', 'question_type_choice',\n",
            "       'question_type_compare', 'question_type_consequence',\n",
            "       'question_type_definition', 'question_type_entity',\n",
            "       'question_type_instructions', 'question_type_procedure',\n",
            "       'question_type_reason_explanation', 'question_type_spelling',\n",
            "       'question_well_written', 'answer_helpful',\n",
            "       'answer_level_of_information', 'answer_plausible', 'answer_relevance',\n",
            "       'answer_satisfaction', 'answer_type_instructions',\n",
            "       'answer_type_procedure', 'answer_type_reason_explanation',\n",
            "       'answer_well_written'],\n",
            "      dtype='object')\n"
          ],
          "name": "stdout"
        }
      ]
    },
    {
      "cell_type": "markdown",
      "metadata": {
        "id": "p7VyV2IxIFBO",
        "colab_type": "text"
      },
      "source": [
        "# First Week -- Build a Baseline"
      ]
    },
    {
      "cell_type": "code",
      "metadata": {
        "id": "r63wj7RdDnAE",
        "colab_type": "code",
        "colab": {}
      },
      "source": [
        "target_cols = ['question_asker_intent_understanding',\n",
        "       'question_body_critical', 'question_conversational',\n",
        "       'question_expect_short_answer', 'question_fact_seeking',\n",
        "       'question_has_commonly_accepted_answer',\n",
        "       'question_interestingness_others', 'question_interestingness_self',\n",
        "       'question_multi_intent', 'question_not_really_a_question',\n",
        "       'question_opinion_seeking', 'question_type_choice',\n",
        "       'question_type_compare', 'question_type_consequence',\n",
        "       'question_type_definition', 'question_type_entity',\n",
        "       'question_type_instructions','question_type_procedure',\n",
        "       'question_type_reason_explanation', 'question_type_spelling',\n",
        "       'question_well_written','answer_helpful',\n",
        "       'answer_level_of_information', 'answer_plausible', 'answer_relevance',\n",
        "       'answer_satisfaction', 'answer_type_instructions',\n",
        "       'answer_type_procedure', 'answer_type_reason_explanation',\n",
        "       'answer_well_written']\n",
        "\n",
        "input_cols = ['question_title', 'question_body', 'answer']"
      ],
      "execution_count": 0,
      "outputs": []
    },
    {
      "cell_type": "code",
      "metadata": {
        "id": "NJdKMQh1H_JN",
        "colab_type": "code",
        "outputId": "81832278-7a9a-433f-e1ea-c4184cd99dc3",
        "colab": {
          "base_uri": "https://localhost:8080/",
          "height": 728
        }
      },
      "source": [
        "!pip install transformers"
      ],
      "execution_count": 0,
      "outputs": [
        {
          "output_type": "stream",
          "text": [
            "Collecting transformers\n",
            "\u001b[?25l  Downloading https://files.pythonhosted.org/packages/70/1a/364556102943cacde1ee00fdcae3b1615b39e52649eddbf54953e5b144c9/transformers-2.2.1-py3-none-any.whl (364kB)\n",
            "\u001b[K     |████████████████████████████████| 368kB 2.8MB/s \n",
            "\u001b[?25hRequirement already satisfied: numpy in /usr/local/lib/python3.6/dist-packages (from transformers) (1.17.4)\n",
            "Collecting sentencepiece\n",
            "\u001b[?25l  Downloading https://files.pythonhosted.org/packages/14/3d/efb655a670b98f62ec32d66954e1109f403db4d937c50d779a75b9763a29/sentencepiece-0.1.83-cp36-cp36m-manylinux1_x86_64.whl (1.0MB)\n",
            "\u001b[K     |████████████████████████████████| 1.0MB 63.1MB/s \n",
            "\u001b[?25hRequirement already satisfied: requests in /usr/local/lib/python3.6/dist-packages (from transformers) (2.21.0)\n",
            "Collecting regex\n",
            "\u001b[?25l  Downloading https://files.pythonhosted.org/packages/8c/db/4b29a0adec5881542cd81cb5d1929b5c0787003c5740b3c921e627d9c2e5/regex-2019.12.9.tar.gz (669kB)\n",
            "\u001b[K     |████████████████████████████████| 675kB 56.4MB/s \n",
            "\u001b[?25hRequirement already satisfied: boto3 in /usr/local/lib/python3.6/dist-packages (from transformers) (1.10.32)\n",
            "Collecting sacremoses\n",
            "\u001b[?25l  Downloading https://files.pythonhosted.org/packages/1f/8e/ed5364a06a9ba720fddd9820155cc57300d28f5f43a6fd7b7e817177e642/sacremoses-0.0.35.tar.gz (859kB)\n",
            "\u001b[K     |████████████████████████████████| 860kB 50.0MB/s \n",
            "\u001b[?25hRequirement already satisfied: tqdm in /usr/local/lib/python3.6/dist-packages (from transformers) (4.28.1)\n",
            "Requirement already satisfied: idna<2.9,>=2.5 in /usr/local/lib/python3.6/dist-packages (from requests->transformers) (2.8)\n",
            "Requirement already satisfied: chardet<3.1.0,>=3.0.2 in /usr/local/lib/python3.6/dist-packages (from requests->transformers) (3.0.4)\n",
            "Requirement already satisfied: certifi>=2017.4.17 in /usr/local/lib/python3.6/dist-packages (from requests->transformers) (2019.11.28)\n",
            "Requirement already satisfied: urllib3<1.25,>=1.21.1 in /usr/local/lib/python3.6/dist-packages (from requests->transformers) (1.24.3)\n",
            "Requirement already satisfied: s3transfer<0.3.0,>=0.2.0 in /usr/local/lib/python3.6/dist-packages (from boto3->transformers) (0.2.1)\n",
            "Requirement already satisfied: botocore<1.14.0,>=1.13.32 in /usr/local/lib/python3.6/dist-packages (from boto3->transformers) (1.13.32)\n",
            "Requirement already satisfied: jmespath<1.0.0,>=0.7.1 in /usr/local/lib/python3.6/dist-packages (from boto3->transformers) (0.9.4)\n",
            "Requirement already satisfied: six in /usr/local/lib/python3.6/dist-packages (from sacremoses->transformers) (1.12.0)\n",
            "Requirement already satisfied: click in /usr/local/lib/python3.6/dist-packages (from sacremoses->transformers) (7.0)\n",
            "Requirement already satisfied: joblib in /usr/local/lib/python3.6/dist-packages (from sacremoses->transformers) (0.14.0)\n",
            "Requirement already satisfied: python-dateutil<2.8.1,>=2.1; python_version >= \"2.7\" in /usr/local/lib/python3.6/dist-packages (from botocore<1.14.0,>=1.13.32->boto3->transformers) (2.6.1)\n",
            "Requirement already satisfied: docutils<0.16,>=0.10 in /usr/local/lib/python3.6/dist-packages (from botocore<1.14.0,>=1.13.32->boto3->transformers) (0.15.2)\n",
            "Building wheels for collected packages: regex, sacremoses\n",
            "  Building wheel for regex (setup.py) ... \u001b[?25l\u001b[?25hdone\n",
            "  Created wheel for regex: filename=regex-2019.12.9-cp36-cp36m-linux_x86_64.whl size=609192 sha256=50772538140f2f11cdea94486983eb9b95d48922204e755032674296a5d55688\n",
            "  Stored in directory: /root/.cache/pip/wheels/0d/fb/b3/a89169557229468c49ca64f6839418f22461f6ee0a74f342b1\n",
            "  Building wheel for sacremoses (setup.py) ... \u001b[?25l\u001b[?25hdone\n",
            "  Created wheel for sacremoses: filename=sacremoses-0.0.35-cp36-none-any.whl size=883999 sha256=454cedfe816fc8d3c91f50b19dc198b1c41b92cabb10970bc0087e9ff69efdd4\n",
            "  Stored in directory: /root/.cache/pip/wheels/63/2a/db/63e2909042c634ef551d0d9ac825b2b0b32dede4a6d87ddc94\n",
            "Successfully built regex sacremoses\n",
            "Installing collected packages: sentencepiece, regex, sacremoses, transformers\n",
            "Successfully installed regex-2019.12.9 sacremoses-0.0.35 sentencepiece-0.1.83 transformers-2.2.1\n"
          ],
          "name": "stdout"
        }
      ]
    },
    {
      "cell_type": "code",
      "metadata": {
        "id": "ndBYMShfIslr",
        "colab_type": "code",
        "outputId": "6dbe1525-b251-4b3a-beab-9c9c5dffcb1b",
        "colab": {
          "base_uri": "https://localhost:8080/",
          "height": 65
        }
      },
      "source": [
        "from transformers import BertTokenizer,BertConfig,BertForSequenceClassification"
      ],
      "execution_count": 0,
      "outputs": [
        {
          "output_type": "display_data",
          "data": {
            "text/html": [
              "<p style=\"color: red;\">\n",
              "The default version of TensorFlow in Colab will soon switch to TensorFlow 2.x.<br>\n",
              "We recommend you <a href=\"https://www.tensorflow.org/guide/migrate\" target=\"_blank\">upgrade</a> now \n",
              "or ensure your notebook will continue to use TensorFlow 1.x via the <code>%tensorflow_version 1.x</code> magic:\n",
              "<a href=\"https://colab.research.google.com/notebooks/tensorflow_version.ipynb\" target=\"_blank\">more info</a>.</p>\n"
            ],
            "text/plain": [
              "<IPython.core.display.HTML object>"
            ]
          },
          "metadata": {
            "tags": []
          }
        }
      ]
    },
    {
      "cell_type": "code",
      "metadata": {
        "id": "PSwu2sTAJkix",
        "colab_type": "code",
        "colab": {}
      },
      "source": [
        ""
      ],
      "execution_count": 0,
      "outputs": []
    },
    {
      "cell_type": "code",
      "metadata": {
        "colab_type": "code",
        "id": "F5fSzd1s7ECb",
        "colab": {}
      },
      "source": [
        "class easy_classification(BertForSequenceClassification):\n",
        "  def forward(self, *args, **kwargs):\n",
        "    return super().forward(*args, **kwargs)[0]\n"
      ],
      "execution_count": 0,
      "outputs": []
    },
    {
      "cell_type": "code",
      "metadata": {
        "colab_type": "code",
        "id": "b4i81xz67ECh",
        "outputId": "9e8ab2a7-c582-4795-d743-980a25cdd83c",
        "colab": {
          "base_uri": "https://localhost:8080/",
          "height": 54
        }
      },
      "source": [
        "#set the model\n",
        "bert_model = easy_classification.from_pretrained('bert-base-uncased',num_labels=(len(target_cols)))"
      ],
      "execution_count": 0,
      "outputs": [
        {
          "output_type": "stream",
          "text": [
            "100%|██████████| 313/313 [00:00<00:00, 219791.92B/s]\n",
            "100%|██████████| 440473133/440473133 [00:32<00:00, 13519729.17B/s]\n"
          ],
          "name": "stderr"
        }
      ]
    },
    {
      "cell_type": "code",
      "metadata": {
        "id": "v61ajwQcTQfn",
        "colab_type": "code",
        "colab": {}
      },
      "source": [
        "bert_tok = BertTokenizer.from_pretrained(\n",
        "   'bert-base-uncased'\n",
        ")"
      ],
      "execution_count": 0,
      "outputs": []
    },
    {
      "cell_type": "code",
      "metadata": {
        "id": "qklTsDYMThGc",
        "colab_type": "code",
        "colab": {}
      },
      "source": [
        "bert_tok.tokenize('This leaderboard is calculated with approximately 13% of the test data.')"
      ],
      "execution_count": 0,
      "outputs": []
    },
    {
      "cell_type": "code",
      "metadata": {
        "id": "PucHC8IrTmFz",
        "colab_type": "code",
        "colab": {}
      },
      "source": [
        "class FastAiBertTokenizer(BaseTokenizer):\n",
        "    \"\"\"Wrapper around BertTokenizer to be compatible with fast.ai\"\"\"\n",
        "    def __init__(self, tokenizer: BertTokenizer, max_seq_len: int=128, **kwargs):\n",
        "        self._pretrained_tokenizer = tokenizer\n",
        "        self.max_seq_len = max_seq_len\n",
        "\n",
        "    def __call__(self, *args, **kwargs):\n",
        "        return self\n",
        "\n",
        "    def tokenizer(self, t:str) -> List[str]:\n",
        "        \"\"\"Limits the maximum sequence length\"\"\"\n",
        "        return [\"[CLS]\"] + self._pretrained_tokenizer.tokenize(t)[:self.max_seq_len - 2] + [\"[SEP]\"]"
      ],
      "execution_count": 0,
      "outputs": []
    },
    {
      "cell_type": "code",
      "metadata": {
        "id": "aNC_OZWST4OD",
        "colab_type": "code",
        "colab": {}
      },
      "source": [
        "fastai_tokenizer = Tokenizer(\n",
        "    tok_func=FastAiBertTokenizer(bert_tok, max_seq_len=128), \n",
        "    pre_rules=[], \n",
        "    post_rules=[]\n",
        ")"
      ],
      "execution_count": 0,
      "outputs": []
    },
    {
      "cell_type": "code",
      "metadata": {
        "id": "6vzpbeM4XmI-",
        "colab_type": "code",
        "colab": {}
      },
      "source": [
        "fastai_bert_vocab = Vocab(list(bert_tok.vocab.keys()))"
      ],
      "execution_count": 0,
      "outputs": []
    },
    {
      "cell_type": "code",
      "metadata": {
        "id": "LT7zzEZZvBGG",
        "colab_type": "code",
        "colab": {}
      },
      "source": [
        "#Split training and validation set, set random_state to ensure repeatability with a new random seed\n",
        "from sklearn.model_selection import train_test_split\n",
        "train_df, valid_df = train_test_split(train,random_state=42)"
      ],
      "execution_count": 0,
      "outputs": []
    },
    {
      "cell_type": "code",
      "metadata": {
        "id": "ynVajxpF1KPf",
        "colab_type": "code",
        "outputId": "758c4e31-76e7-42f5-bc01-32e089d7c72f",
        "colab": {
          "base_uri": "https://localhost:8080/",
          "height": 52
        }
      },
      "source": [
        "print(train_df.shape)\n",
        "print(valid_df.shape)"
      ],
      "execution_count": 0,
      "outputs": [
        {
          "output_type": "stream",
          "text": [
            "(4559, 41)\n",
            "(1520, 41)\n"
          ],
          "name": "stdout"
        }
      ]
    },
    {
      "cell_type": "code",
      "metadata": {
        "id": "e97owCA92Caf",
        "colab_type": "code",
        "colab": {}
      },
      "source": [
        "text_cols = input_cols\n",
        "label_cols = target_cols"
      ],
      "execution_count": 0,
      "outputs": []
    },
    {
      "cell_type": "code",
      "metadata": {
        "id": "ueg0WgLwLsQ_",
        "colab_type": "code",
        "outputId": "6a879c65-3be6-431e-bd1b-403bcf2d9a2d",
        "colab": {
          "base_uri": "https://localhost:8080/",
          "height": 17
        }
      },
      "source": [
        "databunch = TextClasDataBunch.from_df(\".\", train_df, valid_df,test,\n",
        "                  tokenizer=fastai_tokenizer,\n",
        "                  vocab=fastai_bert_vocab,\n",
        "                  include_bos=False,\n",
        "                  include_eos=False,\n",
        "                  text_cols= text_cols,\n",
        "                  label_cols= label_cols,\n",
        "                  bs=32,\n",
        "                  collate_fn=partial(pad_collate, pad_first=False, pad_idx=0),\n",
        "             )"
      ],
      "execution_count": 0,
      "outputs": [
        {
          "output_type": "display_data",
          "data": {
            "text/html": [
              ""
            ],
            "text/plain": [
              "<IPython.core.display.HTML object>"
            ]
          },
          "metadata": {
            "tags": []
          }
        },
        {
          "output_type": "display_data",
          "data": {
            "text/html": [
              ""
            ],
            "text/plain": [
              "<IPython.core.display.HTML object>"
            ]
          },
          "metadata": {
            "tags": []
          }
        },
        {
          "output_type": "display_data",
          "data": {
            "text/html": [
              ""
            ],
            "text/plain": [
              "<IPython.core.display.HTML object>"
            ]
          },
          "metadata": {
            "tags": []
          }
        }
      ]
    },
    {
      "cell_type": "code",
      "metadata": {
        "id": "O2QSIHVYMK0b",
        "colab_type": "code",
        "colab": {}
      },
      "source": [
        "# databunch.save('databunch_1.pkl')"
      ],
      "execution_count": 0,
      "outputs": []
    },
    {
      "cell_type": "code",
      "metadata": {
        "id": "aGEGgSrdL22b",
        "colab_type": "code",
        "colab": {}
      },
      "source": [
        "databunch = load_data(\".\",'databunch_1.pkl', bs=32) "
      ],
      "execution_count": 0,
      "outputs": []
    },
    {
      "cell_type": "code",
      "metadata": {
        "id": "igOYL6cBMUSh",
        "colab_type": "code",
        "outputId": "42cfbb04-e29b-4ec6-a013-35dc9bcf78cc",
        "colab": {
          "base_uri": "https://localhost:8080/",
          "height": 1000
        }
      },
      "source": [
        "databunch.show_batch()"
      ],
      "execution_count": 0,
      "outputs": [
        {
          "output_type": "display_data",
          "data": {
            "text/html": [
              "<table border=\"1\" class=\"dataframe\">\n",
              "  <thead>\n",
              "    <tr style=\"text-align: right;\">\n",
              "      <th>text</th>\n",
              "      <th>target</th>\n",
              "    </tr>\n",
              "  </thead>\n",
              "  <tbody>\n",
              "    <tr>\n",
              "      <td>[CLS] word describing the reversal of emotions a boy is highly confident one day and the next day scared , tim ##id and shy . a girl is emotional one day and emotion ##less the next . is there a term for a drastic switching of emotions ? a term for the switching to practically opposite emotions ? edit : just to clarify the emotional changes are not rapid ,</td>\n",
              "      <td>question_asker_intent_understanding;question_expect_short_answer;question_fact_seeking</td>\n",
              "    </tr>\n",
              "    <tr>\n",
              "      <td>[CLS] adding elements into ass ##oc ##ia ##tive array in java ##script i ' m trying to add elements into an ass ##oc ##ia ##tive array , which is colors = [ ] i want it to have the [ \" id \" : selected _ color ] but my browser keeps crashing ( an infinite loop somewhere ? ) i ' m not sure if i ' m adding</td>\n",
              "      <td>question_opinion_seeking;question_type_instructions;answer_helpful;answer_plausible;answer_relevance;answer_type_instructions;answer_well_written</td>\n",
              "    </tr>\n",
              "    <tr>\n",
              "      <td>[CLS] how does charlie de ##du ##ce myra is mrs ki ##es ##low ##ski ? in seven psycho ##path ##s charlie ( woody ha ##rre ##lson ) comes to the hospital to find mrs ki ##es ##low ##ski . he finds a patient - who we know is myra ki ##es ##low ##ski - but wrongly assumes that because she is black it cannot be her . he then tells</td>\n",
              "      <td>question_type_reason_explanation;answer_type_reason_explanation</td>\n",
              "    </tr>\n",
              "    <tr>\n",
              "      <td>[CLS] comment before or after the relevant code assuming a comment won ' t fit ( or can ' t go ) on the line it applies to , should one write the comment before the code or after ? well , wherever future readers will best understand the comment ' s scope . in other words , wherever most programmers / script ##ers put such comments . so where</td>\n",
              "      <td>question_asker_intent_understanding;question_expect_short_answer;question_has_commonly_accepted_answer;question_type_instructions;question_well_written;answer_helpful;answer_plausible;answer_relevance;answer_type_instructions</td>\n",
              "    </tr>\n",
              "    <tr>\n",
              "      <td>[CLS] how can i get elements out of an array with template tool ##kit ? i have an array of paths which i want to read out with template tool ##kit . how can i access the array elements of this array ? the situation is this : my @ dir ##s ; open ##di ##r ( dir , ' . / directory / ' ) | | die $</td>\n",
              "      <td>question_fact_seeking;question_has_commonly_accepted_answer;question_type_instructions;answer_helpful;answer_plausible;answer_type_instructions</td>\n",
              "    </tr>\n",
              "  </tbody>\n",
              "</table>"
            ],
            "text/plain": [
              "<IPython.core.display.HTML object>"
            ]
          },
          "metadata": {
            "tags": []
          }
        }
      ]
    },
    {
      "cell_type": "code",
      "metadata": {
        "id": "hWEcVCxdeeDK",
        "colab_type": "code",
        "outputId": "b609a9bd-74a5-49cb-f721-b746521c24cf",
        "colab": {
          "base_uri": "https://localhost:8080/",
          "height": 1000
        }
      },
      "source": [
        "# %%capture\n",
        "bert_model.train()"
      ],
      "execution_count": 0,
      "outputs": [
        {
          "output_type": "execute_result",
          "data": {
            "text/plain": [
              "easy_classification(\n",
              "  (bert): BertModel(\n",
              "    (embeddings): BertEmbeddings(\n",
              "      (word_embeddings): Embedding(30522, 768, padding_idx=0)\n",
              "      (position_embeddings): Embedding(512, 768)\n",
              "      (token_type_embeddings): Embedding(2, 768)\n",
              "      (LayerNorm): LayerNorm((768,), eps=1e-12, elementwise_affine=True)\n",
              "      (dropout): Dropout(p=0.1, inplace=False)\n",
              "    )\n",
              "    (encoder): BertEncoder(\n",
              "      (layer): ModuleList(\n",
              "        (0): BertLayer(\n",
              "          (attention): BertAttention(\n",
              "            (self): BertSelfAttention(\n",
              "              (query): Linear(in_features=768, out_features=768, bias=True)\n",
              "              (key): Linear(in_features=768, out_features=768, bias=True)\n",
              "              (value): Linear(in_features=768, out_features=768, bias=True)\n",
              "              (dropout): Dropout(p=0.1, inplace=False)\n",
              "            )\n",
              "            (output): BertSelfOutput(\n",
              "              (dense): Linear(in_features=768, out_features=768, bias=True)\n",
              "              (LayerNorm): LayerNorm((768,), eps=1e-12, elementwise_affine=True)\n",
              "              (dropout): Dropout(p=0.1, inplace=False)\n",
              "            )\n",
              "          )\n",
              "          (intermediate): BertIntermediate(\n",
              "            (dense): Linear(in_features=768, out_features=3072, bias=True)\n",
              "          )\n",
              "          (output): BertOutput(\n",
              "            (dense): Linear(in_features=3072, out_features=768, bias=True)\n",
              "            (LayerNorm): LayerNorm((768,), eps=1e-12, elementwise_affine=True)\n",
              "            (dropout): Dropout(p=0.1, inplace=False)\n",
              "          )\n",
              "        )\n",
              "        (1): BertLayer(\n",
              "          (attention): BertAttention(\n",
              "            (self): BertSelfAttention(\n",
              "              (query): Linear(in_features=768, out_features=768, bias=True)\n",
              "              (key): Linear(in_features=768, out_features=768, bias=True)\n",
              "              (value): Linear(in_features=768, out_features=768, bias=True)\n",
              "              (dropout): Dropout(p=0.1, inplace=False)\n",
              "            )\n",
              "            (output): BertSelfOutput(\n",
              "              (dense): Linear(in_features=768, out_features=768, bias=True)\n",
              "              (LayerNorm): LayerNorm((768,), eps=1e-12, elementwise_affine=True)\n",
              "              (dropout): Dropout(p=0.1, inplace=False)\n",
              "            )\n",
              "          )\n",
              "          (intermediate): BertIntermediate(\n",
              "            (dense): Linear(in_features=768, out_features=3072, bias=True)\n",
              "          )\n",
              "          (output): BertOutput(\n",
              "            (dense): Linear(in_features=3072, out_features=768, bias=True)\n",
              "            (LayerNorm): LayerNorm((768,), eps=1e-12, elementwise_affine=True)\n",
              "            (dropout): Dropout(p=0.1, inplace=False)\n",
              "          )\n",
              "        )\n",
              "        (2): BertLayer(\n",
              "          (attention): BertAttention(\n",
              "            (self): BertSelfAttention(\n",
              "              (query): Linear(in_features=768, out_features=768, bias=True)\n",
              "              (key): Linear(in_features=768, out_features=768, bias=True)\n",
              "              (value): Linear(in_features=768, out_features=768, bias=True)\n",
              "              (dropout): Dropout(p=0.1, inplace=False)\n",
              "            )\n",
              "            (output): BertSelfOutput(\n",
              "              (dense): Linear(in_features=768, out_features=768, bias=True)\n",
              "              (LayerNorm): LayerNorm((768,), eps=1e-12, elementwise_affine=True)\n",
              "              (dropout): Dropout(p=0.1, inplace=False)\n",
              "            )\n",
              "          )\n",
              "          (intermediate): BertIntermediate(\n",
              "            (dense): Linear(in_features=768, out_features=3072, bias=True)\n",
              "          )\n",
              "          (output): BertOutput(\n",
              "            (dense): Linear(in_features=3072, out_features=768, bias=True)\n",
              "            (LayerNorm): LayerNorm((768,), eps=1e-12, elementwise_affine=True)\n",
              "            (dropout): Dropout(p=0.1, inplace=False)\n",
              "          )\n",
              "        )\n",
              "        (3): BertLayer(\n",
              "          (attention): BertAttention(\n",
              "            (self): BertSelfAttention(\n",
              "              (query): Linear(in_features=768, out_features=768, bias=True)\n",
              "              (key): Linear(in_features=768, out_features=768, bias=True)\n",
              "              (value): Linear(in_features=768, out_features=768, bias=True)\n",
              "              (dropout): Dropout(p=0.1, inplace=False)\n",
              "            )\n",
              "            (output): BertSelfOutput(\n",
              "              (dense): Linear(in_features=768, out_features=768, bias=True)\n",
              "              (LayerNorm): LayerNorm((768,), eps=1e-12, elementwise_affine=True)\n",
              "              (dropout): Dropout(p=0.1, inplace=False)\n",
              "            )\n",
              "          )\n",
              "          (intermediate): BertIntermediate(\n",
              "            (dense): Linear(in_features=768, out_features=3072, bias=True)\n",
              "          )\n",
              "          (output): BertOutput(\n",
              "            (dense): Linear(in_features=3072, out_features=768, bias=True)\n",
              "            (LayerNorm): LayerNorm((768,), eps=1e-12, elementwise_affine=True)\n",
              "            (dropout): Dropout(p=0.1, inplace=False)\n",
              "          )\n",
              "        )\n",
              "        (4): BertLayer(\n",
              "          (attention): BertAttention(\n",
              "            (self): BertSelfAttention(\n",
              "              (query): Linear(in_features=768, out_features=768, bias=True)\n",
              "              (key): Linear(in_features=768, out_features=768, bias=True)\n",
              "              (value): Linear(in_features=768, out_features=768, bias=True)\n",
              "              (dropout): Dropout(p=0.1, inplace=False)\n",
              "            )\n",
              "            (output): BertSelfOutput(\n",
              "              (dense): Linear(in_features=768, out_features=768, bias=True)\n",
              "              (LayerNorm): LayerNorm((768,), eps=1e-12, elementwise_affine=True)\n",
              "              (dropout): Dropout(p=0.1, inplace=False)\n",
              "            )\n",
              "          )\n",
              "          (intermediate): BertIntermediate(\n",
              "            (dense): Linear(in_features=768, out_features=3072, bias=True)\n",
              "          )\n",
              "          (output): BertOutput(\n",
              "            (dense): Linear(in_features=3072, out_features=768, bias=True)\n",
              "            (LayerNorm): LayerNorm((768,), eps=1e-12, elementwise_affine=True)\n",
              "            (dropout): Dropout(p=0.1, inplace=False)\n",
              "          )\n",
              "        )\n",
              "        (5): BertLayer(\n",
              "          (attention): BertAttention(\n",
              "            (self): BertSelfAttention(\n",
              "              (query): Linear(in_features=768, out_features=768, bias=True)\n",
              "              (key): Linear(in_features=768, out_features=768, bias=True)\n",
              "              (value): Linear(in_features=768, out_features=768, bias=True)\n",
              "              (dropout): Dropout(p=0.1, inplace=False)\n",
              "            )\n",
              "            (output): BertSelfOutput(\n",
              "              (dense): Linear(in_features=768, out_features=768, bias=True)\n",
              "              (LayerNorm): LayerNorm((768,), eps=1e-12, elementwise_affine=True)\n",
              "              (dropout): Dropout(p=0.1, inplace=False)\n",
              "            )\n",
              "          )\n",
              "          (intermediate): BertIntermediate(\n",
              "            (dense): Linear(in_features=768, out_features=3072, bias=True)\n",
              "          )\n",
              "          (output): BertOutput(\n",
              "            (dense): Linear(in_features=3072, out_features=768, bias=True)\n",
              "            (LayerNorm): LayerNorm((768,), eps=1e-12, elementwise_affine=True)\n",
              "            (dropout): Dropout(p=0.1, inplace=False)\n",
              "          )\n",
              "        )\n",
              "        (6): BertLayer(\n",
              "          (attention): BertAttention(\n",
              "            (self): BertSelfAttention(\n",
              "              (query): Linear(in_features=768, out_features=768, bias=True)\n",
              "              (key): Linear(in_features=768, out_features=768, bias=True)\n",
              "              (value): Linear(in_features=768, out_features=768, bias=True)\n",
              "              (dropout): Dropout(p=0.1, inplace=False)\n",
              "            )\n",
              "            (output): BertSelfOutput(\n",
              "              (dense): Linear(in_features=768, out_features=768, bias=True)\n",
              "              (LayerNorm): LayerNorm((768,), eps=1e-12, elementwise_affine=True)\n",
              "              (dropout): Dropout(p=0.1, inplace=False)\n",
              "            )\n",
              "          )\n",
              "          (intermediate): BertIntermediate(\n",
              "            (dense): Linear(in_features=768, out_features=3072, bias=True)\n",
              "          )\n",
              "          (output): BertOutput(\n",
              "            (dense): Linear(in_features=3072, out_features=768, bias=True)\n",
              "            (LayerNorm): LayerNorm((768,), eps=1e-12, elementwise_affine=True)\n",
              "            (dropout): Dropout(p=0.1, inplace=False)\n",
              "          )\n",
              "        )\n",
              "        (7): BertLayer(\n",
              "          (attention): BertAttention(\n",
              "            (self): BertSelfAttention(\n",
              "              (query): Linear(in_features=768, out_features=768, bias=True)\n",
              "              (key): Linear(in_features=768, out_features=768, bias=True)\n",
              "              (value): Linear(in_features=768, out_features=768, bias=True)\n",
              "              (dropout): Dropout(p=0.1, inplace=False)\n",
              "            )\n",
              "            (output): BertSelfOutput(\n",
              "              (dense): Linear(in_features=768, out_features=768, bias=True)\n",
              "              (LayerNorm): LayerNorm((768,), eps=1e-12, elementwise_affine=True)\n",
              "              (dropout): Dropout(p=0.1, inplace=False)\n",
              "            )\n",
              "          )\n",
              "          (intermediate): BertIntermediate(\n",
              "            (dense): Linear(in_features=768, out_features=3072, bias=True)\n",
              "          )\n",
              "          (output): BertOutput(\n",
              "            (dense): Linear(in_features=3072, out_features=768, bias=True)\n",
              "            (LayerNorm): LayerNorm((768,), eps=1e-12, elementwise_affine=True)\n",
              "            (dropout): Dropout(p=0.1, inplace=False)\n",
              "          )\n",
              "        )\n",
              "        (8): BertLayer(\n",
              "          (attention): BertAttention(\n",
              "            (self): BertSelfAttention(\n",
              "              (query): Linear(in_features=768, out_features=768, bias=True)\n",
              "              (key): Linear(in_features=768, out_features=768, bias=True)\n",
              "              (value): Linear(in_features=768, out_features=768, bias=True)\n",
              "              (dropout): Dropout(p=0.1, inplace=False)\n",
              "            )\n",
              "            (output): BertSelfOutput(\n",
              "              (dense): Linear(in_features=768, out_features=768, bias=True)\n",
              "              (LayerNorm): LayerNorm((768,), eps=1e-12, elementwise_affine=True)\n",
              "              (dropout): Dropout(p=0.1, inplace=False)\n",
              "            )\n",
              "          )\n",
              "          (intermediate): BertIntermediate(\n",
              "            (dense): Linear(in_features=768, out_features=3072, bias=True)\n",
              "          )\n",
              "          (output): BertOutput(\n",
              "            (dense): Linear(in_features=3072, out_features=768, bias=True)\n",
              "            (LayerNorm): LayerNorm((768,), eps=1e-12, elementwise_affine=True)\n",
              "            (dropout): Dropout(p=0.1, inplace=False)\n",
              "          )\n",
              "        )\n",
              "        (9): BertLayer(\n",
              "          (attention): BertAttention(\n",
              "            (self): BertSelfAttention(\n",
              "              (query): Linear(in_features=768, out_features=768, bias=True)\n",
              "              (key): Linear(in_features=768, out_features=768, bias=True)\n",
              "              (value): Linear(in_features=768, out_features=768, bias=True)\n",
              "              (dropout): Dropout(p=0.1, inplace=False)\n",
              "            )\n",
              "            (output): BertSelfOutput(\n",
              "              (dense): Linear(in_features=768, out_features=768, bias=True)\n",
              "              (LayerNorm): LayerNorm((768,), eps=1e-12, elementwise_affine=True)\n",
              "              (dropout): Dropout(p=0.1, inplace=False)\n",
              "            )\n",
              "          )\n",
              "          (intermediate): BertIntermediate(\n",
              "            (dense): Linear(in_features=768, out_features=3072, bias=True)\n",
              "          )\n",
              "          (output): BertOutput(\n",
              "            (dense): Linear(in_features=3072, out_features=768, bias=True)\n",
              "            (LayerNorm): LayerNorm((768,), eps=1e-12, elementwise_affine=True)\n",
              "            (dropout): Dropout(p=0.1, inplace=False)\n",
              "          )\n",
              "        )\n",
              "        (10): BertLayer(\n",
              "          (attention): BertAttention(\n",
              "            (self): BertSelfAttention(\n",
              "              (query): Linear(in_features=768, out_features=768, bias=True)\n",
              "              (key): Linear(in_features=768, out_features=768, bias=True)\n",
              "              (value): Linear(in_features=768, out_features=768, bias=True)\n",
              "              (dropout): Dropout(p=0.1, inplace=False)\n",
              "            )\n",
              "            (output): BertSelfOutput(\n",
              "              (dense): Linear(in_features=768, out_features=768, bias=True)\n",
              "              (LayerNorm): LayerNorm((768,), eps=1e-12, elementwise_affine=True)\n",
              "              (dropout): Dropout(p=0.1, inplace=False)\n",
              "            )\n",
              "          )\n",
              "          (intermediate): BertIntermediate(\n",
              "            (dense): Linear(in_features=768, out_features=3072, bias=True)\n",
              "          )\n",
              "          (output): BertOutput(\n",
              "            (dense): Linear(in_features=3072, out_features=768, bias=True)\n",
              "            (LayerNorm): LayerNorm((768,), eps=1e-12, elementwise_affine=True)\n",
              "            (dropout): Dropout(p=0.1, inplace=False)\n",
              "          )\n",
              "        )\n",
              "        (11): BertLayer(\n",
              "          (attention): BertAttention(\n",
              "            (self): BertSelfAttention(\n",
              "              (query): Linear(in_features=768, out_features=768, bias=True)\n",
              "              (key): Linear(in_features=768, out_features=768, bias=True)\n",
              "              (value): Linear(in_features=768, out_features=768, bias=True)\n",
              "              (dropout): Dropout(p=0.1, inplace=False)\n",
              "            )\n",
              "            (output): BertSelfOutput(\n",
              "              (dense): Linear(in_features=768, out_features=768, bias=True)\n",
              "              (LayerNorm): LayerNorm((768,), eps=1e-12, elementwise_affine=True)\n",
              "              (dropout): Dropout(p=0.1, inplace=False)\n",
              "            )\n",
              "          )\n",
              "          (intermediate): BertIntermediate(\n",
              "            (dense): Linear(in_features=768, out_features=3072, bias=True)\n",
              "          )\n",
              "          (output): BertOutput(\n",
              "            (dense): Linear(in_features=3072, out_features=768, bias=True)\n",
              "            (LayerNorm): LayerNorm((768,), eps=1e-12, elementwise_affine=True)\n",
              "            (dropout): Dropout(p=0.1, inplace=False)\n",
              "          )\n",
              "        )\n",
              "      )\n",
              "    )\n",
              "    (pooler): BertPooler(\n",
              "      (dense): Linear(in_features=768, out_features=768, bias=True)\n",
              "      (activation): Tanh()\n",
              "    )\n",
              "  )\n",
              "  (dropout): Dropout(p=0.1, inplace=False)\n",
              "  (classifier): Linear(in_features=768, out_features=30, bias=True)\n",
              ")"
            ]
          },
          "metadata": {
            "tags": []
          },
          "execution_count": 15
        }
      ]
    },
    {
      "cell_type": "code",
      "metadata": {
        "id": "X5u0JhMJeNlM",
        "colab_type": "code",
        "colab": {}
      },
      "source": [
        "#with multilabel situation,we use a corresponding loss function\n",
        "loss_func = nn.BCEWithLogitsLoss()"
      ],
      "execution_count": 0,
      "outputs": []
    },
    {
      "cell_type": "code",
      "metadata": {
        "id": "qH59aRl4eNi1",
        "colab_type": "code",
        "colab": {}
      },
      "source": [
        "learn = Learner( \n",
        "    databunch, \n",
        "    bert_model,\n",
        "    loss_func=loss_func,\n",
        "    metrics=[accuracy]\n",
        ")"
      ],
      "execution_count": 0,
      "outputs": []
    },
    {
      "cell_type": "markdown",
      "metadata": {
        "id": "uTjoMfVtTWt4",
        "colab_type": "text"
      },
      "source": [
        "## Start Training"
      ]
    },
    {
      "cell_type": "code",
      "metadata": {
        "id": "mC4ogE46aQSd",
        "colab_type": "code",
        "outputId": "6e652084-1d12-4eb6-b33c-cd57b97b5fa1",
        "colab": {
          "base_uri": "https://localhost:8080/",
          "height": 34
        }
      },
      "source": [
        "learn.lr_find()"
      ],
      "execution_count": 0,
      "outputs": [
        {
          "output_type": "display_data",
          "data": {
            "text/html": [
              ""
            ],
            "text/plain": [
              "<IPython.core.display.HTML object>"
            ]
          },
          "metadata": {
            "tags": []
          }
        },
        {
          "output_type": "stream",
          "text": [
            "LR Finder is complete, type {learner_name}.recorder.plot() to see the graph.\n"
          ],
          "name": "stdout"
        }
      ]
    },
    {
      "cell_type": "code",
      "metadata": {
        "id": "KY4ZAYAja5nS",
        "colab_type": "code",
        "outputId": "37548ef7-c892-4ddd-ea07-1b6d3112b71a",
        "colab": {
          "base_uri": "https://localhost:8080/",
          "height": 313
        }
      },
      "source": [
        "learn.recorder.plot(skip_end=5,suggestion=True)"
      ],
      "execution_count": 0,
      "outputs": [
        {
          "output_type": "stream",
          "text": [
            "Min numerical gradient: 2.75E-04\n",
            "Min loss divided by 10: 7.59E-04\n"
          ],
          "name": "stdout"
        },
        {
          "output_type": "display_data",
          "data": {
            "image/png": "[encoded data removed]",
            "text/plain": [
              "<Figure size 432x288 with 1 Axes>"
            ]
          },
          "metadata": {
            "tags": []
          }
        }
      ]
    },
    {
      "cell_type": "code",
      "metadata": {
        "id": "SJewhJjVeNcr",
        "colab_type": "code",
        "colab": {}
      },
      "source": [
        "init_lr = 1e-4"
      ],
      "execution_count": 0,
      "outputs": []
    },
    {
      "cell_type": "code",
      "metadata": {
        "id": "uAsbhgqVXvPk",
        "colab_type": "code",
        "outputId": "4211a52f-df4d-4995-969b-244e36bd44ac",
        "colab": {
          "base_uri": "https://localhost:8080/",
          "height": 78
        }
      },
      "source": [
        "learn.fit_one_cycle(1, max_lr=init_lr)"
      ],
      "execution_count": 0,
      "outputs": [
        {
          "output_type": "display_data",
          "data": {
            "text/html": [
              "<table border=\"1\" class=\"dataframe\">\n",
              "  <thead>\n",
              "    <tr style=\"text-align: left;\">\n",
              "      <th>epoch</th>\n",
              "      <th>train_loss</th>\n",
              "      <th>valid_loss</th>\n",
              "      <th>accuracy</th>\n",
              "      <th>time</th>\n",
              "    </tr>\n",
              "  </thead>\n",
              "  <tbody>\n",
              "    <tr>\n",
              "      <td>0</td>\n",
              "      <td>0.420841</td>\n",
              "      <td>0.404994</td>\n",
              "      <td>0.000000</td>\n",
              "      <td>03:33</td>\n",
              "    </tr>\n",
              "  </tbody>\n",
              "</table>"
            ],
            "text/plain": [
              "<IPython.core.display.HTML object>"
            ]
          },
          "metadata": {
            "tags": []
          }
        }
      ]
    },
    {
      "cell_type": "code",
      "metadata": {
        "id": "CP0SoAsLNk7s",
        "colab_type": "code",
        "colab": {}
      },
      "source": [
        "learn.save('1st_stage')"
      ],
      "execution_count": 0,
      "outputs": []
    },
    {
      "cell_type": "code",
      "metadata": {
        "id": "S94SrZ3AOcy8",
        "colab_type": "code",
        "outputId": "9c0ac90c-53fb-4e55-cac9-25563e9c3139",
        "colab": {
          "base_uri": "https://localhost:8080/",
          "height": 138
        }
      },
      "source": [
        "learn.fit_one_cycle(3, max_lr=init_lr)"
      ],
      "execution_count": 0,
      "outputs": [
        {
          "output_type": "display_data",
          "data": {
            "text/html": [
              "<table border=\"1\" class=\"dataframe\">\n",
              "  <thead>\n",
              "    <tr style=\"text-align: left;\">\n",
              "      <th>epoch</th>\n",
              "      <th>train_loss</th>\n",
              "      <th>valid_loss</th>\n",
              "      <th>accuracy</th>\n",
              "      <th>time</th>\n",
              "    </tr>\n",
              "  </thead>\n",
              "  <tbody>\n",
              "    <tr>\n",
              "      <td>0</td>\n",
              "      <td>0.399173</td>\n",
              "      <td>0.392450</td>\n",
              "      <td>0.000000</td>\n",
              "      <td>03:34</td>\n",
              "    </tr>\n",
              "    <tr>\n",
              "      <td>1</td>\n",
              "      <td>0.381280</td>\n",
              "      <td>0.379256</td>\n",
              "      <td>0.002105</td>\n",
              "      <td>03:34</td>\n",
              "    </tr>\n",
              "    <tr>\n",
              "      <td>2</td>\n",
              "      <td>0.365516</td>\n",
              "      <td>0.376145</td>\n",
              "      <td>0.000263</td>\n",
              "      <td>03:33</td>\n",
              "    </tr>\n",
              "  </tbody>\n",
              "</table>"
            ],
            "text/plain": [
              "<IPython.core.display.HTML object>"
            ]
          },
          "metadata": {
            "tags": []
          }
        }
      ]
    },
    {
      "cell_type": "code",
      "metadata": {
        "id": "CVSCgKjNQ_gW",
        "colab_type": "code",
        "colab": {}
      },
      "source": [
        "learn.save('2nd_stage')"
      ],
      "execution_count": 0,
      "outputs": []
    },
    {
      "cell_type": "markdown",
      "metadata": {
        "id": "TvRbrZnhSyL_",
        "colab_type": "text"
      },
      "source": [
        "## Get Result"
      ]
    },
    {
      "cell_type": "code",
      "metadata": {
        "id": "cwaC6MsHgras",
        "colab_type": "code",
        "colab": {}
      },
      "source": [
        "# custom function for ordered predictions\n",
        "def get_preds_as_nparray(ds_type) -> np.ndarray: \n",
        "\n",
        "    preds = learn.get_preds(ds_type)[0].detach().cpu().numpy()\n",
        "    sampler = [i for i in learn.data.dl(DatasetType.Test).sampler]\n",
        "    reverse_sampler = np.argsort(sampler)\n",
        "    ordered_preds = preds[reverse_sampler, :]\n",
        "    pred_values = np.argmax(ordered_preds, axis=1)\n",
        "    return ordered_preds, pred_values"
      ],
      "execution_count": 0,
      "outputs": []
    },
    {
      "cell_type": "code",
      "metadata": {
        "id": "ehgs0JhAfw__",
        "colab_type": "code",
        "outputId": "2eceb1a6-b5b6-4d83-dc14-c6e5b7cbfade",
        "colab": {
          "base_uri": "https://localhost:8080/",
          "height": 17
        }
      },
      "source": [
        "result =get_preds_as_nparray(DatasetType.Test)"
      ],
      "execution_count": 0,
      "outputs": [
        {
          "output_type": "display_data",
          "data": {
            "text/html": [
              ""
            ],
            "text/plain": [
              "<IPython.core.display.HTML object>"
            ]
          },
          "metadata": {
            "tags": []
          }
        }
      ]
    },
    {
      "cell_type": "code",
      "metadata": {
        "id": "UcoMTCBlRKmd",
        "colab_type": "code",
        "outputId": "d15c9f04-5dd3-44c1-bc16-7a29692e09b4",
        "colab": {
          "base_uri": "https://localhost:8080/",
          "height": 34
        }
      },
      "source": [
        "result[0].shape,len(taget_cols)"
      ],
      "execution_count": 0,
      "outputs": [
        {
          "output_type": "execute_result",
          "data": {
            "text/plain": [
              "((476, 30), 30)"
            ]
          },
          "metadata": {
            "tags": []
          },
          "execution_count": 54
        }
      ]
    },
    {
      "cell_type": "code",
      "metadata": {
        "id": "pCTDsG5lSIzX",
        "colab_type": "code",
        "colab": {}
      },
      "source": [
        "submisssion.iloc[:, 1:] = result[0]"
      ],
      "execution_count": 0,
      "outputs": []
    },
    {
      "cell_type": "code",
      "metadata": {
        "id": "yHp60wIrSoCE",
        "colab_type": "code",
        "outputId": "eb3c8ea5-75d6-47c8-9278-58e28ede0261",
        "colab": {
          "base_uri": "https://localhost:8080/",
          "height": 980
        }
      },
      "source": [
        "submisssion.head(2).T"
      ],
      "execution_count": 0,
      "outputs": [
        {
          "output_type": "execute_result",
          "data": {
            "text/html": [
              "<div>\n",
              "<style scoped>\n",
              "    .dataframe tbody tr th:only-of-type {\n",
              "        vertical-align: middle;\n",
              "    }\n",
              "\n",
              "    .dataframe tbody tr th {\n",
              "        vertical-align: top;\n",
              "    }\n",
              "\n",
              "    .dataframe thead th {\n",
              "        text-align: right;\n",
              "    }\n",
              "</style>\n",
              "<table border=\"1\" class=\"dataframe\">\n",
              "  <thead>\n",
              "    <tr style=\"text-align: right;\">\n",
              "      <th></th>\n",
              "      <th>0</th>\n",
              "      <th>1</th>\n",
              "    </tr>\n",
              "  </thead>\n",
              "  <tbody>\n",
              "    <tr>\n",
              "      <th>qa_id</th>\n",
              "      <td>39.000000</td>\n",
              "      <td>46.000000</td>\n",
              "    </tr>\n",
              "    <tr>\n",
              "      <th>question_asker_intent_understanding</th>\n",
              "      <td>0.942518</td>\n",
              "      <td>0.861609</td>\n",
              "    </tr>\n",
              "    <tr>\n",
              "      <th>question_body_critical</th>\n",
              "      <td>0.743116</td>\n",
              "      <td>0.546261</td>\n",
              "    </tr>\n",
              "    <tr>\n",
              "      <th>question_conversational</th>\n",
              "      <td>0.184774</td>\n",
              "      <td>0.006533</td>\n",
              "    </tr>\n",
              "    <tr>\n",
              "      <th>question_expect_short_answer</th>\n",
              "      <td>0.661701</td>\n",
              "      <td>0.782285</td>\n",
              "    </tr>\n",
              "    <tr>\n",
              "      <th>question_fact_seeking</th>\n",
              "      <td>0.558421</td>\n",
              "      <td>0.816810</td>\n",
              "    </tr>\n",
              "    <tr>\n",
              "      <th>question_has_commonly_accepted_answer</th>\n",
              "      <td>0.538276</td>\n",
              "      <td>0.915711</td>\n",
              "    </tr>\n",
              "    <tr>\n",
              "      <th>question_interestingness_others</th>\n",
              "      <td>0.660920</td>\n",
              "      <td>0.540134</td>\n",
              "    </tr>\n",
              "    <tr>\n",
              "      <th>question_interestingness_self</th>\n",
              "      <td>0.657563</td>\n",
              "      <td>0.454008</td>\n",
              "    </tr>\n",
              "    <tr>\n",
              "      <th>question_multi_intent</th>\n",
              "      <td>0.330964</td>\n",
              "      <td>0.179467</td>\n",
              "    </tr>\n",
              "    <tr>\n",
              "      <th>question_not_really_a_question</th>\n",
              "      <td>0.006292</td>\n",
              "      <td>0.005070</td>\n",
              "    </tr>\n",
              "    <tr>\n",
              "      <th>question_opinion_seeking</th>\n",
              "      <td>0.744407</td>\n",
              "      <td>0.440820</td>\n",
              "    </tr>\n",
              "    <tr>\n",
              "      <th>question_type_choice</th>\n",
              "      <td>0.745085</td>\n",
              "      <td>0.504594</td>\n",
              "    </tr>\n",
              "    <tr>\n",
              "      <th>question_type_compare</th>\n",
              "      <td>0.067732</td>\n",
              "      <td>0.009379</td>\n",
              "    </tr>\n",
              "    <tr>\n",
              "      <th>question_type_consequence</th>\n",
              "      <td>0.023104</td>\n",
              "      <td>0.005616</td>\n",
              "    </tr>\n",
              "    <tr>\n",
              "      <th>question_type_definition</th>\n",
              "      <td>0.018936</td>\n",
              "      <td>0.005059</td>\n",
              "    </tr>\n",
              "    <tr>\n",
              "      <th>question_type_entity</th>\n",
              "      <td>0.032151</td>\n",
              "      <td>0.027446</td>\n",
              "    </tr>\n",
              "    <tr>\n",
              "      <th>question_type_instructions</th>\n",
              "      <td>0.066581</td>\n",
              "      <td>0.852573</td>\n",
              "    </tr>\n",
              "    <tr>\n",
              "      <th>question_type_procedure</th>\n",
              "      <td>0.093864</td>\n",
              "      <td>0.220544</td>\n",
              "    </tr>\n",
              "    <tr>\n",
              "      <th>question_type_reason_explanation</th>\n",
              "      <td>0.581357</td>\n",
              "      <td>0.091663</td>\n",
              "    </tr>\n",
              "    <tr>\n",
              "      <th>question_type_spelling</th>\n",
              "      <td>0.004915</td>\n",
              "      <td>0.002776</td>\n",
              "    </tr>\n",
              "    <tr>\n",
              "      <th>question_well_written</th>\n",
              "      <td>0.927621</td>\n",
              "      <td>0.763926</td>\n",
              "    </tr>\n",
              "    <tr>\n",
              "      <th>answer_helpful</th>\n",
              "      <td>0.938788</td>\n",
              "      <td>0.942339</td>\n",
              "    </tr>\n",
              "    <tr>\n",
              "      <th>answer_level_of_information</th>\n",
              "      <td>0.683358</td>\n",
              "      <td>0.641968</td>\n",
              "    </tr>\n",
              "    <tr>\n",
              "      <th>answer_plausible</th>\n",
              "      <td>0.970501</td>\n",
              "      <td>0.963718</td>\n",
              "    </tr>\n",
              "    <tr>\n",
              "      <th>answer_relevance</th>\n",
              "      <td>0.967522</td>\n",
              "      <td>0.972523</td>\n",
              "    </tr>\n",
              "    <tr>\n",
              "      <th>answer_satisfaction</th>\n",
              "      <td>0.870279</td>\n",
              "      <td>0.864652</td>\n",
              "    </tr>\n",
              "    <tr>\n",
              "      <th>answer_type_instructions</th>\n",
              "      <td>0.102045</td>\n",
              "      <td>0.838603</td>\n",
              "    </tr>\n",
              "    <tr>\n",
              "      <th>answer_type_procedure</th>\n",
              "      <td>0.078123</td>\n",
              "      <td>0.157555</td>\n",
              "    </tr>\n",
              "    <tr>\n",
              "      <th>answer_type_reason_explanation</th>\n",
              "      <td>0.798820</td>\n",
              "      <td>0.182521</td>\n",
              "    </tr>\n",
              "    <tr>\n",
              "      <th>answer_well_written</th>\n",
              "      <td>0.938978</td>\n",
              "      <td>0.898393</td>\n",
              "    </tr>\n",
              "  </tbody>\n",
              "</table>\n",
              "</div>"
            ],
            "text/plain": [
              "                                               0          1\n",
              "qa_id                                  39.000000  46.000000\n",
              "question_asker_intent_understanding     0.942518   0.861609\n",
              "question_body_critical                  0.743116   0.546261\n",
              "question_conversational                 0.184774   0.006533\n",
              "question_expect_short_answer            0.661701   0.782285\n",
              "question_fact_seeking                   0.558421   0.816810\n",
              "question_has_commonly_accepted_answer   0.538276   0.915711\n",
              "question_interestingness_others         0.660920   0.540134\n",
              "question_interestingness_self           0.657563   0.454008\n",
              "question_multi_intent                   0.330964   0.179467\n",
              "question_not_really_a_question          0.006292   0.005070\n",
              "question_opinion_seeking                0.744407   0.440820\n",
              "question_type_choice                    0.745085   0.504594\n",
              "question_type_compare                   0.067732   0.009379\n",
              "question_type_consequence               0.023104   0.005616\n",
              "question_type_definition                0.018936   0.005059\n",
              "question_type_entity                    0.032151   0.027446\n",
              "question_type_instructions              0.066581   0.852573\n",
              "question_type_procedure                 0.093864   0.220544\n",
              "question_type_reason_explanation        0.581357   0.091663\n",
              "question_type_spelling                  0.004915   0.002776\n",
              "question_well_written                   0.927621   0.763926\n",
              "answer_helpful                          0.938788   0.942339\n",
              "answer_level_of_information             0.683358   0.641968\n",
              "answer_plausible                        0.970501   0.963718\n",
              "answer_relevance                        0.967522   0.972523\n",
              "answer_satisfaction                     0.870279   0.864652\n",
              "answer_type_instructions                0.102045   0.838603\n",
              "answer_type_procedure                   0.078123   0.157555\n",
              "answer_type_reason_explanation          0.798820   0.182521\n",
              "answer_well_written                     0.938978   0.898393"
            ]
          },
          "metadata": {
            "tags": []
          },
          "execution_count": 64
        }
      ]
    },
    {
      "cell_type": "code",
      "metadata": {
        "id": "ZT8o1LvdTltp",
        "colab_type": "code",
        "colab": {}
      },
      "source": [
        "submisssion.to_csv('submission.csv', index=False)"
      ],
      "execution_count": 0,
      "outputs": []
    },
    {
      "cell_type": "code",
      "metadata": {
        "id": "JnotdQl1VrDb",
        "colab_type": "code",
        "colab": {}
      },
      "source": [
        "import plotly.figure_factory as ff\n",
        "fig = ff.create_distplot([train[c] for c in taget_cols], taget_cols, bin_size=.25)\n",
        "fig.show()"
      ],
      "execution_count": 0,
      "outputs": []
    },
    {
      "cell_type": "code",
      "metadata": {
        "id": "zXQoYR3MTHmj",
        "colab_type": "code",
        "outputId": "0c18909d-2454-44e6-f26f-ba809d7c8699",
        "colab": {
          "base_uri": "https://localhost:8080/",
          "height": 1000
        }
      },
      "source": [
        "import seaborn as sns\n",
        "fig, axes = plt.subplots(6, 5, figsize=(18, 15))\n",
        "axes = axes.ravel()\n",
        "bins = np.linspace(0, 1, 20)\n",
        "\n",
        "for i, col in enumerate(taget_cols):\n",
        "    ax = axes[i]\n",
        "    sns.distplot(train[col], label=col, bins=bins, ax=ax, color='blue')\n",
        "    sns.distplot(submisssion[col], label=col, bins=bins, ax=ax, color='orange')\n",
        "    # ax.set_title(col)\n",
        "    ax.set_xlim([0, 1])\n",
        "plt.tight_layout()\n",
        "plt.show()\n",
        "plt.close()"
      ],
      "execution_count": 0,
      "outputs": [
        {
          "output_type": "display_data",
          "data": {
            "image/png": "[encoded data removed]",
            "text/plain": [
              "<Figure size 1296x1080 with 30 Axes>"
            ]
          },
          "metadata": {
            "tags": []
          }
        }
      ]
    },
    {
      "cell_type": "code",
      "metadata": {
        "id": "x_lJDztxT1W8",
        "colab_type": "code",
        "colab": {}
      },
      "source": [
        ""
      ],
      "execution_count": 0,
      "outputs": []
    },
    {
      "cell_type": "markdown",
      "metadata": {
        "id": "6K9xP_rVikzY",
        "colab_type": "text"
      },
      "source": [
        ""
      ]
    }
  ]
}