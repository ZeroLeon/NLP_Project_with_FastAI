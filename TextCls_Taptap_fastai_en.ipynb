{
  "nbformat": 4,
  "nbformat_minor": 0,
  "metadata": {
    "colab": {
      "name": "TextCls_Taptap_fastai_en.ipynb",
      "version": "0.3.2",
      "provenance": [],
      "include_colab_link": true
    },
    "kernelspec": {
      "name": "python3",
      "display_name": "Python 3"
    },
    "accelerator": "GPU"
  },
  "cells": [
    {
      "cell_type": "markdown",
      "metadata": {
        "id": "view-in-github",
        "colab_type": "text"
      },
      "source": [
        "<a href=\"https://colab.research.google.com/github/ZeroLeon/NLP_Project_with_FastAI/blob/master/TextCls_Taptap_fastai_en.ipynb\" target=\"_parent\"><img src=\"https://colab.research.google.com/assets/colab-badge.svg\" alt=\"Open In Colab\"/></a>"
      ]
    },
    {
      "cell_type": "markdown",
      "metadata": {
        "id": "Fgj18NnsNcmO",
        "colab_type": "text"
      },
      "source": [
        "# Text Clasiffication on Taptap reviews with fastai and Bert"
      ]
    },
    {
      "cell_type": "markdown",
      "metadata": {
        "id": "rhYxjRxIN1KE",
        "colab_type": "text"
      },
      "source": [
        "## Background\n",
        "- **Idea:** Nowadays mobile game plays a big role in the total income of China's internet giants such as Tencent or NetEase.  Players' reviews that indicating how people like the games may contain important information for predicting the trends of company's future performance. \n",
        "\n",
        "- **Data**:  [Taptap](https://taptap.com) is a famous mobile game community in China with player reviews and ratings. I scraped about 10000 player reviews under three hundred of games from Taptap as training and test dataset. \n",
        "\n",
        "## Project Overview:\n",
        "\n",
        "1. Data collection (from Taptap) \n",
        "2. Data Pre-Process (Clean, Drop, Transform) \n",
        "3. Data Process with fastai \n",
        "4. Fine-tune Model \n",
        "5. Check the model performance on Test dataset\n",
        "6. Use the model on similar texts in same domain. (from game platforms, forums, social media etc.) \n",
        "7. Evaluate the Result\n"
      ]
    },
    {
      "cell_type": "markdown",
      "metadata": {
        "id": "_4lPNfSpmZLe",
        "colab_type": "text"
      },
      "source": [
        "##Preparation"
      ]
    },
    {
      "cell_type": "code",
      "metadata": {
        "id": "d4UZGIHuo8At",
        "colab_type": "code",
        "colab": {}
      },
      "source": [
        "import numpy as np\n",
        "import pandas as pd\n",
        "from pathlib import Path\n",
        "import torch\n",
        "from fastai import *\n",
        "from fastai.vision import *\n",
        "from fastai.text import *\n",
        "from fastai.callbacks import *"
      ],
      "execution_count": 0,
      "outputs": []
    },
    {
      "cell_type": "code",
      "metadata": {
        "id": "hL_oAuOipwE5",
        "colab_type": "code",
        "colab": {}
      },
      "source": [
        "#Set up a config class to save or change the parameters \n",
        "class Config(dict):\n",
        "    def __init__(self, **kwargs):\n",
        "        super().__init__(**kwargs)\n",
        "        for k, v in kwargs.items():\n",
        "            setattr(self, k, v)\n",
        "    \n",
        "    def set(self, key, val):\n",
        "        self[key] = val\n",
        "        setattr(self, key, val)\n",
        "\n",
        "config = Config(\n",
        "    testing=False,\n",
        "    bert_model_name='bert-base-chinese', \n",
        "    max_lr=2e-5,#The recommended lr is 3e-5 in bert paper, but 2e-5 is better in this project\n",
        "    epochs=1,\n",
        "    use_fp16=False, #learner.to_fp16() Mixup precision can speedup training\n",
        "    bs=8,\n",
        "    max_seq_len=256, # Max sequence length in bert is 512\n",
        "    num_labels = 2 , # 0:negative, 1:positive. For this project.\n",
        ")"
      ],
      "execution_count": 0,
      "outputs": []
    },
    {
      "cell_type": "code",
      "metadata": {
        "id": "BXL8TebpqYpu",
        "colab_type": "code",
        "outputId": "dea9be23-653f-42df-ae07-587fbc9b16ba",
        "colab": {
          "base_uri": "https://localhost:8080/",
          "height": 125
        }
      },
      "source": [
        "#Load google drive\n",
        "import os \n",
        "from pathlib import Path\n",
        "from google.colab import drive\n",
        "drive.mount('/content/gdrive',force_remount = True)\n",
        "base_dir = '/content/gdrive/My Drive/fastai'\n",
        "path = Path(base_dir +'/data/taptap_comment')\n",
        "path.mkdir(parents=True,exist_ok=True)\n",
        "os.chdir(path)"
      ],
      "execution_count": 3,
      "outputs": [
        {
          "output_type": "stream",
          "text": [
            "Go to this URL in a browser: https://accounts.google.com/o/oauth2/auth?client_id=947318989803-6bn6qk8qdgf4n4g3pfee6491hc0brc4i.apps.googleusercontent.com&redirect_uri=urn%3Aietf%3Awg%3Aoauth%3A2.0%3Aoob&scope=email%20https%3A%2F%2Fwww.googleapis.com%2Fauth%2Fdocs.test%20https%3A%2F%2Fwww.googleapis.com%2Fauth%2Fdrive%20https%3A%2F%2Fwww.googleapis.com%2Fauth%2Fdrive.photos.readonly%20https%3A%2F%2Fwww.googleapis.com%2Fauth%2Fpeopleapi.readonly&response_type=code\n",
            "\n",
            "Enter your authorization code:\n",
            "··········\n",
            "Mounted at /content/gdrive\n"
          ],
          "name": "stdout"
        }
      ]
    },
    {
      "cell_type": "code",
      "metadata": {
        "id": "x0NBflrneNJb",
        "colab_type": "code",
        "colab": {
          "base_uri": "https://localhost:8080/",
          "height": 34
        },
        "outputId": "b5edb32c-b4ee-4e93-a23e-4f124f66aea0"
      },
      "source": [
        "pwd"
      ],
      "execution_count": 4,
      "outputs": [
        {
          "output_type": "execute_result",
          "data": {
            "text/plain": [
              "'/content/gdrive/My Drive/fastai/data/taptap_comment'"
            ]
          },
          "metadata": {
            "tags": []
          },
          "execution_count": 4
        }
      ]
    },
    {
      "cell_type": "code",
      "metadata": {
        "id": "RM-LV-h9ycd-",
        "colab_type": "code",
        "colab": {}
      },
      "source": [
        "!pip install pytorch_pretrained_bert"
      ],
      "execution_count": 0,
      "outputs": []
    },
    {
      "cell_type": "code",
      "metadata": {
        "id": "tepc3HOOefdb",
        "colab_type": "code",
        "colab": {}
      },
      "source": [
        ""
      ],
      "execution_count": 0,
      "outputs": []
    },
    {
      "cell_type": "markdown",
      "metadata": {
        "id": "B0m5hQuuo39K",
        "colab_type": "text"
      },
      "source": [
        "##Dataset\n",
        "\n"
      ]
    },
    {
      "cell_type": "markdown",
      "metadata": {
        "id": "WaTXaKJXep-B",
        "colab_type": "text"
      },
      "source": [
        "**Pre-Process:**\n",
        "- Data cleaning\n",
        "- Drop columns irrelevent \n",
        "- Drop NaN \n",
        "- Set reviews to positive (4 or 5 stars) and negtive (1,2,3 stars)\n",
        "- Set Min sequence length to filter text too short"
      ]
    },
    {
      "cell_type": "code",
      "metadata": {
        "id": "nSJgrESsfGjA",
        "colab_type": "code",
        "colab": {
          "base_uri": "https://localhost:8080/",
          "height": 343
        },
        "outputId": "c1a2c4a4-884d-4e18-c3ee-8c4c21fec9ad"
      },
      "source": [
        "#The processed test dataset\n",
        "df_test = pd.read_csv('taptap_test_ready.csv')\n",
        "df_test.head(10)"
      ],
      "execution_count": 10,
      "outputs": [
        {
          "output_type": "execute_result",
          "data": {
            "text/html": [
              "<div>\n",
              "<style scoped>\n",
              "    .dataframe tbody tr th:only-of-type {\n",
              "        vertical-align: middle;\n",
              "    }\n",
              "\n",
              "    .dataframe tbody tr th {\n",
              "        vertical-align: top;\n",
              "    }\n",
              "\n",
              "    .dataframe thead th {\n",
              "        text-align: right;\n",
              "    }\n",
              "</style>\n",
              "<table border=\"1\" class=\"dataframe\">\n",
              "  <thead>\n",
              "    <tr style=\"text-align: right;\">\n",
              "      <th></th>\n",
              "      <th>review</th>\n",
              "      <th>stars</th>\n",
              "      <th>sentiment</th>\n",
              "    </tr>\n",
              "  </thead>\n",
              "  <tbody>\n",
              "    <tr>\n",
              "      <th>0</th>\n",
              "      <td>关于游戏抄袭不抄袭的我不清楚也不想在这方面讲这游戏，玩这游戏一开始还觉得还算有趣，但初始就3...</td>\n",
              "      <td>width: 56px</td>\n",
              "      <td>1</td>\n",
              "    </tr>\n",
              "    <tr>\n",
              "      <th>1</th>\n",
              "      <td>游戏画风很清新，音乐也很轻快，操作简单，仅需靠划屏操作绕开障碍物和所谓天空守卫的视野范围来收...</td>\n",
              "      <td>width: 70px</td>\n",
              "      <td>1</td>\n",
              "    </tr>\n",
              "    <tr>\n",
              "      <th>2</th>\n",
              "      <td>别有新意的游戏。好可爱！一开始字幕闪得有些快（呃也可能是我没集中注意_(:з)∠)_）后来试...</td>\n",
              "      <td>width: 70px</td>\n",
              "      <td>1</td>\n",
              "    </tr>\n",
              "    <tr>\n",
              "      <th>3</th>\n",
              "      <td>大概玩了二十几分钟 一开始以为就是要从种子开始培养成大树的那种 出乎意料的好像给我上了一节生...</td>\n",
              "      <td>width: 56px</td>\n",
              "      <td>1</td>\n",
              "    </tr>\n",
              "    <tr>\n",
              "      <th>4</th>\n",
              "      <td>不要放弃挣扎，这款游戏我玩了很久，现在没玩了想回来找结果没得下载了，有个新游戏叫凡尘修仙的跟...</td>\n",
              "      <td>width: 70px</td>\n",
              "      <td>1</td>\n",
              "    </tr>\n",
              "    <tr>\n",
              "      <th>5</th>\n",
              "      <td>神回避一直是我玩过的最好玩的解谜游戏啦！游戏性真的太强，而且可以给主角使用任何拾取的道具，风...</td>\n",
              "      <td>width: 70px</td>\n",
              "      <td>1</td>\n",
              "    </tr>\n",
              "    <tr>\n",
              "      <th>6</th>\n",
              "      <td>给新玩家建议，1:想霸服，万元起步。2:大佬，五千以上3:精英玩家:三千左右4:游戏混子，首...</td>\n",
              "      <td>width: 42px</td>\n",
              "      <td>0</td>\n",
              "    </tr>\n",
              "    <tr>\n",
              "      <th>7</th>\n",
              "      <td>很喜欢，但是bug真的严重，卡死的问题跟其他玩家反馈的一样，不明原因的无法移动，对着可消除元...</td>\n",
              "      <td>width: 56px</td>\n",
              "      <td>1</td>\n",
              "    </tr>\n",
              "    <tr>\n",
              "      <th>8</th>\n",
              "      <td>好玩是好玩，可是会闪退。每次闪退后游戏进度就变成好几分钟前的样子了。我都忍了。直到我这次做任...</td>\n",
              "      <td>width: 56px</td>\n",
              "      <td>1</td>\n",
              "    </tr>\n",
              "    <tr>\n",
              "      <th>9</th>\n",
              "      <td>游戏本身是比较可爱的模拟经营玩法，主要是开甜品店，虽然我比较希望能在真实世界开个赛百味之类的...</td>\n",
              "      <td>width: 70px</td>\n",
              "      <td>1</td>\n",
              "    </tr>\n",
              "  </tbody>\n",
              "</table>\n",
              "</div>"
            ],
            "text/plain": [
              "                                              review        stars  sentiment\n",
              "0  关于游戏抄袭不抄袭的我不清楚也不想在这方面讲这游戏，玩这游戏一开始还觉得还算有趣，但初始就3...  width: 56px          1\n",
              "1  游戏画风很清新，音乐也很轻快，操作简单，仅需靠划屏操作绕开障碍物和所谓天空守卫的视野范围来收...  width: 70px          1\n",
              "2  别有新意的游戏。好可爱！一开始字幕闪得有些快（呃也可能是我没集中注意_(:з)∠)_）后来试...  width: 70px          1\n",
              "3  大概玩了二十几分钟 一开始以为就是要从种子开始培养成大树的那种 出乎意料的好像给我上了一节生...  width: 56px          1\n",
              "4  不要放弃挣扎，这款游戏我玩了很久，现在没玩了想回来找结果没得下载了，有个新游戏叫凡尘修仙的跟...  width: 70px          1\n",
              "5  神回避一直是我玩过的最好玩的解谜游戏啦！游戏性真的太强，而且可以给主角使用任何拾取的道具，风...  width: 70px          1\n",
              "6  给新玩家建议，1:想霸服，万元起步。2:大佬，五千以上3:精英玩家:三千左右4:游戏混子，首...  width: 42px          0\n",
              "7  很喜欢，但是bug真的严重，卡死的问题跟其他玩家反馈的一样，不明原因的无法移动，对着可消除元...  width: 56px          1\n",
              "8  好玩是好玩，可是会闪退。每次闪退后游戏进度就变成好几分钟前的样子了。我都忍了。直到我这次做任...  width: 56px          1\n",
              "9  游戏本身是比较可爱的模拟经营玩法，主要是开甜品店，虽然我比较希望能在真实世界开个赛百味之类的...  width: 70px          1"
            ]
          },
          "metadata": {
            "tags": []
          },
          "execution_count": 10
        }
      ]
    },
    {
      "cell_type": "code",
      "metadata": {
        "id": "RVqZ88FIgAh2",
        "colab_type": "code",
        "colab": {}
      },
      "source": [
        "# Training dataset\n",
        "df_train = pd.read_csv(path/'taptap_review_ready.csv')"
      ],
      "execution_count": 0,
      "outputs": []
    },
    {
      "cell_type": "code",
      "metadata": {
        "id": "4CVLnS3grEod",
        "colab_type": "code",
        "outputId": "2b0cc2ab-dd85-4e75-96bb-a76170e194e0",
        "colab": {
          "base_uri": "https://localhost:8080/",
          "height": 343
        }
      },
      "source": [
        "df_train.sample(10)"
      ],
      "execution_count": 12,
      "outputs": [
        {
          "output_type": "execute_result",
          "data": {
            "text/html": [
              "<div>\n",
              "<style scoped>\n",
              "    .dataframe tbody tr th:only-of-type {\n",
              "        vertical-align: middle;\n",
              "    }\n",
              "\n",
              "    .dataframe tbody tr th {\n",
              "        vertical-align: top;\n",
              "    }\n",
              "\n",
              "    .dataframe thead th {\n",
              "        text-align: right;\n",
              "    }\n",
              "</style>\n",
              "<table border=\"1\" class=\"dataframe\">\n",
              "  <thead>\n",
              "    <tr style=\"text-align: right;\">\n",
              "      <th></th>\n",
              "      <th>review</th>\n",
              "      <th>sentiment</th>\n",
              "    </tr>\n",
              "  </thead>\n",
              "  <tbody>\n",
              "    <tr>\n",
              "      <th>3445</th>\n",
              "      <td>联网的放置挂机游戏，游戏功能按钮很多，瞎玩的话开局很难成长。所以有QQ群里找开局攻略这么一说...</td>\n",
              "      <td>1</td>\n",
              "    </tr>\n",
              "    <tr>\n",
              "      <th>988</th>\n",
              "      <td>开服玩家，今天37级了，本想等平妖司里的功能出了再评论，因为觉得这个游戏还没做完。但等不及了...</td>\n",
              "      <td>0</td>\n",
              "    </tr>\n",
              "    <tr>\n",
              "      <th>2803</th>\n",
              "      <td>期待题材，就像问问战斗方式，如果像啪啪三国就好了，操作空间大。</td>\n",
              "      <td>1</td>\n",
              "    </tr>\n",
              "    <tr>\n",
              "      <th>3922</th>\n",
              "      <td>7.12算上原作加成我能给四星，不过单纯游戏而言三星吧。1.游戏模式明显可以看出来模仿火纹，...</td>\n",
              "      <td>0</td>\n",
              "    </tr>\n",
              "    <tr>\n",
              "      <th>1466</th>\n",
              "      <td>一个脑洞很大的游戏，对于我这种智商不够用的人，有些关不看攻略的话，估计永远也过不去了。不过有...</td>\n",
              "      <td>1</td>\n",
              "    </tr>\n",
              "    <tr>\n",
              "      <th>1512</th>\n",
              "      <td>刚开始见到这只有2.91MB的安装包时，我还以为自己下错了，进了一个假的官网，还下了个假的游...</td>\n",
              "      <td>1</td>\n",
              "    </tr>\n",
              "    <tr>\n",
              "      <th>3871</th>\n",
              "      <td>给个4星吧ԅ(¯ㅂ¯ԅ)游戏的想法是不错的，moba加放置（顺利条件吸水晶什么鬼）_(:з」...</td>\n",
              "      <td>1</td>\n",
              "    </tr>\n",
              "    <tr>\n",
              "      <th>3313</th>\n",
              "      <td>游戏总体上来说不错， 这游戏我也关注几个月了，那么现在我就稍稍的评价一下。首先，游戏画质很好...</td>\n",
              "      <td>0</td>\n",
              "    </tr>\n",
              "    <tr>\n",
              "      <th>4311</th>\n",
              "      <td>我進遊戲半天，一個人都沒，然後想觀戰，也是空空如也，一首涼涼送給這個遊戲</td>\n",
              "      <td>0</td>\n",
              "    </tr>\n",
              "    <tr>\n",
              "      <th>2811</th>\n",
              "      <td>从10点到现在体验了2个小时◆喜欢◆◇音乐好评，但是太单一◇UI界面好评，要是按钮能大一点就...</td>\n",
              "      <td>1</td>\n",
              "    </tr>\n",
              "  </tbody>\n",
              "</table>\n",
              "</div>"
            ],
            "text/plain": [
              "                                                 review  sentiment\n",
              "3445  联网的放置挂机游戏，游戏功能按钮很多，瞎玩的话开局很难成长。所以有QQ群里找开局攻略这么一说...          1\n",
              "988   开服玩家，今天37级了，本想等平妖司里的功能出了再评论，因为觉得这个游戏还没做完。但等不及了...          0\n",
              "2803                    期待题材，就像问问战斗方式，如果像啪啪三国就好了，操作空间大。          1\n",
              "3922  7.12算上原作加成我能给四星，不过单纯游戏而言三星吧。1.游戏模式明显可以看出来模仿火纹，...          0\n",
              "1466  一个脑洞很大的游戏，对于我这种智商不够用的人，有些关不看攻略的话，估计永远也过不去了。不过有...          1\n",
              "1512  刚开始见到这只有2.91MB的安装包时，我还以为自己下错了，进了一个假的官网，还下了个假的游...          1\n",
              "3871  给个4星吧ԅ(¯ㅂ¯ԅ)游戏的想法是不错的，moba加放置（顺利条件吸水晶什么鬼）_(:з」...          1\n",
              "3313  游戏总体上来说不错， 这游戏我也关注几个月了，那么现在我就稍稍的评价一下。首先，游戏画质很好...          0\n",
              "4311               我進遊戲半天，一個人都沒，然後想觀戰，也是空空如也，一首涼涼送給這個遊戲          0\n",
              "2811  从10点到现在体验了2个小时◆喜欢◆◇音乐好评，但是太单一◇UI界面好评，要是按钮能大一点就...          1"
            ]
          },
          "metadata": {
            "tags": []
          },
          "execution_count": 12
        }
      ]
    },
    {
      "cell_type": "code",
      "metadata": {
        "id": "gDnnn25drGmV",
        "colab_type": "code",
        "outputId": "d63a4f48-c8d8-485d-8a1d-f849cf892645",
        "colab": {
          "base_uri": "https://localhost:8080/",
          "height": 70
        }
      },
      "source": [
        "label_representation = {1:'positive',0:'negative'}\n",
        "df_train.sentiment.value_counts()"
      ],
      "execution_count": 13,
      "outputs": [
        {
          "output_type": "execute_result",
          "data": {
            "text/plain": [
              "0    2458\n",
              "1    2430\n",
              "Name: sentiment, dtype: int64"
            ]
          },
          "metadata": {
            "tags": []
          },
          "execution_count": 13
        }
      ]
    },
    {
      "cell_type": "markdown",
      "metadata": {
        "id": "SaBsLdUc-XbK",
        "colab_type": "text"
      },
      "source": [
        "Training dataset is balanced."
      ]
    },
    {
      "cell_type": "code",
      "metadata": {
        "id": "6zLvWHKmjMAG",
        "colab_type": "code",
        "colab": {}
      },
      "source": [
        ""
      ],
      "execution_count": 0,
      "outputs": []
    },
    {
      "cell_type": "markdown",
      "metadata": {
        "id": "M_FlRHAluxfR",
        "colab_type": "text"
      },
      "source": [
        "##Using BERT with fast.ai"
      ]
    },
    {
      "cell_type": "markdown",
      "metadata": {
        "id": "reutbe8lvLhg",
        "colab_type": "text"
      },
      "source": [
        "**A few things need to be noticed in fast.ai and Bert：**\n",
        "\n",
        "\n",
        "\n",
        "1.   Bert has its own wordpiece tokenizer, Anne already showed that.\n",
        "2.   Bert uses token [CLS] 和 [SEP] to mark sequences, this conflicts with bos(begin of string) and eos in fastai , that's why we have \"include_eos=Fasle\" later.\n",
        "3.   Bert has it's own vocabulary. For Chinese pre-trained Model,  the vocab is based on Characters, not on words.\n",
        "\n",
        "Thanks to [A Tutorial to Fine-Tuning BERT with Fast AI](http://mlexplained.com/2019/05/13/a-tutorial-to-fine-tuning-bert-with-fast-ai/) , some codes here is borrowed from this article."
      ]
    },
    {
      "cell_type": "code",
      "metadata": {
        "id": "slOdsg-VrPl9",
        "colab_type": "code",
        "outputId": "6ceae1b4-89e2-4958-eed3-7360701ba3ac",
        "colab": {
          "base_uri": "https://localhost:8080/",
          "height": 34
        }
      },
      "source": [
        "#Import the tokenizer\n",
        "from pytorch_pretrained_bert import BertTokenizer\n",
        "bert_tok = BertTokenizer.from_pretrained(\n",
        "    config.bert_model_name,\n",
        ")"
      ],
      "execution_count": 14,
      "outputs": [
        {
          "output_type": "stream",
          "text": [
            "100%|██████████| 109540/109540 [00:00<00:00, 657068.62B/s]\n"
          ],
          "name": "stderr"
        }
      ]
    },
    {
      "cell_type": "code",
      "metadata": {
        "id": "ycnfNCDDlEgo",
        "colab_type": "code",
        "colab": {
          "base_uri": "https://localhost:8080/",
          "height": 334
        },
        "outputId": "fe64e8b5-a7e1-482b-b508-72380bbff8f4"
      },
      "source": [
        "bert_tok.tokenize('哈尔滨简称哈市，别名冰城、東方莫斯科')"
      ],
      "execution_count": 17,
      "outputs": [
        {
          "output_type": "execute_result",
          "data": {
            "text/plain": [
              "['哈',\n",
              " '尔',\n",
              " '滨',\n",
              " '简',\n",
              " '称',\n",
              " '哈',\n",
              " '市',\n",
              " '，',\n",
              " '别',\n",
              " '名',\n",
              " '冰',\n",
              " '城',\n",
              " '、',\n",
              " '東',\n",
              " '方',\n",
              " '莫',\n",
              " '斯',\n",
              " '科']"
            ]
          },
          "metadata": {
            "tags": []
          },
          "execution_count": 17
        }
      ]
    },
    {
      "cell_type": "code",
      "metadata": {
        "id": "AS_5-SF8uVKE",
        "colab_type": "code",
        "colab": {}
      },
      "source": [
        "class FastAiBertTokenizer(BaseTokenizer):\n",
        "    \"\"\"Wrapper around BertTokenizer to be compatible with fast.ai\"\"\"\n",
        "    def __init__(self, tokenizer: BertTokenizer, max_seq_len: int=128, **kwargs):\n",
        "        self._pretrained_tokenizer = tokenizer\n",
        "        self.max_seq_len = max_seq_len\n",
        "\n",
        "    def __call__(self, *args, **kwargs):\n",
        "        return self\n",
        "\n",
        "    def tokenizer(self, t:str) -> List[str]:\n",
        "        \"\"\"Limits the maximum sequence length\"\"\"\n",
        "        return [\"[CLS]\"] + self._pretrained_tokenizer.tokenize(t)[:self.max_seq_len - 2] + [\"[SEP]\"]"
      ],
      "execution_count": 0,
      "outputs": []
    },
    {
      "cell_type": "code",
      "metadata": {
        "id": "Jb7UD6bsy9ff",
        "colab_type": "code",
        "colab": {}
      },
      "source": [
        "fastai_tokenizer = Tokenizer(\n",
        "    tok_func=FastAiBertTokenizer(bert_tok, max_seq_len=config.max_seq_len), \n",
        "    pre_rules=[], \n",
        "    post_rules=[]\n",
        ")"
      ],
      "execution_count": 0,
      "outputs": []
    },
    {
      "cell_type": "code",
      "metadata": {
        "id": "6vuPpAa2zA4b",
        "colab_type": "code",
        "outputId": "fed35167-9c60-43dd-82e6-7b33b5208b65",
        "colab": {
          "base_uri": "https://localhost:8080/",
          "height": 193
        }
      },
      "source": [
        "#check the vocab\n",
        "list(bert_tok.vocab.items())[2100:2110]"
      ],
      "execution_count": 22,
      "outputs": [
        {
          "output_type": "execute_result",
          "data": {
            "text/plain": [
              "[('存', 2100),\n",
              " ('孙', 2101),\n",
              " ('孚', 2102),\n",
              " ('孛', 2103),\n",
              " ('孜', 2104),\n",
              " ('孝', 2105),\n",
              " ('孟', 2106),\n",
              " ('孢', 2107),\n",
              " ('季', 2108),\n",
              " ('孤', 2109)]"
            ]
          },
          "metadata": {
            "tags": []
          },
          "execution_count": 22
        }
      ]
    },
    {
      "cell_type": "code",
      "metadata": {
        "id": "YrZ1eBVYzLVl",
        "colab_type": "code",
        "colab": {}
      },
      "source": [
        "fastai_bert_vocab = Vocab(list(bert_tok.vocab.keys()))"
      ],
      "execution_count": 0,
      "outputs": []
    },
    {
      "cell_type": "code",
      "metadata": {
        "id": "yESB-MS8msNH",
        "colab_type": "code",
        "colab": {}
      },
      "source": [
        ""
      ],
      "execution_count": 0,
      "outputs": []
    },
    {
      "cell_type": "markdown",
      "metadata": {
        "id": "iaOBPYWc0YD7",
        "colab_type": "text"
      },
      "source": [
        "##Setup and Save Databunch"
      ]
    },
    {
      "cell_type": "code",
      "metadata": {
        "id": "b40LiZlmzhwQ",
        "colab_type": "code",
        "colab": {}
      },
      "source": [
        "#Split training and validation set, set random_state to ensure repeatability \n",
        "from sklearn.model_selection import train_test_split\n",
        "train_df, valid_df = train_test_split(df_train,random_state=42)"
      ],
      "execution_count": 0,
      "outputs": []
    },
    {
      "cell_type": "code",
      "metadata": {
        "id": "D8NSEr9M0xsU",
        "colab_type": "code",
        "colab": {}
      },
      "source": [
        "#When dataset is large, we can use small subset to test it quickly\n",
        "if config.testing:\n",
        "  train = train_df.head(1024)\n",
        "  valid = valid_df.head(1024)\n",
        "else:\n",
        "  train = train_df\n",
        "  valid = valid_df"
      ],
      "execution_count": 0,
      "outputs": []
    },
    {
      "cell_type": "code",
      "metadata": {
        "id": "ynVajxpF1KPf",
        "colab_type": "code",
        "outputId": "84b34e1e-a520-417a-885b-4c12b78c4dcd",
        "colab": {
          "base_uri": "https://localhost:8080/",
          "height": 52
        }
      },
      "source": [
        "print(train.shape)\n",
        "print(valid.shape)"
      ],
      "execution_count": 27,
      "outputs": [
        {
          "output_type": "stream",
          "text": [
            "(3666, 2)\n",
            "(1222, 2)\n"
          ],
          "name": "stdout"
        }
      ]
    },
    {
      "cell_type": "code",
      "metadata": {
        "id": "e97owCA92Caf",
        "colab_type": "code",
        "colab": {}
      },
      "source": [
        "text_cols  = ['review']\n",
        "label_cols = ['sentiment']"
      ],
      "execution_count": 0,
      "outputs": []
    },
    {
      "cell_type": "code",
      "metadata": {
        "id": "zU-o1sSc1OPu",
        "colab_type": "code",
        "colab": {}
      },
      "source": [
        "#建立 TextDataBunch\n",
        "databunch = TextClasDataBunch.from_df(\".\", train, valid, df_test,\n",
        "                  tokenizer=fastai_tokenizer,\n",
        "                  vocab=fastai_bert_vocab,\n",
        "                  include_bos=False,\n",
        "                  include_eos=False,\n",
        "                  text_cols= text_cols,\n",
        "                  label_cols= label_cols,\n",
        "                  bs=config.bs,\n",
        "                  collate_fn=partial(pad_collate, pad_first=False, pad_idx=0),\n",
        "             )"
      ],
      "execution_count": 0,
      "outputs": []
    },
    {
      "cell_type": "code",
      "metadata": {
        "id": "zndvc0LA2gZu",
        "colab_type": "code",
        "outputId": "f3ee98d9-0ded-487a-e724-7c0ad8f165d7",
        "colab": {
          "base_uri": "https://localhost:8080/",
          "height": 279
        }
      },
      "source": [
        "databunch.show_batch(5)"
      ],
      "execution_count": 31,
      "outputs": [
        {
          "output_type": "display_data",
          "data": {
            "text/html": [
              "<table border=\"1\" class=\"dataframe\">\n",
              "  <thead>\n",
              "    <tr style=\"text-align: right;\">\n",
              "      <th>text</th>\n",
              "      <th>target</th>\n",
              "    </tr>\n",
              "  </thead>\n",
              "  <tbody>\n",
              "    <tr>\n",
              "      <td>[CLS] 我 觉 得 二 测 就 是 你 们 找 削 吧 。 。 。 。 之 前 ( 一 测 ) 都 说 过 ， 火 柴 皮 肤 价 格 有 些 高 了 ， 你 还 来 ， 阿 可 斯 的 2017 ! 我 不 知 道 怎 么 说 ， 你 皮 肤 有 属 性 加 成 的 好 吧 ! 其 它</td>\n",
              "      <td>0</td>\n",
              "    </tr>\n",
              "    <tr>\n",
              "      <td>[CLS] 试 玩 了 下 ， 开 始 想 着 按 自 己 的 想 法 走 ， 把 1 房 的 人 给 救 了 ， 但 后 来 女 儿 生 病 了 ， 高 昂 的 医 疗 费 不 得 不 让 我 开 始 敲 诈 房 客 ， 不 得 不 按 着 部 长 的 话 做 ， 但 最 后 换 来</td>\n",
              "      <td>1</td>\n",
              "    </tr>\n",
              "    <tr>\n",
              "      <td>[CLS] 周 年 祭 。 广 告 说 的 很 好 。 佛 性 游 戏 确 实 太 佛 了 。 这 么 说 ， 一 个 礼 包 64 ##8 ， 含 有 80 高 抽 。 结 果 这 80 高 抽 可 以 抽 到 什 么 呢 ？ 可 以 抽 到 三 星 一 堆 一 堆 有 一 堆 。 四 星 几</td>\n",
              "      <td>0</td>\n",
              "    </tr>\n",
              "    <tr>\n",
              "      <td>[CLS] 肝 了 挺 长 时 间 了 ， 但 ta ##p 就 是 不 给 我 算 上 游 戏 时 间 - _ - | | 像 素 风 从 来 就 是 我 很 喜 欢 的 风 格 ， 冲 这 先 给 个 第 一 印 象 的 好 评 刚 进 入 游 戏 ， 新 手 指 导 也 挺 人 性 化</td>\n",
              "      <td>1</td>\n",
              "    </tr>\n",
              "    <tr>\n",
              "      <td>[CLS] 虽 然 常 年 沉 迷 各 种 益 智 游 戏 但 是 依 旧 智 障 的 我 [UNK] [UNK] [UNK] （ 就 算 天 天 玩 也 还 是 并 不 能 获 得 高 分 ） 消 除 玩 法 的 创 意 很 棒 ！ 以 前 没 有 见 过 同 款 的 极 简 风 格 也 非 常 讨 喜 ！</td>\n",
              "      <td>1</td>\n",
              "    </tr>\n",
              "  </tbody>\n",
              "</table>"
            ],
            "text/plain": [
              "<IPython.core.display.HTML object>"
            ]
          },
          "metadata": {
            "tags": []
          }
        }
      ]
    },
    {
      "cell_type": "code",
      "metadata": {
        "id": "HclWXsrx4Ypn",
        "colab_type": "code",
        "outputId": "3800a4e1-47a6-43f0-8a76-e8a50fed845c",
        "colab": {
          "base_uri": "https://localhost:8080/",
          "height": 142
        }
      },
      "source": [
        "databunch.train_ds.get_state"
      ],
      "execution_count": 40,
      "outputs": [
        {
          "output_type": "execute_result",
          "data": {
            "text/plain": [
              "<bound method LabelList.get_state of LabelList (3666 items)\n",
              "x: TextList\n",
              "[CLS] 虽 然 掉 王 者 260 杯 了 但 实 力 偏 上 吧 我 想 发 表 几 个 观 点 不 喜 勿 喷 第 一 翠 竹 棒 特 点 是 铁 链 很 硬 但 是 一 块 石 头 一 下 子 就 能 砸 烂 两 根 而 且 15 跟 翠 竹 需 要 250 香 蕉 。 比 它 好 用 2 倍 的 * * * 才 200 香 蕉 好 吧 ， 前 期 解 锁 了 翠 竹 的 朋 友 相 信 跟 我 小 号 一 样 玩 不 走 了 第 二 钢 筋 版 这 么 说 吧 钢 筋 绳 子 比 翠 竹 的 铁 链 硬 板 子 比 合 金 版 强 今 天 有 幸 碰 到 过 一 个 用 钢 筋 版 的 玩 家 我 用 松 鼠 打 了 5 个 回 合 板 子 才 裂 一 点 小 缝 比 武 士 棍 实 用 3 倍 但 是 制 造 价 格 很 贵 ， 4000 香 蕉 15 根 贫 民 必 定 用 不 起 ， 所 以 匹 配 到 钢 筋 的 别 尝 试 割 绳 子 啃 板 子 了 直 接 退 游 重 来 吧 第 三 这 游 戏 现 在 我 一 天 玩 不 过 20 分 钟 了 香 蕉 不 够 用 用 低 级 板 子 跟 送 分 没 多 大 区 [SEP],[CLS] 调 戏 完 客 服 小 哥 哥 决 定 给 个 五 星 好 评 ( [UNK] • [UNK] • [UNK] ) [UNK] . 衔 接 不 太 好 ， 会 卡 ， 2 . 界 面 过 于 简 单 ， 可 以 丰 富 下 颜 色 ， 多 点 小 形 象 ， 3 . 熟 悉 的 游 戏 套 路 ， 只 不 过 又 有 了 一 个 叫 做 氧 气 瓶 的 东 西 ， 4 . 可 玩 性 有 待 提 高 ， 加 点 难 度 打 几 个 小 怪 是 个 好 套 路 ， 5 . 画 质 优 化 一 下 会 比 较 好 ， 颜 色 丰 富 一 些 ， 6 . 可 以 氪 金 提 高 装 备 ， 补 充 装 备 之 类 的 ， 7 . 声 优 很 简 单 的 ~ 有 点 傻 ， 希 望 有 更 多 的 人 物 形 象 ， 角 色 不 要 太 僵 硬 ， 出 一 些 立 绘 ， 皮 肤 也 是 很 好 的 氪 金 选 择 。 （ 别 打 我 ， 我 知 道 我 有 时 候 评 论 扣 分 很 多 [UNK] _ > [UNK] ） 修 改 ： 客 服 小 哥 哥 超 级 好 玩 ， 可 调 戏 ！ ！ ！ 真 哒 ！ 超 好 玩 ！ [SEP],[CLS] 【 前 方 高 能 ！ ！ 】 【 猫 奴 福 利 ！ ！ ！ 】 我 。 。 。 我 的 天 啊 ！ ！ ！ ！ σ ( ･ ω ･ ﾉ ) ﾉ 好 多 猫 。 。 。 好 多 猫 。 。 好 多 好 多 猫 ！ ！ ！ ( [UNK] • ω • [UNK] ) 让 我 吸 死 过 去 吧 。 。 。 ！ ！ ！ ( [UNK] > ω < * [UNK] ) 这 游 戏 的 画 风 ， 贼 萌 啊 ！ ！ ！ ε = = ( つ ′ ▽ [UNK] ) つ 我 想 象 了 一 下 b ##gm 应 该 也 是 很 好 听 的 ！ ！ [UNK] * ｡ [UNK] ( ˊ ##ω ##ˋ * ) [UNK] * ｡ 还 可 以 搜 集 猫 的 吧 ！ ！ 对 吧 ！ ！ 对 吧 ！ ！ ( ﾟ ##д ##ﾟ ##≡ ##ﾟ ##д ##ﾟ ) 这 个 游 戏 难 道 不 是 在 说 喵 星 人 要 占 领 世 界 么 ？ 嗯 ？ ( [UNK] , , • ∀ • , , [UNK] ) 我 真 的 。 超 。 级 。 无 。 敌 。 好 。 期 。 待 。 啊 ！ ！ ！ ！ [UNK] ( [UNK] ) [UNK] 撸 猫 撸 到 昏 厥 ( [UNK] , , • ∀ • , , [UNK] ) 5 星 期 待 ！ ！ ！ ！ ！ ！ [UNK] [SEP],[CLS] 迷 你 世 界 ？ 打 着 我 的 世 界 的 名 号 蹭 热 度 ？ dog 东 西 越 来 越 不 要 脸 了 哈 [UNK] [SEP],[CLS] 魔 女 兵 器 的 正 确 游 戏 方 式 : 1 ， 找 个 活 动 时 间 入 坑 ， 狂 肝 一 个 活 动 周 期 ， 达 到 基 本 适 应 活 动 强 度 ， 然 后 蹭 活 动 在 最 后 的 时 间 里 不 断 变 强 2 ， 活 动 结 束 后 ， 将 一 些 必 要 的 魔 女 们 提 升 一 下 ， 到 感 觉 再 有 这 样 的 活 动 可 以 真 正 跟 上 的 程 度 3 ， 卸 载 游 戏 4 ， 打 开 官 网 ， 看 看 更 新 和 活 动 有 没 有 公 告 5 ， 没 有 公 告 ， 关 闭 6 ， 还 是 没 有 ， 关 闭 [UNK] 99 ， 游 戏 更 新 ！ 武 器 复 刻 ！ 活 动 池 子 ！ 魔 女 兵 器 ， 下 载 ！ 进 入 游 戏 ！ 咸 鱼 突 刺 ！ [SEP]\n",
              "y: CategoryList\n",
              "1,1,1,0,1\n",
              "Path: .>"
            ]
          },
          "metadata": {
            "tags": []
          },
          "execution_count": 40
        }
      ]
    },
    {
      "cell_type": "code",
      "metadata": {
        "id": "p3OsFW1N0zWQ",
        "colab_type": "code",
        "colab": {
          "base_uri": "https://localhost:8080/",
          "height": 142
        },
        "outputId": "368e01b0-ee15-4d64-a79d-dc6ba8965929"
      },
      "source": [
        "databunch.test_ds.get_state"
      ],
      "execution_count": 65,
      "outputs": [
        {
          "output_type": "execute_result",
          "data": {
            "text/plain": [
              "<bound method LabelList.get_state of LabelList (5336 items)\n",
              "x: TextList\n",
              "[CLS] 关 于 游 戏 抄 袭 不 抄 袭 的 我 不 清 楚 也 不 想 在 这 方 面 讲 这 游 戏 ， 玩 这 游 戏 一 开 始 还 觉 得 还 算 有 趣 ， 但 初 始 就 3 个 角 色 虽 然 说 这 三 角 色 都 还 行 但 感 觉 平 衡 性 不 是 特 别 好 ， 然 后 就 是 游 戏 过 程 中 有 部 分 玩 家 挂 机 ( 虽 然 说 不 是 公 测 但 这 样 的 行 为 还 是 要 有 相 关 的 系 统 给 挂 机 玩 家 予 以 惩 罚 ) ， 并 且 在 游 戏 中 我 逐 渐 发 现 有 些 奇 怪 的 玩 家 ( 拥 有 昂 贵 的 英 雄 ， 各 式 各 样 的 皮 肤 ， 能 直 接 看 出 草 丛 里 有 没 有 人 的 一 类 玩 家 ) ， 他 们 甚 至 会 在 草 被 炸 掉 的 草 上 不 动 回 血 ， 慢 慢 我 发 现 这 是 人 机 ， 一 开 始 我 还 是 比 较 理 解 的 ， 因 为 游 戏 玩 家 不 是 特 别 多 会 导 致 部 分 时 段 匹 配 时 间 长 ， 安 排 人 机 也 可 以 提 高 刚 入 门 玩 家 的 [SEP],[CLS] 游 戏 画 风 很 清 新 ， 音 乐 也 很 轻 快 ， 操 作 简 单 ， 仅 需 靠 划 屏 操 作 绕 开 障 碍 物 和 所 谓 天 空 守 卫 的 视 野 范 围 来 收 集 物 品 进 行 通 关 。 对 于 频 繁 自 动 弹 出 的 广 告 我 表 示 理 解 ， 毕 竟 都 是 要 恰 饭 的 。 游 戏 唯 一 美 中 不 足 的 就 是 难 度 太 低 ， 后 边 无 尽 模 式 反 而 显 得 多 余 ， 希 望 提 高 游 戏 的 难 度 和 地 图 的 数 量 。 [SEP],[CLS] 别 有 新 意 的 游 戏 。 好 可 爱 ！ 一 开 始 字 幕 闪 得 有 些 快 （ 呃 也 可 能 是 我 没 集 中 注 意 _ ( : з ) ∠ ) _ ） 后 来 试 着 点 了 两 下 突 然 就 了 然 啦 ， 立 马 觉 得 超 可 爱 ！ 小 小 的 机 器 人 攻 击 大 大 小 小 的 眼 睛 （ ？ ） 怪 物 考 验 操 作 哦 不 过 静 下 心 来 多 来 几 次 身 为 手 残 党 的 我 应 该 也 能 通 关 吧 _ ( : з ) ∠ ) _ [SEP],[CLS] 大 概 玩 了 二 十 几 分 钟 一 开 始 以 为 就 是 要 从 种 子 开 始 培 养 成 大 树 的 那 种 出 乎 意 料 的 好 像 给 我 上 了 一 节 生 物 课 . . ？ 游 戏 风 格 也 不 错 看 着 舒 服 不 同 画 面 也 有 不 同 的 背 景 音 乐 总 体 ok 但 如 果 安 装 是 为 了 玩 的 话 还 是 算 了 哈 哈 哈 （ 个 人 觉 得 知 识 做 成 游 戏 莫 名 好 记 好 理 解 很 多 这 点 好 评 ！ ） [SEP],[CLS] 不 要 放 弃 挣 扎 ， 这 款 游 戏 我 玩 了 很 久 ， 现 在 没 玩 了 想 回 来 找 结 果 没 得 下 载 了 ， 有 个 新 游 戏 叫 凡 尘 修 仙 的 跟 你 们 很 像 的 创 意 ， 但 我 认 为 是 抄 袭 ， 还 是 老 寒 腿 让 我 印 象 深 刻 [SEP]\n",
              "y: EmptyLabelList\n",
              ",,,,\n",
              "Path: .>"
            ]
          },
          "metadata": {
            "tags": []
          },
          "execution_count": 65
        }
      ]
    },
    {
      "cell_type": "code",
      "metadata": {
        "id": "AVsyxJlk6V6V",
        "colab_type": "code",
        "colab": {}
      },
      "source": [
        "databunch.save(path/'taptap_databunch.pkl')"
      ],
      "execution_count": 0,
      "outputs": []
    },
    {
      "cell_type": "code",
      "metadata": {
        "id": "3yles50ajMan",
        "colab_type": "code",
        "colab": {}
      },
      "source": [
        ""
      ],
      "execution_count": 0,
      "outputs": []
    },
    {
      "cell_type": "markdown",
      "metadata": {
        "id": "Bk8aJ5cUp4Y5",
        "colab_type": "text"
      },
      "source": [
        "## Model"
      ]
    },
    {
      "cell_type": "code",
      "metadata": {
        "id": "ErDffwsU4kJP",
        "colab_type": "code",
        "outputId": "9ff1b5fc-9044-4b4b-e214-16939fc918bc",
        "colab": {
          "base_uri": "https://localhost:8080/",
          "height": 72
        }
      },
      "source": [
        "# We can also use pytorch hub to import bert-pretrained model\n",
        "\n",
        "bert_model = torch.hub.load('huggingface/pytorch-pretrained-BERT', \n",
        "                            'bertForSequenceClassification', \n",
        "                             config.bert_model_name, \n",
        "                             num_labels=config.num_labels)"
      ],
      "execution_count": 42,
      "outputs": [
        {
          "output_type": "stream",
          "text": [
            "Downloading: \"https://github.com/huggingface/pytorch-pretrained-BERT/archive/master.zip\" to /root/.cache/torch/hub/master.zip\n",
            "100%|██████████| 382072689/382072689 [00:15<00:00, 25414730.89B/s]\n"
          ],
          "name": "stderr"
        }
      ]
    },
    {
      "cell_type": "code",
      "metadata": {
        "id": "79s7zgem5rXa",
        "colab_type": "code",
        "colab": {}
      },
      "source": [
        "bert_model.eval()"
      ],
      "execution_count": 0,
      "outputs": []
    },
    {
      "cell_type": "code",
      "metadata": {
        "id": "9IdbsaLV5cFQ",
        "colab_type": "code",
        "colab": {}
      },
      "source": [
        "#Loss function for multiclass problem\n",
        "loss_func = nn.CrossEntropyLoss()"
      ],
      "execution_count": 0,
      "outputs": []
    },
    {
      "cell_type": "code",
      "metadata": {
        "id": "GoKtSvB96QcX",
        "colab_type": "code",
        "colab": {}
      },
      "source": [
        "learner = Learner(\n",
        "    databunch, \n",
        "    bert_model,\n",
        "    loss_func=loss_func,\n",
        "    metrics=[accuracy]\n",
        ")"
      ],
      "execution_count": 0,
      "outputs": []
    },
    {
      "cell_type": "code",
      "metadata": {
        "id": "DkPUv3ng6yMR",
        "colab_type": "code",
        "outputId": "8e667183-b668-4a4d-920e-7b781f4706f9",
        "colab": {
          "base_uri": "https://localhost:8080/",
          "height": 34
        }
      },
      "source": [
        "learner.lr_find()"
      ],
      "execution_count": 46,
      "outputs": [
        {
          "output_type": "display_data",
          "data": {
            "text/html": [
              ""
            ],
            "text/plain": [
              "<IPython.core.display.HTML object>"
            ]
          },
          "metadata": {
            "tags": []
          }
        },
        {
          "output_type": "stream",
          "text": [
            "LR Finder is complete, type {learner_name}.recorder.plot() to see the graph.\n"
          ],
          "name": "stdout"
        }
      ]
    },
    {
      "cell_type": "code",
      "metadata": {
        "id": "hzaQDE6l60-Q",
        "colab_type": "code",
        "colab": {}
      },
      "source": [
        "learner.recorder.plot(skip_end=10)"
      ],
      "execution_count": 0,
      "outputs": []
    },
    {
      "cell_type": "code",
      "metadata": {
        "id": "9ehMQQfu7GAT",
        "colab_type": "code",
        "outputId": "d023fde4-512b-470a-f490-a07567b0b957",
        "colab": {
          "base_uri": "https://localhost:8080/",
          "height": 77
        }
      },
      "source": [
        "#Start training\n",
        "learner.fit_one_cycle(config.epochs, max_lr=config.max_lr)"
      ],
      "execution_count": 49,
      "outputs": [
        {
          "output_type": "display_data",
          "data": {
            "text/html": [
              "<table border=\"1\" class=\"dataframe\">\n",
              "  <thead>\n",
              "    <tr style=\"text-align: left;\">\n",
              "      <th>epoch</th>\n",
              "      <th>train_loss</th>\n",
              "      <th>valid_loss</th>\n",
              "      <th>accuracy</th>\n",
              "      <th>time</th>\n",
              "    </tr>\n",
              "  </thead>\n",
              "  <tbody>\n",
              "    <tr>\n",
              "      <td>0</td>\n",
              "      <td>0.414134</td>\n",
              "      <td>0.411563</td>\n",
              "      <td>0.825696</td>\n",
              "      <td>05:44</td>\n",
              "    </tr>\n",
              "  </tbody>\n",
              "</table>"
            ],
            "text/plain": [
              "<IPython.core.display.HTML object>"
            ]
          },
          "metadata": {
            "tags": []
          }
        }
      ]
    },
    {
      "cell_type": "code",
      "metadata": {
        "id": "kSAvl01AroM1",
        "colab_type": "code",
        "colab": {}
      },
      "source": [
        "learner.save('stage1')"
      ],
      "execution_count": 0,
      "outputs": []
    },
    {
      "cell_type": "code",
      "metadata": {
        "id": "0E11BOoCtMS_",
        "colab_type": "code",
        "colab": {
          "base_uri": "https://localhost:8080/",
          "height": 136
        },
        "outputId": "82be3615-11fd-4cd9-ba2f-bf35c0dfc54a"
      },
      "source": [
        "learner.fit_one_cycle(3, max_lr=config.max_lr)"
      ],
      "execution_count": 111,
      "outputs": [
        {
          "output_type": "display_data",
          "data": {
            "text/html": [
              "<table border=\"1\" class=\"dataframe\">\n",
              "  <thead>\n",
              "    <tr style=\"text-align: left;\">\n",
              "      <th>epoch</th>\n",
              "      <th>train_loss</th>\n",
              "      <th>valid_loss</th>\n",
              "      <th>accuracy</th>\n",
              "      <th>time</th>\n",
              "    </tr>\n",
              "  </thead>\n",
              "  <tbody>\n",
              "    <tr>\n",
              "      <td>0</td>\n",
              "      <td>0.424804</td>\n",
              "      <td>0.445691</td>\n",
              "      <td>0.798691</td>\n",
              "      <td>05:15</td>\n",
              "    </tr>\n",
              "    <tr>\n",
              "      <td>1</td>\n",
              "      <td>0.286135</td>\n",
              "      <td>0.483049</td>\n",
              "      <td>0.813421</td>\n",
              "      <td>05:23</td>\n",
              "    </tr>\n",
              "    <tr>\n",
              "      <td>2</td>\n",
              "      <td>0.123566</td>\n",
              "      <td>0.565216</td>\n",
              "      <td>0.809329</td>\n",
              "      <td>05:46</td>\n",
              "    </tr>\n",
              "  </tbody>\n",
              "</table>"
            ],
            "text/plain": [
              "<IPython.core.display.HTML object>"
            ]
          },
          "metadata": {
            "tags": []
          }
        }
      ]
    },
    {
      "cell_type": "markdown",
      "metadata": {
        "id": "SEj01Ky-HP2B",
        "colab_type": "text"
      },
      "source": [
        "Usually it takes several epochs to get a pretty good result"
      ]
    },
    {
      "cell_type": "code",
      "metadata": {
        "id": "N8ks3ssM4c1E",
        "colab_type": "code",
        "colab": {}
      },
      "source": [
        "#Get predictions of test dataset in order\n",
        "def get_preds_ordered(ds_type,learner = learner):\n",
        "    \"\"\"\n",
        "    The get_preds method does not yield the elements in order by default\n",
        "    we borrow the code from the RNNLearner to resort the elements into their correct order\n",
        "    \"\"\"\n",
        "    preds = learner.get_preds(ds_type)[0].detach().cpu().numpy()\n",
        "    sampler = [i for i in databunch.dl(ds_type).sampler]\n",
        "    reverse_sampler = np.argsort(sampler)\n",
        "    return preds[reverse_sampler, :]"
      ],
      "execution_count": 0,
      "outputs": []
    },
    {
      "cell_type": "code",
      "metadata": {
        "id": "CcRa6hU-dTR7",
        "colab_type": "code",
        "colab": {}
      },
      "source": [
        "# Setup a function to get metrics of test dataset\n",
        "from sklearn.metrics import accuracy_score,f1_score\n",
        "\n",
        "def print_test_metrics(true_labels,learner = learner):\n",
        "  preds = get_preds_ordered(DatasetType.Test,learner)\n",
        "  pred_values = np.argmax(preds, axis = 1)\n",
        "  acc, f1s = accuracy_score(true_labels,pred_values),f1_score(true_labels,pred_values)\n",
        "  print(f'The accuracy is {round(acc*100,2)}%, the f1_score is {round(f1s*100,2)}%')"
      ],
      "execution_count": 0,
      "outputs": []
    },
    {
      "cell_type": "code",
      "metadata": {
        "colab_type": "code",
        "id": "V7KXNos5eXBa",
        "colab": {}
      },
      "source": [
        "# preds = get_preds_ordered(DataseType.Test)\n",
        "# pred_values = np.argmax(preds,axis=1)\n",
        "# acc, f1s = accuracy_score(true_labels,pred_values),f1_score(true_labels,pred_values)\n",
        "# print(f'The accuracy is {round(acc*100,2)}%, the f1_score is {round(f1s*100,2)}%')"
      ],
      "execution_count": 0,
      "outputs": []
    },
    {
      "cell_type": "code",
      "metadata": {
        "id": "XqmbKVEp2Nbj",
        "colab_type": "code",
        "colab": {}
      },
      "source": [
        "true_labels = np.array(df_test.sentiment.tolist())"
      ],
      "execution_count": 0,
      "outputs": []
    },
    {
      "cell_type": "code",
      "metadata": {
        "id": "auIIi-jGKYHT",
        "colab_type": "code",
        "colab": {
          "base_uri": "https://localhost:8080/",
          "height": 34
        },
        "outputId": "09b8c7bd-aa89-4852-af8d-dcc11eb4e563"
      },
      "source": [
        "print_test_metrics(true_labels)"
      ],
      "execution_count": 140,
      "outputs": [
        {
          "output_type": "stream",
          "text": [
            "The accuracy is 80.92%, the f1_score is 86.05%\n"
          ],
          "name": "stdout"
        }
      ]
    },
    {
      "cell_type": "code",
      "metadata": {
        "id": "y4YpZYJCPQMe",
        "colab_type": "code",
        "colab": {}
      },
      "source": [
        ""
      ],
      "execution_count": 0,
      "outputs": []
    },
    {
      "cell_type": "markdown",
      "metadata": {
        "id": "yf80Rv3OIYKr",
        "colab_type": "text"
      },
      "source": [
        "##Interpretation with fast.ai"
      ]
    },
    {
      "cell_type": "code",
      "metadata": {
        "id": "2kxlskBOEjZm",
        "colab_type": "code",
        "colab": {}
      },
      "source": [
        "intepret = TextClassificationInterpretation.from_learner(learner)"
      ],
      "execution_count": 0,
      "outputs": []
    },
    {
      "cell_type": "code",
      "metadata": {
        "id": "r8CYSFKFGInR",
        "colab_type": "code",
        "outputId": "bace9094-d2d4-472d-8543-52f67ec01022",
        "colab": {
          "base_uri": "https://localhost:8080/",
          "height": 311
        }
      },
      "source": [
        "intepret.plot_confusion_matrix()"
      ],
      "execution_count": 116,
      "outputs": [
        {
          "output_type": "display_data",
          "data": {
            "image/png": "[encoded data removed]",
            "text/plain": [
              "<Figure size 432x288 with 1 Axes>"
            ]
          },
          "metadata": {
            "tags": []
          }
        }
      ]
    },
    {
      "cell_type": "code",
      "metadata": {
        "id": "gzr7TjzvGq3h",
        "colab_type": "code",
        "outputId": "f820f735-9e99-4ffc-a241-bd9e404c5d14",
        "colab": {
          "base_uri": "https://localhost:8080/",
          "height": 363
        }
      },
      "source": [
        "intepret.show_top_losses(5)"
      ],
      "execution_count": 117,
      "outputs": [
        {
          "output_type": "display_data",
          "data": {
            "text/html": [
              "<table border=\"1\" class=\"dataframe\">\n",
              "  <thead>\n",
              "    <tr style=\"text-align: right;\">\n",
              "      <th>Text</th>\n",
              "      <th>Prediction</th>\n",
              "      <th>Actual</th>\n",
              "      <th>Loss</th>\n",
              "      <th>Probability</th>\n",
              "    </tr>\n",
              "  </thead>\n",
              "  <tbody>\n",
              "    <tr>\n",
              "      <td>[CLS] cg 字 幕 太 低 ， 看 不 到 。 這 遊 戲 如 果 是 500 元 一 次 性 收 價 ， 我 會 買 ， 但 現 在 [UNK] 金 系 統 太 可 怕 又 要 收 費 包 又 要 抽 外 觀 有 加 成 又 要 買 機 率 ， 雖 然 本 人 不 追 求 排 名 ， 但 這</td>\n",
              "      <td>0</td>\n",
              "      <td>0</td>\n",
              "      <td>6.72</td>\n",
              "      <td>1.00</td>\n",
              "    </tr>\n",
              "    <tr>\n",
              "      <td>[CLS] 这 游 戏 成 功 让 我 了 解 到 了 什 么 是 真 正 的 脸 皮 厚 ， 名 子 叫 mc ， 进 去 一 看 ， 迷 你 世 界 ？ ， 全 人 机 不 说 ， 广 告 是 什 么 玩 意 啊 ！ 而 且 一 上 来 就 要 钱 ， 说 什 么 强 化 装 备 ？</td>\n",
              "      <td>0</td>\n",
              "      <td>0</td>\n",
              "      <td>6.63</td>\n",
              "      <td>1.00</td>\n",
              "    </tr>\n",
              "    <tr>\n",
              "      <td>[CLS] 4 分 给 美 术 风 格 和 探 索 精 神 。 但 这 个 评 论 ， 还 是 想 探 讨 下 关 于 [UNK] 战 棋 [UNK] 的 定 义 ， 毕 竟 打 了 [UNK] 轻 战 棋 [UNK] 的 旗 号 ， 面 向 了 某 类 用 户 ， 关 于 这 个 命 题 躲 不 掉 。 什 么 是</td>\n",
              "      <td>0</td>\n",
              "      <td>1</td>\n",
              "      <td>6.59</td>\n",
              "      <td>0.00</td>\n",
              "    </tr>\n",
              "    <tr>\n",
              "      <td>[CLS] 游 戏 体 验 并 不 是 那 么 良 好 ， 开 始 的 时 候 无 故 跳 转 到 乱 七 八 糟 的 小 程 序 ， 卡 顿 了 一 下 就 进 去 了 x 第 一 关 点 重 开 的 时 候 咔 地 闪 退 了 但 是 后 面 的 游 戏 还 是 蛮 顺 畅 的 ，</td>\n",
              "      <td>0</td>\n",
              "      <td>1</td>\n",
              "      <td>6.55</td>\n",
              "      <td>0.00</td>\n",
              "    </tr>\n",
              "    <tr>\n",
              "      <td>[CLS] 画 风 很 有 意 境 ， 有 国 风 的 感 觉 ， 音 乐 也 还 算 配 ， 只 是 和 评 论 里 说 的 一 样 过 关 时 候 一 声 y ##ea ##h 有 点 不 妥 。 但 这 都 不 是 大 毛 病 ， 游 戏 不 足 在 于 难 度 太 高 ， 不 用 叶 子</td>\n",
              "      <td>0</td>\n",
              "      <td>1</td>\n",
              "      <td>6.43</td>\n",
              "      <td>0.00</td>\n",
              "    </tr>\n",
              "  </tbody>\n",
              "</table>"
            ],
            "text/plain": [
              "<IPython.core.display.HTML object>"
            ]
          },
          "metadata": {
            "tags": []
          }
        }
      ]
    },
    {
      "cell_type": "code",
      "metadata": {
        "id": "yYyE10ehRTeI",
        "colab_type": "code",
        "colab": {}
      },
      "source": [
        ""
      ],
      "execution_count": 0,
      "outputs": []
    },
    {
      "cell_type": "markdown",
      "metadata": {
        "id": "a12xGj79byx8",
        "colab_type": "text"
      },
      "source": [
        "## Several ways to improve the fine-tuning results"
      ]
    },
    {
      "cell_type": "markdown",
      "metadata": {
        "id": "EM2WDRxBmLno",
        "colab_type": "text"
      },
      "source": [
        "### Chinese BERT with Whole Word Masking\n",
        "\n",
        "The whole word masking exmaple from [here](https://github.com/ymcui/Chinese-BERT-wwm)"
      ]
    },
    {
      "cell_type": "markdown",
      "metadata": {
        "id": "XQUmI0LanGCH",
        "colab_type": "text"
      },
      "source": [
        "\n",
        "\n",
        "|  Text    | Example  |\n",
        "|  ----  | ----  |\n",
        "| Oringinal Text  | 使用语言模型来预测下一个词的probability |\n",
        "| Tokenized Text  | 使用 语言 模型 来 预测 下 一个 词 的 probability |\n",
        "|  Oringinal Masking Text             |     使 用 语 言 [MASK] 型 来 [MASK] 测 下 一 个 词 的 pro [MASK] ##lity         |\n",
        "| WWM Text  |  使 用 语 言 [MASK] [MASK] 来 [MASK] [MASK] 下 一 个 词 的 [MASK] [MASK] [MASK]     |"
      ]
    },
    {
      "cell_type": "code",
      "metadata": {
        "id": "CRkOIgPYcOsF",
        "colab_type": "code",
        "colab": {}
      },
      "source": [
        "path_model = Path('/content/gdrive/My Drive/fastai/models_process/bert_chinese_wwm/bert_chinese_wwm')"
      ],
      "execution_count": 0,
      "outputs": []
    },
    {
      "cell_type": "code",
      "metadata": {
        "id": "onhQhilLnG2o",
        "colab_type": "code",
        "colab": {}
      },
      "source": [
        "from pytorch_pretrained_bert import BertForSequenceClassification\n",
        "bert_wwm_model = BertForSequenceClassification.from_pretrained(path_model,num_labels=2)"
      ],
      "execution_count": 0,
      "outputs": []
    },
    {
      "cell_type": "code",
      "metadata": {
        "id": "EXjlbWCPdPcd",
        "colab_type": "code",
        "colab": {}
      },
      "source": [
        "learner_wwm = Learner(\n",
        "    databunch, \n",
        "    bert_wwm_model,\n",
        "    loss_func=loss_func,\n",
        "    metrics=[accuracy]\n",
        ")"
      ],
      "execution_count": 0,
      "outputs": []
    },
    {
      "cell_type": "code",
      "metadata": {
        "id": "7PeLWtfwfYNL",
        "colab_type": "code",
        "colab": {
          "base_uri": "https://localhost:8080/",
          "height": 77
        },
        "outputId": "5b416d5f-4c0d-4e6e-9a2b-977b20c4ac63"
      },
      "source": [
        "learner_wwm.fit_one_cycle(1,2e-5)"
      ],
      "execution_count": 142,
      "outputs": [
        {
          "output_type": "display_data",
          "data": {
            "text/html": [
              "<table border=\"1\" class=\"dataframe\">\n",
              "  <thead>\n",
              "    <tr style=\"text-align: left;\">\n",
              "      <th>epoch</th>\n",
              "      <th>train_loss</th>\n",
              "      <th>valid_loss</th>\n",
              "      <th>accuracy</th>\n",
              "      <th>time</th>\n",
              "    </tr>\n",
              "  </thead>\n",
              "  <tbody>\n",
              "    <tr>\n",
              "      <td>0</td>\n",
              "      <td>0.469907</td>\n",
              "      <td>0.419834</td>\n",
              "      <td>0.814239</td>\n",
              "      <td>05:03</td>\n",
              "    </tr>\n",
              "  </tbody>\n",
              "</table>"
            ],
            "text/plain": [
              "<IPython.core.display.HTML object>"
            ]
          },
          "metadata": {
            "tags": []
          }
        }
      ]
    },
    {
      "cell_type": "code",
      "metadata": {
        "id": "1BY6FaBPh2GI",
        "colab_type": "code",
        "colab": {
          "base_uri": "https://localhost:8080/",
          "height": 136
        },
        "outputId": "9924fc4e-51f1-4508-a03d-b2098e77dcf6"
      },
      "source": [
        "learner_wwm.fit_one_cycle(3,2e-5)"
      ],
      "execution_count": 143,
      "outputs": [
        {
          "output_type": "display_data",
          "data": {
            "text/html": [
              "<table border=\"1\" class=\"dataframe\">\n",
              "  <thead>\n",
              "    <tr style=\"text-align: left;\">\n",
              "      <th>epoch</th>\n",
              "      <th>train_loss</th>\n",
              "      <th>valid_loss</th>\n",
              "      <th>accuracy</th>\n",
              "      <th>time</th>\n",
              "    </tr>\n",
              "  </thead>\n",
              "  <tbody>\n",
              "    <tr>\n",
              "      <td>0</td>\n",
              "      <td>0.435672</td>\n",
              "      <td>0.461473</td>\n",
              "      <td>0.799509</td>\n",
              "      <td>05:25</td>\n",
              "    </tr>\n",
              "    <tr>\n",
              "      <td>1</td>\n",
              "      <td>0.360289</td>\n",
              "      <td>0.405621</td>\n",
              "      <td>0.821604</td>\n",
              "      <td>05:42</td>\n",
              "    </tr>\n",
              "    <tr>\n",
              "      <td>2</td>\n",
              "      <td>0.183317</td>\n",
              "      <td>0.479112</td>\n",
              "      <td>0.820786</td>\n",
              "      <td>05:44</td>\n",
              "    </tr>\n",
              "  </tbody>\n",
              "</table>"
            ],
            "text/plain": [
              "<IPython.core.display.HTML object>"
            ]
          },
          "metadata": {
            "tags": []
          }
        }
      ]
    },
    {
      "cell_type": "code",
      "metadata": {
        "id": "ONu5B4TkmFWF",
        "colab_type": "code",
        "colab": {
          "base_uri": "https://localhost:8080/",
          "height": 34
        },
        "outputId": "fb7c646b-91fa-4b92-c5a8-ba02c97c3ca3"
      },
      "source": [
        "print_test_metrics(true_labels,learner=learner_wwm)"
      ],
      "execution_count": 146,
      "outputs": [
        {
          "output_type": "stream",
          "text": [
            "The accuracy is 82.07%, the f1_score is 87.1%\n"
          ],
          "name": "stdout"
        }
      ]
    },
    {
      "cell_type": "markdown",
      "metadata": {
        "id": "iVUV4BJUm4dB",
        "colab_type": "text"
      },
      "source": [
        "The result gets about 1% better."
      ]
    },
    {
      "cell_type": "code",
      "metadata": {
        "id": "MSze6V-5m9Al",
        "colab_type": "code",
        "colab": {}
      },
      "source": [
        ""
      ],
      "execution_count": 0,
      "outputs": []
    },
    {
      "cell_type": "markdown",
      "metadata": {
        "id": "qgrlcl5Ep2_p",
        "colab_type": "text"
      },
      "source": [
        "## BERT Model Finetuning using Masked Language Modeling objective\n",
        "\n"
      ]
    },
    {
      "cell_type": "markdown",
      "metadata": {
        "id": "cy-_La20qIfD",
        "colab_type": "text"
      },
      "source": [
        "We have learnt ULMFiT in fast.ai. That means in transfer learning of NLP,  we can train a laguage model **on text from the same domain as the target task and using the pretraining objective**. Then we can use this language model in our downsteam tasks like text classification.\n",
        "![替代文字](http://nlp.fast.ai/images/ulmfit_approach.png)"
      ]
    },
    {
      "cell_type": "markdown",
      "metadata": {
        "id": "l2_8f1QcrLLC",
        "colab_type": "text"
      },
      "source": [
        "But for Bert things are a little deferent. The oringial Bert paper don't have this kind of step in downstream tasks.  The classifier head is added directly on top of the pre-trained architecture and quickly fine-tuned on a target task. \n",
        "\n",
        "\n",
        "\n",
        "People may ask: What if we add a similar step on Bert model training process? Will it improve the performance?\n",
        "\n",
        "\n",
        "---\n",
        "\n",
        "\n",
        "**The answer to the question “Should I try blah?” is to try blah and see, that’s how you become a good practitioner \n",
        "-- Jeremy Howard**\n",
        "\n",
        "\n",
        "\n",
        "This is totally right and we should always bear that in mind.  So I decided to try it myself and found a way  [here](https://github.com/huggingface/pytorch-pretrained-BERT/tree/master/examples/lm_finetuning)."
      ]
    },
    {
      "cell_type": "code",
      "metadata": {
        "id": "pne5vbdBoJaG",
        "colab_type": "code",
        "colab": {}
      },
      "source": [
        "path_lm = Path('/content/gdrive/My Drive/fastai/models_process/lm_finetune_bert')"
      ],
      "execution_count": 0,
      "outputs": []
    },
    {
      "cell_type": "code",
      "metadata": {
        "id": "upfBgchPp9vb",
        "colab_type": "code",
        "colab": {}
      },
      "source": [
        "os.chdir(path_lm)"
      ],
      "execution_count": 0,
      "outputs": []
    },
    {
      "cell_type": "code",
      "metadata": {
        "id": "IhyMVhEdpFDL",
        "colab_type": "code",
        "colab": {}
      },
      "source": [
        "!python3 pregenerate_training_data.py \\\n",
        "--train_corpus output.txt \\\n",
        "--bert_model bert-base-chinese \\\n",
        "--output_dir training/ \\\n",
        "--epochs_to_generate 3 \\\n",
        "--max_seq_len 128"
      ],
      "execution_count": 0,
      "outputs": []
    },
    {
      "cell_type": "code",
      "metadata": {
        "id": "XjQMfyu4po2E",
        "colab_type": "code",
        "colab": {}
      },
      "source": [
        "!python3 finetune_on_pregenerated.py \\\n",
        "--pregenerated_data training/ \\\n",
        "--bert_model bert-base-chinese \\\n",
        "--output_dir finetuned_lm/ \\\n",
        "--epochs 3"
      ],
      "execution_count": 0,
      "outputs": []
    },
    {
      "cell_type": "code",
      "metadata": {
        "id": "pZTNBxnqq2zr",
        "colab_type": "code",
        "colab": {}
      },
      "source": [
        "bert_lm_model = BertForSequenceClassification.from_pretrained(path_lm/'finetuned_lm',num_labels=2)"
      ],
      "execution_count": 0,
      "outputs": []
    },
    {
      "cell_type": "code",
      "metadata": {
        "id": "g-_HRaQFqE55",
        "colab_type": "code",
        "colab": {}
      },
      "source": [
        "learner_lm = Learner(\n",
        "    databunch, \n",
        "    bert_lm_model,\n",
        "    loss_func=loss_func,\n",
        "    metrics=[accuracy]\n",
        ")"
      ],
      "execution_count": 0,
      "outputs": []
    },
    {
      "cell_type": "code",
      "metadata": {
        "id": "aOJogMymsHLW",
        "colab_type": "code",
        "colab": {
          "base_uri": "https://localhost:8080/",
          "height": 77
        },
        "outputId": "db5a3544-d206-4e6a-d6d2-1af51b3b3b2e"
      },
      "source": [
        "learner_lm.fit_one_cycle(1,2e-5)"
      ],
      "execution_count": 158,
      "outputs": [
        {
          "output_type": "display_data",
          "data": {
            "text/html": [
              "<table border=\"1\" class=\"dataframe\">\n",
              "  <thead>\n",
              "    <tr style=\"text-align: left;\">\n",
              "      <th>epoch</th>\n",
              "      <th>train_loss</th>\n",
              "      <th>valid_loss</th>\n",
              "      <th>accuracy</th>\n",
              "      <th>time</th>\n",
              "    </tr>\n",
              "  </thead>\n",
              "  <tbody>\n",
              "    <tr>\n",
              "      <td>0</td>\n",
              "      <td>0.465912</td>\n",
              "      <td>0.427113</td>\n",
              "      <td>0.822422</td>\n",
              "      <td>05:33</td>\n",
              "    </tr>\n",
              "  </tbody>\n",
              "</table>"
            ],
            "text/plain": [
              "<IPython.core.display.HTML object>"
            ]
          },
          "metadata": {
            "tags": []
          }
        }
      ]
    },
    {
      "cell_type": "code",
      "metadata": {
        "id": "XVsWy54Ktikg",
        "colab_type": "code",
        "colab": {
          "base_uri": "https://localhost:8080/",
          "height": 136
        },
        "outputId": "0366503d-7938-43f6-c67c-6cdb01d7df29"
      },
      "source": [
        "learner_lm.fit_one_cycle(3,2e-5)"
      ],
      "execution_count": 159,
      "outputs": [
        {
          "output_type": "display_data",
          "data": {
            "text/html": [
              "<table border=\"1\" class=\"dataframe\">\n",
              "  <thead>\n",
              "    <tr style=\"text-align: left;\">\n",
              "      <th>epoch</th>\n",
              "      <th>train_loss</th>\n",
              "      <th>valid_loss</th>\n",
              "      <th>accuracy</th>\n",
              "      <th>time</th>\n",
              "    </tr>\n",
              "  </thead>\n",
              "  <tbody>\n",
              "    <tr>\n",
              "      <td>0</td>\n",
              "      <td>0.405441</td>\n",
              "      <td>0.483528</td>\n",
              "      <td>0.787234</td>\n",
              "      <td>05:25</td>\n",
              "    </tr>\n",
              "    <tr>\n",
              "      <td>1</td>\n",
              "      <td>0.319010</td>\n",
              "      <td>0.434057</td>\n",
              "      <td>0.822422</td>\n",
              "      <td>05:27</td>\n",
              "    </tr>\n",
              "    <tr>\n",
              "      <td>2</td>\n",
              "      <td>0.211083</td>\n",
              "      <td>0.506716</td>\n",
              "      <td>0.819149</td>\n",
              "      <td>05:33</td>\n",
              "    </tr>\n",
              "  </tbody>\n",
              "</table>"
            ],
            "text/plain": [
              "<IPython.core.display.HTML object>"
            ]
          },
          "metadata": {
            "tags": []
          }
        }
      ]
    },
    {
      "cell_type": "code",
      "metadata": {
        "id": "_Ic9DejkrXOp",
        "colab_type": "code",
        "colab": {
          "base_uri": "https://localhost:8080/",
          "height": 34
        },
        "outputId": "922e42ed-7858-41e6-c351-029b89543323"
      },
      "source": [
        "print_test_metrics(true_labels,learner = learner_lm)"
      ],
      "execution_count": 160,
      "outputs": [
        {
          "output_type": "stream",
          "text": [
            "The accuracy is 81.77%, the f1_score is 86.96%\n"
          ],
          "name": "stdout"
        }
      ]
    },
    {
      "cell_type": "markdown",
      "metadata": {
        "id": "rjU7okR8yN_f",
        "colab_type": "text"
      },
      "source": [
        "Better than original but not as good as wwm."
      ]
    },
    {
      "cell_type": "code",
      "metadata": {
        "id": "3xKy47MnyNPo",
        "colab_type": "code",
        "colab": {}
      },
      "source": [
        ""
      ],
      "execution_count": 0,
      "outputs": []
    },
    {
      "cell_type": "markdown",
      "metadata": {
        "id": "4uF96R4F5qw5",
        "colab_type": "text"
      },
      "source": [
        "## Simplely compare to SnowNLP"
      ]
    },
    {
      "cell_type": "markdown",
      "metadata": {
        "id": "Rx9to92_6aq2",
        "colab_type": "text"
      },
      "source": [
        "[SnowNLP](https://github.com/isnowfy/snownlp): Simplified Chinese Text Processing.\n",
        "It is a NLP python package widely used before. Let's see what result we can get from it."
      ]
    },
    {
      "cell_type": "code",
      "metadata": {
        "id": "R4WtwoHWy_SM",
        "colab_type": "code",
        "colab": {}
      },
      "source": [
        "!pip install snownlp"
      ],
      "execution_count": 0,
      "outputs": []
    },
    {
      "cell_type": "code",
      "metadata": {
        "id": "NodbiK4a1V9O",
        "colab_type": "code",
        "colab": {}
      },
      "source": [
        "from snownlp import SnowNLP"
      ],
      "execution_count": 0,
      "outputs": []
    },
    {
      "cell_type": "code",
      "metadata": {
        "id": "ygcrx4-O2ZIw",
        "colab_type": "code",
        "colab": {}
      },
      "source": [
        "def snow(text):\n",
        "  out = SnowNLP(text)\n",
        "  return round(out.sentiments)"
      ],
      "execution_count": 0,
      "outputs": []
    },
    {
      "cell_type": "code",
      "metadata": {
        "id": "lml0cUX91tV1",
        "colab_type": "code",
        "colab": {}
      },
      "source": [
        "df_test['snow_out'] = df_test.review.apply(snow)"
      ],
      "execution_count": 0,
      "outputs": []
    },
    {
      "cell_type": "code",
      "metadata": {
        "id": "vKUgSePI5INx",
        "colab_type": "code",
        "colab": {}
      },
      "source": [
        "snow_preds = np.array(df_test.snow_out.tolist())"
      ],
      "execution_count": 0,
      "outputs": []
    },
    {
      "cell_type": "code",
      "metadata": {
        "id": "MLV1ZRQx59wX",
        "colab_type": "code",
        "colab": {
          "base_uri": "https://localhost:8080/",
          "height": 34
        },
        "outputId": "14f8a09e-233c-4c06-b64a-d15fd5bf59a0"
      },
      "source": [
        "acc_snow = accuracy_score(true_labels, snow_preds)\n",
        "f1_snow = f1_score(true_labels, snow_preds)\n",
        "print(f'For SnowNLP, the accuracy is {round(acc_snow*100,2)}%, the f1_score is {round(f1_snow*100,2)}%')"
      ],
      "execution_count": 178,
      "outputs": [
        {
          "output_type": "stream",
          "text": [
            "For SnowNLP, the accuracy is 68.01%, the f1_score is 77.51%\n"
          ],
          "name": "stdout"
        }
      ]
    },
    {
      "cell_type": "markdown",
      "metadata": {
        "id": "ZBg0bk4JbnwU",
        "colab_type": "text"
      },
      "source": [
        "## Why fast.ai is so awsome?\n",
        "**The top-down learning strategy lower the threshhold for common people to be a deep learning practitioner.**\n",
        "\n",
        "\n",
        "- With fastai, you could jump out to see the big picture. You won't get yourself lost in a bunch of math equations and matrix graphs on the early stage.\n",
        "- With fastai it's much easier to use pre-trained model and  plug them into your own specific project.\n",
        "\n",
        "\n",
        "\n",
        "\n",
        "## Let's implement ideas of NLP together  with fastai!"
      ]
    }
  ]
}