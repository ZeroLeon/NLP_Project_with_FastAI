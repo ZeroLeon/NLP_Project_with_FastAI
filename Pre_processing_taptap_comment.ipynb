{
  "nbformat": 4,
  "nbformat_minor": 0,
  "metadata": {
    "colab": {
      "name": "Pre_processing_taptap_comment.ipynb",
      "version": "0.3.2",
      "provenance": [],
      "collapsed_sections": [],
      "include_colab_link": true
    },
    "kernelspec": {
      "name": "python3",
      "display_name": "Python 3"
    },
    "accelerator": "GPU"
  },
  "cells": [
    {
      "cell_type": "markdown",
      "metadata": {
        "id": "view-in-github",
        "colab_type": "text"
      },
      "source": [
        "<a href=\"https://colab.research.google.com/github/ZeroLeon/NLP_Task_with_FastAI/blob/master/Pre_processing_taptap_comment.ipynb\" target=\"_parent\"><img src=\"https://colab.research.google.com/assets/colab-badge.svg\" alt=\"Open In Colab\"/></a>"
      ]
    },
    {
      "cell_type": "markdown",
      "metadata": {
        "id": "AY6Hg3xZoZTl",
        "colab_type": "text"
      },
      "source": [
        "# TapTap Comment Classification"
      ]
    },
    {
      "cell_type": "markdown",
      "metadata": {
        "id": "0JkiKSms8NZr",
        "colab_type": "text"
      },
      "source": [
        "## Data Preprocessing"
      ]
    },
    {
      "cell_type": "code",
      "metadata": {
        "id": "pQ0rCQ9KY_kl",
        "colab_type": "code",
        "colab": {}
      },
      "source": [
        "%reload_ext autoreload\n",
        "%autoreload 2\n",
        "%matplotlib inline"
      ],
      "execution_count": 0,
      "outputs": []
    },
    {
      "cell_type": "code",
      "metadata": {
        "id": "ESfGhZYwZOOz",
        "colab_type": "code",
        "colab": {}
      },
      "source": [
        "import numpy as np\n",
        "import pandas as pd\n",
        "\n",
        "from pathlib import Path\n",
        "from typing import *\n",
        "\n",
        "import torch\n",
        "import torch.optim as optim\n",
        "\n",
        "from fastai import *\n",
        "from fastai.vision import *\n",
        "from fastai.text import *\n",
        "from fastai.callbacks import *"
      ],
      "execution_count": 0,
      "outputs": []
    },
    {
      "cell_type": "code",
      "metadata": {
        "id": "8PW24IDeZAmL",
        "colab_type": "code",
        "outputId": "f3c6cccc-8bc8-414b-fd05-12ac4094251c",
        "colab": {
          "base_uri": "https://localhost:8080/",
          "height": 125
        }
      },
      "source": [
        "from google.colab import drive\n",
        "drive.mount('/content/gdrive',force_remount = True)\n",
        "base_dir = '/content/gdrive/My Drive/fastai'\n",
        "path = Path(base_dir +'/data/taptap_comment')\n",
        "path.mkdir(parents=True,exist_ok=True)"
      ],
      "execution_count": 0,
      "outputs": [
        {
          "output_type": "stream",
          "text": [
            "Go to this URL in a browser: https://accounts.google.com/o/oauth2/auth?client_id=947318989803-6bn6qk8qdgf4n4g3pfee6491hc0brc4i.apps.googleusercontent.com&redirect_uri=urn%3Aietf%3Awg%3Aoauth%3A2.0%3Aoob&scope=email%20https%3A%2F%2Fwww.googleapis.com%2Fauth%2Fdocs.test%20https%3A%2F%2Fwww.googleapis.com%2Fauth%2Fdrive%20https%3A%2F%2Fwww.googleapis.com%2Fauth%2Fdrive.photos.readonly%20https%3A%2F%2Fwww.googleapis.com%2Fauth%2Fpeopleapi.readonly&response_type=code\n",
            "\n",
            "Enter your authorization code:\n",
            "··········\n",
            "Mounted at /content/gdrive\n"
          ],
          "name": "stdout"
        }
      ]
    },
    {
      "cell_type": "markdown",
      "metadata": {
        "id": "j6D9_YTZog8L",
        "colab_type": "text"
      },
      "source": [
        "## Preporcessing"
      ]
    },
    {
      "cell_type": "code",
      "metadata": {
        "id": "xEfBWoZp8Vd2",
        "colab_type": "code",
        "colab": {}
      },
      "source": [
        "!pip install pandas-profiling"
      ],
      "execution_count": 0,
      "outputs": []
    },
    {
      "cell_type": "code",
      "metadata": {
        "id": "LhkdaUOU8Q8q",
        "colab_type": "code",
        "colab": {}
      },
      "source": [
        "import pandas as pd\n",
        "import pandas_profiling"
      ],
      "execution_count": 0,
      "outputs": []
    },
    {
      "cell_type": "code",
      "metadata": {
        "id": "H-5BrTGFa31U",
        "colab_type": "code",
        "colab": {}
      },
      "source": [
        "tap_df = pd.read_csv(path/'taptap_raw.csv')"
      ],
      "execution_count": 0,
      "outputs": []
    },
    {
      "cell_type": "code",
      "metadata": {
        "id": "CIoKrlePa7bc",
        "colab_type": "code",
        "outputId": "7dda7ca6-0b9a-4013-ce85-4eb6ac7c6d81",
        "colab": {
          "base_uri": "https://localhost:8080/",
          "height": 736
        }
      },
      "source": [
        "tap_df.head()"
      ],
      "execution_count": 0,
      "outputs": [
        {
          "output_type": "execute_result",
          "data": {
            "text/html": [
              "<div>\n",
              "<style scoped>\n",
              "    .dataframe tbody tr th:only-of-type {\n",
              "        vertical-align: middle;\n",
              "    }\n",
              "\n",
              "    .dataframe tbody tr th {\n",
              "        vertical-align: top;\n",
              "    }\n",
              "\n",
              "    .dataframe thead th {\n",
              "        text-align: right;\n",
              "    }\n",
              "</style>\n",
              "<table border=\"1\" class=\"dataframe\">\n",
              "  <thead>\n",
              "    <tr style=\"text-align: right;\">\n",
              "      <th></th>\n",
              "      <th>web-scraper-order</th>\n",
              "      <th>web-scraper-start-url</th>\n",
              "      <th>start_link</th>\n",
              "      <th>start_link-href</th>\n",
              "      <th>comment_texts</th>\n",
              "      <th>stars</th>\n",
              "    </tr>\n",
              "  </thead>\n",
              "  <tbody>\n",
              "    <tr>\n",
              "      <th>0</th>\n",
              "      <td>1561221864-4198</td>\n",
              "      <td>https://www.taptap.com/category/e381?page=18</td>\n",
              "      <td>艾比之星</td>\n",
              "      <td>https://www.taptap.com/app/78946</td>\n",
              "      <td>看见这个游戏上了日推，于是便心血来潮的的下载玩了一下，现在借助Tap这个平台发一些玩这个游戏...</td>\n",
              "      <td>width: 56px</td>\n",
              "    </tr>\n",
              "    <tr>\n",
              "      <th>1</th>\n",
              "      <td>1561218498-1412</td>\n",
              "      <td>https://www.taptap.com/category/e381?page=34</td>\n",
              "      <td>刀剑兵器谱</td>\n",
              "      <td>https://www.taptap.com/app/16404</td>\n",
              "      <td>之前手机玩过一段时间，个人不太喜欢这种类型。很不明白，为什么不做刀剑2，当年端游方面很着迷入...</td>\n",
              "      <td>width: 28px</td>\n",
              "    </tr>\n",
              "    <tr>\n",
              "      <th>2</th>\n",
              "      <td>1561219394-3191</td>\n",
              "      <td>https://www.taptap.com/category/e381?page=24</td>\n",
              "      <td>魔窟-无尽的地下城</td>\n",
              "      <td>https://www.taptap.com/app/15386</td>\n",
              "      <td>我想给厂家提个建议：可否出一个云存档，上传玩家的游戏纪录，否则辛辛苦苦肝出来的存档，卸载后就...</td>\n",
              "      <td>width: 56px</td>\n",
              "    </tr>\n",
              "    <tr>\n",
              "      <th>3</th>\n",
              "      <td>1561218635-1725</td>\n",
              "      <td>https://www.taptap.com/category/e381?page=32</td>\n",
              "      <td>六十五点零</td>\n",
              "      <td>https://www.taptap.com/app/53320</td>\n",
              "      <td>▶前言:专治手欠手残，不知诸位手好了没有？▶评论标题:你的手由我来守护▶简评:①Tap上又一...</td>\n",
              "      <td>width: 56px</td>\n",
              "    </tr>\n",
              "    <tr>\n",
              "      <th>4</th>\n",
              "      <td>1561219685-3856</td>\n",
              "      <td>https://www.taptap.com/category/e381?page=20</td>\n",
              "      <td>地下城堡：炼金术师的魔幻之旅\\n                            CN</td>\n",
              "      <td>https://www.taptap.com/app/11471</td>\n",
              "      <td>《地下城堡：炼金术师的魔幻之旅》2014.10.1【雷霆游戏】淘金互娱【剧情背景】误入荒野天...</td>\n",
              "      <td>width: 56px</td>\n",
              "    </tr>\n",
              "  </tbody>\n",
              "</table>\n",
              "</div>"
            ],
            "text/plain": [
              "  web-scraper-order  ...        stars\n",
              "0   1561221864-4198  ...  width: 56px\n",
              "1   1561218498-1412  ...  width: 28px\n",
              "2   1561219394-3191  ...  width: 56px\n",
              "3   1561218635-1725  ...  width: 56px\n",
              "4   1561219685-3856  ...  width: 56px\n",
              "\n",
              "[5 rows x 6 columns]"
            ]
          },
          "metadata": {
            "tags": []
          },
          "execution_count": 21
        }
      ]
    },
    {
      "cell_type": "code",
      "metadata": {
        "id": "JKx2SzmlcW5u",
        "colab_type": "code",
        "outputId": "c3e09634-259a-460c-a23d-87bbac87e0d3",
        "colab": {
          "base_uri": "https://localhost:8080/",
          "height": 34
        }
      },
      "source": [
        "tap_df.shape"
      ],
      "execution_count": 0,
      "outputs": [
        {
          "output_type": "execute_result",
          "data": {
            "text/plain": [
              "(3338, 6)"
            ]
          },
          "metadata": {
            "tags": []
          },
          "execution_count": 23
        }
      ]
    },
    {
      "cell_type": "code",
      "metadata": {
        "id": "0gqocm3zdz_D",
        "colab_type": "code",
        "outputId": "bb61a1b5-779d-43b0-e505-129888189782",
        "colab": {
          "base_uri": "https://localhost:8080/",
          "height": 72
        }
      },
      "source": [
        "drop_list = tap_df.columns.values\n",
        "drop_list"
      ],
      "execution_count": 0,
      "outputs": [
        {
          "output_type": "execute_result",
          "data": {
            "text/plain": [
              "array(['web-scraper-order', 'web-scraper-start-url', 'start_link', 'start_link-href', 'comment_texts', 'stars'],\n",
              "      dtype=object)"
            ]
          },
          "metadata": {
            "tags": []
          },
          "execution_count": 38
        }
      ]
    },
    {
      "cell_type": "code",
      "metadata": {
        "id": "ihL-f8e1d7W_",
        "colab_type": "code",
        "outputId": "3331974e-f80d-4c6f-d558-5059caa2afdd",
        "colab": {
          "base_uri": "https://localhost:8080/",
          "height": 34
        }
      },
      "source": [
        "drop_list = drop_list[:-3]\n",
        "drop_list"
      ],
      "execution_count": 0,
      "outputs": [
        {
          "output_type": "execute_result",
          "data": {
            "text/plain": [
              "array(['web-scraper-order', 'web-scraper-start-url', 'start_link'], dtype=object)"
            ]
          },
          "metadata": {
            "tags": []
          },
          "execution_count": 39
        }
      ]
    },
    {
      "cell_type": "code",
      "metadata": {
        "id": "lBSTcZ-rci7U",
        "colab_type": "code",
        "colab": {}
      },
      "source": [
        "tap_df.drop(columns=drop_list,inplace=True)"
      ],
      "execution_count": 0,
      "outputs": []
    },
    {
      "cell_type": "code",
      "metadata": {
        "id": "5PEXLb5Bc02D",
        "colab_type": "code",
        "outputId": "88328903-85dc-4a5c-b2cd-57f617046936",
        "colab": {
          "base_uri": "https://localhost:8080/",
          "height": 279
        }
      },
      "source": [
        "tap_df.head()"
      ],
      "execution_count": 0,
      "outputs": [
        {
          "output_type": "execute_result",
          "data": {
            "text/html": [
              "<div>\n",
              "<style scoped>\n",
              "    .dataframe tbody tr th:only-of-type {\n",
              "        vertical-align: middle;\n",
              "    }\n",
              "\n",
              "    .dataframe tbody tr th {\n",
              "        vertical-align: top;\n",
              "    }\n",
              "\n",
              "    .dataframe thead th {\n",
              "        text-align: right;\n",
              "    }\n",
              "</style>\n",
              "<table border=\"1\" class=\"dataframe\">\n",
              "  <thead>\n",
              "    <tr style=\"text-align: right;\">\n",
              "      <th></th>\n",
              "      <th>start_link-href</th>\n",
              "      <th>comment_texts</th>\n",
              "      <th>stars</th>\n",
              "    </tr>\n",
              "  </thead>\n",
              "  <tbody>\n",
              "    <tr>\n",
              "      <th>0</th>\n",
              "      <td>https://www.taptap.com/app/78946</td>\n",
              "      <td>看见这个游戏上了日推，于是便心血来潮的的下载玩了一下，现在借助Tap这个平台发一些玩这个游戏...</td>\n",
              "      <td>width: 56px</td>\n",
              "    </tr>\n",
              "    <tr>\n",
              "      <th>1</th>\n",
              "      <td>https://www.taptap.com/app/16404</td>\n",
              "      <td>之前手机玩过一段时间，个人不太喜欢这种类型。很不明白，为什么不做刀剑2，当年端游方面很着迷入...</td>\n",
              "      <td>width: 28px</td>\n",
              "    </tr>\n",
              "    <tr>\n",
              "      <th>2</th>\n",
              "      <td>https://www.taptap.com/app/15386</td>\n",
              "      <td>我想给厂家提个建议：可否出一个云存档，上传玩家的游戏纪录，否则辛辛苦苦肝出来的存档，卸载后就...</td>\n",
              "      <td>width: 56px</td>\n",
              "    </tr>\n",
              "    <tr>\n",
              "      <th>3</th>\n",
              "      <td>https://www.taptap.com/app/53320</td>\n",
              "      <td>▶前言:专治手欠手残，不知诸位手好了没有？▶评论标题:你的手由我来守护▶简评:①Tap上又一...</td>\n",
              "      <td>width: 56px</td>\n",
              "    </tr>\n",
              "    <tr>\n",
              "      <th>4</th>\n",
              "      <td>https://www.taptap.com/app/11471</td>\n",
              "      <td>《地下城堡：炼金术师的魔幻之旅》2014.10.1【雷霆游戏】淘金互娱【剧情背景】误入荒野天...</td>\n",
              "      <td>width: 56px</td>\n",
              "    </tr>\n",
              "  </tbody>\n",
              "</table>\n",
              "</div>"
            ],
            "text/plain": [
              "                    start_link-href  ...        stars\n",
              "0  https://www.taptap.com/app/78946  ...  width: 56px\n",
              "1  https://www.taptap.com/app/16404  ...  width: 28px\n",
              "2  https://www.taptap.com/app/15386  ...  width: 56px\n",
              "3  https://www.taptap.com/app/53320  ...  width: 56px\n",
              "4  https://www.taptap.com/app/11471  ...  width: 56px\n",
              "\n",
              "[5 rows x 3 columns]"
            ]
          },
          "metadata": {
            "tags": []
          },
          "execution_count": 49
        }
      ]
    },
    {
      "cell_type": "code",
      "metadata": {
        "id": "jumOK75XfQBe",
        "colab_type": "code",
        "outputId": "f3d3e285-f470-496a-84bf-51b29e6ca659",
        "colab": {
          "base_uri": "https://localhost:8080/",
          "height": 122
        }
      },
      "source": [
        "tap_df.stars.value_counts()"
      ],
      "execution_count": 0,
      "outputs": [
        {
          "output_type": "execute_result",
          "data": {
            "text/plain": [
              "width: 56px    1295\n",
              "width: 70px    1022\n",
              "width: 42px     697\n",
              "width: 28px     181\n",
              "width: 14px     139\n",
              "Name: stars, dtype: int64"
            ]
          },
          "metadata": {
            "tags": []
          },
          "execution_count": 50
        }
      ]
    },
    {
      "cell_type": "code",
      "metadata": {
        "id": "8Mfk2u2ciWUq",
        "colab_type": "code",
        "outputId": "a633931e-7a2d-4690-e98a-038ded924ac8",
        "colab": {
          "base_uri": "https://localhost:8080/",
          "height": 87
        }
      },
      "source": [
        "tap_df.dtypes"
      ],
      "execution_count": 0,
      "outputs": [
        {
          "output_type": "execute_result",
          "data": {
            "text/plain": [
              "start_link-href    object\n",
              "comment_texts      object\n",
              "stars              object\n",
              "dtype: object"
            ]
          },
          "metadata": {
            "tags": []
          },
          "execution_count": 51
        }
      ]
    },
    {
      "cell_type": "code",
      "metadata": {
        "id": "6_icZH4AgFjd",
        "colab_type": "code",
        "colab": {}
      },
      "source": [
        "#make a function to turn the numbers of px into sentiment polarity\n",
        "#70px -> 5 stars, 56px -> 4 stars, (42,28,14)px -> less than 3 stars\n",
        "def px_to_star(px):\n",
        "  if ('70' in str(px)) or ('56' in str(px)):\n",
        "    return 1  # means satisfied\n",
        "  else:\n",
        "    return 0 # unsatisfied"
      ],
      "execution_count": 0,
      "outputs": []
    },
    {
      "cell_type": "code",
      "metadata": {
        "id": "J7CNgYpnjkEC",
        "colab_type": "code",
        "colab": {}
      },
      "source": [
        "tap_df['sentiment'] = tap_df.stars.apply(px_to_star)"
      ],
      "execution_count": 0,
      "outputs": []
    },
    {
      "cell_type": "code",
      "metadata": {
        "id": "HPwKu74JnNnC",
        "colab_type": "code",
        "colab": {}
      },
      "source": [
        "tap_df.to_csv('taptap_processed.csv',index=False)"
      ],
      "execution_count": 0,
      "outputs": []
    },
    {
      "cell_type": "markdown",
      "metadata": {
        "id": "axXL0hHpL3tF",
        "colab_type": "text"
      },
      "source": [
        "## Bad comment processing"
      ]
    },
    {
      "cell_type": "code",
      "metadata": {
        "id": "71JXpfMSL298",
        "colab_type": "code",
        "colab": {}
      },
      "source": [
        "df_bad = pd.read_csv(path/'taptap_bad_comment.csv')"
      ],
      "execution_count": 0,
      "outputs": []
    },
    {
      "cell_type": "code",
      "metadata": {
        "id": "UEczZJWGMR5h",
        "colab_type": "code",
        "outputId": "e4d70d52-58e6-4c34-d582-6e02e927f056",
        "colab": {
          "base_uri": "https://localhost:8080/",
          "height": 313
        }
      },
      "source": [
        "df_bad.head()"
      ],
      "execution_count": 0,
      "outputs": [
        {
          "output_type": "execute_result",
          "data": {
            "text/html": [
              "<div>\n",
              "<style scoped>\n",
              "    .dataframe tbody tr th:only-of-type {\n",
              "        vertical-align: middle;\n",
              "    }\n",
              "\n",
              "    .dataframe tbody tr th {\n",
              "        vertical-align: top;\n",
              "    }\n",
              "\n",
              "    .dataframe thead th {\n",
              "        text-align: right;\n",
              "    }\n",
              "</style>\n",
              "<table border=\"1\" class=\"dataframe\">\n",
              "  <thead>\n",
              "    <tr style=\"text-align: right;\">\n",
              "      <th></th>\n",
              "      <th>web-scraper-order</th>\n",
              "      <th>web-scraper-start-url</th>\n",
              "      <th>stars</th>\n",
              "      <th>review</th>\n",
              "    </tr>\n",
              "  </thead>\n",
              "  <tbody>\n",
              "    <tr>\n",
              "      <th>0</th>\n",
              "      <td>1561390296-4907</td>\n",
              "      <td>https://www.taptap.com/app/85838/review?order=...</td>\n",
              "      <td>width: 14px</td>\n",
              "      <td>这游戏根本就不是正统暗黑！暗金（传说）包括套装才两条随机魔法属性，暗金武器防具全部一个装备技...</td>\n",
              "    </tr>\n",
              "    <tr>\n",
              "      <th>1</th>\n",
              "      <td>1561390321-5108</td>\n",
              "      <td>https://www.taptap.com/app/85838/review?order=...</td>\n",
              "      <td>width: 42px</td>\n",
              "      <td>大家好，作为一个不会写长评的用户，请老铁们凑活着看，下面是我肝一天后的体验！首先要说明的是，...</td>\n",
              "    </tr>\n",
              "    <tr>\n",
              "      <th>2</th>\n",
              "      <td>1561390272-4706</td>\n",
              "      <td>https://www.taptap.com/app/85838/review?order=...</td>\n",
              "      <td>width: 14px</td>\n",
              "      <td>我也不知道我为啥玩个弓箭手，其它职业我不清楚，攻击键一直按一直爽，移动键一直按一直当你没按！...</td>\n",
              "    </tr>\n",
              "    <tr>\n",
              "      <th>3</th>\n",
              "      <td>1561390336-5259</td>\n",
              "      <td>https://www.taptap.com/app/85838/review?order=...</td>\n",
              "      <td>width: 28px</td>\n",
              "      <td>说一说自己玩了五个小时的看法。注：无氪 倾家荡产冲战榜80一个类暗黑手游，抄什么的就不谈了，...</td>\n",
              "    </tr>\n",
              "    <tr>\n",
              "      <th>4</th>\n",
              "      <td>1561390289-4871</td>\n",
              "      <td>https://www.taptap.com/app/85838/review?order=...</td>\n",
              "      <td>width: 42px</td>\n",
              "      <td>喜闻拉结尔开服首先发点最新攻略游戏攻略职业：平民游侠，小氪骑士，大氪傀儡，法师/蛮子目前下水...</td>\n",
              "    </tr>\n",
              "  </tbody>\n",
              "</table>\n",
              "</div>"
            ],
            "text/plain": [
              "  web-scraper-order  ...                                             review\n",
              "0   1561390296-4907  ...  这游戏根本就不是正统暗黑！暗金（传说）包括套装才两条随机魔法属性，暗金武器防具全部一个装备技...\n",
              "1   1561390321-5108  ...  大家好，作为一个不会写长评的用户，请老铁们凑活着看，下面是我肝一天后的体验！首先要说明的是，...\n",
              "2   1561390272-4706  ...  我也不知道我为啥玩个弓箭手，其它职业我不清楚，攻击键一直按一直爽，移动键一直按一直当你没按！...\n",
              "3   1561390336-5259  ...  说一说自己玩了五个小时的看法。注：无氪 倾家荡产冲战榜80一个类暗黑手游，抄什么的就不谈了，...\n",
              "4   1561390289-4871  ...  喜闻拉结尔开服首先发点最新攻略游戏攻略职业：平民游侠，小氪骑士，大氪傀儡，法师/蛮子目前下水...\n",
              "\n",
              "[5 rows x 4 columns]"
            ]
          },
          "metadata": {
            "tags": []
          },
          "execution_count": 8
        }
      ]
    },
    {
      "cell_type": "code",
      "metadata": {
        "id": "zECViBHMMYYm",
        "colab_type": "code",
        "outputId": "a3a83d48-3f1e-422a-9b8d-a3d66e9c5339",
        "colab": {
          "base_uri": "https://localhost:8080/",
          "height": 54
        }
      },
      "source": [
        "df_bad.review.iloc[1]"
      ],
      "execution_count": 0,
      "outputs": [
        {
          "output_type": "execute_result",
          "data": {
            "text/plain": [
              "'大家好，作为一个不会写长评的用户，请老铁们凑活着看，下面是我肝一天后的体验！首先要说明的是，一个游戏的好坏，不能仅用氪金与不氪金来衡量，而是对于光大玩家（平民玩家）来说，轻氪或者不氪，这游戏是否还能玩的下去。。。事实证明，拉结尔还是可以稍微玩一下的（稍微），请不要注重排行榜，请不要注重过副本，副本打不动就慢慢磨，总会磨过去的！！！下面是今天公测的游戏体验优点：打击感和下副本刷怪的畅快感让我为之一振，确实很不错，比前几次内测舒服了很多，喜欢暗黑风地下城的小伙伴可以坚持玩下去，毕竟手游里我觉得这已经算是很好了！缺点：挺肝，而且不知道肝了些啥，反正你不打，也没啥可以玩的！！！氪金，各种材料商店都有卖，想要？用钻石买，没有想要的？用钻石刷新！！（怎么感觉和阴阳师的买御魂很像）！！然后就是时装，宠物，这些不多说了，不氪玩个***。总的来说，佛系玩家可以玩一玩，千万别纠结排行榜啥的，看着爽爽就行了。'"
            ]
          },
          "metadata": {
            "tags": []
          },
          "execution_count": 11
        }
      ]
    },
    {
      "cell_type": "code",
      "metadata": {
        "id": "Lh1PkwZuRJgG",
        "colab_type": "code",
        "colab": {}
      },
      "source": [
        "df_bad.dropna(inplace=True)"
      ],
      "execution_count": 0,
      "outputs": []
    },
    {
      "cell_type": "code",
      "metadata": {
        "id": "Cq-yMFP9RP2N",
        "colab_type": "code",
        "outputId": "303bd6f9-79bf-42f5-df34-eb4bbdcd3d06",
        "colab": {
          "base_uri": "https://localhost:8080/",
          "height": 34
        }
      },
      "source": [
        "df_bad.shape"
      ],
      "execution_count": 0,
      "outputs": [
        {
          "output_type": "execute_result",
          "data": {
            "text/plain": [
              "(3453, 4)"
            ]
          },
          "metadata": {
            "tags": []
          },
          "execution_count": 65
        }
      ]
    },
    {
      "cell_type": "code",
      "metadata": {
        "id": "ShALcnkiMe1V",
        "colab_type": "code",
        "colab": {}
      },
      "source": [
        "min_len = 30\n",
        "max_len = 500"
      ],
      "execution_count": 0,
      "outputs": []
    },
    {
      "cell_type": "code",
      "metadata": {
        "id": "wXVqyunCM6Ub",
        "colab_type": "code",
        "colab": {}
      },
      "source": [
        "df_bad_new = df_bad[  (min_len < df_bad.review.str.len()) & (df_bad.review.str.len() < max_len)  ].copy()"
      ],
      "execution_count": 0,
      "outputs": []
    },
    {
      "cell_type": "code",
      "metadata": {
        "id": "jWBnSRxeRlbK",
        "colab_type": "code",
        "colab": {}
      },
      "source": [
        "df_bad_new.reset_index(drop=True,inplace=True)"
      ],
      "execution_count": 0,
      "outputs": []
    },
    {
      "cell_type": "code",
      "metadata": {
        "id": "EgQPWEujSkFZ",
        "colab_type": "code",
        "outputId": "195a7811-4d06-4a44-941a-56577d865700",
        "colab": {
          "base_uri": "https://localhost:8080/",
          "height": 1009
        }
      },
      "source": [
        "df_bad_new.tail(20)"
      ],
      "execution_count": 0,
      "outputs": [
        {
          "output_type": "execute_result",
          "data": {
            "text/html": [
              "<div>\n",
              "<style scoped>\n",
              "    .dataframe tbody tr th:only-of-type {\n",
              "        vertical-align: middle;\n",
              "    }\n",
              "\n",
              "    .dataframe tbody tr th {\n",
              "        vertical-align: top;\n",
              "    }\n",
              "\n",
              "    .dataframe thead th {\n",
              "        text-align: right;\n",
              "    }\n",
              "</style>\n",
              "<table border=\"1\" class=\"dataframe\">\n",
              "  <thead>\n",
              "    <tr style=\"text-align: right;\">\n",
              "      <th></th>\n",
              "      <th>web-scraper-order</th>\n",
              "      <th>web-scraper-start-url</th>\n",
              "      <th>stars</th>\n",
              "      <th>review</th>\n",
              "    </tr>\n",
              "  </thead>\n",
              "  <tbody>\n",
              "    <tr>\n",
              "      <th>1727</th>\n",
              "      <td>1561392138-7870</td>\n",
              "      <td>https://www.taptap.com/app/134490/review?order...</td>\n",
              "      <td>width: 14px</td>\n",
              "      <td>我的世界生存战争，这和我的世界有什么关系，又和生存战争有什么关系，这个名字呀，因为有我的世界...</td>\n",
              "    </tr>\n",
              "    <tr>\n",
              "      <th>1728</th>\n",
              "      <td>1561392125-7752</td>\n",
              "      <td>https://www.taptap.com/app/134490/review?order...</td>\n",
              "      <td>width: 14px</td>\n",
              "      <td>等等，这就是传说中的名字致敬我的世界，玩法借鉴饥荒的游戏吗，秀啊</td>\n",
              "    </tr>\n",
              "    <tr>\n",
              "      <th>1729</th>\n",
              "      <td>1561392157-8059</td>\n",
              "      <td>https://www.taptap.com/app/134490/review?order...</td>\n",
              "      <td>width: 70px</td>\n",
              "      <td>这个是我玩过最好的游戏，首先使我感到震惊的是他的游戏名称，(我的世界生存战争)，啊，多么山寨...</td>\n",
              "    </tr>\n",
              "    <tr>\n",
              "      <th>1730</th>\n",
              "      <td>1561392174-8144</td>\n",
              "      <td>https://www.taptap.com/app/134490/review?order...</td>\n",
              "      <td>width: 14px</td>\n",
              "      <td>这个东西，一次蹭3个游戏热度，一个mc，一个生存战争，一个饥荒这3个我都玩过，我不知道这样连...</td>\n",
              "    </tr>\n",
              "    <tr>\n",
              "      <th>1731</th>\n",
              "      <td>1561392153-8016</td>\n",
              "      <td>https://www.taptap.com/app/134490/review?order...</td>\n",
              "      <td>width: 14px</td>\n",
              "      <td>名字.....无语厂商真是懒到一定境界了画面，这是饥荒吗?!而且画的连饥荒都不如.........</td>\n",
              "    </tr>\n",
              "    <tr>\n",
              "      <th>1732</th>\n",
              "      <td>1561392159-8075</td>\n",
              "      <td>https://www.taptap.com/app/134490/review?order...</td>\n",
              "      <td>width: 14px</td>\n",
              "      <td>当我看到这款游戏的时候，我感觉十分好奇，就点了进来，进来一看，我滴个乖乖！这是个啥？把两大不...</td>\n",
              "    </tr>\n",
              "    <tr>\n",
              "      <th>1733</th>\n",
              "      <td>1561392136-7845</td>\n",
              "      <td>https://www.taptap.com/app/134490/review?order...</td>\n",
              "      <td>width: 14px</td>\n",
              "      <td>迷你世界：…………………………我去你的，你抄我的干嘛？我火呀？我的世界：迷你世界抄袭我也就算...</td>\n",
              "    </tr>\n",
              "    <tr>\n",
              "      <th>1734</th>\n",
              "      <td>1561392067-7298</td>\n",
              "      <td>https://www.taptap.com/app/134490/review?order...</td>\n",
              "      <td>width: 28px</td>\n",
              "      <td>挖槽，结合我的世界，生存战争，饥荒的绝世神作居然在这里被窝找到了，哇  哇哇  哇哇哇哇哇哇...</td>\n",
              "    </tr>\n",
              "    <tr>\n",
              "      <th>1735</th>\n",
              "      <td>1561392125-7740</td>\n",
              "      <td>https://www.taptap.com/app/134490/review?order...</td>\n",
              "      <td>width: 14px</td>\n",
              "      <td>真厉害啊，不紧抄我的世界，还抄迷你世界，真厉害啊，这种游戏还出！！🤬一个星都不想给</td>\n",
              "    </tr>\n",
              "    <tr>\n",
              "      <th>1736</th>\n",
              "      <td>1561392107-7644</td>\n",
              "      <td>https://www.taptap.com/app/134490/review?order...</td>\n",
              "      <td>width: 14px</td>\n",
              "      <td>好啊还是盗版游戏，吃鸡、我的世界、迷你世界，都抄袭了，怪牛逼啊！</td>\n",
              "    </tr>\n",
              "    <tr>\n",
              "      <th>1737</th>\n",
              "      <td>1561392140-7878</td>\n",
              "      <td>https://www.taptap.com/app/134490/review?order...</td>\n",
              "      <td>width: 14px</td>\n",
              "      <td>以为是饥荒发布了。。下载之后发现，这游戏厚颜无耻的程度简直了，这赤裸裸的抄袭好吗？！你以为画...</td>\n",
              "    </tr>\n",
              "    <tr>\n",
              "      <th>1738</th>\n",
              "      <td>1561392129-7789</td>\n",
              "      <td>https://www.taptap.com/app/134490/review?order...</td>\n",
              "      <td>width: 14px</td>\n",
              "      <td>首先说我是一个饥荒粉再说这个游戏真的是毫无新意难道中国就做不出好游戏吗为什么非得抄袭呢</td>\n",
              "    </tr>\n",
              "    <tr>\n",
              "      <th>1739</th>\n",
              "      <td>1561392157-8044</td>\n",
              "      <td>https://www.taptap.com/app/134490/review?order...</td>\n",
              "      <td>width: 14px</td>\n",
              "      <td>我看到了这八个字把两款大作结合在了一起我默默的打开了页面我十分激动打开拨号点下那从未联系过的...</td>\n",
              "    </tr>\n",
              "    <tr>\n",
              "      <th>1740</th>\n",
              "      <td>1561392157-8051</td>\n",
              "      <td>https://www.taptap.com/app/134490/review?order...</td>\n",
              "      <td>width: 14px</td>\n",
              "      <td>蹭热度也就算了做得还那么烂？欺骗消费者是不是？不想多说了，半星砸给你！看你们能开发出一款游戏...</td>\n",
              "    </tr>\n",
              "    <tr>\n",
              "      <th>1741</th>\n",
              "      <td>1561392105-7619</td>\n",
              "      <td>https://www.taptap.com/app/134490/review?order...</td>\n",
              "      <td>width: 14px</td>\n",
              "      <td>这个游戏这么良心你们居然不玩?我的世界和饥荒的合体版这么好玩，为什么不玩(滑稽)</td>\n",
              "    </tr>\n",
              "    <tr>\n",
              "      <th>1742</th>\n",
              "      <td>1561392125-7750</td>\n",
              "      <td>https://www.taptap.com/app/134490/review?order...</td>\n",
              "      <td>width: 14px</td>\n",
              "      <td>又是个抄袭饥荒的，我就奇怪了这次为什么不是网易和4399抄了？</td>\n",
              "    </tr>\n",
              "    <tr>\n",
              "      <th>1743</th>\n",
              "      <td>1561392079-7420</td>\n",
              "      <td>https://www.taptap.com/app/134490/review?order...</td>\n",
              "      <td>width: 14px</td>\n",
              "      <td>我们才能在未来之路上渐行渐远………emmmmmm渐行渐远的意思百度一下</td>\n",
              "    </tr>\n",
              "    <tr>\n",
              "      <th>1744</th>\n",
              "      <td>1561392090-7516</td>\n",
              "      <td>https://www.taptap.com/app/134490/review?order...</td>\n",
              "      <td>width: 42px</td>\n",
              "      <td>Emmmm,我也是醉了。我想问，背景是迷你世界的吗。貌似见过，真棒👍。抄不抄袭我不说了，因为...</td>\n",
              "    </tr>\n",
              "    <tr>\n",
              "      <th>1745</th>\n",
              "      <td>1561392121-7713</td>\n",
              "      <td>https://www.taptap.com/app/134490/review?order...</td>\n",
              "      <td>width: 14px</td>\n",
              "      <td>游戏盈利我可以理解，但是这游戏真是满身铜臭，怎么看怎么像骗不懂事的小孩坑爸妈钱的游戏</td>\n",
              "    </tr>\n",
              "    <tr>\n",
              "      <th>1746</th>\n",
              "      <td>1561392131-7803</td>\n",
              "      <td>https://www.taptap.com/app/134490/review?order...</td>\n",
              "      <td>width: 14px</td>\n",
              "      <td>看见比mini评分还低我就放心了，看见这人物我第一个想到mini，看了一眼，居然都是深圳的，...</td>\n",
              "    </tr>\n",
              "  </tbody>\n",
              "</table>\n",
              "</div>"
            ],
            "text/plain": [
              "     web-scraper-order  ...                                             review\n",
              "1727   1561392138-7870  ...  我的世界生存战争，这和我的世界有什么关系，又和生存战争有什么关系，这个名字呀，因为有我的世界...\n",
              "1728   1561392125-7752  ...                   等等，这就是传说中的名字致敬我的世界，玩法借鉴饥荒的游戏吗，秀啊\n",
              "1729   1561392157-8059  ...  这个是我玩过最好的游戏，首先使我感到震惊的是他的游戏名称，(我的世界生存战争)，啊，多么山寨...\n",
              "1730   1561392174-8144  ...  这个东西，一次蹭3个游戏热度，一个mc，一个生存战争，一个饥荒这3个我都玩过，我不知道这样连...\n",
              "1731   1561392153-8016  ...  名字.....无语厂商真是懒到一定境界了画面，这是饥荒吗?!而且画的连饥荒都不如.........\n",
              "1732   1561392159-8075  ...  当我看到这款游戏的时候，我感觉十分好奇，就点了进来，进来一看，我滴个乖乖！这是个啥？把两大不...\n",
              "1733   1561392136-7845  ...  迷你世界：…………………………我去你的，你抄我的干嘛？我火呀？我的世界：迷你世界抄袭我也就算...\n",
              "1734   1561392067-7298  ...  挖槽，结合我的世界，生存战争，饥荒的绝世神作居然在这里被窝找到了，哇  哇哇  哇哇哇哇哇哇...\n",
              "1735   1561392125-7740  ...          真厉害啊，不紧抄我的世界，还抄迷你世界，真厉害啊，这种游戏还出！！🤬一个星都不想给\n",
              "1736   1561392107-7644  ...                   好啊还是盗版游戏，吃鸡、我的世界、迷你世界，都抄袭了，怪牛逼啊！\n",
              "1737   1561392140-7878  ...  以为是饥荒发布了。。下载之后发现，这游戏厚颜无耻的程度简直了，这赤裸裸的抄袭好吗？！你以为画...\n",
              "1738   1561392129-7789  ...        首先说我是一个饥荒粉再说这个游戏真的是毫无新意难道中国就做不出好游戏吗为什么非得抄袭呢\n",
              "1739   1561392157-8044  ...  我看到了这八个字把两款大作结合在了一起我默默的打开了页面我十分激动打开拨号点下那从未联系过的...\n",
              "1740   1561392157-8051  ...  蹭热度也就算了做得还那么烂？欺骗消费者是不是？不想多说了，半星砸给你！看你们能开发出一款游戏...\n",
              "1741   1561392105-7619  ...           这个游戏这么良心你们居然不玩?我的世界和饥荒的合体版这么好玩，为什么不玩(滑稽)\n",
              "1742   1561392125-7750  ...                    又是个抄袭饥荒的，我就奇怪了这次为什么不是网易和4399抄了？\n",
              "1743   1561392079-7420  ...                我们才能在未来之路上渐行渐远………emmmmmm渐行渐远的意思百度一下\n",
              "1744   1561392090-7516  ...  Emmmm,我也是醉了。我想问，背景是迷你世界的吗。貌似见过，真棒👍。抄不抄袭我不说了，因为...\n",
              "1745   1561392121-7713  ...         游戏盈利我可以理解，但是这游戏真是满身铜臭，怎么看怎么像骗不懂事的小孩坑爸妈钱的游戏\n",
              "1746   1561392131-7803  ...  看见比mini评分还低我就放心了，看见这人物我第一个想到mini，看了一眼，居然都是深圳的，...\n",
              "\n",
              "[20 rows x 4 columns]"
            ]
          },
          "metadata": {
            "tags": []
          },
          "execution_count": 79
        }
      ]
    },
    {
      "cell_type": "code",
      "metadata": {
        "id": "zw08oZmWStNg",
        "colab_type": "code",
        "colab": {}
      },
      "source": [
        "def px_to_star(px):\n",
        "  if ('70' in str(px)) or ('56' in str(px)):\n",
        "    return 1  # means satisfied\n",
        "  else:\n",
        "    return 0 # unsatisfied"
      ],
      "execution_count": 0,
      "outputs": []
    },
    {
      "cell_type": "code",
      "metadata": {
        "id": "YnsvSnSMS6GJ",
        "colab_type": "code",
        "colab": {}
      },
      "source": [
        "df_bad_new['sentiment'] = df_bad_new.stars.apply(px_to_star)"
      ],
      "execution_count": 0,
      "outputs": []
    },
    {
      "cell_type": "code",
      "metadata": {
        "id": "HqfX_qYzTeS5",
        "colab_type": "code",
        "outputId": "1a7f79f7-943a-42fd-8bb0-d708f08e84d2",
        "colab": {
          "base_uri": "https://localhost:8080/",
          "height": 363
        }
      },
      "source": [
        "df_bad_new.tail()"
      ],
      "execution_count": 0,
      "outputs": [
        {
          "output_type": "execute_result",
          "data": {
            "text/html": [
              "<div>\n",
              "<style scoped>\n",
              "    .dataframe tbody tr th:only-of-type {\n",
              "        vertical-align: middle;\n",
              "    }\n",
              "\n",
              "    .dataframe tbody tr th {\n",
              "        vertical-align: top;\n",
              "    }\n",
              "\n",
              "    .dataframe thead th {\n",
              "        text-align: right;\n",
              "    }\n",
              "</style>\n",
              "<table border=\"1\" class=\"dataframe\">\n",
              "  <thead>\n",
              "    <tr style=\"text-align: right;\">\n",
              "      <th></th>\n",
              "      <th>web-scraper-order</th>\n",
              "      <th>web-scraper-start-url</th>\n",
              "      <th>stars</th>\n",
              "      <th>review</th>\n",
              "      <th>sentiment</th>\n",
              "    </tr>\n",
              "  </thead>\n",
              "  <tbody>\n",
              "    <tr>\n",
              "      <th>1742</th>\n",
              "      <td>1561392125-7750</td>\n",
              "      <td>https://www.taptap.com/app/134490/review?order...</td>\n",
              "      <td>width: 14px</td>\n",
              "      <td>又是个抄袭饥荒的，我就奇怪了这次为什么不是网易和4399抄了？</td>\n",
              "      <td>0</td>\n",
              "    </tr>\n",
              "    <tr>\n",
              "      <th>1743</th>\n",
              "      <td>1561392079-7420</td>\n",
              "      <td>https://www.taptap.com/app/134490/review?order...</td>\n",
              "      <td>width: 14px</td>\n",
              "      <td>我们才能在未来之路上渐行渐远………emmmmmm渐行渐远的意思百度一下</td>\n",
              "      <td>0</td>\n",
              "    </tr>\n",
              "    <tr>\n",
              "      <th>1744</th>\n",
              "      <td>1561392090-7516</td>\n",
              "      <td>https://www.taptap.com/app/134490/review?order...</td>\n",
              "      <td>width: 42px</td>\n",
              "      <td>Emmmm,我也是醉了。我想问，背景是迷你世界的吗。貌似见过，真棒👍。抄不抄袭我不说了，因为...</td>\n",
              "      <td>0</td>\n",
              "    </tr>\n",
              "    <tr>\n",
              "      <th>1745</th>\n",
              "      <td>1561392121-7713</td>\n",
              "      <td>https://www.taptap.com/app/134490/review?order...</td>\n",
              "      <td>width: 14px</td>\n",
              "      <td>游戏盈利我可以理解，但是这游戏真是满身铜臭，怎么看怎么像骗不懂事的小孩坑爸妈钱的游戏</td>\n",
              "      <td>0</td>\n",
              "    </tr>\n",
              "    <tr>\n",
              "      <th>1746</th>\n",
              "      <td>1561392131-7803</td>\n",
              "      <td>https://www.taptap.com/app/134490/review?order...</td>\n",
              "      <td>width: 14px</td>\n",
              "      <td>看见比mini评分还低我就放心了，看见这人物我第一个想到mini，看了一眼，居然都是深圳的，...</td>\n",
              "      <td>0</td>\n",
              "    </tr>\n",
              "  </tbody>\n",
              "</table>\n",
              "</div>"
            ],
            "text/plain": [
              "     web-scraper-order  ... sentiment\n",
              "1742   1561392125-7750  ...         0\n",
              "1743   1561392079-7420  ...         0\n",
              "1744   1561392090-7516  ...         0\n",
              "1745   1561392121-7713  ...         0\n",
              "1746   1561392131-7803  ...         0\n",
              "\n",
              "[5 rows x 5 columns]"
            ]
          },
          "metadata": {
            "tags": []
          },
          "execution_count": 84
        }
      ]
    },
    {
      "cell_type": "code",
      "metadata": {
        "id": "qpKNX232Tjvb",
        "colab_type": "code",
        "colab": {}
      },
      "source": [
        "df_good = pd.read_csv(path/'taptap_processed.csv',index_col=0)"
      ],
      "execution_count": 0,
      "outputs": []
    },
    {
      "cell_type": "code",
      "metadata": {
        "id": "neQqY21ZTqbp",
        "colab_type": "code",
        "outputId": "e3686545-36cc-4b9e-f186-898495bf5022",
        "colab": {
          "base_uri": "https://localhost:8080/",
          "height": 34
        }
      },
      "source": [
        "df_good.shape"
      ],
      "execution_count": 0,
      "outputs": [
        {
          "output_type": "execute_result",
          "data": {
            "text/plain": [
              "(3334, 4)"
            ]
          },
          "metadata": {
            "tags": []
          },
          "execution_count": 88
        }
      ]
    },
    {
      "cell_type": "code",
      "metadata": {
        "id": "jSBHrRBPT8MT",
        "colab_type": "code",
        "outputId": "31912f41-e86e-44c5-e247-3f4c87fbee36",
        "colab": {
          "base_uri": "https://localhost:8080/",
          "height": 34
        }
      },
      "source": [
        "df_good[  (30 < df_good.comment_texts.str.len()) & (df_good.comment_texts.str.len() < 2500)  ].shape"
      ],
      "execution_count": 0,
      "outputs": [
        {
          "output_type": "execute_result",
          "data": {
            "text/plain": [
              "(3134, 4)"
            ]
          },
          "metadata": {
            "tags": []
          },
          "execution_count": 101
        }
      ]
    },
    {
      "cell_type": "code",
      "metadata": {
        "id": "yabZVk_mUdxX",
        "colab_type": "code",
        "colab": {}
      },
      "source": [
        "df_good_new = df_good[  (30 < df_good.comment_texts.str.len())].copy()"
      ],
      "execution_count": 0,
      "outputs": []
    },
    {
      "cell_type": "code",
      "metadata": {
        "id": "RyJeKu6AUnyd",
        "colab_type": "code",
        "colab": {}
      },
      "source": [
        "df_good_new.reset_index(drop=True,inplace=True)"
      ],
      "execution_count": 0,
      "outputs": []
    },
    {
      "cell_type": "code",
      "metadata": {
        "id": "YQTA6VSzVkLx",
        "colab_type": "code",
        "colab": {}
      },
      "source": [
        "df_good_new.drop(columns=['start_link-href','stars'],inplace=True)"
      ],
      "execution_count": 0,
      "outputs": []
    },
    {
      "cell_type": "code",
      "metadata": {
        "id": "A5nKmgcTWXiU",
        "colab_type": "code",
        "colab": {}
      },
      "source": [
        "df_bad_new.drop(columns=['web-scraper-order','web-scraper-start-url','stars'],inplace=True)"
      ],
      "execution_count": 0,
      "outputs": []
    },
    {
      "cell_type": "code",
      "metadata": {
        "id": "AYJAaTjRWpYB",
        "colab_type": "code",
        "colab": {}
      },
      "source": [
        "df_good_new.columns = ['review', 'sentiment']"
      ],
      "execution_count": 0,
      "outputs": []
    },
    {
      "cell_type": "code",
      "metadata": {
        "id": "4iu3S74SXn2g",
        "colab_type": "code",
        "outputId": "740efedc-5943-4685-b147-42a62be2399b",
        "colab": {
          "base_uri": "https://localhost:8080/",
          "height": 195
        }
      },
      "source": [
        "df_good_new.head()"
      ],
      "execution_count": 0,
      "outputs": [
        {
          "output_type": "execute_result",
          "data": {
            "text/html": [
              "<div>\n",
              "<style scoped>\n",
              "    .dataframe tbody tr th:only-of-type {\n",
              "        vertical-align: middle;\n",
              "    }\n",
              "\n",
              "    .dataframe tbody tr th {\n",
              "        vertical-align: top;\n",
              "    }\n",
              "\n",
              "    .dataframe thead th {\n",
              "        text-align: right;\n",
              "    }\n",
              "</style>\n",
              "<table border=\"1\" class=\"dataframe\">\n",
              "  <thead>\n",
              "    <tr style=\"text-align: right;\">\n",
              "      <th></th>\n",
              "      <th>review</th>\n",
              "      <th>sentiment</th>\n",
              "    </tr>\n",
              "  </thead>\n",
              "  <tbody>\n",
              "    <tr>\n",
              "      <th>0</th>\n",
              "      <td>看见这个游戏上了日推，于是便心血来潮的的下载玩了一下，现在借助Tap这个平台发一些玩这个游戏...</td>\n",
              "      <td>1</td>\n",
              "    </tr>\n",
              "    <tr>\n",
              "      <th>1</th>\n",
              "      <td>之前手机玩过一段时间，个人不太喜欢这种类型。很不明白，为什么不做刀剑2，当年端游方面很着迷入...</td>\n",
              "      <td>0</td>\n",
              "    </tr>\n",
              "    <tr>\n",
              "      <th>2</th>\n",
              "      <td>我想给厂家提个建议：可否出一个云存档，上传玩家的游戏纪录，否则辛辛苦苦肝出来的存档，卸载后就...</td>\n",
              "      <td>1</td>\n",
              "    </tr>\n",
              "    <tr>\n",
              "      <th>3</th>\n",
              "      <td>▶前言:专治手欠手残，不知诸位手好了没有？▶评论标题:你的手由我来守护▶简评:①Tap上又一...</td>\n",
              "      <td>1</td>\n",
              "    </tr>\n",
              "    <tr>\n",
              "      <th>4</th>\n",
              "      <td>《地下城堡：炼金术师的魔幻之旅》2014.10.1【雷霆游戏】淘金互娱【剧情背景】误入荒野天...</td>\n",
              "      <td>1</td>\n",
              "    </tr>\n",
              "  </tbody>\n",
              "</table>\n",
              "</div>"
            ],
            "text/plain": [
              "                                              review  sentiment\n",
              "0  看见这个游戏上了日推，于是便心血来潮的的下载玩了一下，现在借助Tap这个平台发一些玩这个游戏...          1\n",
              "1  之前手机玩过一段时间，个人不太喜欢这种类型。很不明白，为什么不做刀剑2，当年端游方面很着迷入...          0\n",
              "2  我想给厂家提个建议：可否出一个云存档，上传玩家的游戏纪录，否则辛辛苦苦肝出来的存档，卸载后就...          1\n",
              "3  ▶前言:专治手欠手残，不知诸位手好了没有？▶评论标题:你的手由我来守护▶简评:①Tap上又一...          1\n",
              "4  《地下城堡：炼金术师的魔幻之旅》2014.10.1【雷霆游戏】淘金互娱【剧情背景】误入荒野天...          1"
            ]
          },
          "metadata": {
            "tags": []
          },
          "execution_count": 122
        }
      ]
    },
    {
      "cell_type": "code",
      "metadata": {
        "id": "a5Kcq9ssXtc4",
        "colab_type": "code",
        "colab": {}
      },
      "source": [
        "df_taptap = pd.concat([df_good_new,df_bad_new], ignore_index=True)"
      ],
      "execution_count": 0,
      "outputs": []
    },
    {
      "cell_type": "code",
      "metadata": {
        "id": "cpWSHkATYC0g",
        "colab_type": "code",
        "colab": {}
      },
      "source": [
        "df_taptap_final = df_taptap.sample(frac=1).reset_index(drop=True)"
      ],
      "execution_count": 0,
      "outputs": []
    },
    {
      "cell_type": "code",
      "metadata": {
        "id": "UaRidpCWcO3J",
        "colab_type": "code",
        "outputId": "e6e7d872-58da-4370-9bf8-88f50239e873",
        "colab": {
          "base_uri": "https://localhost:8080/",
          "height": 70
        }
      },
      "source": [
        "df_taptap_final.sentiment.value_counts()"
      ],
      "execution_count": 0,
      "outputs": [
        {
          "output_type": "execute_result",
          "data": {
            "text/plain": [
              "0    2458\n",
              "1    2430\n",
              "Name: sentiment, dtype: int64"
            ]
          },
          "metadata": {
            "tags": []
          },
          "execution_count": 133
        }
      ]
    },
    {
      "cell_type": "code",
      "metadata": {
        "id": "ZRNsDEugcdju",
        "colab_type": "code",
        "colab": {}
      },
      "source": [
        "df_taptap_final.to_csv(path/'taptap_review_ready.csv',index=False)"
      ],
      "execution_count": 0,
      "outputs": []
    },
    {
      "cell_type": "markdown",
      "metadata": {
        "id": "8G8yi-w8gDcg",
        "colab_type": "text"
      },
      "source": [
        "## Data Load"
      ]
    },
    {
      "cell_type": "code",
      "metadata": {
        "id": "KFbYZ-Knkdsu",
        "colab_type": "code",
        "colab": {}
      },
      "source": [
        "tap_df_pro = pd.read_csv(path/'taptap_processed.csv',index_col=0)"
      ],
      "execution_count": 0,
      "outputs": []
    },
    {
      "cell_type": "code",
      "metadata": {
        "id": "awDtGb8qoK4h",
        "colab_type": "code",
        "outputId": "cf87bd6e-76cc-4fae-c98e-bfbb3dcd5c39",
        "colab": {
          "base_uri": "https://localhost:8080/",
          "height": 296
        }
      },
      "source": [
        "tap_df_pro.head()"
      ],
      "execution_count": 0,
      "outputs": [
        {
          "output_type": "execute_result",
          "data": {
            "text/html": [
              "<div>\n",
              "<style scoped>\n",
              "    .dataframe tbody tr th:only-of-type {\n",
              "        vertical-align: middle;\n",
              "    }\n",
              "\n",
              "    .dataframe tbody tr th {\n",
              "        vertical-align: top;\n",
              "    }\n",
              "\n",
              "    .dataframe thead th {\n",
              "        text-align: right;\n",
              "    }\n",
              "</style>\n",
              "<table border=\"1\" class=\"dataframe\">\n",
              "  <thead>\n",
              "    <tr style=\"text-align: right;\">\n",
              "      <th></th>\n",
              "      <th>Unnamed: 0</th>\n",
              "      <th>start_link-href</th>\n",
              "      <th>comment_texts</th>\n",
              "      <th>stars</th>\n",
              "      <th>sentiment</th>\n",
              "    </tr>\n",
              "  </thead>\n",
              "  <tbody>\n",
              "    <tr>\n",
              "      <th>0</th>\n",
              "      <td>0</td>\n",
              "      <td>https://www.taptap.com/app/78946</td>\n",
              "      <td>看见这个游戏上了日推，于是便心血来潮的的下载玩了一下，现在借助Tap这个平台发一些玩这个游戏...</td>\n",
              "      <td>width: 56px</td>\n",
              "      <td>1</td>\n",
              "    </tr>\n",
              "    <tr>\n",
              "      <th>1</th>\n",
              "      <td>1</td>\n",
              "      <td>https://www.taptap.com/app/16404</td>\n",
              "      <td>之前手机玩过一段时间，个人不太喜欢这种类型。很不明白，为什么不做刀剑2，当年端游方面很着迷入...</td>\n",
              "      <td>width: 28px</td>\n",
              "      <td>0</td>\n",
              "    </tr>\n",
              "    <tr>\n",
              "      <th>2</th>\n",
              "      <td>2</td>\n",
              "      <td>https://www.taptap.com/app/15386</td>\n",
              "      <td>我想给厂家提个建议：可否出一个云存档，上传玩家的游戏纪录，否则辛辛苦苦肝出来的存档，卸载后就...</td>\n",
              "      <td>width: 56px</td>\n",
              "      <td>1</td>\n",
              "    </tr>\n",
              "    <tr>\n",
              "      <th>3</th>\n",
              "      <td>3</td>\n",
              "      <td>https://www.taptap.com/app/53320</td>\n",
              "      <td>▶前言:专治手欠手残，不知诸位手好了没有？▶评论标题:你的手由我来守护▶简评:①Tap上又一...</td>\n",
              "      <td>width: 56px</td>\n",
              "      <td>1</td>\n",
              "    </tr>\n",
              "    <tr>\n",
              "      <th>4</th>\n",
              "      <td>4</td>\n",
              "      <td>https://www.taptap.com/app/11471</td>\n",
              "      <td>《地下城堡：炼金术师的魔幻之旅》2014.10.1【雷霆游戏】淘金互娱【剧情背景】误入荒野天...</td>\n",
              "      <td>width: 56px</td>\n",
              "      <td>1</td>\n",
              "    </tr>\n",
              "  </tbody>\n",
              "</table>\n",
              "</div>"
            ],
            "text/plain": [
              "   Unnamed: 0                   start_link-href  ...        stars sentiment\n",
              "0           0  https://www.taptap.com/app/78946  ...  width: 56px         1\n",
              "1           1  https://www.taptap.com/app/16404  ...  width: 28px         0\n",
              "2           2  https://www.taptap.com/app/15386  ...  width: 56px         1\n",
              "3           3  https://www.taptap.com/app/53320  ...  width: 56px         1\n",
              "4           4  https://www.taptap.com/app/11471  ...  width: 56px         1\n",
              "\n",
              "[5 rows x 5 columns]"
            ]
          },
          "metadata": {
            "tags": []
          },
          "execution_count": 31
        }
      ]
    },
    {
      "cell_type": "code",
      "metadata": {
        "colab_type": "code",
        "id": "mveUwt6JxuMA",
        "colab": {}
      },
      "source": [
        "pandas_profiling.ProfileReport(tap_df_pro)"
      ],
      "execution_count": 0,
      "outputs": []
    },
    {
      "cell_type": "code",
      "metadata": {
        "id": "05Wl6rK19lVa",
        "colab_type": "code",
        "colab": {}
      },
      "source": [
        "tap_df_pro.to_csv(path/'taptap_processed.csv',index=False)"
      ],
      "execution_count": 0,
      "outputs": []
    },
    {
      "cell_type": "code",
      "metadata": {
        "id": "yp-jAUHs-bZ1",
        "colab_type": "code",
        "colab": {}
      },
      "source": [
        ""
      ],
      "execution_count": 0,
      "outputs": []
    }
  ]
}