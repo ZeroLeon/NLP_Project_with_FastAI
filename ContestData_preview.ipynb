{
  "nbformat": 4,
  "nbformat_minor": 0,
  "metadata": {
    "colab": {
      "name": "ContestData_preview.ipynb",
      "version": "0.3.2",
      "provenance": [],
      "collapsed_sections": [],
      "include_colab_link": true
    },
    "kernelspec": {
      "name": "python3",
      "display_name": "Python 3"
    },
    "accelerator": "GPU"
  },
  "cells": [
    {
      "cell_type": "markdown",
      "metadata": {
        "id": "view-in-github",
        "colab_type": "text"
      },
      "source": [
        "<a href=\"https://colab.research.google.com/github/ZeroLeon/NLP_Project_with_FastAI/blob/master/ContestData_preview.ipynb\" target=\"_parent\"><img src=\"https://colab.research.google.com/assets/colab-badge.svg\" alt=\"Open In Colab\"/></a>"
      ]
    },
    {
      "cell_type": "code",
      "metadata": {
        "id": "rma_YJr732p8",
        "colab_type": "code",
        "colab": {}
      },
      "source": [
        "import os \n",
        "from pathlib import Path\n",
        "from google.colab import drive\n",
        "drive.mount('/content/gdrive',force_remount = True)\n",
        "base_dir = '/content/gdrive/My Drive/fastai'\n",
        "path = Path(base_dir +'/data/this_topic')\n",
        "path.mkdir(parents=True,exist_ok=True)\n",
        "os.chdir(path)"
      ],
      "execution_count": 0,
      "outputs": []
    },
    {
      "cell_type": "markdown",
      "metadata": {
        "id": "YIuG06xQJg-Q",
        "colab_type": "text"
      },
      "source": [
        "# Pre-Processing\n",
        "\n",
        "Transfer all contest data files to csv format and take a peek at the data. "
      ]
    },
    {
      "cell_type": "code",
      "metadata": {
        "id": "zSD2_N9m4jlG",
        "colab_type": "code",
        "colab": {}
      },
      "source": [
        "path = Path('/content/gdrive/My Drive/contest/dataset')"
      ],
      "execution_count": 0,
      "outputs": []
    },
    {
      "cell_type": "code",
      "metadata": {
        "id": "xs2HF3lr4uI-",
        "colab_type": "code",
        "colab": {}
      },
      "source": [
        "os.chdir(path)"
      ],
      "execution_count": 0,
      "outputs": []
    },
    {
      "cell_type": "code",
      "metadata": {
        "id": "zkGoaxaY4ypz",
        "colab_type": "code",
        "colab": {
          "base_uri": "https://localhost:8080/",
          "height": 52
        },
        "outputId": "3fb32adb-5baa-436c-d570-45ca1db248a5"
      },
      "source": [
        "%ls "
      ],
      "execution_count": 10,
      "outputs": [
        {
          "output_type": "stream",
          "text": [
            "aichallenge2019_大数据应用分类标注提交样例.csv\n",
            "aichallenge2019_大数据应用分类标注-选手.zip\n"
          ],
          "name": "stdout"
        }
      ]
    },
    {
      "cell_type": "code",
      "metadata": {
        "id": "rlMaMyIu42YA",
        "colab_type": "code",
        "colab": {
          "base_uri": "https://localhost:8080/",
          "height": 105
        },
        "outputId": "70c9acf9-2b5e-45c0-87bc-d8761f5e257e"
      },
      "source": [
        "!unzip aichallenge2019_大数据应用分类标注-选手.zip"
      ],
      "execution_count": 11,
      "outputs": [
        {
          "output_type": "stream",
          "text": [
            "Archive:  aichallenge2019_大数据应用分类标注-选手.zip\n",
            "   creating: 大数据应用分类标注-选手/\n",
            "  inflating: 大数据应用分类标注-选手/apptype_id_name.txt  \n",
            "  inflating: 大数据应用分类标注-选手/apptype_train.dat  \n",
            "  inflating: 大数据应用分类标注-选手/app_desc.dat  \n"
          ],
          "name": "stdout"
        }
      ]
    },
    {
      "cell_type": "code",
      "metadata": {
        "id": "rBhA9YEq49KM",
        "colab_type": "code",
        "colab": {}
      },
      "source": [
        "import numpy as np\n",
        "import pandas as pd\n",
        "\n",
        "from pathlib import Path\n",
        "from typing import *"
      ],
      "execution_count": 0,
      "outputs": []
    },
    {
      "cell_type": "code",
      "metadata": {
        "id": "ail2vUyU6C8D",
        "colab_type": "code",
        "colab": {
          "base_uri": "https://localhost:8080/",
          "height": 34
        },
        "outputId": "16ddb10a-c2ca-4a14-c37f-f8c3933fa8ca"
      },
      "source": [
        "%cd bigdata_app"
      ],
      "execution_count": 15,
      "outputs": [
        {
          "output_type": "stream",
          "text": [
            "/content/gdrive/My Drive/contest/dataset/bigdata_app\n"
          ],
          "name": "stdout"
        }
      ]
    },
    {
      "cell_type": "code",
      "metadata": {
        "id": "VyQT0vCr6PkS",
        "colab_type": "code",
        "colab": {}
      },
      "source": [
        "df = pd.read_csv('app_desc.dat',header=None, sep='\\s+', skiprows=0)"
      ],
      "execution_count": 0,
      "outputs": []
    },
    {
      "cell_type": "code",
      "metadata": {
        "id": "cydpUH5a6YFu",
        "colab_type": "code",
        "colab": {
          "base_uri": "https://localhost:8080/",
          "height": 279
        },
        "outputId": "83f041cf-c5f6-48e9-8848-2f3157503d60"
      },
      "source": [
        "df.head()"
      ],
      "execution_count": 26,
      "outputs": [
        {
          "output_type": "execute_result",
          "data": {
            "text/html": [
              "<div>\n",
              "<style scoped>\n",
              "    .dataframe tbody tr th:only-of-type {\n",
              "        vertical-align: middle;\n",
              "    }\n",
              "\n",
              "    .dataframe tbody tr th {\n",
              "        vertical-align: top;\n",
              "    }\n",
              "\n",
              "    .dataframe thead th {\n",
              "        text-align: right;\n",
              "    }\n",
              "</style>\n",
              "<table border=\"1\" class=\"dataframe\">\n",
              "  <thead>\n",
              "    <tr style=\"text-align: right;\">\n",
              "      <th></th>\n",
              "      <th>0</th>\n",
              "      <th>1</th>\n",
              "    </tr>\n",
              "  </thead>\n",
              "  <tbody>\n",
              "    <tr>\n",
              "      <th>0</th>\n",
              "      <td>BB29DA6F8167CFC99E0853741C4EB17B</td>\n",
              "      <td>注意]游戏需要在设备上自己的歌曲注意]音乐赛车是一个音乐改编的赛车游戏，你用你自己的音乐比赛...</td>\n",
              "    </tr>\n",
              "    <tr>\n",
              "      <th>1</th>\n",
              "      <td>BB2A78EA7AD4945EAF6E38997F6139A3</td>\n",
              "      <td>定位试衣到家是一款基于地理位置，提供试衣到家专属购物体验的互联网平台。购物流程客户在试衣到家...</td>\n",
              "    </tr>\n",
              "    <tr>\n",
              "      <th>2</th>\n",
              "      <td>BB2B1604CFA079C289FECF927DFBCE89</td>\n",
              "      <td>想念一个人,就说出来。记得要下载安卓锁屏才可正常显示锁屏效果哦~更新内容更稳定、更优质，邀您...</td>\n",
              "    </tr>\n",
              "    <tr>\n",
              "      <th>3</th>\n",
              "      <td>BB2C7BD0B0623644183DAD08A89E1D90</td>\n",
              "      <td>闽通宝手机客户端是基于移动互联网的，以公众出行服务为基础，贯彻绿色出行，低碳生活的理念，为出...</td>\n",
              "    </tr>\n",
              "    <tr>\n",
              "      <th>4</th>\n",
              "      <td>BB2E1A8F56158E483D7461E930E6332F</td>\n",
              "      <td>风靡全球的DIY照片桌面，干净、流畅，启动提速100，瞬间提升手机性能；更是一亿用户的共同选...</td>\n",
              "    </tr>\n",
              "  </tbody>\n",
              "</table>\n",
              "</div>"
            ],
            "text/plain": [
              "                                  0                                                  1\n",
              "0  BB29DA6F8167CFC99E0853741C4EB17B  注意]游戏需要在设备上自己的歌曲注意]音乐赛车是一个音乐改编的赛车游戏，你用你自己的音乐比赛...\n",
              "1  BB2A78EA7AD4945EAF6E38997F6139A3  定位试衣到家是一款基于地理位置，提供试衣到家专属购物体验的互联网平台。购物流程客户在试衣到家...\n",
              "2  BB2B1604CFA079C289FECF927DFBCE89  想念一个人,就说出来。记得要下载安卓锁屏才可正常显示锁屏效果哦~更新内容更稳定、更优质，邀您...\n",
              "3  BB2C7BD0B0623644183DAD08A89E1D90  闽通宝手机客户端是基于移动互联网的，以公众出行服务为基础，贯彻绿色出行，低碳生活的理念，为出...\n",
              "4  BB2E1A8F56158E483D7461E930E6332F  风靡全球的DIY照片桌面，干净、流畅，启动提速100，瞬间提升手机性能；更是一亿用户的共同选..."
            ]
          },
          "metadata": {
            "tags": []
          },
          "execution_count": 26
        }
      ]
    },
    {
      "cell_type": "code",
      "metadata": {
        "id": "dlVJZRKf8Ps5",
        "colab_type": "code",
        "colab": {}
      },
      "source": [
        "df_train = pd.read_csv('apptype_train.dat',header=None, sep='\\s+',quoting=csv.QUOTE_NONE, encoding='utf-8')"
      ],
      "execution_count": 0,
      "outputs": []
    },
    {
      "cell_type": "code",
      "metadata": {
        "id": "RiEFTIDk8pCz",
        "colab_type": "code",
        "colab": {
          "base_uri": "https://localhost:8080/",
          "height": 262
        },
        "outputId": "5c3c0d2c-30f8-46ab-826f-2ac7d5401433"
      },
      "source": [
        "df_train.head()"
      ],
      "execution_count": 29,
      "outputs": [
        {
          "output_type": "execute_result",
          "data": {
            "text/html": [
              "<div>\n",
              "<style scoped>\n",
              "    .dataframe tbody tr th:only-of-type {\n",
              "        vertical-align: middle;\n",
              "    }\n",
              "\n",
              "    .dataframe tbody tr th {\n",
              "        vertical-align: top;\n",
              "    }\n",
              "\n",
              "    .dataframe thead th {\n",
              "        text-align: right;\n",
              "    }\n",
              "</style>\n",
              "<table border=\"1\" class=\"dataframe\">\n",
              "  <thead>\n",
              "    <tr style=\"text-align: right;\">\n",
              "      <th></th>\n",
              "      <th>0</th>\n",
              "      <th>1</th>\n",
              "      <th>2</th>\n",
              "    </tr>\n",
              "  </thead>\n",
              "  <tbody>\n",
              "    <tr>\n",
              "      <th>0</th>\n",
              "      <td>00000777CE5B5AA5C1AC94DB8EABE0AC</td>\n",
              "      <td>140203</td>\n",
              "      <td>《游戏王座》使用说明书成分由怪兽卡、魔法卡、陷阱卡合计数千张卡牌以及刺激性、耐久性玩法组成。...</td>\n",
              "    </tr>\n",
              "    <tr>\n",
              "      <th>1</th>\n",
              "      <td>0000DEC36E15C27DBFC64AB8208C4B37</td>\n",
              "      <td>140206</td>\n",
              "      <td>更稳定、更优质，邀您一起。</td>\n",
              "    </tr>\n",
              "    <tr>\n",
              "      <th>2</th>\n",
              "      <td>0001791406307B1D1CE2BC64A830B7C7</td>\n",
              "      <td>142106</td>\n",
              "      <td>《小钱袋》是一款免费网络版记帐软件，适用于个人记帐、家庭记帐、团队记帐，全程帮您安全记录您财...</td>\n",
              "    </tr>\n",
              "    <tr>\n",
              "      <th>3</th>\n",
              "      <td>0002F14825B9CA01653325EEFD69D790</td>\n",
              "      <td>142701</td>\n",
              "      <td>领先的周易服务平台高人汇，汇聚算命大师、风水大师、占卜大师、手相大师、起名大师、算命先生、面...</td>\n",
              "    </tr>\n",
              "    <tr>\n",
              "      <th>4</th>\n",
              "      <td>000419D79365331F89399E5F38A91B05</td>\n",
              "      <td>140901</td>\n",
              "      <td>平行空间是一款极简、免费的黑科技双开助手；您可以在平行空间双开微信微博、陌陌、映客、yy等应...</td>\n",
              "    </tr>\n",
              "  </tbody>\n",
              "</table>\n",
              "</div>"
            ],
            "text/plain": [
              "                                  0  ...                                                  2\n",
              "0  00000777CE5B5AA5C1AC94DB8EABE0AC  ...  《游戏王座》使用说明书成分由怪兽卡、魔法卡、陷阱卡合计数千张卡牌以及刺激性、耐久性玩法组成。...\n",
              "1  0000DEC36E15C27DBFC64AB8208C4B37  ...                                      更稳定、更优质，邀您一起。\n",
              "2  0001791406307B1D1CE2BC64A830B7C7  ...  《小钱袋》是一款免费网络版记帐软件，适用于个人记帐、家庭记帐、团队记帐，全程帮您安全记录您财...\n",
              "3  0002F14825B9CA01653325EEFD69D790  ...  领先的周易服务平台高人汇，汇聚算命大师、风水大师、占卜大师、手相大师、起名大师、算命先生、面...\n",
              "4  000419D79365331F89399E5F38A91B05  ...  平行空间是一款极简、免费的黑科技双开助手；您可以在平行空间双开微信微博、陌陌、映客、yy等应...\n",
              "\n",
              "[5 rows x 3 columns]"
            ]
          },
          "metadata": {
            "tags": []
          },
          "execution_count": 29
        }
      ]
    },
    {
      "cell_type": "code",
      "metadata": {
        "id": "CEGjzPln-N54",
        "colab_type": "code",
        "colab": {
          "base_uri": "https://localhost:8080/",
          "height": 34
        },
        "outputId": "67a1f584-aa35-4c87-87f5-ae7403f27525"
      },
      "source": [
        "df.shape,df_train.shape"
      ],
      "execution_count": 40,
      "outputs": [
        {
          "output_type": "execute_result",
          "data": {
            "text/plain": [
              "((94354, 2), (30000, 3))"
            ]
          },
          "metadata": {
            "tags": []
          },
          "execution_count": 40
        }
      ]
    },
    {
      "cell_type": "code",
      "metadata": {
        "id": "pdGkIizq_SMo",
        "colab_type": "code",
        "colab": {}
      },
      "source": [
        "df.rename(columns={0:'id',1:'txt'},inplace=True)\n",
        "df.to_csv('app_desc.csv')"
      ],
      "execution_count": 0,
      "outputs": []
    },
    {
      "cell_type": "code",
      "metadata": {
        "id": "fcr9svG6_8d6",
        "colab_type": "code",
        "colab": {}
      },
      "source": [
        "df_train.rename(columns={0:'id',1:'category',2:'txt'},inplace=True)\n",
        "df_train.to_csv('app_train.csv')"
      ],
      "execution_count": 0,
      "outputs": []
    },
    {
      "cell_type": "code",
      "metadata": {
        "id": "ea3nVhP1AkMl",
        "colab_type": "code",
        "colab": {}
      },
      "source": [
        "df_id_name = pd.read_csv(path/'bigdata_app/apptype_id_name.txt',delimiter='\\t',  header=None)"
      ],
      "execution_count": 0,
      "outputs": []
    },
    {
      "cell_type": "code",
      "metadata": {
        "id": "OzgpzO10DSqt",
        "colab_type": "code",
        "colab": {
          "base_uri": "https://localhost:8080/",
          "height": 195
        },
        "outputId": "6daf4531-f55a-4078-a335-aef12a6ce777"
      },
      "source": [
        "df_id_name.head()"
      ],
      "execution_count": 57,
      "outputs": [
        {
          "output_type": "execute_result",
          "data": {
            "text/html": [
              "<div>\n",
              "<style scoped>\n",
              "    .dataframe tbody tr th:only-of-type {\n",
              "        vertical-align: middle;\n",
              "    }\n",
              "\n",
              "    .dataframe tbody tr th {\n",
              "        vertical-align: top;\n",
              "    }\n",
              "\n",
              "    .dataframe thead th {\n",
              "        text-align: right;\n",
              "    }\n",
              "</style>\n",
              "<table border=\"1\" class=\"dataframe\">\n",
              "  <thead>\n",
              "    <tr style=\"text-align: right;\">\n",
              "      <th></th>\n",
              "      <th>0</th>\n",
              "      <th>1</th>\n",
              "    </tr>\n",
              "  </thead>\n",
              "  <tbody>\n",
              "    <tr>\n",
              "      <th>0</th>\n",
              "      <td>1401</td>\n",
              "      <td>便捷生活</td>\n",
              "    </tr>\n",
              "    <tr>\n",
              "      <th>1</th>\n",
              "      <td>1402</td>\n",
              "      <td>游戏</td>\n",
              "    </tr>\n",
              "    <tr>\n",
              "      <th>2</th>\n",
              "      <td>1403</td>\n",
              "      <td>通讯社交</td>\n",
              "    </tr>\n",
              "    <tr>\n",
              "      <th>3</th>\n",
              "      <td>1404</td>\n",
              "      <td>阅读</td>\n",
              "    </tr>\n",
              "    <tr>\n",
              "      <th>4</th>\n",
              "      <td>1405</td>\n",
              "      <td>工作求职</td>\n",
              "    </tr>\n",
              "  </tbody>\n",
              "</table>\n",
              "</div>"
            ],
            "text/plain": [
              "      0     1\n",
              "0  1401  便捷生活\n",
              "1  1402    游戏\n",
              "2  1403  通讯社交\n",
              "3  1404    阅读\n",
              "4  1405  工作求职"
            ]
          },
          "metadata": {
            "tags": []
          },
          "execution_count": 57
        }
      ]
    },
    {
      "cell_type": "code",
      "metadata": {
        "id": "DieanT67Dgxb",
        "colab_type": "code",
        "colab": {}
      },
      "source": [
        "df_id_name.rename(columns={0:'category',1:'name'},inplace=True)\n",
        "df_id_name.to_csv('category_to_name.csv')"
      ],
      "execution_count": 0,
      "outputs": []
    },
    {
      "cell_type": "code",
      "metadata": {
        "id": "kXUoN4RqD2Pz",
        "colab_type": "code",
        "colab": {
          "base_uri": "https://localhost:8080/",
          "height": 34
        },
        "outputId": "f753a867-f653-4b5c-87cc-3d8b59729e6b"
      },
      "source": [
        "df_id_name.shape"
      ],
      "execution_count": 59,
      "outputs": [
        {
          "output_type": "execute_result",
          "data": {
            "text/plain": [
              "(152, 2)"
            ]
          },
          "metadata": {
            "tags": []
          },
          "execution_count": 59
        }
      ]
    },
    {
      "cell_type": "code",
      "metadata": {
        "id": "9taQnvBeEFHe",
        "colab_type": "code",
        "colab": {}
      },
      "source": [
        "df_id_name.sample(20)"
      ],
      "execution_count": 0,
      "outputs": []
    },
    {
      "cell_type": "markdown",
      "metadata": {
        "id": "XCL_bFB9fFqm",
        "colab_type": "text"
      },
      "source": [
        "## Checking category names and  corresponding id \n",
        "\n",
        "cat_name"
      ]
    },
    {
      "cell_type": "code",
      "metadata": {
        "id": "Di4voEAZZdT3",
        "colab_type": "code",
        "colab": {}
      },
      "source": [
        "cat_name = pd.read_csv(path/'category_to_name.csv',index_col=0)"
      ],
      "execution_count": 0,
      "outputs": []
    },
    {
      "cell_type": "code",
      "metadata": {
        "id": "_LnRl1-ibDjL",
        "colab_type": "code",
        "colab": {}
      },
      "source": [
        "cat_name['category'] = cat_name.category.apply(str)"
      ],
      "execution_count": 0,
      "outputs": []
    },
    {
      "cell_type": "code",
      "metadata": {
        "id": "TOjqpDEba_eS",
        "colab_type": "code",
        "colab": {
          "base_uri": "https://localhost:8080/",
          "height": 817
        },
        "outputId": "7188c479-95ca-4fef-f4b6-6ff35f4bba2d"
      },
      "source": [
        "cat_name[cat_name.category.str.len() <5]"
      ],
      "execution_count": 55,
      "outputs": [
        {
          "output_type": "execute_result",
          "data": {
            "text/html": [
              "<div>\n",
              "<style scoped>\n",
              "    .dataframe tbody tr th:only-of-type {\n",
              "        vertical-align: middle;\n",
              "    }\n",
              "\n",
              "    .dataframe tbody tr th {\n",
              "        vertical-align: top;\n",
              "    }\n",
              "\n",
              "    .dataframe thead th {\n",
              "        text-align: right;\n",
              "    }\n",
              "</style>\n",
              "<table border=\"1\" class=\"dataframe\">\n",
              "  <thead>\n",
              "    <tr style=\"text-align: right;\">\n",
              "      <th></th>\n",
              "      <th>category</th>\n",
              "      <th>name</th>\n",
              "    </tr>\n",
              "  </thead>\n",
              "  <tbody>\n",
              "    <tr>\n",
              "      <th>0</th>\n",
              "      <td>1401</td>\n",
              "      <td>便捷生活</td>\n",
              "    </tr>\n",
              "    <tr>\n",
              "      <th>1</th>\n",
              "      <td>1402</td>\n",
              "      <td>游戏</td>\n",
              "    </tr>\n",
              "    <tr>\n",
              "      <th>2</th>\n",
              "      <td>1403</td>\n",
              "      <td>通讯社交</td>\n",
              "    </tr>\n",
              "    <tr>\n",
              "      <th>3</th>\n",
              "      <td>1404</td>\n",
              "      <td>阅读</td>\n",
              "    </tr>\n",
              "    <tr>\n",
              "      <th>4</th>\n",
              "      <td>1405</td>\n",
              "      <td>工作求职</td>\n",
              "    </tr>\n",
              "    <tr>\n",
              "      <th>5</th>\n",
              "      <td>1406</td>\n",
              "      <td>影音娱乐</td>\n",
              "    </tr>\n",
              "    <tr>\n",
              "      <th>6</th>\n",
              "      <td>1407</td>\n",
              "      <td>教育</td>\n",
              "    </tr>\n",
              "    <tr>\n",
              "      <th>7</th>\n",
              "      <td>1408</td>\n",
              "      <td>出行旅游</td>\n",
              "    </tr>\n",
              "    <tr>\n",
              "      <th>8</th>\n",
              "      <td>1409</td>\n",
              "      <td>工具</td>\n",
              "    </tr>\n",
              "    <tr>\n",
              "      <th>9</th>\n",
              "      <td>1410</td>\n",
              "      <td>亲子儿童</td>\n",
              "    </tr>\n",
              "    <tr>\n",
              "      <th>10</th>\n",
              "      <td>1411</td>\n",
              "      <td>母婴</td>\n",
              "    </tr>\n",
              "    <tr>\n",
              "      <th>11</th>\n",
              "      <td>1412</td>\n",
              "      <td>汽车</td>\n",
              "    </tr>\n",
              "    <tr>\n",
              "      <th>12</th>\n",
              "      <td>1413</td>\n",
              "      <td>房产</td>\n",
              "    </tr>\n",
              "    <tr>\n",
              "      <th>13</th>\n",
              "      <td>1414</td>\n",
              "      <td>电子产品</td>\n",
              "    </tr>\n",
              "    <tr>\n",
              "      <th>14</th>\n",
              "      <td>1415</td>\n",
              "      <td>医疗健康</td>\n",
              "    </tr>\n",
              "    <tr>\n",
              "      <th>15</th>\n",
              "      <td>1417</td>\n",
              "      <td>美容</td>\n",
              "    </tr>\n",
              "    <tr>\n",
              "      <th>16</th>\n",
              "      <td>1418</td>\n",
              "      <td>美食</td>\n",
              "    </tr>\n",
              "    <tr>\n",
              "      <th>17</th>\n",
              "      <td>1419</td>\n",
              "      <td>体育运动</td>\n",
              "    </tr>\n",
              "    <tr>\n",
              "      <th>18</th>\n",
              "      <td>1420</td>\n",
              "      <td>支付</td>\n",
              "    </tr>\n",
              "    <tr>\n",
              "      <th>19</th>\n",
              "      <td>1421</td>\n",
              "      <td>金融理财</td>\n",
              "    </tr>\n",
              "    <tr>\n",
              "      <th>20</th>\n",
              "      <td>1422</td>\n",
              "      <td>美图摄影</td>\n",
              "    </tr>\n",
              "    <tr>\n",
              "      <th>21</th>\n",
              "      <td>1423</td>\n",
              "      <td>购物</td>\n",
              "    </tr>\n",
              "    <tr>\n",
              "      <th>22</th>\n",
              "      <td>1424</td>\n",
              "      <td>日常办公</td>\n",
              "    </tr>\n",
              "    <tr>\n",
              "      <th>23</th>\n",
              "      <td>1425</td>\n",
              "      <td>女性</td>\n",
              "    </tr>\n",
              "    <tr>\n",
              "      <th>24</th>\n",
              "      <td>1426</td>\n",
              "      <td>商家</td>\n",
              "    </tr>\n",
              "    <tr>\n",
              "      <th>25</th>\n",
              "      <td>1427</td>\n",
              "      <td>其他</td>\n",
              "    </tr>\n",
              "  </tbody>\n",
              "</table>\n",
              "</div>"
            ],
            "text/plain": [
              "   category  name\n",
              "0      1401  便捷生活\n",
              "1      1402    游戏\n",
              "2      1403  通讯社交\n",
              "3      1404    阅读\n",
              "4      1405  工作求职\n",
              "5      1406  影音娱乐\n",
              "6      1407    教育\n",
              "7      1408  出行旅游\n",
              "8      1409    工具\n",
              "9      1410  亲子儿童\n",
              "10     1411    母婴\n",
              "11     1412    汽车\n",
              "12     1413    房产\n",
              "13     1414  电子产品\n",
              "14     1415  医疗健康\n",
              "15     1417    美容\n",
              "16     1418    美食\n",
              "17     1419  体育运动\n",
              "18     1420    支付\n",
              "19     1421  金融理财\n",
              "20     1422  美图摄影\n",
              "21     1423    购物\n",
              "22     1424  日常办公\n",
              "23     1425    女性\n",
              "24     1426    商家\n",
              "25     1427    其他"
            ]
          },
          "metadata": {
            "tags": []
          },
          "execution_count": 55
        }
      ]
    },
    {
      "cell_type": "code",
      "metadata": {
        "id": "OFfmndspZsJU",
        "colab_type": "code",
        "colab": {
          "base_uri": "https://localhost:8080/",
          "height": 34
        },
        "outputId": "d1afa83b-0497-4679-db3a-2b3d6e4b6042"
      },
      "source": [
        "cat_name.shape"
      ],
      "execution_count": 25,
      "outputs": [
        {
          "output_type": "execute_result",
          "data": {
            "text/plain": [
              "(152, 2)"
            ]
          },
          "metadata": {
            "tags": []
          },
          "execution_count": 25
        }
      ]
    },
    {
      "cell_type": "code",
      "metadata": {
        "id": "asoag6q5ZsAf",
        "colab_type": "code",
        "colab": {}
      },
      "source": [
        ""
      ],
      "execution_count": 0,
      "outputs": []
    },
    {
      "cell_type": "code",
      "metadata": {
        "id": "RHZ6OdhMZr3I",
        "colab_type": "code",
        "colab": {}
      },
      "source": [
        ""
      ],
      "execution_count": 0,
      "outputs": []
    },
    {
      "cell_type": "markdown",
      "metadata": {
        "id": "5xmCMPxqfkMN",
        "colab_type": "text"
      },
      "source": [
        "## Submission_example"
      ]
    },
    {
      "cell_type": "code",
      "metadata": {
        "id": "bl9GUkDzfxVb",
        "colab_type": "code",
        "colab": {}
      },
      "source": [
        "df_example = pd.read_csv('/content/gdrive/My Drive/contest/dataset/aichallenge2019_大数据应用分类标注提交样例.csv')"
      ],
      "execution_count": 0,
      "outputs": []
    },
    {
      "cell_type": "code",
      "metadata": {
        "id": "JexZ2ZXNf7vM",
        "colab_type": "code",
        "colab": {
          "base_uri": "https://localhost:8080/",
          "height": 195
        },
        "outputId": "b3b2e10c-d63e-447e-c58c-ba7497f99eef"
      },
      "source": [
        "df_example.head()"
      ],
      "execution_count": 57,
      "outputs": [
        {
          "output_type": "execute_result",
          "data": {
            "text/html": [
              "<div>\n",
              "<style scoped>\n",
              "    .dataframe tbody tr th:only-of-type {\n",
              "        vertical-align: middle;\n",
              "    }\n",
              "\n",
              "    .dataframe tbody tr th {\n",
              "        vertical-align: top;\n",
              "    }\n",
              "\n",
              "    .dataframe thead th {\n",
              "        text-align: right;\n",
              "    }\n",
              "</style>\n",
              "<table border=\"1\" class=\"dataframe\">\n",
              "  <thead>\n",
              "    <tr style=\"text-align: right;\">\n",
              "      <th></th>\n",
              "      <th>id</th>\n",
              "      <th>label1</th>\n",
              "      <th>label2</th>\n",
              "    </tr>\n",
              "  </thead>\n",
              "  <tbody>\n",
              "    <tr>\n",
              "      <th>0</th>\n",
              "      <td>BB29DA6F8167CFC99E0853741C4EB17B</td>\n",
              "      <td>1.0</td>\n",
              "      <td>1.0</td>\n",
              "    </tr>\n",
              "    <tr>\n",
              "      <th>1</th>\n",
              "      <td>BB2A78EA7AD4945EAF6E38997F6139A3</td>\n",
              "      <td>1.0</td>\n",
              "      <td>1.0</td>\n",
              "    </tr>\n",
              "    <tr>\n",
              "      <th>2</th>\n",
              "      <td>BB2B1604CFA079C289FECF927DFBCE89</td>\n",
              "      <td>1.0</td>\n",
              "      <td>1.0</td>\n",
              "    </tr>\n",
              "    <tr>\n",
              "      <th>3</th>\n",
              "      <td>BB2C7BD0B0623644183DAD08A89E1D90</td>\n",
              "      <td>1.0</td>\n",
              "      <td>1.0</td>\n",
              "    </tr>\n",
              "    <tr>\n",
              "      <th>4</th>\n",
              "      <td>BB2E1A8F56158E483D7461E930E6332F</td>\n",
              "      <td>1.0</td>\n",
              "      <td>1.0</td>\n",
              "    </tr>\n",
              "  </tbody>\n",
              "</table>\n",
              "</div>"
            ],
            "text/plain": [
              "                                 id  label1  label2\n",
              "0  BB29DA6F8167CFC99E0853741C4EB17B     1.0     1.0\n",
              "1  BB2A78EA7AD4945EAF6E38997F6139A3     1.0     1.0\n",
              "2  BB2B1604CFA079C289FECF927DFBCE89     1.0     1.0\n",
              "3  BB2C7BD0B0623644183DAD08A89E1D90     1.0     1.0\n",
              "4  BB2E1A8F56158E483D7461E930E6332F     1.0     1.0"
            ]
          },
          "metadata": {
            "tags": []
          },
          "execution_count": 57
        }
      ]
    },
    {
      "cell_type": "code",
      "metadata": {
        "id": "jbCfBPU8iONW",
        "colab_type": "code",
        "colab": {
          "base_uri": "https://localhost:8080/",
          "height": 195
        },
        "outputId": "4a628fa6-3c3a-4edf-aab8-ff508c105153"
      },
      "source": [
        "df_example.tail()"
      ],
      "execution_count": 61,
      "outputs": [
        {
          "output_type": "execute_result",
          "data": {
            "text/html": [
              "<div>\n",
              "<style scoped>\n",
              "    .dataframe tbody tr th:only-of-type {\n",
              "        vertical-align: middle;\n",
              "    }\n",
              "\n",
              "    .dataframe tbody tr th {\n",
              "        vertical-align: top;\n",
              "    }\n",
              "\n",
              "    .dataframe thead th {\n",
              "        text-align: right;\n",
              "    }\n",
              "</style>\n",
              "<table border=\"1\" class=\"dataframe\">\n",
              "  <thead>\n",
              "    <tr style=\"text-align: right;\">\n",
              "      <th></th>\n",
              "      <th>id</th>\n",
              "      <th>label1</th>\n",
              "      <th>label2</th>\n",
              "    </tr>\n",
              "  </thead>\n",
              "  <tbody>\n",
              "    <tr>\n",
              "      <th>99994</th>\n",
              "      <td>F07F8C5D54728E8FB596F8A073AB1E04</td>\n",
              "      <td>NaN</td>\n",
              "      <td>NaN</td>\n",
              "    </tr>\n",
              "    <tr>\n",
              "      <th>99995</th>\n",
              "      <td>F080799F987643D9A87D020842A3A7B2</td>\n",
              "      <td>NaN</td>\n",
              "      <td>NaN</td>\n",
              "    </tr>\n",
              "    <tr>\n",
              "      <th>99996</th>\n",
              "      <td>F080BC23557EBE79AB123BE3F267786A</td>\n",
              "      <td>NaN</td>\n",
              "      <td>NaN</td>\n",
              "    </tr>\n",
              "    <tr>\n",
              "      <th>99997</th>\n",
              "      <td>F080C994A32BE85DFC8EA374267C1143</td>\n",
              "      <td>NaN</td>\n",
              "      <td>NaN</td>\n",
              "    </tr>\n",
              "    <tr>\n",
              "      <th>99998</th>\n",
              "      <td>F081F0A4AB58B925C96741C05ACB6078</td>\n",
              "      <td>NaN</td>\n",
              "      <td>NaN</td>\n",
              "    </tr>\n",
              "  </tbody>\n",
              "</table>\n",
              "</div>"
            ],
            "text/plain": [
              "                                     id  label1  label2\n",
              "99994  F07F8C5D54728E8FB596F8A073AB1E04     NaN     NaN\n",
              "99995  F080799F987643D9A87D020842A3A7B2     NaN     NaN\n",
              "99996  F080BC23557EBE79AB123BE3F267786A     NaN     NaN\n",
              "99997  F080C994A32BE85DFC8EA374267C1143     NaN     NaN\n",
              "99998  F081F0A4AB58B925C96741C05ACB6078     NaN     NaN"
            ]
          },
          "metadata": {
            "tags": []
          },
          "execution_count": 61
        }
      ]
    },
    {
      "cell_type": "code",
      "metadata": {
        "id": "fe82kFk-hGGs",
        "colab_type": "code",
        "colab": {
          "base_uri": "https://localhost:8080/",
          "height": 70
        },
        "outputId": "683cd5c8-a868-4825-cd35-f2f320c0cbfe"
      },
      "source": [
        "df_example.label1.isna().value_counts()"
      ],
      "execution_count": 60,
      "outputs": [
        {
          "output_type": "execute_result",
          "data": {
            "text/plain": [
              "True     85386\n",
              "False    14613\n",
              "Name: label1, dtype: int64"
            ]
          },
          "metadata": {
            "tags": []
          },
          "execution_count": 60
        }
      ]
    },
    {
      "cell_type": "code",
      "metadata": {
        "id": "tEnqBmWyfxIf",
        "colab_type": "code",
        "colab": {}
      },
      "source": [
        ""
      ],
      "execution_count": 0,
      "outputs": []
    },
    {
      "cell_type": "markdown",
      "metadata": {
        "id": "9OSeh-8QKZWI",
        "colab_type": "text"
      },
      "source": [
        "## Extract a df with single labels "
      ]
    },
    {
      "cell_type": "code",
      "metadata": {
        "id": "6uEGDMZ9KVeM",
        "colab_type": "code",
        "colab": {}
      },
      "source": [
        " app_train = pd.read_csv(path/'app_train.csv',index_col=0)"
      ],
      "execution_count": 0,
      "outputs": []
    },
    {
      "cell_type": "code",
      "metadata": {
        "id": "jT914cb9KWD0",
        "colab_type": "code",
        "colab": {
          "base_uri": "https://localhost:8080/",
          "height": 262
        },
        "outputId": "f92fa15a-ecd4-4c85-bb43-5b15b618e652"
      },
      "source": [
        "app_train.head()"
      ],
      "execution_count": 19,
      "outputs": [
        {
          "output_type": "execute_result",
          "data": {
            "text/html": [
              "<div>\n",
              "<style scoped>\n",
              "    .dataframe tbody tr th:only-of-type {\n",
              "        vertical-align: middle;\n",
              "    }\n",
              "\n",
              "    .dataframe tbody tr th {\n",
              "        vertical-align: top;\n",
              "    }\n",
              "\n",
              "    .dataframe thead th {\n",
              "        text-align: right;\n",
              "    }\n",
              "</style>\n",
              "<table border=\"1\" class=\"dataframe\">\n",
              "  <thead>\n",
              "    <tr style=\"text-align: right;\">\n",
              "      <th></th>\n",
              "      <th>id</th>\n",
              "      <th>category</th>\n",
              "      <th>txt</th>\n",
              "    </tr>\n",
              "  </thead>\n",
              "  <tbody>\n",
              "    <tr>\n",
              "      <th>0</th>\n",
              "      <td>00000777CE5B5AA5C1AC94DB8EABE0AC</td>\n",
              "      <td>140203</td>\n",
              "      <td>《游戏王座》使用说明书成分由怪兽卡、魔法卡、陷阱卡合计数千张卡牌以及刺激性、耐久性玩法组成。...</td>\n",
              "    </tr>\n",
              "    <tr>\n",
              "      <th>1</th>\n",
              "      <td>0000DEC36E15C27DBFC64AB8208C4B37</td>\n",
              "      <td>140206</td>\n",
              "      <td>更稳定、更优质，邀您一起。</td>\n",
              "    </tr>\n",
              "    <tr>\n",
              "      <th>2</th>\n",
              "      <td>0001791406307B1D1CE2BC64A830B7C7</td>\n",
              "      <td>142106</td>\n",
              "      <td>《小钱袋》是一款免费网络版记帐软件，适用于个人记帐、家庭记帐、团队记帐，全程帮您安全记录您财...</td>\n",
              "    </tr>\n",
              "    <tr>\n",
              "      <th>3</th>\n",
              "      <td>0002F14825B9CA01653325EEFD69D790</td>\n",
              "      <td>142701</td>\n",
              "      <td>领先的周易服务平台高人汇，汇聚算命大师、风水大师、占卜大师、手相大师、起名大师、算命先生、面...</td>\n",
              "    </tr>\n",
              "    <tr>\n",
              "      <th>4</th>\n",
              "      <td>000419D79365331F89399E5F38A91B05</td>\n",
              "      <td>140901</td>\n",
              "      <td>平行空间是一款极简、免费的黑科技双开助手；您可以在平行空间双开微信微博、陌陌、映客、yy等应...</td>\n",
              "    </tr>\n",
              "  </tbody>\n",
              "</table>\n",
              "</div>"
            ],
            "text/plain": [
              "                                 id  ...                                                txt\n",
              "0  00000777CE5B5AA5C1AC94DB8EABE0AC  ...  《游戏王座》使用说明书成分由怪兽卡、魔法卡、陷阱卡合计数千张卡牌以及刺激性、耐久性玩法组成。...\n",
              "1  0000DEC36E15C27DBFC64AB8208C4B37  ...                                      更稳定、更优质，邀您一起。\n",
              "2  0001791406307B1D1CE2BC64A830B7C7  ...  《小钱袋》是一款免费网络版记帐软件，适用于个人记帐、家庭记帐、团队记帐，全程帮您安全记录您财...\n",
              "3  0002F14825B9CA01653325EEFD69D790  ...  领先的周易服务平台高人汇，汇聚算命大师、风水大师、占卜大师、手相大师、起名大师、算命先生、面...\n",
              "4  000419D79365331F89399E5F38A91B05  ...  平行空间是一款极简、免费的黑科技双开助手；您可以在平行空间双开微信微博、陌陌、映客、yy等应...\n",
              "\n",
              "[5 rows x 3 columns]"
            ]
          },
          "metadata": {
            "tags": []
          },
          "execution_count": 19
        }
      ]
    },
    {
      "cell_type": "code",
      "metadata": {
        "id": "5oTVJ_X4MF1f",
        "colab_type": "code",
        "colab": {}
      },
      "source": [
        "app_train.category.value_counts()"
      ],
      "execution_count": 0,
      "outputs": []
    },
    {
      "cell_type": "code",
      "metadata": {
        "id": "DXZlKrF-LTCM",
        "colab_type": "code",
        "colab": {
          "base_uri": "https://localhost:8080/",
          "height": 70
        },
        "outputId": "1120a7d2-7f28-4425-a841-f776a3967db1"
      },
      "source": [
        "app_train.category.str.contains('\\|').value_counts()"
      ],
      "execution_count": 31,
      "outputs": [
        {
          "output_type": "execute_result",
          "data": {
            "text/plain": [
              "False    28866\n",
              "True      1134\n",
              "Name: category, dtype: int64"
            ]
          },
          "metadata": {
            "tags": []
          },
          "execution_count": 31
        }
      ]
    },
    {
      "cell_type": "code",
      "metadata": {
        "id": "jczqM7S0MbYm",
        "colab_type": "code",
        "colab": {}
      },
      "source": [
        "app_train_solo = app_train[~app_train.category.str.contains('\\|')].copy()"
      ],
      "execution_count": 0,
      "outputs": []
    },
    {
      "cell_type": "code",
      "metadata": {
        "id": "OZK5WmmGMy2D",
        "colab_type": "code",
        "colab": {
          "base_uri": "https://localhost:8080/",
          "height": 34
        },
        "outputId": "e1d02c95-980a-454c-e29c-e0c166249df1"
      },
      "source": [
        "app_train_solo.category.unique().shape"
      ],
      "execution_count": 34,
      "outputs": [
        {
          "output_type": "execute_result",
          "data": {
            "text/plain": [
              "(125,)"
            ]
          },
          "metadata": {
            "tags": []
          },
          "execution_count": 34
        }
      ]
    },
    {
      "cell_type": "code",
      "metadata": {
        "id": "DV4IckS7Mysr",
        "colab_type": "code",
        "colab": {}
      },
      "source": [
        "app_train_solo.to_csv(path/'app_train_solo.csv',index=None)"
      ],
      "execution_count": 0,
      "outputs": []
    },
    {
      "cell_type": "code",
      "metadata": {
        "id": "LItze-QqLIPe",
        "colab_type": "code",
        "colab": {}
      },
      "source": [
        ""
      ],
      "execution_count": 0,
      "outputs": []
    },
    {
      "cell_type": "markdown",
      "metadata": {
        "id": "PqaoROhwKRqi",
        "colab_type": "text"
      },
      "source": [
        "## Prepare a df_train with main categories"
      ]
    },
    {
      "cell_type": "code",
      "metadata": {
        "id": "9Pj2lyQqJdHM",
        "colab_type": "code",
        "colab": {}
      },
      "source": [
        "import numpy as np\n",
        "import pandas as pd\n",
        "from pathlib import Path"
      ],
      "execution_count": 0,
      "outputs": []
    },
    {
      "cell_type": "code",
      "metadata": {
        "id": "alq1QGkNK16l",
        "colab_type": "code",
        "colab": {}
      },
      "source": [
        "path = Path('/content/gdrive/My Drive/contest/dataset/bigdata_app')\n",
        "os.chdir(path)"
      ],
      "execution_count": 0,
      "outputs": []
    },
    {
      "cell_type": "code",
      "metadata": {
        "id": "AzgVG2sK1o1j",
        "colab_type": "code",
        "colab": {}
      },
      "source": [
        "df_train = pd.read_csv('app_train_solo.csv')"
      ],
      "execution_count": 0,
      "outputs": []
    },
    {
      "cell_type": "code",
      "metadata": {
        "id": "nZo2BzIt1oxj",
        "colab_type": "code",
        "outputId": "c587c870-ceef-46c1-ef5e-a05416993846",
        "colab": {
          "base_uri": "https://localhost:8080/",
          "height": 262
        }
      },
      "source": [
        "df_train.head()"
      ],
      "execution_count": 0,
      "outputs": [
        {
          "output_type": "execute_result",
          "data": {
            "text/html": [
              "<div>\n",
              "<style scoped>\n",
              "    .dataframe tbody tr th:only-of-type {\n",
              "        vertical-align: middle;\n",
              "    }\n",
              "\n",
              "    .dataframe tbody tr th {\n",
              "        vertical-align: top;\n",
              "    }\n",
              "\n",
              "    .dataframe thead th {\n",
              "        text-align: right;\n",
              "    }\n",
              "</style>\n",
              "<table border=\"1\" class=\"dataframe\">\n",
              "  <thead>\n",
              "    <tr style=\"text-align: right;\">\n",
              "      <th></th>\n",
              "      <th>id</th>\n",
              "      <th>category</th>\n",
              "      <th>txt</th>\n",
              "    </tr>\n",
              "  </thead>\n",
              "  <tbody>\n",
              "    <tr>\n",
              "      <th>0</th>\n",
              "      <td>00000777CE5B5AA5C1AC94DB8EABE0AC</td>\n",
              "      <td>140203</td>\n",
              "      <td>《游戏王座》使用说明书成分由怪兽卡、魔法卡、陷阱卡合计数千张卡牌以及刺激性、耐久性玩法组成。...</td>\n",
              "    </tr>\n",
              "    <tr>\n",
              "      <th>1</th>\n",
              "      <td>0000DEC36E15C27DBFC64AB8208C4B37</td>\n",
              "      <td>140206</td>\n",
              "      <td>更稳定、更优质，邀您一起。</td>\n",
              "    </tr>\n",
              "    <tr>\n",
              "      <th>2</th>\n",
              "      <td>0001791406307B1D1CE2BC64A830B7C7</td>\n",
              "      <td>142106</td>\n",
              "      <td>《小钱袋》是一款免费网络版记帐软件，适用于个人记帐、家庭记帐、团队记帐，全程帮您安全记录您财...</td>\n",
              "    </tr>\n",
              "    <tr>\n",
              "      <th>3</th>\n",
              "      <td>0002F14825B9CA01653325EEFD69D790</td>\n",
              "      <td>142701</td>\n",
              "      <td>领先的周易服务平台高人汇，汇聚算命大师、风水大师、占卜大师、手相大师、起名大师、算命先生、面...</td>\n",
              "    </tr>\n",
              "    <tr>\n",
              "      <th>4</th>\n",
              "      <td>000419D79365331F89399E5F38A91B05</td>\n",
              "      <td>140901</td>\n",
              "      <td>平行空间是一款极简、免费的黑科技双开助手；您可以在平行空间双开微信微博、陌陌、映客、yy等应...</td>\n",
              "    </tr>\n",
              "  </tbody>\n",
              "</table>\n",
              "</div>"
            ],
            "text/plain": [
              "                                 id  ...                                                txt\n",
              "0  00000777CE5B5AA5C1AC94DB8EABE0AC  ...  《游戏王座》使用说明书成分由怪兽卡、魔法卡、陷阱卡合计数千张卡牌以及刺激性、耐久性玩法组成。...\n",
              "1  0000DEC36E15C27DBFC64AB8208C4B37  ...                                      更稳定、更优质，邀您一起。\n",
              "2  0001791406307B1D1CE2BC64A830B7C7  ...  《小钱袋》是一款免费网络版记帐软件，适用于个人记帐、家庭记帐、团队记帐，全程帮您安全记录您财...\n",
              "3  0002F14825B9CA01653325EEFD69D790  ...  领先的周易服务平台高人汇，汇聚算命大师、风水大师、占卜大师、手相大师、起名大师、算命先生、面...\n",
              "4  000419D79365331F89399E5F38A91B05  ...  平行空间是一款极简、免费的黑科技双开助手；您可以在平行空间双开微信微博、陌陌、映客、yy等应...\n",
              "\n",
              "[5 rows x 3 columns]"
            ]
          },
          "metadata": {
            "tags": []
          },
          "execution_count": 18
        }
      ]
    },
    {
      "cell_type": "code",
      "metadata": {
        "id": "rk9Imc6g1onq",
        "colab_type": "code",
        "colab": {}
      },
      "source": [
        "df_train['category'] = df_train.category.apply(str)"
      ],
      "execution_count": 0,
      "outputs": []
    },
    {
      "cell_type": "code",
      "metadata": {
        "id": "W4m3MNo0Kbuv",
        "colab_type": "code",
        "colab": {}
      },
      "source": [
        "df_train.to_csv('app_train_solo.csv')"
      ],
      "execution_count": 0,
      "outputs": []
    },
    {
      "cell_type": "code",
      "metadata": {
        "id": "nz0cCtI3KwZ4",
        "colab_type": "code",
        "outputId": "8d115667-eaa1-44ae-ec2d-9e4b5924df41",
        "colab": {
          "base_uri": "https://localhost:8080/",
          "height": 122
        }
      },
      "source": [
        "df_train['field'] =   df_train.category.apply(lambda x:x[:4])\n",
        "df_train.field.head()"
      ],
      "execution_count": 0,
      "outputs": [
        {
          "output_type": "execute_result",
          "data": {
            "text/plain": [
              "0    1402\n",
              "1    1402\n",
              "2    1421\n",
              "3    1427\n",
              "4    1409\n",
              "Name: field, dtype: object"
            ]
          },
          "metadata": {
            "tags": []
          },
          "execution_count": 24
        }
      ]
    },
    {
      "cell_type": "code",
      "metadata": {
        "id": "t-NJJP0KKwWX",
        "colab_type": "code",
        "outputId": "813ee2cc-2c1d-4745-989c-168d56ca907c",
        "colab": {
          "base_uri": "https://localhost:8080/",
          "height": 846
        }
      },
      "source": [
        "df_train.groupby('field').count()"
      ],
      "execution_count": 0,
      "outputs": [
        {
          "output_type": "execute_result",
          "data": {
            "text/html": [
              "<div>\n",
              "<style scoped>\n",
              "    .dataframe tbody tr th:only-of-type {\n",
              "        vertical-align: middle;\n",
              "    }\n",
              "\n",
              "    .dataframe tbody tr th {\n",
              "        vertical-align: top;\n",
              "    }\n",
              "\n",
              "    .dataframe thead th {\n",
              "        text-align: right;\n",
              "    }\n",
              "</style>\n",
              "<table border=\"1\" class=\"dataframe\">\n",
              "  <thead>\n",
              "    <tr style=\"text-align: right;\">\n",
              "      <th></th>\n",
              "      <th>id</th>\n",
              "      <th>category</th>\n",
              "      <th>txt</th>\n",
              "    </tr>\n",
              "    <tr>\n",
              "      <th>field</th>\n",
              "      <th></th>\n",
              "      <th></th>\n",
              "      <th></th>\n",
              "    </tr>\n",
              "  </thead>\n",
              "  <tbody>\n",
              "    <tr>\n",
              "      <th>1401</th>\n",
              "      <td>1667</td>\n",
              "      <td>1667</td>\n",
              "      <td>1667</td>\n",
              "    </tr>\n",
              "    <tr>\n",
              "      <th>1402</th>\n",
              "      <td>6997</td>\n",
              "      <td>6997</td>\n",
              "      <td>6997</td>\n",
              "    </tr>\n",
              "    <tr>\n",
              "      <th>1403</th>\n",
              "      <td>1167</td>\n",
              "      <td>1167</td>\n",
              "      <td>1167</td>\n",
              "    </tr>\n",
              "    <tr>\n",
              "      <th>1404</th>\n",
              "      <td>1575</td>\n",
              "      <td>1575</td>\n",
              "      <td>1575</td>\n",
              "    </tr>\n",
              "    <tr>\n",
              "      <th>1405</th>\n",
              "      <td>211</td>\n",
              "      <td>211</td>\n",
              "      <td>211</td>\n",
              "    </tr>\n",
              "    <tr>\n",
              "      <th>1406</th>\n",
              "      <td>1451</td>\n",
              "      <td>1451</td>\n",
              "      <td>1451</td>\n",
              "    </tr>\n",
              "    <tr>\n",
              "      <th>1407</th>\n",
              "      <td>2063</td>\n",
              "      <td>2063</td>\n",
              "      <td>2063</td>\n",
              "    </tr>\n",
              "    <tr>\n",
              "      <th>1408</th>\n",
              "      <td>332</td>\n",
              "      <td>332</td>\n",
              "      <td>332</td>\n",
              "    </tr>\n",
              "    <tr>\n",
              "      <th>1409</th>\n",
              "      <td>4999</td>\n",
              "      <td>4999</td>\n",
              "      <td>4999</td>\n",
              "    </tr>\n",
              "    <tr>\n",
              "      <th>1410</th>\n",
              "      <td>1130</td>\n",
              "      <td>1130</td>\n",
              "      <td>1130</td>\n",
              "    </tr>\n",
              "    <tr>\n",
              "      <th>1411</th>\n",
              "      <td>55</td>\n",
              "      <td>55</td>\n",
              "      <td>55</td>\n",
              "    </tr>\n",
              "    <tr>\n",
              "      <th>1412</th>\n",
              "      <td>500</td>\n",
              "      <td>500</td>\n",
              "      <td>500</td>\n",
              "    </tr>\n",
              "    <tr>\n",
              "      <th>1413</th>\n",
              "      <td>152</td>\n",
              "      <td>152</td>\n",
              "      <td>152</td>\n",
              "    </tr>\n",
              "    <tr>\n",
              "      <th>1414</th>\n",
              "      <td>181</td>\n",
              "      <td>181</td>\n",
              "      <td>181</td>\n",
              "    </tr>\n",
              "    <tr>\n",
              "      <th>1415</th>\n",
              "      <td>372</td>\n",
              "      <td>372</td>\n",
              "      <td>372</td>\n",
              "    </tr>\n",
              "    <tr>\n",
              "      <th>1417</th>\n",
              "      <td>76</td>\n",
              "      <td>76</td>\n",
              "      <td>76</td>\n",
              "    </tr>\n",
              "    <tr>\n",
              "      <th>1418</th>\n",
              "      <td>106</td>\n",
              "      <td>106</td>\n",
              "      <td>106</td>\n",
              "    </tr>\n",
              "    <tr>\n",
              "      <th>1419</th>\n",
              "      <td>286</td>\n",
              "      <td>286</td>\n",
              "      <td>286</td>\n",
              "    </tr>\n",
              "    <tr>\n",
              "      <th>1420</th>\n",
              "      <td>117</td>\n",
              "      <td>117</td>\n",
              "      <td>117</td>\n",
              "    </tr>\n",
              "    <tr>\n",
              "      <th>1421</th>\n",
              "      <td>2474</td>\n",
              "      <td>2474</td>\n",
              "      <td>2474</td>\n",
              "    </tr>\n",
              "    <tr>\n",
              "      <th>1422</th>\n",
              "      <td>699</td>\n",
              "      <td>699</td>\n",
              "      <td>699</td>\n",
              "    </tr>\n",
              "    <tr>\n",
              "      <th>1423</th>\n",
              "      <td>1222</td>\n",
              "      <td>1222</td>\n",
              "      <td>1222</td>\n",
              "    </tr>\n",
              "    <tr>\n",
              "      <th>1424</th>\n",
              "      <td>412</td>\n",
              "      <td>412</td>\n",
              "      <td>412</td>\n",
              "    </tr>\n",
              "    <tr>\n",
              "      <th>1425</th>\n",
              "      <td>51</td>\n",
              "      <td>51</td>\n",
              "      <td>51</td>\n",
              "    </tr>\n",
              "    <tr>\n",
              "      <th>1426</th>\n",
              "      <td>277</td>\n",
              "      <td>277</td>\n",
              "      <td>277</td>\n",
              "    </tr>\n",
              "    <tr>\n",
              "      <th>1427</th>\n",
              "      <td>294</td>\n",
              "      <td>294</td>\n",
              "      <td>294</td>\n",
              "    </tr>\n",
              "  </tbody>\n",
              "</table>\n",
              "</div>"
            ],
            "text/plain": [
              "         id  category   txt\n",
              "field                      \n",
              "1401   1667      1667  1667\n",
              "1402   6997      6997  6997\n",
              "1403   1167      1167  1167\n",
              "1404   1575      1575  1575\n",
              "1405    211       211   211\n",
              "1406   1451      1451  1451\n",
              "1407   2063      2063  2063\n",
              "1408    332       332   332\n",
              "1409   4999      4999  4999\n",
              "1410   1130      1130  1130\n",
              "1411     55        55    55\n",
              "1412    500       500   500\n",
              "1413    152       152   152\n",
              "1414    181       181   181\n",
              "1415    372       372   372\n",
              "1417     76        76    76\n",
              "1418    106       106   106\n",
              "1419    286       286   286\n",
              "1420    117       117   117\n",
              "1421   2474      2474  2474\n",
              "1422    699       699   699\n",
              "1423   1222      1222  1222\n",
              "1424    412       412   412\n",
              "1425     51        51    51\n",
              "1426    277       277   277\n",
              "1427    294       294   294"
            ]
          },
          "metadata": {
            "tags": []
          },
          "execution_count": 29
        }
      ]
    },
    {
      "cell_type": "markdown",
      "metadata": {
        "id": "6rfR6CoOLWtR",
        "colab_type": "text"
      },
      "source": [
        "It's a very unbalanced dataset, need to take account in that later."
      ]
    },
    {
      "cell_type": "code",
      "metadata": {
        "id": "XMJZ3KJyNQuw",
        "colab_type": "code",
        "outputId": "77a1eb1b-64e2-4de9-e7d2-0d6921c9919e",
        "colab": {
          "base_uri": "https://localhost:8080/",
          "height": 34
        }
      },
      "source": [
        "len(df_train.field.unique())"
      ],
      "execution_count": 0,
      "outputs": [
        {
          "output_type": "execute_result",
          "data": {
            "text/plain": [
              "26"
            ]
          },
          "metadata": {
            "tags": []
          },
          "execution_count": 36
        }
      ]
    },
    {
      "cell_type": "code",
      "metadata": {
        "id": "Jw1OJnZeKwMe",
        "colab_type": "code",
        "colab": {}
      },
      "source": [
        "df_train.to_csv('df_train_solo.csv',index=None)"
      ],
      "execution_count": 0,
      "outputs": []
    },
    {
      "cell_type": "markdown",
      "metadata": {
        "id": "Ce9ErdZyBYvE",
        "colab_type": "text"
      },
      "source": [
        "  # Quick checking with esay_classifier"
      ]
    },
    {
      "cell_type": "markdown",
      "metadata": {
        "id": "X8hf2tWaLv6k",
        "colab_type": "text"
      },
      "source": [
        "It can be accessed in my  [github](https://github.com/ZeroLeon/easy_classifier)."
      ]
    },
    {
      "cell_type": "code",
      "metadata": {
        "id": "zLfwMoWGBc-Y",
        "colab_type": "code",
        "colab": {}
      },
      "source": [
        "os.chdir('/content/gdrive/My Drive/fastai/easy_classifier')"
      ],
      "execution_count": 0,
      "outputs": []
    },
    {
      "cell_type": "code",
      "metadata": {
        "id": "apikoITRBpuN",
        "colab_type": "code",
        "colab": {
          "base_uri": "https://localhost:8080/",
          "height": 34
        },
        "outputId": "fdf7f94f-ccf3-402c-d7ec-5bb5f4013669"
      },
      "source": [
        "pwd"
      ],
      "execution_count": 32,
      "outputs": [
        {
          "output_type": "execute_result",
          "data": {
            "text/plain": [
              "'/content/gdrive/My Drive/fastai/easy_classifier'"
            ]
          },
          "metadata": {
            "tags": []
          },
          "execution_count": 32
        }
      ]
    },
    {
      "cell_type": "code",
      "metadata": {
        "id": "z-iyj3kscl9s",
        "colab_type": "code",
        "colab": {}
      },
      "source": [
        "%%capture\n",
        "!pip install -r requirements.txt"
      ],
      "execution_count": 0,
      "outputs": []
    },
    {
      "cell_type": "code",
      "metadata": {
        "id": "U4sUon9Aceky",
        "colab_type": "code",
        "colab": {}
      },
      "source": [
        "import numpy as np\n",
        "import pandas as pd\n",
        "import torch\n",
        "from fastai import *\n",
        "from fastai.vision import *\n",
        "from fastai.text import *\n",
        "from fastai.callbacks import *\n",
        "from pathlib import Path\n",
        "\n",
        "import utils,helper"
      ],
      "execution_count": 0,
      "outputs": []
    },
    {
      "cell_type": "code",
      "metadata": {
        "id": "HFfGfW59ZE2n",
        "colab_type": "code",
        "outputId": "918d0b47-6bbb-4775-be4a-2e2d2915a86b",
        "colab": {
          "base_uri": "https://localhost:8080/",
          "height": 34
        }
      },
      "source": [
        "from importlib import reload\n",
        "reload(utils)"
      ],
      "execution_count": 52,
      "outputs": [
        {
          "output_type": "execute_result",
          "data": {
            "text/plain": [
              "<module 'utils' from '/content/gdrive/My Drive/fastai/easy_classifier/utils.py'>"
            ]
          },
          "metadata": {
            "tags": []
          },
          "execution_count": 52
        }
      ]
    },
    {
      "cell_type": "code",
      "metadata": {
        "id": "LGAXcnpAZCG6",
        "colab_type": "code",
        "colab": {}
      },
      "source": [
        "#Path of data files\n",
        "\n",
        "#path = os.getcwd()\n",
        "path_data = path\n",
        "\n",
        "#Setup config\n",
        "config_1 = utils.Config(\n",
        "    testing=False,\n",
        "    bert_model_name='bert-base-chinese', \n",
        "    max_lr=2e-5,\n",
        "    epochs=1,\n",
        "    bs=8, #Bantch Size\n",
        "    text_cols  = ['txt'],\n",
        "    label_cols = ['field'],\n",
        "    max_seq_len=128, # Max value is 512\n",
        "    num_labels = 26,  # 26 main categories totally\n",
        "    train_file = 'df_train_solo.csv',\n",
        "    test_file = None #None when no test data given\n",
        ")"
      ],
      "execution_count": 0,
      "outputs": []
    },
    {
      "cell_type": "markdown",
      "metadata": {
        "id": "ywEJhvilYYbO",
        "colab_type": "text"
      },
      "source": [
        "## Run sripts"
      ]
    },
    {
      "cell_type": "code",
      "metadata": {
        "id": "S1occgS1e1Iy",
        "colab_type": "code",
        "colab": {}
      },
      "source": [
        "helper.seed_everything()"
      ],
      "execution_count": 0,
      "outputs": []
    },
    {
      "cell_type": "code",
      "metadata": {
        "id": "D1TtKi9gc1Et",
        "colab_type": "code",
        "colab": {}
      },
      "source": [
        "df_train,df_test = helper.get_data(path_data,config_1.train_file, config_1.test_file)"
      ],
      "execution_count": 0,
      "outputs": []
    },
    {
      "cell_type": "code",
      "metadata": {
        "id": "kzyjlhpMt7Yn",
        "colab_type": "code",
        "colab": {
          "base_uri": "https://localhost:8080/",
          "height": 52
        },
        "outputId": "efbb3e0b-ff8f-4143-866b-a1bcb4322515"
      },
      "source": [
        "learner = utils.get_learner(df_train,df_test,config_1)"
      ],
      "execution_count": 40,
      "outputs": [
        {
          "output_type": "stream",
          "text": [
            "100%|██████████| 520/520 [00:00<00:00, 87119.56B/s]\n",
            "100%|██████████| 411577189/411577189 [00:37<00:00, 10877338.30B/s]\n"
          ],
          "name": "stderr"
        }
      ]
    },
    {
      "cell_type": "code",
      "metadata": {
        "id": "tXEq9w50IJJi",
        "colab_type": "code",
        "colab": {}
      },
      "source": [
        ""
      ],
      "execution_count": 0,
      "outputs": []
    },
    {
      "cell_type": "markdown",
      "metadata": {
        "id": "8AqPT8IrYfCs",
        "colab_type": "text"
      },
      "source": [
        "## Finetune Model"
      ]
    },
    {
      "cell_type": "code",
      "metadata": {
        "id": "Tt-Mzjywk4xv",
        "colab_type": "code",
        "outputId": "7998706c-576f-44ca-faf0-5c8a0f31779e",
        "colab": {
          "base_uri": "https://localhost:8080/",
          "height": 77
        }
      },
      "source": [
        "learner.fit_one_cycle(1, max_lr=config_1.max_lr)"
      ],
      "execution_count": 41,
      "outputs": [
        {
          "output_type": "display_data",
          "data": {
            "text/html": [
              "<table border=\"1\" class=\"dataframe\">\n",
              "  <thead>\n",
              "    <tr style=\"text-align: left;\">\n",
              "      <th>epoch</th>\n",
              "      <th>train_loss</th>\n",
              "      <th>valid_loss</th>\n",
              "      <th>accuracy</th>\n",
              "      <th>time</th>\n",
              "    </tr>\n",
              "  </thead>\n",
              "  <tbody>\n",
              "    <tr>\n",
              "      <td>0</td>\n",
              "      <td>0.721459</td>\n",
              "      <td>0.727856</td>\n",
              "      <td>0.805736</td>\n",
              "      <td>21:39</td>\n",
              "    </tr>\n",
              "  </tbody>\n",
              "</table>"
            ],
            "text/plain": [
              "<IPython.core.display.HTML object>"
            ]
          },
          "metadata": {
            "tags": []
          }
        }
      ]
    },
    {
      "cell_type": "code",
      "metadata": {
        "id": "HHn5kQV-Sp3-",
        "colab_type": "code",
        "outputId": "1405411e-4336-4d6f-cd22-5ce2568c999c",
        "colab": {
          "base_uri": "https://localhost:8080/",
          "height": 77
        }
      },
      "source": [
        "learner.fit_one_cycle(1, max_lr=config_1.max_lr)"
      ],
      "execution_count": 42,
      "outputs": [
        {
          "output_type": "display_data",
          "data": {
            "text/html": [
              "<table border=\"1\" class=\"dataframe\">\n",
              "  <thead>\n",
              "    <tr style=\"text-align: left;\">\n",
              "      <th>epoch</th>\n",
              "      <th>train_loss</th>\n",
              "      <th>valid_loss</th>\n",
              "      <th>accuracy</th>\n",
              "      <th>time</th>\n",
              "    </tr>\n",
              "  </thead>\n",
              "  <tbody>\n",
              "    <tr>\n",
              "      <td>0</td>\n",
              "      <td>0.662930</td>\n",
              "      <td>0.701161</td>\n",
              "      <td>0.809062</td>\n",
              "      <td>21:34</td>\n",
              "    </tr>\n",
              "  </tbody>\n",
              "</table>"
            ],
            "text/plain": [
              "<IPython.core.display.HTML object>"
            ]
          },
          "metadata": {
            "tags": []
          }
        }
      ]
    },
    {
      "cell_type": "code",
      "metadata": {
        "id": "qprMtqjuU2wI",
        "colab_type": "code",
        "colab": {}
      },
      "source": [
        " "
      ],
      "execution_count": 0,
      "outputs": []
    },
    {
      "cell_type": "markdown",
      "metadata": {
        "id": "IPy0p0INolPS",
        "colab_type": "text"
      },
      "source": [
        "## Interpretation"
      ]
    },
    {
      "cell_type": "code",
      "metadata": {
        "id": "PZRRYUpdpDJQ",
        "colab_type": "code",
        "colab": {}
      },
      "source": [
        "intepret = TextClassificationInterpretation.from_learner(learner)"
      ],
      "execution_count": 0,
      "outputs": []
    },
    {
      "cell_type": "code",
      "metadata": {
        "id": "gzr7TjzvGq3h",
        "colab_type": "code",
        "outputId": "862e2683-663e-47ba-b987-77870c241834",
        "colab": {
          "base_uri": "https://localhost:8080/",
          "height": 553
        }
      },
      "source": [
        "intepret.show_top_losses(8)"
      ],
      "execution_count": 50,
      "outputs": [
        {
          "output_type": "display_data",
          "data": {
            "text/html": [
              "<table border=\"1\" class=\"dataframe\">\n",
              "  <thead>\n",
              "    <tr style=\"text-align: right;\">\n",
              "      <th>Text</th>\n",
              "      <th>Prediction</th>\n",
              "      <th>Actual</th>\n",
              "      <th>Loss</th>\n",
              "      <th>Probability</th>\n",
              "    </tr>\n",
              "  </thead>\n",
              "  <tbody>\n",
              "    <tr>\n",
              "      <td>[CLS] 一 信 贷 是 一 个 贷 款 类 型 搜 索 信 息 服 务 平 台 ， 旨 在 为 不 同 身 份 、 年 龄 、 地 区 的 个 人 用 户 和 微 小 企 业 提 供 详 细 金 融 贷 款 产 品 信 息 ， 根 据 不 同 需 要 推 荐 服 务 ， 业 务 涵</td>\n",
              "      <td>1402</td>\n",
              "      <td>1421</td>\n",
              "      <td>9.52</td>\n",
              "      <td>0.00</td>\n",
              "    </tr>\n",
              "    <tr>\n",
              "      <td>[CLS] 极 乐 相 机 照 片 编 辑 器 ， 效 果 帧 是 一 个 自 由 ， 乐 趣 和 方 便 地 创 建 和 分 享 美 丽 的 照 片 ， 将 您 的 朋 友 和 家 人 惊 喜 。 极 乐 相 机 照 片 编 辑 器 ， 效 果 和 帧 免 费 的 应 用 程 序 是</td>\n",
              "      <td>1402</td>\n",
              "      <td>1422</td>\n",
              "      <td>8.72</td>\n",
              "      <td>0.00</td>\n",
              "    </tr>\n",
              "    <tr>\n",
              "      <td>[CLS] 家 乡 人 社 交 分 享 阵 地 ， 即 刻 掌 握 罗 定 新 鲜 、 优 质 的 活 动 资 讯 。 泷 州 大 地 转 角 遇 到 爱 ， 邂 逅 同 城 有 缘 人 ， 开 启 全 新 交 友 时 代 。 罗 定 e 天 空 app 客 户 端 让 您 更 便 捷 、</td>\n",
              "      <td>1402</td>\n",
              "      <td>1403</td>\n",
              "      <td>8.60</td>\n",
              "      <td>0.00</td>\n",
              "    </tr>\n",
              "    <tr>\n",
              "      <td>[CLS] google ##au ##the ##nt ##ic ##tor 是 谷 歌 推 出 的 一 款 动 态 口 令 工 具 ， 解 决 大 家 的 google 账 户 遭 到 恶 意 攻 击 的 ， 在 手 机 端 生 成 动 态 口 令 后 ， 在 google 相 关 的 服 务 登 陆 中 除 了 用 正 常 用 户 名 和 密</td>\n",
              "      <td>1402</td>\n",
              "      <td>1409</td>\n",
              "      <td>8.51</td>\n",
              "      <td>0.00</td>\n",
              "    </tr>\n",
              "    <tr>\n",
              "      <td>[CLS] 《 一 剑 斩 仙 》 是 一 款 全 3d 场 景 及 人 物 视 角 的 古 风 仙 侠 mmorpg 手 游 ， 浩 瀚 广 阔 的 故 事 背 景 ， 酣 畅 淋 漓 的 战 斗 操 作 ， 美 轮 美 奂 的 时 装 搭 配 ， 带 来 不 寻 常 的 修 仙 奇 遇 御 剑</td>\n",
              "      <td>1402</td>\n",
              "      <td>1402</td>\n",
              "      <td>8.31</td>\n",
              "      <td>0.99</td>\n",
              "    </tr>\n",
              "    <tr>\n",
              "      <td>[CLS] 《 wifi 分 析 家 》 是 一 款 利 用 手 机 无 线 网 卡 对 wifi 网 络 进 行 分 析 的 软 件 . 它 不 仅 能 够 帮 助 用 户 搜 索 到 无 线 设 备 所 处 范 围 内 所 有 的 wifi 热 点 , 还 能 告 知 用 户 这 些 热 点 的 基</td>\n",
              "      <td>1402</td>\n",
              "      <td>1409</td>\n",
              "      <td>8.15</td>\n",
              "      <td>0.01</td>\n",
              "    </tr>\n",
              "    <tr>\n",
              "      <td>[CLS] f ##v ##5 专 业 单 反 相 机 是 一 款 专 业 级 别 的 拍 照 拍 摄 软 件 ， 功 能 强 大 ， 所 有 的 拍 摄 参 数 都 可 以 调 整 ， 支 持 类 似 单 反 像 取 景 器 的 显 示 效 果 主 要 特 点 所 有 的 摄 影 参 数 是</td>\n",
              "      <td>1402</td>\n",
              "      <td>1422</td>\n",
              "      <td>7.99</td>\n",
              "      <td>0.00</td>\n",
              "    </tr>\n",
              "    <tr>\n",
              "      <td>[CLS] 嗨 车 ， 智 能 共 享 汽 车 ， 随 时 随 地 有 车 开 app 一 键 开 锁 ， 24 小 时 随 取 随 用 ， 一 切 就 像 使 用 自 己 的 私 家 车 一 样 得 心 应 手 ， 用 车 完 毕 后 在 指 定 区 域 内 任 意 停 车 ， 不 必 再</td>\n",
              "      <td>1402</td>\n",
              "      <td>1401</td>\n",
              "      <td>7.61</td>\n",
              "      <td>0.00</td>\n",
              "    </tr>\n",
              "  </tbody>\n",
              "</table>"
            ],
            "text/plain": [
              "<IPython.core.display.HTML object>"
            ]
          },
          "metadata": {
            "tags": []
          }
        }
      ]
    },
    {
      "cell_type": "code",
      "metadata": {
        "id": "BeWDTlYJ1KAJ",
        "colab_type": "code",
        "outputId": "1115ac3c-d5eb-47fa-db52-f929c49386cd",
        "colab": {
          "base_uri": "https://localhost:8080/",
          "height": 105
        }
      },
      "source": [
        "learner.predict('定位试衣到家是一款基于地理位置，提供试衣到家专属购物体验的互联网平台')"
      ],
      "execution_count": 51,
      "outputs": [
        {
          "output_type": "execute_result",
          "data": {
            "text/plain": [
              "(Category 1423,\n",
              " tensor(21),\n",
              " tensor([0.0329, 0.0029, 0.0055, 0.0012, 0.0051, 0.0023, 0.0015, 0.0050, 0.0318,\n",
              "         0.0013, 0.0045, 0.0056, 0.0104, 0.0142, 0.0043, 0.0055, 0.0047, 0.0037,\n",
              "         0.0106, 0.0058, 0.0020, 0.7700, 0.0018, 0.0077, 0.0381, 0.0217]))"
            ]
          },
          "metadata": {
            "tags": []
          },
          "execution_count": 51
        }
      ]
    },
    {
      "cell_type": "code",
      "metadata": {
        "id": "AM8ncjP4aLxQ",
        "colab_type": "code",
        "colab": {}
      },
      "source": [
        ""
      ],
      "execution_count": 0,
      "outputs": []
    }
  ]
}