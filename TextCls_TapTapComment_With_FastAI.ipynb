{
  "nbformat": 4,
  "nbformat_minor": 0,
  "metadata": {
    "colab": {
      "name": "TextCls_TapTapComment_With_FastAI.ipynb",
      "version": "0.3.2",
      "provenance": [],
      "collapsed_sections": [],
      "include_colab_link": true
    },
    "kernelspec": {
      "name": "python3",
      "display_name": "Python 3"
    },
    "accelerator": "GPU"
  },
  "cells": [
    {
      "cell_type": "markdown",
      "metadata": {
        "id": "view-in-github",
        "colab_type": "text"
      },
      "source": [
        "<a href=\"https://colab.research.google.com/github/ZeroLeon/NLP_Task_with_FastAI/blob/master/TextCls_TapTapComment_With_FastAI.ipynb\" target=\"_parent\"><img src=\"https://colab.research.google.com/assets/colab-badge.svg\" alt=\"Open In Colab\"/></a>"
      ]
    },
    {
      "cell_type": "markdown",
      "metadata": {
        "id": "pHGiCX2dgWxG",
        "colab_type": "text"
      },
      "source": [
        "#Text Classification on TapTap Reviews with FAST.AI and BERT"
      ]
    },
    {
      "cell_type": "markdown",
      "metadata": {
        "id": "2Jx9IO2FhNL-",
        "colab_type": "text"
      },
      "source": [
        "##Background"
      ]
    },
    {
      "cell_type": "markdown",
      "metadata": {
        "id": "OAh96jFfkB0i",
        "colab_type": "text"
      },
      "source": [
        "\n",
        "\n",
        "**想法**：市场上手机游戏竞争非常激烈，手游收入是主流互联网公司比如腾讯网易的重要营收来源。这里想使用 fast.ai 框架结合 bert 预训练模型来实现一个手游用户口碑预测的功能\n",
        "\n",
        "**数据来源**：TapTap，著名手游社区APP\n",
        "\n",
        "**流程**： 使用爬取的评论数据做用户评价正负取向分类，将 fine-tune 后的语言模型应用在无标签的评论数据上（游戏论坛、贴吧、社区），观察模型评分得到用户口碑度。\n",
        "\n",
        "\n",
        "\n"
      ]
    },
    {
      "cell_type": "markdown",
      "metadata": {
        "id": "_4lPNfSpmZLe",
        "colab_type": "text"
      },
      "source": [
        "##Preparation"
      ]
    },
    {
      "cell_type": "code",
      "metadata": {
        "id": "d4UZGIHuo8At",
        "colab_type": "code",
        "colab": {}
      },
      "source": [
        "import numpy as np\n",
        "import pandas as pd\n",
        "\n",
        "from pathlib import Path\n",
        "from typing import *\n",
        "\n",
        "import torch\n",
        "import torch.optim as optim\n",
        "\n",
        "from fastai import *\n",
        "from fastai.vision import *\n",
        "from fastai.text import *\n",
        "from fastai.callbacks import *"
      ],
      "execution_count": 0,
      "outputs": []
    },
    {
      "cell_type": "code",
      "metadata": {
        "id": "hL_oAuOipwE5",
        "colab_type": "code",
        "colab": {}
      },
      "source": [
        "#设置一个config类，便于参数配置与更改\n",
        "class Config(dict):\n",
        "    def __init__(self, **kwargs):\n",
        "        super().__init__(**kwargs)\n",
        "        for k, v in kwargs.items():\n",
        "            setattr(self, k, v)\n",
        "    \n",
        "    def set(self, key, val):\n",
        "        self[key] = val\n",
        "        setattr(self, key, val)\n",
        "\n",
        "config = Config(\n",
        "    testing=False,\n",
        "    bert_model_name='bert-base-chinese', \n",
        "    max_lr=3e-5,#The recommended lr is 3e-5 in bert paper, but 2e-5 is better in my tasks\n",
        "    epochs=1,\n",
        "    use_fp16=False, #fastai里可以方便地调整精度，加快训练速度：learner.to_fp16()\n",
        "    bs=8,\n",
        "    max_seq_len=256, #选取合适的seq_length，较大的值可能导致训练极慢报错等\n",
        "    num_labels = 2 , # 0:negative, 1:positive\n",
        ")"
      ],
      "execution_count": 0,
      "outputs": []
    },
    {
      "cell_type": "code",
      "metadata": {
        "id": "BXL8TebpqYpu",
        "colab_type": "code",
        "colab": {
          "base_uri": "https://localhost:8080/",
          "height": 125
        },
        "outputId": "81e97127-437b-4315-897a-1bd411eb7965"
      },
      "source": [
        "from google.colab import drive\n",
        "drive.mount('/content/gdrive',force_remount = True)\n",
        "base_dir = '/content/gdrive/My Drive/fastai'\n",
        "path = Path(base_dir +'/data/taptap_comment')\n",
        "path.mkdir(parents=True,exist_ok=True)"
      ],
      "execution_count": 4,
      "outputs": [
        {
          "output_type": "stream",
          "text": [
            "Go to this URL in a browser: https://accounts.google.com/o/oauth2/auth?client_id=947318989803-6bn6qk8qdgf4n4g3pfee6491hc0brc4i.apps.googleusercontent.com&redirect_uri=urn%3Aietf%3Awg%3Aoauth%3A2.0%3Aoob&scope=email%20https%3A%2F%2Fwww.googleapis.com%2Fauth%2Fdocs.test%20https%3A%2F%2Fwww.googleapis.com%2Fauth%2Fdrive%20https%3A%2F%2Fwww.googleapis.com%2Fauth%2Fdrive.photos.readonly%20https%3A%2F%2Fwww.googleapis.com%2Fauth%2Fpeopleapi.readonly&response_type=code\n",
            "\n",
            "Enter your authorization code:\n",
            "··········\n",
            "Mounted at /content/gdrive\n"
          ],
          "name": "stdout"
        }
      ]
    },
    {
      "cell_type": "code",
      "metadata": {
        "id": "RM-LV-h9ycd-",
        "colab_type": "code",
        "colab": {}
      },
      "source": [
        "!pip install pytorch_pretrained_bert"
      ],
      "execution_count": 0,
      "outputs": []
    },
    {
      "cell_type": "markdown",
      "metadata": {
        "id": "B0m5hQuuo39K",
        "colab_type": "text"
      },
      "source": [
        "##Dataset"
      ]
    },
    {
      "cell_type": "markdown",
      "metadata": {
        "id": "QvCoWLe7q3TR",
        "colab_type": "text"
      },
      "source": [
        "共爬取 TapTap 上来源于三百多款游戏的玩家评论 5500 条，将字数过多或过少的评论剔除，清除缺失值以后还剩 4888 条。其中正向评价 2430 条（4星和5星），负向评价 2458 条（1、2、3星），数据集分布大致平衡。\n",
        "\n",
        "在分类任务中这个数据集是较小的，我们看看之后模型的表现如何。"
      ]
    },
    {
      "cell_type": "code",
      "metadata": {
        "id": "RVqZ88FIgAh2",
        "colab_type": "code",
        "colab": {}
      },
      "source": [
        "taptap_df = pd.read_csv(path/'taptap_review_ready.csv')"
      ],
      "execution_count": 0,
      "outputs": []
    },
    {
      "cell_type": "code",
      "metadata": {
        "id": "4CVLnS3grEod",
        "colab_type": "code",
        "colab": {
          "base_uri": "https://localhost:8080/",
          "height": 343
        },
        "outputId": "c17ef0ea-0908-40bd-87e9-08a1648028d1"
      },
      "source": [
        "taptap_df.sample(10)"
      ],
      "execution_count": 7,
      "outputs": [
        {
          "output_type": "execute_result",
          "data": {
            "text/html": [
              "<div>\n",
              "<style scoped>\n",
              "    .dataframe tbody tr th:only-of-type {\n",
              "        vertical-align: middle;\n",
              "    }\n",
              "\n",
              "    .dataframe tbody tr th {\n",
              "        vertical-align: top;\n",
              "    }\n",
              "\n",
              "    .dataframe thead th {\n",
              "        text-align: right;\n",
              "    }\n",
              "</style>\n",
              "<table border=\"1\" class=\"dataframe\">\n",
              "  <thead>\n",
              "    <tr style=\"text-align: right;\">\n",
              "      <th></th>\n",
              "      <th>review</th>\n",
              "      <th>sentiment</th>\n",
              "    </tr>\n",
              "  </thead>\n",
              "  <tbody>\n",
              "    <tr>\n",
              "      <th>4467</th>\n",
              "      <td>画面黑插画风格黑就是暗黑了？？？玩了两个小时就删了游戏，原因如下：1，视角过低，可视范围小，...</td>\n",
              "      <td>0</td>\n",
              "    </tr>\n",
              "    <tr>\n",
              "      <th>821</th>\n",
              "      <td>_(: 」∠)_画风丑到描述不出来。。。自由度还是可以，npc对话给我整乐了，五星差评</td>\n",
              "      <td>1</td>\n",
              "    </tr>\n",
              "    <tr>\n",
              "      <th>2144</th>\n",
              "      <td>警告！据不完全统计，截止6月29日，此游戏下载人数约为270人，闯关失败的次数约为7000次...</td>\n",
              "      <td>1</td>\n",
              "    </tr>\n",
              "    <tr>\n",
              "      <th>2711</th>\n",
              "      <td>评论区一片差评吸引我进了游戏，画质差，没啥。但是当我点开一个智障的装备后给我弹出来一个广告？...</td>\n",
              "      <td>0</td>\n",
              "    </tr>\n",
              "    <tr>\n",
              "      <th>3656</th>\n",
              "      <td>游戏公司想赚钱可以理解，毕竟那么多开发宣传费用，手游玩了不少，基本玩一个月就删了，要不是太肝...</td>\n",
              "      <td>0</td>\n",
              "    </tr>\n",
              "    <tr>\n",
              "      <th>4320</th>\n",
              "      <td>现在就是有个问题就是，不知道大家有没有，我原来买的东西同步之后，在另外一个手机登录，然后那个...</td>\n",
              "      <td>0</td>\n",
              "    </tr>\n",
              "    <tr>\n",
              "      <th>1987</th>\n",
              "      <td>我刚下载游戏，特意看了评论，然后安装的时候竟然报毒！！！报毒！！我是真的有点害怕，所以先给3...</td>\n",
              "      <td>0</td>\n",
              "    </tr>\n",
              "    <tr>\n",
              "      <th>1393</th>\n",
              "      <td>本来想说给四星的但是想了想还是三星吧，毕竟三星炸了游戏本身来说像素风格还是挺符合一部分人的口...</td>\n",
              "      <td>0</td>\n",
              "    </tr>\n",
              "    <tr>\n",
              "      <th>2644</th>\n",
              "      <td>音乐给五分，体验给一分...很不忍心给三星但是思索再三还是残忍一点。因为这真的是少数几个我越...</td>\n",
              "      <td>0</td>\n",
              "    </tr>\n",
              "    <tr>\n",
              "      <th>15</th>\n",
              "      <td>tap推送就直接下载开始玩，从一进游戏就有浓重的暗黑3的影子，无论故事背景，画面，地图，角色...</td>\n",
              "      <td>0</td>\n",
              "    </tr>\n",
              "  </tbody>\n",
              "</table>\n",
              "</div>"
            ],
            "text/plain": [
              "                                                 review  sentiment\n",
              "4467  画面黑插画风格黑就是暗黑了？？？玩了两个小时就删了游戏，原因如下：1，视角过低，可视范围小，...          0\n",
              "821         _(: 」∠)_画风丑到描述不出来。。。自由度还是可以，npc对话给我整乐了，五星差评          1\n",
              "2144  警告！据不完全统计，截止6月29日，此游戏下载人数约为270人，闯关失败的次数约为7000次...          1\n",
              "2711  评论区一片差评吸引我进了游戏，画质差，没啥。但是当我点开一个智障的装备后给我弹出来一个广告？...          0\n",
              "3656  游戏公司想赚钱可以理解，毕竟那么多开发宣传费用，手游玩了不少，基本玩一个月就删了，要不是太肝...          0\n",
              "4320  现在就是有个问题就是，不知道大家有没有，我原来买的东西同步之后，在另外一个手机登录，然后那个...          0\n",
              "1987  我刚下载游戏，特意看了评论，然后安装的时候竟然报毒！！！报毒！！我是真的有点害怕，所以先给3...          0\n",
              "1393  本来想说给四星的但是想了想还是三星吧，毕竟三星炸了游戏本身来说像素风格还是挺符合一部分人的口...          0\n",
              "2644  音乐给五分，体验给一分...很不忍心给三星但是思索再三还是残忍一点。因为这真的是少数几个我越...          0\n",
              "15    tap推送就直接下载开始玩，从一进游戏就有浓重的暗黑3的影子，无论故事背景，画面，地图，角色...          0"
            ]
          },
          "metadata": {
            "tags": []
          },
          "execution_count": 7
        }
      ]
    },
    {
      "cell_type": "code",
      "metadata": {
        "id": "gDnnn25drGmV",
        "colab_type": "code",
        "colab": {
          "base_uri": "https://localhost:8080/",
          "height": 70
        },
        "outputId": "0fcf349f-b23f-4758-8730-b49d26b8f74d"
      },
      "source": [
        "label_representation = {1:'positive',0:'negative'}\n",
        "taptap_df.sentiment.value_counts()"
      ],
      "execution_count": 11,
      "outputs": [
        {
          "output_type": "execute_result",
          "data": {
            "text/plain": [
              "0    2458\n",
              "1    2430\n",
              "Name: sentiment, dtype: int64"
            ]
          },
          "metadata": {
            "tags": []
          },
          "execution_count": 11
        }
      ]
    },
    {
      "cell_type": "markdown",
      "metadata": {
        "id": "M_FlRHAluxfR",
        "colab_type": "text"
      },
      "source": [
        "##Using BERT with fast.ai"
      ]
    },
    {
      "cell_type": "markdown",
      "metadata": {
        "id": "reutbe8lvLhg",
        "colab_type": "text"
      },
      "source": [
        "**在 fast.ai 框架下使用 bert 预训练模型需要注意几个要点：**\n",
        "\n",
        "\n",
        "\n",
        "1.   Bert 有自己的 wordpiece tokenizer，在处理英文时会归类同一词根的不同词。\n",
        "2.   Bert 使用特殊 token [CLS] 和 [SEP] 来区分 sequences，与 fast.ai 里的bos （begin of string）和 eos 有重合，所以在之后会有 include_eos=Fasle 的设置。\n",
        "3.   Bert 有预置的 vocabulary，它的中文词库是字为单位建立的，所以百度的 ERNIE 模型在训练中引入了词的信息，效果有提升"
      ]
    },
    {
      "cell_type": "code",
      "metadata": {
        "id": "slOdsg-VrPl9",
        "colab_type": "code",
        "colab": {
          "base_uri": "https://localhost:8080/",
          "height": 34
        },
        "outputId": "67adbd71-e04e-462b-9734-812d2d050444"
      },
      "source": [
        "#现在也可以直接从Pytorch Hub中引入\n",
        "from pytorch_pretrained_bert import BertTokenizer\n",
        "bert_tok = BertTokenizer.from_pretrained(\n",
        "    config.bert_model_name,\n",
        ")"
      ],
      "execution_count": 13,
      "outputs": [
        {
          "output_type": "stream",
          "text": [
            "100%|██████████| 109540/109540 [00:00<00:00, 4198712.00B/s]\n"
          ],
          "name": "stderr"
        }
      ]
    },
    {
      "cell_type": "code",
      "metadata": {
        "id": "AS_5-SF8uVKE",
        "colab_type": "code",
        "colab": {}
      },
      "source": [
        "from pytorch_pretrained_bert import BertTokenizer\n",
        "class FastAiBertTokenizer(BaseTokenizer):\n",
        "    \"\"\"Wrapper around BertTokenizer to be compatible with fast.ai\"\"\"\n",
        "    def __init__(self, tokenizer: BertTokenizer, max_seq_len: int=128, **kwargs):\n",
        "        self._pretrained_tokenizer = tokenizer\n",
        "        self.max_seq_len = max_seq_len\n",
        "\n",
        "    def __call__(self, *args, **kwargs):\n",
        "        return self\n",
        "\n",
        "    def tokenizer(self, t:str) -> List[str]:\n",
        "        \"\"\"Limits the maximum sequence length\"\"\"\n",
        "        return [\"[CLS]\"] + self._pretrained_tokenizer.tokenize(t)[:self.max_seq_len - 2] + [\"[SEP]\"]"
      ],
      "execution_count": 0,
      "outputs": []
    },
    {
      "cell_type": "code",
      "metadata": {
        "id": "Jb7UD6bsy9ff",
        "colab_type": "code",
        "colab": {}
      },
      "source": [
        "fastai_tokenizer = Tokenizer(\n",
        "    tok_func=FastAiBertTokenizer(bert_tok, max_seq_len=config.max_seq_len), \n",
        "    pre_rules=[], \n",
        "    post_rules=[]\n",
        ")"
      ],
      "execution_count": 0,
      "outputs": []
    },
    {
      "cell_type": "code",
      "metadata": {
        "id": "6vuPpAa2zA4b",
        "colab_type": "code",
        "colab": {
          "base_uri": "https://localhost:8080/",
          "height": 369
        },
        "outputId": "331f50c8-a74d-45e2-d28a-578a042423d5"
      },
      "source": [
        "#check the vocab\n",
        "list(bert_tok.vocab.items())[2100:2120]"
      ],
      "execution_count": 24,
      "outputs": [
        {
          "output_type": "execute_result",
          "data": {
            "text/plain": [
              "[('存', 2100),\n",
              " ('孙', 2101),\n",
              " ('孚', 2102),\n",
              " ('孛', 2103),\n",
              " ('孜', 2104),\n",
              " ('孝', 2105),\n",
              " ('孟', 2106),\n",
              " ('孢', 2107),\n",
              " ('季', 2108),\n",
              " ('孤', 2109),\n",
              " ('学', 2110),\n",
              " ('孩', 2111),\n",
              " ('孪', 2112),\n",
              " ('孫', 2113),\n",
              " ('孬', 2114),\n",
              " ('孰', 2115),\n",
              " ('孱', 2116),\n",
              " ('孳', 2117),\n",
              " ('孵', 2118),\n",
              " ('學', 2119)]"
            ]
          },
          "metadata": {
            "tags": []
          },
          "execution_count": 24
        }
      ]
    },
    {
      "cell_type": "code",
      "metadata": {
        "id": "YrZ1eBVYzLVl",
        "colab_type": "code",
        "colab": {}
      },
      "source": [
        "fastai_bert_vocab = Vocab(list(bert_tok.vocab.keys()))"
      ],
      "execution_count": 0,
      "outputs": []
    },
    {
      "cell_type": "markdown",
      "metadata": {
        "id": "iaOBPYWc0YD7",
        "colab_type": "text"
      },
      "source": [
        "##Setup Databunch"
      ]
    },
    {
      "cell_type": "code",
      "metadata": {
        "id": "b40LiZlmzhwQ",
        "colab_type": "code",
        "colab": {}
      },
      "source": [
        "#分割训练集train与验证集valid,设定随机数种子确保结果复现\n",
        "from sklearn.model_selection import train_test_split\n",
        "train_df, valid_df = train_test_split(taptap_df,random_state=42)"
      ],
      "execution_count": 0,
      "outputs": []
    },
    {
      "cell_type": "code",
      "metadata": {
        "id": "D8NSEr9M0xsU",
        "colab_type": "code",
        "colab": {}
      },
      "source": [
        "#数据集较大的情况下，可以使用子集快速测试，本次数据集较小忽略这一步\n",
        "if config.testing:\n",
        "  train = train_df.head(1024)\n",
        "  valid = valid_df.head(1024)\n",
        "else:\n",
        "  train = train_df\n",
        "  valid = valid_df"
      ],
      "execution_count": 0,
      "outputs": []
    },
    {
      "cell_type": "code",
      "metadata": {
        "id": "ynVajxpF1KPf",
        "colab_type": "code",
        "colab": {
          "base_uri": "https://localhost:8080/",
          "height": 52
        },
        "outputId": "208b4f2f-10bd-4bb5-e08e-59679fde33b4"
      },
      "source": [
        "print(train.shape)\n",
        "print(valid.shape)"
      ],
      "execution_count": 29,
      "outputs": [
        {
          "output_type": "stream",
          "text": [
            "(3666, 2)\n",
            "(1222, 2)\n"
          ],
          "name": "stdout"
        }
      ]
    },
    {
      "cell_type": "code",
      "metadata": {
        "id": "e97owCA92Caf",
        "colab_type": "code",
        "colab": {}
      },
      "source": [
        "text_cols  = ['review']\n",
        "label_cols = ['sentiment']"
      ],
      "execution_count": 0,
      "outputs": []
    },
    {
      "cell_type": "code",
      "metadata": {
        "id": "zU-o1sSc1OPu",
        "colab_type": "code",
        "colab": {}
      },
      "source": [
        "#建立 TextDataBunch\n",
        "databunch = TextClasDataBunch.from_df(\".\", train, valid,\n",
        "                  tokenizer=fastai_tokenizer,\n",
        "                  vocab=fastai_bert_vocab,\n",
        "                  include_bos=False,\n",
        "                  include_eos=False,\n",
        "                  text_cols= text_cols,\n",
        "                  label_cols= label_cols,\n",
        "                  bs=config.bs,\n",
        "                  collate_fn=partial(pad_collate, pad_first=False, pad_idx=0),\n",
        "             )"
      ],
      "execution_count": 0,
      "outputs": []
    },
    {
      "cell_type": "code",
      "metadata": {
        "id": "zndvc0LA2gZu",
        "colab_type": "code",
        "colab": {
          "base_uri": "https://localhost:8080/",
          "height": 435
        },
        "outputId": "b4f10b59-a95f-441d-f08f-1c3e1d7a7b88"
      },
      "source": [
        "databunch.show_batch(8)"
      ],
      "execution_count": 38,
      "outputs": [
        {
          "output_type": "display_data",
          "data": {
            "text/html": [
              "<table border=\"1\" class=\"dataframe\">\n",
              "  <thead>\n",
              "    <tr style=\"text-align: right;\">\n",
              "      <th>text</th>\n",
              "      <th>target</th>\n",
              "    </tr>\n",
              "  </thead>\n",
              "  <tbody>\n",
              "    <tr>\n",
              "      <td>[CLS] 一 周 目 连 续 肝 了 三 天 ， 终 于 打 败 了 开 罗 姬 （ 开 罗 君 ∶ 开 罗 你 不 爱 我 了 ） 。 用 的 是 a 级 世 界 巨 星 级 选 手 ， 平 均 数 值 1800 左 右 。 游 戏 中 选 手 分 三 个 年 龄 段 ∶ 小 孩 ， 大</td>\n",
              "      <td>1</td>\n",
              "    </tr>\n",
              "    <tr>\n",
              "      <td>[CLS] 经 过 短 短 的 十 几 分 钟 ， 我 就 已 经 感 受 到 了 这 款 游 戏 满 满 的 恶 意 [UNK] 喵 的 这 也 太 难 了 点 吧 ！ ( ╯ [UNK] □ ′ ) ╯ [UNK] [UNK] 第 一 关 玩 了 十 几 次 都 没 有 过 ， 还 给 了 个 手 残 勋 章 ←</td>\n",
              "      <td>1</td>\n",
              "    </tr>\n",
              "    <tr>\n",
              "      <td>[CLS] 啊 啊 啊 啊 啊 啊 ， 兴 奋 到 不 行 ， 五 星 必 须 给 上 。 好 几 年 前 玩 电 脑 的 时 候 才 接 触 到 了 橙 光 ， 玩 了 很 多 文 字 游 戏 只 有 逆 袭 之 星 途 闪 耀 最 合 胃 口 玩 了 下 来 ， 主 打 言 楚 非</td>\n",
              "      <td>1</td>\n",
              "    </tr>\n",
              "    <tr>\n",
              "      <td>[CLS] 一 款 休 闲 向 小 游 戏 ， 玩 家 操 控 一 个 长 得 像 好 时 之 吻 巧 克 力 的 小 玩 意 ， 点 击 屏 幕 跳 跃 ， 阻 挡 玩 家 的 旋 转 圆 环 有 四 面 不 同 的 颜 色 ， 玩 家 需 要 根 据 自 身 颜 色 通 过 相 对</td>\n",
              "      <td>1</td>\n",
              "    </tr>\n",
              "    <tr>\n",
              "      <td>[CLS] ta ##p 游 戏 时 间 反 正 很 长 了 ， 我 欠 此 游 一 个 走 心 的 评 论 。 爱 丽 丝 加 一 星 。 美 人 鱼 加 一 星 。 睡 美 人 加 一 星 。 桃 乐 丝 加 一 星 。 小 天 鹅 加 一 星 。 然 后 黑 雪 加 ， 嗯 ？ 加 满</td>\n",
              "      <td>1</td>\n",
              "    </tr>\n",
              "    <tr>\n",
              "      <td>[CLS] 鉴 于 我 从 萌 新 玩 到 了 40 多 级 （ 并 且 心 态 好 了 ） 修 改 一 下 [UNK] [UNK] [UNK] [UNK] [UNK] [UNK] [UNK] [UNK] [UNK] [UNK] [UNK] [UNK] [UNK] [UNK] [UNK] [UNK] [UNK] [UNK] [UNK] [UNK] [UNK] [UNK] 因 为 身 边 有 朋 友 在 玩 ， 我 就 入 坑 了 本 来 想 玩 国 际 服 ，</td>\n",
              "      <td>1</td>\n",
              "    </tr>\n",
              "    <tr>\n",
              "      <td>[CLS] 游 戏 运 行 蛮 流 畅 的 ， 毕 竟 测 试 服 ， 还 是 有 一 些 小 bug 的 。 下 载 好 一 打 开 的 时 候 ， 那 个 登 录 画 面 还 是 蛮 吸 引 人 的 。 游 戏 玩 法 比 较 多 ， 装 备 打 造 系 统 ， 玩 家 之 间 的 交</td>\n",
              "      <td>1</td>\n",
              "    </tr>\n",
              "    <tr>\n",
              "      <td>[CLS] 【 老 鸟 说 】 因 为 w ##x 跳 一 跳 而 被 推 上 风 口 浪 尖 的 一 个 游 戏 其 实 大 家 了 解 一 下 更 新 时 间 就 好 《 欢 乐 跳 瓶 》 最 近 的 一 次 更 新 时 间 为 2016 / 12 / 22 ##w ##x 跳 一 跳 出 现 时 间</td>\n",
              "      <td>1</td>\n",
              "    </tr>\n",
              "  </tbody>\n",
              "</table>"
            ],
            "text/plain": [
              "<IPython.core.display.HTML object>"
            ]
          },
          "metadata": {
            "tags": []
          }
        }
      ]
    },
    {
      "cell_type": "code",
      "metadata": {
        "id": "HclWXsrx4Ypn",
        "colab_type": "code",
        "colab": {
          "base_uri": "https://localhost:8080/",
          "height": 336
        },
        "outputId": "62ed4d76-56d5-44b6-efac-a3bc30692869"
      },
      "source": [
        "databunch.one_item"
      ],
      "execution_count": 42,
      "outputs": [
        {
          "output_type": "execute_result",
          "data": {
            "text/plain": [
              "<bound method DataBunch.one_item of TextClasDataBunch;\n",
              "\n",
              "Train: LabelList (3666 items)\n",
              "x: TextList\n",
              "[CLS] 虽 然 掉 王 者 260 杯 了 但 实 力 偏 上 吧 我 想 发 表 几 个 观 点 不 喜 勿 喷 第 一 翠 竹 棒 特 点 是 铁 链 很 硬 但 是 一 块 石 头 一 下 子 就 能 砸 烂 两 根 而 且 15 跟 翠 竹 需 要 250 香 蕉 。 比 它 好 用 2 倍 的 * * * 才 200 香 蕉 好 吧 ， 前 期 解 锁 了 翠 竹 的 朋 友 相 信 跟 我 小 号 一 样 玩 不 走 了 第 二 钢 筋 版 这 么 说 吧 钢 筋 绳 子 比 翠 竹 的 铁 链 硬 板 子 比 合 金 版 强 今 天 有 幸 碰 到 过 一 个 用 钢 筋 版 的 玩 家 我 用 松 鼠 打 了 5 个 回 合 板 子 才 裂 一 点 小 缝 比 武 士 棍 实 用 3 倍 但 是 制 造 价 格 很 贵 ， 4000 香 蕉 15 根 贫 民 必 定 用 不 起 ， 所 以 匹 配 到 钢 筋 的 别 尝 试 割 绳 子 啃 板 子 了 直 接 退 游 重 来 吧 第 三 这 游 戏 现 在 我 一 天 玩 不 过 20 分 钟 了 香 蕉 不 够 用 用 低 级 板 子 跟 送 分 没 多 大 区 [SEP],[CLS] 调 戏 完 客 服 小 哥 哥 决 定 给 个 五 星 好 评 ( [UNK] • [UNK] • [UNK] ) [UNK] . 衔 接 不 太 好 ， 会 卡 ， 2 . 界 面 过 于 简 单 ， 可 以 丰 富 下 颜 色 ， 多 点 小 形 象 ， 3 . 熟 悉 的 游 戏 套 路 ， 只 不 过 又 有 了 一 个 叫 做 氧 气 瓶 的 东 西 ， 4 . 可 玩 性 有 待 提 高 ， 加 点 难 度 打 几 个 小 怪 是 个 好 套 路 ， 5 . 画 质 优 化 一 下 会 比 较 好 ， 颜 色 丰 富 一 些 ， 6 . 可 以 氪 金 提 高 装 备 ， 补 充 装 备 之 类 的 ， 7 . 声 优 很 简 单 的 ~ 有 点 傻 ， 希 望 有 更 多 的 人 物 形 象 ， 角 色 不 要 太 僵 硬 ， 出 一 些 立 绘 ， 皮 肤 也 是 很 好 的 氪 金 选 择 。 （ 别 打 我 ， 我 知 道 我 有 时 候 评 论 扣 分 很 多 [UNK] _ > [UNK] ） 修 改 ： 客 服 小 哥 哥 超 级 好 玩 ， 可 调 戏 ！ ！ ！ 真 哒 ！ 超 好 玩 ！ [SEP],[CLS] 【 前 方 高 能 ！ ！ 】 【 猫 奴 福 利 ！ ！ ！ 】 我 。 。 。 我 的 天 啊 ！ ！ ！ ！ σ ( ･ ω ･ ﾉ ) ﾉ 好 多 猫 。 。 。 好 多 猫 。 。 好 多 好 多 猫 ！ ！ ！ ( [UNK] • ω • [UNK] ) 让 我 吸 死 过 去 吧 。 。 。 ！ ！ ！ ( [UNK] > ω < * [UNK] ) 这 游 戏 的 画 风 ， 贼 萌 啊 ！ ！ ！ ε = = ( つ ′ ▽ [UNK] ) つ 我 想 象 了 一 下 b ##gm 应 该 也 是 很 好 听 的 ！ ！ [UNK] * ｡ [UNK] ( ˊ ##ω ##ˋ * ) [UNK] * ｡ 还 可 以 搜 集 猫 的 吧 ！ ！ 对 吧 ！ ！ 对 吧 ！ ！ ( ﾟ ##д ##ﾟ ##≡ ##ﾟ ##д ##ﾟ ) 这 个 游 戏 难 道 不 是 在 说 喵 星 人 要 占 领 世 界 么 ？ 嗯 ？ ( [UNK] , , • ∀ • , , [UNK] ) 我 真 的 。 超 。 级 。 无 。 敌 。 好 。 期 。 待 。 啊 ！ ！ ！ ！ [UNK] ( [UNK] ) [UNK] 撸 猫 撸 到 昏 厥 ( [UNK] , , • ∀ • , , [UNK] ) 5 星 期 待 ！ ！ ！ ！ ！ ！ [UNK] [SEP],[CLS] 迷 你 世 界 ？ 打 着 我 的 世 界 的 名 号 蹭 热 度 ？ dog 东 西 越 来 越 不 要 脸 了 哈 [UNK] [SEP],[CLS] 魔 女 兵 器 的 正 确 游 戏 方 式 : 1 ， 找 个 活 动 时 间 入 坑 ， 狂 肝 一 个 活 动 周 期 ， 达 到 基 本 适 应 活 动 强 度 ， 然 后 蹭 活 动 在 最 后 的 时 间 里 不 断 变 强 2 ， 活 动 结 束 后 ， 将 一 些 必 要 的 魔 女 们 提 升 一 下 ， 到 感 觉 再 有 这 样 的 活 动 可 以 真 正 跟 上 的 程 度 3 ， 卸 载 游 戏 4 ， 打 开 官 网 ， 看 看 更 新 和 活 动 有 没 有 公 告 5 ， 没 有 公 告 ， 关 闭 6 ， 还 是 没 有 ， 关 闭 [UNK] 99 ， 游 戏 更 新 ！ 武 器 复 刻 ！ 活 动 池 子 ！ 魔 女 兵 器 ， 下 载 ！ 进 入 游 戏 ！ 咸 鱼 突 刺 ！ [SEP]\n",
              "y: CategoryList\n",
              "1,1,1,0,1\n",
              "Path: .;\n",
              "\n",
              "Valid: LabelList (1222 items)\n",
              "x: TextList\n",
              "[CLS] 好 玩 ， 不 错 的 动 作 游 戏 ， 打 击 感 还 行 ， 视 觉 效 果 也 很 棒 ！ 但 是 还 有 很 多 地 方 要 吐 槽 ！ 升 级 技 能 开 箱 子 抽 签 要 元 宝 ， 虽 然 可 以 打 轮 回 赚 ， 但 是 太 少 了 。 需 要 铜 币 的 地 方 很 多 ， 但 是 铜 币 要 不 断 刷 关 、 钓 鱼 才 有 ， 钓 鱼 有 次 数 ， 刷 关 每 次 才 几 百 铜 币 [UNK] 放 技 能 的 时 候 点 太 快 的 话 会 放 完 一 次 技 能 后 再 放 一 次 ， 瞬 间 内 力 没 了 [UNK] 还 有 紫 装 掉 率 太 低 了 ， 现 在 打 到 第 五 关 五 十 级 了 第 一 套 还 没 满 ， 第 二 套 更 别 说 了 [UNK] 现 在 才 二 件 ， 刷 到 过 其 他 的 紫 装 但 是 属 性 太 差 了 [UNK] 总 结 来 说 这 游 戏 既 氪 又 肝 ， 不 想 氪 只 能 更 肝 的 游 戏 ， 剧 情 党 表 示 很 难 受 ！ [SEP],[CLS] _ ( : 3 」 ∠ ##❀ ) _ 提 一 些 建 议 ， 游 戏 的 优 缺 点 评 论 里 说 的 差 不 多 了 。 现 在 我 讲 讲 如 何 增 加 游 戏 的 可 玩 性 。 首 先 ， 玩 家 对 着 中 无 限 点 点 点 的 游 戏 ， 肯 定 是 耐 心 有 限 的 。 只 要 无 脑 的 合 成 更 高 级 的 炮 台 就 对 了 ， （ 这 是 有 窍 门 的 ， 没 找 到 窍 门 的 话 ， 可 做 不 到 无 脑 点 。 ） 怎 么 样 会 变 得 不 无 脑 呢 ？ 增 加 限 制 。 给 予 一 定 量 的 数 量 方 块 。 或 者 增 加 敌 人 的 等 级 属 性 。 比 如 也 给 敌 人 增 加 上 等 级 ， 只 有 对 应 等 级 的 炮 台 才 能 攻 击 同 样 等 级 的 怪 物 。 所 以 玩 家 就 不 会 一 直 的 堆 炮 台 等 级 。 而 会 想 方 设 法 的 调 整 炮 台 等 级 。 这 样 才 符 合 方 圆 大 战 嘛 ！ 现 在 的 游 戏 只 能 叫 做 ， 《 方 块 吊 打 圆 球 》 _ ( : 3 」 ∠ ##❀ ) [SEP],[CLS] » 一 款 创 新 的 解 谜 益 智 单 机 小 游 戏 我 们 需 要 操 控 一 条 小 蛇 ， 吃 光 关 卡 内 的 老 鼠 、 青 蛙 、 螳 螂 、 大 象 、 乌 龟 ， 然 后 走 向 太 极 门 你 觉 得 很 简 单 吗 ？ 不 ， 大 错 特 错 撞 墙 无 法 移 动 会 死 吃 动 物 的 方 式 不 对 会 死 头 尾 相 对 会 死 既 然 是 解 谜 游 戏 当 然 不 会 那 么 容 易 让 你 通 过 了 先 从 游 戏 名 字 入 手 ， [UNK] 蛇 它 虫 [UNK] ， [UNK] 蛇 [UNK] 即 是 字 面 上 的 意 思 ， 而 [UNK] 它 虫 [UNK] 也 是 作 者 巧 妙 的 采 取 了 拆 字 并 反 转 的 手 法 ， 将 [UNK] 蛇 [UNK] 字 拆 成 了 [UNK] 虫 [UNK] 和 [UNK] 它 [UNK] ， 反 转 之 后 就 是 [UNK] 它 [UNK] 和 [UNK] 虫 [UNK] ， 这 样 的 名 字 使 游 戏 更 具 亮 点 ， 同 时 脱 去 了 单 一 [UNK] 蛇 [UNK] 字 为 名 的 无 味 游 戏 采 用 了 国 画 的 艺 术 画 风 以 及 剪 纸 艺 术 的 质 感 ， 让 人 一 见 钟 情 、 爱 不 释 [SEP],[CLS] 关 网 开 飞 行 模 式 可 关 闭 广 告 这 游 戏 的 宣 传 图 做 的 确 实 尼 玛 精 致 作 为 一 名 堡 垒 之 夜 的 大 ( men ##g ) 佬 ( xi ##n ) 我 一 眼 就 认 出 了 好 多 角 色 ， 最 吸 引 我 的 是 这 游 戏 居 然 有 黑 骑 士 的 盾 牌 ？ 😂 试 玩 了 一 下 后 ， 感 觉 这 游 戏 做 的 还 可 以 ， 被 大 佬 虐 多 了 可 以 去 玩 玩 这 款 游 戏 。 但 最 尼 玛 坑 的 是 这 游 戏 里 的 角 色 根 本 跟 宣 传 图 没 啥 关 系 😂 在 房 子 里 的 视 角 还 行 ， 勉 强 能 接 受 怎 么 说 ， 玩 一 款 游 戏 你 要 多 发 现 它 的 优 点 玩 完 后 ， 你 就 会 觉 得 * * * 是 一 件 难 事 了 。 [SEP],[CLS] 诶 嘿 ， 看 了 看 评 论 于 是 乎 有 了 看 看 这 游 戏 有 多 腊 鸡 的 心 态 下 了 游 戏 玩 了 一 关 。 。 。 嗯 。 。 。 客 观 点 （ 这 真 的 是 优 点 ！ ！ ！ ） ， 操 作 手 感 极 其 流 畅 ， 瞄 准 顺 滑 ， 动 作 顺 畅 ， 画 面 流 畅 度 可 以 堪 比 广 告 衔 接 流 畅 度 ， 甚 至 吊 打 mc 的 流 畅 度 （ 众 所 周 知 mc 瞄 准 啥 的 的 确 有 时 候 不 咋 流 畅 ， 毕 竟 游 戏 本 来 就 是 这 样 做 的 ） ！ 就 不 说 神 奇 的 地 图 和 长 得 不 像 方 块 人 的 敌 人 了 ， 反 正 我 mc 没 见 过 头 比 身 体 大 的 方 块 人 ， 甚 至 我 可 以 清 晰 看 到 敌 人 眼 睛 里 那 诡 异 的 光 。 。 。 那 么 我 高 糊 的 mc 哪 儿 去 了 。 。 。 b ##gm ? 抱 歉 没 开 声 音 ， 我 怕 我 耳 朵 聋 了 。 每 当 我 瞄 准 敌 人 开 枪 时 ， 我 发 现 我 的 臂 力 感 人 到 可 以 无 后 座 ， 按 [SEP]\n",
              "y: CategoryList\n",
              "1,0,1,0,0\n",
              "Path: .;\n",
              "\n",
              "Test: None>"
            ]
          },
          "metadata": {
            "tags": []
          },
          "execution_count": 42
        }
      ]
    },
    {
      "cell_type": "code",
      "metadata": {
        "id": "AVsyxJlk6V6V",
        "colab_type": "code",
        "colab": {}
      },
      "source": [
        "databunch.save(path/'taptap_databunch.pkl')"
      ],
      "execution_count": 0,
      "outputs": []
    },
    {
      "cell_type": "markdown",
      "metadata": {
        "id": "jZwaPnf25TkK",
        "colab_type": "text"
      },
      "source": [
        "##Model"
      ]
    },
    {
      "cell_type": "code",
      "metadata": {
        "id": "ErDffwsU4kJP",
        "colab_type": "code",
        "colab": {
          "base_uri": "https://localhost:8080/",
          "height": 72
        },
        "outputId": "e14ef47c-362d-4783-f7af-aae8683dabd9"
      },
      "source": [
        "bert_model = torch.hub.load('huggingface/pytorch-pretrained-BERT', \n",
        "                            'bertForSequenceClassification', \n",
        "                             config.bert_model_name, \n",
        "                             num_labels=config.num_labels)"
      ],
      "execution_count": 43,
      "outputs": [
        {
          "output_type": "stream",
          "text": [
            "Downloading: \"https://github.com/huggingface/pytorch-pretrained-BERT/archive/master.zip\" to /root/.cache/torch/hub/master.zip\n",
            "100%|██████████| 382072689/382072689 [00:08<00:00, 43928159.77B/s]\n"
          ],
          "name": "stderr"
        }
      ]
    },
    {
      "cell_type": "code",
      "metadata": {
        "id": "79s7zgem5rXa",
        "colab_type": "code",
        "colab": {
          "base_uri": "https://localhost:8080/",
          "height": 1000
        },
        "outputId": "7381cab9-e5f4-4076-9e72-8d8161be3164"
      },
      "source": [
        "#模型结构复杂，但不妨碍使用\n",
        "bert_model.eval()"
      ],
      "execution_count": 46,
      "outputs": [
        {
          "output_type": "execute_result",
          "data": {
            "text/plain": [
              "BertForSequenceClassification(\n",
              "  (bert): BertModel(\n",
              "    (embeddings): BertEmbeddings(\n",
              "      (word_embeddings): Embedding(21128, 768, padding_idx=0)\n",
              "      (position_embeddings): Embedding(512, 768)\n",
              "      (token_type_embeddings): Embedding(2, 768)\n",
              "      (LayerNorm): BertLayerNorm()\n",
              "      (dropout): Dropout(p=0.1)\n",
              "    )\n",
              "    (encoder): BertEncoder(\n",
              "      (layer): ModuleList(\n",
              "        (0): BertLayer(\n",
              "          (attention): BertAttention(\n",
              "            (self): BertSelfAttention(\n",
              "              (query): Linear(in_features=768, out_features=768, bias=True)\n",
              "              (key): Linear(in_features=768, out_features=768, bias=True)\n",
              "              (value): Linear(in_features=768, out_features=768, bias=True)\n",
              "              (dropout): Dropout(p=0.1)\n",
              "            )\n",
              "            (output): BertSelfOutput(\n",
              "              (dense): Linear(in_features=768, out_features=768, bias=True)\n",
              "              (LayerNorm): BertLayerNorm()\n",
              "              (dropout): Dropout(p=0.1)\n",
              "            )\n",
              "          )\n",
              "          (intermediate): BertIntermediate(\n",
              "            (dense): Linear(in_features=768, out_features=3072, bias=True)\n",
              "          )\n",
              "          (output): BertOutput(\n",
              "            (dense): Linear(in_features=3072, out_features=768, bias=True)\n",
              "            (LayerNorm): BertLayerNorm()\n",
              "            (dropout): Dropout(p=0.1)\n",
              "          )\n",
              "        )\n",
              "        (1): BertLayer(\n",
              "          (attention): BertAttention(\n",
              "            (self): BertSelfAttention(\n",
              "              (query): Linear(in_features=768, out_features=768, bias=True)\n",
              "              (key): Linear(in_features=768, out_features=768, bias=True)\n",
              "              (value): Linear(in_features=768, out_features=768, bias=True)\n",
              "              (dropout): Dropout(p=0.1)\n",
              "            )\n",
              "            (output): BertSelfOutput(\n",
              "              (dense): Linear(in_features=768, out_features=768, bias=True)\n",
              "              (LayerNorm): BertLayerNorm()\n",
              "              (dropout): Dropout(p=0.1)\n",
              "            )\n",
              "          )\n",
              "          (intermediate): BertIntermediate(\n",
              "            (dense): Linear(in_features=768, out_features=3072, bias=True)\n",
              "          )\n",
              "          (output): BertOutput(\n",
              "            (dense): Linear(in_features=3072, out_features=768, bias=True)\n",
              "            (LayerNorm): BertLayerNorm()\n",
              "            (dropout): Dropout(p=0.1)\n",
              "          )\n",
              "        )\n",
              "        (2): BertLayer(\n",
              "          (attention): BertAttention(\n",
              "            (self): BertSelfAttention(\n",
              "              (query): Linear(in_features=768, out_features=768, bias=True)\n",
              "              (key): Linear(in_features=768, out_features=768, bias=True)\n",
              "              (value): Linear(in_features=768, out_features=768, bias=True)\n",
              "              (dropout): Dropout(p=0.1)\n",
              "            )\n",
              "            (output): BertSelfOutput(\n",
              "              (dense): Linear(in_features=768, out_features=768, bias=True)\n",
              "              (LayerNorm): BertLayerNorm()\n",
              "              (dropout): Dropout(p=0.1)\n",
              "            )\n",
              "          )\n",
              "          (intermediate): BertIntermediate(\n",
              "            (dense): Linear(in_features=768, out_features=3072, bias=True)\n",
              "          )\n",
              "          (output): BertOutput(\n",
              "            (dense): Linear(in_features=3072, out_features=768, bias=True)\n",
              "            (LayerNorm): BertLayerNorm()\n",
              "            (dropout): Dropout(p=0.1)\n",
              "          )\n",
              "        )\n",
              "        (3): BertLayer(\n",
              "          (attention): BertAttention(\n",
              "            (self): BertSelfAttention(\n",
              "              (query): Linear(in_features=768, out_features=768, bias=True)\n",
              "              (key): Linear(in_features=768, out_features=768, bias=True)\n",
              "              (value): Linear(in_features=768, out_features=768, bias=True)\n",
              "              (dropout): Dropout(p=0.1)\n",
              "            )\n",
              "            (output): BertSelfOutput(\n",
              "              (dense): Linear(in_features=768, out_features=768, bias=True)\n",
              "              (LayerNorm): BertLayerNorm()\n",
              "              (dropout): Dropout(p=0.1)\n",
              "            )\n",
              "          )\n",
              "          (intermediate): BertIntermediate(\n",
              "            (dense): Linear(in_features=768, out_features=3072, bias=True)\n",
              "          )\n",
              "          (output): BertOutput(\n",
              "            (dense): Linear(in_features=3072, out_features=768, bias=True)\n",
              "            (LayerNorm): BertLayerNorm()\n",
              "            (dropout): Dropout(p=0.1)\n",
              "          )\n",
              "        )\n",
              "        (4): BertLayer(\n",
              "          (attention): BertAttention(\n",
              "            (self): BertSelfAttention(\n",
              "              (query): Linear(in_features=768, out_features=768, bias=True)\n",
              "              (key): Linear(in_features=768, out_features=768, bias=True)\n",
              "              (value): Linear(in_features=768, out_features=768, bias=True)\n",
              "              (dropout): Dropout(p=0.1)\n",
              "            )\n",
              "            (output): BertSelfOutput(\n",
              "              (dense): Linear(in_features=768, out_features=768, bias=True)\n",
              "              (LayerNorm): BertLayerNorm()\n",
              "              (dropout): Dropout(p=0.1)\n",
              "            )\n",
              "          )\n",
              "          (intermediate): BertIntermediate(\n",
              "            (dense): Linear(in_features=768, out_features=3072, bias=True)\n",
              "          )\n",
              "          (output): BertOutput(\n",
              "            (dense): Linear(in_features=3072, out_features=768, bias=True)\n",
              "            (LayerNorm): BertLayerNorm()\n",
              "            (dropout): Dropout(p=0.1)\n",
              "          )\n",
              "        )\n",
              "        (5): BertLayer(\n",
              "          (attention): BertAttention(\n",
              "            (self): BertSelfAttention(\n",
              "              (query): Linear(in_features=768, out_features=768, bias=True)\n",
              "              (key): Linear(in_features=768, out_features=768, bias=True)\n",
              "              (value): Linear(in_features=768, out_features=768, bias=True)\n",
              "              (dropout): Dropout(p=0.1)\n",
              "            )\n",
              "            (output): BertSelfOutput(\n",
              "              (dense): Linear(in_features=768, out_features=768, bias=True)\n",
              "              (LayerNorm): BertLayerNorm()\n",
              "              (dropout): Dropout(p=0.1)\n",
              "            )\n",
              "          )\n",
              "          (intermediate): BertIntermediate(\n",
              "            (dense): Linear(in_features=768, out_features=3072, bias=True)\n",
              "          )\n",
              "          (output): BertOutput(\n",
              "            (dense): Linear(in_features=3072, out_features=768, bias=True)\n",
              "            (LayerNorm): BertLayerNorm()\n",
              "            (dropout): Dropout(p=0.1)\n",
              "          )\n",
              "        )\n",
              "        (6): BertLayer(\n",
              "          (attention): BertAttention(\n",
              "            (self): BertSelfAttention(\n",
              "              (query): Linear(in_features=768, out_features=768, bias=True)\n",
              "              (key): Linear(in_features=768, out_features=768, bias=True)\n",
              "              (value): Linear(in_features=768, out_features=768, bias=True)\n",
              "              (dropout): Dropout(p=0.1)\n",
              "            )\n",
              "            (output): BertSelfOutput(\n",
              "              (dense): Linear(in_features=768, out_features=768, bias=True)\n",
              "              (LayerNorm): BertLayerNorm()\n",
              "              (dropout): Dropout(p=0.1)\n",
              "            )\n",
              "          )\n",
              "          (intermediate): BertIntermediate(\n",
              "            (dense): Linear(in_features=768, out_features=3072, bias=True)\n",
              "          )\n",
              "          (output): BertOutput(\n",
              "            (dense): Linear(in_features=3072, out_features=768, bias=True)\n",
              "            (LayerNorm): BertLayerNorm()\n",
              "            (dropout): Dropout(p=0.1)\n",
              "          )\n",
              "        )\n",
              "        (7): BertLayer(\n",
              "          (attention): BertAttention(\n",
              "            (self): BertSelfAttention(\n",
              "              (query): Linear(in_features=768, out_features=768, bias=True)\n",
              "              (key): Linear(in_features=768, out_features=768, bias=True)\n",
              "              (value): Linear(in_features=768, out_features=768, bias=True)\n",
              "              (dropout): Dropout(p=0.1)\n",
              "            )\n",
              "            (output): BertSelfOutput(\n",
              "              (dense): Linear(in_features=768, out_features=768, bias=True)\n",
              "              (LayerNorm): BertLayerNorm()\n",
              "              (dropout): Dropout(p=0.1)\n",
              "            )\n",
              "          )\n",
              "          (intermediate): BertIntermediate(\n",
              "            (dense): Linear(in_features=768, out_features=3072, bias=True)\n",
              "          )\n",
              "          (output): BertOutput(\n",
              "            (dense): Linear(in_features=3072, out_features=768, bias=True)\n",
              "            (LayerNorm): BertLayerNorm()\n",
              "            (dropout): Dropout(p=0.1)\n",
              "          )\n",
              "        )\n",
              "        (8): BertLayer(\n",
              "          (attention): BertAttention(\n",
              "            (self): BertSelfAttention(\n",
              "              (query): Linear(in_features=768, out_features=768, bias=True)\n",
              "              (key): Linear(in_features=768, out_features=768, bias=True)\n",
              "              (value): Linear(in_features=768, out_features=768, bias=True)\n",
              "              (dropout): Dropout(p=0.1)\n",
              "            )\n",
              "            (output): BertSelfOutput(\n",
              "              (dense): Linear(in_features=768, out_features=768, bias=True)\n",
              "              (LayerNorm): BertLayerNorm()\n",
              "              (dropout): Dropout(p=0.1)\n",
              "            )\n",
              "          )\n",
              "          (intermediate): BertIntermediate(\n",
              "            (dense): Linear(in_features=768, out_features=3072, bias=True)\n",
              "          )\n",
              "          (output): BertOutput(\n",
              "            (dense): Linear(in_features=3072, out_features=768, bias=True)\n",
              "            (LayerNorm): BertLayerNorm()\n",
              "            (dropout): Dropout(p=0.1)\n",
              "          )\n",
              "        )\n",
              "        (9): BertLayer(\n",
              "          (attention): BertAttention(\n",
              "            (self): BertSelfAttention(\n",
              "              (query): Linear(in_features=768, out_features=768, bias=True)\n",
              "              (key): Linear(in_features=768, out_features=768, bias=True)\n",
              "              (value): Linear(in_features=768, out_features=768, bias=True)\n",
              "              (dropout): Dropout(p=0.1)\n",
              "            )\n",
              "            (output): BertSelfOutput(\n",
              "              (dense): Linear(in_features=768, out_features=768, bias=True)\n",
              "              (LayerNorm): BertLayerNorm()\n",
              "              (dropout): Dropout(p=0.1)\n",
              "            )\n",
              "          )\n",
              "          (intermediate): BertIntermediate(\n",
              "            (dense): Linear(in_features=768, out_features=3072, bias=True)\n",
              "          )\n",
              "          (output): BertOutput(\n",
              "            (dense): Linear(in_features=3072, out_features=768, bias=True)\n",
              "            (LayerNorm): BertLayerNorm()\n",
              "            (dropout): Dropout(p=0.1)\n",
              "          )\n",
              "        )\n",
              "        (10): BertLayer(\n",
              "          (attention): BertAttention(\n",
              "            (self): BertSelfAttention(\n",
              "              (query): Linear(in_features=768, out_features=768, bias=True)\n",
              "              (key): Linear(in_features=768, out_features=768, bias=True)\n",
              "              (value): Linear(in_features=768, out_features=768, bias=True)\n",
              "              (dropout): Dropout(p=0.1)\n",
              "            )\n",
              "            (output): BertSelfOutput(\n",
              "              (dense): Linear(in_features=768, out_features=768, bias=True)\n",
              "              (LayerNorm): BertLayerNorm()\n",
              "              (dropout): Dropout(p=0.1)\n",
              "            )\n",
              "          )\n",
              "          (intermediate): BertIntermediate(\n",
              "            (dense): Linear(in_features=768, out_features=3072, bias=True)\n",
              "          )\n",
              "          (output): BertOutput(\n",
              "            (dense): Linear(in_features=3072, out_features=768, bias=True)\n",
              "            (LayerNorm): BertLayerNorm()\n",
              "            (dropout): Dropout(p=0.1)\n",
              "          )\n",
              "        )\n",
              "        (11): BertLayer(\n",
              "          (attention): BertAttention(\n",
              "            (self): BertSelfAttention(\n",
              "              (query): Linear(in_features=768, out_features=768, bias=True)\n",
              "              (key): Linear(in_features=768, out_features=768, bias=True)\n",
              "              (value): Linear(in_features=768, out_features=768, bias=True)\n",
              "              (dropout): Dropout(p=0.1)\n",
              "            )\n",
              "            (output): BertSelfOutput(\n",
              "              (dense): Linear(in_features=768, out_features=768, bias=True)\n",
              "              (LayerNorm): BertLayerNorm()\n",
              "              (dropout): Dropout(p=0.1)\n",
              "            )\n",
              "          )\n",
              "          (intermediate): BertIntermediate(\n",
              "            (dense): Linear(in_features=768, out_features=3072, bias=True)\n",
              "          )\n",
              "          (output): BertOutput(\n",
              "            (dense): Linear(in_features=3072, out_features=768, bias=True)\n",
              "            (LayerNorm): BertLayerNorm()\n",
              "            (dropout): Dropout(p=0.1)\n",
              "          )\n",
              "        )\n",
              "      )\n",
              "    )\n",
              "    (pooler): BertPooler(\n",
              "      (dense): Linear(in_features=768, out_features=768, bias=True)\n",
              "      (activation): Tanh()\n",
              "    )\n",
              "  )\n",
              "  (dropout): Dropout(p=0.1)\n",
              "  (classifier): Linear(in_features=768, out_features=2, bias=True)\n",
              ")"
            ]
          },
          "metadata": {
            "tags": []
          },
          "execution_count": 46
        }
      ]
    },
    {
      "cell_type": "code",
      "metadata": {
        "id": "9IdbsaLV5cFQ",
        "colab_type": "code",
        "colab": {}
      },
      "source": [
        "#Loss function for multiclass problem\n",
        "loss_func = nn.CrossEntropyLoss()"
      ],
      "execution_count": 0,
      "outputs": []
    },
    {
      "cell_type": "code",
      "metadata": {
        "id": "GoKtSvB96QcX",
        "colab_type": "code",
        "colab": {}
      },
      "source": [
        "learner = Learner(\n",
        "    databunch, \n",
        "    bert_model,\n",
        "    loss_func=loss_func,\n",
        "    metrics=[accuracy]\n",
        ")"
      ],
      "execution_count": 0,
      "outputs": []
    },
    {
      "cell_type": "code",
      "metadata": {
        "id": "DkPUv3ng6yMR",
        "colab_type": "code",
        "colab": {
          "base_uri": "https://localhost:8080/",
          "height": 34
        },
        "outputId": "be73c637-ab84-433b-add1-3b41ed6486b4"
      },
      "source": [
        "learner.lr_find()"
      ],
      "execution_count": 51,
      "outputs": [
        {
          "output_type": "display_data",
          "data": {
            "text/html": [
              ""
            ],
            "text/plain": [
              "<IPython.core.display.HTML object>"
            ]
          },
          "metadata": {
            "tags": []
          }
        },
        {
          "output_type": "stream",
          "text": [
            "LR Finder is complete, type {learner_name}.recorder.plot() to see the graph.\n"
          ],
          "name": "stdout"
        }
      ]
    },
    {
      "cell_type": "code",
      "metadata": {
        "id": "hzaQDE6l60-Q",
        "colab_type": "code",
        "colab": {
          "base_uri": "https://localhost:8080/",
          "height": 283
        },
        "outputId": "ec675b9f-a93f-4ae6-da21-851afc845859"
      },
      "source": [
        "learner.recorder.plot(skip_end=20)"
      ],
      "execution_count": 54,
      "outputs": [
        {
          "output_type": "display_data",
          "data": {
            "image/png": "[encoded data removed]",
            "text/plain": [
              "<Figure size 432x288 with 1 Axes>"
            ]
          },
          "metadata": {
            "tags": []
          }
        }
      ]
    },
    {
      "cell_type": "code",
      "metadata": {
        "id": "9ehMQQfu7GAT",
        "colab_type": "code",
        "colab": {
          "base_uri": "https://localhost:8080/",
          "height": 77
        },
        "outputId": "061ef4d1-79c2-484b-ea64-4b0df2d4cd75"
      },
      "source": [
        "#开始训练\n",
        "learner.fit_one_cycle(config.epochs, max_lr=config.max_lr)"
      ],
      "execution_count": 56,
      "outputs": [
        {
          "output_type": "display_data",
          "data": {
            "text/html": [
              "<table border=\"1\" class=\"dataframe\">\n",
              "  <thead>\n",
              "    <tr style=\"text-align: left;\">\n",
              "      <th>epoch</th>\n",
              "      <th>train_loss</th>\n",
              "      <th>valid_loss</th>\n",
              "      <th>accuracy</th>\n",
              "      <th>time</th>\n",
              "    </tr>\n",
              "  </thead>\n",
              "  <tbody>\n",
              "    <tr>\n",
              "      <td>0</td>\n",
              "      <td>0.450950</td>\n",
              "      <td>0.432735</td>\n",
              "      <td>0.804419</td>\n",
              "      <td>05:55</td>\n",
              "    </tr>\n",
              "  </tbody>\n",
              "</table>"
            ],
            "text/plain": [
              "<IPython.core.display.HTML object>"
            ]
          },
          "metadata": {
            "tags": []
          }
        }
      ]
    },
    {
      "cell_type": "markdown",
      "metadata": {
        "id": "bakDtiij9PEZ",
        "colab_type": "text"
      },
      "source": [
        "Bert 官方论文里推荐的学习率是 3e-5，我们第一次训练使用了这个数值，得到准确率 80%。Jeremy 在 fast.ai 里推荐的学习率在最低点的左侧找，结合上图里的学习率曲线，我们在红圈附近微调一下学习率，看看结果如何\n",
        "\n",
        "\n",
        "![尝试不同学习率](https://i.ibb.co/mcxGTpH/Snip20190626-10.png)"
      ]
    },
    {
      "cell_type": "code",
      "metadata": {
        "id": "SGXEa2HwBE4W",
        "colab_type": "code",
        "colab": {}
      },
      "source": [
        "#我尝试了2e-5,训练了5个轮次，得到了更好的结果，训练时间较长，没有放在 presentation 里\n",
        "learner.load(path/'stage_nice')"
      ],
      "execution_count": 0,
      "outputs": []
    },
    {
      "cell_type": "code",
      "metadata": {
        "id": "VE1HZ8l7ESEG",
        "colab_type": "code",
        "colab": {
          "base_uri": "https://localhost:8080/",
          "height": 77
        },
        "outputId": "7be2aeb5-00f2-41b2-ff36-c086e11fa3fb"
      },
      "source": [
        "learner.fit_one_cycle(1, 2e-5)"
      ],
      "execution_count": 61,
      "outputs": [
        {
          "output_type": "display_data",
          "data": {
            "text/html": [
              "<table border=\"1\" class=\"dataframe\">\n",
              "  <thead>\n",
              "    <tr style=\"text-align: left;\">\n",
              "      <th>epoch</th>\n",
              "      <th>train_loss</th>\n",
              "      <th>valid_loss</th>\n",
              "      <th>accuracy</th>\n",
              "      <th>time</th>\n",
              "    </tr>\n",
              "  </thead>\n",
              "  <tbody>\n",
              "    <tr>\n",
              "      <td>0</td>\n",
              "      <td>0.168973</td>\n",
              "      <td>0.153019</td>\n",
              "      <td>0.953355</td>\n",
              "      <td>05:31</td>\n",
              "    </tr>\n",
              "  </tbody>\n",
              "</table>"
            ],
            "text/plain": [
              "<IPython.core.display.HTML object>"
            ]
          },
          "metadata": {
            "tags": []
          }
        }
      ]
    },
    {
      "cell_type": "markdown",
      "metadata": {
        "id": "yf80Rv3OIYKr",
        "colab_type": "text"
      },
      "source": [
        "##Interpretation"
      ]
    },
    {
      "cell_type": "code",
      "metadata": {
        "id": "2kxlskBOEjZm",
        "colab_type": "code",
        "colab": {}
      },
      "source": [
        "intepret = TextClassificationInterpretation.from_learner(learner)"
      ],
      "execution_count": 0,
      "outputs": []
    },
    {
      "cell_type": "code",
      "metadata": {
        "id": "r8CYSFKFGInR",
        "colab_type": "code",
        "colab": {
          "base_uri": "https://localhost:8080/",
          "height": 311
        },
        "outputId": "66721852-fcc6-4089-e39a-03f94c23a095"
      },
      "source": [
        "intepret.plot_confusion_matrix()"
      ],
      "execution_count": 64,
      "outputs": [
        {
          "output_type": "display_data",
          "data": {
            "image/png": "[encoded data removed]",
            "text/plain": [
              "<Figure size 432x288 with 1 Axes>"
            ]
          },
          "metadata": {
            "tags": []
          }
        }
      ]
    },
    {
      "cell_type": "code",
      "metadata": {
        "id": "gzr7TjzvGq3h",
        "colab_type": "code",
        "colab": {
          "base_uri": "https://localhost:8080/",
          "height": 363
        },
        "outputId": "e5a54527-c97b-4582-cd1a-51faa2748f64"
      },
      "source": [
        "intepret.show_top_losses(5)"
      ],
      "execution_count": 70,
      "outputs": [
        {
          "output_type": "display_data",
          "data": {
            "text/html": [
              "<table border=\"1\" class=\"dataframe\">\n",
              "  <thead>\n",
              "    <tr style=\"text-align: right;\">\n",
              "      <th>Text</th>\n",
              "      <th>Prediction</th>\n",
              "      <th>Actual</th>\n",
              "      <th>Loss</th>\n",
              "      <th>Probability</th>\n",
              "    </tr>\n",
              "  </thead>\n",
              "  <tbody>\n",
              "    <tr>\n",
              "      <td>[CLS] 这 游 戏 成 功 让 我 了 解 到 了 什 么 是 真 正 的 脸 皮 厚 ， 名 子 叫 mc ， 进 去 一 看 ， 迷 你 世 界 ？ ， 全 人 机 不 说 ， 广 告 是 什 么 玩 意 啊 ！ 而 且 一 上 来 就 要 钱 ， 说 什 么 强 化 装 备 ？</td>\n",
              "      <td>0</td>\n",
              "      <td>0</td>\n",
              "      <td>5.18</td>\n",
              "      <td>0.99</td>\n",
              "    </tr>\n",
              "    <tr>\n",
              "      <td>[CLS] 我 都 不 好 意 思 打 分 我 手 机 是 oppo 好 吧 让 我 下 载 华 为 的 各 种 软 件 我 忍 了 下 载 了 那 么 久 各 种 乱 七 八 糟 的 东 西 更 新 也 忍 了 打 开 游 戏 那 个 广 告 就 在 正 中 央 不 大 不 小 刚 好 看</td>\n",
              "      <td>0</td>\n",
              "      <td>0</td>\n",
              "      <td>4.45</td>\n",
              "      <td>0.99</td>\n",
              "    </tr>\n",
              "    <tr>\n",
              "      <td>[CLS] 画 风 很 有 意 境 ， 有 国 风 的 感 觉 ， 音 乐 也 还 算 配 ， 只 是 和 评 论 里 说 的 一 样 过 关 时 候 一 声 y ##ea ##h 有 点 不 妥 。 但 这 都 不 是 大 毛 病 ， 游 戏 不 足 在 于 难 度 太 高 ， 不 用 叶 子</td>\n",
              "      <td>0</td>\n",
              "      <td>1</td>\n",
              "      <td>4.44</td>\n",
              "      <td>0.01</td>\n",
              "    </tr>\n",
              "    <tr>\n",
              "      <td>[CLS] 游 戏 体 验 并 不 是 那 么 良 好 ， 开 始 的 时 候 无 故 跳 转 到 乱 七 八 糟 的 小 程 序 ， 卡 顿 了 一 下 就 进 去 了 x 第 一 关 点 重 开 的 时 候 咔 地 闪 退 了 但 是 后 面 的 游 戏 还 是 蛮 顺 畅 的 ，</td>\n",
              "      <td>0</td>\n",
              "      <td>1</td>\n",
              "      <td>4.28</td>\n",
              "      <td>0.01</td>\n",
              "    </tr>\n",
              "    <tr>\n",
              "      <td>[CLS] 好 玩 ， 主 要 是 和 好 友 一 起 玩 挺 有 意 思 的 。 目 前 29 级 零 氪 ， 个 人 感 觉 骗 氪 并 不 严 重 ， 就 是 本 人 强 迫 症 有 点 烦 那 个 红 点 ， 不 氪 金 取 消 不 掉 。 希 望 能 更 丰 富 玩 法 和 技</td>\n",
              "      <td>0</td>\n",
              "      <td>1</td>\n",
              "      <td>3.97</td>\n",
              "      <td>0.02</td>\n",
              "    </tr>\n",
              "  </tbody>\n",
              "</table>"
            ],
            "text/plain": [
              "<IPython.core.display.HTML object>"
            ]
          },
          "metadata": {
            "tags": []
          }
        }
      ]
    },
    {
      "cell_type": "code",
      "metadata": {
        "id": "6vwxT30VHCfl",
        "colab_type": "code",
        "colab": {}
      },
      "source": [
        "test_f = pd.read_csv(path/'weibo_lajieer_test.csv')"
      ],
      "execution_count": 0,
      "outputs": []
    },
    {
      "cell_type": "code",
      "metadata": {
        "id": "sZ-Q-gyyHjaj",
        "colab_type": "code",
        "colab": {
          "base_uri": "https://localhost:8080/",
          "height": 122
        },
        "outputId": "2cca2fdd-8736-44c0-ab4b-bcbb31d70348"
      },
      "source": [
        "test_f.comment.sample(5)"
      ],
      "execution_count": 82,
      "outputs": [
        {
          "output_type": "execute_result",
          "data": {
            "text/plain": [
              "115    #拉结尔#游戏卡顿十分严重。我说的不是战斗过程。而是在城里就卡顿了，而且过场加载都很卡。明显...\n",
              "133    2019年1月2日 星期三丨早报\\n1.网易游戏发行的《风云岛行动》本周四全平台删档二测；\\...\n",
              "163    有一种陪伴叫斗鱼直播，我在主播阿飞的直播间等你，房间名：阿飞）晚上拉结尔商务线下，房间号：8...\n",
              "78                 嗯？ 这个游戏？不就是_________吗\\n#拉结尔##暗黑破坏神# ​\n",
              "160    #卡泠#「卡丹兹我说过多少次了不要去挑衅戒之手们。难道你非让我把你谴送回去么？」泠呀手持拉结...\n",
              "Name: comment, dtype: object"
            ]
          },
          "metadata": {
            "tags": []
          },
          "execution_count": 82
        }
      ]
    },
    {
      "cell_type": "code",
      "metadata": {
        "id": "rQfmp75LIpcV",
        "colab_type": "code",
        "colab": {
          "base_uri": "https://localhost:8080/",
          "height": 34
        },
        "outputId": "9fae630f-65c4-4c1a-bf10-c40397b0c5d4"
      },
      "source": [
        "test_f.shape"
      ],
      "execution_count": 84,
      "outputs": [
        {
          "output_type": "execute_result",
          "data": {
            "text/plain": [
              "(183, 3)"
            ]
          },
          "metadata": {
            "tags": []
          },
          "execution_count": 84
        }
      ]
    },
    {
      "cell_type": "code",
      "metadata": {
        "id": "S5fWhdb8I5BC",
        "colab_type": "code",
        "colab": {
          "base_uri": "https://localhost:8080/",
          "height": 34
        },
        "outputId": "ef5d38c3-cf95-4429-a0cd-410e7cf1ff0a"
      },
      "source": [
        "learner.predict('我出于好奇下载了疼讯的《拉结尔》……我没在意其他，只是发现旁白的声音越听越像掠风者的配音……')"
      ],
      "execution_count": 85,
      "outputs": [
        {
          "output_type": "execute_result",
          "data": {
            "text/plain": [
              "(Category 0, tensor(0), tensor([0.6203, 0.3797]))"
            ]
          },
          "metadata": {
            "tags": []
          },
          "execution_count": 85
        }
      ]
    },
    {
      "cell_type": "code",
      "metadata": {
        "id": "8zqMbwU2JBLB",
        "colab_type": "code",
        "colab": {}
      },
      "source": [
        "def test_pred(txt):\n",
        "  pred = learner.predict(txt)\n",
        "  if '1' in str(pred[0]):\n",
        "    return 'Positive'\n",
        "  else:\n",
        "    return 'Negative'"
      ],
      "execution_count": 0,
      "outputs": []
    },
    {
      "cell_type": "code",
      "metadata": {
        "id": "hdSfoQd5JKwr",
        "colab_type": "code",
        "colab": {}
      },
      "source": [
        "test_f['predictions'] = test_f.comment.apply(test_pred)"
      ],
      "execution_count": 0,
      "outputs": []
    },
    {
      "cell_type": "code",
      "metadata": {
        "id": "bVYjpIzvJS4Y",
        "colab_type": "code",
        "colab": {
          "base_uri": "https://localhost:8080/",
          "height": 122
        },
        "outputId": "2563e072-cdba-4066-d854-1dab8202b0c5"
      },
      "source": [
        "test_f.predictions.head(5)"
      ],
      "execution_count": 91,
      "outputs": [
        {
          "output_type": "execute_result",
          "data": {
            "text/plain": [
              "0    Positive\n",
              "1    Negative\n",
              "2    Negative\n",
              "3    Negative\n",
              "4    Negative\n",
              "Name: predictions, dtype: object"
            ]
          },
          "metadata": {
            "tags": []
          },
          "execution_count": 91
        }
      ]
    },
    {
      "cell_type": "code",
      "metadata": {
        "id": "QglP0RurJeOr",
        "colab_type": "code",
        "colab": {
          "base_uri": "https://localhost:8080/",
          "height": 70
        },
        "outputId": "0277a3e8-af44-4c2b-dbce-756f10a4d9e5"
      },
      "source": [
        "test_f.predictions.value_counts()"
      ],
      "execution_count": 97,
      "outputs": [
        {
          "output_type": "execute_result",
          "data": {
            "text/plain": [
              "Positive    118\n",
              "Negative     65\n",
              "Name: predictions, dtype: int64"
            ]
          },
          "metadata": {
            "tags": []
          },
          "execution_count": 97
        }
      ]
    },
    {
      "cell_type": "code",
      "metadata": {
        "id": "ElCcV2MZKh4G",
        "colab_type": "code",
        "colab": {}
      },
      "source": [
        "ratings = test_f.predictions.value_counts()"
      ],
      "execution_count": 0,
      "outputs": []
    },
    {
      "cell_type": "code",
      "metadata": {
        "id": "KGNY76baJmMC",
        "colab_type": "code",
        "colab": {
          "base_uri": "https://localhost:8080/",
          "height": 34
        },
        "outputId": "6c28f656-da27-4813-e05b-7731cc552579"
      },
      "source": [
        "#在10分的评分体系中的分数\n",
        "rating_value = ratings.iloc[1]/ratings.iloc[0] \n",
        "rating_value*10"
      ],
      "execution_count": 104,
      "outputs": [
        {
          "output_type": "execute_result",
          "data": {
            "text/plain": [
              "5.508474576271186"
            ]
          },
          "metadata": {
            "tags": []
          },
          "execution_count": 104
        }
      ]
    },
    {
      "cell_type": "markdown",
      "metadata": {
        "id": "OpdhTYu8KyXr",
        "colab_type": "text"
      },
      "source": [
        "![拉结尔评分](https://i.ibb.co/R2T0x5y/Snip20190626-13.png)"
      ]
    },
    {
      "cell_type": "code",
      "metadata": {
        "id": "GkjqsMS1KuoS",
        "colab_type": "code",
        "colab": {
          "base_uri": "https://localhost:8080/",
          "height": 34
        },
        "outputId": "a0e50e3c-30de-40e4-a53c-594461e99667"
      },
      "source": [
        "#五星评分体系中的分数，与玩家社区的评分相近\n",
        "rating_to_stars = rating_value*5\n",
        "rating_to_stars"
      ],
      "execution_count": 106,
      "outputs": [
        {
          "output_type": "execute_result",
          "data": {
            "text/plain": [
              "2.754237288135593"
            ]
          },
          "metadata": {
            "tags": []
          },
          "execution_count": 106
        }
      ]
    },
    {
      "cell_type": "markdown",
      "metadata": {
        "id": "ZBj3_yAgMI1U",
        "colab_type": "text"
      },
      "source": [
        "#Why is fast.ai so Awesome? "
      ]
    },
    {
      "cell_type": "markdown",
      "metadata": {
        "id": "I5E_xh_2MQId",
        "colab_type": "text"
      },
      "source": [
        "\n",
        "\n",
        "**自上而下** => **快速上手** => **成果产生动力**\n",
        "\n"
      ]
    },
    {
      "cell_type": "markdown",
      "metadata": {
        "id": "CKjaCos7NIvY",
        "colab_type": "text"
      },
      "source": [
        "###通过短期学习就可以应用 BERT 这样业界先进模型对解决特定领域的问题产生助力。"
      ]
    },
    {
      "cell_type": "markdown",
      "metadata": {
        "id": "RJf3_aRJOtMD",
        "colab_type": "text"
      },
      "source": [
        "###良好的架构方便学习者继续深入，可以进一步发掘深度学习的潜力，为自己的目标任务定制模型。"
      ]
    },
    {
      "cell_type": "markdown",
      "metadata": {
        "id": "2DInQ3k0NkXJ",
        "colab_type": "text"
      },
      "source": [
        "#Thanks to Anne!\n"
      ]
    }
  ]
}